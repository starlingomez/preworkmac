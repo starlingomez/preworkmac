{
  "nbformat": 4,
  "nbformat_minor": 0,
  "metadata": {
    "colab": {
      "provenance": [],
      "authorship_tag": "ABX9TyNy6RzDdIWYPHvk3JyBuYmT",
      "include_colab_link": true
    },
    "kernelspec": {
      "name": "python3",
      "display_name": "Python 3"
    },
    "language_info": {
      "name": "python"
    }
  },
  "cells": [
    {
      "cell_type": "markdown",
      "metadata": {
        "id": "view-in-github",
        "colab_type": "text"
      },
      "source": [
        "<a href=\"https://colab.research.google.com/github/starlingomez/preworkmac/blob/master/Julyth21.ipynb\" target=\"_parent\"><img src=\"https://colab.research.google.com/assets/colab-badge.svg\" alt=\"Open In Colab\"/></a>"
      ]
    },
    {
      "cell_type": "code",
      "execution_count": null,
      "metadata": {
        "id": "FWpWxmSoleOA"
      },
      "outputs": [],
      "source": []
    },
    {
      "cell_type": "code",
      "source": [
        "import pandas as pd\n",
        "import statsmodels.api as sm\n",
        "\n",
        "# Define the data\n",
        "data = {\n",
        "    'LINE': [1.5, -1.5, -1.5, -1.5, 1.5, -1.5, -1.5, 1.5, 1.5, 1.5],\n",
        "    'ODD': [-195, 138, 144, -131, -160, 124, 124, -135, -218, -117],\n",
        "    'TOTAL': [7.5, 9, 9, 8, 7.5, 8.5, 8.5, 9, 9, 7.5],\n",
        "    'STRIKEOUT': [7, 3, 2, 6, 11, 5, 0, 4, 3, 7]\n",
        "}\n",
        "# Create a DataFrame\n",
        "df = pd.DataFrame(data)\n",
        "\n",
        "# Define the independent variables and the dependent variable\n",
        "X = df[['LINE', 'ODD', 'TOTAL']]\n",
        "y = df['STRIKEOUT']\n",
        "\n",
        "# Add a constant to the independent variables\n",
        "X = sm.add_constant(X)\n",
        "\n",
        "# Fit the linear regression model\n",
        "model = sm.OLS(y, X).fit()\n",
        "\n",
        "# Get the summary of the regression\n",
        "summary = model.summary()\n",
        "summary\n"
      ],
      "metadata": {
        "colab": {
          "base_uri": "https://localhost:8080/",
          "height": 554
        },
        "outputId": "b7226357-4fdb-4cb9-dff0-2e233c25fecf",
        "id": "NVc7gS-z6A_C"
      },
      "execution_count": 1,
      "outputs": [
        {
          "output_type": "stream",
          "name": "stderr",
          "text": [
            "/usr/local/lib/python3.10/dist-packages/scipy/stats/_stats_py.py:1806: UserWarning: kurtosistest only valid for n>=20 ... continuing anyway, n=10\n",
            "  warnings.warn(\"kurtosistest only valid for n>=20 ... continuing \"\n"
          ]
        },
        {
          "output_type": "execute_result",
          "data": {
            "text/plain": [
              "<class 'statsmodels.iolib.summary.Summary'>\n",
              "\"\"\"\n",
              "                            OLS Regression Results                            \n",
              "==============================================================================\n",
              "Dep. Variable:              STRIKEOUT   R-squared:                       0.690\n",
              "Model:                            OLS   Adj. R-squared:                  0.535\n",
              "Method:                 Least Squares   F-statistic:                     4.456\n",
              "Date:                Sun, 21 Jul 2024   Prob (F-statistic):             0.0569\n",
              "Time:                        09:25:06   Log-Likelihood:                -19.181\n",
              "No. Observations:                  10   AIC:                             46.36\n",
              "Df Residuals:                       6   BIC:                             47.57\n",
              "Df Model:                           3                                         \n",
              "Covariance Type:            nonrobust                                         \n",
              "==============================================================================\n",
              "                 coef    std err          t      P>|t|      [0.025      0.975]\n",
              "------------------------------------------------------------------------------\n",
              "const         30.1829     10.187      2.963      0.025       5.257      55.109\n",
              "LINE           0.3038      0.825      0.368      0.725      -1.715       2.323\n",
              "ODD           -0.0031      0.009     -0.351      0.738      -0.025       0.019\n",
              "TOTAL         -3.0557      1.204     -2.539      0.044      -6.001      -0.111\n",
              "==============================================================================\n",
              "Omnibus:                        0.687   Durbin-Watson:                   2.063\n",
              "Prob(Omnibus):                  0.709   Jarque-Bera (JB):                0.203\n",
              "Skew:                          -0.327   Prob(JB):                        0.903\n",
              "Kurtosis:                       2.753   Cond. No.                     2.32e+03\n",
              "==============================================================================\n",
              "\n",
              "Notes:\n",
              "[1] Standard Errors assume that the covariance matrix of the errors is correctly specified.\n",
              "[2] The condition number is large, 2.32e+03. This might indicate that there are\n",
              "strong multicollinearity or other numerical problems.\n",
              "\"\"\""
            ],
            "text/html": [
              "<table class=\"simpletable\">\n",
              "<caption>OLS Regression Results</caption>\n",
              "<tr>\n",
              "  <th>Dep. Variable:</th>        <td>STRIKEOUT</td>    <th>  R-squared:         </th> <td>   0.690</td>\n",
              "</tr>\n",
              "<tr>\n",
              "  <th>Model:</th>                   <td>OLS</td>       <th>  Adj. R-squared:    </th> <td>   0.535</td>\n",
              "</tr>\n",
              "<tr>\n",
              "  <th>Method:</th>             <td>Least Squares</td>  <th>  F-statistic:       </th> <td>   4.456</td>\n",
              "</tr>\n",
              "<tr>\n",
              "  <th>Date:</th>             <td>Sun, 21 Jul 2024</td> <th>  Prob (F-statistic):</th>  <td>0.0569</td> \n",
              "</tr>\n",
              "<tr>\n",
              "  <th>Time:</th>                 <td>09:25:06</td>     <th>  Log-Likelihood:    </th> <td> -19.181</td>\n",
              "</tr>\n",
              "<tr>\n",
              "  <th>No. Observations:</th>      <td>    10</td>      <th>  AIC:               </th> <td>   46.36</td>\n",
              "</tr>\n",
              "<tr>\n",
              "  <th>Df Residuals:</th>          <td>     6</td>      <th>  BIC:               </th> <td>   47.57</td>\n",
              "</tr>\n",
              "<tr>\n",
              "  <th>Df Model:</th>              <td>     3</td>      <th>                     </th>     <td> </td>   \n",
              "</tr>\n",
              "<tr>\n",
              "  <th>Covariance Type:</th>      <td>nonrobust</td>    <th>                     </th>     <td> </td>   \n",
              "</tr>\n",
              "</table>\n",
              "<table class=\"simpletable\">\n",
              "<tr>\n",
              "    <td></td>       <th>coef</th>     <th>std err</th>      <th>t</th>      <th>P>|t|</th>  <th>[0.025</th>    <th>0.975]</th>  \n",
              "</tr>\n",
              "<tr>\n",
              "  <th>const</th> <td>   30.1829</td> <td>   10.187</td> <td>    2.963</td> <td> 0.025</td> <td>    5.257</td> <td>   55.109</td>\n",
              "</tr>\n",
              "<tr>\n",
              "  <th>LINE</th>  <td>    0.3038</td> <td>    0.825</td> <td>    0.368</td> <td> 0.725</td> <td>   -1.715</td> <td>    2.323</td>\n",
              "</tr>\n",
              "<tr>\n",
              "  <th>ODD</th>   <td>   -0.0031</td> <td>    0.009</td> <td>   -0.351</td> <td> 0.738</td> <td>   -0.025</td> <td>    0.019</td>\n",
              "</tr>\n",
              "<tr>\n",
              "  <th>TOTAL</th> <td>   -3.0557</td> <td>    1.204</td> <td>   -2.539</td> <td> 0.044</td> <td>   -6.001</td> <td>   -0.111</td>\n",
              "</tr>\n",
              "</table>\n",
              "<table class=\"simpletable\">\n",
              "<tr>\n",
              "  <th>Omnibus:</th>       <td> 0.687</td> <th>  Durbin-Watson:     </th> <td>   2.063</td>\n",
              "</tr>\n",
              "<tr>\n",
              "  <th>Prob(Omnibus):</th> <td> 0.709</td> <th>  Jarque-Bera (JB):  </th> <td>   0.203</td>\n",
              "</tr>\n",
              "<tr>\n",
              "  <th>Skew:</th>          <td>-0.327</td> <th>  Prob(JB):          </th> <td>   0.903</td>\n",
              "</tr>\n",
              "<tr>\n",
              "  <th>Kurtosis:</th>      <td> 2.753</td> <th>  Cond. No.          </th> <td>2.32e+03</td>\n",
              "</tr>\n",
              "</table><br/><br/>Notes:<br/>[1] Standard Errors assume that the covariance matrix of the errors is correctly specified.<br/>[2] The condition number is large, 2.32e+03. This might indicate that there are<br/>strong multicollinearity or other numerical problems."
            ],
            "text/latex": "\\begin{center}\n\\begin{tabular}{lclc}\n\\toprule\n\\textbf{Dep. Variable:}    &    STRIKEOUT     & \\textbf{  R-squared:         } &     0.690   \\\\\n\\textbf{Model:}            &       OLS        & \\textbf{  Adj. R-squared:    } &     0.535   \\\\\n\\textbf{Method:}           &  Least Squares   & \\textbf{  F-statistic:       } &     4.456   \\\\\n\\textbf{Date:}             & Sun, 21 Jul 2024 & \\textbf{  Prob (F-statistic):} &   0.0569    \\\\\n\\textbf{Time:}             &     09:25:06     & \\textbf{  Log-Likelihood:    } &   -19.181   \\\\\n\\textbf{No. Observations:} &          10      & \\textbf{  AIC:               } &     46.36   \\\\\n\\textbf{Df Residuals:}     &           6      & \\textbf{  BIC:               } &     47.57   \\\\\n\\textbf{Df Model:}         &           3      & \\textbf{                     } &             \\\\\n\\textbf{Covariance Type:}  &    nonrobust     & \\textbf{                     } &             \\\\\n\\bottomrule\n\\end{tabular}\n\\begin{tabular}{lcccccc}\n               & \\textbf{coef} & \\textbf{std err} & \\textbf{t} & \\textbf{P$> |$t$|$} & \\textbf{[0.025} & \\textbf{0.975]}  \\\\\n\\midrule\n\\textbf{const} &      30.1829  &       10.187     &     2.963  &         0.025        &        5.257    &       55.109     \\\\\n\\textbf{LINE}  &       0.3038  &        0.825     &     0.368  &         0.725        &       -1.715    &        2.323     \\\\\n\\textbf{ODD}   &      -0.0031  &        0.009     &    -0.351  &         0.738        &       -0.025    &        0.019     \\\\\n\\textbf{TOTAL} &      -3.0557  &        1.204     &    -2.539  &         0.044        &       -6.001    &       -0.111     \\\\\n\\bottomrule\n\\end{tabular}\n\\begin{tabular}{lclc}\n\\textbf{Omnibus:}       &  0.687 & \\textbf{  Durbin-Watson:     } &    2.063  \\\\\n\\textbf{Prob(Omnibus):} &  0.709 & \\textbf{  Jarque-Bera (JB):  } &    0.203  \\\\\n\\textbf{Skew:}          & -0.327 & \\textbf{  Prob(JB):          } &    0.903  \\\\\n\\textbf{Kurtosis:}      &  2.753 & \\textbf{  Cond. No.          } & 2.32e+03  \\\\\n\\bottomrule\n\\end{tabular}\n%\\caption{OLS Regression Results}\n\\end{center}\n\nNotes: \\newline\n [1] Standard Errors assume that the covariance matrix of the errors is correctly specified. \\newline\n [2] The condition number is large, 2.32e+03. This might indicate that there are \\newline\n strong multicollinearity or other numerical problems."
          },
          "metadata": {},
          "execution_count": 1
        }
      ]
    },
    {
      "cell_type": "code",
      "source": [
        "# Define the new data point\n",
        "new_data = {\n",
        "    'const': 1,\n",
        "    'LINE': 1.5,\n",
        "    'ODD': -154,\n",
        "    'TOTAL':8\n",
        "}\n",
        "\n",
        "# Convert the new data point to a DataFrame\n",
        "new_df = pd.DataFrame([new_data])\n",
        "\n",
        "# Predict the total strikeout using the model\n",
        "predicted_strikeout = model.predict(new_df)\n",
        "predicted_strikeout\n"
      ],
      "metadata": {
        "colab": {
          "base_uri": "https://localhost:8080/"
        },
        "outputId": "4673f167-cce0-4629-cca7-c66f181f8a2f",
        "id": "LRz_FDEC6S3c"
      },
      "execution_count": 2,
      "outputs": [
        {
          "output_type": "execute_result",
          "data": {
            "text/plain": [
              "0    6.671387\n",
              "dtype: float64"
            ]
          },
          "metadata": {},
          "execution_count": 2
        }
      ]
    },
    {
      "cell_type": "markdown",
      "source": [
        "#VS MIN"
      ],
      "metadata": {
        "id": "33Rd48O9nQWk"
      }
    },
    {
      "cell_type": "code",
      "source": [
        "import pandas as pd\n",
        "import statsmodels.api as sm\n",
        "\n",
        "# Define the data\n",
        "data = {\n",
        "    'LINE': [-1.5, 1.5, 1.5, -1.5, -1.5, -1.5, -1.5, -1.5, -1.5, -1.5],\n",
        "    'ODD': [174, -163, -184, 118, -121, 105, -130, 140, 160, 140],\n",
        "    'TOTAL': [7.5, 7, 7.5, 7.5, 8.5, 8, 9, 9, 7.5, 8],\n",
        "    'STRIKEOUT': [8, 8, 3, 3, 1, 5, 4, 6, 6, 2]\n",
        "}\n",
        "# Create a DataFrame\n",
        "df = pd.DataFrame(data)\n",
        "\n",
        "# Define the independent variables and the dependent variable\n",
        "X = df[['LINE', 'ODD', 'TOTAL']]\n",
        "y = df['STRIKEOUT']\n",
        "\n",
        "# Add a constant to the independent variables\n",
        "X = sm.add_constant(X)\n",
        "\n",
        "# Fit the linear regression model\n",
        "model = sm.OLS(y, X).fit()\n",
        "\n",
        "# Get the summary of the regression\n",
        "summary = model.summary()\n",
        "summary\n"
      ],
      "metadata": {
        "colab": {
          "base_uri": "https://localhost:8080/",
          "height": 554
        },
        "outputId": "b7226357-4fdb-4cb9-dff0-2e233c25fecf",
        "id": "_4tZnAV8nVMU"
      },
      "execution_count": null,
      "outputs": [
        {
          "output_type": "stream",
          "name": "stderr",
          "text": [
            "/usr/local/lib/python3.10/dist-packages/scipy/stats/_stats_py.py:1806: UserWarning: kurtosistest only valid for n>=20 ... continuing anyway, n=10\n",
            "  warnings.warn(\"kurtosistest only valid for n>=20 ... continuing \"\n"
          ]
        },
        {
          "output_type": "execute_result",
          "data": {
            "text/plain": [
              "<class 'statsmodels.iolib.summary.Summary'>\n",
              "\"\"\"\n",
              "                            OLS Regression Results                            \n",
              "==============================================================================\n",
              "Dep. Variable:              STRIKEOUT   R-squared:                       0.690\n",
              "Model:                            OLS   Adj. R-squared:                  0.535\n",
              "Method:                 Least Squares   F-statistic:                     4.456\n",
              "Date:                Sun, 21 Jul 2024   Prob (F-statistic):             0.0569\n",
              "Time:                        09:25:06   Log-Likelihood:                -19.181\n",
              "No. Observations:                  10   AIC:                             46.36\n",
              "Df Residuals:                       6   BIC:                             47.57\n",
              "Df Model:                           3                                         \n",
              "Covariance Type:            nonrobust                                         \n",
              "==============================================================================\n",
              "                 coef    std err          t      P>|t|      [0.025      0.975]\n",
              "------------------------------------------------------------------------------\n",
              "const         30.1829     10.187      2.963      0.025       5.257      55.109\n",
              "LINE           0.3038      0.825      0.368      0.725      -1.715       2.323\n",
              "ODD           -0.0031      0.009     -0.351      0.738      -0.025       0.019\n",
              "TOTAL         -3.0557      1.204     -2.539      0.044      -6.001      -0.111\n",
              "==============================================================================\n",
              "Omnibus:                        0.687   Durbin-Watson:                   2.063\n",
              "Prob(Omnibus):                  0.709   Jarque-Bera (JB):                0.203\n",
              "Skew:                          -0.327   Prob(JB):                        0.903\n",
              "Kurtosis:                       2.753   Cond. No.                     2.32e+03\n",
              "==============================================================================\n",
              "\n",
              "Notes:\n",
              "[1] Standard Errors assume that the covariance matrix of the errors is correctly specified.\n",
              "[2] The condition number is large, 2.32e+03. This might indicate that there are\n",
              "strong multicollinearity or other numerical problems.\n",
              "\"\"\""
            ],
            "text/html": [
              "<table class=\"simpletable\">\n",
              "<caption>OLS Regression Results</caption>\n",
              "<tr>\n",
              "  <th>Dep. Variable:</th>        <td>STRIKEOUT</td>    <th>  R-squared:         </th> <td>   0.690</td>\n",
              "</tr>\n",
              "<tr>\n",
              "  <th>Model:</th>                   <td>OLS</td>       <th>  Adj. R-squared:    </th> <td>   0.535</td>\n",
              "</tr>\n",
              "<tr>\n",
              "  <th>Method:</th>             <td>Least Squares</td>  <th>  F-statistic:       </th> <td>   4.456</td>\n",
              "</tr>\n",
              "<tr>\n",
              "  <th>Date:</th>             <td>Sun, 21 Jul 2024</td> <th>  Prob (F-statistic):</th>  <td>0.0569</td> \n",
              "</tr>\n",
              "<tr>\n",
              "  <th>Time:</th>                 <td>09:25:06</td>     <th>  Log-Likelihood:    </th> <td> -19.181</td>\n",
              "</tr>\n",
              "<tr>\n",
              "  <th>No. Observations:</th>      <td>    10</td>      <th>  AIC:               </th> <td>   46.36</td>\n",
              "</tr>\n",
              "<tr>\n",
              "  <th>Df Residuals:</th>          <td>     6</td>      <th>  BIC:               </th> <td>   47.57</td>\n",
              "</tr>\n",
              "<tr>\n",
              "  <th>Df Model:</th>              <td>     3</td>      <th>                     </th>     <td> </td>   \n",
              "</tr>\n",
              "<tr>\n",
              "  <th>Covariance Type:</th>      <td>nonrobust</td>    <th>                     </th>     <td> </td>   \n",
              "</tr>\n",
              "</table>\n",
              "<table class=\"simpletable\">\n",
              "<tr>\n",
              "    <td></td>       <th>coef</th>     <th>std err</th>      <th>t</th>      <th>P>|t|</th>  <th>[0.025</th>    <th>0.975]</th>  \n",
              "</tr>\n",
              "<tr>\n",
              "  <th>const</th> <td>   30.1829</td> <td>   10.187</td> <td>    2.963</td> <td> 0.025</td> <td>    5.257</td> <td>   55.109</td>\n",
              "</tr>\n",
              "<tr>\n",
              "  <th>LINE</th>  <td>    0.3038</td> <td>    0.825</td> <td>    0.368</td> <td> 0.725</td> <td>   -1.715</td> <td>    2.323</td>\n",
              "</tr>\n",
              "<tr>\n",
              "  <th>ODD</th>   <td>   -0.0031</td> <td>    0.009</td> <td>   -0.351</td> <td> 0.738</td> <td>   -0.025</td> <td>    0.019</td>\n",
              "</tr>\n",
              "<tr>\n",
              "  <th>TOTAL</th> <td>   -3.0557</td> <td>    1.204</td> <td>   -2.539</td> <td> 0.044</td> <td>   -6.001</td> <td>   -0.111</td>\n",
              "</tr>\n",
              "</table>\n",
              "<table class=\"simpletable\">\n",
              "<tr>\n",
              "  <th>Omnibus:</th>       <td> 0.687</td> <th>  Durbin-Watson:     </th> <td>   2.063</td>\n",
              "</tr>\n",
              "<tr>\n",
              "  <th>Prob(Omnibus):</th> <td> 0.709</td> <th>  Jarque-Bera (JB):  </th> <td>   0.203</td>\n",
              "</tr>\n",
              "<tr>\n",
              "  <th>Skew:</th>          <td>-0.327</td> <th>  Prob(JB):          </th> <td>   0.903</td>\n",
              "</tr>\n",
              "<tr>\n",
              "  <th>Kurtosis:</th>      <td> 2.753</td> <th>  Cond. No.          </th> <td>2.32e+03</td>\n",
              "</tr>\n",
              "</table><br/><br/>Notes:<br/>[1] Standard Errors assume that the covariance matrix of the errors is correctly specified.<br/>[2] The condition number is large, 2.32e+03. This might indicate that there are<br/>strong multicollinearity or other numerical problems."
            ],
            "text/latex": "\\begin{center}\n\\begin{tabular}{lclc}\n\\toprule\n\\textbf{Dep. Variable:}    &    STRIKEOUT     & \\textbf{  R-squared:         } &     0.690   \\\\\n\\textbf{Model:}            &       OLS        & \\textbf{  Adj. R-squared:    } &     0.535   \\\\\n\\textbf{Method:}           &  Least Squares   & \\textbf{  F-statistic:       } &     4.456   \\\\\n\\textbf{Date:}             & Sun, 21 Jul 2024 & \\textbf{  Prob (F-statistic):} &   0.0569    \\\\\n\\textbf{Time:}             &     09:25:06     & \\textbf{  Log-Likelihood:    } &   -19.181   \\\\\n\\textbf{No. Observations:} &          10      & \\textbf{  AIC:               } &     46.36   \\\\\n\\textbf{Df Residuals:}     &           6      & \\textbf{  BIC:               } &     47.57   \\\\\n\\textbf{Df Model:}         &           3      & \\textbf{                     } &             \\\\\n\\textbf{Covariance Type:}  &    nonrobust     & \\textbf{                     } &             \\\\\n\\bottomrule\n\\end{tabular}\n\\begin{tabular}{lcccccc}\n               & \\textbf{coef} & \\textbf{std err} & \\textbf{t} & \\textbf{P$> |$t$|$} & \\textbf{[0.025} & \\textbf{0.975]}  \\\\\n\\midrule\n\\textbf{const} &      30.1829  &       10.187     &     2.963  &         0.025        &        5.257    &       55.109     \\\\\n\\textbf{LINE}  &       0.3038  &        0.825     &     0.368  &         0.725        &       -1.715    &        2.323     \\\\\n\\textbf{ODD}   &      -0.0031  &        0.009     &    -0.351  &         0.738        &       -0.025    &        0.019     \\\\\n\\textbf{TOTAL} &      -3.0557  &        1.204     &    -2.539  &         0.044        &       -6.001    &       -0.111     \\\\\n\\bottomrule\n\\end{tabular}\n\\begin{tabular}{lclc}\n\\textbf{Omnibus:}       &  0.687 & \\textbf{  Durbin-Watson:     } &    2.063  \\\\\n\\textbf{Prob(Omnibus):} &  0.709 & \\textbf{  Jarque-Bera (JB):  } &    0.203  \\\\\n\\textbf{Skew:}          & -0.327 & \\textbf{  Prob(JB):          } &    0.903  \\\\\n\\textbf{Kurtosis:}      &  2.753 & \\textbf{  Cond. No.          } & 2.32e+03  \\\\\n\\bottomrule\n\\end{tabular}\n%\\caption{OLS Regression Results}\n\\end{center}\n\nNotes: \\newline\n [1] Standard Errors assume that the covariance matrix of the errors is correctly specified. \\newline\n [2] The condition number is large, 2.32e+03. This might indicate that there are \\newline\n strong multicollinearity or other numerical problems."
          },
          "metadata": {},
          "execution_count": 1
        }
      ]
    },
    {
      "cell_type": "code",
      "source": [],
      "metadata": {
        "id": "mQC_hxd6obLV"
      },
      "execution_count": null,
      "outputs": []
    },
    {
      "cell_type": "code",
      "source": [
        "# Define the new data point\n",
        "new_data = {\n",
        "    'const': 1,\n",
        "    'LINE': -1.5,\n",
        "    'ODD': 139,\n",
        "    'TOTAL':8\n",
        "}\n",
        "\n",
        "# Convert the new data point to a DataFrame\n",
        "new_df = pd.DataFrame([new_data])\n",
        "\n",
        "# Predict the total strikeout using the model\n",
        "predicted_strikeout = model.predict(new_df)\n",
        "predicted_strikeout\n"
      ],
      "metadata": {
        "colab": {
          "base_uri": "https://localhost:8080/"
        },
        "outputId": "02814b7d-324d-4168-b4d7-2b3ea08bd335",
        "id": "l8XcknEQobZ5"
      },
      "execution_count": 3,
      "outputs": [
        {
          "output_type": "execute_result",
          "data": {
            "text/plain": [
              "0    4.849456\n",
              "dtype: float64"
            ]
          },
          "metadata": {},
          "execution_count": 3
        }
      ]
    },
    {
      "cell_type": "markdown",
      "source": [
        "#VS WAS"
      ],
      "metadata": {
        "id": "Il9bSj1vpaRq"
      }
    },
    {
      "cell_type": "code",
      "source": [],
      "metadata": {
        "id": "nPmEGP8ppb0A"
      },
      "execution_count": null,
      "outputs": []
    },
    {
      "cell_type": "code",
      "source": [
        "import pandas as pd\n",
        "import statsmodels.api as sm\n",
        "\n",
        "# Define the data\n",
        "data = {\n",
        "    'LINE': [-1.5, 1.5, 1.5, 1.5, 1.5, 1.5, 1.5, 1.5, -1.5, 1.5],\n",
        "    'ODD': [204, -142, -158, -164, 119, -164, -115, -170, 176, -170],\n",
        "    'TOTAL': [8, 9.5, 9, 9, 8, 8.5, 9.5, 8.5, 9, 9],\n",
        "    'STRIKEOUT': [8, 3, 1, 2, 6, 5, 4, 5, 3, 8]\n",
        "}\n",
        "# Create a DataFrame\n",
        "df = pd.DataFrame(data)\n",
        "\n",
        "# Define the independent variables and the dependent variable\n",
        "X = df[['LINE', 'ODD', 'TOTAL']]\n",
        "y = df['STRIKEOUT']\n",
        "\n",
        "# Add a constant to the independent variables\n",
        "X = sm.add_constant(X)\n",
        "\n",
        "# Fit the linear regression model\n",
        "model = sm.OLS(y, X).fit()\n",
        "\n",
        "# Get the summary of the regression\n",
        "summary = model.summary()\n",
        "summary\n"
      ],
      "metadata": {
        "colab": {
          "base_uri": "https://localhost:8080/",
          "height": 554
        },
        "outputId": "26df291a-7e85-49f0-8331-d52fcf5b0e27",
        "id": "GfsIH54DpedL"
      },
      "execution_count": 4,
      "outputs": [
        {
          "output_type": "stream",
          "name": "stderr",
          "text": [
            "/usr/local/lib/python3.10/dist-packages/scipy/stats/_stats_py.py:1806: UserWarning: kurtosistest only valid for n>=20 ... continuing anyway, n=10\n",
            "  warnings.warn(\"kurtosistest only valid for n>=20 ... continuing \"\n"
          ]
        },
        {
          "output_type": "execute_result",
          "data": {
            "text/plain": [
              "<class 'statsmodels.iolib.summary.Summary'>\n",
              "\"\"\"\n",
              "                            OLS Regression Results                            \n",
              "==============================================================================\n",
              "Dep. Variable:              STRIKEOUT   R-squared:                       0.326\n",
              "Model:                            OLS   Adj. R-squared:                 -0.011\n",
              "Method:                 Least Squares   F-statistic:                    0.9668\n",
              "Date:                Sun, 21 Jul 2024   Prob (F-statistic):              0.467\n",
              "Time:                        09:36:40   Log-Likelihood:                -20.315\n",
              "No. Observations:                  10   AIC:                             48.63\n",
              "Df Residuals:                       6   BIC:                             49.84\n",
              "Df Model:                           3                                         \n",
              "Covariance Type:            nonrobust                                         \n",
              "==============================================================================\n",
              "                 coef    std err          t      P>|t|      [0.025      0.975]\n",
              "------------------------------------------------------------------------------\n",
              "const         26.6057     16.109      1.652      0.150     -12.810      66.022\n",
              "LINE          -0.1924      1.191     -0.162      0.877      -3.106       2.721\n",
              "ODD           -0.0008      0.011     -0.079      0.940      -0.027       0.026\n",
              "TOTAL         -2.4980      1.828     -1.367      0.221      -6.970       1.974\n",
              "==============================================================================\n",
              "Omnibus:                        1.886   Durbin-Watson:                   1.450\n",
              "Prob(Omnibus):                  0.390   Jarque-Bera (JB):                0.477\n",
              "Skew:                           0.531   Prob(JB):                        0.788\n",
              "Kurtosis:                       3.126   Cond. No.                     3.45e+03\n",
              "==============================================================================\n",
              "\n",
              "Notes:\n",
              "[1] Standard Errors assume that the covariance matrix of the errors is correctly specified.\n",
              "[2] The condition number is large, 3.45e+03. This might indicate that there are\n",
              "strong multicollinearity or other numerical problems.\n",
              "\"\"\""
            ],
            "text/html": [
              "<table class=\"simpletable\">\n",
              "<caption>OLS Regression Results</caption>\n",
              "<tr>\n",
              "  <th>Dep. Variable:</th>        <td>STRIKEOUT</td>    <th>  R-squared:         </th> <td>   0.326</td>\n",
              "</tr>\n",
              "<tr>\n",
              "  <th>Model:</th>                   <td>OLS</td>       <th>  Adj. R-squared:    </th> <td>  -0.011</td>\n",
              "</tr>\n",
              "<tr>\n",
              "  <th>Method:</th>             <td>Least Squares</td>  <th>  F-statistic:       </th> <td>  0.9668</td>\n",
              "</tr>\n",
              "<tr>\n",
              "  <th>Date:</th>             <td>Sun, 21 Jul 2024</td> <th>  Prob (F-statistic):</th>  <td> 0.467</td> \n",
              "</tr>\n",
              "<tr>\n",
              "  <th>Time:</th>                 <td>09:36:40</td>     <th>  Log-Likelihood:    </th> <td> -20.315</td>\n",
              "</tr>\n",
              "<tr>\n",
              "  <th>No. Observations:</th>      <td>    10</td>      <th>  AIC:               </th> <td>   48.63</td>\n",
              "</tr>\n",
              "<tr>\n",
              "  <th>Df Residuals:</th>          <td>     6</td>      <th>  BIC:               </th> <td>   49.84</td>\n",
              "</tr>\n",
              "<tr>\n",
              "  <th>Df Model:</th>              <td>     3</td>      <th>                     </th>     <td> </td>   \n",
              "</tr>\n",
              "<tr>\n",
              "  <th>Covariance Type:</th>      <td>nonrobust</td>    <th>                     </th>     <td> </td>   \n",
              "</tr>\n",
              "</table>\n",
              "<table class=\"simpletable\">\n",
              "<tr>\n",
              "    <td></td>       <th>coef</th>     <th>std err</th>      <th>t</th>      <th>P>|t|</th>  <th>[0.025</th>    <th>0.975]</th>  \n",
              "</tr>\n",
              "<tr>\n",
              "  <th>const</th> <td>   26.6057</td> <td>   16.109</td> <td>    1.652</td> <td> 0.150</td> <td>  -12.810</td> <td>   66.022</td>\n",
              "</tr>\n",
              "<tr>\n",
              "  <th>LINE</th>  <td>   -0.1924</td> <td>    1.191</td> <td>   -0.162</td> <td> 0.877</td> <td>   -3.106</td> <td>    2.721</td>\n",
              "</tr>\n",
              "<tr>\n",
              "  <th>ODD</th>   <td>   -0.0008</td> <td>    0.011</td> <td>   -0.079</td> <td> 0.940</td> <td>   -0.027</td> <td>    0.026</td>\n",
              "</tr>\n",
              "<tr>\n",
              "  <th>TOTAL</th> <td>   -2.4980</td> <td>    1.828</td> <td>   -1.367</td> <td> 0.221</td> <td>   -6.970</td> <td>    1.974</td>\n",
              "</tr>\n",
              "</table>\n",
              "<table class=\"simpletable\">\n",
              "<tr>\n",
              "  <th>Omnibus:</th>       <td> 1.886</td> <th>  Durbin-Watson:     </th> <td>   1.450</td>\n",
              "</tr>\n",
              "<tr>\n",
              "  <th>Prob(Omnibus):</th> <td> 0.390</td> <th>  Jarque-Bera (JB):  </th> <td>   0.477</td>\n",
              "</tr>\n",
              "<tr>\n",
              "  <th>Skew:</th>          <td> 0.531</td> <th>  Prob(JB):          </th> <td>   0.788</td>\n",
              "</tr>\n",
              "<tr>\n",
              "  <th>Kurtosis:</th>      <td> 3.126</td> <th>  Cond. No.          </th> <td>3.45e+03</td>\n",
              "</tr>\n",
              "</table><br/><br/>Notes:<br/>[1] Standard Errors assume that the covariance matrix of the errors is correctly specified.<br/>[2] The condition number is large, 3.45e+03. This might indicate that there are<br/>strong multicollinearity or other numerical problems."
            ],
            "text/latex": "\\begin{center}\n\\begin{tabular}{lclc}\n\\toprule\n\\textbf{Dep. Variable:}    &    STRIKEOUT     & \\textbf{  R-squared:         } &     0.326   \\\\\n\\textbf{Model:}            &       OLS        & \\textbf{  Adj. R-squared:    } &    -0.011   \\\\\n\\textbf{Method:}           &  Least Squares   & \\textbf{  F-statistic:       } &    0.9668   \\\\\n\\textbf{Date:}             & Sun, 21 Jul 2024 & \\textbf{  Prob (F-statistic):} &    0.467    \\\\\n\\textbf{Time:}             &     09:36:40     & \\textbf{  Log-Likelihood:    } &   -20.315   \\\\\n\\textbf{No. Observations:} &          10      & \\textbf{  AIC:               } &     48.63   \\\\\n\\textbf{Df Residuals:}     &           6      & \\textbf{  BIC:               } &     49.84   \\\\\n\\textbf{Df Model:}         &           3      & \\textbf{                     } &             \\\\\n\\textbf{Covariance Type:}  &    nonrobust     & \\textbf{                     } &             \\\\\n\\bottomrule\n\\end{tabular}\n\\begin{tabular}{lcccccc}\n               & \\textbf{coef} & \\textbf{std err} & \\textbf{t} & \\textbf{P$> |$t$|$} & \\textbf{[0.025} & \\textbf{0.975]}  \\\\\n\\midrule\n\\textbf{const} &      26.6057  &       16.109     &     1.652  &         0.150        &      -12.810    &       66.022     \\\\\n\\textbf{LINE}  &      -0.1924  &        1.191     &    -0.162  &         0.877        &       -3.106    &        2.721     \\\\\n\\textbf{ODD}   &      -0.0008  &        0.011     &    -0.079  &         0.940        &       -0.027    &        0.026     \\\\\n\\textbf{TOTAL} &      -2.4980  &        1.828     &    -1.367  &         0.221        &       -6.970    &        1.974     \\\\\n\\bottomrule\n\\end{tabular}\n\\begin{tabular}{lclc}\n\\textbf{Omnibus:}       &  1.886 & \\textbf{  Durbin-Watson:     } &    1.450  \\\\\n\\textbf{Prob(Omnibus):} &  0.390 & \\textbf{  Jarque-Bera (JB):  } &    0.477  \\\\\n\\textbf{Skew:}          &  0.531 & \\textbf{  Prob(JB):          } &    0.788  \\\\\n\\textbf{Kurtosis:}      &  3.126 & \\textbf{  Cond. No.          } & 3.45e+03  \\\\\n\\bottomrule\n\\end{tabular}\n%\\caption{OLS Regression Results}\n\\end{center}\n\nNotes: \\newline\n [1] Standard Errors assume that the covariance matrix of the errors is correctly specified. \\newline\n [2] The condition number is large, 3.45e+03. This might indicate that there are \\newline\n strong multicollinearity or other numerical problems."
          },
          "metadata": {},
          "execution_count": 4
        }
      ]
    },
    {
      "cell_type": "code",
      "source": [
        "# Define the new data point\n",
        "new_data = {\n",
        "    'const': 1,\n",
        "    'LINE': -1.5,\n",
        "    'ODD': 175,\n",
        "    'TOTAL':9\n",
        "}\n",
        "\n",
        "# Convert the new data point to a DataFrame\n",
        "new_df = pd.DataFrame([new_data])\n",
        "\n",
        "# Predict the total strikeout using the model\n",
        "predicted_strikeout = model.predict(new_df)\n",
        "predicted_strikeout\n"
      ],
      "metadata": {
        "colab": {
          "base_uri": "https://localhost:8080/"
        },
        "outputId": "4cc4e026-e6fa-41b1-b77f-a9e5a392c4c4",
        "id": "EdoorS6yph_0"
      },
      "execution_count": 5,
      "outputs": [
        {
          "output_type": "execute_result",
          "data": {
            "text/plain": [
              "0    4.26376\n",
              "dtype: float64"
            ]
          },
          "metadata": {},
          "execution_count": 5
        }
      ]
    },
    {
      "cell_type": "markdown",
      "source": [
        "#VS ATL"
      ],
      "metadata": {
        "id": "FLoockHaqEyn"
      }
    },
    {
      "cell_type": "code",
      "source": [],
      "metadata": {
        "id": "Frx6xTJaqHVH"
      },
      "execution_count": null,
      "outputs": []
    },
    {
      "cell_type": "code",
      "source": [
        "import pandas as pd\n",
        "import statsmodels.api as sm\n",
        "\n",
        "# Define the data\n",
        "data = {\n",
        "    'LINE': [1.5, -1.5, -1.5, 1.5, 1.5, -1.5, -1.5, -1.5, -1.5, -1.5],\n",
        "    'ODD': [-157, 151, 106, -189, -215, 143, 156, 145, 140, 130],\n",
        "    'TOTAL': [8.5, 8, 7, 7, 8, 8, 9, 7.5, 9, 8],\n",
        "    'STRIKEOUT': [6, 10, 5, 11, 1, 4, 3, 4, 5, 1]\n",
        "}\n",
        "# Create a DataFrame\n",
        "df = pd.DataFrame(data)\n",
        "\n",
        "# Define the independent variables and the dependent variable\n",
        "X = df[['LINE', 'ODD', 'TOTAL']]\n",
        "y = df['STRIKEOUT']\n",
        "\n",
        "# Add a constant to the independent variables\n",
        "X = sm.add_constant(X)\n",
        "\n",
        "# Fit the linear regression model\n",
        "model = sm.OLS(y, X).fit()\n",
        "\n",
        "# Get the summary of the regression\n",
        "summary = model.summary()\n",
        "summary\n"
      ],
      "metadata": {
        "colab": {
          "base_uri": "https://localhost:8080/",
          "height": 554
        },
        "outputId": "dc6855ac-c562-4c4e-d31a-d592853ee7cb",
        "id": "VAS_tFtLrFFU"
      },
      "execution_count": 6,
      "outputs": [
        {
          "output_type": "stream",
          "name": "stderr",
          "text": [
            "/usr/local/lib/python3.10/dist-packages/scipy/stats/_stats_py.py:1806: UserWarning: kurtosistest only valid for n>=20 ... continuing anyway, n=10\n",
            "  warnings.warn(\"kurtosistest only valid for n>=20 ... continuing \"\n"
          ]
        },
        {
          "output_type": "execute_result",
          "data": {
            "text/plain": [
              "<class 'statsmodels.iolib.summary.Summary'>\n",
              "\"\"\"\n",
              "                            OLS Regression Results                            \n",
              "==============================================================================\n",
              "Dep. Variable:              STRIKEOUT   R-squared:                       0.451\n",
              "Model:                            OLS   Adj. R-squared:                  0.176\n",
              "Method:                 Least Squares   F-statistic:                     1.640\n",
              "Date:                Sun, 21 Jul 2024   Prob (F-statistic):              0.277\n",
              "Time:                        09:44:23   Log-Likelihood:                -22.708\n",
              "No. Observations:                  10   AIC:                             53.42\n",
              "Df Residuals:                       6   BIC:                             54.63\n",
              "Df Model:                           3                                         \n",
              "Covariance Type:            nonrobust                                         \n",
              "==============================================================================\n",
              "                 coef    std err          t      P>|t|      [0.025      0.975]\n",
              "------------------------------------------------------------------------------\n",
              "const         33.1611     14.541      2.280      0.063      -2.420      68.743\n",
              "LINE          12.7805      6.706      1.906      0.105      -3.628      29.189\n",
              "ODD            0.1156      0.062      1.862      0.112      -0.036       0.268\n",
              "TOTAL         -3.1542      1.715     -1.839      0.116      -7.352       1.043\n",
              "==============================================================================\n",
              "Omnibus:                        1.670   Durbin-Watson:                   2.464\n",
              "Prob(Omnibus):                  0.434   Jarque-Bera (JB):                0.906\n",
              "Skew:                           0.365   Prob(JB):                        0.636\n",
              "Kurtosis:                       1.719   Cond. No.                     2.48e+03\n",
              "==============================================================================\n",
              "\n",
              "Notes:\n",
              "[1] Standard Errors assume that the covariance matrix of the errors is correctly specified.\n",
              "[2] The condition number is large, 2.48e+03. This might indicate that there are\n",
              "strong multicollinearity or other numerical problems.\n",
              "\"\"\""
            ],
            "text/html": [
              "<table class=\"simpletable\">\n",
              "<caption>OLS Regression Results</caption>\n",
              "<tr>\n",
              "  <th>Dep. Variable:</th>        <td>STRIKEOUT</td>    <th>  R-squared:         </th> <td>   0.451</td>\n",
              "</tr>\n",
              "<tr>\n",
              "  <th>Model:</th>                   <td>OLS</td>       <th>  Adj. R-squared:    </th> <td>   0.176</td>\n",
              "</tr>\n",
              "<tr>\n",
              "  <th>Method:</th>             <td>Least Squares</td>  <th>  F-statistic:       </th> <td>   1.640</td>\n",
              "</tr>\n",
              "<tr>\n",
              "  <th>Date:</th>             <td>Sun, 21 Jul 2024</td> <th>  Prob (F-statistic):</th>  <td> 0.277</td> \n",
              "</tr>\n",
              "<tr>\n",
              "  <th>Time:</th>                 <td>09:44:23</td>     <th>  Log-Likelihood:    </th> <td> -22.708</td>\n",
              "</tr>\n",
              "<tr>\n",
              "  <th>No. Observations:</th>      <td>    10</td>      <th>  AIC:               </th> <td>   53.42</td>\n",
              "</tr>\n",
              "<tr>\n",
              "  <th>Df Residuals:</th>          <td>     6</td>      <th>  BIC:               </th> <td>   54.63</td>\n",
              "</tr>\n",
              "<tr>\n",
              "  <th>Df Model:</th>              <td>     3</td>      <th>                     </th>     <td> </td>   \n",
              "</tr>\n",
              "<tr>\n",
              "  <th>Covariance Type:</th>      <td>nonrobust</td>    <th>                     </th>     <td> </td>   \n",
              "</tr>\n",
              "</table>\n",
              "<table class=\"simpletable\">\n",
              "<tr>\n",
              "    <td></td>       <th>coef</th>     <th>std err</th>      <th>t</th>      <th>P>|t|</th>  <th>[0.025</th>    <th>0.975]</th>  \n",
              "</tr>\n",
              "<tr>\n",
              "  <th>const</th> <td>   33.1611</td> <td>   14.541</td> <td>    2.280</td> <td> 0.063</td> <td>   -2.420</td> <td>   68.743</td>\n",
              "</tr>\n",
              "<tr>\n",
              "  <th>LINE</th>  <td>   12.7805</td> <td>    6.706</td> <td>    1.906</td> <td> 0.105</td> <td>   -3.628</td> <td>   29.189</td>\n",
              "</tr>\n",
              "<tr>\n",
              "  <th>ODD</th>   <td>    0.1156</td> <td>    0.062</td> <td>    1.862</td> <td> 0.112</td> <td>   -0.036</td> <td>    0.268</td>\n",
              "</tr>\n",
              "<tr>\n",
              "  <th>TOTAL</th> <td>   -3.1542</td> <td>    1.715</td> <td>   -1.839</td> <td> 0.116</td> <td>   -7.352</td> <td>    1.043</td>\n",
              "</tr>\n",
              "</table>\n",
              "<table class=\"simpletable\">\n",
              "<tr>\n",
              "  <th>Omnibus:</th>       <td> 1.670</td> <th>  Durbin-Watson:     </th> <td>   2.464</td>\n",
              "</tr>\n",
              "<tr>\n",
              "  <th>Prob(Omnibus):</th> <td> 0.434</td> <th>  Jarque-Bera (JB):  </th> <td>   0.906</td>\n",
              "</tr>\n",
              "<tr>\n",
              "  <th>Skew:</th>          <td> 0.365</td> <th>  Prob(JB):          </th> <td>   0.636</td>\n",
              "</tr>\n",
              "<tr>\n",
              "  <th>Kurtosis:</th>      <td> 1.719</td> <th>  Cond. No.          </th> <td>2.48e+03</td>\n",
              "</tr>\n",
              "</table><br/><br/>Notes:<br/>[1] Standard Errors assume that the covariance matrix of the errors is correctly specified.<br/>[2] The condition number is large, 2.48e+03. This might indicate that there are<br/>strong multicollinearity or other numerical problems."
            ],
            "text/latex": "\\begin{center}\n\\begin{tabular}{lclc}\n\\toprule\n\\textbf{Dep. Variable:}    &    STRIKEOUT     & \\textbf{  R-squared:         } &     0.451   \\\\\n\\textbf{Model:}            &       OLS        & \\textbf{  Adj. R-squared:    } &     0.176   \\\\\n\\textbf{Method:}           &  Least Squares   & \\textbf{  F-statistic:       } &     1.640   \\\\\n\\textbf{Date:}             & Sun, 21 Jul 2024 & \\textbf{  Prob (F-statistic):} &    0.277    \\\\\n\\textbf{Time:}             &     09:44:23     & \\textbf{  Log-Likelihood:    } &   -22.708   \\\\\n\\textbf{No. Observations:} &          10      & \\textbf{  AIC:               } &     53.42   \\\\\n\\textbf{Df Residuals:}     &           6      & \\textbf{  BIC:               } &     54.63   \\\\\n\\textbf{Df Model:}         &           3      & \\textbf{                     } &             \\\\\n\\textbf{Covariance Type:}  &    nonrobust     & \\textbf{                     } &             \\\\\n\\bottomrule\n\\end{tabular}\n\\begin{tabular}{lcccccc}\n               & \\textbf{coef} & \\textbf{std err} & \\textbf{t} & \\textbf{P$> |$t$|$} & \\textbf{[0.025} & \\textbf{0.975]}  \\\\\n\\midrule\n\\textbf{const} &      33.1611  &       14.541     &     2.280  &         0.063        &       -2.420    &       68.743     \\\\\n\\textbf{LINE}  &      12.7805  &        6.706     &     1.906  &         0.105        &       -3.628    &       29.189     \\\\\n\\textbf{ODD}   &       0.1156  &        0.062     &     1.862  &         0.112        &       -0.036    &        0.268     \\\\\n\\textbf{TOTAL} &      -3.1542  &        1.715     &    -1.839  &         0.116        &       -7.352    &        1.043     \\\\\n\\bottomrule\n\\end{tabular}\n\\begin{tabular}{lclc}\n\\textbf{Omnibus:}       &  1.670 & \\textbf{  Durbin-Watson:     } &    2.464  \\\\\n\\textbf{Prob(Omnibus):} &  0.434 & \\textbf{  Jarque-Bera (JB):  } &    0.906  \\\\\n\\textbf{Skew:}          &  0.365 & \\textbf{  Prob(JB):          } &    0.636  \\\\\n\\textbf{Kurtosis:}      &  1.719 & \\textbf{  Cond. No.          } & 2.48e+03  \\\\\n\\bottomrule\n\\end{tabular}\n%\\caption{OLS Regression Results}\n\\end{center}\n\nNotes: \\newline\n [1] Standard Errors assume that the covariance matrix of the errors is correctly specified. \\newline\n [2] The condition number is large, 2.48e+03. This might indicate that there are \\newline\n strong multicollinearity or other numerical problems."
          },
          "metadata": {},
          "execution_count": 6
        }
      ]
    },
    {
      "cell_type": "code",
      "source": [
        "# Define the new data point\n",
        "new_data = {\n",
        "    'const': 1,\n",
        "    'LINE': -1.5,\n",
        "    'ODD': 140,\n",
        "    'TOTAL':8.5\n",
        "}\n",
        "\n",
        "# Convert the new data point to a DataFrame\n",
        "new_df = pd.DataFrame([new_data])\n",
        "\n",
        "# Predict the total strikeout using the model\n",
        "predicted_strikeout = model.predict(new_df)\n",
        "predicted_strikeout\n"
      ],
      "metadata": {
        "colab": {
          "base_uri": "https://localhost:8080/"
        },
        "outputId": "1321bb5a-387e-4782-f31f-c5457fd25767",
        "id": "qd2ipAMDrIlh"
      },
      "execution_count": 7,
      "outputs": [
        {
          "output_type": "execute_result",
          "data": {
            "text/plain": [
              "0    3.36829\n",
              "dtype: float64"
            ]
          },
          "metadata": {},
          "execution_count": 7
        }
      ]
    },
    {
      "cell_type": "markdown",
      "source": [
        "#VS TB"
      ],
      "metadata": {
        "id": "WdpHUTDAroKs"
      }
    },
    {
      "cell_type": "code",
      "source": [],
      "metadata": {
        "id": "_Q52lrkrrqht"
      },
      "execution_count": null,
      "outputs": []
    },
    {
      "cell_type": "code",
      "source": [
        "import pandas as pd\n",
        "import statsmodels.api as sm\n",
        "\n",
        "# Define the data\n",
        "data = {\n",
        "    'LINE': [1.5, -1.5, -1.5, 1.5, 1.5, -1.5, -1.5, -1.5, -1.5, -1.5],\n",
        "    'ODD': [-157, 151, 106, -189, -215, 143, 156, 145, 140, 130],\n",
        "    'TOTAL': [8.5, 8, 7, 7, 8, 8, 9, 7.5, 9, 8],\n",
        "    'STRIKEOUT': [6, 10, 5, 11, 1, 4, 3, 4, 5, 1]\n",
        "}\n",
        "# Create a DataFrame\n",
        "df = pd.DataFrame(data)\n",
        "\n",
        "# Define the independent variables and the dependent variable\n",
        "X = df[['LINE', 'ODD', 'TOTAL']]\n",
        "y = df['STRIKEOUT']\n",
        "\n",
        "# Add a constant to the independent variables\n",
        "X = sm.add_constant(X)\n",
        "\n",
        "# Fit the linear regression model\n",
        "model = sm.OLS(y, X).fit()\n",
        "\n",
        "# Get the summary of the regression\n",
        "summary = model.summary()\n",
        "summary\n"
      ],
      "metadata": {
        "colab": {
          "base_uri": "https://localhost:8080/",
          "height": 554
        },
        "outputId": "dc6855ac-c562-4c4e-d31a-d592853ee7cb",
        "id": "DTChQnVIrvFs"
      },
      "execution_count": null,
      "outputs": [
        {
          "output_type": "stream",
          "name": "stderr",
          "text": [
            "/usr/local/lib/python3.10/dist-packages/scipy/stats/_stats_py.py:1806: UserWarning: kurtosistest only valid for n>=20 ... continuing anyway, n=10\n",
            "  warnings.warn(\"kurtosistest only valid for n>=20 ... continuing \"\n"
          ]
        },
        {
          "output_type": "execute_result",
          "data": {
            "text/plain": [
              "<class 'statsmodels.iolib.summary.Summary'>\n",
              "\"\"\"\n",
              "                            OLS Regression Results                            \n",
              "==============================================================================\n",
              "Dep. Variable:              STRIKEOUT   R-squared:                       0.451\n",
              "Model:                            OLS   Adj. R-squared:                  0.176\n",
              "Method:                 Least Squares   F-statistic:                     1.640\n",
              "Date:                Sun, 21 Jul 2024   Prob (F-statistic):              0.277\n",
              "Time:                        09:44:23   Log-Likelihood:                -22.708\n",
              "No. Observations:                  10   AIC:                             53.42\n",
              "Df Residuals:                       6   BIC:                             54.63\n",
              "Df Model:                           3                                         \n",
              "Covariance Type:            nonrobust                                         \n",
              "==============================================================================\n",
              "                 coef    std err          t      P>|t|      [0.025      0.975]\n",
              "------------------------------------------------------------------------------\n",
              "const         33.1611     14.541      2.280      0.063      -2.420      68.743\n",
              "LINE          12.7805      6.706      1.906      0.105      -3.628      29.189\n",
              "ODD            0.1156      0.062      1.862      0.112      -0.036       0.268\n",
              "TOTAL         -3.1542      1.715     -1.839      0.116      -7.352       1.043\n",
              "==============================================================================\n",
              "Omnibus:                        1.670   Durbin-Watson:                   2.464\n",
              "Prob(Omnibus):                  0.434   Jarque-Bera (JB):                0.906\n",
              "Skew:                           0.365   Prob(JB):                        0.636\n",
              "Kurtosis:                       1.719   Cond. No.                     2.48e+03\n",
              "==============================================================================\n",
              "\n",
              "Notes:\n",
              "[1] Standard Errors assume that the covariance matrix of the errors is correctly specified.\n",
              "[2] The condition number is large, 2.48e+03. This might indicate that there are\n",
              "strong multicollinearity or other numerical problems.\n",
              "\"\"\""
            ],
            "text/html": [
              "<table class=\"simpletable\">\n",
              "<caption>OLS Regression Results</caption>\n",
              "<tr>\n",
              "  <th>Dep. Variable:</th>        <td>STRIKEOUT</td>    <th>  R-squared:         </th> <td>   0.451</td>\n",
              "</tr>\n",
              "<tr>\n",
              "  <th>Model:</th>                   <td>OLS</td>       <th>  Adj. R-squared:    </th> <td>   0.176</td>\n",
              "</tr>\n",
              "<tr>\n",
              "  <th>Method:</th>             <td>Least Squares</td>  <th>  F-statistic:       </th> <td>   1.640</td>\n",
              "</tr>\n",
              "<tr>\n",
              "  <th>Date:</th>             <td>Sun, 21 Jul 2024</td> <th>  Prob (F-statistic):</th>  <td> 0.277</td> \n",
              "</tr>\n",
              "<tr>\n",
              "  <th>Time:</th>                 <td>09:44:23</td>     <th>  Log-Likelihood:    </th> <td> -22.708</td>\n",
              "</tr>\n",
              "<tr>\n",
              "  <th>No. Observations:</th>      <td>    10</td>      <th>  AIC:               </th> <td>   53.42</td>\n",
              "</tr>\n",
              "<tr>\n",
              "  <th>Df Residuals:</th>          <td>     6</td>      <th>  BIC:               </th> <td>   54.63</td>\n",
              "</tr>\n",
              "<tr>\n",
              "  <th>Df Model:</th>              <td>     3</td>      <th>                     </th>     <td> </td>   \n",
              "</tr>\n",
              "<tr>\n",
              "  <th>Covariance Type:</th>      <td>nonrobust</td>    <th>                     </th>     <td> </td>   \n",
              "</tr>\n",
              "</table>\n",
              "<table class=\"simpletable\">\n",
              "<tr>\n",
              "    <td></td>       <th>coef</th>     <th>std err</th>      <th>t</th>      <th>P>|t|</th>  <th>[0.025</th>    <th>0.975]</th>  \n",
              "</tr>\n",
              "<tr>\n",
              "  <th>const</th> <td>   33.1611</td> <td>   14.541</td> <td>    2.280</td> <td> 0.063</td> <td>   -2.420</td> <td>   68.743</td>\n",
              "</tr>\n",
              "<tr>\n",
              "  <th>LINE</th>  <td>   12.7805</td> <td>    6.706</td> <td>    1.906</td> <td> 0.105</td> <td>   -3.628</td> <td>   29.189</td>\n",
              "</tr>\n",
              "<tr>\n",
              "  <th>ODD</th>   <td>    0.1156</td> <td>    0.062</td> <td>    1.862</td> <td> 0.112</td> <td>   -0.036</td> <td>    0.268</td>\n",
              "</tr>\n",
              "<tr>\n",
              "  <th>TOTAL</th> <td>   -3.1542</td> <td>    1.715</td> <td>   -1.839</td> <td> 0.116</td> <td>   -7.352</td> <td>    1.043</td>\n",
              "</tr>\n",
              "</table>\n",
              "<table class=\"simpletable\">\n",
              "<tr>\n",
              "  <th>Omnibus:</th>       <td> 1.670</td> <th>  Durbin-Watson:     </th> <td>   2.464</td>\n",
              "</tr>\n",
              "<tr>\n",
              "  <th>Prob(Omnibus):</th> <td> 0.434</td> <th>  Jarque-Bera (JB):  </th> <td>   0.906</td>\n",
              "</tr>\n",
              "<tr>\n",
              "  <th>Skew:</th>          <td> 0.365</td> <th>  Prob(JB):          </th> <td>   0.636</td>\n",
              "</tr>\n",
              "<tr>\n",
              "  <th>Kurtosis:</th>      <td> 1.719</td> <th>  Cond. No.          </th> <td>2.48e+03</td>\n",
              "</tr>\n",
              "</table><br/><br/>Notes:<br/>[1] Standard Errors assume that the covariance matrix of the errors is correctly specified.<br/>[2] The condition number is large, 2.48e+03. This might indicate that there are<br/>strong multicollinearity or other numerical problems."
            ],
            "text/latex": "\\begin{center}\n\\begin{tabular}{lclc}\n\\toprule\n\\textbf{Dep. Variable:}    &    STRIKEOUT     & \\textbf{  R-squared:         } &     0.451   \\\\\n\\textbf{Model:}            &       OLS        & \\textbf{  Adj. R-squared:    } &     0.176   \\\\\n\\textbf{Method:}           &  Least Squares   & \\textbf{  F-statistic:       } &     1.640   \\\\\n\\textbf{Date:}             & Sun, 21 Jul 2024 & \\textbf{  Prob (F-statistic):} &    0.277    \\\\\n\\textbf{Time:}             &     09:44:23     & \\textbf{  Log-Likelihood:    } &   -22.708   \\\\\n\\textbf{No. Observations:} &          10      & \\textbf{  AIC:               } &     53.42   \\\\\n\\textbf{Df Residuals:}     &           6      & \\textbf{  BIC:               } &     54.63   \\\\\n\\textbf{Df Model:}         &           3      & \\textbf{                     } &             \\\\\n\\textbf{Covariance Type:}  &    nonrobust     & \\textbf{                     } &             \\\\\n\\bottomrule\n\\end{tabular}\n\\begin{tabular}{lcccccc}\n               & \\textbf{coef} & \\textbf{std err} & \\textbf{t} & \\textbf{P$> |$t$|$} & \\textbf{[0.025} & \\textbf{0.975]}  \\\\\n\\midrule\n\\textbf{const} &      33.1611  &       14.541     &     2.280  &         0.063        &       -2.420    &       68.743     \\\\\n\\textbf{LINE}  &      12.7805  &        6.706     &     1.906  &         0.105        &       -3.628    &       29.189     \\\\\n\\textbf{ODD}   &       0.1156  &        0.062     &     1.862  &         0.112        &       -0.036    &        0.268     \\\\\n\\textbf{TOTAL} &      -3.1542  &        1.715     &    -1.839  &         0.116        &       -7.352    &        1.043     \\\\\n\\bottomrule\n\\end{tabular}\n\\begin{tabular}{lclc}\n\\textbf{Omnibus:}       &  1.670 & \\textbf{  Durbin-Watson:     } &    2.464  \\\\\n\\textbf{Prob(Omnibus):} &  0.434 & \\textbf{  Jarque-Bera (JB):  } &    0.906  \\\\\n\\textbf{Skew:}          &  0.365 & \\textbf{  Prob(JB):          } &    0.636  \\\\\n\\textbf{Kurtosis:}      &  1.719 & \\textbf{  Cond. No.          } & 2.48e+03  \\\\\n\\bottomrule\n\\end{tabular}\n%\\caption{OLS Regression Results}\n\\end{center}\n\nNotes: \\newline\n [1] Standard Errors assume that the covariance matrix of the errors is correctly specified. \\newline\n [2] The condition number is large, 2.48e+03. This might indicate that there are \\newline\n strong multicollinearity or other numerical problems."
          },
          "metadata": {},
          "execution_count": 6
        }
      ]
    },
    {
      "cell_type": "markdown",
      "source": [
        "#VS TB"
      ],
      "metadata": {
        "id": "WtRPGAlJsdXV"
      }
    },
    {
      "cell_type": "code",
      "source": [],
      "metadata": {
        "id": "YEkYgU4Gsfxw"
      },
      "execution_count": null,
      "outputs": []
    },
    {
      "cell_type": "code",
      "source": [
        "import pandas as pd\n",
        "import statsmodels.api as sm\n",
        "\n",
        "# Define the data\n",
        "data = {\n",
        "    'LINE': [1.5, 1.5, -1.5, 1.5, -1.5, 1.5, -1.5, 1.5, 1.5, -1.5],\n",
        "    'ODD': [-142, -150, 170, -177, 155, -165, 177, -166, -190, 155],\n",
        "    'TOTAL': [8.5, 8, 7.5, 7.5, 7.5, 8, 8, 7.5, 8, 7.5],\n",
        "    'STRIKEOUT': [1, 8, 7, 2, 3, 4, 2, 5, 5, 7]\n",
        "}\n",
        "# Create a DataFrame\n",
        "df = pd.DataFrame(data)\n",
        "\n",
        "# Define the independent variables and the dependent variable\n",
        "X = df[['LINE', 'ODD', 'TOTAL']]\n",
        "y = df['STRIKEOUT']\n",
        "\n",
        "# Add a constant to the independent variables\n",
        "X = sm.add_constant(X)\n",
        "\n",
        "# Fit the linear regression model\n",
        "model = sm.OLS(y, X).fit()\n",
        "\n",
        "# Get the summary of the regression\n",
        "summary = model.summary()\n",
        "summary\n"
      ],
      "metadata": {
        "colab": {
          "base_uri": "https://localhost:8080/",
          "height": 554
        },
        "outputId": "fb51b191-b495-4163-b823-ef024b274210",
        "id": "v_XcQ73DsicO"
      },
      "execution_count": 9,
      "outputs": [
        {
          "output_type": "stream",
          "name": "stderr",
          "text": [
            "/usr/local/lib/python3.10/dist-packages/scipy/stats/_stats_py.py:1806: UserWarning: kurtosistest only valid for n>=20 ... continuing anyway, n=10\n",
            "  warnings.warn(\"kurtosistest only valid for n>=20 ... continuing \"\n"
          ]
        },
        {
          "output_type": "execute_result",
          "data": {
            "text/plain": [
              "<class 'statsmodels.iolib.summary.Summary'>\n",
              "\"\"\"\n",
              "                            OLS Regression Results                            \n",
              "==============================================================================\n",
              "Dep. Variable:              STRIKEOUT   R-squared:                       0.137\n",
              "Model:                            OLS   Adj. R-squared:                 -0.295\n",
              "Method:                 Least Squares   F-statistic:                    0.3172\n",
              "Date:                Sun, 21 Jul 2024   Prob (F-statistic):              0.813\n",
              "Time:                        09:50:42   Log-Likelihood:                -21.735\n",
              "No. Observations:                  10   AIC:                             51.47\n",
              "Df Residuals:                       6   BIC:                             52.68\n",
              "Df Model:                           3                                         \n",
              "Covariance Type:            nonrobust                                         \n",
              "==============================================================================\n",
              "                 coef    std err          t      P>|t|      [0.025      0.975]\n",
              "------------------------------------------------------------------------------\n",
              "const         28.5828     28.007      1.021      0.347     -39.948      97.114\n",
              "LINE           2.3071      8.832      0.261      0.803     -19.304      23.918\n",
              "ODD            0.0200      0.078      0.256      0.807      -0.172       0.212\n",
              "TOTAL         -3.1035      3.600     -0.862      0.422     -11.913       5.706\n",
              "==============================================================================\n",
              "Omnibus:                        0.724   Durbin-Watson:                   1.683\n",
              "Prob(Omnibus):                  0.696   Jarque-Bera (JB):                0.591\n",
              "Skew:                           0.201   Prob(JB):                        0.744\n",
              "Kurtosis:                       1.879   Cond. No.                     5.48e+03\n",
              "==============================================================================\n",
              "\n",
              "Notes:\n",
              "[1] Standard Errors assume that the covariance matrix of the errors is correctly specified.\n",
              "[2] The condition number is large, 5.48e+03. This might indicate that there are\n",
              "strong multicollinearity or other numerical problems.\n",
              "\"\"\""
            ],
            "text/html": [
              "<table class=\"simpletable\">\n",
              "<caption>OLS Regression Results</caption>\n",
              "<tr>\n",
              "  <th>Dep. Variable:</th>        <td>STRIKEOUT</td>    <th>  R-squared:         </th> <td>   0.137</td>\n",
              "</tr>\n",
              "<tr>\n",
              "  <th>Model:</th>                   <td>OLS</td>       <th>  Adj. R-squared:    </th> <td>  -0.295</td>\n",
              "</tr>\n",
              "<tr>\n",
              "  <th>Method:</th>             <td>Least Squares</td>  <th>  F-statistic:       </th> <td>  0.3172</td>\n",
              "</tr>\n",
              "<tr>\n",
              "  <th>Date:</th>             <td>Sun, 21 Jul 2024</td> <th>  Prob (F-statistic):</th>  <td> 0.813</td> \n",
              "</tr>\n",
              "<tr>\n",
              "  <th>Time:</th>                 <td>09:50:42</td>     <th>  Log-Likelihood:    </th> <td> -21.735</td>\n",
              "</tr>\n",
              "<tr>\n",
              "  <th>No. Observations:</th>      <td>    10</td>      <th>  AIC:               </th> <td>   51.47</td>\n",
              "</tr>\n",
              "<tr>\n",
              "  <th>Df Residuals:</th>          <td>     6</td>      <th>  BIC:               </th> <td>   52.68</td>\n",
              "</tr>\n",
              "<tr>\n",
              "  <th>Df Model:</th>              <td>     3</td>      <th>                     </th>     <td> </td>   \n",
              "</tr>\n",
              "<tr>\n",
              "  <th>Covariance Type:</th>      <td>nonrobust</td>    <th>                     </th>     <td> </td>   \n",
              "</tr>\n",
              "</table>\n",
              "<table class=\"simpletable\">\n",
              "<tr>\n",
              "    <td></td>       <th>coef</th>     <th>std err</th>      <th>t</th>      <th>P>|t|</th>  <th>[0.025</th>    <th>0.975]</th>  \n",
              "</tr>\n",
              "<tr>\n",
              "  <th>const</th> <td>   28.5828</td> <td>   28.007</td> <td>    1.021</td> <td> 0.347</td> <td>  -39.948</td> <td>   97.114</td>\n",
              "</tr>\n",
              "<tr>\n",
              "  <th>LINE</th>  <td>    2.3071</td> <td>    8.832</td> <td>    0.261</td> <td> 0.803</td> <td>  -19.304</td> <td>   23.918</td>\n",
              "</tr>\n",
              "<tr>\n",
              "  <th>ODD</th>   <td>    0.0200</td> <td>    0.078</td> <td>    0.256</td> <td> 0.807</td> <td>   -0.172</td> <td>    0.212</td>\n",
              "</tr>\n",
              "<tr>\n",
              "  <th>TOTAL</th> <td>   -3.1035</td> <td>    3.600</td> <td>   -0.862</td> <td> 0.422</td> <td>  -11.913</td> <td>    5.706</td>\n",
              "</tr>\n",
              "</table>\n",
              "<table class=\"simpletable\">\n",
              "<tr>\n",
              "  <th>Omnibus:</th>       <td> 0.724</td> <th>  Durbin-Watson:     </th> <td>   1.683</td>\n",
              "</tr>\n",
              "<tr>\n",
              "  <th>Prob(Omnibus):</th> <td> 0.696</td> <th>  Jarque-Bera (JB):  </th> <td>   0.591</td>\n",
              "</tr>\n",
              "<tr>\n",
              "  <th>Skew:</th>          <td> 0.201</td> <th>  Prob(JB):          </th> <td>   0.744</td>\n",
              "</tr>\n",
              "<tr>\n",
              "  <th>Kurtosis:</th>      <td> 1.879</td> <th>  Cond. No.          </th> <td>5.48e+03</td>\n",
              "</tr>\n",
              "</table><br/><br/>Notes:<br/>[1] Standard Errors assume that the covariance matrix of the errors is correctly specified.<br/>[2] The condition number is large, 5.48e+03. This might indicate that there are<br/>strong multicollinearity or other numerical problems."
            ],
            "text/latex": "\\begin{center}\n\\begin{tabular}{lclc}\n\\toprule\n\\textbf{Dep. Variable:}    &    STRIKEOUT     & \\textbf{  R-squared:         } &     0.137   \\\\\n\\textbf{Model:}            &       OLS        & \\textbf{  Adj. R-squared:    } &    -0.295   \\\\\n\\textbf{Method:}           &  Least Squares   & \\textbf{  F-statistic:       } &    0.3172   \\\\\n\\textbf{Date:}             & Sun, 21 Jul 2024 & \\textbf{  Prob (F-statistic):} &    0.813    \\\\\n\\textbf{Time:}             &     09:50:42     & \\textbf{  Log-Likelihood:    } &   -21.735   \\\\\n\\textbf{No. Observations:} &          10      & \\textbf{  AIC:               } &     51.47   \\\\\n\\textbf{Df Residuals:}     &           6      & \\textbf{  BIC:               } &     52.68   \\\\\n\\textbf{Df Model:}         &           3      & \\textbf{                     } &             \\\\\n\\textbf{Covariance Type:}  &    nonrobust     & \\textbf{                     } &             \\\\\n\\bottomrule\n\\end{tabular}\n\\begin{tabular}{lcccccc}\n               & \\textbf{coef} & \\textbf{std err} & \\textbf{t} & \\textbf{P$> |$t$|$} & \\textbf{[0.025} & \\textbf{0.975]}  \\\\\n\\midrule\n\\textbf{const} &      28.5828  &       28.007     &     1.021  &         0.347        &      -39.948    &       97.114     \\\\\n\\textbf{LINE}  &       2.3071  &        8.832     &     0.261  &         0.803        &      -19.304    &       23.918     \\\\\n\\textbf{ODD}   &       0.0200  &        0.078     &     0.256  &         0.807        &       -0.172    &        0.212     \\\\\n\\textbf{TOTAL} &      -3.1035  &        3.600     &    -0.862  &         0.422        &      -11.913    &        5.706     \\\\\n\\bottomrule\n\\end{tabular}\n\\begin{tabular}{lclc}\n\\textbf{Omnibus:}       &  0.724 & \\textbf{  Durbin-Watson:     } &    1.683  \\\\\n\\textbf{Prob(Omnibus):} &  0.696 & \\textbf{  Jarque-Bera (JB):  } &    0.591  \\\\\n\\textbf{Skew:}          &  0.201 & \\textbf{  Prob(JB):          } &    0.744  \\\\\n\\textbf{Kurtosis:}      &  1.879 & \\textbf{  Cond. No.          } & 5.48e+03  \\\\\n\\bottomrule\n\\end{tabular}\n%\\caption{OLS Regression Results}\n\\end{center}\n\nNotes: \\newline\n [1] Standard Errors assume that the covariance matrix of the errors is correctly specified. \\newline\n [2] The condition number is large, 5.48e+03. This might indicate that there are \\newline\n strong multicollinearity or other numerical problems."
          },
          "metadata": {},
          "execution_count": 9
        }
      ]
    },
    {
      "cell_type": "code",
      "source": [],
      "metadata": {
        "id": "4pO29Y41sweP"
      },
      "execution_count": null,
      "outputs": []
    },
    {
      "cell_type": "code",
      "source": [
        "# Define the new data point\n",
        "new_data = {\n",
        "    'const': 1,\n",
        "    'LINE': 1.5,\n",
        "    'ODD': -146,\n",
        "    'TOTAL':8.5\n",
        "}\n",
        "\n",
        "# Convert the new data point to a DataFrame\n",
        "new_df = pd.DataFrame([new_data])\n",
        "\n",
        "# Predict the total strikeout using the model\n",
        "predicted_strikeout = model.predict(new_df)\n",
        "predicted_strikeout\n"
      ],
      "metadata": {
        "colab": {
          "base_uri": "https://localhost:8080/"
        },
        "outputId": "ca5edf24-f7ab-453e-8f73-53518ef8bcac",
        "id": "-_rKVOOvswtr"
      },
      "execution_count": 10,
      "outputs": [
        {
          "output_type": "execute_result",
          "data": {
            "text/plain": [
              "0    2.737115\n",
              "dtype: float64"
            ]
          },
          "metadata": {},
          "execution_count": 10
        }
      ]
    },
    {
      "cell_type": "markdown",
      "source": [
        "#VS TOR"
      ],
      "metadata": {
        "id": "z2gFjfwjtrqw"
      }
    },
    {
      "cell_type": "code",
      "source": [],
      "metadata": {
        "id": "G5woknJFtuKX"
      },
      "execution_count": null,
      "outputs": []
    },
    {
      "cell_type": "code",
      "source": [
        "import pandas as pd\n",
        "import statsmodels.api as sm\n",
        "\n",
        "# Define the data\n",
        "data = {\n",
        "    'LINE': [-1.5, -1.5, 1.5, 1.5, 1.5, 1.5, 1.5, 1.5, 1.5, 1.5],\n",
        "    'ODD': [172, 173, -160, -175, -190, -194, -166, -198, -167, -215],\n",
        "    'TOTAL': [8, 7.5, 7.5, 9, 8.5, 7.5, 7, 7.5, 7.5, 8.5],\n",
        "    'STRIKEOUT': [0, 8, 1, 2, 5, 1, 4, 3, 8, 4]\n",
        "}\n",
        "# Create a DataFrame\n",
        "df = pd.DataFrame(data)\n",
        "\n",
        "# Define the independent variables and the dependent variable\n",
        "X = df[['LINE', 'ODD', 'TOTAL']]\n",
        "y = df['STRIKEOUT']\n",
        "\n",
        "# Add a constant to the independent variables\n",
        "X = sm.add_constant(X)\n",
        "\n",
        "# Fit the linear regression model\n",
        "model = sm.OLS(y, X).fit()\n",
        "\n",
        "# Get the summary of the regression\n",
        "summary = model.summary()\n",
        "summary\n"
      ],
      "metadata": {
        "colab": {
          "base_uri": "https://localhost:8080/",
          "height": 554
        },
        "outputId": "6268eed9-1592-44a4-f43c-501b81f2f5ef",
        "id": "F_hHdKKbtudz"
      },
      "execution_count": 11,
      "outputs": [
        {
          "output_type": "stream",
          "name": "stderr",
          "text": [
            "/usr/local/lib/python3.10/dist-packages/scipy/stats/_stats_py.py:1806: UserWarning: kurtosistest only valid for n>=20 ... continuing anyway, n=10\n",
            "  warnings.warn(\"kurtosistest only valid for n>=20 ... continuing \"\n"
          ]
        },
        {
          "output_type": "execute_result",
          "data": {
            "text/plain": [
              "<class 'statsmodels.iolib.summary.Summary'>\n",
              "\"\"\"\n",
              "                            OLS Regression Results                            \n",
              "==============================================================================\n",
              "Dep. Variable:              STRIKEOUT   R-squared:                       0.031\n",
              "Model:                            OLS   Adj. R-squared:                 -0.453\n",
              "Method:                 Least Squares   F-statistic:                   0.06413\n",
              "Date:                Sun, 21 Jul 2024   Prob (F-statistic):              0.977\n",
              "Time:                        09:55:51   Log-Likelihood:                -23.790\n",
              "No. Observations:                  10   AIC:                             55.58\n",
              "Df Residuals:                       6   BIC:                             56.79\n",
              "Df Model:                           3                                         \n",
              "Covariance Type:            nonrobust                                         \n",
              "==============================================================================\n",
              "                 coef    std err          t      P>|t|      [0.025      0.975]\n",
              "------------------------------------------------------------------------------\n",
              "const          9.3895     15.102      0.622      0.557     -27.563      46.342\n",
              "LINE          -0.2318      8.538     -0.027      0.979     -21.124      20.661\n",
              "ODD           -0.0008      0.072     -0.011      0.991      -0.177       0.175\n",
              "TOTAL         -0.7224      1.943     -0.372      0.723      -5.477       4.033\n",
              "==============================================================================\n",
              "Omnibus:                        0.714   Durbin-Watson:                   2.622\n",
              "Prob(Omnibus):                  0.700   Jarque-Bera (JB):                0.597\n",
              "Skew:                           0.232   Prob(JB):                        0.742\n",
              "Kurtosis:                       1.896   Cond. No.                     2.66e+03\n",
              "==============================================================================\n",
              "\n",
              "Notes:\n",
              "[1] Standard Errors assume that the covariance matrix of the errors is correctly specified.\n",
              "[2] The condition number is large, 2.66e+03. This might indicate that there are\n",
              "strong multicollinearity or other numerical problems.\n",
              "\"\"\""
            ],
            "text/html": [
              "<table class=\"simpletable\">\n",
              "<caption>OLS Regression Results</caption>\n",
              "<tr>\n",
              "  <th>Dep. Variable:</th>        <td>STRIKEOUT</td>    <th>  R-squared:         </th> <td>   0.031</td>\n",
              "</tr>\n",
              "<tr>\n",
              "  <th>Model:</th>                   <td>OLS</td>       <th>  Adj. R-squared:    </th> <td>  -0.453</td>\n",
              "</tr>\n",
              "<tr>\n",
              "  <th>Method:</th>             <td>Least Squares</td>  <th>  F-statistic:       </th> <td> 0.06413</td>\n",
              "</tr>\n",
              "<tr>\n",
              "  <th>Date:</th>             <td>Sun, 21 Jul 2024</td> <th>  Prob (F-statistic):</th>  <td> 0.977</td> \n",
              "</tr>\n",
              "<tr>\n",
              "  <th>Time:</th>                 <td>09:55:51</td>     <th>  Log-Likelihood:    </th> <td> -23.790</td>\n",
              "</tr>\n",
              "<tr>\n",
              "  <th>No. Observations:</th>      <td>    10</td>      <th>  AIC:               </th> <td>   55.58</td>\n",
              "</tr>\n",
              "<tr>\n",
              "  <th>Df Residuals:</th>          <td>     6</td>      <th>  BIC:               </th> <td>   56.79</td>\n",
              "</tr>\n",
              "<tr>\n",
              "  <th>Df Model:</th>              <td>     3</td>      <th>                     </th>     <td> </td>   \n",
              "</tr>\n",
              "<tr>\n",
              "  <th>Covariance Type:</th>      <td>nonrobust</td>    <th>                     </th>     <td> </td>   \n",
              "</tr>\n",
              "</table>\n",
              "<table class=\"simpletable\">\n",
              "<tr>\n",
              "    <td></td>       <th>coef</th>     <th>std err</th>      <th>t</th>      <th>P>|t|</th>  <th>[0.025</th>    <th>0.975]</th>  \n",
              "</tr>\n",
              "<tr>\n",
              "  <th>const</th> <td>    9.3895</td> <td>   15.102</td> <td>    0.622</td> <td> 0.557</td> <td>  -27.563</td> <td>   46.342</td>\n",
              "</tr>\n",
              "<tr>\n",
              "  <th>LINE</th>  <td>   -0.2318</td> <td>    8.538</td> <td>   -0.027</td> <td> 0.979</td> <td>  -21.124</td> <td>   20.661</td>\n",
              "</tr>\n",
              "<tr>\n",
              "  <th>ODD</th>   <td>   -0.0008</td> <td>    0.072</td> <td>   -0.011</td> <td> 0.991</td> <td>   -0.177</td> <td>    0.175</td>\n",
              "</tr>\n",
              "<tr>\n",
              "  <th>TOTAL</th> <td>   -0.7224</td> <td>    1.943</td> <td>   -0.372</td> <td> 0.723</td> <td>   -5.477</td> <td>    4.033</td>\n",
              "</tr>\n",
              "</table>\n",
              "<table class=\"simpletable\">\n",
              "<tr>\n",
              "  <th>Omnibus:</th>       <td> 0.714</td> <th>  Durbin-Watson:     </th> <td>   2.622</td>\n",
              "</tr>\n",
              "<tr>\n",
              "  <th>Prob(Omnibus):</th> <td> 0.700</td> <th>  Jarque-Bera (JB):  </th> <td>   0.597</td>\n",
              "</tr>\n",
              "<tr>\n",
              "  <th>Skew:</th>          <td> 0.232</td> <th>  Prob(JB):          </th> <td>   0.742</td>\n",
              "</tr>\n",
              "<tr>\n",
              "  <th>Kurtosis:</th>      <td> 1.896</td> <th>  Cond. No.          </th> <td>2.66e+03</td>\n",
              "</tr>\n",
              "</table><br/><br/>Notes:<br/>[1] Standard Errors assume that the covariance matrix of the errors is correctly specified.<br/>[2] The condition number is large, 2.66e+03. This might indicate that there are<br/>strong multicollinearity or other numerical problems."
            ],
            "text/latex": "\\begin{center}\n\\begin{tabular}{lclc}\n\\toprule\n\\textbf{Dep. Variable:}    &    STRIKEOUT     & \\textbf{  R-squared:         } &     0.031   \\\\\n\\textbf{Model:}            &       OLS        & \\textbf{  Adj. R-squared:    } &    -0.453   \\\\\n\\textbf{Method:}           &  Least Squares   & \\textbf{  F-statistic:       } &   0.06413   \\\\\n\\textbf{Date:}             & Sun, 21 Jul 2024 & \\textbf{  Prob (F-statistic):} &    0.977    \\\\\n\\textbf{Time:}             &     09:55:51     & \\textbf{  Log-Likelihood:    } &   -23.790   \\\\\n\\textbf{No. Observations:} &          10      & \\textbf{  AIC:               } &     55.58   \\\\\n\\textbf{Df Residuals:}     &           6      & \\textbf{  BIC:               } &     56.79   \\\\\n\\textbf{Df Model:}         &           3      & \\textbf{                     } &             \\\\\n\\textbf{Covariance Type:}  &    nonrobust     & \\textbf{                     } &             \\\\\n\\bottomrule\n\\end{tabular}\n\\begin{tabular}{lcccccc}\n               & \\textbf{coef} & \\textbf{std err} & \\textbf{t} & \\textbf{P$> |$t$|$} & \\textbf{[0.025} & \\textbf{0.975]}  \\\\\n\\midrule\n\\textbf{const} &       9.3895  &       15.102     &     0.622  &         0.557        &      -27.563    &       46.342     \\\\\n\\textbf{LINE}  &      -0.2318  &        8.538     &    -0.027  &         0.979        &      -21.124    &       20.661     \\\\\n\\textbf{ODD}   &      -0.0008  &        0.072     &    -0.011  &         0.991        &       -0.177    &        0.175     \\\\\n\\textbf{TOTAL} &      -0.7224  &        1.943     &    -0.372  &         0.723        &       -5.477    &        4.033     \\\\\n\\bottomrule\n\\end{tabular}\n\\begin{tabular}{lclc}\n\\textbf{Omnibus:}       &  0.714 & \\textbf{  Durbin-Watson:     } &    2.622  \\\\\n\\textbf{Prob(Omnibus):} &  0.700 & \\textbf{  Jarque-Bera (JB):  } &    0.597  \\\\\n\\textbf{Skew:}          &  0.232 & \\textbf{  Prob(JB):          } &    0.742  \\\\\n\\textbf{Kurtosis:}      &  1.896 & \\textbf{  Cond. No.          } & 2.66e+03  \\\\\n\\bottomrule\n\\end{tabular}\n%\\caption{OLS Regression Results}\n\\end{center}\n\nNotes: \\newline\n [1] Standard Errors assume that the covariance matrix of the errors is correctly specified. \\newline\n [2] The condition number is large, 2.66e+03. This might indicate that there are \\newline\n strong multicollinearity or other numerical problems."
          },
          "metadata": {},
          "execution_count": 11
        }
      ]
    },
    {
      "cell_type": "code",
      "source": [
        "# Define the new data point\n",
        "new_data = {\n",
        "    'const': 1,\n",
        "    'LINE': -1.5,\n",
        "    'ODD': 136,\n",
        "    'TOTAL':8\n",
        "}\n",
        "\n",
        "# Convert the new data point to a DataFrame\n",
        "new_df = pd.DataFrame([new_data])\n",
        "\n",
        "# Predict the total strikeout using the model\n",
        "predicted_strikeout = model.predict(new_df)\n",
        "predicted_strikeout\n"
      ],
      "metadata": {
        "colab": {
          "base_uri": "https://localhost:8080/"
        },
        "outputId": "f26a203b-f247-4a18-b33b-b9a96455f044",
        "id": "ov1R9mYBtxRd"
      },
      "execution_count": 12,
      "outputs": [
        {
          "output_type": "execute_result",
          "data": {
            "text/plain": [
              "0    3.848731\n",
              "dtype: float64"
            ]
          },
          "metadata": {},
          "execution_count": 12
        }
      ]
    },
    {
      "cell_type": "markdown",
      "source": [
        "#VS DET\n"
      ],
      "metadata": {
        "id": "XnwE78iluM52"
      }
    },
    {
      "cell_type": "code",
      "source": [],
      "metadata": {
        "id": "uu7FhqRnuQ3d"
      },
      "execution_count": null,
      "outputs": []
    },
    {
      "cell_type": "code",
      "source": [
        "import pandas as pd\n",
        "import statsmodels.api as sm\n",
        "\n",
        "# Define the data\n",
        "data = {\n",
        "    'LINE': [1.5, 1.5, 1.5, 1.5, -1.5, -1.5, 1.5, 1.5, 1.5, -1.5],\n",
        "    'ODD': [-193, -195, -135, -152, 136, 167, -135, -135, -135, 124],\n",
        "    'TOTAL': [8, 7.5, 9, 9, 8, 8, 7.5, 8.5, 8.5, 8],\n",
        "    'STRIKEOUT': [8, 6, 2, 4, 1, 4, 8, 4, 5, 2]\n",
        "}\n",
        "# Create a DataFrame\n",
        "df = pd.DataFrame(data)\n",
        "\n",
        "# Define the independent variables and the dependent variable\n",
        "X = df[['LINE', 'ODD', 'TOTAL']]\n",
        "y = df['STRIKEOUT']\n",
        "\n",
        "# Add a constant to the independent variables\n",
        "X = sm.add_constant(X)\n",
        "\n",
        "# Fit the linear regression model\n",
        "model = sm.OLS(y, X).fit()\n",
        "\n",
        "# Get the summary of the regression\n",
        "summary = model.summary()\n",
        "summary\n"
      ],
      "metadata": {
        "colab": {
          "base_uri": "https://localhost:8080/",
          "height": 554
        },
        "outputId": "a5b3bfb5-8b2c-4b56-e6cc-d3b12a9f6492",
        "id": "LORJ7IKRvPwM"
      },
      "execution_count": 14,
      "outputs": [
        {
          "output_type": "stream",
          "name": "stderr",
          "text": [
            "/usr/local/lib/python3.10/dist-packages/scipy/stats/_stats_py.py:1806: UserWarning: kurtosistest only valid for n>=20 ... continuing anyway, n=10\n",
            "  warnings.warn(\"kurtosistest only valid for n>=20 ... continuing \"\n"
          ]
        },
        {
          "output_type": "execute_result",
          "data": {
            "text/plain": [
              "<class 'statsmodels.iolib.summary.Summary'>\n",
              "\"\"\"\n",
              "                            OLS Regression Results                            \n",
              "==============================================================================\n",
              "Dep. Variable:              STRIKEOUT   R-squared:                       0.745\n",
              "Model:                            OLS   Adj. R-squared:                  0.618\n",
              "Method:                 Least Squares   F-statistic:                     5.856\n",
              "Date:                Sun, 21 Jul 2024   Prob (F-statistic):             0.0324\n",
              "Time:                        10:02:21   Log-Likelihood:                -15.630\n",
              "No. Observations:                  10   AIC:                             39.26\n",
              "Df Residuals:                       6   BIC:                             40.47\n",
              "Df Model:                           3                                         \n",
              "Covariance Type:            nonrobust                                         \n",
              "==============================================================================\n",
              "                 coef    std err          t      P>|t|      [0.025      0.975]\n",
              "------------------------------------------------------------------------------\n",
              "const         28.5996      8.754      3.267      0.017       7.178      50.021\n",
              "LINE           1.8705      2.261      0.827      0.440      -3.662       7.403\n",
              "ODD            0.0060      0.022      0.273      0.794      -0.048       0.060\n",
              "TOTAL         -3.0400      1.066     -2.852      0.029      -5.648      -0.432\n",
              "==============================================================================\n",
              "Omnibus:                        0.920   Durbin-Watson:                   2.491\n",
              "Prob(Omnibus):                  0.631   Jarque-Bera (JB):                0.721\n",
              "Skew:                           0.376   Prob(JB):                        0.697\n",
              "Kurtosis:                       1.921   Cond. No.                     2.88e+03\n",
              "==============================================================================\n",
              "\n",
              "Notes:\n",
              "[1] Standard Errors assume that the covariance matrix of the errors is correctly specified.\n",
              "[2] The condition number is large, 2.88e+03. This might indicate that there are\n",
              "strong multicollinearity or other numerical problems.\n",
              "\"\"\""
            ],
            "text/html": [
              "<table class=\"simpletable\">\n",
              "<caption>OLS Regression Results</caption>\n",
              "<tr>\n",
              "  <th>Dep. Variable:</th>        <td>STRIKEOUT</td>    <th>  R-squared:         </th> <td>   0.745</td>\n",
              "</tr>\n",
              "<tr>\n",
              "  <th>Model:</th>                   <td>OLS</td>       <th>  Adj. R-squared:    </th> <td>   0.618</td>\n",
              "</tr>\n",
              "<tr>\n",
              "  <th>Method:</th>             <td>Least Squares</td>  <th>  F-statistic:       </th> <td>   5.856</td>\n",
              "</tr>\n",
              "<tr>\n",
              "  <th>Date:</th>             <td>Sun, 21 Jul 2024</td> <th>  Prob (F-statistic):</th>  <td>0.0324</td> \n",
              "</tr>\n",
              "<tr>\n",
              "  <th>Time:</th>                 <td>10:02:21</td>     <th>  Log-Likelihood:    </th> <td> -15.630</td>\n",
              "</tr>\n",
              "<tr>\n",
              "  <th>No. Observations:</th>      <td>    10</td>      <th>  AIC:               </th> <td>   39.26</td>\n",
              "</tr>\n",
              "<tr>\n",
              "  <th>Df Residuals:</th>          <td>     6</td>      <th>  BIC:               </th> <td>   40.47</td>\n",
              "</tr>\n",
              "<tr>\n",
              "  <th>Df Model:</th>              <td>     3</td>      <th>                     </th>     <td> </td>   \n",
              "</tr>\n",
              "<tr>\n",
              "  <th>Covariance Type:</th>      <td>nonrobust</td>    <th>                     </th>     <td> </td>   \n",
              "</tr>\n",
              "</table>\n",
              "<table class=\"simpletable\">\n",
              "<tr>\n",
              "    <td></td>       <th>coef</th>     <th>std err</th>      <th>t</th>      <th>P>|t|</th>  <th>[0.025</th>    <th>0.975]</th>  \n",
              "</tr>\n",
              "<tr>\n",
              "  <th>const</th> <td>   28.5996</td> <td>    8.754</td> <td>    3.267</td> <td> 0.017</td> <td>    7.178</td> <td>   50.021</td>\n",
              "</tr>\n",
              "<tr>\n",
              "  <th>LINE</th>  <td>    1.8705</td> <td>    2.261</td> <td>    0.827</td> <td> 0.440</td> <td>   -3.662</td> <td>    7.403</td>\n",
              "</tr>\n",
              "<tr>\n",
              "  <th>ODD</th>   <td>    0.0060</td> <td>    0.022</td> <td>    0.273</td> <td> 0.794</td> <td>   -0.048</td> <td>    0.060</td>\n",
              "</tr>\n",
              "<tr>\n",
              "  <th>TOTAL</th> <td>   -3.0400</td> <td>    1.066</td> <td>   -2.852</td> <td> 0.029</td> <td>   -5.648</td> <td>   -0.432</td>\n",
              "</tr>\n",
              "</table>\n",
              "<table class=\"simpletable\">\n",
              "<tr>\n",
              "  <th>Omnibus:</th>       <td> 0.920</td> <th>  Durbin-Watson:     </th> <td>   2.491</td>\n",
              "</tr>\n",
              "<tr>\n",
              "  <th>Prob(Omnibus):</th> <td> 0.631</td> <th>  Jarque-Bera (JB):  </th> <td>   0.721</td>\n",
              "</tr>\n",
              "<tr>\n",
              "  <th>Skew:</th>          <td> 0.376</td> <th>  Prob(JB):          </th> <td>   0.697</td>\n",
              "</tr>\n",
              "<tr>\n",
              "  <th>Kurtosis:</th>      <td> 1.921</td> <th>  Cond. No.          </th> <td>2.88e+03</td>\n",
              "</tr>\n",
              "</table><br/><br/>Notes:<br/>[1] Standard Errors assume that the covariance matrix of the errors is correctly specified.<br/>[2] The condition number is large, 2.88e+03. This might indicate that there are<br/>strong multicollinearity or other numerical problems."
            ],
            "text/latex": "\\begin{center}\n\\begin{tabular}{lclc}\n\\toprule\n\\textbf{Dep. Variable:}    &    STRIKEOUT     & \\textbf{  R-squared:         } &     0.745   \\\\\n\\textbf{Model:}            &       OLS        & \\textbf{  Adj. R-squared:    } &     0.618   \\\\\n\\textbf{Method:}           &  Least Squares   & \\textbf{  F-statistic:       } &     5.856   \\\\\n\\textbf{Date:}             & Sun, 21 Jul 2024 & \\textbf{  Prob (F-statistic):} &   0.0324    \\\\\n\\textbf{Time:}             &     10:02:21     & \\textbf{  Log-Likelihood:    } &   -15.630   \\\\\n\\textbf{No. Observations:} &          10      & \\textbf{  AIC:               } &     39.26   \\\\\n\\textbf{Df Residuals:}     &           6      & \\textbf{  BIC:               } &     40.47   \\\\\n\\textbf{Df Model:}         &           3      & \\textbf{                     } &             \\\\\n\\textbf{Covariance Type:}  &    nonrobust     & \\textbf{                     } &             \\\\\n\\bottomrule\n\\end{tabular}\n\\begin{tabular}{lcccccc}\n               & \\textbf{coef} & \\textbf{std err} & \\textbf{t} & \\textbf{P$> |$t$|$} & \\textbf{[0.025} & \\textbf{0.975]}  \\\\\n\\midrule\n\\textbf{const} &      28.5996  &        8.754     &     3.267  &         0.017        &        7.178    &       50.021     \\\\\n\\textbf{LINE}  &       1.8705  &        2.261     &     0.827  &         0.440        &       -3.662    &        7.403     \\\\\n\\textbf{ODD}   &       0.0060  &        0.022     &     0.273  &         0.794        &       -0.048    &        0.060     \\\\\n\\textbf{TOTAL} &      -3.0400  &        1.066     &    -2.852  &         0.029        &       -5.648    &       -0.432     \\\\\n\\bottomrule\n\\end{tabular}\n\\begin{tabular}{lclc}\n\\textbf{Omnibus:}       &  0.920 & \\textbf{  Durbin-Watson:     } &    2.491  \\\\\n\\textbf{Prob(Omnibus):} &  0.631 & \\textbf{  Jarque-Bera (JB):  } &    0.721  \\\\\n\\textbf{Skew:}          &  0.376 & \\textbf{  Prob(JB):          } &    0.697  \\\\\n\\textbf{Kurtosis:}      &  1.921 & \\textbf{  Cond. No.          } & 2.88e+03  \\\\\n\\bottomrule\n\\end{tabular}\n%\\caption{OLS Regression Results}\n\\end{center}\n\nNotes: \\newline\n [1] Standard Errors assume that the covariance matrix of the errors is correctly specified. \\newline\n [2] The condition number is large, 2.88e+03. This might indicate that there are \\newline\n strong multicollinearity or other numerical problems."
          },
          "metadata": {},
          "execution_count": 14
        }
      ]
    },
    {
      "cell_type": "code",
      "source": [
        "# Define the new data point\n",
        "new_data = {\n",
        "    'const': 1,\n",
        "    'LINE': 1.5,\n",
        "    'ODD': -151,\n",
        "    'TOTAL':8\n",
        "}\n",
        "\n",
        "# Convert the new data point to a DataFrame\n",
        "new_df = pd.DataFrame([new_data])\n",
        "\n",
        "# Predict the total strikeout using the model\n",
        "predicted_strikeout = model.predict(new_df)\n",
        "predicted_strikeout\n"
      ],
      "metadata": {
        "colab": {
          "base_uri": "https://localhost:8080/"
        },
        "outputId": "cba1e37d-10c4-44c7-99b4-52262dc43aa0",
        "id": "n1-_EY9kvTwL"
      },
      "execution_count": 15,
      "outputs": [
        {
          "output_type": "execute_result",
          "data": {
            "text/plain": [
              "0    6.174111\n",
              "dtype: float64"
            ]
          },
          "metadata": {},
          "execution_count": 15
        }
      ]
    },
    {
      "cell_type": "markdown",
      "source": [
        "#VS NYM"
      ],
      "metadata": {
        "id": "8zbu97qxw4Uh"
      }
    },
    {
      "cell_type": "code",
      "source": [
        "import pandas as pd\n",
        "import statsmodels.api as sm\n",
        "\n",
        "# Define the data\n",
        "data = {\n",
        "    \"LINE\": [-1.5, -1.5, -1.5, -1.5, -1.5, -1.5, -1.5, -1.5, 1.5, -1.5],\n",
        "    \"ODD\": [-110, 128, 102, 111, -137, 144, -105, 150, -185, 124],\n",
        "    \"TOTAL\": [9, 8, 8, 8, 8.5, 8.5, 9.5, 8.5, 8.5, 9],\n",
        "    \"STRIKEOUT\": [5, 1, 3, 7, 3, 4, 5, 2, 6, 5]\n",
        "}\n",
        "# Create a DataFrame\n",
        "df = pd.DataFrame(data)\n",
        "\n",
        "# Define the independent variables and the dependent variable\n",
        "X = df[['LINE', 'ODD', 'TOTAL']]\n",
        "y = df['STRIKEOUT']\n",
        "\n",
        "# Add a constant to the independent variables\n",
        "X = sm.add_constant(X)\n",
        "\n",
        "# Fit the linear regression model\n",
        "model = sm.OLS(y, X).fit()\n",
        "\n",
        "# Get the summary of the regression\n",
        "summary = model.summary()\n",
        "summary\n"
      ],
      "metadata": {
        "colab": {
          "base_uri": "https://localhost:8080/",
          "height": 554
        },
        "outputId": "9a6f3ed4-3e9b-4bf7-e4ea-22f1ec85dd42",
        "id": "ESyhSdSOw2U_"
      },
      "execution_count": 17,
      "outputs": [
        {
          "output_type": "stream",
          "name": "stderr",
          "text": [
            "/usr/local/lib/python3.10/dist-packages/scipy/stats/_stats_py.py:1806: UserWarning: kurtosistest only valid for n>=20 ... continuing anyway, n=10\n",
            "  warnings.warn(\"kurtosistest only valid for n>=20 ... continuing \"\n"
          ]
        },
        {
          "output_type": "execute_result",
          "data": {
            "text/plain": [
              "<class 'statsmodels.iolib.summary.Summary'>\n",
              "\"\"\"\n",
              "                            OLS Regression Results                            \n",
              "==============================================================================\n",
              "Dep. Variable:              STRIKEOUT   R-squared:                       0.225\n",
              "Model:                            OLS   Adj. R-squared:                 -0.162\n",
              "Method:                 Least Squares   F-statistic:                    0.5813\n",
              "Date:                Sun, 21 Jul 2024   Prob (F-statistic):              0.649\n",
              "Time:                        10:10:12   Log-Likelihood:                -18.554\n",
              "No. Observations:                  10   AIC:                             45.11\n",
              "Df Residuals:                       6   BIC:                             46.32\n",
              "Df Model:                           3                                         \n",
              "Covariance Type:            nonrobust                                         \n",
              "==============================================================================\n",
              "                 coef    std err          t      P>|t|      [0.025      0.975]\n",
              "------------------------------------------------------------------------------\n",
              "const         -4.5221     13.578     -0.333      0.750     -37.747      28.703\n",
              "LINE           0.6993      0.891      0.785      0.463      -1.481       2.880\n",
              "ODD           -0.0003      0.007     -0.047      0.964      -0.017       0.017\n",
              "TOTAL          1.1074      1.619      0.684      0.519      -2.853       5.068\n",
              "==============================================================================\n",
              "Omnibus:                        5.992   Durbin-Watson:                   2.403\n",
              "Prob(Omnibus):                  0.050   Jarque-Bera (JB):                2.000\n",
              "Skew:                           0.952   Prob(JB):                        0.368\n",
              "Kurtosis:                       4.082   Cond. No.                     2.85e+03\n",
              "==============================================================================\n",
              "\n",
              "Notes:\n",
              "[1] Standard Errors assume that the covariance matrix of the errors is correctly specified.\n",
              "[2] The condition number is large, 2.85e+03. This might indicate that there are\n",
              "strong multicollinearity or other numerical problems.\n",
              "\"\"\""
            ],
            "text/html": [
              "<table class=\"simpletable\">\n",
              "<caption>OLS Regression Results</caption>\n",
              "<tr>\n",
              "  <th>Dep. Variable:</th>        <td>STRIKEOUT</td>    <th>  R-squared:         </th> <td>   0.225</td>\n",
              "</tr>\n",
              "<tr>\n",
              "  <th>Model:</th>                   <td>OLS</td>       <th>  Adj. R-squared:    </th> <td>  -0.162</td>\n",
              "</tr>\n",
              "<tr>\n",
              "  <th>Method:</th>             <td>Least Squares</td>  <th>  F-statistic:       </th> <td>  0.5813</td>\n",
              "</tr>\n",
              "<tr>\n",
              "  <th>Date:</th>             <td>Sun, 21 Jul 2024</td> <th>  Prob (F-statistic):</th>  <td> 0.649</td> \n",
              "</tr>\n",
              "<tr>\n",
              "  <th>Time:</th>                 <td>10:10:12</td>     <th>  Log-Likelihood:    </th> <td> -18.554</td>\n",
              "</tr>\n",
              "<tr>\n",
              "  <th>No. Observations:</th>      <td>    10</td>      <th>  AIC:               </th> <td>   45.11</td>\n",
              "</tr>\n",
              "<tr>\n",
              "  <th>Df Residuals:</th>          <td>     6</td>      <th>  BIC:               </th> <td>   46.32</td>\n",
              "</tr>\n",
              "<tr>\n",
              "  <th>Df Model:</th>              <td>     3</td>      <th>                     </th>     <td> </td>   \n",
              "</tr>\n",
              "<tr>\n",
              "  <th>Covariance Type:</th>      <td>nonrobust</td>    <th>                     </th>     <td> </td>   \n",
              "</tr>\n",
              "</table>\n",
              "<table class=\"simpletable\">\n",
              "<tr>\n",
              "    <td></td>       <th>coef</th>     <th>std err</th>      <th>t</th>      <th>P>|t|</th>  <th>[0.025</th>    <th>0.975]</th>  \n",
              "</tr>\n",
              "<tr>\n",
              "  <th>const</th> <td>   -4.5221</td> <td>   13.578</td> <td>   -0.333</td> <td> 0.750</td> <td>  -37.747</td> <td>   28.703</td>\n",
              "</tr>\n",
              "<tr>\n",
              "  <th>LINE</th>  <td>    0.6993</td> <td>    0.891</td> <td>    0.785</td> <td> 0.463</td> <td>   -1.481</td> <td>    2.880</td>\n",
              "</tr>\n",
              "<tr>\n",
              "  <th>ODD</th>   <td>   -0.0003</td> <td>    0.007</td> <td>   -0.047</td> <td> 0.964</td> <td>   -0.017</td> <td>    0.017</td>\n",
              "</tr>\n",
              "<tr>\n",
              "  <th>TOTAL</th> <td>    1.1074</td> <td>    1.619</td> <td>    0.684</td> <td> 0.519</td> <td>   -2.853</td> <td>    5.068</td>\n",
              "</tr>\n",
              "</table>\n",
              "<table class=\"simpletable\">\n",
              "<tr>\n",
              "  <th>Omnibus:</th>       <td> 5.992</td> <th>  Durbin-Watson:     </th> <td>   2.403</td>\n",
              "</tr>\n",
              "<tr>\n",
              "  <th>Prob(Omnibus):</th> <td> 0.050</td> <th>  Jarque-Bera (JB):  </th> <td>   2.000</td>\n",
              "</tr>\n",
              "<tr>\n",
              "  <th>Skew:</th>          <td> 0.952</td> <th>  Prob(JB):          </th> <td>   0.368</td>\n",
              "</tr>\n",
              "<tr>\n",
              "  <th>Kurtosis:</th>      <td> 4.082</td> <th>  Cond. No.          </th> <td>2.85e+03</td>\n",
              "</tr>\n",
              "</table><br/><br/>Notes:<br/>[1] Standard Errors assume that the covariance matrix of the errors is correctly specified.<br/>[2] The condition number is large, 2.85e+03. This might indicate that there are<br/>strong multicollinearity or other numerical problems."
            ],
            "text/latex": "\\begin{center}\n\\begin{tabular}{lclc}\n\\toprule\n\\textbf{Dep. Variable:}    &    STRIKEOUT     & \\textbf{  R-squared:         } &     0.225   \\\\\n\\textbf{Model:}            &       OLS        & \\textbf{  Adj. R-squared:    } &    -0.162   \\\\\n\\textbf{Method:}           &  Least Squares   & \\textbf{  F-statistic:       } &    0.5813   \\\\\n\\textbf{Date:}             & Sun, 21 Jul 2024 & \\textbf{  Prob (F-statistic):} &    0.649    \\\\\n\\textbf{Time:}             &     10:10:12     & \\textbf{  Log-Likelihood:    } &   -18.554   \\\\\n\\textbf{No. Observations:} &          10      & \\textbf{  AIC:               } &     45.11   \\\\\n\\textbf{Df Residuals:}     &           6      & \\textbf{  BIC:               } &     46.32   \\\\\n\\textbf{Df Model:}         &           3      & \\textbf{                     } &             \\\\\n\\textbf{Covariance Type:}  &    nonrobust     & \\textbf{                     } &             \\\\\n\\bottomrule\n\\end{tabular}\n\\begin{tabular}{lcccccc}\n               & \\textbf{coef} & \\textbf{std err} & \\textbf{t} & \\textbf{P$> |$t$|$} & \\textbf{[0.025} & \\textbf{0.975]}  \\\\\n\\midrule\n\\textbf{const} &      -4.5221  &       13.578     &    -0.333  &         0.750        &      -37.747    &       28.703     \\\\\n\\textbf{LINE}  &       0.6993  &        0.891     &     0.785  &         0.463        &       -1.481    &        2.880     \\\\\n\\textbf{ODD}   &      -0.0003  &        0.007     &    -0.047  &         0.964        &       -0.017    &        0.017     \\\\\n\\textbf{TOTAL} &       1.1074  &        1.619     &     0.684  &         0.519        &       -2.853    &        5.068     \\\\\n\\bottomrule\n\\end{tabular}\n\\begin{tabular}{lclc}\n\\textbf{Omnibus:}       &  5.992 & \\textbf{  Durbin-Watson:     } &    2.403  \\\\\n\\textbf{Prob(Omnibus):} &  0.050 & \\textbf{  Jarque-Bera (JB):  } &    2.000  \\\\\n\\textbf{Skew:}          &  0.952 & \\textbf{  Prob(JB):          } &    0.368  \\\\\n\\textbf{Kurtosis:}      &  4.082 & \\textbf{  Cond. No.          } & 2.85e+03  \\\\\n\\bottomrule\n\\end{tabular}\n%\\caption{OLS Regression Results}\n\\end{center}\n\nNotes: \\newline\n [1] Standard Errors assume that the covariance matrix of the errors is correctly specified. \\newline\n [2] The condition number is large, 2.85e+03. This might indicate that there are \\newline\n strong multicollinearity or other numerical problems."
          },
          "metadata": {},
          "execution_count": 17
        }
      ]
    },
    {
      "cell_type": "code",
      "source": [
        "# Define the new data point\n",
        "new_data = {\n",
        "    'const': 1,\n",
        "    'LINE': -1.5,\n",
        "    'ODD': 113,\n",
        "    'TOTAL':8.5\n",
        "}\n",
        "\n",
        "# Convert the new data point to a DataFrame\n",
        "new_df = pd.DataFrame([new_data])\n",
        "\n",
        "# Predict the total strikeout using the model\n",
        "predicted_strikeout = model.predict(new_df)\n",
        "predicted_strikeout\n"
      ],
      "metadata": {
        "colab": {
          "base_uri": "https://localhost:8080/"
        },
        "outputId": "b49f6308-7224-4bad-ceab-67313292f745",
        "id": "2MZRVaMAxFLM"
      },
      "execution_count": 18,
      "outputs": [
        {
          "output_type": "execute_result",
          "data": {
            "text/plain": [
              "0    3.805337\n",
              "dtype: float64"
            ]
          },
          "metadata": {},
          "execution_count": 18
        }
      ]
    },
    {
      "cell_type": "markdown",
      "source": [
        "#VS CHW"
      ],
      "metadata": {
        "id": "8CnfGme9y07i"
      }
    },
    {
      "cell_type": "code",
      "source": [],
      "metadata": {
        "id": "WKXLH_0Ry3Qq"
      },
      "execution_count": null,
      "outputs": []
    },
    {
      "cell_type": "code",
      "source": [
        "import pandas as pd\n",
        "import statsmodels.api as sm\n",
        "\n",
        "# Define the data\n",
        "data = {\n",
        "    \"LINE\": [1.5, 1.5, 1.5, 1.5, -1.5, 1.5, 1.5, 1.5, 1.5, -1.5],\n",
        "    \"ODD\": [102, -101, -118, -137, 134, 110, -125, 110, -170, 110],\n",
        "    \"TOTAL\": [8, 9, 8.5, 8.5, 7.5, 8.5, 8, 9, 7.5, 7],\n",
        "    \"STRIKEOUT\": [7, 7, 3, 5, 4, 5, 6, 3, 4, 5]\n",
        "}\n",
        "# Create a DataFrame\n",
        "df = pd.DataFrame(data)\n",
        "\n",
        "# Define the independent variables and the dependent variable\n",
        "X = df[['LINE', 'ODD', 'TOTAL']]\n",
        "y = df['STRIKEOUT']\n",
        "\n",
        "# Add a constant to the independent variables\n",
        "X = sm.add_constant(X)\n",
        "\n",
        "# Fit the linear regression model\n",
        "model = sm.OLS(y, X).fit()\n",
        "\n",
        "# Get the summary of the regression\n",
        "summary = model.summary()\n",
        "summary\n"
      ],
      "metadata": {
        "colab": {
          "base_uri": "https://localhost:8080/",
          "height": 554
        },
        "outputId": "e8959e97-894f-4133-d440-8d546c59bf2e",
        "id": "GEHAn1J4y5d2"
      },
      "execution_count": 20,
      "outputs": [
        {
          "output_type": "stream",
          "name": "stderr",
          "text": [
            "/usr/local/lib/python3.10/dist-packages/scipy/stats/_stats_py.py:1806: UserWarning: kurtosistest only valid for n>=20 ... continuing anyway, n=10\n",
            "  warnings.warn(\"kurtosistest only valid for n>=20 ... continuing \"\n"
          ]
        },
        {
          "output_type": "execute_result",
          "data": {
            "text/plain": [
              "<class 'statsmodels.iolib.summary.Summary'>\n",
              "\"\"\"\n",
              "                            OLS Regression Results                            \n",
              "==============================================================================\n",
              "Dep. Variable:              STRIKEOUT   R-squared:                       0.042\n",
              "Model:                            OLS   Adj. R-squared:                 -0.437\n",
              "Method:                 Least Squares   F-statistic:                   0.08841\n",
              "Date:                Sun, 21 Jul 2024   Prob (F-statistic):              0.964\n",
              "Time:                        10:17:59   Log-Likelihood:                -17.156\n",
              "No. Observations:                  10   AIC:                             42.31\n",
              "Df Residuals:                       6   BIC:                             43.52\n",
              "Df Model:                           3                                         \n",
              "Covariance Type:            nonrobust                                         \n",
              "==============================================================================\n",
              "                 coef    std err          t      P>|t|      [0.025      0.975]\n",
              "------------------------------------------------------------------------------\n",
              "const          8.2860     10.093      0.821      0.443     -16.410      32.982\n",
              "LINE           0.3986      0.796      0.501      0.634      -1.549       2.346\n",
              "ODD            0.0011      0.006      0.198      0.849      -0.013       0.015\n",
              "TOTAL         -0.4583      1.298     -0.353      0.736      -3.634       2.718\n",
              "==============================================================================\n",
              "Omnibus:                        0.315   Durbin-Watson:                   1.918\n",
              "Prob(Omnibus):                  0.854   Jarque-Bera (JB):                0.434\n",
              "Skew:                           0.140   Prob(JB):                        0.805\n",
              "Kurtosis:                       2.018   Cond. No.                     2.29e+03\n",
              "==============================================================================\n",
              "\n",
              "Notes:\n",
              "[1] Standard Errors assume that the covariance matrix of the errors is correctly specified.\n",
              "[2] The condition number is large, 2.29e+03. This might indicate that there are\n",
              "strong multicollinearity or other numerical problems.\n",
              "\"\"\""
            ],
            "text/html": [
              "<table class=\"simpletable\">\n",
              "<caption>OLS Regression Results</caption>\n",
              "<tr>\n",
              "  <th>Dep. Variable:</th>        <td>STRIKEOUT</td>    <th>  R-squared:         </th> <td>   0.042</td>\n",
              "</tr>\n",
              "<tr>\n",
              "  <th>Model:</th>                   <td>OLS</td>       <th>  Adj. R-squared:    </th> <td>  -0.437</td>\n",
              "</tr>\n",
              "<tr>\n",
              "  <th>Method:</th>             <td>Least Squares</td>  <th>  F-statistic:       </th> <td> 0.08841</td>\n",
              "</tr>\n",
              "<tr>\n",
              "  <th>Date:</th>             <td>Sun, 21 Jul 2024</td> <th>  Prob (F-statistic):</th>  <td> 0.964</td> \n",
              "</tr>\n",
              "<tr>\n",
              "  <th>Time:</th>                 <td>10:17:59</td>     <th>  Log-Likelihood:    </th> <td> -17.156</td>\n",
              "</tr>\n",
              "<tr>\n",
              "  <th>No. Observations:</th>      <td>    10</td>      <th>  AIC:               </th> <td>   42.31</td>\n",
              "</tr>\n",
              "<tr>\n",
              "  <th>Df Residuals:</th>          <td>     6</td>      <th>  BIC:               </th> <td>   43.52</td>\n",
              "</tr>\n",
              "<tr>\n",
              "  <th>Df Model:</th>              <td>     3</td>      <th>                     </th>     <td> </td>   \n",
              "</tr>\n",
              "<tr>\n",
              "  <th>Covariance Type:</th>      <td>nonrobust</td>    <th>                     </th>     <td> </td>   \n",
              "</tr>\n",
              "</table>\n",
              "<table class=\"simpletable\">\n",
              "<tr>\n",
              "    <td></td>       <th>coef</th>     <th>std err</th>      <th>t</th>      <th>P>|t|</th>  <th>[0.025</th>    <th>0.975]</th>  \n",
              "</tr>\n",
              "<tr>\n",
              "  <th>const</th> <td>    8.2860</td> <td>   10.093</td> <td>    0.821</td> <td> 0.443</td> <td>  -16.410</td> <td>   32.982</td>\n",
              "</tr>\n",
              "<tr>\n",
              "  <th>LINE</th>  <td>    0.3986</td> <td>    0.796</td> <td>    0.501</td> <td> 0.634</td> <td>   -1.549</td> <td>    2.346</td>\n",
              "</tr>\n",
              "<tr>\n",
              "  <th>ODD</th>   <td>    0.0011</td> <td>    0.006</td> <td>    0.198</td> <td> 0.849</td> <td>   -0.013</td> <td>    0.015</td>\n",
              "</tr>\n",
              "<tr>\n",
              "  <th>TOTAL</th> <td>   -0.4583</td> <td>    1.298</td> <td>   -0.353</td> <td> 0.736</td> <td>   -3.634</td> <td>    2.718</td>\n",
              "</tr>\n",
              "</table>\n",
              "<table class=\"simpletable\">\n",
              "<tr>\n",
              "  <th>Omnibus:</th>       <td> 0.315</td> <th>  Durbin-Watson:     </th> <td>   1.918</td>\n",
              "</tr>\n",
              "<tr>\n",
              "  <th>Prob(Omnibus):</th> <td> 0.854</td> <th>  Jarque-Bera (JB):  </th> <td>   0.434</td>\n",
              "</tr>\n",
              "<tr>\n",
              "  <th>Skew:</th>          <td> 0.140</td> <th>  Prob(JB):          </th> <td>   0.805</td>\n",
              "</tr>\n",
              "<tr>\n",
              "  <th>Kurtosis:</th>      <td> 2.018</td> <th>  Cond. No.          </th> <td>2.29e+03</td>\n",
              "</tr>\n",
              "</table><br/><br/>Notes:<br/>[1] Standard Errors assume that the covariance matrix of the errors is correctly specified.<br/>[2] The condition number is large, 2.29e+03. This might indicate that there are<br/>strong multicollinearity or other numerical problems."
            ],
            "text/latex": "\\begin{center}\n\\begin{tabular}{lclc}\n\\toprule\n\\textbf{Dep. Variable:}    &    STRIKEOUT     & \\textbf{  R-squared:         } &     0.042   \\\\\n\\textbf{Model:}            &       OLS        & \\textbf{  Adj. R-squared:    } &    -0.437   \\\\\n\\textbf{Method:}           &  Least Squares   & \\textbf{  F-statistic:       } &   0.08841   \\\\\n\\textbf{Date:}             & Sun, 21 Jul 2024 & \\textbf{  Prob (F-statistic):} &    0.964    \\\\\n\\textbf{Time:}             &     10:17:59     & \\textbf{  Log-Likelihood:    } &   -17.156   \\\\\n\\textbf{No. Observations:} &          10      & \\textbf{  AIC:               } &     42.31   \\\\\n\\textbf{Df Residuals:}     &           6      & \\textbf{  BIC:               } &     43.52   \\\\\n\\textbf{Df Model:}         &           3      & \\textbf{                     } &             \\\\\n\\textbf{Covariance Type:}  &    nonrobust     & \\textbf{                     } &             \\\\\n\\bottomrule\n\\end{tabular}\n\\begin{tabular}{lcccccc}\n               & \\textbf{coef} & \\textbf{std err} & \\textbf{t} & \\textbf{P$> |$t$|$} & \\textbf{[0.025} & \\textbf{0.975]}  \\\\\n\\midrule\n\\textbf{const} &       8.2860  &       10.093     &     0.821  &         0.443        &      -16.410    &       32.982     \\\\\n\\textbf{LINE}  &       0.3986  &        0.796     &     0.501  &         0.634        &       -1.549    &        2.346     \\\\\n\\textbf{ODD}   &       0.0011  &        0.006     &     0.198  &         0.849        &       -0.013    &        0.015     \\\\\n\\textbf{TOTAL} &      -0.4583  &        1.298     &    -0.353  &         0.736        &       -3.634    &        2.718     \\\\\n\\bottomrule\n\\end{tabular}\n\\begin{tabular}{lclc}\n\\textbf{Omnibus:}       &  0.315 & \\textbf{  Durbin-Watson:     } &    1.918  \\\\\n\\textbf{Prob(Omnibus):} &  0.854 & \\textbf{  Jarque-Bera (JB):  } &    0.434  \\\\\n\\textbf{Skew:}          &  0.140 & \\textbf{  Prob(JB):          } &    0.805  \\\\\n\\textbf{Kurtosis:}      &  2.018 & \\textbf{  Cond. No.          } & 2.29e+03  \\\\\n\\bottomrule\n\\end{tabular}\n%\\caption{OLS Regression Results}\n\\end{center}\n\nNotes: \\newline\n [1] Standard Errors assume that the covariance matrix of the errors is correctly specified. \\newline\n [2] The condition number is large, 2.29e+03. This might indicate that there are \\newline\n strong multicollinearity or other numerical problems."
          },
          "metadata": {},
          "execution_count": 20
        }
      ]
    },
    {
      "cell_type": "code",
      "source": [
        "# Define the new data point\n",
        "new_data = {\n",
        "    'const': 1,\n",
        "    'LINE': 1.5,\n",
        "    'ODD': -112,\n",
        "    'TOTAL':8.5\n",
        "}\n",
        "\n",
        "# Convert the new data point to a DataFrame\n",
        "new_df = pd.DataFrame([new_data])\n",
        "\n",
        "# Predict the total strikeout using the model\n",
        "predicted_strikeout = model.predict(new_df)\n",
        "predicted_strikeout\n"
      ],
      "metadata": {
        "colab": {
          "base_uri": "https://localhost:8080/"
        },
        "outputId": "de5a5363-fd68-4ae1-c3f5-04ef851f2e9a",
        "id": "276FQqIlzNxu"
      },
      "execution_count": 21,
      "outputs": [
        {
          "output_type": "execute_result",
          "data": {
            "text/plain": [
              "0    4.864428\n",
              "dtype: float64"
            ]
          },
          "metadata": {},
          "execution_count": 21
        }
      ]
    },
    {
      "cell_type": "markdown",
      "source": [
        "#VS CHC"
      ],
      "metadata": {
        "id": "7MYiH40G0WZY"
      }
    },
    {
      "cell_type": "code",
      "source": [],
      "metadata": {
        "id": "XAV22C0W0YbU"
      },
      "execution_count": null,
      "outputs": []
    },
    {
      "cell_type": "code",
      "source": [
        "import pandas as pd\n",
        "import statsmodels.api as sm\n",
        "\n",
        "# Define the data\n",
        "data = {\n",
        "    'LINE': [1.5, -1.5, 1.5, 1.5, 1.5, 1.5, 1.5, 1.5, 1.5, -1.5],\n",
        "    'ODD': [-144, 152, -187, -164, -165, -115, -174, -135, -130, 141],\n",
        "    'TOTAL': [8.5, 8, 8.5, 8.5, 8.5, 8, 8.5, 8.5, 9, 9.5],\n",
        "    'STRIKEOUT': [4, 9, 2, 6, 3, 6, 4, 5, 3, 3]\n",
        "}\n",
        "# Create a DataFrame\n",
        "df = pd.DataFrame(data)\n",
        "\n",
        "# Define the independent variables and the dependent variable\n",
        "X = df[['LINE', 'ODD', 'TOTAL']]\n",
        "y = df['STRIKEOUT']\n",
        "\n",
        "# Add a constant to the independent variables\n",
        "X = sm.add_constant(X)\n",
        "\n",
        "# Fit the linear regression model\n",
        "model = sm.OLS(y, X).fit()\n",
        "\n",
        "# Get the summary of the regression\n",
        "summary = model.summary()\n",
        "summary\n"
      ],
      "metadata": {
        "colab": {
          "base_uri": "https://localhost:8080/",
          "height": 554
        },
        "outputId": "9f7dc294-a7d2-4e4b-dab1-1a21ebcada1a",
        "id": "TljPERXk0Yro"
      },
      "execution_count": 24,
      "outputs": [
        {
          "output_type": "stream",
          "name": "stderr",
          "text": [
            "/usr/local/lib/python3.10/dist-packages/scipy/stats/_stats_py.py:1806: UserWarning: kurtosistest only valid for n>=20 ... continuing anyway, n=10\n",
            "  warnings.warn(\"kurtosistest only valid for n>=20 ... continuing \"\n"
          ]
        },
        {
          "output_type": "execute_result",
          "data": {
            "text/plain": [
              "<class 'statsmodels.iolib.summary.Summary'>\n",
              "\"\"\"\n",
              "                            OLS Regression Results                            \n",
              "==============================================================================\n",
              "Dep. Variable:              STRIKEOUT   R-squared:                       0.788\n",
              "Model:                            OLS   Adj. R-squared:                  0.681\n",
              "Method:                 Least Squares   F-statistic:                     7.418\n",
              "Date:                Sun, 21 Jul 2024   Prob (F-statistic):             0.0192\n",
              "Time:                        10:25:29   Log-Likelihood:                -13.182\n",
              "No. Observations:                  10   AIC:                             34.36\n",
              "Df Residuals:                       6   BIC:                             35.58\n",
              "Df Model:                           3                                         \n",
              "Covariance Type:            nonrobust                                         \n",
              "==============================================================================\n",
              "                 coef    std err          t      P>|t|      [0.025      0.975]\n",
              "------------------------------------------------------------------------------\n",
              "const         34.8998      8.047      4.337      0.005      15.210      54.590\n",
              "LINE           1.5538      1.847      0.841      0.432      -2.965       6.073\n",
              "ODD            0.0248      0.018      1.367      0.221      -0.020       0.069\n",
              "TOTAL         -3.4518      0.932     -3.702      0.010      -5.734      -1.170\n",
              "==============================================================================\n",
              "Omnibus:                        5.845   Durbin-Watson:                   3.055\n",
              "Prob(Omnibus):                  0.054   Jarque-Bera (JB):                2.065\n",
              "Skew:                           1.026   Prob(JB):                        0.356\n",
              "Kurtosis:                       3.864   Cond. No.                     3.35e+03\n",
              "==============================================================================\n",
              "\n",
              "Notes:\n",
              "[1] Standard Errors assume that the covariance matrix of the errors is correctly specified.\n",
              "[2] The condition number is large, 3.35e+03. This might indicate that there are\n",
              "strong multicollinearity or other numerical problems.\n",
              "\"\"\""
            ],
            "text/html": [
              "<table class=\"simpletable\">\n",
              "<caption>OLS Regression Results</caption>\n",
              "<tr>\n",
              "  <th>Dep. Variable:</th>        <td>STRIKEOUT</td>    <th>  R-squared:         </th> <td>   0.788</td>\n",
              "</tr>\n",
              "<tr>\n",
              "  <th>Model:</th>                   <td>OLS</td>       <th>  Adj. R-squared:    </th> <td>   0.681</td>\n",
              "</tr>\n",
              "<tr>\n",
              "  <th>Method:</th>             <td>Least Squares</td>  <th>  F-statistic:       </th> <td>   7.418</td>\n",
              "</tr>\n",
              "<tr>\n",
              "  <th>Date:</th>             <td>Sun, 21 Jul 2024</td> <th>  Prob (F-statistic):</th>  <td>0.0192</td> \n",
              "</tr>\n",
              "<tr>\n",
              "  <th>Time:</th>                 <td>10:25:29</td>     <th>  Log-Likelihood:    </th> <td> -13.182</td>\n",
              "</tr>\n",
              "<tr>\n",
              "  <th>No. Observations:</th>      <td>    10</td>      <th>  AIC:               </th> <td>   34.36</td>\n",
              "</tr>\n",
              "<tr>\n",
              "  <th>Df Residuals:</th>          <td>     6</td>      <th>  BIC:               </th> <td>   35.58</td>\n",
              "</tr>\n",
              "<tr>\n",
              "  <th>Df Model:</th>              <td>     3</td>      <th>                     </th>     <td> </td>   \n",
              "</tr>\n",
              "<tr>\n",
              "  <th>Covariance Type:</th>      <td>nonrobust</td>    <th>                     </th>     <td> </td>   \n",
              "</tr>\n",
              "</table>\n",
              "<table class=\"simpletable\">\n",
              "<tr>\n",
              "    <td></td>       <th>coef</th>     <th>std err</th>      <th>t</th>      <th>P>|t|</th>  <th>[0.025</th>    <th>0.975]</th>  \n",
              "</tr>\n",
              "<tr>\n",
              "  <th>const</th> <td>   34.8998</td> <td>    8.047</td> <td>    4.337</td> <td> 0.005</td> <td>   15.210</td> <td>   54.590</td>\n",
              "</tr>\n",
              "<tr>\n",
              "  <th>LINE</th>  <td>    1.5538</td> <td>    1.847</td> <td>    0.841</td> <td> 0.432</td> <td>   -2.965</td> <td>    6.073</td>\n",
              "</tr>\n",
              "<tr>\n",
              "  <th>ODD</th>   <td>    0.0248</td> <td>    0.018</td> <td>    1.367</td> <td> 0.221</td> <td>   -0.020</td> <td>    0.069</td>\n",
              "</tr>\n",
              "<tr>\n",
              "  <th>TOTAL</th> <td>   -3.4518</td> <td>    0.932</td> <td>   -3.702</td> <td> 0.010</td> <td>   -5.734</td> <td>   -1.170</td>\n",
              "</tr>\n",
              "</table>\n",
              "<table class=\"simpletable\">\n",
              "<tr>\n",
              "  <th>Omnibus:</th>       <td> 5.845</td> <th>  Durbin-Watson:     </th> <td>   3.055</td>\n",
              "</tr>\n",
              "<tr>\n",
              "  <th>Prob(Omnibus):</th> <td> 0.054</td> <th>  Jarque-Bera (JB):  </th> <td>   2.065</td>\n",
              "</tr>\n",
              "<tr>\n",
              "  <th>Skew:</th>          <td> 1.026</td> <th>  Prob(JB):          </th> <td>   0.356</td>\n",
              "</tr>\n",
              "<tr>\n",
              "  <th>Kurtosis:</th>      <td> 3.864</td> <th>  Cond. No.          </th> <td>3.35e+03</td>\n",
              "</tr>\n",
              "</table><br/><br/>Notes:<br/>[1] Standard Errors assume that the covariance matrix of the errors is correctly specified.<br/>[2] The condition number is large, 3.35e+03. This might indicate that there are<br/>strong multicollinearity or other numerical problems."
            ],
            "text/latex": "\\begin{center}\n\\begin{tabular}{lclc}\n\\toprule\n\\textbf{Dep. Variable:}    &    STRIKEOUT     & \\textbf{  R-squared:         } &     0.788   \\\\\n\\textbf{Model:}            &       OLS        & \\textbf{  Adj. R-squared:    } &     0.681   \\\\\n\\textbf{Method:}           &  Least Squares   & \\textbf{  F-statistic:       } &     7.418   \\\\\n\\textbf{Date:}             & Sun, 21 Jul 2024 & \\textbf{  Prob (F-statistic):} &   0.0192    \\\\\n\\textbf{Time:}             &     10:25:29     & \\textbf{  Log-Likelihood:    } &   -13.182   \\\\\n\\textbf{No. Observations:} &          10      & \\textbf{  AIC:               } &     34.36   \\\\\n\\textbf{Df Residuals:}     &           6      & \\textbf{  BIC:               } &     35.58   \\\\\n\\textbf{Df Model:}         &           3      & \\textbf{                     } &             \\\\\n\\textbf{Covariance Type:}  &    nonrobust     & \\textbf{                     } &             \\\\\n\\bottomrule\n\\end{tabular}\n\\begin{tabular}{lcccccc}\n               & \\textbf{coef} & \\textbf{std err} & \\textbf{t} & \\textbf{P$> |$t$|$} & \\textbf{[0.025} & \\textbf{0.975]}  \\\\\n\\midrule\n\\textbf{const} &      34.8998  &        8.047     &     4.337  &         0.005        &       15.210    &       54.590     \\\\\n\\textbf{LINE}  &       1.5538  &        1.847     &     0.841  &         0.432        &       -2.965    &        6.073     \\\\\n\\textbf{ODD}   &       0.0248  &        0.018     &     1.367  &         0.221        &       -0.020    &        0.069     \\\\\n\\textbf{TOTAL} &      -3.4518  &        0.932     &    -3.702  &         0.010        &       -5.734    &       -1.170     \\\\\n\\bottomrule\n\\end{tabular}\n\\begin{tabular}{lclc}\n\\textbf{Omnibus:}       &  5.845 & \\textbf{  Durbin-Watson:     } &    3.055  \\\\\n\\textbf{Prob(Omnibus):} &  0.054 & \\textbf{  Jarque-Bera (JB):  } &    2.065  \\\\\n\\textbf{Skew:}          &  1.026 & \\textbf{  Prob(JB):          } &    0.356  \\\\\n\\textbf{Kurtosis:}      &  3.864 & \\textbf{  Cond. No.          } & 3.35e+03  \\\\\n\\bottomrule\n\\end{tabular}\n%\\caption{OLS Regression Results}\n\\end{center}\n\nNotes: \\newline\n [1] Standard Errors assume that the covariance matrix of the errors is correctly specified. \\newline\n [2] The condition number is large, 3.35e+03. This might indicate that there are \\newline\n strong multicollinearity or other numerical problems."
          },
          "metadata": {},
          "execution_count": 24
        }
      ]
    },
    {
      "cell_type": "code",
      "source": [
        "# Define the new data point\n",
        "new_data = {\n",
        "    'const': 1,\n",
        "    'LINE': -1.5,\n",
        "    'ODD': 165,\n",
        "    'TOTAL':7.5\n",
        "}\n",
        "\n",
        "# Convert the new data point to a DataFrame\n",
        "new_df = pd.DataFrame([new_data])\n",
        "\n",
        "# Predict the total strikeout using the model\n",
        "predicted_strikeout = model.predict(new_df)\n",
        "predicted_strikeout\n"
      ],
      "metadata": {
        "colab": {
          "base_uri": "https://localhost:8080/"
        },
        "outputId": "d1a83562-58cd-4fe7-ae13-20ce5c7ea889",
        "id": "APh__Wqh0hPB"
      },
      "execution_count": 25,
      "outputs": [
        {
          "output_type": "execute_result",
          "data": {
            "text/plain": [
              "0    10.773784\n",
              "dtype: float64"
            ]
          },
          "metadata": {},
          "execution_count": 25
        }
      ]
    },
    {
      "cell_type": "markdown",
      "source": [
        "#VS BAL"
      ],
      "metadata": {
        "id": "E_XuKCu4JoKU"
      }
    },
    {
      "cell_type": "code",
      "source": [],
      "metadata": {
        "id": "GGyTPUhZKDZt"
      },
      "execution_count": null,
      "outputs": []
    },
    {
      "cell_type": "code",
      "source": [
        "import pandas as pd\n",
        "import statsmodels.api as sm\n",
        "\n",
        "# Define the data\n",
        "data = {\n",
        "    'LINE': [-1.5, -1.5, 1.5, -1.5, 1.5, -1.5, -1.5, -1.5, -1.5, -1.5],\n",
        "    'ODD': [160, 157, -162, 151, -150, 154, 114, 110, -112, 102],\n",
        "    'TOTAL': [8, 7.5, 9, 8.5, 9, 8.5, 8.5, 9, 8, 9],\n",
        "    'STRIKEOUT': [1, 2, 7, 7, 7, 4, 6, 7, 5, 3]\n",
        "}\n",
        "# Create a DataFrame\n",
        "df = pd.DataFrame(data)\n",
        "\n",
        "# Define the independent variables and the dependent variable\n",
        "X = df[['LINE', 'ODD', 'TOTAL']]\n",
        "y = df['STRIKEOUT']\n",
        "\n",
        "# Add a constant to the independent variables\n",
        "X = sm.add_constant(X)\n",
        "\n",
        "# Fit the linear regression model\n",
        "model = sm.OLS(y, X).fit()\n",
        "\n",
        "# Get the summary of the regression\n",
        "summary = model.summary()\n",
        "summary\n"
      ],
      "metadata": {
        "colab": {
          "base_uri": "https://localhost:8080/",
          "height": 554
        },
        "outputId": "01ab6089-9743-4e8a-cf74-87c4769864c2",
        "id": "6ZuRH5n1KGX6"
      },
      "execution_count": 1,
      "outputs": [
        {
          "output_type": "stream",
          "name": "stderr",
          "text": [
            "/usr/local/lib/python3.10/dist-packages/scipy/stats/_stats_py.py:1806: UserWarning: kurtosistest only valid for n>=20 ... continuing anyway, n=10\n",
            "  warnings.warn(\"kurtosistest only valid for n>=20 ... continuing \"\n"
          ]
        },
        {
          "output_type": "execute_result",
          "data": {
            "text/plain": [
              "<class 'statsmodels.iolib.summary.Summary'>\n",
              "\"\"\"\n",
              "                            OLS Regression Results                            \n",
              "==============================================================================\n",
              "Dep. Variable:              STRIKEOUT   R-squared:                       0.507\n",
              "Model:                            OLS   Adj. R-squared:                  0.260\n",
              "Method:                 Least Squares   F-statistic:                     2.053\n",
              "Date:                Sun, 21 Jul 2024   Prob (F-statistic):              0.208\n",
              "Time:                        16:39:59   Log-Likelihood:                -18.385\n",
              "No. Observations:                  10   AIC:                             44.77\n",
              "Df Residuals:                       6   BIC:                             45.98\n",
              "Df Model:                           3                                         \n",
              "Covariance Type:            nonrobust                                         \n",
              "==============================================================================\n",
              "                 coef    std err          t      P>|t|      [0.025      0.975]\n",
              "------------------------------------------------------------------------------\n",
              "const        -15.6633     12.556     -1.247      0.259     -46.387      15.061\n",
              "LINE          -0.2102      0.952     -0.221      0.833      -2.539       2.119\n",
              "ODD           -0.0066      0.008     -0.809      0.450      -0.027       0.013\n",
              "TOTAL          2.4379      1.440      1.693      0.141      -1.086       5.962\n",
              "==============================================================================\n",
              "Omnibus:                        0.621   Durbin-Watson:                   1.386\n",
              "Prob(Omnibus):                  0.733   Jarque-Bera (JB):                0.221\n",
              "Skew:                          -0.331   Prob(JB):                        0.895\n",
              "Kurtosis:                       2.698   Cond. No.                     2.83e+03\n",
              "==============================================================================\n",
              "\n",
              "Notes:\n",
              "[1] Standard Errors assume that the covariance matrix of the errors is correctly specified.\n",
              "[2] The condition number is large, 2.83e+03. This might indicate that there are\n",
              "strong multicollinearity or other numerical problems.\n",
              "\"\"\""
            ],
            "text/html": [
              "<table class=\"simpletable\">\n",
              "<caption>OLS Regression Results</caption>\n",
              "<tr>\n",
              "  <th>Dep. Variable:</th>        <td>STRIKEOUT</td>    <th>  R-squared:         </th> <td>   0.507</td>\n",
              "</tr>\n",
              "<tr>\n",
              "  <th>Model:</th>                   <td>OLS</td>       <th>  Adj. R-squared:    </th> <td>   0.260</td>\n",
              "</tr>\n",
              "<tr>\n",
              "  <th>Method:</th>             <td>Least Squares</td>  <th>  F-statistic:       </th> <td>   2.053</td>\n",
              "</tr>\n",
              "<tr>\n",
              "  <th>Date:</th>             <td>Sun, 21 Jul 2024</td> <th>  Prob (F-statistic):</th>  <td> 0.208</td> \n",
              "</tr>\n",
              "<tr>\n",
              "  <th>Time:</th>                 <td>16:39:59</td>     <th>  Log-Likelihood:    </th> <td> -18.385</td>\n",
              "</tr>\n",
              "<tr>\n",
              "  <th>No. Observations:</th>      <td>    10</td>      <th>  AIC:               </th> <td>   44.77</td>\n",
              "</tr>\n",
              "<tr>\n",
              "  <th>Df Residuals:</th>          <td>     6</td>      <th>  BIC:               </th> <td>   45.98</td>\n",
              "</tr>\n",
              "<tr>\n",
              "  <th>Df Model:</th>              <td>     3</td>      <th>                     </th>     <td> </td>   \n",
              "</tr>\n",
              "<tr>\n",
              "  <th>Covariance Type:</th>      <td>nonrobust</td>    <th>                     </th>     <td> </td>   \n",
              "</tr>\n",
              "</table>\n",
              "<table class=\"simpletable\">\n",
              "<tr>\n",
              "    <td></td>       <th>coef</th>     <th>std err</th>      <th>t</th>      <th>P>|t|</th>  <th>[0.025</th>    <th>0.975]</th>  \n",
              "</tr>\n",
              "<tr>\n",
              "  <th>const</th> <td>  -15.6633</td> <td>   12.556</td> <td>   -1.247</td> <td> 0.259</td> <td>  -46.387</td> <td>   15.061</td>\n",
              "</tr>\n",
              "<tr>\n",
              "  <th>LINE</th>  <td>   -0.2102</td> <td>    0.952</td> <td>   -0.221</td> <td> 0.833</td> <td>   -2.539</td> <td>    2.119</td>\n",
              "</tr>\n",
              "<tr>\n",
              "  <th>ODD</th>   <td>   -0.0066</td> <td>    0.008</td> <td>   -0.809</td> <td> 0.450</td> <td>   -0.027</td> <td>    0.013</td>\n",
              "</tr>\n",
              "<tr>\n",
              "  <th>TOTAL</th> <td>    2.4379</td> <td>    1.440</td> <td>    1.693</td> <td> 0.141</td> <td>   -1.086</td> <td>    5.962</td>\n",
              "</tr>\n",
              "</table>\n",
              "<table class=\"simpletable\">\n",
              "<tr>\n",
              "  <th>Omnibus:</th>       <td> 0.621</td> <th>  Durbin-Watson:     </th> <td>   1.386</td>\n",
              "</tr>\n",
              "<tr>\n",
              "  <th>Prob(Omnibus):</th> <td> 0.733</td> <th>  Jarque-Bera (JB):  </th> <td>   0.221</td>\n",
              "</tr>\n",
              "<tr>\n",
              "  <th>Skew:</th>          <td>-0.331</td> <th>  Prob(JB):          </th> <td>   0.895</td>\n",
              "</tr>\n",
              "<tr>\n",
              "  <th>Kurtosis:</th>      <td> 2.698</td> <th>  Cond. No.          </th> <td>2.83e+03</td>\n",
              "</tr>\n",
              "</table><br/><br/>Notes:<br/>[1] Standard Errors assume that the covariance matrix of the errors is correctly specified.<br/>[2] The condition number is large, 2.83e+03. This might indicate that there are<br/>strong multicollinearity or other numerical problems."
            ],
            "text/latex": "\\begin{center}\n\\begin{tabular}{lclc}\n\\toprule\n\\textbf{Dep. Variable:}    &    STRIKEOUT     & \\textbf{  R-squared:         } &     0.507   \\\\\n\\textbf{Model:}            &       OLS        & \\textbf{  Adj. R-squared:    } &     0.260   \\\\\n\\textbf{Method:}           &  Least Squares   & \\textbf{  F-statistic:       } &     2.053   \\\\\n\\textbf{Date:}             & Sun, 21 Jul 2024 & \\textbf{  Prob (F-statistic):} &    0.208    \\\\\n\\textbf{Time:}             &     16:39:59     & \\textbf{  Log-Likelihood:    } &   -18.385   \\\\\n\\textbf{No. Observations:} &          10      & \\textbf{  AIC:               } &     44.77   \\\\\n\\textbf{Df Residuals:}     &           6      & \\textbf{  BIC:               } &     45.98   \\\\\n\\textbf{Df Model:}         &           3      & \\textbf{                     } &             \\\\\n\\textbf{Covariance Type:}  &    nonrobust     & \\textbf{                     } &             \\\\\n\\bottomrule\n\\end{tabular}\n\\begin{tabular}{lcccccc}\n               & \\textbf{coef} & \\textbf{std err} & \\textbf{t} & \\textbf{P$> |$t$|$} & \\textbf{[0.025} & \\textbf{0.975]}  \\\\\n\\midrule\n\\textbf{const} &     -15.6633  &       12.556     &    -1.247  &         0.259        &      -46.387    &       15.061     \\\\\n\\textbf{LINE}  &      -0.2102  &        0.952     &    -0.221  &         0.833        &       -2.539    &        2.119     \\\\\n\\textbf{ODD}   &      -0.0066  &        0.008     &    -0.809  &         0.450        &       -0.027    &        0.013     \\\\\n\\textbf{TOTAL} &       2.4379  &        1.440     &     1.693  &         0.141        &       -1.086    &        5.962     \\\\\n\\bottomrule\n\\end{tabular}\n\\begin{tabular}{lclc}\n\\textbf{Omnibus:}       &  0.621 & \\textbf{  Durbin-Watson:     } &    1.386  \\\\\n\\textbf{Prob(Omnibus):} &  0.733 & \\textbf{  Jarque-Bera (JB):  } &    0.221  \\\\\n\\textbf{Skew:}          & -0.331 & \\textbf{  Prob(JB):          } &    0.895  \\\\\n\\textbf{Kurtosis:}      &  2.698 & \\textbf{  Cond. No.          } & 2.83e+03  \\\\\n\\bottomrule\n\\end{tabular}\n%\\caption{OLS Regression Results}\n\\end{center}\n\nNotes: \\newline\n [1] Standard Errors assume that the covariance matrix of the errors is correctly specified. \\newline\n [2] The condition number is large, 2.83e+03. This might indicate that there are \\newline\n strong multicollinearity or other numerical problems."
          },
          "metadata": {},
          "execution_count": 1
        }
      ]
    },
    {
      "cell_type": "code",
      "source": [
        "# Define the new data point\n",
        "new_data = {\n",
        "    'const': 1,\n",
        "    'LINE': 1.5,\n",
        "    'ODD': -178,\n",
        "    'TOTAL':9\n",
        "}\n",
        "\n",
        "# Convert the new data point to a DataFrame\n",
        "new_df = pd.DataFrame([new_data])\n",
        "\n",
        "# Predict the total strikeout using the model\n",
        "predicted_strikeout = model.predict(new_df)\n",
        "predicted_strikeout\n"
      ],
      "metadata": {
        "colab": {
          "base_uri": "https://localhost:8080/"
        },
        "outputId": "c6899550-5a5e-46cd-8e40-341cd09aa08c",
        "id": "VXX8_2o-KI6f"
      },
      "execution_count": 2,
      "outputs": [
        {
          "output_type": "execute_result",
          "data": {
            "text/plain": [
              "0    7.146266\n",
              "dtype: float64"
            ]
          },
          "metadata": {},
          "execution_count": 2
        }
      ]
    }
  ]
}