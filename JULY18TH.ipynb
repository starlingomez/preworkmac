{
  "nbformat": 4,
  "nbformat_minor": 0,
  "metadata": {
    "colab": {
      "provenance": [],
      "authorship_tag": "ABX9TyNouo/cgnjH6edqclZDm8cD",
      "include_colab_link": true
    },
    "kernelspec": {
      "name": "python3",
      "display_name": "Python 3"
    },
    "language_info": {
      "name": "python"
    }
  },
  "cells": [
    {
      "cell_type": "markdown",
      "metadata": {
        "id": "view-in-github",
        "colab_type": "text"
      },
      "source": [
        "<a href=\"https://colab.research.google.com/github/starlingomez/preworkmac/blob/master/JULY18TH.ipynb\" target=\"_parent\"><img src=\"https://colab.research.google.com/assets/colab-badge.svg\" alt=\"Open In Colab\"/></a>"
      ]
    },
    {
      "cell_type": "code",
      "execution_count": 1,
      "metadata": {
        "colab": {
          "base_uri": "https://localhost:8080/",
          "height": 574
        },
        "id": "h8t47MibvTzp",
        "outputId": "d1a920fc-d33d-43af-e511-3a82df10ab9d"
      },
      "outputs": [
        {
          "output_type": "stream",
          "name": "stdout",
          "text": [
            "Mean Squared Error: 0.06602715663356132\n",
            "R-squared: 0.9339728433664387\n"
          ]
        },
        {
          "output_type": "display_data",
          "data": {
            "text/plain": [
              "<Figure size 640x480 with 1 Axes>"
            ],
            "image/png": "[encoded data removed]"
          },
          "metadata": {}
        },
        {
          "output_type": "stream",
          "name": "stdout",
          "text": [
            "                            Coefficient\n",
            "innings_pitched                1.063799\n",
            "total_batter_faced            -0.030599\n",
            "strikeouts_per_nine_inning     0.651992\n"
          ]
        }
      ],
      "source": [
        "import pandas as pd\n",
        "from sklearn.model_selection import train_test_split\n",
        "from sklearn.linear_model import LinearRegression\n",
        "from sklearn.metrics import mean_squared_error, r2_score\n",
        "import matplotlib.pyplot as plt\n",
        "\n",
        "# Data dictionary\n",
        "data = {\n",
        "    'innings_pitched': [4, 7, 6, 5.2, 6, 4, 6, 5, 6, 7],\n",
        "    'total_batter_faced': [21, 24, 26, 25, 22, 18, 27, 23, 26, 27],\n",
        "    'strikeouts_per_nine_inning': [9, 7.71, 10.5, 12.71, 9, 6.75, 4.5, 12.6, 6, 11.57],\n",
        "    'strikeouts': [4, 6, 7, 8, 6, 3, 3, 7, 4, 9]\n",
        "}\n",
        "\n",
        "# Convert data to DataFrame\n",
        "df = pd.DataFrame(data)\n",
        "\n",
        "# Select features and target variable\n",
        "X = df[['innings_pitched', 'total_batter_faced', 'strikeouts_per_nine_inning']]\n",
        "y = df['strikeouts']\n",
        "\n",
        "# Split the data into training and testing sets\n",
        "X_train, X_test, y_train, y_test = train_test_split(X, y, test_size=0.2, random_state=42)\n",
        "\n",
        "# Create a linear regression model\n",
        "model = LinearRegression()\n",
        "\n",
        "# Train the model\n",
        "model.fit(X_train, y_train)\n",
        "\n",
        "# Make predictions on the test set\n",
        "y_pred = model.predict(X_test)\n",
        "\n",
        "# Evaluate the model\n",
        "mse = mean_squared_error(y_test, y_pred)\n",
        "r2 = r2_score(y_test, y_pred)\n",
        "\n",
        "print(f'Mean Squared Error: {mse}')\n",
        "print(f'R-squared: {r2}')\n",
        "\n",
        "# Plot the results\n",
        "plt.scatter(y_test, y_pred)\n",
        "plt.xlabel('Actual Strikeouts')\n",
        "plt.ylabel('Predicted Strikeouts')\n",
        "plt.title('Actual vs Predicted Strikeouts')\n",
        "plt.show()\n",
        "\n",
        "# Print model coefficients\n",
        "coefficients = pd.DataFrame(model.coef_, X.columns, columns=['Coefficient'])\n",
        "print(coefficients)\n"
      ]
    },
    {
      "cell_type": "code",
      "source": [
        "pip install scikit-learn\n"
      ],
      "metadata": {
        "colab": {
          "base_uri": "https://localhost:8080/"
        },
        "id": "5F17dfI4xx5O",
        "outputId": "d03473ce-c51c-4801-e828-19e462665b43"
      },
      "execution_count": 4,
      "outputs": [
        {
          "output_type": "stream",
          "name": "stdout",
          "text": [
            "Requirement already satisfied: scikit-learn in /usr/local/lib/python3.10/dist-packages (1.2.2)\n",
            "Requirement already satisfied: numpy>=1.17.3 in /usr/local/lib/python3.10/dist-packages (from scikit-learn) (1.25.2)\n",
            "Requirement already satisfied: scipy>=1.3.2 in /usr/local/lib/python3.10/dist-packages (from scikit-learn) (1.11.4)\n",
            "Requirement already satisfied: joblib>=1.1.1 in /usr/local/lib/python3.10/dist-packages (from scikit-learn) (1.4.2)\n",
            "Requirement already satisfied: threadpoolctl>=2.0.0 in /usr/local/lib/python3.10/dist-packages (from scikit-learn) (3.5.0)\n"
          ]
        }
      ]
    },
    {
      "cell_type": "code",
      "source": [
        "import numpy as np\n",
        "import pandas as pd\n",
        "from sklearn.model_selection import train_test_split\n",
        "from sklearn.linear_model import LinearRegression\n",
        "from sklearn.metrics import mean_squared_error\n",
        "\n",
        "# Define the data\n",
        "data = {\n",
        "    'LINE': [-1.5, -1.5, -1.5, -1.5, -1.5, -1.5, 1.5, -1.5, -1.5, 1.5],\n",
        "    'ODD': [134, 114, -103, 104, 108, 120, -137, 124, 154, -122],\n",
        "    'TOTAL': [9.5, 9, 8.5, 9, 8.5, 9, 8, 9, 9, 9.5],\n",
        "    'STRIKEOUT': [7, 1, 5, 9, 4, 6, 13, 2, 8, 6]\n",
        "}\n",
        "\n",
        "# Create a DataFrame\n",
        "df = pd.DataFrame(data)\n",
        "\n",
        "# Define the features (X) and target (y)\n",
        "X = df[['LINE', 'ODD', 'TOTAL']] # Use uppercase column names\n",
        "y = df['STRIKEOUT']\n",
        "\n",
        "# Split the data into training and testing sets\n",
        "X_train, X_test, y_train, y_test = train_test_split(X, y, test_size=0.2, random_state=42)\n",
        "\n",
        "# Create a linear regression model\n",
        "model = LinearRegression()\n",
        "\n",
        "# Train the model\n",
        "model.fit(X_train, y_train)\n",
        "\n",
        "# Make predictions on the test set\n",
        "y_pred = model.predict(X_test)\n",
        "\n",
        "# Evaluate the model\n",
        "mse = mean_squared_error(y_test, y_pred)\n",
        "rmse = np.sqrt(mse)\n",
        "\n",
        "print(f\"Root Mean Squared Error: {rmse}\")\n",
        "\n",
        "# Predicting future strikeouts\n",
        "def predict_strikeouts(x_line, odd, total):\n",
        "    return model.predict([[x_line, odd, total]])[0]\n",
        "\n",
        "# Example prediction\n",
        "print(f\"Predicted Strikeouts: {predict_strikeouts(-1.5, 150, 9)}\")\n"
      ],
      "metadata": {
        "colab": {
          "base_uri": "https://localhost:8080/"
        },
        "id": "5RWtElVox7dM",
        "outputId": "1e01ca61-b9cc-40ae-85a2-56e9cfb8d328"
      },
      "execution_count": 9,
      "outputs": [
        {
          "output_type": "stream",
          "name": "stdout",
          "text": [
            "Root Mean Squared Error: 3.5580295135221283\n",
            "Predicted Strikeouts: 5.808002768143901\n"
          ]
        },
        {
          "output_type": "stream",
          "name": "stderr",
          "text": [
            "/usr/local/lib/python3.10/dist-packages/sklearn/base.py:439: UserWarning: X does not have valid feature names, but LinearRegression was fitted with feature names\n",
            "  warnings.warn(\n"
          ]
        }
      ]
    },
    {
      "cell_type": "code",
      "source": [
        "import pandas as pd\n",
        "import statsmodels.api as sm\n",
        "\n",
        "# Define the data\n",
        "data = {\n",
        "    'LINE': [-1.5, -1.5, -1.5, -1.5, -1.5, -1.5, 1.5, -1.5, -1.5, 1.5],\n",
        "    'ODD': [134, 114, -103, 104, 108, 120, -137, 124, 154, -122],\n",
        "    'TOTAL': [9.5, 9, 8.5, 9, 8.5, 9, 8, 9, 9, 9.5],\n",
        "    'STRIKEOUT': [7, 1, 5, 9, 4, 6, 13, 2, 8, 6]\n",
        "}\n",
        "\n",
        "# Create a DataFrame\n",
        "df = pd.DataFrame(data)\n",
        "\n",
        "# Define the independent variables and the dependent variable\n",
        "X = df[['LINE', 'ODD', 'TOTAL']]\n",
        "y = df['STRIKEOUT']\n",
        "\n",
        "# Add a constant to the independent variables\n",
        "X = sm.add_constant(X)\n",
        "\n",
        "# Fit the linear regression model\n",
        "model = sm.OLS(y, X).fit()\n",
        "\n",
        "# Get the summary of the regression\n",
        "summary = model.summary()\n",
        "summary\n"
      ],
      "metadata": {
        "colab": {
          "base_uri": "https://localhost:8080/",
          "height": 554
        },
        "id": "u-urAKb5ykWX",
        "outputId": "68ea5b64-2166-4e84-c7da-7603935ff1b1"
      },
      "execution_count": 10,
      "outputs": [
        {
          "output_type": "stream",
          "name": "stderr",
          "text": [
            "/usr/local/lib/python3.10/dist-packages/scipy/stats/_stats_py.py:1806: UserWarning: kurtosistest only valid for n>=20 ... continuing anyway, n=10\n",
            "  warnings.warn(\"kurtosistest only valid for n>=20 ... continuing \"\n"
          ]
        },
        {
          "output_type": "execute_result",
          "data": {
            "text/plain": [
              "<class 'statsmodels.iolib.summary.Summary'>\n",
              "\"\"\"\n",
              "                            OLS Regression Results                            \n",
              "==============================================================================\n",
              "Dep. Variable:              STRIKEOUT   R-squared:                       0.357\n",
              "Model:                            OLS   Adj. R-squared:                  0.036\n",
              "Method:                 Least Squares   F-statistic:                     1.111\n",
              "Date:                Thu, 18 Jul 2024   Prob (F-statistic):              0.415\n",
              "Time:                        03:19:16   Log-Likelihood:                -23.920\n",
              "No. Observations:                  10   AIC:                             55.84\n",
              "Df Residuals:                       6   BIC:                             57.05\n",
              "Df Model:                           3                                         \n",
              "Covariance Type:            nonrobust                                         \n",
              "==============================================================================\n",
              "                 coef    std err          t      P>|t|      [0.025      0.975]\n",
              "------------------------------------------------------------------------------\n",
              "const         30.0165     24.688      1.216      0.270     -30.392      90.425\n",
              "LINE           1.9034      1.534      1.241      0.261      -1.849       5.656\n",
              "ODD            0.0087      0.017      0.495      0.638      -0.034       0.051\n",
              "TOTAL         -2.5430      2.773     -0.917      0.394      -9.327       4.241\n",
              "==============================================================================\n",
              "Omnibus:                        1.626   Durbin-Watson:                   2.983\n",
              "Prob(Omnibus):                  0.443   Jarque-Bera (JB):                0.801\n",
              "Skew:                          -0.201   Prob(JB):                        0.670\n",
              "Kurtosis:                       1.673   Cond. No.                     2.83e+03\n",
              "==============================================================================\n",
              "\n",
              "Notes:\n",
              "[1] Standard Errors assume that the covariance matrix of the errors is correctly specified.\n",
              "[2] The condition number is large, 2.83e+03. This might indicate that there are\n",
              "strong multicollinearity or other numerical problems.\n",
              "\"\"\""
            ],
            "text/html": [
              "<table class=\"simpletable\">\n",
              "<caption>OLS Regression Results</caption>\n",
              "<tr>\n",
              "  <th>Dep. Variable:</th>        <td>STRIKEOUT</td>    <th>  R-squared:         </th> <td>   0.357</td>\n",
              "</tr>\n",
              "<tr>\n",
              "  <th>Model:</th>                   <td>OLS</td>       <th>  Adj. R-squared:    </th> <td>   0.036</td>\n",
              "</tr>\n",
              "<tr>\n",
              "  <th>Method:</th>             <td>Least Squares</td>  <th>  F-statistic:       </th> <td>   1.111</td>\n",
              "</tr>\n",
              "<tr>\n",
              "  <th>Date:</th>             <td>Thu, 18 Jul 2024</td> <th>  Prob (F-statistic):</th>  <td> 0.415</td> \n",
              "</tr>\n",
              "<tr>\n",
              "  <th>Time:</th>                 <td>03:19:16</td>     <th>  Log-Likelihood:    </th> <td> -23.920</td>\n",
              "</tr>\n",
              "<tr>\n",
              "  <th>No. Observations:</th>      <td>    10</td>      <th>  AIC:               </th> <td>   55.84</td>\n",
              "</tr>\n",
              "<tr>\n",
              "  <th>Df Residuals:</th>          <td>     6</td>      <th>  BIC:               </th> <td>   57.05</td>\n",
              "</tr>\n",
              "<tr>\n",
              "  <th>Df Model:</th>              <td>     3</td>      <th>                     </th>     <td> </td>   \n",
              "</tr>\n",
              "<tr>\n",
              "  <th>Covariance Type:</th>      <td>nonrobust</td>    <th>                     </th>     <td> </td>   \n",
              "</tr>\n",
              "</table>\n",
              "<table class=\"simpletable\">\n",
              "<tr>\n",
              "    <td></td>       <th>coef</th>     <th>std err</th>      <th>t</th>      <th>P>|t|</th>  <th>[0.025</th>    <th>0.975]</th>  \n",
              "</tr>\n",
              "<tr>\n",
              "  <th>const</th> <td>   30.0165</td> <td>   24.688</td> <td>    1.216</td> <td> 0.270</td> <td>  -30.392</td> <td>   90.425</td>\n",
              "</tr>\n",
              "<tr>\n",
              "  <th>LINE</th>  <td>    1.9034</td> <td>    1.534</td> <td>    1.241</td> <td> 0.261</td> <td>   -1.849</td> <td>    5.656</td>\n",
              "</tr>\n",
              "<tr>\n",
              "  <th>ODD</th>   <td>    0.0087</td> <td>    0.017</td> <td>    0.495</td> <td> 0.638</td> <td>   -0.034</td> <td>    0.051</td>\n",
              "</tr>\n",
              "<tr>\n",
              "  <th>TOTAL</th> <td>   -2.5430</td> <td>    2.773</td> <td>   -0.917</td> <td> 0.394</td> <td>   -9.327</td> <td>    4.241</td>\n",
              "</tr>\n",
              "</table>\n",
              "<table class=\"simpletable\">\n",
              "<tr>\n",
              "  <th>Omnibus:</th>       <td> 1.626</td> <th>  Durbin-Watson:     </th> <td>   2.983</td>\n",
              "</tr>\n",
              "<tr>\n",
              "  <th>Prob(Omnibus):</th> <td> 0.443</td> <th>  Jarque-Bera (JB):  </th> <td>   0.801</td>\n",
              "</tr>\n",
              "<tr>\n",
              "  <th>Skew:</th>          <td>-0.201</td> <th>  Prob(JB):          </th> <td>   0.670</td>\n",
              "</tr>\n",
              "<tr>\n",
              "  <th>Kurtosis:</th>      <td> 1.673</td> <th>  Cond. No.          </th> <td>2.83e+03</td>\n",
              "</tr>\n",
              "</table><br/><br/>Notes:<br/>[1] Standard Errors assume that the covariance matrix of the errors is correctly specified.<br/>[2] The condition number is large, 2.83e+03. This might indicate that there are<br/>strong multicollinearity or other numerical problems."
            ],
            "text/latex": "\\begin{center}\n\\begin{tabular}{lclc}\n\\toprule\n\\textbf{Dep. Variable:}    &    STRIKEOUT     & \\textbf{  R-squared:         } &     0.357   \\\\\n\\textbf{Model:}            &       OLS        & \\textbf{  Adj. R-squared:    } &     0.036   \\\\\n\\textbf{Method:}           &  Least Squares   & \\textbf{  F-statistic:       } &     1.111   \\\\\n\\textbf{Date:}             & Thu, 18 Jul 2024 & \\textbf{  Prob (F-statistic):} &    0.415    \\\\\n\\textbf{Time:}             &     03:19:16     & \\textbf{  Log-Likelihood:    } &   -23.920   \\\\\n\\textbf{No. Observations:} &          10      & \\textbf{  AIC:               } &     55.84   \\\\\n\\textbf{Df Residuals:}     &           6      & \\textbf{  BIC:               } &     57.05   \\\\\n\\textbf{Df Model:}         &           3      & \\textbf{                     } &             \\\\\n\\textbf{Covariance Type:}  &    nonrobust     & \\textbf{                     } &             \\\\\n\\bottomrule\n\\end{tabular}\n\\begin{tabular}{lcccccc}\n               & \\textbf{coef} & \\textbf{std err} & \\textbf{t} & \\textbf{P$> |$t$|$} & \\textbf{[0.025} & \\textbf{0.975]}  \\\\\n\\midrule\n\\textbf{const} &      30.0165  &       24.688     &     1.216  &         0.270        &      -30.392    &       90.425     \\\\\n\\textbf{LINE}  &       1.9034  &        1.534     &     1.241  &         0.261        &       -1.849    &        5.656     \\\\\n\\textbf{ODD}   &       0.0087  &        0.017     &     0.495  &         0.638        &       -0.034    &        0.051     \\\\\n\\textbf{TOTAL} &      -2.5430  &        2.773     &    -0.917  &         0.394        &       -9.327    &        4.241     \\\\\n\\bottomrule\n\\end{tabular}\n\\begin{tabular}{lclc}\n\\textbf{Omnibus:}       &  1.626 & \\textbf{  Durbin-Watson:     } &    2.983  \\\\\n\\textbf{Prob(Omnibus):} &  0.443 & \\textbf{  Jarque-Bera (JB):  } &    0.801  \\\\\n\\textbf{Skew:}          & -0.201 & \\textbf{  Prob(JB):          } &    0.670  \\\\\n\\textbf{Kurtosis:}      &  1.673 & \\textbf{  Cond. No.          } & 2.83e+03  \\\\\n\\bottomrule\n\\end{tabular}\n%\\caption{OLS Regression Results}\n\\end{center}\n\nNotes: \\newline\n [1] Standard Errors assume that the covariance matrix of the errors is correctly specified. \\newline\n [2] The condition number is large, 2.83e+03. This might indicate that there are \\newline\n strong multicollinearity or other numerical problems."
          },
          "metadata": {},
          "execution_count": 10
        }
      ]
    },
    {
      "cell_type": "code",
      "source": [
        "# Define the new data point\n",
        "new_data = {\n",
        "    'const': 1,\n",
        "    'LINE': -1.5,\n",
        "    'ODD': 113,\n",
        "    'TOTAL': 9,\n",
        "}\n",
        "\n",
        "# Convert the new data point to a DataFrame\n",
        "new_df = pd.DataFrame([new_data])\n",
        "\n",
        "# Predict the total strikeout using the model\n",
        "predicted_strikeout = model.predict(new_df)\n",
        "predicted_strikeout\n"
      ],
      "metadata": {
        "colab": {
          "base_uri": "https://localhost:8080/"
        },
        "id": "_FEiem1eyqus",
        "outputId": "c9842bbe-c425-4c4a-bf22-43bbd71abd02"
      },
      "execution_count": 12,
      "outputs": [
        {
          "output_type": "execute_result",
          "data": {
            "text/plain": [
              "0    5.252203\n",
              "dtype: float64"
            ]
          },
          "metadata": {},
          "execution_count": 12
        }
      ]
    }
  ]
}