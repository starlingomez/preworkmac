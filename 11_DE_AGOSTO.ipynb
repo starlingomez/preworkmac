{
  "nbformat": 4,
  "nbformat_minor": 0,
  "metadata": {
    "colab": {
      "provenance": [],
      "toc_visible": true,
      "authorship_tag": "ABX9TyOYOVaJihx0xxPzeJ6w9Kn5",
      "include_colab_link": true
    },
    "kernelspec": {
      "name": "python3",
      "display_name": "Python 3"
    },
    "language_info": {
      "name": "python"
    }
  },
  "cells": [
    {
      "cell_type": "markdown",
      "metadata": {
        "id": "view-in-github",
        "colab_type": "text"
      },
      "source": [
        "<a href=\"https://colab.research.google.com/github/starlingomez/preworkmac/blob/master/11_DE_AGOSTO.ipynb\" target=\"_parent\"><img src=\"https://colab.research.google.com/assets/colab-badge.svg\" alt=\"Open In Colab\"/></a>"
      ]
    },
    {
      "cell_type": "code",
      "execution_count": null,
      "metadata": {
        "id": "xwtaWWf4pO0-"
      },
      "outputs": [],
      "source": []
    },
    {
      "cell_type": "markdown",
      "source": [
        "#mackenzie gore"
      ],
      "metadata": {
        "id": "3FhbtuPDp7FJ"
      }
    },
    {
      "cell_type": "code",
      "source": [],
      "metadata": {
        "id": "buIDZI3Jp9us"
      },
      "execution_count": null,
      "outputs": []
    },
    {
      "cell_type": "code",
      "source": [
        "# Import necessary libraries\n",
        "import pandas as pd\n",
        "from sklearn.tree import DecisionTreeRegressor\n",
        "from sklearn.model_selection import train_test_split\n",
        "from sklearn.metrics import mean_squared_error\n",
        "\n",
        "# Input data\n",
        "data = {\n",
        "    'ODD': [6.5, 4.5, 5.5, 6.5, 5.5, 6.5, 5.5, 5.5, 5.5, 6.5],\n",
        "    'OVER': [-112, -162, 135, -135, -160, 124, -134, -130, -148, 124],\n",
        "    'UNDER': [-112, 126, -175, 105, 124, -158, 106, 102, 116, -158],\n",
        "    'STRIKEOUT': [6, 1, 3, 2, 4, 5, 8, 1, 7, 10]\n",
        "}\n",
        "\n",
        "# Convert to DataFrame\n",
        "df = pd.DataFrame(data)\n",
        "\n",
        "# Define independent variables (ODD, OVER, UNDER) and dependent variable (STRIKEOUT)\n",
        "X = df[['ODD', 'OVER', 'UNDER']]\n",
        "y = df['STRIKEOUT']\n",
        "\n",
        "# Split the data into training and testing sets (optional, but recommended)\n",
        "X_train, X_test, y_train, y_test = train_test_split(X, y, test_size=0.2, random_state=42)\n",
        "\n",
        "# Create and fit the Decision Tree Regression model\n",
        "tree_model = DecisionTreeRegressor(random_state=42)\n",
        "tree_model.fit(X_train, y_train)\n",
        "\n",
        "# Make predictions on the test set\n",
        "y_pred = tree_model.predict(X_test)\n",
        "\n",
        "# Evaluate the model (optional)\n",
        "mse = mean_squared_error(y_test, y_pred)\n",
        "print(f\"Mean Squared Error: {mse}\")\n",
        "\n",
        "# To make a prediction with new data\n",
        "new_data = pd.DataFrame({\n",
        "   'ODD': [5.5],\n",
        "    'OVER': [104],\n",
        "    'UNDER': [-132]\n",
        "})\n",
        "\n",
        "predicted_strikeout = tree_model.predict(new_data)\n",
        "print(f\"Predicted Strikeout: {predicted_strikeout[0]}\")\n"
      ],
      "metadata": {
        "colab": {
          "base_uri": "https://localhost:8080/"
        },
        "outputId": "78938ca6-a876-49a8-b9a9-1daf271e2f01",
        "id": "fAzhnjifym8b"
      },
      "execution_count": 2,
      "outputs": [
        {
          "output_type": "stream",
          "name": "stdout",
          "text": [
            "Mean Squared Error: 9.0\n",
            "Predicted Strikeout: 3.0\n"
          ]
        }
      ]
    },
    {
      "cell_type": "markdown",
      "source": [
        "#HUNTER BROWN"
      ],
      "metadata": {
        "id": "6tPjtcTkrK2y"
      }
    },
    {
      "cell_type": "code",
      "source": [],
      "metadata": {
        "id": "z3URUk48rODN"
      },
      "execution_count": null,
      "outputs": []
    },
    {
      "cell_type": "code",
      "source": [
        "# Import necessary libraries\n",
        "import pandas as pd\n",
        "from sklearn.tree import DecisionTreeRegressor\n",
        "from sklearn.model_selection import train_test_split\n",
        "from sklearn.metrics import mean_squared_error\n",
        "\n",
        "# Input data\n",
        "data = {\n",
        "    'ODD': [5.5, 6.5, 6.5, 6.5, 5.5, 5.5, 4.5, 7.5, 5.5, 5.5],\n",
        "    'OVER': [-104, -134, 105, -130, -135, -108, -132, -102, -162, -154],\n",
        "    'UNDER': [-122, 106, -140, 100, 100, -118, 104, -126, 126, 122],\n",
        "    'STRIKEOUT': [4, 8, 8, 5, 5, 6, 5, 7, 6, 9]\n",
        "}\n",
        "\n",
        "# Convert to DataFrame\n",
        "df = pd.DataFrame(data)\n",
        "\n",
        "# Define independent variables (ODD, OVER, UNDER) and dependent variable (STRIKEOUT)\n",
        "X = df[['ODD', 'OVER', 'UNDER']]\n",
        "y = df['STRIKEOUT']\n",
        "\n",
        "# Split the data into training and testing sets (optional, but recommended)\n",
        "X_train, X_test, y_train, y_test = train_test_split(X, y, test_size=0.2, random_state=42)\n",
        "\n",
        "# Create and fit the Decision Tree Regression model\n",
        "tree_model = DecisionTreeRegressor(random_state=42)\n",
        "tree_model.fit(X_train, y_train)\n",
        "\n",
        "# Make predictions on the test set\n",
        "y_pred = tree_model.predict(X_test)\n",
        "\n",
        "# Evaluate the model (optional)\n",
        "mse = mean_squared_error(y_test, y_pred)\n",
        "print(f\"Mean Squared Error: {mse}\")\n",
        "\n",
        "# To make a prediction with new data\n",
        "new_data = pd.DataFrame({\n",
        "   'ODD': [5.5],\n",
        "    'OVER': [-128],\n",
        "    'UNDER': [-100]\n",
        "})\n",
        "\n",
        "predicted_strikeout = tree_model.predict(new_data)\n",
        "print(f\"Predicted Strikeout: {predicted_strikeout[0]}\")\n"
      ],
      "metadata": {
        "colab": {
          "base_uri": "https://localhost:8080/"
        },
        "outputId": "64b8b9a2-8260-401d-ab7d-43a60116e97a",
        "id": "RLAIbHwVrOLc"
      },
      "execution_count": 3,
      "outputs": [
        {
          "output_type": "stream",
          "name": "stdout",
          "text": [
            "Mean Squared Error: 9.0\n",
            "Predicted Strikeout: 5.0\n"
          ]
        }
      ]
    },
    {
      "cell_type": "markdown",
      "source": [
        "#ANDREW HEANY"
      ],
      "metadata": {
        "id": "JEJDTI-9sJEL"
      }
    },
    {
      "cell_type": "code",
      "source": [],
      "metadata": {
        "id": "lyN3FsmKsL6i"
      },
      "execution_count": null,
      "outputs": []
    },
    {
      "cell_type": "code",
      "source": [
        "# Import necessary libraries\n",
        "import pandas as pd\n",
        "from sklearn.tree import DecisionTreeRegressor\n",
        "from sklearn.model_selection import train_test_split\n",
        "from sklearn.metrics import mean_squared_error\n",
        "\n",
        "# Input data\n",
        "data = {\n",
        "    \"ODD\": [4.5, 4.5, 4.5, 5.5, 4.5, 5.5, 4.5, 5.5, 4.5, 5.5],\n",
        "    \"OVER\": [-116, -111, -130, -135, -135, -128, -122, 134, -146, -166],\n",
        "    \"UNDER\": [-110, -115, 100, 105, 105, -100, -104, -172, 116, 128],\n",
        "    \"STRIKEOUT\": [4, 2, 4, 4, 5, 7, 10, 4, 9, 4]\n",
        "}\n",
        "\n",
        "# Convert to DataFrame\n",
        "df = pd.DataFrame(data)\n",
        "\n",
        "# Define independent variables (ODD, OVER, UNDER) and dependent variable (STRIKEOUT)\n",
        "X = df[['ODD', 'OVER', 'UNDER']]\n",
        "y = df['STRIKEOUT']\n",
        "\n",
        "# Split the data into training and testing sets (optional, but recommended)\n",
        "X_train, X_test, y_train, y_test = train_test_split(X, y, test_size=0.2, random_state=42)\n",
        "\n",
        "# Create and fit the Decision Tree Regression model\n",
        "tree_model = DecisionTreeRegressor(random_state=42)\n",
        "tree_model.fit(X_train, y_train)\n",
        "\n",
        "# Make predictions on the test set\n",
        "y_pred = tree_model.predict(X_test)\n",
        "\n",
        "# Evaluate the model (optional)\n",
        "mse = mean_squared_error(y_test, y_pred)\n",
        "print(f\"Mean Squared Error: {mse}\")\n",
        "\n",
        "# To make a prediction with new data\n",
        "new_data = pd.DataFrame({\n",
        "   'ODD': [4.5],\n",
        "    'OVER': [-100],\n",
        "    'UNDER': [-125]\n",
        "})\n",
        "\n",
        "predicted_strikeout = tree_model.predict(new_data)\n",
        "print(f\"Predicted Strikeout: {predicted_strikeout[0]}\")\n"
      ],
      "metadata": {
        "colab": {
          "base_uri": "https://localhost:8080/"
        },
        "outputId": "e63a6398-4e50-40ae-a715-244546a637d4",
        "id": "xZ7HF7PgsMK2"
      },
      "execution_count": 4,
      "outputs": [
        {
          "output_type": "stream",
          "name": "stdout",
          "text": [
            "Mean Squared Error: 10.0\n",
            "Predicted Strikeout: 4.0\n"
          ]
        }
      ]
    },
    {
      "cell_type": "code",
      "source": [],
      "metadata": {
        "id": "kLYqctjjrKkn"
      },
      "execution_count": null,
      "outputs": []
    },
    {
      "cell_type": "markdown",
      "source": [
        "#DYLAN CEASE"
      ],
      "metadata": {
        "id": "FeoYNcDKtN66"
      }
    },
    {
      "cell_type": "code",
      "source": [],
      "metadata": {
        "id": "S4q0bxd6tSfR"
      },
      "execution_count": null,
      "outputs": []
    },
    {
      "cell_type": "code",
      "source": [
        "# Import necessary libraries\n",
        "import pandas as pd\n",
        "from sklearn.tree import DecisionTreeRegressor\n",
        "from sklearn.model_selection import train_test_split\n",
        "from sklearn.metrics import mean_squared_error\n",
        "\n",
        "# Input data\n",
        "data = {\n",
        "    \"ODD\": [7.5, 8.5, 6.5, 5.5, 7.5, 6.5, 6.5, 6.5, 7.5, 7.5],\n",
        "    \"OVER\": [-104, 112, -125, -135, -105, -122, -136, -112, 120, -100],\n",
        "    \"UNDER\": [-122, -144, -105, 105, -120, -104, 106, -112, -152, -128],\n",
        "    \"STRIKEOUT\": [2, 6, 9, 10, 11, 8, 5, 9, 10, 5]\n",
        "}\n",
        "\n",
        "# Convert to DataFrame\n",
        "df = pd.DataFrame(data)\n",
        "\n",
        "# Define independent variables (ODD, OVER, UNDER) and dependent variable (STRIKEOUT)\n",
        "X = df[['ODD', 'OVER', 'UNDER']]\n",
        "y = df['STRIKEOUT']\n",
        "\n",
        "# Split the data into training and testing sets (optional, but recommended)\n",
        "X_train, X_test, y_train, y_test = train_test_split(X, y, test_size=0.2, random_state=42)\n",
        "\n",
        "# Create and fit the Decision Tree Regression model\n",
        "tree_model = DecisionTreeRegressor(random_state=42)\n",
        "tree_model.fit(X_train, y_train)\n",
        "\n",
        "# Make predictions on the test set\n",
        "y_pred = tree_model.predict(X_test)\n",
        "\n",
        "# Evaluate the model (optional)\n",
        "mse = mean_squared_error(y_test, y_pred)\n",
        "print(f\"Mean Squared Error: {mse}\")\n",
        "\n",
        "# To make a prediction with new data\n",
        "new_data = pd.DataFrame({\n",
        "   'ODD': [7.5],\n",
        "    'OVER': [-106],\n",
        "    'UNDER': [-120]\n",
        "})\n",
        "\n",
        "predicted_strikeout = tree_model.predict(new_data)\n",
        "print(f\"Predicted Strikeout: {predicted_strikeout[0]}\")\n"
      ],
      "metadata": {
        "colab": {
          "base_uri": "https://localhost:8080/"
        },
        "outputId": "ef408a66-c761-46f0-aea7-692366760ab8",
        "id": "BYyTRZZ6tStR"
      },
      "execution_count": 5,
      "outputs": [
        {
          "output_type": "stream",
          "name": "stdout",
          "text": [
            "Mean Squared Error: 13.0\n",
            "Predicted Strikeout: 11.0\n"
          ]
        }
      ]
    },
    {
      "cell_type": "code",
      "source": [],
      "metadata": {
        "id": "tb0iqv3g11dl"
      },
      "execution_count": null,
      "outputs": []
    },
    {
      "cell_type": "code",
      "source": [
        "# Import necessary libraries\n",
        "import pandas as pd\n",
        "from sklearn.tree import DecisionTreeRegressor\n",
        "from sklearn.model_selection import train_test_split\n",
        "from sklearn.metrics import mean_squared_error\n",
        "\n",
        "# Input data\n",
        "data = {\n",
        "    \"OVER\": [-104, 112, -125, -135, -105, -122, -136, -112, 120, -100],\n",
        "    \"UNDER\": [-122, -144, -105, 105, -120, -104, 106, -112, -152, -128],\n",
        "    \"STRIKEOUT\": [2, 6, 9, 10, 11, 8, 5, 9, 10, 5]\n",
        "}\n",
        "\n",
        "# Convert to DataFrame\n",
        "df = pd.DataFrame(data)\n",
        "\n",
        "# Define independent variables (ODD, OVER, UNDER) and dependent variable (STRIKEOUT)\n",
        "X = df[['OVER', 'UNDER']]\n",
        "y = df['STRIKEOUT']\n",
        "\n",
        "# Split the data into training and testing sets (optional, but recommended)\n",
        "X_train, X_test, y_train, y_test = train_test_split(X, y, test_size=0.2, random_state=42)\n",
        "\n",
        "# Create and fit the Decision Tree Regression model\n",
        "tree_model = DecisionTreeRegressor(random_state=42)\n",
        "tree_model.fit(X_train, y_train)\n",
        "\n",
        "# Make predictions on the test set\n",
        "y_pred = tree_model.predict(X_test)\n",
        "\n",
        "# Evaluate the model (optional)\n",
        "mse = mean_squared_error(y_test, y_pred)\n",
        "print(f\"Mean Squared Error: {mse}\")\n",
        "\n",
        "# To make a prediction with new data\n",
        "new_data = pd.DataFrame({\n",
        "    'OVER': [-106],\n",
        "    'UNDER': [-120]\n",
        "})\n",
        "\n",
        "predicted_strikeout = tree_model.predict(new_data)\n",
        "print(f\"Predicted Strikeout: {predicted_strikeout[0]}\")\n"
      ],
      "metadata": {
        "colab": {
          "base_uri": "https://localhost:8080/"
        },
        "outputId": "5b799813-a7f7-4a8b-a5b1-47723e86b098",
        "id": "YvYL2rNs13vf"
      },
      "execution_count": 4,
      "outputs": [
        {
          "output_type": "stream",
          "name": "stdout",
          "text": [
            "Mean Squared Error: 13.0\n",
            "Predicted Strikeout: 11.0\n"
          ]
        }
      ]
    },
    {
      "cell_type": "code",
      "source": [
        "import pandas as pd\n",
        "from sklearn.linear_model import LogisticRegression\n",
        "import statsmodels.api as sm\n",
        "\n",
        "# Define the data\n",
        "data = {\n",
        "    \"OVER\": [-104, 112, -125, -135, -105, -122, -136, -112, 120, -100],\n",
        "    \"UNDER\": [-122, -144, -105, 105, -120, -104, 106, -112, -152, -128],\n",
        "    \"RESULT\": [0, 0, 1, 1, 1, 1, 0, 1, 1, 0]\n",
        "}\n",
        "\n",
        "# Convert the data into a DataFrame\n",
        "df = pd.DataFrame(data)\n",
        "\n",
        "# Define the independent variables (X) and dependent variable (y)\n",
        "X = df[[\"OVER\", \"UNDER\"]]\n",
        "y = df[\"RESULT\"]\n",
        "\n",
        "# Add a constant to the model (intercept)\n",
        "X = sm.add_constant(X)\n",
        "\n",
        "# Fit the logistic regression model using statsmodels\n",
        "model = sm.Logit(y, X)\n",
        "result = model.fit()\n",
        "\n",
        "# Get the summary of the model\n",
        "logit_summary = result.summary()\n",
        "logit_summary\n"
      ],
      "metadata": {
        "colab": {
          "base_uri": "https://localhost:8080/",
          "height": 320
        },
        "id": "Bpfbt03d33zT",
        "outputId": "ce2a1e8a-ede4-4d62-8774-70c04470c08b"
      },
      "execution_count": 6,
      "outputs": [
        {
          "output_type": "stream",
          "name": "stdout",
          "text": [
            "Optimization terminated successfully.\n",
            "         Current function value: 0.658812\n",
            "         Iterations 4\n"
          ]
        },
        {
          "output_type": "execute_result",
          "data": {
            "text/plain": [
              "<class 'statsmodels.iolib.summary.Summary'>\n",
              "\"\"\"\n",
              "                           Logit Regression Results                           \n",
              "==============================================================================\n",
              "Dep. Variable:                 RESULT   No. Observations:                   10\n",
              "Model:                          Logit   Df Residuals:                        7\n",
              "Method:                           MLE   Df Model:                            2\n",
              "Date:                Sun, 11 Aug 2024   Pseudo R-squ.:                 0.02110\n",
              "Time:                        23:57:09   Log-Likelihood:                -6.5881\n",
              "converged:                       True   LL-Null:                       -6.7301\n",
              "Covariance Type:            nonrobust   LLR p-value:                    0.8676\n",
              "==============================================================================\n",
              "                 coef    std err          z      P>|z|      [0.025      0.975]\n",
              "------------------------------------------------------------------------------\n",
              "const         -0.0980      1.169     -0.084      0.933      -2.390       2.194\n",
              "OVER          -0.0040      0.008     -0.508      0.611      -0.019       0.011\n",
              "UNDER         -0.0030      0.008     -0.382      0.703      -0.018       0.012\n",
              "==============================================================================\n",
              "\"\"\""
            ],
            "text/html": [
              "<table class=\"simpletable\">\n",
              "<caption>Logit Regression Results</caption>\n",
              "<tr>\n",
              "  <th>Dep. Variable:</th>        <td>RESULT</td>      <th>  No. Observations:  </th>  <td>    10</td> \n",
              "</tr>\n",
              "<tr>\n",
              "  <th>Model:</th>                 <td>Logit</td>      <th>  Df Residuals:      </th>  <td>     7</td> \n",
              "</tr>\n",
              "<tr>\n",
              "  <th>Method:</th>                 <td>MLE</td>       <th>  Df Model:          </th>  <td>     2</td> \n",
              "</tr>\n",
              "<tr>\n",
              "  <th>Date:</th>            <td>Sun, 11 Aug 2024</td> <th>  Pseudo R-squ.:     </th>  <td>0.02110</td>\n",
              "</tr>\n",
              "<tr>\n",
              "  <th>Time:</th>                <td>23:57:09</td>     <th>  Log-Likelihood:    </th> <td> -6.5881</td>\n",
              "</tr>\n",
              "<tr>\n",
              "  <th>converged:</th>             <td>True</td>       <th>  LL-Null:           </th> <td> -6.7301</td>\n",
              "</tr>\n",
              "<tr>\n",
              "  <th>Covariance Type:</th>     <td>nonrobust</td>    <th>  LLR p-value:       </th>  <td>0.8676</td> \n",
              "</tr>\n",
              "</table>\n",
              "<table class=\"simpletable\">\n",
              "<tr>\n",
              "    <td></td>       <th>coef</th>     <th>std err</th>      <th>z</th>      <th>P>|z|</th>  <th>[0.025</th>    <th>0.975]</th>  \n",
              "</tr>\n",
              "<tr>\n",
              "  <th>const</th> <td>   -0.0980</td> <td>    1.169</td> <td>   -0.084</td> <td> 0.933</td> <td>   -2.390</td> <td>    2.194</td>\n",
              "</tr>\n",
              "<tr>\n",
              "  <th>OVER</th>  <td>   -0.0040</td> <td>    0.008</td> <td>   -0.508</td> <td> 0.611</td> <td>   -0.019</td> <td>    0.011</td>\n",
              "</tr>\n",
              "<tr>\n",
              "  <th>UNDER</th> <td>   -0.0030</td> <td>    0.008</td> <td>   -0.382</td> <td> 0.703</td> <td>   -0.018</td> <td>    0.012</td>\n",
              "</tr>\n",
              "</table>"
            ],
            "text/latex": "\\begin{center}\n\\begin{tabular}{lclc}\n\\toprule\n\\textbf{Dep. Variable:}   &      RESULT      & \\textbf{  No. Observations:  } &       10    \\\\\n\\textbf{Model:}           &      Logit       & \\textbf{  Df Residuals:      } &        7    \\\\\n\\textbf{Method:}          &       MLE        & \\textbf{  Df Model:          } &        2    \\\\\n\\textbf{Date:}            & Sun, 11 Aug 2024 & \\textbf{  Pseudo R-squ.:     } &  0.02110    \\\\\n\\textbf{Time:}            &     23:57:09     & \\textbf{  Log-Likelihood:    } &   -6.5881   \\\\\n\\textbf{converged:}       &       True       & \\textbf{  LL-Null:           } &   -6.7301   \\\\\n\\textbf{Covariance Type:} &    nonrobust     & \\textbf{  LLR p-value:       } &   0.8676    \\\\\n\\bottomrule\n\\end{tabular}\n\\begin{tabular}{lcccccc}\n               & \\textbf{coef} & \\textbf{std err} & \\textbf{z} & \\textbf{P$> |$z$|$} & \\textbf{[0.025} & \\textbf{0.975]}  \\\\\n\\midrule\n\\textbf{const} &      -0.0980  &        1.169     &    -0.084  &         0.933        &       -2.390    &        2.194     \\\\\n\\textbf{OVER}  &      -0.0040  &        0.008     &    -0.508  &         0.611        &       -0.019    &        0.011     \\\\\n\\textbf{UNDER} &      -0.0030  &        0.008     &    -0.382  &         0.703        &       -0.018    &        0.012     \\\\\n\\bottomrule\n\\end{tabular}\n%\\caption{Logit Regression Results}\n\\end{center}"
          },
          "metadata": {},
          "execution_count": 6
        }
      ]
    },
    {
      "cell_type": "markdown",
      "source": [
        "# Sección nueva"
      ],
      "metadata": {
        "id": "tm91a6WZ4s3E"
      }
    },
    {
      "cell_type": "code",
      "source": [
        "# Define the new data point\n",
        "new_data = pd.DataFrame({\n",
        "    \"const\": [1],  # adding the intercept (constant)\n",
        "    \"OVER\": [-106],\n",
        "    \"UNDER\": [-120]\n",
        "})\n",
        "\n",
        "# Predict the probability of RESULT being 1\n",
        "predicted_prob = result.predict(new_data)\n",
        "predicted_prob\n"
      ],
      "metadata": {
        "colab": {
          "base_uri": "https://localhost:8080/",
          "height": 114
        },
        "id": "zdhQf2eR3_Zs",
        "outputId": "6e1c038a-f35e-4b3e-fdd1-0f27a2aea85c"
      },
      "execution_count": 7,
      "outputs": [
        {
          "output_type": "execute_result",
          "data": {
            "text/plain": [
              "0    0.664444\n",
              "dtype: float64"
            ],
            "text/html": [
              "<div>\n",
              "<style scoped>\n",
              "    .dataframe tbody tr th:only-of-type {\n",
              "        vertical-align: middle;\n",
              "    }\n",
              "\n",
              "    .dataframe tbody tr th {\n",
              "        vertical-align: top;\n",
              "    }\n",
              "\n",
              "    .dataframe thead th {\n",
              "        text-align: right;\n",
              "    }\n",
              "</style>\n",
              "<table border=\"1\" class=\"dataframe\">\n",
              "  <thead>\n",
              "    <tr style=\"text-align: right;\">\n",
              "      <th></th>\n",
              "      <th>0</th>\n",
              "    </tr>\n",
              "  </thead>\n",
              "  <tbody>\n",
              "    <tr>\n",
              "      <th>0</th>\n",
              "      <td>0.664444</td>\n",
              "    </tr>\n",
              "  </tbody>\n",
              "</table>\n",
              "</div><br><label><b>dtype:</b> float64</label>"
            ]
          },
          "metadata": {},
          "execution_count": 7
        }
      ]
    },
    {
      "cell_type": "markdown",
      "source": [
        "#NICK LODOLO"
      ],
      "metadata": {
        "id": "NgUxLt5OxlVR"
      }
    },
    {
      "cell_type": "code",
      "source": [],
      "metadata": {
        "id": "_nJL5W-KxnbD"
      },
      "execution_count": null,
      "outputs": []
    },
    {
      "cell_type": "code",
      "source": [
        "# Import necessary libraries\n",
        "import pandas as pd\n",
        "from sklearn.tree import DecisionTreeRegressor\n",
        "from sklearn.model_selection import train_test_split\n",
        "from sklearn.metrics import mean_squared_error\n",
        "\n",
        "# Input data\n",
        "data = {\n",
        "    'ODD': [6.5, 5.5, 6.5, 5.5, 6.5, 6.5, 7.5, 6.5, 5.5, 6.5],\n",
        "    'OVER': [118, -158, 110, -105, 110, -118, 104, -111, -146, -128],\n",
        "    'UNDER': [-150, 124, -145, -125, -145, -108, -134, -115, 114, 102],\n",
        "    'STRIKEOUT': [7, 6, 5, 8, 4, 4, 3, 8, 6, 7]\n",
        "}\n",
        "\n",
        "# Convert to DataFrame\n",
        "df = pd.DataFrame(data)\n",
        "\n",
        "# Define independent variables (ODD, OVER, UNDER) and dependent variable (STRIKEOUT)\n",
        "X = df[['ODD', 'OVER', 'UNDER']]\n",
        "y = df['STRIKEOUT']\n",
        "\n",
        "# Split the data into training and testing sets (optional, but recommended)\n",
        "X_train, X_test, y_train, y_test = train_test_split(X, y, test_size=0.2, random_state=42)\n",
        "\n",
        "# Create and fit the Decision Tree Regression model\n",
        "tree_model = DecisionTreeRegressor(random_state=42)\n",
        "tree_model.fit(X_train, y_train)\n",
        "\n",
        "# Make predictions on the test set\n",
        "y_pred = tree_model.predict(X_test)\n",
        "\n",
        "# Evaluate the model (optional)\n",
        "mse = mean_squared_error(y_test, y_pred)\n",
        "print(f\"Mean Squared Error: {mse}\")\n",
        "\n",
        "# To make a prediction with new data\n",
        "new_data = pd.DataFrame({\n",
        "   'ODD': [5.5],\n",
        "    'OVER': [-142],\n",
        "    'UNDER': [112]\n",
        "})\n",
        "\n",
        "predicted_strikeout = tree_model.predict(new_data)\n",
        "print(f\"Predicted Strikeout: {predicted_strikeout[0]}\")\n"
      ],
      "metadata": {
        "colab": {
          "base_uri": "https://localhost:8080/"
        },
        "outputId": "0ec712c5-9ef0-4695-b217-d4277591c708",
        "id": "w1oEqMgVxno8"
      },
      "execution_count": 6,
      "outputs": [
        {
          "output_type": "stream",
          "name": "stdout",
          "text": [
            "Mean Squared Error: 4.0\n",
            "Predicted Strikeout: 8.0\n"
          ]
        }
      ]
    },
    {
      "cell_type": "markdown",
      "source": [
        "#TANNER BIBEE"
      ],
      "metadata": {
        "id": "8Gx8mE3gy4cp"
      }
    },
    {
      "cell_type": "code",
      "source": [],
      "metadata": {
        "id": "3eXIcSyty9aV"
      },
      "execution_count": null,
      "outputs": []
    },
    {
      "cell_type": "code",
      "source": [
        "# Import necessary libraries\n",
        "import pandas as pd\n",
        "from sklearn.tree import DecisionTreeRegressor\n",
        "from sklearn.model_selection import train_test_split\n",
        "from sklearn.metrics import mean_squared_error\n",
        "\n",
        "# Input data\n",
        "data = {\n",
        "    \"ODD\": [4.5, 5.5, 5.5, 5.5, 4.5, 5.5, 5.5, 4.5, 4.5, 5.5],\n",
        "    \"OVER\": [-140, -105, 115, 105, -105, 100, 115, -125, -140, 100],\n",
        "    \"UNDER\": [105, -135, -165, -145, -130, -135, -155, -110, 105, -130],\n",
        "    \"STRIKEOUT\": [7, 2, 2, 5, 6, 4, 5, 3, 4, 6]\n",
        "}\n",
        "\n",
        "# Convert to DataFrame\n",
        "df = pd.DataFrame(data)\n",
        "\n",
        "# Define independent variables (ODD, OVER, UNDER) and dependent variable (STRIKEOUT)\n",
        "X = df[['ODD', 'OVER', 'UNDER']]\n",
        "y = df['STRIKEOUT']\n",
        "\n",
        "# Split the data into training and testing sets (optional, but recommended)\n",
        "X_train, X_test, y_train, y_test = train_test_split(X, y, test_size=0.2, random_state=42)\n",
        "\n",
        "# Create and fit the Decision Tree Regression model\n",
        "tree_model = DecisionTreeRegressor(random_state=42)\n",
        "tree_model.fit(X_train, y_train)\n",
        "\n",
        "# Make predictions on the test set\n",
        "y_pred = tree_model.predict(X_test)\n",
        "\n",
        "# Evaluate the model (optional)\n",
        "mse = mean_squared_error(y_test, y_pred)\n",
        "print(f\"Mean Squared Error: {mse}\")\n",
        "\n",
        "# To make a prediction with new data\n",
        "new_data = pd.DataFrame({\n",
        "   'ODD': [4.5],\n",
        "    'OVER': [-115],\n",
        "    'UNDER': [-125]\n",
        "})\n",
        "\n",
        "predicted_strikeout = tree_model.predict(new_data)\n",
        "print(f\"Predicted Strikeout: {predicted_strikeout[0]}\")\n"
      ],
      "metadata": {
        "colab": {
          "base_uri": "https://localhost:8080/"
        },
        "outputId": "edb71529-e84d-4a79-c54e-8481997beca8",
        "id": "fcDTxi0ey9la"
      },
      "execution_count": 7,
      "outputs": [
        {
          "output_type": "stream",
          "name": "stdout",
          "text": [
            "Mean Squared Error: 6.5\n",
            "Predicted Strikeout: 3.0\n"
          ]
        }
      ]
    },
    {
      "cell_type": "markdown",
      "source": [
        "#Spencer Schwellenbach"
      ],
      "metadata": {
        "id": "IskqsSd10Hhx"
      }
    },
    {
      "cell_type": "code",
      "source": [],
      "metadata": {
        "id": "4fa0CCSB0Iny"
      },
      "execution_count": null,
      "outputs": []
    },
    {
      "cell_type": "code",
      "source": [
        "# Import necessary libraries\n",
        "import pandas as pd\n",
        "from sklearn.tree import DecisionTreeRegressor\n",
        "from sklearn.model_selection import train_test_split\n",
        "from sklearn.metrics import mean_squared_error\n",
        "\n",
        "# Input data\n",
        "data = {\n",
        "    \"ODD\": [5.5, 5.5, 5.5, 5.5, 5.5, 4.5, 5.5, 5.5, 5.5, 5.5],\n",
        "    \"OVER\": [105, 125, -110, -125, -145, -165, 110, 110, -115, -110],\n",
        "    \"UNDER\": [-145, -185, -130, -115, 105, 120, -145, -150, -115, -120],\n",
        "    \"STRIKEOUT\": [6, 2, 7, 3, 7, 5, 8, 3, 4, 7]\n",
        "}\n",
        "\n",
        "# Convert to DataFrame\n",
        "df = pd.DataFrame(data)\n",
        "\n",
        "# Define independent variables (ODD, OVER, UNDER) and dependent variable (STRIKEOUT)\n",
        "X = df[['ODD', 'OVER', 'UNDER']]\n",
        "y = df['STRIKEOUT']\n",
        "\n",
        "# Split the data into training and testing sets (optional, but recommended)\n",
        "X_train, X_test, y_train, y_test = train_test_split(X, y, test_size=0.2, random_state=42)\n",
        "\n",
        "# Create and fit the Decision Tree Regression model\n",
        "tree_model = DecisionTreeRegressor(random_state=42)\n",
        "tree_model.fit(X_train, y_train)\n",
        "\n",
        "# Make predictions on the test set\n",
        "y_pred = tree_model.predict(X_test)\n",
        "\n",
        "# Evaluate the model (optional)\n",
        "mse = mean_squared_error(y_test, y_pred)\n",
        "print(f\"Mean Squared Error: {mse}\")\n",
        "\n",
        "# To make a prediction with new data\n",
        "new_data = pd.DataFrame({\n",
        "    \"ODD\": [5.5],\n",
        "    \"OVER\": [-130],\n",
        "    \"UNDER\": [-105]\n",
        "})\n",
        "\n",
        "predicted_strikeout = tree_model.predict(new_data)\n",
        "print(f\"Predicted Strikeout: {predicted_strikeout[0]}\")\n"
      ],
      "metadata": {
        "colab": {
          "base_uri": "https://localhost:8080/"
        },
        "outputId": "91c880f7-7452-458b-ade3-ed100b76a482",
        "id": "R5xC0hei0KAz"
      },
      "execution_count": 8,
      "outputs": [
        {
          "output_type": "stream",
          "name": "stdout",
          "text": [
            "Mean Squared Error: 1.0\n",
            "Predicted Strikeout: 3.0\n"
          ]
        }
      ]
    },
    {
      "cell_type": "markdown",
      "source": [
        "#KYLE FREELAND"
      ],
      "metadata": {
        "id": "_NqcebMw1Vit"
      }
    },
    {
      "cell_type": "code",
      "source": [],
      "metadata": {
        "id": "Uu0JeKHZ1Xgt"
      },
      "execution_count": null,
      "outputs": []
    },
    {
      "cell_type": "code",
      "source": [
        "# Import necessary libraries\n",
        "import pandas as pd\n",
        "from sklearn.tree import DecisionTreeRegressor\n",
        "from sklearn.model_selection import train_test_split\n",
        "from sklearn.metrics import mean_squared_error\n",
        "\n",
        "data = {\n",
        "    'ODD': [6.5, 5.5, 5.5, 6.5, 6.5, 6.5, 4.5, 6.5, 6.5, 6.5],\n",
        "    'OVER': [-135, -165, -150, -115, 115, -120, -145, 115, -110, -150],\n",
        "    'UNDER': [100, 120, 105, -120, -160, -110, 110, -155, -130, 115],\n",
        "    'STRIKEOUT': [4, 6, 8, 5, 8, 7, 7, 1, 7, 6]\n",
        "}\n",
        "\n",
        "# Convert to DataFrame\n",
        "df = pd.DataFrame(data)\n",
        "\n",
        "# Define independent variables (ODD, OVER, UNDER) and dependent variable (STRIKEOUT)\n",
        "X = df[['ODD', 'OVER', 'UNDER']]\n",
        "y = df['STRIKEOUT']\n",
        "\n",
        "# Split the data into training and testing sets (optional, but recommended)\n",
        "X_train, X_test, y_train, y_test = train_test_split(X, y, test_size=0.2, random_state=42)\n",
        "\n",
        "# Create and fit the Decision Tree Regression model\n",
        "tree_model = DecisionTreeRegressor(random_state=42)\n",
        "tree_model.fit(X_train, y_train)\n",
        "\n",
        "# Make predictions on the test set\n",
        "y_pred = tree_model.predict(X_test)\n",
        "\n",
        "# Evaluate the model (optional)\n",
        "mse = mean_squared_error(y_test, y_pred)\n",
        "print(f\"Mean Squared Error: {mse}\")\n",
        "\n",
        "# To make a prediction with new data\n",
        "new_data = pd.DataFrame({\n",
        " 'ODD': [6.5],\n",
        "    'OVER': [110],\n",
        "    'UNDER': [-125]\n",
        "})\n",
        "\n",
        "predicted_strikeout = tree_model.predict(new_data)\n",
        "print(f\"Predicted Strikeout: {predicted_strikeout[0]}\")\n"
      ],
      "metadata": {
        "colab": {
          "base_uri": "https://localhost:8080/"
        },
        "outputId": "1f4c4341-96ac-415a-f57d-9c358bfdc05b",
        "id": "hNcFO1IB1aQ0"
      },
      "execution_count": 9,
      "outputs": [
        {
          "output_type": "stream",
          "name": "stdout",
          "text": [
            "Mean Squared Error: 2.5\n",
            "Predicted Strikeout: 5.0\n"
          ]
        }
      ]
    },
    {
      "cell_type": "markdown",
      "source": [
        "#TYLER GLASNOW"
      ],
      "metadata": {
        "id": "86oXcAyg4wEz"
      }
    },
    {
      "cell_type": "code",
      "source": [],
      "metadata": {
        "id": "wlpSoTsm41t8"
      },
      "execution_count": null,
      "outputs": []
    },
    {
      "cell_type": "code",
      "source": [
        "import pandas as pd\n",
        "from sklearn.linear_model import LogisticRegression\n",
        "import statsmodels.api as sm\n",
        "\n",
        "# Define the data\n",
        "data = {\n",
        "    'OVER': [-118, -158, -160, -118, -142, -154, -108, -104, -150, -140],\n",
        "    'UNDER': [-108, 124, 120, -108, 112, 122, -115, -122, 118, 110],\n",
        "    'RESULT': [1, 1, 0, 0, 0, 1, 1, 1, 1, 1]\n",
        "}\n",
        "\n",
        "\n",
        "\n",
        "\n",
        "# Convert the data into a DataFrame\n",
        "df = pd.DataFrame(data)\n",
        "\n",
        "# Define the independent variables (X) and dependent variable (y)\n",
        "X = df[[\"OVER\", \"UNDER\"]]\n",
        "y = df[\"RESULT\"]\n",
        "\n",
        "# Add a constant to the model (intercept)\n",
        "X = sm.add_constant(X)\n",
        "\n",
        "# Fit the logistic regression model using statsmodels\n",
        "model = sm.Logit(y, X)\n",
        "result = model.fit()\n",
        "\n",
        "# Get the summary of the model\n",
        "logit_summary = result.summary()\n",
        "logit_summary\n"
      ],
      "metadata": {
        "colab": {
          "base_uri": "https://localhost:8080/",
          "height": 320
        },
        "outputId": "496c9655-a03a-4fe2-c3d6-b8bf952e68cb",
        "id": "VLZq1yiq41-I"
      },
      "execution_count": 9,
      "outputs": [
        {
          "output_type": "stream",
          "name": "stdout",
          "text": [
            "Optimization terminated successfully.\n",
            "         Current function value: 0.581879\n",
            "         Iterations 5\n"
          ]
        },
        {
          "output_type": "execute_result",
          "data": {
            "text/plain": [
              "<class 'statsmodels.iolib.summary.Summary'>\n",
              "\"\"\"\n",
              "                           Logit Regression Results                           \n",
              "==============================================================================\n",
              "Dep. Variable:                 RESULT   No. Observations:                   10\n",
              "Model:                          Logit   Df Residuals:                        7\n",
              "Method:                           MLE   Df Model:                            2\n",
              "Date:                Mon, 12 Aug 2024   Pseudo R-squ.:                 0.04745\n",
              "Time:                        00:02:43   Log-Likelihood:                -5.8188\n",
              "converged:                       True   LL-Null:                       -6.1086\n",
              "Covariance Type:            nonrobust   LLR p-value:                    0.7484\n",
              "==============================================================================\n",
              "                 coef    std err          z      P>|z|      [0.025      0.975]\n",
              "------------------------------------------------------------------------------\n",
              "const         11.5618     15.810      0.731      0.465     -19.426      42.550\n",
              "OVER           0.0811      0.120      0.678      0.498      -0.153       0.315\n",
              "UNDER          0.0120      0.021      0.560      0.575      -0.030       0.054\n",
              "==============================================================================\n",
              "\"\"\""
            ],
            "text/html": [
              "<table class=\"simpletable\">\n",
              "<caption>Logit Regression Results</caption>\n",
              "<tr>\n",
              "  <th>Dep. Variable:</th>        <td>RESULT</td>      <th>  No. Observations:  </th>  <td>    10</td> \n",
              "</tr>\n",
              "<tr>\n",
              "  <th>Model:</th>                 <td>Logit</td>      <th>  Df Residuals:      </th>  <td>     7</td> \n",
              "</tr>\n",
              "<tr>\n",
              "  <th>Method:</th>                 <td>MLE</td>       <th>  Df Model:          </th>  <td>     2</td> \n",
              "</tr>\n",
              "<tr>\n",
              "  <th>Date:</th>            <td>Mon, 12 Aug 2024</td> <th>  Pseudo R-squ.:     </th>  <td>0.04745</td>\n",
              "</tr>\n",
              "<tr>\n",
              "  <th>Time:</th>                <td>00:02:43</td>     <th>  Log-Likelihood:    </th> <td> -5.8188</td>\n",
              "</tr>\n",
              "<tr>\n",
              "  <th>converged:</th>             <td>True</td>       <th>  LL-Null:           </th> <td> -6.1086</td>\n",
              "</tr>\n",
              "<tr>\n",
              "  <th>Covariance Type:</th>     <td>nonrobust</td>    <th>  LLR p-value:       </th>  <td>0.7484</td> \n",
              "</tr>\n",
              "</table>\n",
              "<table class=\"simpletable\">\n",
              "<tr>\n",
              "    <td></td>       <th>coef</th>     <th>std err</th>      <th>z</th>      <th>P>|z|</th>  <th>[0.025</th>    <th>0.975]</th>  \n",
              "</tr>\n",
              "<tr>\n",
              "  <th>const</th> <td>   11.5618</td> <td>   15.810</td> <td>    0.731</td> <td> 0.465</td> <td>  -19.426</td> <td>   42.550</td>\n",
              "</tr>\n",
              "<tr>\n",
              "  <th>OVER</th>  <td>    0.0811</td> <td>    0.120</td> <td>    0.678</td> <td> 0.498</td> <td>   -0.153</td> <td>    0.315</td>\n",
              "</tr>\n",
              "<tr>\n",
              "  <th>UNDER</th> <td>    0.0120</td> <td>    0.021</td> <td>    0.560</td> <td> 0.575</td> <td>   -0.030</td> <td>    0.054</td>\n",
              "</tr>\n",
              "</table>"
            ],
            "text/latex": "\\begin{center}\n\\begin{tabular}{lclc}\n\\toprule\n\\textbf{Dep. Variable:}   &      RESULT      & \\textbf{  No. Observations:  } &       10    \\\\\n\\textbf{Model:}           &      Logit       & \\textbf{  Df Residuals:      } &        7    \\\\\n\\textbf{Method:}          &       MLE        & \\textbf{  Df Model:          } &        2    \\\\\n\\textbf{Date:}            & Mon, 12 Aug 2024 & \\textbf{  Pseudo R-squ.:     } &  0.04745    \\\\\n\\textbf{Time:}            &     00:02:43     & \\textbf{  Log-Likelihood:    } &   -5.8188   \\\\\n\\textbf{converged:}       &       True       & \\textbf{  LL-Null:           } &   -6.1086   \\\\\n\\textbf{Covariance Type:} &    nonrobust     & \\textbf{  LLR p-value:       } &   0.7484    \\\\\n\\bottomrule\n\\end{tabular}\n\\begin{tabular}{lcccccc}\n               & \\textbf{coef} & \\textbf{std err} & \\textbf{z} & \\textbf{P$> |$z$|$} & \\textbf{[0.025} & \\textbf{0.975]}  \\\\\n\\midrule\n\\textbf{const} &      11.5618  &       15.810     &     0.731  &         0.465        &      -19.426    &       42.550     \\\\\n\\textbf{OVER}  &       0.0811  &        0.120     &     0.678  &         0.498        &       -0.153    &        0.315     \\\\\n\\textbf{UNDER} &       0.0120  &        0.021     &     0.560  &         0.575        &       -0.030    &        0.054     \\\\\n\\bottomrule\n\\end{tabular}\n%\\caption{Logit Regression Results}\n\\end{center}"
          },
          "metadata": {},
          "execution_count": 9
        }
      ]
    },
    {
      "cell_type": "code",
      "source": [],
      "metadata": {
        "id": "C1rOxuoL5FJ7"
      },
      "execution_count": null,
      "outputs": []
    },
    {
      "cell_type": "code",
      "source": [
        "# Define the new data point\n",
        "new_data = pd.DataFrame({\n",
        "    \"const\": [1],  # adding the intercept (constant)\n",
        "    \"OVER\": [112],\n",
        "    \"UNDER\": [-142]\n",
        "})\n",
        "\n",
        "# Predict the probability of RESULT being 1\n",
        "predicted_prob = result.predict(new_data)\n",
        "predicted_prob\n"
      ],
      "metadata": {
        "colab": {
          "base_uri": "https://localhost:8080/",
          "height": 114
        },
        "outputId": "1527da08-3cce-405b-cc49-9033fb18a77a",
        "id": "2sDMwDf15FYX"
      },
      "execution_count": 10,
      "outputs": [
        {
          "output_type": "execute_result",
          "data": {
            "text/plain": [
              "0    1.0\n",
              "dtype: float64"
            ],
            "text/html": [
              "<div>\n",
              "<style scoped>\n",
              "    .dataframe tbody tr th:only-of-type {\n",
              "        vertical-align: middle;\n",
              "    }\n",
              "\n",
              "    .dataframe tbody tr th {\n",
              "        vertical-align: top;\n",
              "    }\n",
              "\n",
              "    .dataframe thead th {\n",
              "        text-align: right;\n",
              "    }\n",
              "</style>\n",
              "<table border=\"1\" class=\"dataframe\">\n",
              "  <thead>\n",
              "    <tr style=\"text-align: right;\">\n",
              "      <th></th>\n",
              "      <th>0</th>\n",
              "    </tr>\n",
              "  </thead>\n",
              "  <tbody>\n",
              "    <tr>\n",
              "      <th>0</th>\n",
              "      <td>1.0</td>\n",
              "    </tr>\n",
              "  </tbody>\n",
              "</table>\n",
              "</div><br><label><b>dtype:</b> float64</label>"
            ]
          },
          "metadata": {},
          "execution_count": 10
        }
      ]
    },
    {
      "cell_type": "markdown",
      "source": [
        "#hunter brown"
      ],
      "metadata": {
        "id": "TH7FKA0y7Auq"
      }
    },
    {
      "cell_type": "code",
      "source": [],
      "metadata": {
        "id": "MhVUMv727ASl"
      },
      "execution_count": null,
      "outputs": []
    },
    {
      "cell_type": "code",
      "source": [
        "import pandas as pd\n",
        "from sklearn.linear_model import LogisticRegression\n",
        "import statsmodels.api as sm\n",
        "\n",
        "# Define the data\n",
        "data = {\n",
        "'OVER':[-104, -134, 105, -130, -135, -108, -132, -102, -162, -154],\n",
        "'UNDER' : [-122, 106, -140, 100, 100, -118, 104, -126, 126, 122],\n",
        "'RESULT' : [0, 1, 1, 0, 0, 1, 1, 0, 1, 1]\n",
        "\n",
        "         }\n",
        "\n",
        "\n",
        "\n",
        "\n",
        "\n",
        "# Convert the data into a DataFrame\n",
        "df = pd.DataFrame(data)\n",
        "\n",
        "# Define the independent variables (X) and dependent variable (y)\n",
        "X = df[[\"OVER\", \"UNDER\"]]\n",
        "y = df[\"RESULT\"]\n",
        "\n",
        "# Add a constant to the model (intercept)\n",
        "X = sm.add_constant(X)\n",
        "\n",
        "# Fit the logistic regression model using statsmodels\n",
        "model = sm.Logit(y, X)\n",
        "result = model.fit()\n",
        "\n",
        "# Get the summary of the model\n",
        "logit_summary = result.summary()\n",
        "logit_summary\n"
      ],
      "metadata": {
        "colab": {
          "base_uri": "https://localhost:8080/",
          "height": 320
        },
        "outputId": "73a188af-993d-4bb6-8520-48a41858f478",
        "id": "A2_aLIzI7EL_"
      },
      "execution_count": 13,
      "outputs": [
        {
          "output_type": "stream",
          "name": "stdout",
          "text": [
            "Optimization terminated successfully.\n",
            "         Current function value: 0.594210\n",
            "         Iterations 6\n"
          ]
        },
        {
          "output_type": "execute_result",
          "data": {
            "text/plain": [
              "<class 'statsmodels.iolib.summary.Summary'>\n",
              "\"\"\"\n",
              "                           Logit Regression Results                           \n",
              "==============================================================================\n",
              "Dep. Variable:                 RESULT   No. Observations:                   10\n",
              "Model:                          Logit   Df Residuals:                        7\n",
              "Method:                           MLE   Df Model:                            2\n",
              "Date:                Mon, 12 Aug 2024   Pseudo R-squ.:                  0.1171\n",
              "Time:                        00:14:01   Log-Likelihood:                -5.9421\n",
              "converged:                       True   LL-Null:                       -6.7301\n",
              "Covariance Type:            nonrobust   LLR p-value:                    0.4547\n",
              "==============================================================================\n",
              "                 coef    std err          z      P>|z|      [0.025      0.975]\n",
              "------------------------------------------------------------------------------\n",
              "const          1.9580      2.138      0.916      0.360      -2.233       6.149\n",
              "OVER           0.0152      0.018      0.856      0.392      -0.020       0.050\n",
              "UNDER          0.0088      0.008      1.119      0.263      -0.007       0.024\n",
              "==============================================================================\n",
              "\"\"\""
            ],
            "text/html": [
              "<table class=\"simpletable\">\n",
              "<caption>Logit Regression Results</caption>\n",
              "<tr>\n",
              "  <th>Dep. Variable:</th>        <td>RESULT</td>      <th>  No. Observations:  </th>  <td>    10</td> \n",
              "</tr>\n",
              "<tr>\n",
              "  <th>Model:</th>                 <td>Logit</td>      <th>  Df Residuals:      </th>  <td>     7</td> \n",
              "</tr>\n",
              "<tr>\n",
              "  <th>Method:</th>                 <td>MLE</td>       <th>  Df Model:          </th>  <td>     2</td> \n",
              "</tr>\n",
              "<tr>\n",
              "  <th>Date:</th>            <td>Mon, 12 Aug 2024</td> <th>  Pseudo R-squ.:     </th>  <td>0.1171</td> \n",
              "</tr>\n",
              "<tr>\n",
              "  <th>Time:</th>                <td>00:14:01</td>     <th>  Log-Likelihood:    </th> <td> -5.9421</td>\n",
              "</tr>\n",
              "<tr>\n",
              "  <th>converged:</th>             <td>True</td>       <th>  LL-Null:           </th> <td> -6.7301</td>\n",
              "</tr>\n",
              "<tr>\n",
              "  <th>Covariance Type:</th>     <td>nonrobust</td>    <th>  LLR p-value:       </th>  <td>0.4547</td> \n",
              "</tr>\n",
              "</table>\n",
              "<table class=\"simpletable\">\n",
              "<tr>\n",
              "    <td></td>       <th>coef</th>     <th>std err</th>      <th>z</th>      <th>P>|z|</th>  <th>[0.025</th>    <th>0.975]</th>  \n",
              "</tr>\n",
              "<tr>\n",
              "  <th>const</th> <td>    1.9580</td> <td>    2.138</td> <td>    0.916</td> <td> 0.360</td> <td>   -2.233</td> <td>    6.149</td>\n",
              "</tr>\n",
              "<tr>\n",
              "  <th>OVER</th>  <td>    0.0152</td> <td>    0.018</td> <td>    0.856</td> <td> 0.392</td> <td>   -0.020</td> <td>    0.050</td>\n",
              "</tr>\n",
              "<tr>\n",
              "  <th>UNDER</th> <td>    0.0088</td> <td>    0.008</td> <td>    1.119</td> <td> 0.263</td> <td>   -0.007</td> <td>    0.024</td>\n",
              "</tr>\n",
              "</table>"
            ],
            "text/latex": "\\begin{center}\n\\begin{tabular}{lclc}\n\\toprule\n\\textbf{Dep. Variable:}   &      RESULT      & \\textbf{  No. Observations:  } &       10    \\\\\n\\textbf{Model:}           &      Logit       & \\textbf{  Df Residuals:      } &        7    \\\\\n\\textbf{Method:}          &       MLE        & \\textbf{  Df Model:          } &        2    \\\\\n\\textbf{Date:}            & Mon, 12 Aug 2024 & \\textbf{  Pseudo R-squ.:     } &   0.1171    \\\\\n\\textbf{Time:}            &     00:14:01     & \\textbf{  Log-Likelihood:    } &   -5.9421   \\\\\n\\textbf{converged:}       &       True       & \\textbf{  LL-Null:           } &   -6.7301   \\\\\n\\textbf{Covariance Type:} &    nonrobust     & \\textbf{  LLR p-value:       } &   0.4547    \\\\\n\\bottomrule\n\\end{tabular}\n\\begin{tabular}{lcccccc}\n               & \\textbf{coef} & \\textbf{std err} & \\textbf{z} & \\textbf{P$> |$z$|$} & \\textbf{[0.025} & \\textbf{0.975]}  \\\\\n\\midrule\n\\textbf{const} &       1.9580  &        2.138     &     0.916  &         0.360        &       -2.233    &        6.149     \\\\\n\\textbf{OVER}  &       0.0152  &        0.018     &     0.856  &         0.392        &       -0.020    &        0.050     \\\\\n\\textbf{UNDER} &       0.0088  &        0.008     &     1.119  &         0.263        &       -0.007    &        0.024     \\\\\n\\bottomrule\n\\end{tabular}\n%\\caption{Logit Regression Results}\n\\end{center}"
          },
          "metadata": {},
          "execution_count": 13
        }
      ]
    },
    {
      "cell_type": "code",
      "source": [],
      "metadata": {
        "id": "-SnQzy0J78LZ"
      },
      "execution_count": null,
      "outputs": []
    },
    {
      "cell_type": "code",
      "source": [
        "# Define the new data point\n",
        "new_data = pd.DataFrame({\n",
        "    \"const\": [1],  # adding the intercept (constant)\n",
        "    \"OVER\": [-136],\n",
        "    \"UNDER\": [106]\n",
        "})\n",
        "\n",
        "# Predict the probability of RESULT being 1\n",
        "predicted_prob = result.predict(new_data)\n",
        "predicted_prob\n"
      ],
      "metadata": {
        "colab": {
          "base_uri": "https://localhost:8080/",
          "height": 114
        },
        "outputId": "ee36e37a-d803-42e0-8f94-c3900f9d0e9c",
        "id": "qt2X47zH78aD"
      },
      "execution_count": 14,
      "outputs": [
        {
          "output_type": "execute_result",
          "data": {
            "text/plain": [
              "0    0.693562\n",
              "dtype: float64"
            ],
            "text/html": [
              "<div>\n",
              "<style scoped>\n",
              "    .dataframe tbody tr th:only-of-type {\n",
              "        vertical-align: middle;\n",
              "    }\n",
              "\n",
              "    .dataframe tbody tr th {\n",
              "        vertical-align: top;\n",
              "    }\n",
              "\n",
              "    .dataframe thead th {\n",
              "        text-align: right;\n",
              "    }\n",
              "</style>\n",
              "<table border=\"1\" class=\"dataframe\">\n",
              "  <thead>\n",
              "    <tr style=\"text-align: right;\">\n",
              "      <th></th>\n",
              "      <th>0</th>\n",
              "    </tr>\n",
              "  </thead>\n",
              "  <tbody>\n",
              "    <tr>\n",
              "      <th>0</th>\n",
              "      <td>0.693562</td>\n",
              "    </tr>\n",
              "  </tbody>\n",
              "</table>\n",
              "</div><br><label><b>dtype:</b> float64</label>"
            ]
          },
          "metadata": {},
          "execution_count": 14
        }
      ]
    }
  ]
}