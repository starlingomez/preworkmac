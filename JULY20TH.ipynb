{
  "nbformat": 4,
  "nbformat_minor": 0,
  "metadata": {
    "colab": {
      "provenance": [],
      "authorship_tag": "ABX9TyNkRcB0MaOyCWip503N5S3k",
      "include_colab_link": true
    },
    "kernelspec": {
      "name": "python3",
      "display_name": "Python 3"
    },
    "language_info": {
      "name": "python"
    }
  },
  "cells": [
    {
      "cell_type": "markdown",
      "metadata": {
        "id": "view-in-github",
        "colab_type": "text"
      },
      "source": [
        "<a href=\"https://colab.research.google.com/github/starlingomez/preworkmac/blob/master/JULY20TH.ipynb\" target=\"_parent\"><img src=\"https://colab.research.google.com/assets/colab-badge.svg\" alt=\"Open In Colab\"/></a>"
      ]
    },
    {
      "cell_type": "markdown",
      "source": [
        "#NESTOR CORTEZ"
      ],
      "metadata": {
        "id": "4kB7dlUTV9ss"
      }
    },
    {
      "cell_type": "code",
      "source": [
        "import pandas as pd\n",
        "import statsmodels.api as sm\n",
        "\n",
        "# Define the data\n",
        "data = {\n",
        "    'Line': [5.5, 6.5, 4.5, 5.5, 5.5, 5.5, 5.5, 5.5, 5.5, 5.5],\n",
        "    'Over': [-142, 120, -128, -134, -112, 130, 110, -111, -142, -148],\n",
        "    'Under': [112, -152, -100, 106, -112, -166, -140, -115, 112, 116],\n",
        "    'Strikeout': [4, 8, 5, 7, 6, 2, 4, 7, 4, 6]\n",
        "}\n",
        "# Create a DataFrame\n",
        "df = pd.DataFrame(data)\n",
        "\n",
        "# Define the independent variables and the dependent variable\n",
        "X = df[['Line', 'Over', 'Under']]\n",
        "y = df['Strikeout']\n",
        "\n",
        "# Add a constant to the independent variables\n",
        "X = sm.add_constant(X)\n",
        "\n",
        "# Fit the linear regression model\n",
        "model = sm.OLS(y, X).fit()\n",
        "\n",
        "# Get the summary of the regression\n",
        "summary = model.summary()\n",
        "summary\n"
      ],
      "metadata": {
        "colab": {
          "base_uri": "https://localhost:8080/",
          "height": 554
        },
        "outputId": "ae7516d5-7845-48ca-b7b0-3000f2d9effd",
        "id": "wPqJnB5BiR50"
      },
      "execution_count": 3,
      "outputs": [
        {
          "output_type": "stream",
          "name": "stderr",
          "text": [
            "/usr/local/lib/python3.10/dist-packages/scipy/stats/_stats_py.py:1806: UserWarning: kurtosistest only valid for n>=20 ... continuing anyway, n=10\n",
            "  warnings.warn(\"kurtosistest only valid for n>=20 ... continuing \"\n"
          ]
        },
        {
          "output_type": "execute_result",
          "data": {
            "text/plain": [
              "<class 'statsmodels.iolib.summary.Summary'>\n",
              "\"\"\"\n",
              "                            OLS Regression Results                            \n",
              "==============================================================================\n",
              "Dep. Variable:              Strikeout   R-squared:                       0.566\n",
              "Model:                            OLS   Adj. R-squared:                  0.349\n",
              "Method:                 Least Squares   F-statistic:                     2.612\n",
              "Date:                Sat, 20 Jul 2024   Prob (F-statistic):              0.146\n",
              "Time:                        13:34:30   Log-Likelihood:                -15.522\n",
              "No. Observations:                  10   AIC:                             39.04\n",
              "Df Residuals:                       6   BIC:                             40.25\n",
              "Df Model:                           3                                         \n",
              "Covariance Type:            nonrobust                                         \n",
              "==============================================================================\n",
              "                 coef    std err          t      P>|t|      [0.025      0.975]\n",
              "------------------------------------------------------------------------------\n",
              "const        -14.3985      7.474     -1.927      0.102     -32.686       3.889\n",
              "Line           3.3464      1.296      2.582      0.042       0.175       6.518\n",
              "Over          -0.0170      0.007     -2.391      0.054      -0.034       0.000\n",
              "Under         -0.0102      0.006     -1.683      0.143      -0.025       0.005\n",
              "==============================================================================\n",
              "Omnibus:                        2.860   Durbin-Watson:                   1.822\n",
              "Prob(Omnibus):                  0.239   Jarque-Bera (JB):                0.949\n",
              "Skew:                           0.029   Prob(JB):                        0.622\n",
              "Kurtosis:                       1.492   Cond. No.                     2.52e+03\n",
              "==============================================================================\n",
              "\n",
              "Notes:\n",
              "[1] Standard Errors assume that the covariance matrix of the errors is correctly specified.\n",
              "[2] The condition number is large, 2.52e+03. This might indicate that there are\n",
              "strong multicollinearity or other numerical problems.\n",
              "\"\"\""
            ],
            "text/html": [
              "<table class=\"simpletable\">\n",
              "<caption>OLS Regression Results</caption>\n",
              "<tr>\n",
              "  <th>Dep. Variable:</th>        <td>Strikeout</td>    <th>  R-squared:         </th> <td>   0.566</td>\n",
              "</tr>\n",
              "<tr>\n",
              "  <th>Model:</th>                   <td>OLS</td>       <th>  Adj. R-squared:    </th> <td>   0.349</td>\n",
              "</tr>\n",
              "<tr>\n",
              "  <th>Method:</th>             <td>Least Squares</td>  <th>  F-statistic:       </th> <td>   2.612</td>\n",
              "</tr>\n",
              "<tr>\n",
              "  <th>Date:</th>             <td>Sat, 20 Jul 2024</td> <th>  Prob (F-statistic):</th>  <td> 0.146</td> \n",
              "</tr>\n",
              "<tr>\n",
              "  <th>Time:</th>                 <td>13:34:30</td>     <th>  Log-Likelihood:    </th> <td> -15.522</td>\n",
              "</tr>\n",
              "<tr>\n",
              "  <th>No. Observations:</th>      <td>    10</td>      <th>  AIC:               </th> <td>   39.04</td>\n",
              "</tr>\n",
              "<tr>\n",
              "  <th>Df Residuals:</th>          <td>     6</td>      <th>  BIC:               </th> <td>   40.25</td>\n",
              "</tr>\n",
              "<tr>\n",
              "  <th>Df Model:</th>              <td>     3</td>      <th>                     </th>     <td> </td>   \n",
              "</tr>\n",
              "<tr>\n",
              "  <th>Covariance Type:</th>      <td>nonrobust</td>    <th>                     </th>     <td> </td>   \n",
              "</tr>\n",
              "</table>\n",
              "<table class=\"simpletable\">\n",
              "<tr>\n",
              "    <td></td>       <th>coef</th>     <th>std err</th>      <th>t</th>      <th>P>|t|</th>  <th>[0.025</th>    <th>0.975]</th>  \n",
              "</tr>\n",
              "<tr>\n",
              "  <th>const</th> <td>  -14.3985</td> <td>    7.474</td> <td>   -1.927</td> <td> 0.102</td> <td>  -32.686</td> <td>    3.889</td>\n",
              "</tr>\n",
              "<tr>\n",
              "  <th>Line</th>  <td>    3.3464</td> <td>    1.296</td> <td>    2.582</td> <td> 0.042</td> <td>    0.175</td> <td>    6.518</td>\n",
              "</tr>\n",
              "<tr>\n",
              "  <th>Over</th>  <td>   -0.0170</td> <td>    0.007</td> <td>   -2.391</td> <td> 0.054</td> <td>   -0.034</td> <td>    0.000</td>\n",
              "</tr>\n",
              "<tr>\n",
              "  <th>Under</th> <td>   -0.0102</td> <td>    0.006</td> <td>   -1.683</td> <td> 0.143</td> <td>   -0.025</td> <td>    0.005</td>\n",
              "</tr>\n",
              "</table>\n",
              "<table class=\"simpletable\">\n",
              "<tr>\n",
              "  <th>Omnibus:</th>       <td> 2.860</td> <th>  Durbin-Watson:     </th> <td>   1.822</td>\n",
              "</tr>\n",
              "<tr>\n",
              "  <th>Prob(Omnibus):</th> <td> 0.239</td> <th>  Jarque-Bera (JB):  </th> <td>   0.949</td>\n",
              "</tr>\n",
              "<tr>\n",
              "  <th>Skew:</th>          <td> 0.029</td> <th>  Prob(JB):          </th> <td>   0.622</td>\n",
              "</tr>\n",
              "<tr>\n",
              "  <th>Kurtosis:</th>      <td> 1.492</td> <th>  Cond. No.          </th> <td>2.52e+03</td>\n",
              "</tr>\n",
              "</table><br/><br/>Notes:<br/>[1] Standard Errors assume that the covariance matrix of the errors is correctly specified.<br/>[2] The condition number is large, 2.52e+03. This might indicate that there are<br/>strong multicollinearity or other numerical problems."
            ],
            "text/latex": "\\begin{center}\n\\begin{tabular}{lclc}\n\\toprule\n\\textbf{Dep. Variable:}    &    Strikeout     & \\textbf{  R-squared:         } &     0.566   \\\\\n\\textbf{Model:}            &       OLS        & \\textbf{  Adj. R-squared:    } &     0.349   \\\\\n\\textbf{Method:}           &  Least Squares   & \\textbf{  F-statistic:       } &     2.612   \\\\\n\\textbf{Date:}             & Sat, 20 Jul 2024 & \\textbf{  Prob (F-statistic):} &    0.146    \\\\\n\\textbf{Time:}             &     13:34:30     & \\textbf{  Log-Likelihood:    } &   -15.522   \\\\\n\\textbf{No. Observations:} &          10      & \\textbf{  AIC:               } &     39.04   \\\\\n\\textbf{Df Residuals:}     &           6      & \\textbf{  BIC:               } &     40.25   \\\\\n\\textbf{Df Model:}         &           3      & \\textbf{                     } &             \\\\\n\\textbf{Covariance Type:}  &    nonrobust     & \\textbf{                     } &             \\\\\n\\bottomrule\n\\end{tabular}\n\\begin{tabular}{lcccccc}\n               & \\textbf{coef} & \\textbf{std err} & \\textbf{t} & \\textbf{P$> |$t$|$} & \\textbf{[0.025} & \\textbf{0.975]}  \\\\\n\\midrule\n\\textbf{const} &     -14.3985  &        7.474     &    -1.927  &         0.102        &      -32.686    &        3.889     \\\\\n\\textbf{Line}  &       3.3464  &        1.296     &     2.582  &         0.042        &        0.175    &        6.518     \\\\\n\\textbf{Over}  &      -0.0170  &        0.007     &    -2.391  &         0.054        &       -0.034    &        0.000     \\\\\n\\textbf{Under} &      -0.0102  &        0.006     &    -1.683  &         0.143        &       -0.025    &        0.005     \\\\\n\\bottomrule\n\\end{tabular}\n\\begin{tabular}{lclc}\n\\textbf{Omnibus:}       &  2.860 & \\textbf{  Durbin-Watson:     } &    1.822  \\\\\n\\textbf{Prob(Omnibus):} &  0.239 & \\textbf{  Jarque-Bera (JB):  } &    0.949  \\\\\n\\textbf{Skew:}          &  0.029 & \\textbf{  Prob(JB):          } &    0.622  \\\\\n\\textbf{Kurtosis:}      &  1.492 & \\textbf{  Cond. No.          } & 2.52e+03  \\\\\n\\bottomrule\n\\end{tabular}\n%\\caption{OLS Regression Results}\n\\end{center}\n\nNotes: \\newline\n [1] Standard Errors assume that the covariance matrix of the errors is correctly specified. \\newline\n [2] The condition number is large, 2.52e+03. This might indicate that there are \\newline\n strong multicollinearity or other numerical problems."
          },
          "metadata": {},
          "execution_count": 3
        }
      ]
    },
    {
      "cell_type": "code",
      "execution_count": null,
      "metadata": {
        "id": "7rdS6QC0R8WP"
      },
      "outputs": [],
      "source": []
    },
    {
      "cell_type": "code",
      "source": [
        "# Define the new data point\n",
        "new_data = {\n",
        "    'const': 1,\n",
        "    'LINE': 5.5,\n",
        "    'OVER': -160,\n",
        "    'UNDER': +125\n",
        "}\n",
        "\n",
        "# Convert the new data point to a DataFrame\n",
        "new_df = pd.DataFrame([new_data])\n",
        "\n",
        "# Predict the total strikeout using the model\n",
        "predicted_strikeout = model.predict(new_df)\n",
        "predicted_strikeout\n"
      ],
      "metadata": {
        "colab": {
          "base_uri": "https://localhost:8080/"
        },
        "outputId": "922fa557-6187-42b3-d499-39dbdfc9a384",
        "id": "s4IhgClWicQB"
      },
      "execution_count": 4,
      "outputs": [
        {
          "output_type": "execute_result",
          "data": {
            "text/plain": [
              "0    5.458587\n",
              "dtype: float64"
            ]
          },
          "metadata": {},
          "execution_count": 4
        }
      ]
    },
    {
      "cell_type": "markdown",
      "source": [
        "#taj bradley"
      ],
      "metadata": {
        "id": "B5W2B-EKXcBS"
      }
    },
    {
      "cell_type": "code",
      "source": [],
      "metadata": {
        "id": "6L8UslxuXfIe"
      },
      "execution_count": null,
      "outputs": []
    },
    {
      "cell_type": "code",
      "source": [
        "import pandas as pd\n",
        "import statsmodels.api as sm\n",
        "\n",
        "# Define the data\n",
        "data = {\n",
        "    'LINE': [5.5, 5.5, 5.5, 6.5, 6.5, 6.5, 5.5, 5.5, 5.5, 6.5],\n",
        "    'OVER': [105, -130, -100, -150, 124, 106, -134, -125, -126, 124],\n",
        "    'UNDER': [-135, 102, -128, 120, -160, -134, 104, -102, -102, -156],\n",
        "    'STRIKEOUT': [8, 5, 11, 8, 3, 11, 7, 3, 6, 10]\n",
        "}\n",
        "# Create a DataFrame\n",
        "df = pd.DataFrame(data)\n",
        "\n",
        "# Define the independent variables and the dependent variable\n",
        "X = df[['LINE', 'OVER', 'UNDER']]\n",
        "y = df['STRIKEOUT']\n",
        "\n",
        "# Add a constant to the independent variables\n",
        "X = sm.add_constant(X)\n",
        "\n",
        "# Fit the linear regression model\n",
        "model = sm.OLS(y, X).fit()\n",
        "\n",
        "# Get the summary of the regression\n",
        "summary = model.summary()\n",
        "summary\n"
      ],
      "metadata": {
        "colab": {
          "base_uri": "https://localhost:8080/",
          "height": 554
        },
        "outputId": "95b575c3-8a67-41d3-9c29-f2c7d6ea5375",
        "id": "dykeV80Hg3V-"
      },
      "execution_count": 6,
      "outputs": [
        {
          "output_type": "stream",
          "name": "stderr",
          "text": [
            "/usr/local/lib/python3.10/dist-packages/scipy/stats/_stats_py.py:1806: UserWarning: kurtosistest only valid for n>=20 ... continuing anyway, n=10\n",
            "  warnings.warn(\"kurtosistest only valid for n>=20 ... continuing \"\n"
          ]
        },
        {
          "output_type": "execute_result",
          "data": {
            "text/plain": [
              "<class 'statsmodels.iolib.summary.Summary'>\n",
              "\"\"\"\n",
              "                            OLS Regression Results                            \n",
              "==============================================================================\n",
              "Dep. Variable:              STRIKEOUT   R-squared:                       0.071\n",
              "Model:                            OLS   Adj. R-squared:                 -0.393\n",
              "Method:                 Least Squares   F-statistic:                    0.1535\n",
              "Date:                Sat, 20 Jul 2024   Prob (F-statistic):              0.924\n",
              "Time:                        13:40:21   Log-Likelihood:                -24.192\n",
              "No. Observations:                  10   AIC:                             56.38\n",
              "Df Residuals:                       6   BIC:                             57.59\n",
              "Df Model:                           3                                         \n",
              "Covariance Type:            nonrobust                                         \n",
              "==============================================================================\n",
              "                 coef    std err          t      P>|t|      [0.025      0.975]\n",
              "------------------------------------------------------------------------------\n",
              "const          2.0503     17.993      0.114      0.913     -41.978      46.079\n",
              "LINE           0.8810      2.931      0.301      0.774      -6.290       8.052\n",
              "OVER           0.0031      0.016      0.188      0.857      -0.037       0.043\n",
              "UNDER         -0.0008      0.015     -0.053      0.959      -0.037       0.036\n",
              "==============================================================================\n",
              "Omnibus:                        0.691   Durbin-Watson:                   2.547\n",
              "Prob(Omnibus):                  0.708   Jarque-Bera (JB):                0.431\n",
              "Skew:                          -0.443   Prob(JB):                        0.806\n",
              "Kurtosis:                       2.502   Cond. No.                     2.49e+03\n",
              "==============================================================================\n",
              "\n",
              "Notes:\n",
              "[1] Standard Errors assume that the covariance matrix of the errors is correctly specified.\n",
              "[2] The condition number is large, 2.49e+03. This might indicate that there are\n",
              "strong multicollinearity or other numerical problems.\n",
              "\"\"\""
            ],
            "text/html": [
              "<table class=\"simpletable\">\n",
              "<caption>OLS Regression Results</caption>\n",
              "<tr>\n",
              "  <th>Dep. Variable:</th>        <td>STRIKEOUT</td>    <th>  R-squared:         </th> <td>   0.071</td>\n",
              "</tr>\n",
              "<tr>\n",
              "  <th>Model:</th>                   <td>OLS</td>       <th>  Adj. R-squared:    </th> <td>  -0.393</td>\n",
              "</tr>\n",
              "<tr>\n",
              "  <th>Method:</th>             <td>Least Squares</td>  <th>  F-statistic:       </th> <td>  0.1535</td>\n",
              "</tr>\n",
              "<tr>\n",
              "  <th>Date:</th>             <td>Sat, 20 Jul 2024</td> <th>  Prob (F-statistic):</th>  <td> 0.924</td> \n",
              "</tr>\n",
              "<tr>\n",
              "  <th>Time:</th>                 <td>13:40:21</td>     <th>  Log-Likelihood:    </th> <td> -24.192</td>\n",
              "</tr>\n",
              "<tr>\n",
              "  <th>No. Observations:</th>      <td>    10</td>      <th>  AIC:               </th> <td>   56.38</td>\n",
              "</tr>\n",
              "<tr>\n",
              "  <th>Df Residuals:</th>          <td>     6</td>      <th>  BIC:               </th> <td>   57.59</td>\n",
              "</tr>\n",
              "<tr>\n",
              "  <th>Df Model:</th>              <td>     3</td>      <th>                     </th>     <td> </td>   \n",
              "</tr>\n",
              "<tr>\n",
              "  <th>Covariance Type:</th>      <td>nonrobust</td>    <th>                     </th>     <td> </td>   \n",
              "</tr>\n",
              "</table>\n",
              "<table class=\"simpletable\">\n",
              "<tr>\n",
              "    <td></td>       <th>coef</th>     <th>std err</th>      <th>t</th>      <th>P>|t|</th>  <th>[0.025</th>    <th>0.975]</th>  \n",
              "</tr>\n",
              "<tr>\n",
              "  <th>const</th> <td>    2.0503</td> <td>   17.993</td> <td>    0.114</td> <td> 0.913</td> <td>  -41.978</td> <td>   46.079</td>\n",
              "</tr>\n",
              "<tr>\n",
              "  <th>LINE</th>  <td>    0.8810</td> <td>    2.931</td> <td>    0.301</td> <td> 0.774</td> <td>   -6.290</td> <td>    8.052</td>\n",
              "</tr>\n",
              "<tr>\n",
              "  <th>OVER</th>  <td>    0.0031</td> <td>    0.016</td> <td>    0.188</td> <td> 0.857</td> <td>   -0.037</td> <td>    0.043</td>\n",
              "</tr>\n",
              "<tr>\n",
              "  <th>UNDER</th> <td>   -0.0008</td> <td>    0.015</td> <td>   -0.053</td> <td> 0.959</td> <td>   -0.037</td> <td>    0.036</td>\n",
              "</tr>\n",
              "</table>\n",
              "<table class=\"simpletable\">\n",
              "<tr>\n",
              "  <th>Omnibus:</th>       <td> 0.691</td> <th>  Durbin-Watson:     </th> <td>   2.547</td>\n",
              "</tr>\n",
              "<tr>\n",
              "  <th>Prob(Omnibus):</th> <td> 0.708</td> <th>  Jarque-Bera (JB):  </th> <td>   0.431</td>\n",
              "</tr>\n",
              "<tr>\n",
              "  <th>Skew:</th>          <td>-0.443</td> <th>  Prob(JB):          </th> <td>   0.806</td>\n",
              "</tr>\n",
              "<tr>\n",
              "  <th>Kurtosis:</th>      <td> 2.502</td> <th>  Cond. No.          </th> <td>2.49e+03</td>\n",
              "</tr>\n",
              "</table><br/><br/>Notes:<br/>[1] Standard Errors assume that the covariance matrix of the errors is correctly specified.<br/>[2] The condition number is large, 2.49e+03. This might indicate that there are<br/>strong multicollinearity or other numerical problems."
            ],
            "text/latex": "\\begin{center}\n\\begin{tabular}{lclc}\n\\toprule\n\\textbf{Dep. Variable:}    &    STRIKEOUT     & \\textbf{  R-squared:         } &     0.071   \\\\\n\\textbf{Model:}            &       OLS        & \\textbf{  Adj. R-squared:    } &    -0.393   \\\\\n\\textbf{Method:}           &  Least Squares   & \\textbf{  F-statistic:       } &    0.1535   \\\\\n\\textbf{Date:}             & Sat, 20 Jul 2024 & \\textbf{  Prob (F-statistic):} &    0.924    \\\\\n\\textbf{Time:}             &     13:40:21     & \\textbf{  Log-Likelihood:    } &   -24.192   \\\\\n\\textbf{No. Observations:} &          10      & \\textbf{  AIC:               } &     56.38   \\\\\n\\textbf{Df Residuals:}     &           6      & \\textbf{  BIC:               } &     57.59   \\\\\n\\textbf{Df Model:}         &           3      & \\textbf{                     } &             \\\\\n\\textbf{Covariance Type:}  &    nonrobust     & \\textbf{                     } &             \\\\\n\\bottomrule\n\\end{tabular}\n\\begin{tabular}{lcccccc}\n               & \\textbf{coef} & \\textbf{std err} & \\textbf{t} & \\textbf{P$> |$t$|$} & \\textbf{[0.025} & \\textbf{0.975]}  \\\\\n\\midrule\n\\textbf{const} &       2.0503  &       17.993     &     0.114  &         0.913        &      -41.978    &       46.079     \\\\\n\\textbf{LINE}  &       0.8810  &        2.931     &     0.301  &         0.774        &       -6.290    &        8.052     \\\\\n\\textbf{OVER}  &       0.0031  &        0.016     &     0.188  &         0.857        &       -0.037    &        0.043     \\\\\n\\textbf{UNDER} &      -0.0008  &        0.015     &    -0.053  &         0.959        &       -0.037    &        0.036     \\\\\n\\bottomrule\n\\end{tabular}\n\\begin{tabular}{lclc}\n\\textbf{Omnibus:}       &  0.691 & \\textbf{  Durbin-Watson:     } &    2.547  \\\\\n\\textbf{Prob(Omnibus):} &  0.708 & \\textbf{  Jarque-Bera (JB):  } &    0.431  \\\\\n\\textbf{Skew:}          & -0.443 & \\textbf{  Prob(JB):          } &    0.806  \\\\\n\\textbf{Kurtosis:}      &  2.502 & \\textbf{  Cond. No.          } & 2.49e+03  \\\\\n\\bottomrule\n\\end{tabular}\n%\\caption{OLS Regression Results}\n\\end{center}\n\nNotes: \\newline\n [1] Standard Errors assume that the covariance matrix of the errors is correctly specified. \\newline\n [2] The condition number is large, 2.49e+03. This might indicate that there are \\newline\n strong multicollinearity or other numerical problems."
          },
          "metadata": {},
          "execution_count": 6
        }
      ]
    },
    {
      "cell_type": "code",
      "source": [
        "# Define the new data point\n",
        "new_data = {\n",
        "    'const': 1,\n",
        "    'LINE': 5.5,\n",
        "    'OVER': -155,\n",
        "    'UNDER': 120\n",
        "}\n",
        "\n",
        "# Convert the new data point to a DataFrame\n",
        "new_df = pd.DataFrame([new_data])\n",
        "\n",
        "# Predict the total strikeout using the model\n",
        "predicted_strikeout = model.predict(new_df)\n",
        "predicted_strikeout\n"
      ],
      "metadata": {
        "colab": {
          "base_uri": "https://localhost:8080/"
        },
        "outputId": "6da0e915-8e41-48c6-ed19-2408f781fc44",
        "id": "2GdRSPzyXrQd"
      },
      "execution_count": 7,
      "outputs": [
        {
          "output_type": "execute_result",
          "data": {
            "text/plain": [
              "0    6.320743\n",
              "dtype: float64"
            ]
          },
          "metadata": {},
          "execution_count": 7
        }
      ]
    },
    {
      "cell_type": "markdown",
      "source": [
        "#kyle gibson"
      ],
      "metadata": {
        "id": "PeipGa5HcKDw"
      }
    },
    {
      "cell_type": "code",
      "source": [],
      "metadata": {
        "id": "OE5avyP5cMvm"
      },
      "execution_count": null,
      "outputs": []
    },
    {
      "cell_type": "code",
      "source": [
        "import pandas as pd\n",
        "import statsmodels.api as sm\n",
        "\n",
        "# Define the data\n",
        "data = {\n",
        "    'LINE': [5.5, 4.5, 4.5, 4.5, 4.5, 4.5, 5.5, 4.5, 4.5],\n",
        "    'OVER': [100, -113, -138, -146, -136, -166, -110, 128, -128],\n",
        "    'UNDER': [-130, -113, 108, 114, 106, 130, -116, -164, -100],\n",
        "    'STRIKEOUT': [3, 8, 8, 4, 0, 6, 7, 8, 6]\n",
        "}\n",
        "# Create a DataFrame\n",
        "df = pd.DataFrame(data)\n",
        "\n",
        "# Define the independent variables and the dependent variable\n",
        "X = df[['LINE', 'OVER', 'UNDER']]\n",
        "y = df['STRIKEOUT']\n",
        "\n",
        "# Add a constant to the independent variables\n",
        "X = sm.add_constant(X)\n",
        "\n",
        "# Fit the linear regression model\n",
        "model = sm.OLS(y, X).fit()\n",
        "\n",
        "# Get the summary of the regression\n",
        "summary = model.summary()\n",
        "summary\n"
      ],
      "metadata": {
        "colab": {
          "base_uri": "https://localhost:8080/",
          "height": 554
        },
        "outputId": "72762e13-c9ff-4505-8255-c51484e6dea6",
        "id": "BCt81_ELcQGq"
      },
      "execution_count": 8,
      "outputs": [
        {
          "output_type": "stream",
          "name": "stderr",
          "text": [
            "/usr/local/lib/python3.10/dist-packages/scipy/stats/_stats_py.py:1806: UserWarning: kurtosistest only valid for n>=20 ... continuing anyway, n=9\n",
            "  warnings.warn(\"kurtosistest only valid for n>=20 ... continuing \"\n"
          ]
        },
        {
          "output_type": "execute_result",
          "data": {
            "text/plain": [
              "<class 'statsmodels.iolib.summary.Summary'>\n",
              "\"\"\"\n",
              "                            OLS Regression Results                            \n",
              "==============================================================================\n",
              "Dep. Variable:              STRIKEOUT   R-squared:                       0.279\n",
              "Model:                            OLS   Adj. R-squared:                 -0.154\n",
              "Method:                 Least Squares   F-statistic:                    0.6441\n",
              "Date:                Sat, 20 Jul 2024   Prob (F-statistic):              0.619\n",
              "Time:                        14:00:19   Log-Likelihood:                -19.854\n",
              "No. Observations:                   9   AIC:                             47.71\n",
              "Df Residuals:                       5   BIC:                             48.50\n",
              "Df Model:                           3                                         \n",
              "Covariance Type:            nonrobust                                         \n",
              "==============================================================================\n",
              "                 coef    std err          t      P>|t|      [0.025      0.975]\n",
              "------------------------------------------------------------------------------\n",
              "const         14.5383     12.792      1.136      0.307     -18.345      47.422\n",
              "LINE          -2.0870      2.683     -0.778      0.472      -8.985       4.811\n",
              "OVER          -0.0075      0.013     -0.584      0.585      -0.040       0.025\n",
              "UNDER         -0.0155      0.012     -1.327      0.242      -0.045       0.014\n",
              "==============================================================================\n",
              "Omnibus:                        1.293   Durbin-Watson:                   2.107\n",
              "Prob(Omnibus):                  0.524   Jarque-Bera (JB):                0.396\n",
              "Skew:                          -0.505   Prob(JB):                        0.821\n",
              "Kurtosis:                       2.818   Cond. No.                     2.02e+03\n",
              "==============================================================================\n",
              "\n",
              "Notes:\n",
              "[1] Standard Errors assume that the covariance matrix of the errors is correctly specified.\n",
              "[2] The condition number is large, 2.02e+03. This might indicate that there are\n",
              "strong multicollinearity or other numerical problems.\n",
              "\"\"\""
            ],
            "text/html": [
              "<table class=\"simpletable\">\n",
              "<caption>OLS Regression Results</caption>\n",
              "<tr>\n",
              "  <th>Dep. Variable:</th>        <td>STRIKEOUT</td>    <th>  R-squared:         </th> <td>   0.279</td>\n",
              "</tr>\n",
              "<tr>\n",
              "  <th>Model:</th>                   <td>OLS</td>       <th>  Adj. R-squared:    </th> <td>  -0.154</td>\n",
              "</tr>\n",
              "<tr>\n",
              "  <th>Method:</th>             <td>Least Squares</td>  <th>  F-statistic:       </th> <td>  0.6441</td>\n",
              "</tr>\n",
              "<tr>\n",
              "  <th>Date:</th>             <td>Sat, 20 Jul 2024</td> <th>  Prob (F-statistic):</th>  <td> 0.619</td> \n",
              "</tr>\n",
              "<tr>\n",
              "  <th>Time:</th>                 <td>14:00:19</td>     <th>  Log-Likelihood:    </th> <td> -19.854</td>\n",
              "</tr>\n",
              "<tr>\n",
              "  <th>No. Observations:</th>      <td>     9</td>      <th>  AIC:               </th> <td>   47.71</td>\n",
              "</tr>\n",
              "<tr>\n",
              "  <th>Df Residuals:</th>          <td>     5</td>      <th>  BIC:               </th> <td>   48.50</td>\n",
              "</tr>\n",
              "<tr>\n",
              "  <th>Df Model:</th>              <td>     3</td>      <th>                     </th>     <td> </td>   \n",
              "</tr>\n",
              "<tr>\n",
              "  <th>Covariance Type:</th>      <td>nonrobust</td>    <th>                     </th>     <td> </td>   \n",
              "</tr>\n",
              "</table>\n",
              "<table class=\"simpletable\">\n",
              "<tr>\n",
              "    <td></td>       <th>coef</th>     <th>std err</th>      <th>t</th>      <th>P>|t|</th>  <th>[0.025</th>    <th>0.975]</th>  \n",
              "</tr>\n",
              "<tr>\n",
              "  <th>const</th> <td>   14.5383</td> <td>   12.792</td> <td>    1.136</td> <td> 0.307</td> <td>  -18.345</td> <td>   47.422</td>\n",
              "</tr>\n",
              "<tr>\n",
              "  <th>LINE</th>  <td>   -2.0870</td> <td>    2.683</td> <td>   -0.778</td> <td> 0.472</td> <td>   -8.985</td> <td>    4.811</td>\n",
              "</tr>\n",
              "<tr>\n",
              "  <th>OVER</th>  <td>   -0.0075</td> <td>    0.013</td> <td>   -0.584</td> <td> 0.585</td> <td>   -0.040</td> <td>    0.025</td>\n",
              "</tr>\n",
              "<tr>\n",
              "  <th>UNDER</th> <td>   -0.0155</td> <td>    0.012</td> <td>   -1.327</td> <td> 0.242</td> <td>   -0.045</td> <td>    0.014</td>\n",
              "</tr>\n",
              "</table>\n",
              "<table class=\"simpletable\">\n",
              "<tr>\n",
              "  <th>Omnibus:</th>       <td> 1.293</td> <th>  Durbin-Watson:     </th> <td>   2.107</td>\n",
              "</tr>\n",
              "<tr>\n",
              "  <th>Prob(Omnibus):</th> <td> 0.524</td> <th>  Jarque-Bera (JB):  </th> <td>   0.396</td>\n",
              "</tr>\n",
              "<tr>\n",
              "  <th>Skew:</th>          <td>-0.505</td> <th>  Prob(JB):          </th> <td>   0.821</td>\n",
              "</tr>\n",
              "<tr>\n",
              "  <th>Kurtosis:</th>      <td> 2.818</td> <th>  Cond. No.          </th> <td>2.02e+03</td>\n",
              "</tr>\n",
              "</table><br/><br/>Notes:<br/>[1] Standard Errors assume that the covariance matrix of the errors is correctly specified.<br/>[2] The condition number is large, 2.02e+03. This might indicate that there are<br/>strong multicollinearity or other numerical problems."
            ],
            "text/latex": "\\begin{center}\n\\begin{tabular}{lclc}\n\\toprule\n\\textbf{Dep. Variable:}    &    STRIKEOUT     & \\textbf{  R-squared:         } &     0.279   \\\\\n\\textbf{Model:}            &       OLS        & \\textbf{  Adj. R-squared:    } &    -0.154   \\\\\n\\textbf{Method:}           &  Least Squares   & \\textbf{  F-statistic:       } &    0.6441   \\\\\n\\textbf{Date:}             & Sat, 20 Jul 2024 & \\textbf{  Prob (F-statistic):} &    0.619    \\\\\n\\textbf{Time:}             &     14:00:19     & \\textbf{  Log-Likelihood:    } &   -19.854   \\\\\n\\textbf{No. Observations:} &           9      & \\textbf{  AIC:               } &     47.71   \\\\\n\\textbf{Df Residuals:}     &           5      & \\textbf{  BIC:               } &     48.50   \\\\\n\\textbf{Df Model:}         &           3      & \\textbf{                     } &             \\\\\n\\textbf{Covariance Type:}  &    nonrobust     & \\textbf{                     } &             \\\\\n\\bottomrule\n\\end{tabular}\n\\begin{tabular}{lcccccc}\n               & \\textbf{coef} & \\textbf{std err} & \\textbf{t} & \\textbf{P$> |$t$|$} & \\textbf{[0.025} & \\textbf{0.975]}  \\\\\n\\midrule\n\\textbf{const} &      14.5383  &       12.792     &     1.136  &         0.307        &      -18.345    &       47.422     \\\\\n\\textbf{LINE}  &      -2.0870  &        2.683     &    -0.778  &         0.472        &       -8.985    &        4.811     \\\\\n\\textbf{OVER}  &      -0.0075  &        0.013     &    -0.584  &         0.585        &       -0.040    &        0.025     \\\\\n\\textbf{UNDER} &      -0.0155  &        0.012     &    -1.327  &         0.242        &       -0.045    &        0.014     \\\\\n\\bottomrule\n\\end{tabular}\n\\begin{tabular}{lclc}\n\\textbf{Omnibus:}       &  1.293 & \\textbf{  Durbin-Watson:     } &    2.107  \\\\\n\\textbf{Prob(Omnibus):} &  0.524 & \\textbf{  Jarque-Bera (JB):  } &    0.396  \\\\\n\\textbf{Skew:}          & -0.505 & \\textbf{  Prob(JB):          } &    0.821  \\\\\n\\textbf{Kurtosis:}      &  2.818 & \\textbf{  Cond. No.          } & 2.02e+03  \\\\\n\\bottomrule\n\\end{tabular}\n%\\caption{OLS Regression Results}\n\\end{center}\n\nNotes: \\newline\n [1] Standard Errors assume that the covariance matrix of the errors is correctly specified. \\newline\n [2] The condition number is large, 2.02e+03. This might indicate that there are \\newline\n strong multicollinearity or other numerical problems."
          },
          "metadata": {},
          "execution_count": 8
        }
      ]
    },
    {
      "cell_type": "code",
      "source": [
        "# Define the new data point\n",
        "new_data = {\n",
        "    'const': 1,\n",
        "    'LINE': 4.5,\n",
        "    'OVER': -125,\n",
        "    'UNDER': -105\n",
        "}\n",
        "\n",
        "# Convert the new data point to a DataFrame\n",
        "new_df = pd.DataFrame([new_data])\n",
        "\n",
        "# Predict the total strikeout using the model\n",
        "predicted_strikeout = model.predict(new_df)\n",
        "predicted_strikeout\n"
      ],
      "metadata": {
        "colab": {
          "base_uri": "https://localhost:8080/"
        },
        "outputId": "c9667323-d965-4db3-ada9-26bd2a421279",
        "id": "pbtXU-h2ca4Z"
      },
      "execution_count": 9,
      "outputs": [
        {
          "output_type": "execute_result",
          "data": {
            "text/plain": [
              "0    7.705604\n",
              "dtype: float64"
            ]
          },
          "metadata": {},
          "execution_count": 9
        }
      ]
    },
    {
      "cell_type": "markdown",
      "source": [
        "#yusei kikuchi"
      ],
      "metadata": {
        "id": "EYFWd3vNc9GK"
      }
    },
    {
      "cell_type": "code",
      "source": [
        "import pandas as pd\n",
        "import statsmodels.api as sm\n",
        "\n",
        "# Define the data\n",
        "data = {\n",
        "    'LINE': [5.5, 5.5, 5.5, 5.5, 5.5, 6.5, 5.5, 5.5, 6.5, 4.5],\n",
        "    'OVER': [105, -136, 116, 110, 102, -110, -142, -160, 110, -166],\n",
        "    'UNDER': [-140, 106, -148, -140, -130, -116, 112, 126, -140, 130],\n",
        "    'STRIKEOUT': [6, 13, 5, 7, 3, 7, 5, 6, 4, 0]\n",
        "}\n",
        "# Create a DataFrame\n",
        "df = pd.DataFrame(data)\n",
        "\n",
        "# Define the independent variables and the dependent variable\n",
        "X = df[['LINE', 'OVER', 'UNDER']]\n",
        "y = df['STRIKEOUT']\n",
        "\n",
        "# Add a constant to the independent variables\n",
        "X = sm.add_constant(X)\n",
        "\n",
        "# Fit the linear regression model\n",
        "model = sm.OLS(y, X).fit()\n",
        "\n",
        "# Get the summary of the regression\n",
        "summary = model.summary()\n",
        "summary\n"
      ],
      "metadata": {
        "colab": {
          "base_uri": "https://localhost:8080/",
          "height": 554
        },
        "outputId": "c2318f36-e53f-44ce-c58c-9d25d2f7c29c",
        "id": "HKSrFWgDduXo"
      },
      "execution_count": 10,
      "outputs": [
        {
          "output_type": "stream",
          "name": "stderr",
          "text": [
            "/usr/local/lib/python3.10/dist-packages/scipy/stats/_stats_py.py:1806: UserWarning: kurtosistest only valid for n>=20 ... continuing anyway, n=10\n",
            "  warnings.warn(\"kurtosistest only valid for n>=20 ... continuing \"\n"
          ]
        },
        {
          "output_type": "execute_result",
          "data": {
            "text/plain": [
              "<class 'statsmodels.iolib.summary.Summary'>\n",
              "\"\"\"\n",
              "                            OLS Regression Results                            \n",
              "==============================================================================\n",
              "Dep. Variable:              STRIKEOUT   R-squared:                       0.182\n",
              "Model:                            OLS   Adj. R-squared:                 -0.228\n",
              "Method:                 Least Squares   F-statistic:                    0.4436\n",
              "Date:                Sat, 20 Jul 2024   Prob (F-statistic):              0.731\n",
              "Time:                        14:06:26   Log-Likelihood:                -24.721\n",
              "No. Observations:                  10   AIC:                             57.44\n",
              "Df Residuals:                       6   BIC:                             58.65\n",
              "Df Model:                           3                                         \n",
              "Covariance Type:            nonrobust                                         \n",
              "==============================================================================\n",
              "                 coef    std err          t      P>|t|      [0.025      0.975]\n",
              "------------------------------------------------------------------------------\n",
              "const        -11.5572     15.922     -0.726      0.495     -50.518      27.403\n",
              "LINE           3.1574      2.976      1.061      0.329      -4.124      10.438\n",
              "OVER           0.0046      0.024      0.194      0.852      -0.054       0.063\n",
              "UNDER          0.0131      0.027      0.478      0.650      -0.054       0.080\n",
              "==============================================================================\n",
              "Omnibus:                        2.872   Durbin-Watson:                   1.139\n",
              "Prob(Omnibus):                  0.238   Jarque-Bera (JB):                1.017\n",
              "Skew:                           0.778   Prob(JB):                        0.601\n",
              "Kurtosis:                       3.133   Cond. No.                     2.40e+03\n",
              "==============================================================================\n",
              "\n",
              "Notes:\n",
              "[1] Standard Errors assume that the covariance matrix of the errors is correctly specified.\n",
              "[2] The condition number is large, 2.4e+03. This might indicate that there are\n",
              "strong multicollinearity or other numerical problems.\n",
              "\"\"\""
            ],
            "text/html": [
              "<table class=\"simpletable\">\n",
              "<caption>OLS Regression Results</caption>\n",
              "<tr>\n",
              "  <th>Dep. Variable:</th>        <td>STRIKEOUT</td>    <th>  R-squared:         </th> <td>   0.182</td>\n",
              "</tr>\n",
              "<tr>\n",
              "  <th>Model:</th>                   <td>OLS</td>       <th>  Adj. R-squared:    </th> <td>  -0.228</td>\n",
              "</tr>\n",
              "<tr>\n",
              "  <th>Method:</th>             <td>Least Squares</td>  <th>  F-statistic:       </th> <td>  0.4436</td>\n",
              "</tr>\n",
              "<tr>\n",
              "  <th>Date:</th>             <td>Sat, 20 Jul 2024</td> <th>  Prob (F-statistic):</th>  <td> 0.731</td> \n",
              "</tr>\n",
              "<tr>\n",
              "  <th>Time:</th>                 <td>14:06:26</td>     <th>  Log-Likelihood:    </th> <td> -24.721</td>\n",
              "</tr>\n",
              "<tr>\n",
              "  <th>No. Observations:</th>      <td>    10</td>      <th>  AIC:               </th> <td>   57.44</td>\n",
              "</tr>\n",
              "<tr>\n",
              "  <th>Df Residuals:</th>          <td>     6</td>      <th>  BIC:               </th> <td>   58.65</td>\n",
              "</tr>\n",
              "<tr>\n",
              "  <th>Df Model:</th>              <td>     3</td>      <th>                     </th>     <td> </td>   \n",
              "</tr>\n",
              "<tr>\n",
              "  <th>Covariance Type:</th>      <td>nonrobust</td>    <th>                     </th>     <td> </td>   \n",
              "</tr>\n",
              "</table>\n",
              "<table class=\"simpletable\">\n",
              "<tr>\n",
              "    <td></td>       <th>coef</th>     <th>std err</th>      <th>t</th>      <th>P>|t|</th>  <th>[0.025</th>    <th>0.975]</th>  \n",
              "</tr>\n",
              "<tr>\n",
              "  <th>const</th> <td>  -11.5572</td> <td>   15.922</td> <td>   -0.726</td> <td> 0.495</td> <td>  -50.518</td> <td>   27.403</td>\n",
              "</tr>\n",
              "<tr>\n",
              "  <th>LINE</th>  <td>    3.1574</td> <td>    2.976</td> <td>    1.061</td> <td> 0.329</td> <td>   -4.124</td> <td>   10.438</td>\n",
              "</tr>\n",
              "<tr>\n",
              "  <th>OVER</th>  <td>    0.0046</td> <td>    0.024</td> <td>    0.194</td> <td> 0.852</td> <td>   -0.054</td> <td>    0.063</td>\n",
              "</tr>\n",
              "<tr>\n",
              "  <th>UNDER</th> <td>    0.0131</td> <td>    0.027</td> <td>    0.478</td> <td> 0.650</td> <td>   -0.054</td> <td>    0.080</td>\n",
              "</tr>\n",
              "</table>\n",
              "<table class=\"simpletable\">\n",
              "<tr>\n",
              "  <th>Omnibus:</th>       <td> 2.872</td> <th>  Durbin-Watson:     </th> <td>   1.139</td>\n",
              "</tr>\n",
              "<tr>\n",
              "  <th>Prob(Omnibus):</th> <td> 0.238</td> <th>  Jarque-Bera (JB):  </th> <td>   1.017</td>\n",
              "</tr>\n",
              "<tr>\n",
              "  <th>Skew:</th>          <td> 0.778</td> <th>  Prob(JB):          </th> <td>   0.601</td>\n",
              "</tr>\n",
              "<tr>\n",
              "  <th>Kurtosis:</th>      <td> 3.133</td> <th>  Cond. No.          </th> <td>2.40e+03</td>\n",
              "</tr>\n",
              "</table><br/><br/>Notes:<br/>[1] Standard Errors assume that the covariance matrix of the errors is correctly specified.<br/>[2] The condition number is large, 2.4e+03. This might indicate that there are<br/>strong multicollinearity or other numerical problems."
            ],
            "text/latex": "\\begin{center}\n\\begin{tabular}{lclc}\n\\toprule\n\\textbf{Dep. Variable:}    &    STRIKEOUT     & \\textbf{  R-squared:         } &     0.182   \\\\\n\\textbf{Model:}            &       OLS        & \\textbf{  Adj. R-squared:    } &    -0.228   \\\\\n\\textbf{Method:}           &  Least Squares   & \\textbf{  F-statistic:       } &    0.4436   \\\\\n\\textbf{Date:}             & Sat, 20 Jul 2024 & \\textbf{  Prob (F-statistic):} &    0.731    \\\\\n\\textbf{Time:}             &     14:06:26     & \\textbf{  Log-Likelihood:    } &   -24.721   \\\\\n\\textbf{No. Observations:} &          10      & \\textbf{  AIC:               } &     57.44   \\\\\n\\textbf{Df Residuals:}     &           6      & \\textbf{  BIC:               } &     58.65   \\\\\n\\textbf{Df Model:}         &           3      & \\textbf{                     } &             \\\\\n\\textbf{Covariance Type:}  &    nonrobust     & \\textbf{                     } &             \\\\\n\\bottomrule\n\\end{tabular}\n\\begin{tabular}{lcccccc}\n               & \\textbf{coef} & \\textbf{std err} & \\textbf{t} & \\textbf{P$> |$t$|$} & \\textbf{[0.025} & \\textbf{0.975]}  \\\\\n\\midrule\n\\textbf{const} &     -11.5572  &       15.922     &    -0.726  &         0.495        &      -50.518    &       27.403     \\\\\n\\textbf{LINE}  &       3.1574  &        2.976     &     1.061  &         0.329        &       -4.124    &       10.438     \\\\\n\\textbf{OVER}  &       0.0046  &        0.024     &     0.194  &         0.852        &       -0.054    &        0.063     \\\\\n\\textbf{UNDER} &       0.0131  &        0.027     &     0.478  &         0.650        &       -0.054    &        0.080     \\\\\n\\bottomrule\n\\end{tabular}\n\\begin{tabular}{lclc}\n\\textbf{Omnibus:}       &  2.872 & \\textbf{  Durbin-Watson:     } &    1.139  \\\\\n\\textbf{Prob(Omnibus):} &  0.238 & \\textbf{  Jarque-Bera (JB):  } &    1.017  \\\\\n\\textbf{Skew:}          &  0.778 & \\textbf{  Prob(JB):          } &    0.601  \\\\\n\\textbf{Kurtosis:}      &  3.133 & \\textbf{  Cond. No.          } & 2.40e+03  \\\\\n\\bottomrule\n\\end{tabular}\n%\\caption{OLS Regression Results}\n\\end{center}\n\nNotes: \\newline\n [1] Standard Errors assume that the covariance matrix of the errors is correctly specified. \\newline\n [2] The condition number is large, 2.4e+03. This might indicate that there are \\newline\n strong multicollinearity or other numerical problems."
          },
          "metadata": {},
          "execution_count": 10
        }
      ]
    },
    {
      "cell_type": "code",
      "source": [
        "# Define the new data point\n",
        "new_data = {\n",
        "    'const': 1,\n",
        "    'LINE': 4.5,\n",
        "    'OVER': -125,\n",
        "    'UNDER': -105\n",
        "}\n",
        "\n",
        "# Convert the new data point to a DataFrame\n",
        "new_df = pd.DataFrame([new_data])\n",
        "\n",
        "# Predict the total strikeout using the model\n",
        "predicted_strikeout = model.predict(new_df)\n",
        "predicted_strikeout\n"
      ],
      "metadata": {
        "colab": {
          "base_uri": "https://localhost:8080/"
        },
        "outputId": "c9667323-d965-4db3-ada9-26bd2a421279",
        "id": "3lt23jtDd1wt"
      },
      "execution_count": null,
      "outputs": [
        {
          "output_type": "execute_result",
          "data": {
            "text/plain": [
              "0    7.705604\n",
              "dtype: float64"
            ]
          },
          "metadata": {},
          "execution_count": 9
        }
      ]
    },
    {
      "cell_type": "markdown",
      "source": [
        "#resee olson"
      ],
      "metadata": {
        "id": "XPJ6uqUud-UJ"
      }
    },
    {
      "cell_type": "code",
      "source": [
        "import pandas as pd\n",
        "import statsmodels.api as sm\n",
        "\n",
        "# Define the data\n",
        "data = {\n",
        "    'LINE': [4.5, 5.5, 5.5, 4.5, 4.5, 4.5, 5.5, 4.5, 3.5, 4.5],\n",
        "    'OVER': [-100, -115, 112, -150, -138, -116, 130, -166, -160, 124],\n",
        "    'UNDER': [-128, -108, -142, 118, 108, -110, -166, 130, 126, -158],\n",
        "    'STRIKEOUT': [3, 8, 9, 3, 8, 3, 6, 5, 4, 2]\n",
        "}\n",
        "# Create a DataFrame\n",
        "df = pd.DataFrame(data)\n",
        "\n",
        "# Define the independent variables and the dependent variable\n",
        "X = df[['LINE', 'OVER', 'UNDER']]\n",
        "y = df['STRIKEOUT']\n",
        "\n",
        "# Add a constant to the independent variables\n",
        "X = sm.add_constant(X)\n",
        "\n",
        "# Fit the linear regression model\n",
        "model = sm.OLS(y, X).fit()\n",
        "\n",
        "# Get the summary of the regression\n",
        "summary = model.summary()\n",
        "summary\n"
      ],
      "metadata": {
        "colab": {
          "base_uri": "https://localhost:8080/",
          "height": 554
        },
        "outputId": "3225e7af-3e50-4d00-9ed1-a41324ac0441",
        "id": "ny8Pfe37etB8"
      },
      "execution_count": 11,
      "outputs": [
        {
          "output_type": "stream",
          "name": "stderr",
          "text": [
            "/usr/local/lib/python3.10/dist-packages/scipy/stats/_stats_py.py:1806: UserWarning: kurtosistest only valid for n>=20 ... continuing anyway, n=10\n",
            "  warnings.warn(\"kurtosistest only valid for n>=20 ... continuing \"\n"
          ]
        },
        {
          "output_type": "execute_result",
          "data": {
            "text/plain": [
              "<class 'statsmodels.iolib.summary.Summary'>\n",
              "\"\"\"\n",
              "                            OLS Regression Results                            \n",
              "==============================================================================\n",
              "Dep. Variable:              STRIKEOUT   R-squared:                       0.578\n",
              "Model:                            OLS   Adj. R-squared:                  0.367\n",
              "Method:                 Least Squares   F-statistic:                     2.740\n",
              "Date:                Sat, 20 Jul 2024   Prob (F-statistic):              0.136\n",
              "Time:                        14:11:07   Log-Likelihood:                -18.569\n",
              "No. Observations:                  10   AIC:                             45.14\n",
              "Df Residuals:                       6   BIC:                             46.35\n",
              "Df Model:                           3                                         \n",
              "Covariance Type:            nonrobust                                         \n",
              "==============================================================================\n",
              "                 coef    std err          t      P>|t|      [0.025      0.975]\n",
              "------------------------------------------------------------------------------\n",
              "const        -12.5474      6.519     -1.925      0.103     -28.498       3.403\n",
              "LINE           3.8445      1.376      2.793      0.031       0.477       7.212\n",
              "OVER           0.0008      0.008      0.105      0.920      -0.019       0.021\n",
              "UNDER          0.0113      0.008      1.400      0.211      -0.008       0.031\n",
              "==============================================================================\n",
              "Omnibus:                        0.137   Durbin-Watson:                   3.142\n",
              "Prob(Omnibus):                  0.934   Jarque-Bera (JB):                0.329\n",
              "Skew:                          -0.162   Prob(JB):                        0.848\n",
              "Kurtosis:                       2.173   Cond. No.                     1.72e+03\n",
              "==============================================================================\n",
              "\n",
              "Notes:\n",
              "[1] Standard Errors assume that the covariance matrix of the errors is correctly specified.\n",
              "[2] The condition number is large, 1.72e+03. This might indicate that there are\n",
              "strong multicollinearity or other numerical problems.\n",
              "\"\"\""
            ],
            "text/html": [
              "<table class=\"simpletable\">\n",
              "<caption>OLS Regression Results</caption>\n",
              "<tr>\n",
              "  <th>Dep. Variable:</th>        <td>STRIKEOUT</td>    <th>  R-squared:         </th> <td>   0.578</td>\n",
              "</tr>\n",
              "<tr>\n",
              "  <th>Model:</th>                   <td>OLS</td>       <th>  Adj. R-squared:    </th> <td>   0.367</td>\n",
              "</tr>\n",
              "<tr>\n",
              "  <th>Method:</th>             <td>Least Squares</td>  <th>  F-statistic:       </th> <td>   2.740</td>\n",
              "</tr>\n",
              "<tr>\n",
              "  <th>Date:</th>             <td>Sat, 20 Jul 2024</td> <th>  Prob (F-statistic):</th>  <td> 0.136</td> \n",
              "</tr>\n",
              "<tr>\n",
              "  <th>Time:</th>                 <td>14:11:07</td>     <th>  Log-Likelihood:    </th> <td> -18.569</td>\n",
              "</tr>\n",
              "<tr>\n",
              "  <th>No. Observations:</th>      <td>    10</td>      <th>  AIC:               </th> <td>   45.14</td>\n",
              "</tr>\n",
              "<tr>\n",
              "  <th>Df Residuals:</th>          <td>     6</td>      <th>  BIC:               </th> <td>   46.35</td>\n",
              "</tr>\n",
              "<tr>\n",
              "  <th>Df Model:</th>              <td>     3</td>      <th>                     </th>     <td> </td>   \n",
              "</tr>\n",
              "<tr>\n",
              "  <th>Covariance Type:</th>      <td>nonrobust</td>    <th>                     </th>     <td> </td>   \n",
              "</tr>\n",
              "</table>\n",
              "<table class=\"simpletable\">\n",
              "<tr>\n",
              "    <td></td>       <th>coef</th>     <th>std err</th>      <th>t</th>      <th>P>|t|</th>  <th>[0.025</th>    <th>0.975]</th>  \n",
              "</tr>\n",
              "<tr>\n",
              "  <th>const</th> <td>  -12.5474</td> <td>    6.519</td> <td>   -1.925</td> <td> 0.103</td> <td>  -28.498</td> <td>    3.403</td>\n",
              "</tr>\n",
              "<tr>\n",
              "  <th>LINE</th>  <td>    3.8445</td> <td>    1.376</td> <td>    2.793</td> <td> 0.031</td> <td>    0.477</td> <td>    7.212</td>\n",
              "</tr>\n",
              "<tr>\n",
              "  <th>OVER</th>  <td>    0.0008</td> <td>    0.008</td> <td>    0.105</td> <td> 0.920</td> <td>   -0.019</td> <td>    0.021</td>\n",
              "</tr>\n",
              "<tr>\n",
              "  <th>UNDER</th> <td>    0.0113</td> <td>    0.008</td> <td>    1.400</td> <td> 0.211</td> <td>   -0.008</td> <td>    0.031</td>\n",
              "</tr>\n",
              "</table>\n",
              "<table class=\"simpletable\">\n",
              "<tr>\n",
              "  <th>Omnibus:</th>       <td> 0.137</td> <th>  Durbin-Watson:     </th> <td>   3.142</td>\n",
              "</tr>\n",
              "<tr>\n",
              "  <th>Prob(Omnibus):</th> <td> 0.934</td> <th>  Jarque-Bera (JB):  </th> <td>   0.329</td>\n",
              "</tr>\n",
              "<tr>\n",
              "  <th>Skew:</th>          <td>-0.162</td> <th>  Prob(JB):          </th> <td>   0.848</td>\n",
              "</tr>\n",
              "<tr>\n",
              "  <th>Kurtosis:</th>      <td> 2.173</td> <th>  Cond. No.          </th> <td>1.72e+03</td>\n",
              "</tr>\n",
              "</table><br/><br/>Notes:<br/>[1] Standard Errors assume that the covariance matrix of the errors is correctly specified.<br/>[2] The condition number is large, 1.72e+03. This might indicate that there are<br/>strong multicollinearity or other numerical problems."
            ],
            "text/latex": "\\begin{center}\n\\begin{tabular}{lclc}\n\\toprule\n\\textbf{Dep. Variable:}    &    STRIKEOUT     & \\textbf{  R-squared:         } &     0.578   \\\\\n\\textbf{Model:}            &       OLS        & \\textbf{  Adj. R-squared:    } &     0.367   \\\\\n\\textbf{Method:}           &  Least Squares   & \\textbf{  F-statistic:       } &     2.740   \\\\\n\\textbf{Date:}             & Sat, 20 Jul 2024 & \\textbf{  Prob (F-statistic):} &    0.136    \\\\\n\\textbf{Time:}             &     14:11:07     & \\textbf{  Log-Likelihood:    } &   -18.569   \\\\\n\\textbf{No. Observations:} &          10      & \\textbf{  AIC:               } &     45.14   \\\\\n\\textbf{Df Residuals:}     &           6      & \\textbf{  BIC:               } &     46.35   \\\\\n\\textbf{Df Model:}         &           3      & \\textbf{                     } &             \\\\\n\\textbf{Covariance Type:}  &    nonrobust     & \\textbf{                     } &             \\\\\n\\bottomrule\n\\end{tabular}\n\\begin{tabular}{lcccccc}\n               & \\textbf{coef} & \\textbf{std err} & \\textbf{t} & \\textbf{P$> |$t$|$} & \\textbf{[0.025} & \\textbf{0.975]}  \\\\\n\\midrule\n\\textbf{const} &     -12.5474  &        6.519     &    -1.925  &         0.103        &      -28.498    &        3.403     \\\\\n\\textbf{LINE}  &       3.8445  &        1.376     &     2.793  &         0.031        &        0.477    &        7.212     \\\\\n\\textbf{OVER}  &       0.0008  &        0.008     &     0.105  &         0.920        &       -0.019    &        0.021     \\\\\n\\textbf{UNDER} &       0.0113  &        0.008     &     1.400  &         0.211        &       -0.008    &        0.031     \\\\\n\\bottomrule\n\\end{tabular}\n\\begin{tabular}{lclc}\n\\textbf{Omnibus:}       &  0.137 & \\textbf{  Durbin-Watson:     } &    3.142  \\\\\n\\textbf{Prob(Omnibus):} &  0.934 & \\textbf{  Jarque-Bera (JB):  } &    0.329  \\\\\n\\textbf{Skew:}          & -0.162 & \\textbf{  Prob(JB):          } &    0.848  \\\\\n\\textbf{Kurtosis:}      &  2.173 & \\textbf{  Cond. No.          } & 1.72e+03  \\\\\n\\bottomrule\n\\end{tabular}\n%\\caption{OLS Regression Results}\n\\end{center}\n\nNotes: \\newline\n [1] Standard Errors assume that the covariance matrix of the errors is correctly specified. \\newline\n [2] The condition number is large, 1.72e+03. This might indicate that there are \\newline\n strong multicollinearity or other numerical problems."
          },
          "metadata": {},
          "execution_count": 11
        }
      ]
    },
    {
      "cell_type": "code",
      "source": [],
      "metadata": {
        "id": "TvbqLDyFew5Z"
      },
      "execution_count": null,
      "outputs": []
    },
    {
      "cell_type": "code",
      "source": [
        "# Define the new data point\n",
        "new_data = {\n",
        "    'const': 1,\n",
        "    'LINE': 4.5,\n",
        "    'OVER': 130,\n",
        "    'UNDER': -165\n",
        "}\n",
        "\n",
        "# Convert the new data point to a DataFrame\n",
        "new_df = pd.DataFrame([new_data])\n",
        "\n",
        "# Predict the total strikeout using the model\n",
        "predicted_strikeout = model.predict(new_df)\n",
        "predicted_strikeout\n"
      ],
      "metadata": {
        "colab": {
          "base_uri": "https://localhost:8080/"
        },
        "outputId": "e47bb562-164d-4f87-8a35-fa18648304d0",
        "id": "0zgqJwYrexNG"
      },
      "execution_count": 13,
      "outputs": [
        {
          "output_type": "execute_result",
          "data": {
            "text/plain": [
              "0    2.997718\n",
              "dtype: float64"
            ]
          },
          "metadata": {},
          "execution_count": 13
        }
      ]
    },
    {
      "cell_type": "markdown",
      "source": [
        "#luis severion"
      ],
      "metadata": {
        "id": "0FRBUgKegJ2_"
      }
    },
    {
      "cell_type": "code",
      "source": [],
      "metadata": {
        "id": "UJfielNBgMP3"
      },
      "execution_count": null,
      "outputs": []
    },
    {
      "cell_type": "code",
      "source": [
        "import pandas as pd\n",
        "import statsmodels.api as sm\n",
        "\n",
        "# Define the data\n",
        "data = {\n",
        "    \"LINE\": [4.5, 4.5, 4.5, 4.5, 4.5, 5.5, 4.5, 4.5, 5.5, 5.5],\n",
        "    \"OVER\": [124, -128, -104, -170, 114, 104, 112, -156, 118, 122],\n",
        "    \"UNDER\": [-158, -100, -122, 132, -146, -130, -142, 124, -150, -156],\n",
        "    \"STRIKEOUT\": [4, 3, 3, 10, 1, 2, 4, 4, 6, 3]\n",
        "}\n",
        "# Create a DataFrame\n",
        "df = pd.DataFrame(data)\n",
        "\n",
        "# Define the independent variables and the dependent variable\n",
        "X = df[['LINE', 'OVER', 'UNDER']]\n",
        "y = df['STRIKEOUT']\n",
        "\n",
        "# Add a constant to the independent variables\n",
        "X = sm.add_constant(X)\n",
        "\n",
        "# Fit the linear regression model\n",
        "model = sm.OLS(y, X).fit()\n",
        "\n",
        "# Get the summary of the regression\n",
        "summary = model.summary()\n",
        "summary\n"
      ],
      "metadata": {
        "colab": {
          "base_uri": "https://localhost:8080/",
          "height": 554
        },
        "outputId": "e9482e91-b367-4735-cba9-a26deb265169",
        "id": "pnl1xYc1gOfT"
      },
      "execution_count": 14,
      "outputs": [
        {
          "output_type": "stream",
          "name": "stderr",
          "text": [
            "/usr/local/lib/python3.10/dist-packages/scipy/stats/_stats_py.py:1806: UserWarning: kurtosistest only valid for n>=20 ... continuing anyway, n=10\n",
            "  warnings.warn(\"kurtosistest only valid for n>=20 ... continuing \"\n"
          ]
        },
        {
          "output_type": "execute_result",
          "data": {
            "text/plain": [
              "<class 'statsmodels.iolib.summary.Summary'>\n",
              "\"\"\"\n",
              "                            OLS Regression Results                            \n",
              "==============================================================================\n",
              "Dep. Variable:              STRIKEOUT   R-squared:                       0.404\n",
              "Model:                            OLS   Adj. R-squared:                  0.106\n",
              "Method:                 Least Squares   F-statistic:                     1.358\n",
              "Date:                Sat, 20 Jul 2024   Prob (F-statistic):              0.342\n",
              "Time:                        14:17:57   Log-Likelihood:                -20.213\n",
              "No. Observations:                  10   AIC:                             48.43\n",
              "Df Residuals:                       6   BIC:                             49.64\n",
              "Df Model:                           3                                         \n",
              "Covariance Type:            nonrobust                                         \n",
              "==============================================================================\n",
              "                 coef    std err          t      P>|t|      [0.025      0.975]\n",
              "------------------------------------------------------------------------------\n",
              "const          2.3661      9.303      0.254      0.808     -20.398      25.130\n",
              "LINE           0.6281      1.918      0.327      0.754      -4.066       5.322\n",
              "OVER           0.0023      0.011      0.221      0.832      -0.023       0.028\n",
              "UNDER          0.0167      0.011      1.473      0.191      -0.011       0.044\n",
              "==============================================================================\n",
              "Omnibus:                        0.401   Durbin-Watson:                   2.841\n",
              "Prob(Omnibus):                  0.818   Jarque-Bera (JB):                0.462\n",
              "Skew:                           0.061   Prob(JB):                        0.794\n",
              "Kurtosis:                       1.954   Cond. No.                     2.18e+03\n",
              "==============================================================================\n",
              "\n",
              "Notes:\n",
              "[1] Standard Errors assume that the covariance matrix of the errors is correctly specified.\n",
              "[2] The condition number is large, 2.18e+03. This might indicate that there are\n",
              "strong multicollinearity or other numerical problems.\n",
              "\"\"\""
            ],
            "text/html": [
              "<table class=\"simpletable\">\n",
              "<caption>OLS Regression Results</caption>\n",
              "<tr>\n",
              "  <th>Dep. Variable:</th>        <td>STRIKEOUT</td>    <th>  R-squared:         </th> <td>   0.404</td>\n",
              "</tr>\n",
              "<tr>\n",
              "  <th>Model:</th>                   <td>OLS</td>       <th>  Adj. R-squared:    </th> <td>   0.106</td>\n",
              "</tr>\n",
              "<tr>\n",
              "  <th>Method:</th>             <td>Least Squares</td>  <th>  F-statistic:       </th> <td>   1.358</td>\n",
              "</tr>\n",
              "<tr>\n",
              "  <th>Date:</th>             <td>Sat, 20 Jul 2024</td> <th>  Prob (F-statistic):</th>  <td> 0.342</td> \n",
              "</tr>\n",
              "<tr>\n",
              "  <th>Time:</th>                 <td>14:17:57</td>     <th>  Log-Likelihood:    </th> <td> -20.213</td>\n",
              "</tr>\n",
              "<tr>\n",
              "  <th>No. Observations:</th>      <td>    10</td>      <th>  AIC:               </th> <td>   48.43</td>\n",
              "</tr>\n",
              "<tr>\n",
              "  <th>Df Residuals:</th>          <td>     6</td>      <th>  BIC:               </th> <td>   49.64</td>\n",
              "</tr>\n",
              "<tr>\n",
              "  <th>Df Model:</th>              <td>     3</td>      <th>                     </th>     <td> </td>   \n",
              "</tr>\n",
              "<tr>\n",
              "  <th>Covariance Type:</th>      <td>nonrobust</td>    <th>                     </th>     <td> </td>   \n",
              "</tr>\n",
              "</table>\n",
              "<table class=\"simpletable\">\n",
              "<tr>\n",
              "    <td></td>       <th>coef</th>     <th>std err</th>      <th>t</th>      <th>P>|t|</th>  <th>[0.025</th>    <th>0.975]</th>  \n",
              "</tr>\n",
              "<tr>\n",
              "  <th>const</th> <td>    2.3661</td> <td>    9.303</td> <td>    0.254</td> <td> 0.808</td> <td>  -20.398</td> <td>   25.130</td>\n",
              "</tr>\n",
              "<tr>\n",
              "  <th>LINE</th>  <td>    0.6281</td> <td>    1.918</td> <td>    0.327</td> <td> 0.754</td> <td>   -4.066</td> <td>    5.322</td>\n",
              "</tr>\n",
              "<tr>\n",
              "  <th>OVER</th>  <td>    0.0023</td> <td>    0.011</td> <td>    0.221</td> <td> 0.832</td> <td>   -0.023</td> <td>    0.028</td>\n",
              "</tr>\n",
              "<tr>\n",
              "  <th>UNDER</th> <td>    0.0167</td> <td>    0.011</td> <td>    1.473</td> <td> 0.191</td> <td>   -0.011</td> <td>    0.044</td>\n",
              "</tr>\n",
              "</table>\n",
              "<table class=\"simpletable\">\n",
              "<tr>\n",
              "  <th>Omnibus:</th>       <td> 0.401</td> <th>  Durbin-Watson:     </th> <td>   2.841</td>\n",
              "</tr>\n",
              "<tr>\n",
              "  <th>Prob(Omnibus):</th> <td> 0.818</td> <th>  Jarque-Bera (JB):  </th> <td>   0.462</td>\n",
              "</tr>\n",
              "<tr>\n",
              "  <th>Skew:</th>          <td> 0.061</td> <th>  Prob(JB):          </th> <td>   0.794</td>\n",
              "</tr>\n",
              "<tr>\n",
              "  <th>Kurtosis:</th>      <td> 1.954</td> <th>  Cond. No.          </th> <td>2.18e+03</td>\n",
              "</tr>\n",
              "</table><br/><br/>Notes:<br/>[1] Standard Errors assume that the covariance matrix of the errors is correctly specified.<br/>[2] The condition number is large, 2.18e+03. This might indicate that there are<br/>strong multicollinearity or other numerical problems."
            ],
            "text/latex": "\\begin{center}\n\\begin{tabular}{lclc}\n\\toprule\n\\textbf{Dep. Variable:}    &    STRIKEOUT     & \\textbf{  R-squared:         } &     0.404   \\\\\n\\textbf{Model:}            &       OLS        & \\textbf{  Adj. R-squared:    } &     0.106   \\\\\n\\textbf{Method:}           &  Least Squares   & \\textbf{  F-statistic:       } &     1.358   \\\\\n\\textbf{Date:}             & Sat, 20 Jul 2024 & \\textbf{  Prob (F-statistic):} &    0.342    \\\\\n\\textbf{Time:}             &     14:17:57     & \\textbf{  Log-Likelihood:    } &   -20.213   \\\\\n\\textbf{No. Observations:} &          10      & \\textbf{  AIC:               } &     48.43   \\\\\n\\textbf{Df Residuals:}     &           6      & \\textbf{  BIC:               } &     49.64   \\\\\n\\textbf{Df Model:}         &           3      & \\textbf{                     } &             \\\\\n\\textbf{Covariance Type:}  &    nonrobust     & \\textbf{                     } &             \\\\\n\\bottomrule\n\\end{tabular}\n\\begin{tabular}{lcccccc}\n               & \\textbf{coef} & \\textbf{std err} & \\textbf{t} & \\textbf{P$> |$t$|$} & \\textbf{[0.025} & \\textbf{0.975]}  \\\\\n\\midrule\n\\textbf{const} &       2.3661  &        9.303     &     0.254  &         0.808        &      -20.398    &       25.130     \\\\\n\\textbf{LINE}  &       0.6281  &        1.918     &     0.327  &         0.754        &       -4.066    &        5.322     \\\\\n\\textbf{OVER}  &       0.0023  &        0.011     &     0.221  &         0.832        &       -0.023    &        0.028     \\\\\n\\textbf{UNDER} &       0.0167  &        0.011     &     1.473  &         0.191        &       -0.011    &        0.044     \\\\\n\\bottomrule\n\\end{tabular}\n\\begin{tabular}{lclc}\n\\textbf{Omnibus:}       &  0.401 & \\textbf{  Durbin-Watson:     } &    2.841  \\\\\n\\textbf{Prob(Omnibus):} &  0.818 & \\textbf{  Jarque-Bera (JB):  } &    0.462  \\\\\n\\textbf{Skew:}          &  0.061 & \\textbf{  Prob(JB):          } &    0.794  \\\\\n\\textbf{Kurtosis:}      &  1.954 & \\textbf{  Cond. No.          } & 2.18e+03  \\\\\n\\bottomrule\n\\end{tabular}\n%\\caption{OLS Regression Results}\n\\end{center}\n\nNotes: \\newline\n [1] Standard Errors assume that the covariance matrix of the errors is correctly specified. \\newline\n [2] The condition number is large, 2.18e+03. This might indicate that there are \\newline\n strong multicollinearity or other numerical problems."
          },
          "metadata": {},
          "execution_count": 14
        }
      ]
    },
    {
      "cell_type": "code",
      "source": [],
      "metadata": {
        "id": "WiyoJq96geym"
      },
      "execution_count": null,
      "outputs": []
    },
    {
      "cell_type": "code",
      "source": [
        "# Define the new data point\n",
        "new_data = {\n",
        "    'const': 1,\n",
        "    'LINE': 4.5,\n",
        "    'OVER': 100,\n",
        "    'UNDER': -135\n",
        "}\n",
        "\n",
        "# Convert the new data point to a DataFrame\n",
        "new_df = pd.DataFrame([new_data])\n",
        "\n",
        "# Predict the total strikeout using the model\n",
        "predicted_strikeout = model.predict(new_df)\n",
        "predicted_strikeout\n"
      ],
      "metadata": {
        "colab": {
          "base_uri": "https://localhost:8080/"
        },
        "outputId": "695a46d0-7d3c-46e6-958a-892ded8dbc3c",
        "id": "2QJ13okJgfIK"
      },
      "execution_count": 15,
      "outputs": [
        {
          "output_type": "execute_result",
          "data": {
            "text/plain": [
              "0    3.176537\n",
              "dtype: float64"
            ]
          },
          "metadata": {},
          "execution_count": 15
        }
      ]
    },
    {
      "cell_type": "markdown",
      "source": [
        "#mitch spence"
      ],
      "metadata": {
        "id": "829c2Ow1h0Io"
      }
    },
    {
      "cell_type": "code",
      "source": [],
      "metadata": {
        "id": "oAoP5p8kh3ne"
      },
      "execution_count": null,
      "outputs": []
    },
    {
      "cell_type": "code",
      "source": [
        "import pandas as pd\n",
        "import statsmodels.api as sm\n",
        "\n",
        "# Define the data\n",
        "data = {\n",
        "    'LINE': [4.5, 4.5, 4.5, 4.5, 3.5, 3.5, 3.5, 4.5, 3.5, 4.5],\n",
        "    'OVER': [110, 120, 118, 114, -102, -162, -118, -140, -174, -105],\n",
        "    'UNDER': [-145, -152, -150, -146, -126, 126, -108, 110, 136, -125],\n",
        "    'STRIKEOUT': [6, 5, 5, 6, 7, 3, 3, 3, 4, 4]\n",
        "}\n",
        "# Create a DataFrame\n",
        "df = pd.DataFrame(data)\n",
        "\n",
        "# Define the independent variables and the dependent variable\n",
        "X = df[['LINE', 'OVER', 'UNDER']]\n",
        "y = df['STRIKEOUT']\n",
        "\n",
        "# Add a constant to the independent variables\n",
        "X = sm.add_constant(X)\n",
        "\n",
        "# Fit the linear regression model\n",
        "model = sm.OLS(y, X).fit()\n",
        "\n",
        "# Get the summary of the regression\n",
        "summary = model.summary()\n",
        "summary\n"
      ],
      "metadata": {
        "colab": {
          "base_uri": "https://localhost:8080/",
          "height": 554
        },
        "outputId": "6d4ac661-51b4-43cb-b515-b1d93dc9d1a1",
        "id": "X8aszv40h9lz"
      },
      "execution_count": 16,
      "outputs": [
        {
          "output_type": "stream",
          "name": "stderr",
          "text": [
            "/usr/local/lib/python3.10/dist-packages/scipy/stats/_stats_py.py:1806: UserWarning: kurtosistest only valid for n>=20 ... continuing anyway, n=10\n",
            "  warnings.warn(\"kurtosistest only valid for n>=20 ... continuing \"\n"
          ]
        },
        {
          "output_type": "execute_result",
          "data": {
            "text/plain": [
              "<class 'statsmodels.iolib.summary.Summary'>\n",
              "\"\"\"\n",
              "                            OLS Regression Results                            \n",
              "==============================================================================\n",
              "Dep. Variable:              STRIKEOUT   R-squared:                       0.505\n",
              "Model:                            OLS   Adj. R-squared:                  0.257\n",
              "Method:                 Least Squares   F-statistic:                     2.039\n",
              "Date:                Sat, 20 Jul 2024   Prob (F-statistic):              0.210\n",
              "Time:                        14:25:26   Log-Likelihood:                -13.724\n",
              "No. Observations:                  10   AIC:                             35.45\n",
              "Df Residuals:                       6   BIC:                             36.66\n",
              "Df Model:                           3                                         \n",
              "Covariance Type:            nonrobust                                         \n",
              "==============================================================================\n",
              "                 coef    std err          t      P>|t|      [0.025      0.975]\n",
              "------------------------------------------------------------------------------\n",
              "const          8.4257      4.754      1.772      0.127      -3.206      20.058\n",
              "LINE          -0.9457      1.113     -0.850      0.428      -3.669       1.778\n",
              "OVER           0.0060      0.006      1.035      0.341      -0.008       0.020\n",
              "UNDER         -0.0044      0.005     -0.913      0.397      -0.016       0.007\n",
              "==============================================================================\n",
              "Omnibus:                        1.362   Durbin-Watson:                   1.877\n",
              "Prob(Omnibus):                  0.506   Jarque-Bera (JB):                0.042\n",
              "Skew:                           0.064   Prob(JB):                        0.979\n",
              "Kurtosis:                       3.290   Cond. No.                     2.02e+03\n",
              "==============================================================================\n",
              "\n",
              "Notes:\n",
              "[1] Standard Errors assume that the covariance matrix of the errors is correctly specified.\n",
              "[2] The condition number is large, 2.02e+03. This might indicate that there are\n",
              "strong multicollinearity or other numerical problems.\n",
              "\"\"\""
            ],
            "text/html": [
              "<table class=\"simpletable\">\n",
              "<caption>OLS Regression Results</caption>\n",
              "<tr>\n",
              "  <th>Dep. Variable:</th>        <td>STRIKEOUT</td>    <th>  R-squared:         </th> <td>   0.505</td>\n",
              "</tr>\n",
              "<tr>\n",
              "  <th>Model:</th>                   <td>OLS</td>       <th>  Adj. R-squared:    </th> <td>   0.257</td>\n",
              "</tr>\n",
              "<tr>\n",
              "  <th>Method:</th>             <td>Least Squares</td>  <th>  F-statistic:       </th> <td>   2.039</td>\n",
              "</tr>\n",
              "<tr>\n",
              "  <th>Date:</th>             <td>Sat, 20 Jul 2024</td> <th>  Prob (F-statistic):</th>  <td> 0.210</td> \n",
              "</tr>\n",
              "<tr>\n",
              "  <th>Time:</th>                 <td>14:25:26</td>     <th>  Log-Likelihood:    </th> <td> -13.724</td>\n",
              "</tr>\n",
              "<tr>\n",
              "  <th>No. Observations:</th>      <td>    10</td>      <th>  AIC:               </th> <td>   35.45</td>\n",
              "</tr>\n",
              "<tr>\n",
              "  <th>Df Residuals:</th>          <td>     6</td>      <th>  BIC:               </th> <td>   36.66</td>\n",
              "</tr>\n",
              "<tr>\n",
              "  <th>Df Model:</th>              <td>     3</td>      <th>                     </th>     <td> </td>   \n",
              "</tr>\n",
              "<tr>\n",
              "  <th>Covariance Type:</th>      <td>nonrobust</td>    <th>                     </th>     <td> </td>   \n",
              "</tr>\n",
              "</table>\n",
              "<table class=\"simpletable\">\n",
              "<tr>\n",
              "    <td></td>       <th>coef</th>     <th>std err</th>      <th>t</th>      <th>P>|t|</th>  <th>[0.025</th>    <th>0.975]</th>  \n",
              "</tr>\n",
              "<tr>\n",
              "  <th>const</th> <td>    8.4257</td> <td>    4.754</td> <td>    1.772</td> <td> 0.127</td> <td>   -3.206</td> <td>   20.058</td>\n",
              "</tr>\n",
              "<tr>\n",
              "  <th>LINE</th>  <td>   -0.9457</td> <td>    1.113</td> <td>   -0.850</td> <td> 0.428</td> <td>   -3.669</td> <td>    1.778</td>\n",
              "</tr>\n",
              "<tr>\n",
              "  <th>OVER</th>  <td>    0.0060</td> <td>    0.006</td> <td>    1.035</td> <td> 0.341</td> <td>   -0.008</td> <td>    0.020</td>\n",
              "</tr>\n",
              "<tr>\n",
              "  <th>UNDER</th> <td>   -0.0044</td> <td>    0.005</td> <td>   -0.913</td> <td> 0.397</td> <td>   -0.016</td> <td>    0.007</td>\n",
              "</tr>\n",
              "</table>\n",
              "<table class=\"simpletable\">\n",
              "<tr>\n",
              "  <th>Omnibus:</th>       <td> 1.362</td> <th>  Durbin-Watson:     </th> <td>   1.877</td>\n",
              "</tr>\n",
              "<tr>\n",
              "  <th>Prob(Omnibus):</th> <td> 0.506</td> <th>  Jarque-Bera (JB):  </th> <td>   0.042</td>\n",
              "</tr>\n",
              "<tr>\n",
              "  <th>Skew:</th>          <td> 0.064</td> <th>  Prob(JB):          </th> <td>   0.979</td>\n",
              "</tr>\n",
              "<tr>\n",
              "  <th>Kurtosis:</th>      <td> 3.290</td> <th>  Cond. No.          </th> <td>2.02e+03</td>\n",
              "</tr>\n",
              "</table><br/><br/>Notes:<br/>[1] Standard Errors assume that the covariance matrix of the errors is correctly specified.<br/>[2] The condition number is large, 2.02e+03. This might indicate that there are<br/>strong multicollinearity or other numerical problems."
            ],
            "text/latex": "\\begin{center}\n\\begin{tabular}{lclc}\n\\toprule\n\\textbf{Dep. Variable:}    &    STRIKEOUT     & \\textbf{  R-squared:         } &     0.505   \\\\\n\\textbf{Model:}            &       OLS        & \\textbf{  Adj. R-squared:    } &     0.257   \\\\\n\\textbf{Method:}           &  Least Squares   & \\textbf{  F-statistic:       } &     2.039   \\\\\n\\textbf{Date:}             & Sat, 20 Jul 2024 & \\textbf{  Prob (F-statistic):} &    0.210    \\\\\n\\textbf{Time:}             &     14:25:26     & \\textbf{  Log-Likelihood:    } &   -13.724   \\\\\n\\textbf{No. Observations:} &          10      & \\textbf{  AIC:               } &     35.45   \\\\\n\\textbf{Df Residuals:}     &           6      & \\textbf{  BIC:               } &     36.66   \\\\\n\\textbf{Df Model:}         &           3      & \\textbf{                     } &             \\\\\n\\textbf{Covariance Type:}  &    nonrobust     & \\textbf{                     } &             \\\\\n\\bottomrule\n\\end{tabular}\n\\begin{tabular}{lcccccc}\n               & \\textbf{coef} & \\textbf{std err} & \\textbf{t} & \\textbf{P$> |$t$|$} & \\textbf{[0.025} & \\textbf{0.975]}  \\\\\n\\midrule\n\\textbf{const} &       8.4257  &        4.754     &     1.772  &         0.127        &       -3.206    &       20.058     \\\\\n\\textbf{LINE}  &      -0.9457  &        1.113     &    -0.850  &         0.428        &       -3.669    &        1.778     \\\\\n\\textbf{OVER}  &       0.0060  &        0.006     &     1.035  &         0.341        &       -0.008    &        0.020     \\\\\n\\textbf{UNDER} &      -0.0044  &        0.005     &    -0.913  &         0.397        &       -0.016    &        0.007     \\\\\n\\bottomrule\n\\end{tabular}\n\\begin{tabular}{lclc}\n\\textbf{Omnibus:}       &  1.362 & \\textbf{  Durbin-Watson:     } &    1.877  \\\\\n\\textbf{Prob(Omnibus):} &  0.506 & \\textbf{  Jarque-Bera (JB):  } &    0.042  \\\\\n\\textbf{Skew:}          &  0.064 & \\textbf{  Prob(JB):          } &    0.979  \\\\\n\\textbf{Kurtosis:}      &  3.290 & \\textbf{  Cond. No.          } & 2.02e+03  \\\\\n\\bottomrule\n\\end{tabular}\n%\\caption{OLS Regression Results}\n\\end{center}\n\nNotes: \\newline\n [1] Standard Errors assume that the covariance matrix of the errors is correctly specified. \\newline\n [2] The condition number is large, 2.02e+03. This might indicate that there are \\newline\n strong multicollinearity or other numerical problems."
          },
          "metadata": {},
          "execution_count": 16
        }
      ]
    },
    {
      "cell_type": "code",
      "source": [
        "# Define the new data point\n",
        "new_data = {\n",
        "    'const': 1,\n",
        "    'LINE': 4.5,\n",
        "    'OVER': 125,\n",
        "    'UNDER': -165\n",
        "}\n",
        "\n",
        "# Convert the new data point to a DataFrame\n",
        "new_df = pd.DataFrame([new_data])\n",
        "\n",
        "# Predict the total strikeout using the model\n",
        "predicted_strikeout = model.predict(new_df)\n",
        "predicted_strikeout\n"
      ],
      "metadata": {
        "colab": {
          "base_uri": "https://localhost:8080/"
        },
        "outputId": "260cb127-85ab-4fc2-d58d-244ab14cda25",
        "id": "y8QtMbQ6iKxK"
      },
      "execution_count": 17,
      "outputs": [
        {
          "output_type": "execute_result",
          "data": {
            "text/plain": [
              "0    5.647145\n",
              "dtype: float64"
            ]
          },
          "metadata": {},
          "execution_count": 17
        }
      ]
    },
    {
      "cell_type": "markdown",
      "source": [
        "#NICK LODOLO"
      ],
      "metadata": {
        "id": "XtONPDTulU6-"
      }
    },
    {
      "cell_type": "code",
      "source": [],
      "metadata": {
        "id": "wUZyLvKclYbL"
      },
      "execution_count": null,
      "outputs": []
    },
    {
      "cell_type": "code",
      "source": [
        "import pandas as pd\n",
        "import statsmodels.api as sm\n",
        "\n",
        "# Define the data\n",
        "data = {\n",
        "    'LINE': [6.5, 6.5, 7.5, 6.5, 5.5, 6.5, 6.5, 6.5, 6.5, 7.5],\n",
        "    'OVER': [110, -118, 104, -111, -146, -128, 114, 126, -113, 110],\n",
        "    'UNDER': [-145, -108, -134, -115, 114, 102, -146, -160, -113, -140],\n",
        "    'STRIKEOUT': [4, 4, 3, 8, 6, 7, 3, 3, 6, 6]\n",
        "}\n",
        "# Create a DataFrame\n",
        "df = pd.DataFrame(data)\n",
        "\n",
        "# Define the independent variables and the dependent variable\n",
        "X = df[['LINE', 'OVER', 'UNDER']]\n",
        "y = df['STRIKEOUT']\n",
        "\n",
        "# Add a constant to the independent variables\n",
        "X = sm.add_constant(X)\n",
        "\n",
        "# Fit the linear regression model\n",
        "model = sm.OLS(y, X).fit()\n",
        "\n",
        "# Get the summary of the regression\n",
        "summary = model.summary()\n",
        "summary\n"
      ],
      "metadata": {
        "colab": {
          "base_uri": "https://localhost:8080/",
          "height": 554
        },
        "outputId": "651a90d5-a9af-4753-8188-ce1d95b984cb",
        "id": "AQUWldHRlYrb"
      },
      "execution_count": 18,
      "outputs": [
        {
          "output_type": "stream",
          "name": "stderr",
          "text": [
            "/usr/local/lib/python3.10/dist-packages/scipy/stats/_stats_py.py:1806: UserWarning: kurtosistest only valid for n>=20 ... continuing anyway, n=10\n",
            "  warnings.warn(\"kurtosistest only valid for n>=20 ... continuing \"\n"
          ]
        },
        {
          "output_type": "execute_result",
          "data": {
            "text/plain": [
              "<class 'statsmodels.iolib.summary.Summary'>\n",
              "\"\"\"\n",
              "                            OLS Regression Results                            \n",
              "==============================================================================\n",
              "Dep. Variable:              STRIKEOUT   R-squared:                       0.543\n",
              "Model:                            OLS   Adj. R-squared:                  0.315\n",
              "Method:                 Least Squares   F-statistic:                     2.378\n",
              "Date:                Sat, 20 Jul 2024   Prob (F-statistic):              0.169\n",
              "Time:                        14:41:15   Log-Likelihood:                -15.765\n",
              "No. Observations:                  10   AIC:                             39.53\n",
              "Df Residuals:                       6   BIC:                             40.74\n",
              "Df Model:                           3                                         \n",
              "Covariance Type:            nonrobust                                         \n",
              "==============================================================================\n",
              "                 coef    std err          t      P>|t|      [0.025      0.975]\n",
              "------------------------------------------------------------------------------\n",
              "const         -1.6205      7.392     -0.219      0.834     -19.707      16.466\n",
              "LINE           1.0364      1.141      0.908      0.399      -1.756       3.829\n",
              "OVER          -0.0110      0.006     -1.915      0.104      -0.025       0.003\n",
              "UNDER          0.0033      0.007      0.469      0.656      -0.014       0.020\n",
              "==============================================================================\n",
              "Omnibus:                        0.067   Durbin-Watson:                   1.988\n",
              "Prob(Omnibus):                  0.967   Jarque-Bera (JB):                0.109\n",
              "Skew:                          -0.031   Prob(JB):                        0.947\n",
              "Kurtosis:                       2.492   Cond. No.                     2.36e+03\n",
              "==============================================================================\n",
              "\n",
              "Notes:\n",
              "[1] Standard Errors assume that the covariance matrix of the errors is correctly specified.\n",
              "[2] The condition number is large, 2.36e+03. This might indicate that there are\n",
              "strong multicollinearity or other numerical problems.\n",
              "\"\"\""
            ],
            "text/html": [
              "<table class=\"simpletable\">\n",
              "<caption>OLS Regression Results</caption>\n",
              "<tr>\n",
              "  <th>Dep. Variable:</th>        <td>STRIKEOUT</td>    <th>  R-squared:         </th> <td>   0.543</td>\n",
              "</tr>\n",
              "<tr>\n",
              "  <th>Model:</th>                   <td>OLS</td>       <th>  Adj. R-squared:    </th> <td>   0.315</td>\n",
              "</tr>\n",
              "<tr>\n",
              "  <th>Method:</th>             <td>Least Squares</td>  <th>  F-statistic:       </th> <td>   2.378</td>\n",
              "</tr>\n",
              "<tr>\n",
              "  <th>Date:</th>             <td>Sat, 20 Jul 2024</td> <th>  Prob (F-statistic):</th>  <td> 0.169</td> \n",
              "</tr>\n",
              "<tr>\n",
              "  <th>Time:</th>                 <td>14:41:15</td>     <th>  Log-Likelihood:    </th> <td> -15.765</td>\n",
              "</tr>\n",
              "<tr>\n",
              "  <th>No. Observations:</th>      <td>    10</td>      <th>  AIC:               </th> <td>   39.53</td>\n",
              "</tr>\n",
              "<tr>\n",
              "  <th>Df Residuals:</th>          <td>     6</td>      <th>  BIC:               </th> <td>   40.74</td>\n",
              "</tr>\n",
              "<tr>\n",
              "  <th>Df Model:</th>              <td>     3</td>      <th>                     </th>     <td> </td>   \n",
              "</tr>\n",
              "<tr>\n",
              "  <th>Covariance Type:</th>      <td>nonrobust</td>    <th>                     </th>     <td> </td>   \n",
              "</tr>\n",
              "</table>\n",
              "<table class=\"simpletable\">\n",
              "<tr>\n",
              "    <td></td>       <th>coef</th>     <th>std err</th>      <th>t</th>      <th>P>|t|</th>  <th>[0.025</th>    <th>0.975]</th>  \n",
              "</tr>\n",
              "<tr>\n",
              "  <th>const</th> <td>   -1.6205</td> <td>    7.392</td> <td>   -0.219</td> <td> 0.834</td> <td>  -19.707</td> <td>   16.466</td>\n",
              "</tr>\n",
              "<tr>\n",
              "  <th>LINE</th>  <td>    1.0364</td> <td>    1.141</td> <td>    0.908</td> <td> 0.399</td> <td>   -1.756</td> <td>    3.829</td>\n",
              "</tr>\n",
              "<tr>\n",
              "  <th>OVER</th>  <td>   -0.0110</td> <td>    0.006</td> <td>   -1.915</td> <td> 0.104</td> <td>   -0.025</td> <td>    0.003</td>\n",
              "</tr>\n",
              "<tr>\n",
              "  <th>UNDER</th> <td>    0.0033</td> <td>    0.007</td> <td>    0.469</td> <td> 0.656</td> <td>   -0.014</td> <td>    0.020</td>\n",
              "</tr>\n",
              "</table>\n",
              "<table class=\"simpletable\">\n",
              "<tr>\n",
              "  <th>Omnibus:</th>       <td> 0.067</td> <th>  Durbin-Watson:     </th> <td>   1.988</td>\n",
              "</tr>\n",
              "<tr>\n",
              "  <th>Prob(Omnibus):</th> <td> 0.967</td> <th>  Jarque-Bera (JB):  </th> <td>   0.109</td>\n",
              "</tr>\n",
              "<tr>\n",
              "  <th>Skew:</th>          <td>-0.031</td> <th>  Prob(JB):          </th> <td>   0.947</td>\n",
              "</tr>\n",
              "<tr>\n",
              "  <th>Kurtosis:</th>      <td> 2.492</td> <th>  Cond. No.          </th> <td>2.36e+03</td>\n",
              "</tr>\n",
              "</table><br/><br/>Notes:<br/>[1] Standard Errors assume that the covariance matrix of the errors is correctly specified.<br/>[2] The condition number is large, 2.36e+03. This might indicate that there are<br/>strong multicollinearity or other numerical problems."
            ],
            "text/latex": "\\begin{center}\n\\begin{tabular}{lclc}\n\\toprule\n\\textbf{Dep. Variable:}    &    STRIKEOUT     & \\textbf{  R-squared:         } &     0.543   \\\\\n\\textbf{Model:}            &       OLS        & \\textbf{  Adj. R-squared:    } &     0.315   \\\\\n\\textbf{Method:}           &  Least Squares   & \\textbf{  F-statistic:       } &     2.378   \\\\\n\\textbf{Date:}             & Sat, 20 Jul 2024 & \\textbf{  Prob (F-statistic):} &    0.169    \\\\\n\\textbf{Time:}             &     14:41:15     & \\textbf{  Log-Likelihood:    } &   -15.765   \\\\\n\\textbf{No. Observations:} &          10      & \\textbf{  AIC:               } &     39.53   \\\\\n\\textbf{Df Residuals:}     &           6      & \\textbf{  BIC:               } &     40.74   \\\\\n\\textbf{Df Model:}         &           3      & \\textbf{                     } &             \\\\\n\\textbf{Covariance Type:}  &    nonrobust     & \\textbf{                     } &             \\\\\n\\bottomrule\n\\end{tabular}\n\\begin{tabular}{lcccccc}\n               & \\textbf{coef} & \\textbf{std err} & \\textbf{t} & \\textbf{P$> |$t$|$} & \\textbf{[0.025} & \\textbf{0.975]}  \\\\\n\\midrule\n\\textbf{const} &      -1.6205  &        7.392     &    -0.219  &         0.834        &      -19.707    &       16.466     \\\\\n\\textbf{LINE}  &       1.0364  &        1.141     &     0.908  &         0.399        &       -1.756    &        3.829     \\\\\n\\textbf{OVER}  &      -0.0110  &        0.006     &    -1.915  &         0.104        &       -0.025    &        0.003     \\\\\n\\textbf{UNDER} &       0.0033  &        0.007     &     0.469  &         0.656        &       -0.014    &        0.020     \\\\\n\\bottomrule\n\\end{tabular}\n\\begin{tabular}{lclc}\n\\textbf{Omnibus:}       &  0.067 & \\textbf{  Durbin-Watson:     } &    1.988  \\\\\n\\textbf{Prob(Omnibus):} &  0.967 & \\textbf{  Jarque-Bera (JB):  } &    0.109  \\\\\n\\textbf{Skew:}          & -0.031 & \\textbf{  Prob(JB):          } &    0.947  \\\\\n\\textbf{Kurtosis:}      &  2.492 & \\textbf{  Cond. No.          } & 2.36e+03  \\\\\n\\bottomrule\n\\end{tabular}\n%\\caption{OLS Regression Results}\n\\end{center}\n\nNotes: \\newline\n [1] Standard Errors assume that the covariance matrix of the errors is correctly specified. \\newline\n [2] The condition number is large, 2.36e+03. This might indicate that there are \\newline\n strong multicollinearity or other numerical problems."
          },
          "metadata": {},
          "execution_count": 18
        }
      ]
    },
    {
      "cell_type": "code",
      "source": [
        "# Define the new data point\n",
        "new_data = {\n",
        "    'const': 1,\n",
        "    'LINE': 4.5,\n",
        "    'OVER': -160,\n",
        "    'UNDER': 125\n",
        "}\n",
        "\n",
        "# Convert the new data point to a DataFrame\n",
        "new_df = pd.DataFrame([new_data])\n",
        "\n",
        "# Predict the total strikeout using the model\n",
        "predicted_strikeout = model.predict(new_df)\n",
        "predicted_strikeout\n"
      ],
      "metadata": {
        "colab": {
          "base_uri": "https://localhost:8080/"
        },
        "outputId": "d2e9a22c-40b0-4084-bb2d-38b03ed38662",
        "id": "1CmPLvzNlyws"
      },
      "execution_count": 19,
      "outputs": [
        {
          "output_type": "execute_result",
          "data": {
            "text/plain": [
              "0    5.210428\n",
              "dtype: float64"
            ]
          },
          "metadata": {},
          "execution_count": 19
        }
      ]
    },
    {
      "cell_type": "markdown",
      "source": [],
      "metadata": {
        "id": "77-Dfw27mMXZ"
      }
    },
    {
      "cell_type": "markdown",
      "source": [
        "#mackenzie gore"
      ],
      "metadata": {
        "id": "0JgfoU3bm34S"
      }
    },
    {
      "cell_type": "code",
      "source": [
        "import pandas as pd\n",
        "import statsmodels.api as sm\n",
        "\n",
        "# Define the data\n",
        "data = {\n",
        "    'Line': [5.5, 6.5, 5.5, 5.5, 5.5, 6.5, 6.5, 6.5, 6.5, 6.5],\n",
        "    'Over': [-160, 124, -134, -130, -148, 124, 126, 126, 106, 110],\n",
        "    'Under': [124, -158, 106, 102, 116, -158, -160, -160, -136, -140],\n",
        "    'Strikeout': [4, 5, 8, 1, 7, 10, 7, 2, 10, 8]\n",
        "}\n",
        "# Create a DataFrame\n",
        "df = pd.DataFrame(data)\n",
        "\n",
        "# Define the independent variables and the dependent variable\n",
        "X = df[['Line', 'Over', 'Under']]\n",
        "y = df['Strikeout']\n",
        "\n",
        "# Add a constant to the independent variables\n",
        "X = sm.add_constant(X)\n",
        "\n",
        "# Fit the linear regression model\n",
        "model = sm.OLS(y, X).fit()\n",
        "\n",
        "# Get the summary of the regression\n",
        "summary = model.summary()\n",
        "summary\n"
      ],
      "metadata": {
        "colab": {
          "base_uri": "https://localhost:8080/",
          "height": 554
        },
        "outputId": "6b139391-3179-4cd0-a058-ba774a921650",
        "id": "auV52Stam7id"
      },
      "execution_count": 21,
      "outputs": [
        {
          "output_type": "stream",
          "name": "stderr",
          "text": [
            "/usr/local/lib/python3.10/dist-packages/scipy/stats/_stats_py.py:1806: UserWarning: kurtosistest only valid for n>=20 ... continuing anyway, n=10\n",
            "  warnings.warn(\"kurtosistest only valid for n>=20 ... continuing \"\n"
          ]
        },
        {
          "output_type": "execute_result",
          "data": {
            "text/plain": [
              "<class 'statsmodels.iolib.summary.Summary'>\n",
              "\"\"\"\n",
              "                            OLS Regression Results                            \n",
              "==============================================================================\n",
              "Dep. Variable:              Strikeout   R-squared:                       0.314\n",
              "Model:                            OLS   Adj. R-squared:                 -0.029\n",
              "Method:                 Least Squares   F-statistic:                    0.9160\n",
              "Date:                Sat, 20 Jul 2024   Prob (F-statistic):              0.488\n",
              "Time:                        14:47:30   Log-Likelihood:                -23.155\n",
              "No. Observations:                  10   AIC:                             54.31\n",
              "Df Residuals:                       6   BIC:                             55.52\n",
              "Df Model:                           3                                         \n",
              "Covariance Type:            nonrobust                                         \n",
              "==============================================================================\n",
              "                 coef    std err          t      P>|t|      [0.025      0.975]\n",
              "------------------------------------------------------------------------------\n",
              "const       -196.1531    166.032     -1.181      0.282    -602.419     210.113\n",
              "Line          35.4082     27.991      1.265      0.253     -33.084     103.900\n",
              "Over           0.2449      0.391      0.626      0.555      -0.713       1.203\n",
              "Under          0.3699      0.406      0.912      0.397      -0.622       1.362\n",
              "==============================================================================\n",
              "Omnibus:                        0.391   Durbin-Watson:                   2.358\n",
              "Prob(Omnibus):                  0.823   Jarque-Bera (JB):                0.458\n",
              "Skew:                           0.045   Prob(JB):                        0.795\n",
              "Kurtosis:                       1.956   Cond. No.                     3.16e+04\n",
              "==============================================================================\n",
              "\n",
              "Notes:\n",
              "[1] Standard Errors assume that the covariance matrix of the errors is correctly specified.\n",
              "[2] The condition number is large, 3.16e+04. This might indicate that there are\n",
              "strong multicollinearity or other numerical problems.\n",
              "\"\"\""
            ],
            "text/html": [
              "<table class=\"simpletable\">\n",
              "<caption>OLS Regression Results</caption>\n",
              "<tr>\n",
              "  <th>Dep. Variable:</th>        <td>Strikeout</td>    <th>  R-squared:         </th> <td>   0.314</td>\n",
              "</tr>\n",
              "<tr>\n",
              "  <th>Model:</th>                   <td>OLS</td>       <th>  Adj. R-squared:    </th> <td>  -0.029</td>\n",
              "</tr>\n",
              "<tr>\n",
              "  <th>Method:</th>             <td>Least Squares</td>  <th>  F-statistic:       </th> <td>  0.9160</td>\n",
              "</tr>\n",
              "<tr>\n",
              "  <th>Date:</th>             <td>Sat, 20 Jul 2024</td> <th>  Prob (F-statistic):</th>  <td> 0.488</td> \n",
              "</tr>\n",
              "<tr>\n",
              "  <th>Time:</th>                 <td>14:47:30</td>     <th>  Log-Likelihood:    </th> <td> -23.155</td>\n",
              "</tr>\n",
              "<tr>\n",
              "  <th>No. Observations:</th>      <td>    10</td>      <th>  AIC:               </th> <td>   54.31</td>\n",
              "</tr>\n",
              "<tr>\n",
              "  <th>Df Residuals:</th>          <td>     6</td>      <th>  BIC:               </th> <td>   55.52</td>\n",
              "</tr>\n",
              "<tr>\n",
              "  <th>Df Model:</th>              <td>     3</td>      <th>                     </th>     <td> </td>   \n",
              "</tr>\n",
              "<tr>\n",
              "  <th>Covariance Type:</th>      <td>nonrobust</td>    <th>                     </th>     <td> </td>   \n",
              "</tr>\n",
              "</table>\n",
              "<table class=\"simpletable\">\n",
              "<tr>\n",
              "    <td></td>       <th>coef</th>     <th>std err</th>      <th>t</th>      <th>P>|t|</th>  <th>[0.025</th>    <th>0.975]</th>  \n",
              "</tr>\n",
              "<tr>\n",
              "  <th>const</th> <td> -196.1531</td> <td>  166.032</td> <td>   -1.181</td> <td> 0.282</td> <td> -602.419</td> <td>  210.113</td>\n",
              "</tr>\n",
              "<tr>\n",
              "  <th>Line</th>  <td>   35.4082</td> <td>   27.991</td> <td>    1.265</td> <td> 0.253</td> <td>  -33.084</td> <td>  103.900</td>\n",
              "</tr>\n",
              "<tr>\n",
              "  <th>Over</th>  <td>    0.2449</td> <td>    0.391</td> <td>    0.626</td> <td> 0.555</td> <td>   -0.713</td> <td>    1.203</td>\n",
              "</tr>\n",
              "<tr>\n",
              "  <th>Under</th> <td>    0.3699</td> <td>    0.406</td> <td>    0.912</td> <td> 0.397</td> <td>   -0.622</td> <td>    1.362</td>\n",
              "</tr>\n",
              "</table>\n",
              "<table class=\"simpletable\">\n",
              "<tr>\n",
              "  <th>Omnibus:</th>       <td> 0.391</td> <th>  Durbin-Watson:     </th> <td>   2.358</td>\n",
              "</tr>\n",
              "<tr>\n",
              "  <th>Prob(Omnibus):</th> <td> 0.823</td> <th>  Jarque-Bera (JB):  </th> <td>   0.458</td>\n",
              "</tr>\n",
              "<tr>\n",
              "  <th>Skew:</th>          <td> 0.045</td> <th>  Prob(JB):          </th> <td>   0.795</td>\n",
              "</tr>\n",
              "<tr>\n",
              "  <th>Kurtosis:</th>      <td> 1.956</td> <th>  Cond. No.          </th> <td>3.16e+04</td>\n",
              "</tr>\n",
              "</table><br/><br/>Notes:<br/>[1] Standard Errors assume that the covariance matrix of the errors is correctly specified.<br/>[2] The condition number is large, 3.16e+04. This might indicate that there are<br/>strong multicollinearity or other numerical problems."
            ],
            "text/latex": "\\begin{center}\n\\begin{tabular}{lclc}\n\\toprule\n\\textbf{Dep. Variable:}    &    Strikeout     & \\textbf{  R-squared:         } &     0.314   \\\\\n\\textbf{Model:}            &       OLS        & \\textbf{  Adj. R-squared:    } &    -0.029   \\\\\n\\textbf{Method:}           &  Least Squares   & \\textbf{  F-statistic:       } &    0.9160   \\\\\n\\textbf{Date:}             & Sat, 20 Jul 2024 & \\textbf{  Prob (F-statistic):} &    0.488    \\\\\n\\textbf{Time:}             &     14:47:30     & \\textbf{  Log-Likelihood:    } &   -23.155   \\\\\n\\textbf{No. Observations:} &          10      & \\textbf{  AIC:               } &     54.31   \\\\\n\\textbf{Df Residuals:}     &           6      & \\textbf{  BIC:               } &     55.52   \\\\\n\\textbf{Df Model:}         &           3      & \\textbf{                     } &             \\\\\n\\textbf{Covariance Type:}  &    nonrobust     & \\textbf{                     } &             \\\\\n\\bottomrule\n\\end{tabular}\n\\begin{tabular}{lcccccc}\n               & \\textbf{coef} & \\textbf{std err} & \\textbf{t} & \\textbf{P$> |$t$|$} & \\textbf{[0.025} & \\textbf{0.975]}  \\\\\n\\midrule\n\\textbf{const} &    -196.1531  &      166.032     &    -1.181  &         0.282        &     -602.419    &      210.113     \\\\\n\\textbf{Line}  &      35.4082  &       27.991     &     1.265  &         0.253        &      -33.084    &      103.900     \\\\\n\\textbf{Over}  &       0.2449  &        0.391     &     0.626  &         0.555        &       -0.713    &        1.203     \\\\\n\\textbf{Under} &       0.3699  &        0.406     &     0.912  &         0.397        &       -0.622    &        1.362     \\\\\n\\bottomrule\n\\end{tabular}\n\\begin{tabular}{lclc}\n\\textbf{Omnibus:}       &  0.391 & \\textbf{  Durbin-Watson:     } &    2.358  \\\\\n\\textbf{Prob(Omnibus):} &  0.823 & \\textbf{  Jarque-Bera (JB):  } &    0.458  \\\\\n\\textbf{Skew:}          &  0.045 & \\textbf{  Prob(JB):          } &    0.795  \\\\\n\\textbf{Kurtosis:}      &  1.956 & \\textbf{  Cond. No.          } & 3.16e+04  \\\\\n\\bottomrule\n\\end{tabular}\n%\\caption{OLS Regression Results}\n\\end{center}\n\nNotes: \\newline\n [1] Standard Errors assume that the covariance matrix of the errors is correctly specified. \\newline\n [2] The condition number is large, 3.16e+04. This might indicate that there are \\newline\n strong multicollinearity or other numerical problems."
          },
          "metadata": {},
          "execution_count": 21
        }
      ]
    },
    {
      "cell_type": "code",
      "source": [],
      "metadata": {
        "id": "LZ3Ch-TDnO8D"
      },
      "execution_count": null,
      "outputs": []
    },
    {
      "cell_type": "code",
      "source": [
        "# Define the new data point\n",
        "new_data = {\n",
        "    'const': 1,\n",
        "    'LINE': 6.5,\n",
        "    'OVER': -150,\n",
        "    'UNDER': 115\n",
        "}\n",
        "\n",
        "# Convert the new data point to a DataFrame\n",
        "new_df = pd.DataFrame([new_data])\n",
        "\n",
        "# Predict the total strikeout using the model\n",
        "predicted_strikeout = model.predict(new_df)\n",
        "predicted_strikeout\n"
      ],
      "metadata": {
        "colab": {
          "base_uri": "https://localhost:8080/"
        },
        "outputId": "435add05-963a-49e9-b4d9-47240e09329c",
        "id": "N1vMX9SWnPJy"
      },
      "execution_count": 22,
      "outputs": [
        {
          "output_type": "execute_result",
          "data": {
            "text/plain": [
              "0    39.803571\n",
              "dtype: float64"
            ]
          },
          "metadata": {},
          "execution_count": 22
        }
      ]
    },
    {
      "cell_type": "markdown",
      "source": [
        "#grayson rodriguez"
      ],
      "metadata": {
        "id": "42sLqvACoBbM"
      }
    },
    {
      "cell_type": "code",
      "source": [
        "import pandas as pd\n",
        "import statsmodels.api as sm\n",
        "\n",
        "# Define the data\n",
        "data = {\n",
        "    'LINE': [6.5, 6.5, 7.5, 6.5, 5.5, 6.5, 6.5, 6.5, 6.5, 7.5],\n",
        "    'OVER': [110, -118, 104, -111, -146, -128, 114, 126, -113, 110],\n",
        "    'UNDER': [-145, -108, -134, -115, 114, 102, -146, -160, -113, -140],\n",
        "    'STRIKEOUT': [4, 4, 3, 8, 6, 7, 3, 3, 6, 6]\n",
        "}\n",
        "# Create a DataFrame\n",
        "df = pd.DataFrame(data)\n",
        "\n",
        "# Define the independent variables and the dependent variable\n",
        "X = df[['LINE', 'OVER', 'UNDER']]\n",
        "y = df['STRIKEOUT']\n",
        "\n",
        "# Add a constant to the independent variables\n",
        "X = sm.add_constant(X)\n",
        "\n",
        "# Fit the linear regression model\n",
        "model = sm.OLS(y, X).fit()\n",
        "\n",
        "# Get the summary of the regression\n",
        "summary = model.summary()\n",
        "summary\n"
      ],
      "metadata": {
        "colab": {
          "base_uri": "https://localhost:8080/",
          "height": 554
        },
        "outputId": "e9e536f4-65e2-4329-e955-76461a4c0d9c",
        "id": "VM0gjm_AoEkE"
      },
      "execution_count": 25,
      "outputs": [
        {
          "output_type": "stream",
          "name": "stderr",
          "text": [
            "/usr/local/lib/python3.10/dist-packages/scipy/stats/_stats_py.py:1806: UserWarning: kurtosistest only valid for n>=20 ... continuing anyway, n=10\n",
            "  warnings.warn(\"kurtosistest only valid for n>=20 ... continuing \"\n"
          ]
        },
        {
          "output_type": "execute_result",
          "data": {
            "text/plain": [
              "<class 'statsmodels.iolib.summary.Summary'>\n",
              "\"\"\"\n",
              "                            OLS Regression Results                            \n",
              "==============================================================================\n",
              "Dep. Variable:              STRIKEOUT   R-squared:                       0.543\n",
              "Model:                            OLS   Adj. R-squared:                  0.315\n",
              "Method:                 Least Squares   F-statistic:                     2.378\n",
              "Date:                Sat, 20 Jul 2024   Prob (F-statistic):              0.169\n",
              "Time:                        14:54:06   Log-Likelihood:                -15.765\n",
              "No. Observations:                  10   AIC:                             39.53\n",
              "Df Residuals:                       6   BIC:                             40.74\n",
              "Df Model:                           3                                         \n",
              "Covariance Type:            nonrobust                                         \n",
              "==============================================================================\n",
              "                 coef    std err          t      P>|t|      [0.025      0.975]\n",
              "------------------------------------------------------------------------------\n",
              "const         -1.6205      7.392     -0.219      0.834     -19.707      16.466\n",
              "LINE           1.0364      1.141      0.908      0.399      -1.756       3.829\n",
              "OVER          -0.0110      0.006     -1.915      0.104      -0.025       0.003\n",
              "UNDER          0.0033      0.007      0.469      0.656      -0.014       0.020\n",
              "==============================================================================\n",
              "Omnibus:                        0.067   Durbin-Watson:                   1.988\n",
              "Prob(Omnibus):                  0.967   Jarque-Bera (JB):                0.109\n",
              "Skew:                          -0.031   Prob(JB):                        0.947\n",
              "Kurtosis:                       2.492   Cond. No.                     2.36e+03\n",
              "==============================================================================\n",
              "\n",
              "Notes:\n",
              "[1] Standard Errors assume that the covariance matrix of the errors is correctly specified.\n",
              "[2] The condition number is large, 2.36e+03. This might indicate that there are\n",
              "strong multicollinearity or other numerical problems.\n",
              "\"\"\""
            ],
            "text/html": [
              "<table class=\"simpletable\">\n",
              "<caption>OLS Regression Results</caption>\n",
              "<tr>\n",
              "  <th>Dep. Variable:</th>        <td>STRIKEOUT</td>    <th>  R-squared:         </th> <td>   0.543</td>\n",
              "</tr>\n",
              "<tr>\n",
              "  <th>Model:</th>                   <td>OLS</td>       <th>  Adj. R-squared:    </th> <td>   0.315</td>\n",
              "</tr>\n",
              "<tr>\n",
              "  <th>Method:</th>             <td>Least Squares</td>  <th>  F-statistic:       </th> <td>   2.378</td>\n",
              "</tr>\n",
              "<tr>\n",
              "  <th>Date:</th>             <td>Sat, 20 Jul 2024</td> <th>  Prob (F-statistic):</th>  <td> 0.169</td> \n",
              "</tr>\n",
              "<tr>\n",
              "  <th>Time:</th>                 <td>14:54:06</td>     <th>  Log-Likelihood:    </th> <td> -15.765</td>\n",
              "</tr>\n",
              "<tr>\n",
              "  <th>No. Observations:</th>      <td>    10</td>      <th>  AIC:               </th> <td>   39.53</td>\n",
              "</tr>\n",
              "<tr>\n",
              "  <th>Df Residuals:</th>          <td>     6</td>      <th>  BIC:               </th> <td>   40.74</td>\n",
              "</tr>\n",
              "<tr>\n",
              "  <th>Df Model:</th>              <td>     3</td>      <th>                     </th>     <td> </td>   \n",
              "</tr>\n",
              "<tr>\n",
              "  <th>Covariance Type:</th>      <td>nonrobust</td>    <th>                     </th>     <td> </td>   \n",
              "</tr>\n",
              "</table>\n",
              "<table class=\"simpletable\">\n",
              "<tr>\n",
              "    <td></td>       <th>coef</th>     <th>std err</th>      <th>t</th>      <th>P>|t|</th>  <th>[0.025</th>    <th>0.975]</th>  \n",
              "</tr>\n",
              "<tr>\n",
              "  <th>const</th> <td>   -1.6205</td> <td>    7.392</td> <td>   -0.219</td> <td> 0.834</td> <td>  -19.707</td> <td>   16.466</td>\n",
              "</tr>\n",
              "<tr>\n",
              "  <th>LINE</th>  <td>    1.0364</td> <td>    1.141</td> <td>    0.908</td> <td> 0.399</td> <td>   -1.756</td> <td>    3.829</td>\n",
              "</tr>\n",
              "<tr>\n",
              "  <th>OVER</th>  <td>   -0.0110</td> <td>    0.006</td> <td>   -1.915</td> <td> 0.104</td> <td>   -0.025</td> <td>    0.003</td>\n",
              "</tr>\n",
              "<tr>\n",
              "  <th>UNDER</th> <td>    0.0033</td> <td>    0.007</td> <td>    0.469</td> <td> 0.656</td> <td>   -0.014</td> <td>    0.020</td>\n",
              "</tr>\n",
              "</table>\n",
              "<table class=\"simpletable\">\n",
              "<tr>\n",
              "  <th>Omnibus:</th>       <td> 0.067</td> <th>  Durbin-Watson:     </th> <td>   1.988</td>\n",
              "</tr>\n",
              "<tr>\n",
              "  <th>Prob(Omnibus):</th> <td> 0.967</td> <th>  Jarque-Bera (JB):  </th> <td>   0.109</td>\n",
              "</tr>\n",
              "<tr>\n",
              "  <th>Skew:</th>          <td>-0.031</td> <th>  Prob(JB):          </th> <td>   0.947</td>\n",
              "</tr>\n",
              "<tr>\n",
              "  <th>Kurtosis:</th>      <td> 2.492</td> <th>  Cond. No.          </th> <td>2.36e+03</td>\n",
              "</tr>\n",
              "</table><br/><br/>Notes:<br/>[1] Standard Errors assume that the covariance matrix of the errors is correctly specified.<br/>[2] The condition number is large, 2.36e+03. This might indicate that there are<br/>strong multicollinearity or other numerical problems."
            ],
            "text/latex": "\\begin{center}\n\\begin{tabular}{lclc}\n\\toprule\n\\textbf{Dep. Variable:}    &    STRIKEOUT     & \\textbf{  R-squared:         } &     0.543   \\\\\n\\textbf{Model:}            &       OLS        & \\textbf{  Adj. R-squared:    } &     0.315   \\\\\n\\textbf{Method:}           &  Least Squares   & \\textbf{  F-statistic:       } &     2.378   \\\\\n\\textbf{Date:}             & Sat, 20 Jul 2024 & \\textbf{  Prob (F-statistic):} &    0.169    \\\\\n\\textbf{Time:}             &     14:54:06     & \\textbf{  Log-Likelihood:    } &   -15.765   \\\\\n\\textbf{No. Observations:} &          10      & \\textbf{  AIC:               } &     39.53   \\\\\n\\textbf{Df Residuals:}     &           6      & \\textbf{  BIC:               } &     40.74   \\\\\n\\textbf{Df Model:}         &           3      & \\textbf{                     } &             \\\\\n\\textbf{Covariance Type:}  &    nonrobust     & \\textbf{                     } &             \\\\\n\\bottomrule\n\\end{tabular}\n\\begin{tabular}{lcccccc}\n               & \\textbf{coef} & \\textbf{std err} & \\textbf{t} & \\textbf{P$> |$t$|$} & \\textbf{[0.025} & \\textbf{0.975]}  \\\\\n\\midrule\n\\textbf{const} &      -1.6205  &        7.392     &    -0.219  &         0.834        &      -19.707    &       16.466     \\\\\n\\textbf{LINE}  &       1.0364  &        1.141     &     0.908  &         0.399        &       -1.756    &        3.829     \\\\\n\\textbf{OVER}  &      -0.0110  &        0.006     &    -1.915  &         0.104        &       -0.025    &        0.003     \\\\\n\\textbf{UNDER} &       0.0033  &        0.007     &     0.469  &         0.656        &       -0.014    &        0.020     \\\\\n\\bottomrule\n\\end{tabular}\n\\begin{tabular}{lclc}\n\\textbf{Omnibus:}       &  0.067 & \\textbf{  Durbin-Watson:     } &    1.988  \\\\\n\\textbf{Prob(Omnibus):} &  0.967 & \\textbf{  Jarque-Bera (JB):  } &    0.109  \\\\\n\\textbf{Skew:}          & -0.031 & \\textbf{  Prob(JB):          } &    0.947  \\\\\n\\textbf{Kurtosis:}      &  2.492 & \\textbf{  Cond. No.          } & 2.36e+03  \\\\\n\\bottomrule\n\\end{tabular}\n%\\caption{OLS Regression Results}\n\\end{center}\n\nNotes: \\newline\n [1] Standard Errors assume that the covariance matrix of the errors is correctly specified. \\newline\n [2] The condition number is large, 2.36e+03. This might indicate that there are \\newline\n strong multicollinearity or other numerical problems."
          },
          "metadata": {},
          "execution_count": 25
        }
      ]
    },
    {
      "cell_type": "code",
      "source": [],
      "metadata": {
        "id": "vKBJz4uPoiIp"
      },
      "execution_count": null,
      "outputs": []
    },
    {
      "cell_type": "code",
      "source": [
        "# Define the new data point\n",
        "new_data = {\n",
        "    'const': 1,\n",
        "    'LINE': 5.5,\n",
        "    'OVER': -145,\n",
        "    'UNDER': 110\n",
        "}\n",
        "\n",
        "# Convert the new data point to a DataFrame\n",
        "new_df = pd.DataFrame([new_data])\n",
        "\n",
        "# Predict the total strikeout using the model\n",
        "predicted_strikeout = model.predict(new_df)\n",
        "predicted_strikeout\n"
      ],
      "metadata": {
        "colab": {
          "base_uri": "https://localhost:8080/"
        },
        "outputId": "a3e24ce4-c123-4a99-e70a-f7adcff3b49e",
        "id": "26_DrZlOoiXf"
      },
      "execution_count": 26,
      "outputs": [
        {
          "output_type": "execute_result",
          "data": {
            "text/plain": [
              "0    6.03296\n",
              "dtype: float64"
            ]
          },
          "metadata": {},
          "execution_count": 26
        }
      ]
    },
    {
      "cell_type": "markdown",
      "source": [
        "#freddy peralta"
      ],
      "metadata": {
        "id": "hMxmB_SZpc2w"
      }
    },
    {
      "cell_type": "code",
      "source": [],
      "metadata": {
        "id": "JuVtgrKtpgQt"
      },
      "execution_count": null,
      "outputs": []
    },
    {
      "cell_type": "code",
      "source": [
        "import pandas as pd\n",
        "import statsmodels.api as sm\n",
        "\n",
        "# Define the data\n",
        "data = {\n",
        "    'LINE': [6.5, 6.5, 7.5, 6.5, 6.5, 7.5, 7.5, 7.5, 7.5, 6.5],\n",
        "    'OVER': [100, -115, -118, 102, -115, -108, 120, -146, 104, -120],\n",
        "    'UNDER': [-130, -113, -108, -130, -111, -116, -154, 114, -132, -106],\n",
        "    'STRIKEOUT': [6, 4, 8, 6, 8, 6, 3, 7, 11, 7]\n",
        "}\n",
        "# Create a DataFrame\n",
        "df = pd.DataFrame(data)\n",
        "\n",
        "# Define the independent variables and the dependent variable\n",
        "X = df[['LINE', 'OVER', 'UNDER']]\n",
        "y = df['STRIKEOUT']\n",
        "\n",
        "# Add a constant to the independent variables\n",
        "X = sm.add_constant(X)\n",
        "\n",
        "# Fit the linear regression model\n",
        "model = sm.OLS(y, X).fit()\n",
        "\n",
        "# Get the summary of the regression\n",
        "summary = model.summary()\n",
        "summary\n"
      ],
      "metadata": {
        "colab": {
          "base_uri": "https://localhost:8080/",
          "height": 554
        },
        "outputId": "d9e2594e-1db2-4391-c950-5cfd0d92c2ef",
        "id": "ElGK2r8TpgfV"
      },
      "execution_count": 27,
      "outputs": [
        {
          "output_type": "stream",
          "name": "stderr",
          "text": [
            "/usr/local/lib/python3.10/dist-packages/scipy/stats/_stats_py.py:1806: UserWarning: kurtosistest only valid for n>=20 ... continuing anyway, n=10\n",
            "  warnings.warn(\"kurtosistest only valid for n>=20 ... continuing \"\n"
          ]
        },
        {
          "output_type": "execute_result",
          "data": {
            "text/plain": [
              "<class 'statsmodels.iolib.summary.Summary'>\n",
              "\"\"\"\n",
              "                            OLS Regression Results                            \n",
              "==============================================================================\n",
              "Dep. Variable:              STRIKEOUT   R-squared:                       0.043\n",
              "Model:                            OLS   Adj. R-squared:                 -0.435\n",
              "Method:                 Least Squares   F-statistic:                   0.09011\n",
              "Date:                Sat, 20 Jul 2024   Prob (F-statistic):              0.963\n",
              "Time:                        14:58:17   Log-Likelihood:                -21.422\n",
              "No. Observations:                  10   AIC:                             50.84\n",
              "Df Residuals:                       6   BIC:                             52.05\n",
              "Df Model:                           3                                         \n",
              "Covariance Type:            nonrobust                                         \n",
              "==============================================================================\n",
              "                 coef    std err          t      P>|t|      [0.025      0.975]\n",
              "------------------------------------------------------------------------------\n",
              "const          1.5922     12.983      0.123      0.906     -30.176      33.361\n",
              "LINE           0.7355      1.771      0.415      0.692      -3.597       5.068\n",
              "OVER          -0.0008      0.009     -0.088      0.933      -0.022       0.021\n",
              "UNDER          0.0017      0.014      0.117      0.911      -0.033       0.036\n",
              "==============================================================================\n",
              "Omnibus:                        0.887   Durbin-Watson:                   1.867\n",
              "Prob(Omnibus):                  0.642   Jarque-Bera (JB):                0.043\n",
              "Skew:                           0.161   Prob(JB):                        0.979\n",
              "Kurtosis:                       3.026   Cond. No.                     1.94e+03\n",
              "==============================================================================\n",
              "\n",
              "Notes:\n",
              "[1] Standard Errors assume that the covariance matrix of the errors is correctly specified.\n",
              "[2] The condition number is large, 1.94e+03. This might indicate that there are\n",
              "strong multicollinearity or other numerical problems.\n",
              "\"\"\""
            ],
            "text/html": [
              "<table class=\"simpletable\">\n",
              "<caption>OLS Regression Results</caption>\n",
              "<tr>\n",
              "  <th>Dep. Variable:</th>        <td>STRIKEOUT</td>    <th>  R-squared:         </th> <td>   0.043</td>\n",
              "</tr>\n",
              "<tr>\n",
              "  <th>Model:</th>                   <td>OLS</td>       <th>  Adj. R-squared:    </th> <td>  -0.435</td>\n",
              "</tr>\n",
              "<tr>\n",
              "  <th>Method:</th>             <td>Least Squares</td>  <th>  F-statistic:       </th> <td> 0.09011</td>\n",
              "</tr>\n",
              "<tr>\n",
              "  <th>Date:</th>             <td>Sat, 20 Jul 2024</td> <th>  Prob (F-statistic):</th>  <td> 0.963</td> \n",
              "</tr>\n",
              "<tr>\n",
              "  <th>Time:</th>                 <td>14:58:17</td>     <th>  Log-Likelihood:    </th> <td> -21.422</td>\n",
              "</tr>\n",
              "<tr>\n",
              "  <th>No. Observations:</th>      <td>    10</td>      <th>  AIC:               </th> <td>   50.84</td>\n",
              "</tr>\n",
              "<tr>\n",
              "  <th>Df Residuals:</th>          <td>     6</td>      <th>  BIC:               </th> <td>   52.05</td>\n",
              "</tr>\n",
              "<tr>\n",
              "  <th>Df Model:</th>              <td>     3</td>      <th>                     </th>     <td> </td>   \n",
              "</tr>\n",
              "<tr>\n",
              "  <th>Covariance Type:</th>      <td>nonrobust</td>    <th>                     </th>     <td> </td>   \n",
              "</tr>\n",
              "</table>\n",
              "<table class=\"simpletable\">\n",
              "<tr>\n",
              "    <td></td>       <th>coef</th>     <th>std err</th>      <th>t</th>      <th>P>|t|</th>  <th>[0.025</th>    <th>0.975]</th>  \n",
              "</tr>\n",
              "<tr>\n",
              "  <th>const</th> <td>    1.5922</td> <td>   12.983</td> <td>    0.123</td> <td> 0.906</td> <td>  -30.176</td> <td>   33.361</td>\n",
              "</tr>\n",
              "<tr>\n",
              "  <th>LINE</th>  <td>    0.7355</td> <td>    1.771</td> <td>    0.415</td> <td> 0.692</td> <td>   -3.597</td> <td>    5.068</td>\n",
              "</tr>\n",
              "<tr>\n",
              "  <th>OVER</th>  <td>   -0.0008</td> <td>    0.009</td> <td>   -0.088</td> <td> 0.933</td> <td>   -0.022</td> <td>    0.021</td>\n",
              "</tr>\n",
              "<tr>\n",
              "  <th>UNDER</th> <td>    0.0017</td> <td>    0.014</td> <td>    0.117</td> <td> 0.911</td> <td>   -0.033</td> <td>    0.036</td>\n",
              "</tr>\n",
              "</table>\n",
              "<table class=\"simpletable\">\n",
              "<tr>\n",
              "  <th>Omnibus:</th>       <td> 0.887</td> <th>  Durbin-Watson:     </th> <td>   1.867</td>\n",
              "</tr>\n",
              "<tr>\n",
              "  <th>Prob(Omnibus):</th> <td> 0.642</td> <th>  Jarque-Bera (JB):  </th> <td>   0.043</td>\n",
              "</tr>\n",
              "<tr>\n",
              "  <th>Skew:</th>          <td> 0.161</td> <th>  Prob(JB):          </th> <td>   0.979</td>\n",
              "</tr>\n",
              "<tr>\n",
              "  <th>Kurtosis:</th>      <td> 3.026</td> <th>  Cond. No.          </th> <td>1.94e+03</td>\n",
              "</tr>\n",
              "</table><br/><br/>Notes:<br/>[1] Standard Errors assume that the covariance matrix of the errors is correctly specified.<br/>[2] The condition number is large, 1.94e+03. This might indicate that there are<br/>strong multicollinearity or other numerical problems."
            ],
            "text/latex": "\\begin{center}\n\\begin{tabular}{lclc}\n\\toprule\n\\textbf{Dep. Variable:}    &    STRIKEOUT     & \\textbf{  R-squared:         } &     0.043   \\\\\n\\textbf{Model:}            &       OLS        & \\textbf{  Adj. R-squared:    } &    -0.435   \\\\\n\\textbf{Method:}           &  Least Squares   & \\textbf{  F-statistic:       } &   0.09011   \\\\\n\\textbf{Date:}             & Sat, 20 Jul 2024 & \\textbf{  Prob (F-statistic):} &    0.963    \\\\\n\\textbf{Time:}             &     14:58:17     & \\textbf{  Log-Likelihood:    } &   -21.422   \\\\\n\\textbf{No. Observations:} &          10      & \\textbf{  AIC:               } &     50.84   \\\\\n\\textbf{Df Residuals:}     &           6      & \\textbf{  BIC:               } &     52.05   \\\\\n\\textbf{Df Model:}         &           3      & \\textbf{                     } &             \\\\\n\\textbf{Covariance Type:}  &    nonrobust     & \\textbf{                     } &             \\\\\n\\bottomrule\n\\end{tabular}\n\\begin{tabular}{lcccccc}\n               & \\textbf{coef} & \\textbf{std err} & \\textbf{t} & \\textbf{P$> |$t$|$} & \\textbf{[0.025} & \\textbf{0.975]}  \\\\\n\\midrule\n\\textbf{const} &       1.5922  &       12.983     &     0.123  &         0.906        &      -30.176    &       33.361     \\\\\n\\textbf{LINE}  &       0.7355  &        1.771     &     0.415  &         0.692        &       -3.597    &        5.068     \\\\\n\\textbf{OVER}  &      -0.0008  &        0.009     &    -0.088  &         0.933        &       -0.022    &        0.021     \\\\\n\\textbf{UNDER} &       0.0017  &        0.014     &     0.117  &         0.911        &       -0.033    &        0.036     \\\\\n\\bottomrule\n\\end{tabular}\n\\begin{tabular}{lclc}\n\\textbf{Omnibus:}       &  0.887 & \\textbf{  Durbin-Watson:     } &    1.867  \\\\\n\\textbf{Prob(Omnibus):} &  0.642 & \\textbf{  Jarque-Bera (JB):  } &    0.043  \\\\\n\\textbf{Skew:}          &  0.161 & \\textbf{  Prob(JB):          } &    0.979  \\\\\n\\textbf{Kurtosis:}      &  3.026 & \\textbf{  Cond. No.          } & 1.94e+03  \\\\\n\\bottomrule\n\\end{tabular}\n%\\caption{OLS Regression Results}\n\\end{center}\n\nNotes: \\newline\n [1] Standard Errors assume that the covariance matrix of the errors is correctly specified. \\newline\n [2] The condition number is large, 1.94e+03. This might indicate that there are \\newline\n strong multicollinearity or other numerical problems."
          },
          "metadata": {},
          "execution_count": 27
        }
      ]
    },
    {
      "cell_type": "code",
      "source": [],
      "metadata": {
        "id": "BUKGc75hpr6i"
      },
      "execution_count": null,
      "outputs": []
    },
    {
      "cell_type": "code",
      "source": [
        "# Define the new data point\n",
        "new_data = {\n",
        "    'const': 1,\n",
        "    'LINE': 5.5,\n",
        "    'OVER': -165,\n",
        "    'UNDER': 125\n",
        "}\n",
        "\n",
        "# Convert the new data point to a DataFrame\n",
        "new_df = pd.DataFrame([new_data])\n",
        "\n",
        "# Predict the total strikeout using the model\n",
        "predicted_strikeout = model.predict(new_df)\n",
        "predicted_strikeout\n"
      ],
      "metadata": {
        "colab": {
          "base_uri": "https://localhost:8080/"
        },
        "outputId": "1839951d-d1ed-4fd9-f1d5-811617d27ad9",
        "id": "1ztZDZO8psJB"
      },
      "execution_count": 28,
      "outputs": [
        {
          "output_type": "execute_result",
          "data": {
            "text/plain": [
              "0    5.973734\n",
              "dtype: float64"
            ]
          },
          "metadata": {},
          "execution_count": 28
        }
      ]
    },
    {
      "cell_type": "markdown",
      "source": [
        "#pablo lopez"
      ],
      "metadata": {
        "id": "RNCKZxgoqnFA"
      }
    },
    {
      "cell_type": "code",
      "source": [],
      "metadata": {
        "id": "rOVhv7QKqprY"
      },
      "execution_count": null,
      "outputs": []
    },
    {
      "cell_type": "code",
      "source": [
        "import pandas as pd\n",
        "import statsmodels.api as sm\n",
        "\n",
        "# Define the data\n",
        "data = {\n",
        "    'LINE': [7.5, 6.5, 7.5, 6.5, 6.5, 7.5, 6.5, 5.5, 5.5, 6.5],\n",
        "    'OVER': [122, 104, 102, -120, -112, -102, 122, -118, -156, 116],\n",
        "    'UNDER': [-156, -132, -130, -106, -112, -126, -156, -108, 122, -148],\n",
        "    'STRIKEOUT': [5, 6, 9, 14, 3, 5, 4, 6, 6, 5]\n",
        "}\n",
        "# Create a DataFrame\n",
        "df = pd.DataFrame(data)\n",
        "\n",
        "# Define the independent variables and the dependent variable\n",
        "X = df[['LINE', 'OVER', 'UNDER']]\n",
        "y = df['STRIKEOUT']\n",
        "\n",
        "# Add a constant to the independent variables\n",
        "X = sm.add_constant(X)\n",
        "\n",
        "# Fit the linear regression model\n",
        "model = sm.OLS(y, X).fit()\n",
        "\n",
        "# Get the summary of the regression\n",
        "summary = model.summary()\n",
        "summary\n"
      ],
      "metadata": {
        "colab": {
          "base_uri": "https://localhost:8080/",
          "height": 554
        },
        "outputId": "7be0cdb7-c412-4068-b7b7-b3d48a25f051",
        "id": "8E6iW7wYqqEc"
      },
      "execution_count": 29,
      "outputs": [
        {
          "output_type": "stream",
          "name": "stderr",
          "text": [
            "/usr/local/lib/python3.10/dist-packages/scipy/stats/_stats_py.py:1806: UserWarning: kurtosistest only valid for n>=20 ... continuing anyway, n=10\n",
            "  warnings.warn(\"kurtosistest only valid for n>=20 ... continuing \"\n"
          ]
        },
        {
          "output_type": "execute_result",
          "data": {
            "text/plain": [
              "<class 'statsmodels.iolib.summary.Summary'>\n",
              "\"\"\"\n",
              "                            OLS Regression Results                            \n",
              "==============================================================================\n",
              "Dep. Variable:              STRIKEOUT   R-squared:                       0.060\n",
              "Model:                            OLS   Adj. R-squared:                 -0.411\n",
              "Method:                 Least Squares   F-statistic:                    0.1266\n",
              "Date:                Sat, 20 Jul 2024   Prob (F-statistic):              0.941\n",
              "Time:                        15:02:58   Log-Likelihood:                -24.762\n",
              "No. Observations:                  10   AIC:                             57.52\n",
              "Df Residuals:                       6   BIC:                             58.73\n",
              "Df Model:                           3                                         \n",
              "Covariance Type:            nonrobust                                         \n",
              "==============================================================================\n",
              "                 coef    std err          t      P>|t|      [0.025      0.975]\n",
              "------------------------------------------------------------------------------\n",
              "const          1.5753     13.287      0.119      0.909     -30.936      34.086\n",
              "LINE           0.7131      2.123      0.336      0.748      -4.481       5.907\n",
              "OVER          -0.0069      0.013     -0.546      0.605      -0.038       0.024\n",
              "UNDER          0.0001      0.021      0.005      0.996      -0.051       0.051\n",
              "==============================================================================\n",
              "Omnibus:                        6.900   Durbin-Watson:                   1.805\n",
              "Prob(Omnibus):                  0.032   Jarque-Bera (JB):                2.629\n",
              "Skew:                           1.159   Prob(JB):                        0.269\n",
              "Kurtosis:                       3.969   Cond. No.                     1.65e+03\n",
              "==============================================================================\n",
              "\n",
              "Notes:\n",
              "[1] Standard Errors assume that the covariance matrix of the errors is correctly specified.\n",
              "[2] The condition number is large, 1.65e+03. This might indicate that there are\n",
              "strong multicollinearity or other numerical problems.\n",
              "\"\"\""
            ],
            "text/html": [
              "<table class=\"simpletable\">\n",
              "<caption>OLS Regression Results</caption>\n",
              "<tr>\n",
              "  <th>Dep. Variable:</th>        <td>STRIKEOUT</td>    <th>  R-squared:         </th> <td>   0.060</td>\n",
              "</tr>\n",
              "<tr>\n",
              "  <th>Model:</th>                   <td>OLS</td>       <th>  Adj. R-squared:    </th> <td>  -0.411</td>\n",
              "</tr>\n",
              "<tr>\n",
              "  <th>Method:</th>             <td>Least Squares</td>  <th>  F-statistic:       </th> <td>  0.1266</td>\n",
              "</tr>\n",
              "<tr>\n",
              "  <th>Date:</th>             <td>Sat, 20 Jul 2024</td> <th>  Prob (F-statistic):</th>  <td> 0.941</td> \n",
              "</tr>\n",
              "<tr>\n",
              "  <th>Time:</th>                 <td>15:02:58</td>     <th>  Log-Likelihood:    </th> <td> -24.762</td>\n",
              "</tr>\n",
              "<tr>\n",
              "  <th>No. Observations:</th>      <td>    10</td>      <th>  AIC:               </th> <td>   57.52</td>\n",
              "</tr>\n",
              "<tr>\n",
              "  <th>Df Residuals:</th>          <td>     6</td>      <th>  BIC:               </th> <td>   58.73</td>\n",
              "</tr>\n",
              "<tr>\n",
              "  <th>Df Model:</th>              <td>     3</td>      <th>                     </th>     <td> </td>   \n",
              "</tr>\n",
              "<tr>\n",
              "  <th>Covariance Type:</th>      <td>nonrobust</td>    <th>                     </th>     <td> </td>   \n",
              "</tr>\n",
              "</table>\n",
              "<table class=\"simpletable\">\n",
              "<tr>\n",
              "    <td></td>       <th>coef</th>     <th>std err</th>      <th>t</th>      <th>P>|t|</th>  <th>[0.025</th>    <th>0.975]</th>  \n",
              "</tr>\n",
              "<tr>\n",
              "  <th>const</th> <td>    1.5753</td> <td>   13.287</td> <td>    0.119</td> <td> 0.909</td> <td>  -30.936</td> <td>   34.086</td>\n",
              "</tr>\n",
              "<tr>\n",
              "  <th>LINE</th>  <td>    0.7131</td> <td>    2.123</td> <td>    0.336</td> <td> 0.748</td> <td>   -4.481</td> <td>    5.907</td>\n",
              "</tr>\n",
              "<tr>\n",
              "  <th>OVER</th>  <td>   -0.0069</td> <td>    0.013</td> <td>   -0.546</td> <td> 0.605</td> <td>   -0.038</td> <td>    0.024</td>\n",
              "</tr>\n",
              "<tr>\n",
              "  <th>UNDER</th> <td>    0.0001</td> <td>    0.021</td> <td>    0.005</td> <td> 0.996</td> <td>   -0.051</td> <td>    0.051</td>\n",
              "</tr>\n",
              "</table>\n",
              "<table class=\"simpletable\">\n",
              "<tr>\n",
              "  <th>Omnibus:</th>       <td> 6.900</td> <th>  Durbin-Watson:     </th> <td>   1.805</td>\n",
              "</tr>\n",
              "<tr>\n",
              "  <th>Prob(Omnibus):</th> <td> 0.032</td> <th>  Jarque-Bera (JB):  </th> <td>   2.629</td>\n",
              "</tr>\n",
              "<tr>\n",
              "  <th>Skew:</th>          <td> 1.159</td> <th>  Prob(JB):          </th> <td>   0.269</td>\n",
              "</tr>\n",
              "<tr>\n",
              "  <th>Kurtosis:</th>      <td> 3.969</td> <th>  Cond. No.          </th> <td>1.65e+03</td>\n",
              "</tr>\n",
              "</table><br/><br/>Notes:<br/>[1] Standard Errors assume that the covariance matrix of the errors is correctly specified.<br/>[2] The condition number is large, 1.65e+03. This might indicate that there are<br/>strong multicollinearity or other numerical problems."
            ],
            "text/latex": "\\begin{center}\n\\begin{tabular}{lclc}\n\\toprule\n\\textbf{Dep. Variable:}    &    STRIKEOUT     & \\textbf{  R-squared:         } &     0.060   \\\\\n\\textbf{Model:}            &       OLS        & \\textbf{  Adj. R-squared:    } &    -0.411   \\\\\n\\textbf{Method:}           &  Least Squares   & \\textbf{  F-statistic:       } &    0.1266   \\\\\n\\textbf{Date:}             & Sat, 20 Jul 2024 & \\textbf{  Prob (F-statistic):} &    0.941    \\\\\n\\textbf{Time:}             &     15:02:58     & \\textbf{  Log-Likelihood:    } &   -24.762   \\\\\n\\textbf{No. Observations:} &          10      & \\textbf{  AIC:               } &     57.52   \\\\\n\\textbf{Df Residuals:}     &           6      & \\textbf{  BIC:               } &     58.73   \\\\\n\\textbf{Df Model:}         &           3      & \\textbf{                     } &             \\\\\n\\textbf{Covariance Type:}  &    nonrobust     & \\textbf{                     } &             \\\\\n\\bottomrule\n\\end{tabular}\n\\begin{tabular}{lcccccc}\n               & \\textbf{coef} & \\textbf{std err} & \\textbf{t} & \\textbf{P$> |$t$|$} & \\textbf{[0.025} & \\textbf{0.975]}  \\\\\n\\midrule\n\\textbf{const} &       1.5753  &       13.287     &     0.119  &         0.909        &      -30.936    &       34.086     \\\\\n\\textbf{LINE}  &       0.7131  &        2.123     &     0.336  &         0.748        &       -4.481    &        5.907     \\\\\n\\textbf{OVER}  &      -0.0069  &        0.013     &    -0.546  &         0.605        &       -0.038    &        0.024     \\\\\n\\textbf{UNDER} &       0.0001  &        0.021     &     0.005  &         0.996        &       -0.051    &        0.051     \\\\\n\\bottomrule\n\\end{tabular}\n\\begin{tabular}{lclc}\n\\textbf{Omnibus:}       &  6.900 & \\textbf{  Durbin-Watson:     } &    1.805  \\\\\n\\textbf{Prob(Omnibus):} &  0.032 & \\textbf{  Jarque-Bera (JB):  } &    2.629  \\\\\n\\textbf{Skew:}          &  1.159 & \\textbf{  Prob(JB):          } &    0.269  \\\\\n\\textbf{Kurtosis:}      &  3.969 & \\textbf{  Cond. No.          } & 1.65e+03  \\\\\n\\bottomrule\n\\end{tabular}\n%\\caption{OLS Regression Results}\n\\end{center}\n\nNotes: \\newline\n [1] Standard Errors assume that the covariance matrix of the errors is correctly specified. \\newline\n [2] The condition number is large, 1.65e+03. This might indicate that there are \\newline\n strong multicollinearity or other numerical problems."
          },
          "metadata": {},
          "execution_count": 29
        }
      ]
    },
    {
      "cell_type": "code",
      "source": [
        "# Define the new data point\n",
        "new_data = {\n",
        "    'const': 1,\n",
        "    'LINE': 5.5,\n",
        "    'OVER': -110,\n",
        "    'UNDER': 100\n",
        "}\n",
        "\n",
        "# Convert the new data point to a DataFrame\n",
        "new_df = pd.DataFrame([new_data])\n",
        "\n",
        "# Predict the total strikeout using the model\n",
        "predicted_strikeout = model.predict(new_df)\n",
        "predicted_strikeout\n"
      ],
      "metadata": {
        "colab": {
          "base_uri": "https://localhost:8080/"
        },
        "outputId": "4068aa08-5e13-48a1-a78e-cfd709da5e0c",
        "id": "ZUjfv0lkqwsQ"
      },
      "execution_count": 32,
      "outputs": [
        {
          "output_type": "execute_result",
          "data": {
            "text/plain": [
              "0    6.266523\n",
              "dtype: float64"
            ]
          },
          "metadata": {},
          "execution_count": 32
        }
      ]
    },
    {
      "cell_type": "markdown",
      "source": [
        "#dylan cease"
      ],
      "metadata": {
        "id": "FIE4-InsrlH2"
      }
    },
    {
      "cell_type": "code",
      "source": [],
      "metadata": {
        "id": "CF2Hb7sWrnd3"
      },
      "execution_count": null,
      "outputs": []
    },
    {
      "cell_type": "code",
      "source": [
        "import pandas as pd\n",
        "import statsmodels.api as sm\n",
        "\n",
        "# Define the data\n",
        "data = {\n",
        "    'LINE': [7.5, 6.5, 6.5, 6.5, 7.5, 7.5, 8.5, 7.5, 6.5, 6.5],\n",
        "    'OVER': [-105, -122, -136, -112, 120, -100, 118, 102, 108, -126],\n",
        "    'UNDER': [-120, -104, 106, -112, -152, -128, -150, -130, -138, -102],\n",
        "    'STRIKEOUT': [11, 8, 5, 9, 10, 5, 8, 6, 5, 9]\n",
        "}\n",
        "# Create a DataFrame\n",
        "df = pd.DataFrame(data)\n",
        "\n",
        "# Define the independent variables and the dependent variable\n",
        "X = df[['LINE', 'OVER', 'UNDER']]\n",
        "y = df['STRIKEOUT']\n",
        "\n",
        "# Add a constant to the independent variables\n",
        "X = sm.add_constant(X)\n",
        "\n",
        "# Fit the linear regression model\n",
        "model = sm.OLS(y, X).fit()\n",
        "\n",
        "# Get the summary of the regression\n",
        "summary = model.summary()\n",
        "summary\n"
      ],
      "metadata": {
        "colab": {
          "base_uri": "https://localhost:8080/",
          "height": 554
        },
        "outputId": "7be0cdb7-c412-4068-b7b7-b3d48a25f051",
        "id": "cQpGTHC_rp-x"
      },
      "execution_count": null,
      "outputs": [
        {
          "output_type": "stream",
          "name": "stderr",
          "text": [
            "/usr/local/lib/python3.10/dist-packages/scipy/stats/_stats_py.py:1806: UserWarning: kurtosistest only valid for n>=20 ... continuing anyway, n=10\n",
            "  warnings.warn(\"kurtosistest only valid for n>=20 ... continuing \"\n"
          ]
        },
        {
          "output_type": "execute_result",
          "data": {
            "text/plain": [
              "<class 'statsmodels.iolib.summary.Summary'>\n",
              "\"\"\"\n",
              "                            OLS Regression Results                            \n",
              "==============================================================================\n",
              "Dep. Variable:              STRIKEOUT   R-squared:                       0.060\n",
              "Model:                            OLS   Adj. R-squared:                 -0.411\n",
              "Method:                 Least Squares   F-statistic:                    0.1266\n",
              "Date:                Sat, 20 Jul 2024   Prob (F-statistic):              0.941\n",
              "Time:                        15:02:58   Log-Likelihood:                -24.762\n",
              "No. Observations:                  10   AIC:                             57.52\n",
              "Df Residuals:                       6   BIC:                             58.73\n",
              "Df Model:                           3                                         \n",
              "Covariance Type:            nonrobust                                         \n",
              "==============================================================================\n",
              "                 coef    std err          t      P>|t|      [0.025      0.975]\n",
              "------------------------------------------------------------------------------\n",
              "const          1.5753     13.287      0.119      0.909     -30.936      34.086\n",
              "LINE           0.7131      2.123      0.336      0.748      -4.481       5.907\n",
              "OVER          -0.0069      0.013     -0.546      0.605      -0.038       0.024\n",
              "UNDER          0.0001      0.021      0.005      0.996      -0.051       0.051\n",
              "==============================================================================\n",
              "Omnibus:                        6.900   Durbin-Watson:                   1.805\n",
              "Prob(Omnibus):                  0.032   Jarque-Bera (JB):                2.629\n",
              "Skew:                           1.159   Prob(JB):                        0.269\n",
              "Kurtosis:                       3.969   Cond. No.                     1.65e+03\n",
              "==============================================================================\n",
              "\n",
              "Notes:\n",
              "[1] Standard Errors assume that the covariance matrix of the errors is correctly specified.\n",
              "[2] The condition number is large, 1.65e+03. This might indicate that there are\n",
              "strong multicollinearity or other numerical problems.\n",
              "\"\"\""
            ],
            "text/html": [
              "<table class=\"simpletable\">\n",
              "<caption>OLS Regression Results</caption>\n",
              "<tr>\n",
              "  <th>Dep. Variable:</th>        <td>STRIKEOUT</td>    <th>  R-squared:         </th> <td>   0.060</td>\n",
              "</tr>\n",
              "<tr>\n",
              "  <th>Model:</th>                   <td>OLS</td>       <th>  Adj. R-squared:    </th> <td>  -0.411</td>\n",
              "</tr>\n",
              "<tr>\n",
              "  <th>Method:</th>             <td>Least Squares</td>  <th>  F-statistic:       </th> <td>  0.1266</td>\n",
              "</tr>\n",
              "<tr>\n",
              "  <th>Date:</th>             <td>Sat, 20 Jul 2024</td> <th>  Prob (F-statistic):</th>  <td> 0.941</td> \n",
              "</tr>\n",
              "<tr>\n",
              "  <th>Time:</th>                 <td>15:02:58</td>     <th>  Log-Likelihood:    </th> <td> -24.762</td>\n",
              "</tr>\n",
              "<tr>\n",
              "  <th>No. Observations:</th>      <td>    10</td>      <th>  AIC:               </th> <td>   57.52</td>\n",
              "</tr>\n",
              "<tr>\n",
              "  <th>Df Residuals:</th>          <td>     6</td>      <th>  BIC:               </th> <td>   58.73</td>\n",
              "</tr>\n",
              "<tr>\n",
              "  <th>Df Model:</th>              <td>     3</td>      <th>                     </th>     <td> </td>   \n",
              "</tr>\n",
              "<tr>\n",
              "  <th>Covariance Type:</th>      <td>nonrobust</td>    <th>                     </th>     <td> </td>   \n",
              "</tr>\n",
              "</table>\n",
              "<table class=\"simpletable\">\n",
              "<tr>\n",
              "    <td></td>       <th>coef</th>     <th>std err</th>      <th>t</th>      <th>P>|t|</th>  <th>[0.025</th>    <th>0.975]</th>  \n",
              "</tr>\n",
              "<tr>\n",
              "  <th>const</th> <td>    1.5753</td> <td>   13.287</td> <td>    0.119</td> <td> 0.909</td> <td>  -30.936</td> <td>   34.086</td>\n",
              "</tr>\n",
              "<tr>\n",
              "  <th>LINE</th>  <td>    0.7131</td> <td>    2.123</td> <td>    0.336</td> <td> 0.748</td> <td>   -4.481</td> <td>    5.907</td>\n",
              "</tr>\n",
              "<tr>\n",
              "  <th>OVER</th>  <td>   -0.0069</td> <td>    0.013</td> <td>   -0.546</td> <td> 0.605</td> <td>   -0.038</td> <td>    0.024</td>\n",
              "</tr>\n",
              "<tr>\n",
              "  <th>UNDER</th> <td>    0.0001</td> <td>    0.021</td> <td>    0.005</td> <td> 0.996</td> <td>   -0.051</td> <td>    0.051</td>\n",
              "</tr>\n",
              "</table>\n",
              "<table class=\"simpletable\">\n",
              "<tr>\n",
              "  <th>Omnibus:</th>       <td> 6.900</td> <th>  Durbin-Watson:     </th> <td>   1.805</td>\n",
              "</tr>\n",
              "<tr>\n",
              "  <th>Prob(Omnibus):</th> <td> 0.032</td> <th>  Jarque-Bera (JB):  </th> <td>   2.629</td>\n",
              "</tr>\n",
              "<tr>\n",
              "  <th>Skew:</th>          <td> 1.159</td> <th>  Prob(JB):          </th> <td>   0.269</td>\n",
              "</tr>\n",
              "<tr>\n",
              "  <th>Kurtosis:</th>      <td> 3.969</td> <th>  Cond. No.          </th> <td>1.65e+03</td>\n",
              "</tr>\n",
              "</table><br/><br/>Notes:<br/>[1] Standard Errors assume that the covariance matrix of the errors is correctly specified.<br/>[2] The condition number is large, 1.65e+03. This might indicate that there are<br/>strong multicollinearity or other numerical problems."
            ],
            "text/latex": "\\begin{center}\n\\begin{tabular}{lclc}\n\\toprule\n\\textbf{Dep. Variable:}    &    STRIKEOUT     & \\textbf{  R-squared:         } &     0.060   \\\\\n\\textbf{Model:}            &       OLS        & \\textbf{  Adj. R-squared:    } &    -0.411   \\\\\n\\textbf{Method:}           &  Least Squares   & \\textbf{  F-statistic:       } &    0.1266   \\\\\n\\textbf{Date:}             & Sat, 20 Jul 2024 & \\textbf{  Prob (F-statistic):} &    0.941    \\\\\n\\textbf{Time:}             &     15:02:58     & \\textbf{  Log-Likelihood:    } &   -24.762   \\\\\n\\textbf{No. Observations:} &          10      & \\textbf{  AIC:               } &     57.52   \\\\\n\\textbf{Df Residuals:}     &           6      & \\textbf{  BIC:               } &     58.73   \\\\\n\\textbf{Df Model:}         &           3      & \\textbf{                     } &             \\\\\n\\textbf{Covariance Type:}  &    nonrobust     & \\textbf{                     } &             \\\\\n\\bottomrule\n\\end{tabular}\n\\begin{tabular}{lcccccc}\n               & \\textbf{coef} & \\textbf{std err} & \\textbf{t} & \\textbf{P$> |$t$|$} & \\textbf{[0.025} & \\textbf{0.975]}  \\\\\n\\midrule\n\\textbf{const} &       1.5753  &       13.287     &     0.119  &         0.909        &      -30.936    &       34.086     \\\\\n\\textbf{LINE}  &       0.7131  &        2.123     &     0.336  &         0.748        &       -4.481    &        5.907     \\\\\n\\textbf{OVER}  &      -0.0069  &        0.013     &    -0.546  &         0.605        &       -0.038    &        0.024     \\\\\n\\textbf{UNDER} &       0.0001  &        0.021     &     0.005  &         0.996        &       -0.051    &        0.051     \\\\\n\\bottomrule\n\\end{tabular}\n\\begin{tabular}{lclc}\n\\textbf{Omnibus:}       &  6.900 & \\textbf{  Durbin-Watson:     } &    1.805  \\\\\n\\textbf{Prob(Omnibus):} &  0.032 & \\textbf{  Jarque-Bera (JB):  } &    2.629  \\\\\n\\textbf{Skew:}          &  1.159 & \\textbf{  Prob(JB):          } &    0.269  \\\\\n\\textbf{Kurtosis:}      &  3.969 & \\textbf{  Cond. No.          } & 1.65e+03  \\\\\n\\bottomrule\n\\end{tabular}\n%\\caption{OLS Regression Results}\n\\end{center}\n\nNotes: \\newline\n [1] Standard Errors assume that the covariance matrix of the errors is correctly specified. \\newline\n [2] The condition number is large, 1.65e+03. This might indicate that there are \\newline\n strong multicollinearity or other numerical problems."
          },
          "metadata": {},
          "execution_count": 29
        }
      ]
    },
    {
      "cell_type": "code",
      "source": [],
      "metadata": {
        "id": "G0QJZdQQrzSm"
      },
      "execution_count": null,
      "outputs": []
    },
    {
      "cell_type": "code",
      "source": [
        "# Define the new data point\n",
        "new_data = {\n",
        "    'const': 1,\n",
        "    'LINE': 5.5,\n",
        "    'OVER': -120,\n",
        "    'UNDER': -100\n",
        "}\n",
        "\n",
        "# Convert the new data point to a DataFrame\n",
        "new_df = pd.DataFrame([new_data])\n",
        "\n",
        "# Predict the total strikeout using the model\n",
        "predicted_strikeout = model.predict(new_df)\n",
        "predicted_strikeout\n"
      ],
      "metadata": {
        "colab": {
          "base_uri": "https://localhost:8080/"
        },
        "outputId": "b3ff9eaf-1b4c-4630-f728-001f1292c869",
        "id": "rlwPxMOXrzfp"
      },
      "execution_count": 33,
      "outputs": [
        {
          "output_type": "execute_result",
          "data": {
            "text/plain": [
              "0    6.315196\n",
              "dtype: float64"
            ]
          },
          "metadata": {},
          "execution_count": 33
        }
      ]
    },
    {
      "cell_type": "markdown",
      "source": [
        "#logan webb"
      ],
      "metadata": {
        "id": "ea1QPkDPtSSk"
      }
    },
    {
      "cell_type": "code",
      "source": [],
      "metadata": {
        "id": "Il6i2bp9tUt1"
      },
      "execution_count": null,
      "outputs": []
    },
    {
      "cell_type": "code",
      "source": [
        "import pandas as pd\n",
        "import statsmodels.api as sm\n",
        "\n",
        "# Define the data\n",
        "data = {\n",
        "    'LINE': [5.5, 5.5, 5.5, 5.5, 5.5, 4.5, 4.5, 5.5, 4.5, 4.5],\n",
        "    'OVER': [120, -138, 114, 108, 118, -138, -162, 122, -164, -160],\n",
        "    'UNDER': [-152, 108, -146, -138, -150, 108, 126, -156, 128, 124],\n",
        "    'STRIKEOUT': [4, 6, 6, 8, 5, 5, 6, 6, 8, 6]\n",
        "}\n",
        "# Create a DataFrame\n",
        "df = pd.DataFrame(data)\n",
        "\n",
        "# Define the independent variables and the dependent variable\n",
        "X = df[['LINE', 'OVER', 'UNDER']]\n",
        "y = df['STRIKEOUT']\n",
        "\n",
        "# Add a constant to the independent variables\n",
        "X = sm.add_constant(X)\n",
        "\n",
        "# Fit the linear regression model\n",
        "model = sm.OLS(y, X).fit()\n",
        "\n",
        "# Get the summary of the regression\n",
        "summary = model.summary()\n",
        "summary\n"
      ],
      "metadata": {
        "colab": {
          "base_uri": "https://localhost:8080/",
          "height": 554
        },
        "outputId": "060505f9-f039-4b34-aa86-52675d39e2b1",
        "id": "rZBA-3NztVUF"
      },
      "execution_count": 36,
      "outputs": [
        {
          "output_type": "stream",
          "name": "stderr",
          "text": [
            "/usr/local/lib/python3.10/dist-packages/scipy/stats/_stats_py.py:1806: UserWarning: kurtosistest only valid for n>=20 ... continuing anyway, n=10\n",
            "  warnings.warn(\"kurtosistest only valid for n>=20 ... continuing \"\n"
          ]
        },
        {
          "output_type": "execute_result",
          "data": {
            "text/plain": [
              "<class 'statsmodels.iolib.summary.Summary'>\n",
              "\"\"\"\n",
              "                            OLS Regression Results                            \n",
              "==============================================================================\n",
              "Dep. Variable:              STRIKEOUT   R-squared:                       0.072\n",
              "Model:                            OLS   Adj. R-squared:                 -0.392\n",
              "Method:                 Least Squares   F-statistic:                    0.1554\n",
              "Date:                Sat, 20 Jul 2024   Prob (F-statistic):              0.922\n",
              "Time:                        15:15:28   Log-Likelihood:                -15.498\n",
              "No. Observations:                  10   AIC:                             39.00\n",
              "Df Residuals:                       6   BIC:                             40.21\n",
              "Df Model:                           3                                         \n",
              "Covariance Type:            nonrobust                                         \n",
              "==============================================================================\n",
              "                 coef    std err          t      P>|t|      [0.025      0.975]\n",
              "------------------------------------------------------------------------------\n",
              "const          0.1247     16.113      0.008      0.994     -39.303      39.552\n",
              "LINE           0.4654      2.026      0.230      0.826      -4.491       5.422\n",
              "OVER          -0.1079      0.246     -0.438      0.677      -0.711       0.495\n",
              "UNDER         -0.1054      0.245     -0.431      0.682      -0.704       0.493\n",
              "==============================================================================\n",
              "Omnibus:                        2.758   Durbin-Watson:                   1.861\n",
              "Prob(Omnibus):                  0.252   Jarque-Bera (JB):                1.070\n",
              "Skew:                           0.801   Prob(JB):                        0.586\n",
              "Kurtosis:                       3.021   Cond. No.                     6.62e+03\n",
              "==============================================================================\n",
              "\n",
              "Notes:\n",
              "[1] Standard Errors assume that the covariance matrix of the errors is correctly specified.\n",
              "[2] The condition number is large, 6.62e+03. This might indicate that there are\n",
              "strong multicollinearity or other numerical problems.\n",
              "\"\"\""
            ],
            "text/html": [
              "<table class=\"simpletable\">\n",
              "<caption>OLS Regression Results</caption>\n",
              "<tr>\n",
              "  <th>Dep. Variable:</th>        <td>STRIKEOUT</td>    <th>  R-squared:         </th> <td>   0.072</td>\n",
              "</tr>\n",
              "<tr>\n",
              "  <th>Model:</th>                   <td>OLS</td>       <th>  Adj. R-squared:    </th> <td>  -0.392</td>\n",
              "</tr>\n",
              "<tr>\n",
              "  <th>Method:</th>             <td>Least Squares</td>  <th>  F-statistic:       </th> <td>  0.1554</td>\n",
              "</tr>\n",
              "<tr>\n",
              "  <th>Date:</th>             <td>Sat, 20 Jul 2024</td> <th>  Prob (F-statistic):</th>  <td> 0.922</td> \n",
              "</tr>\n",
              "<tr>\n",
              "  <th>Time:</th>                 <td>15:15:28</td>     <th>  Log-Likelihood:    </th> <td> -15.498</td>\n",
              "</tr>\n",
              "<tr>\n",
              "  <th>No. Observations:</th>      <td>    10</td>      <th>  AIC:               </th> <td>   39.00</td>\n",
              "</tr>\n",
              "<tr>\n",
              "  <th>Df Residuals:</th>          <td>     6</td>      <th>  BIC:               </th> <td>   40.21</td>\n",
              "</tr>\n",
              "<tr>\n",
              "  <th>Df Model:</th>              <td>     3</td>      <th>                     </th>     <td> </td>   \n",
              "</tr>\n",
              "<tr>\n",
              "  <th>Covariance Type:</th>      <td>nonrobust</td>    <th>                     </th>     <td> </td>   \n",
              "</tr>\n",
              "</table>\n",
              "<table class=\"simpletable\">\n",
              "<tr>\n",
              "    <td></td>       <th>coef</th>     <th>std err</th>      <th>t</th>      <th>P>|t|</th>  <th>[0.025</th>    <th>0.975]</th>  \n",
              "</tr>\n",
              "<tr>\n",
              "  <th>const</th> <td>    0.1247</td> <td>   16.113</td> <td>    0.008</td> <td> 0.994</td> <td>  -39.303</td> <td>   39.552</td>\n",
              "</tr>\n",
              "<tr>\n",
              "  <th>LINE</th>  <td>    0.4654</td> <td>    2.026</td> <td>    0.230</td> <td> 0.826</td> <td>   -4.491</td> <td>    5.422</td>\n",
              "</tr>\n",
              "<tr>\n",
              "  <th>OVER</th>  <td>   -0.1079</td> <td>    0.246</td> <td>   -0.438</td> <td> 0.677</td> <td>   -0.711</td> <td>    0.495</td>\n",
              "</tr>\n",
              "<tr>\n",
              "  <th>UNDER</th> <td>   -0.1054</td> <td>    0.245</td> <td>   -0.431</td> <td> 0.682</td> <td>   -0.704</td> <td>    0.493</td>\n",
              "</tr>\n",
              "</table>\n",
              "<table class=\"simpletable\">\n",
              "<tr>\n",
              "  <th>Omnibus:</th>       <td> 2.758</td> <th>  Durbin-Watson:     </th> <td>   1.861</td>\n",
              "</tr>\n",
              "<tr>\n",
              "  <th>Prob(Omnibus):</th> <td> 0.252</td> <th>  Jarque-Bera (JB):  </th> <td>   1.070</td>\n",
              "</tr>\n",
              "<tr>\n",
              "  <th>Skew:</th>          <td> 0.801</td> <th>  Prob(JB):          </th> <td>   0.586</td>\n",
              "</tr>\n",
              "<tr>\n",
              "  <th>Kurtosis:</th>      <td> 3.021</td> <th>  Cond. No.          </th> <td>6.62e+03</td>\n",
              "</tr>\n",
              "</table><br/><br/>Notes:<br/>[1] Standard Errors assume that the covariance matrix of the errors is correctly specified.<br/>[2] The condition number is large, 6.62e+03. This might indicate that there are<br/>strong multicollinearity or other numerical problems."
            ],
            "text/latex": "\\begin{center}\n\\begin{tabular}{lclc}\n\\toprule\n\\textbf{Dep. Variable:}    &    STRIKEOUT     & \\textbf{  R-squared:         } &     0.072   \\\\\n\\textbf{Model:}            &       OLS        & \\textbf{  Adj. R-squared:    } &    -0.392   \\\\\n\\textbf{Method:}           &  Least Squares   & \\textbf{  F-statistic:       } &    0.1554   \\\\\n\\textbf{Date:}             & Sat, 20 Jul 2024 & \\textbf{  Prob (F-statistic):} &    0.922    \\\\\n\\textbf{Time:}             &     15:15:28     & \\textbf{  Log-Likelihood:    } &   -15.498   \\\\\n\\textbf{No. Observations:} &          10      & \\textbf{  AIC:               } &     39.00   \\\\\n\\textbf{Df Residuals:}     &           6      & \\textbf{  BIC:               } &     40.21   \\\\\n\\textbf{Df Model:}         &           3      & \\textbf{                     } &             \\\\\n\\textbf{Covariance Type:}  &    nonrobust     & \\textbf{                     } &             \\\\\n\\bottomrule\n\\end{tabular}\n\\begin{tabular}{lcccccc}\n               & \\textbf{coef} & \\textbf{std err} & \\textbf{t} & \\textbf{P$> |$t$|$} & \\textbf{[0.025} & \\textbf{0.975]}  \\\\\n\\midrule\n\\textbf{const} &       0.1247  &       16.113     &     0.008  &         0.994        &      -39.303    &       39.552     \\\\\n\\textbf{LINE}  &       0.4654  &        2.026     &     0.230  &         0.826        &       -4.491    &        5.422     \\\\\n\\textbf{OVER}  &      -0.1079  &        0.246     &    -0.438  &         0.677        &       -0.711    &        0.495     \\\\\n\\textbf{UNDER} &      -0.1054  &        0.245     &    -0.431  &         0.682        &       -0.704    &        0.493     \\\\\n\\bottomrule\n\\end{tabular}\n\\begin{tabular}{lclc}\n\\textbf{Omnibus:}       &  2.758 & \\textbf{  Durbin-Watson:     } &    1.861  \\\\\n\\textbf{Prob(Omnibus):} &  0.252 & \\textbf{  Jarque-Bera (JB):  } &    1.070  \\\\\n\\textbf{Skew:}          &  0.801 & \\textbf{  Prob(JB):          } &    0.586  \\\\\n\\textbf{Kurtosis:}      &  3.021 & \\textbf{  Cond. No.          } & 6.62e+03  \\\\\n\\bottomrule\n\\end{tabular}\n%\\caption{OLS Regression Results}\n\\end{center}\n\nNotes: \\newline\n [1] Standard Errors assume that the covariance matrix of the errors is correctly specified. \\newline\n [2] The condition number is large, 6.62e+03. This might indicate that there are \\newline\n strong multicollinearity or other numerical problems."
          },
          "metadata": {},
          "execution_count": 36
        }
      ]
    },
    {
      "cell_type": "code",
      "source": [],
      "metadata": {
        "id": "nm4gmZ67tcnx"
      },
      "execution_count": null,
      "outputs": []
    },
    {
      "cell_type": "code",
      "source": [
        "# Define the new data point\n",
        "new_data = {\n",
        "    'const': 1,\n",
        "    'LINE': 6.5,\n",
        "    'OVER': -115,\n",
        "    'UNDER': -110\n",
        "}\n",
        "\n",
        "# Convert the new data point to a DataFrame\n",
        "new_df = pd.DataFrame([new_data])\n",
        "\n",
        "# Predict the total strikeout using the model\n",
        "predicted_strikeout = model.predict(new_df)\n",
        "predicted_strikeout\n"
      ],
      "metadata": {
        "colab": {
          "base_uri": "https://localhost:8080/"
        },
        "outputId": "55873b1d-e22c-4dcc-c544-31278fd3fc2a",
        "id": "l634_5oatc3x"
      },
      "execution_count": 38,
      "outputs": [
        {
          "output_type": "execute_result",
          "data": {
            "text/plain": [
              "0    27.150529\n",
              "dtype: float64"
            ]
          },
          "metadata": {},
          "execution_count": 38
        }
      ]
    },
    {
      "cell_type": "markdown",
      "source": [
        "#BRADY SINGER"
      ],
      "metadata": {
        "id": "G95G8qW658uH"
      }
    },
    {
      "cell_type": "code",
      "source": [],
      "metadata": {
        "id": "4dcJvb8K5--c"
      },
      "execution_count": null,
      "outputs": []
    },
    {
      "cell_type": "code",
      "source": [
        "import pandas as pd\n",
        "import statsmodels.api as sm\n",
        "\n",
        "# Define the data\n",
        "data = {\n",
        "    'LINE': [5.5]*7 + [6.5] + [5.5]*2,\n",
        "    'OVER': [105, -140, 125, -130, -145, -160, -110, 120, 105, 100],\n",
        "    'UNDER': [-150, 100, -175, -105, 105, 120, -120, -160, -140, -140],\n",
        "    'STRIKEOUT': [8, 6, 3, 5, 3, 5, 7, 9, 4, 6]\n",
        "}\n",
        "# Create a DataFrame\n",
        "df = pd.DataFrame(data)\n",
        "\n",
        "# Define the independent variables and the dependent variable\n",
        "X = df[['LINE', 'OVER', 'UNDER']]\n",
        "y = df['STRIKEOUT']\n",
        "\n",
        "# Add a constant to the independent variables\n",
        "X = sm.add_constant(X)\n",
        "\n",
        "# Fit the linear regression model\n",
        "model = sm.OLS(y, X).fit()\n",
        "\n",
        "# Get the summary of the regression\n",
        "summary = model.summary()\n",
        "summary\n"
      ],
      "metadata": {
        "colab": {
          "base_uri": "https://localhost:8080/",
          "height": 554
        },
        "outputId": "6edfd195-cdfe-4db3-b821-5b3ec135c75e",
        "id": "NVc7gS-z6A_C"
      },
      "execution_count": 40,
      "outputs": [
        {
          "output_type": "stream",
          "name": "stderr",
          "text": [
            "/usr/local/lib/python3.10/dist-packages/scipy/stats/_stats_py.py:1806: UserWarning: kurtosistest only valid for n>=20 ... continuing anyway, n=10\n",
            "  warnings.warn(\"kurtosistest only valid for n>=20 ... continuing \"\n"
          ]
        },
        {
          "output_type": "execute_result",
          "data": {
            "text/plain": [
              "<class 'statsmodels.iolib.summary.Summary'>\n",
              "\"\"\"\n",
              "                            OLS Regression Results                            \n",
              "==============================================================================\n",
              "Dep. Variable:              STRIKEOUT   R-squared:                       0.406\n",
              "Model:                            OLS   Adj. R-squared:                  0.108\n",
              "Method:                 Least Squares   F-statistic:                     1.365\n",
              "Date:                Sat, 20 Jul 2024   Prob (F-statistic):              0.340\n",
              "Time:                        16:11:42   Log-Likelihood:                -18.048\n",
              "No. Observations:                  10   AIC:                             44.10\n",
              "Df Residuals:                       6   BIC:                             45.31\n",
              "Df Model:                           3                                         \n",
              "Covariance Type:            nonrobust                                         \n",
              "==============================================================================\n",
              "                 coef    std err          t      P>|t|      [0.025      0.975]\n",
              "------------------------------------------------------------------------------\n",
              "const        -15.9944     12.072     -1.325      0.233     -45.534      13.545\n",
              "LINE           3.7715      2.142      1.760      0.129      -1.471       9.014\n",
              "OVER          -0.0044      0.008     -0.528      0.616      -0.025       0.016\n",
              "UNDER         -0.0063      0.009     -0.727      0.495      -0.027       0.015\n",
              "==============================================================================\n",
              "Omnibus:                        0.122   Durbin-Watson:                   1.305\n",
              "Prob(Omnibus):                  0.941   Jarque-Bera (JB):                0.316\n",
              "Skew:                           0.159   Prob(JB):                        0.854\n",
              "Kurtosis:                       2.189   Cond. No.                     3.39e+03\n",
              "==============================================================================\n",
              "\n",
              "Notes:\n",
              "[1] Standard Errors assume that the covariance matrix of the errors is correctly specified.\n",
              "[2] The condition number is large, 3.39e+03. This might indicate that there are\n",
              "strong multicollinearity or other numerical problems.\n",
              "\"\"\""
            ],
            "text/html": [
              "<table class=\"simpletable\">\n",
              "<caption>OLS Regression Results</caption>\n",
              "<tr>\n",
              "  <th>Dep. Variable:</th>        <td>STRIKEOUT</td>    <th>  R-squared:         </th> <td>   0.406</td>\n",
              "</tr>\n",
              "<tr>\n",
              "  <th>Model:</th>                   <td>OLS</td>       <th>  Adj. R-squared:    </th> <td>   0.108</td>\n",
              "</tr>\n",
              "<tr>\n",
              "  <th>Method:</th>             <td>Least Squares</td>  <th>  F-statistic:       </th> <td>   1.365</td>\n",
              "</tr>\n",
              "<tr>\n",
              "  <th>Date:</th>             <td>Sat, 20 Jul 2024</td> <th>  Prob (F-statistic):</th>  <td> 0.340</td> \n",
              "</tr>\n",
              "<tr>\n",
              "  <th>Time:</th>                 <td>16:11:42</td>     <th>  Log-Likelihood:    </th> <td> -18.048</td>\n",
              "</tr>\n",
              "<tr>\n",
              "  <th>No. Observations:</th>      <td>    10</td>      <th>  AIC:               </th> <td>   44.10</td>\n",
              "</tr>\n",
              "<tr>\n",
              "  <th>Df Residuals:</th>          <td>     6</td>      <th>  BIC:               </th> <td>   45.31</td>\n",
              "</tr>\n",
              "<tr>\n",
              "  <th>Df Model:</th>              <td>     3</td>      <th>                     </th>     <td> </td>   \n",
              "</tr>\n",
              "<tr>\n",
              "  <th>Covariance Type:</th>      <td>nonrobust</td>    <th>                     </th>     <td> </td>   \n",
              "</tr>\n",
              "</table>\n",
              "<table class=\"simpletable\">\n",
              "<tr>\n",
              "    <td></td>       <th>coef</th>     <th>std err</th>      <th>t</th>      <th>P>|t|</th>  <th>[0.025</th>    <th>0.975]</th>  \n",
              "</tr>\n",
              "<tr>\n",
              "  <th>const</th> <td>  -15.9944</td> <td>   12.072</td> <td>   -1.325</td> <td> 0.233</td> <td>  -45.534</td> <td>   13.545</td>\n",
              "</tr>\n",
              "<tr>\n",
              "  <th>LINE</th>  <td>    3.7715</td> <td>    2.142</td> <td>    1.760</td> <td> 0.129</td> <td>   -1.471</td> <td>    9.014</td>\n",
              "</tr>\n",
              "<tr>\n",
              "  <th>OVER</th>  <td>   -0.0044</td> <td>    0.008</td> <td>   -0.528</td> <td> 0.616</td> <td>   -0.025</td> <td>    0.016</td>\n",
              "</tr>\n",
              "<tr>\n",
              "  <th>UNDER</th> <td>   -0.0063</td> <td>    0.009</td> <td>   -0.727</td> <td> 0.495</td> <td>   -0.027</td> <td>    0.015</td>\n",
              "</tr>\n",
              "</table>\n",
              "<table class=\"simpletable\">\n",
              "<tr>\n",
              "  <th>Omnibus:</th>       <td> 0.122</td> <th>  Durbin-Watson:     </th> <td>   1.305</td>\n",
              "</tr>\n",
              "<tr>\n",
              "  <th>Prob(Omnibus):</th> <td> 0.941</td> <th>  Jarque-Bera (JB):  </th> <td>   0.316</td>\n",
              "</tr>\n",
              "<tr>\n",
              "  <th>Skew:</th>          <td> 0.159</td> <th>  Prob(JB):          </th> <td>   0.854</td>\n",
              "</tr>\n",
              "<tr>\n",
              "  <th>Kurtosis:</th>      <td> 2.189</td> <th>  Cond. No.          </th> <td>3.39e+03</td>\n",
              "</tr>\n",
              "</table><br/><br/>Notes:<br/>[1] Standard Errors assume that the covariance matrix of the errors is correctly specified.<br/>[2] The condition number is large, 3.39e+03. This might indicate that there are<br/>strong multicollinearity or other numerical problems."
            ],
            "text/latex": "\\begin{center}\n\\begin{tabular}{lclc}\n\\toprule\n\\textbf{Dep. Variable:}    &    STRIKEOUT     & \\textbf{  R-squared:         } &     0.406   \\\\\n\\textbf{Model:}            &       OLS        & \\textbf{  Adj. R-squared:    } &     0.108   \\\\\n\\textbf{Method:}           &  Least Squares   & \\textbf{  F-statistic:       } &     1.365   \\\\\n\\textbf{Date:}             & Sat, 20 Jul 2024 & \\textbf{  Prob (F-statistic):} &    0.340    \\\\\n\\textbf{Time:}             &     16:11:42     & \\textbf{  Log-Likelihood:    } &   -18.048   \\\\\n\\textbf{No. Observations:} &          10      & \\textbf{  AIC:               } &     44.10   \\\\\n\\textbf{Df Residuals:}     &           6      & \\textbf{  BIC:               } &     45.31   \\\\\n\\textbf{Df Model:}         &           3      & \\textbf{                     } &             \\\\\n\\textbf{Covariance Type:}  &    nonrobust     & \\textbf{                     } &             \\\\\n\\bottomrule\n\\end{tabular}\n\\begin{tabular}{lcccccc}\n               & \\textbf{coef} & \\textbf{std err} & \\textbf{t} & \\textbf{P$> |$t$|$} & \\textbf{[0.025} & \\textbf{0.975]}  \\\\\n\\midrule\n\\textbf{const} &     -15.9944  &       12.072     &    -1.325  &         0.233        &      -45.534    &       13.545     \\\\\n\\textbf{LINE}  &       3.7715  &        2.142     &     1.760  &         0.129        &       -1.471    &        9.014     \\\\\n\\textbf{OVER}  &      -0.0044  &        0.008     &    -0.528  &         0.616        &       -0.025    &        0.016     \\\\\n\\textbf{UNDER} &      -0.0063  &        0.009     &    -0.727  &         0.495        &       -0.027    &        0.015     \\\\\n\\bottomrule\n\\end{tabular}\n\\begin{tabular}{lclc}\n\\textbf{Omnibus:}       &  0.122 & \\textbf{  Durbin-Watson:     } &    1.305  \\\\\n\\textbf{Prob(Omnibus):} &  0.941 & \\textbf{  Jarque-Bera (JB):  } &    0.316  \\\\\n\\textbf{Skew:}          &  0.159 & \\textbf{  Prob(JB):          } &    0.854  \\\\\n\\textbf{Kurtosis:}      &  2.189 & \\textbf{  Cond. No.          } & 3.39e+03  \\\\\n\\bottomrule\n\\end{tabular}\n%\\caption{OLS Regression Results}\n\\end{center}\n\nNotes: \\newline\n [1] Standard Errors assume that the covariance matrix of the errors is correctly specified. \\newline\n [2] The condition number is large, 3.39e+03. This might indicate that there are \\newline\n strong multicollinearity or other numerical problems."
          },
          "metadata": {},
          "execution_count": 40
        }
      ]
    },
    {
      "cell_type": "code",
      "source": [],
      "metadata": {
        "id": "Zm_O-md16PTv"
      },
      "execution_count": null,
      "outputs": []
    },
    {
      "cell_type": "code",
      "source": [
        "# Define the new data point\n",
        "new_data = {\n",
        "    'const': 1,\n",
        "    'LINE': 5.5,\n",
        "    'OVER': -105,\n",
        "    'UNDER': -135\n",
        "}\n",
        "\n",
        "# Convert the new data point to a DataFrame\n",
        "new_df = pd.DataFrame([new_data])\n",
        "\n",
        "# Predict the total strikeout using the model\n",
        "predicted_strikeout = model.predict(new_df)\n",
        "predicted_strikeout\n"
      ],
      "metadata": {
        "colab": {
          "base_uri": "https://localhost:8080/"
        },
        "outputId": "5ef80051-0c73-49cf-d2a6-5a2b00e0cb15",
        "id": "LRz_FDEC6S3c"
      },
      "execution_count": 41,
      "outputs": [
        {
          "output_type": "execute_result",
          "data": {
            "text/plain": [
              "0    6.054027\n",
              "dtype: float64"
            ]
          },
          "metadata": {},
          "execution_count": 41
        }
      ]
    }
  ]
}