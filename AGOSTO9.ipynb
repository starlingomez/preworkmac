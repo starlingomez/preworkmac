{
  "nbformat": 4,
  "nbformat_minor": 0,
  "metadata": {
    "colab": {
      "provenance": [],
      "authorship_tag": "ABX9TyPtZiP+v+9LpN01EE5dQxRR",
      "include_colab_link": true
    },
    "kernelspec": {
      "name": "python3",
      "display_name": "Python 3"
    },
    "language_info": {
      "name": "python"
    }
  },
  "cells": [
    {
      "cell_type": "markdown",
      "metadata": {
        "id": "view-in-github",
        "colab_type": "text"
      },
      "source": [
        "<a href=\"https://colab.research.google.com/github/starlingomez/preworkmac/blob/master/AGOSTO9.ipynb\" target=\"_parent\"><img src=\"https://colab.research.google.com/assets/colab-badge.svg\" alt=\"Open In Colab\"/></a>"
      ]
    },
    {
      "cell_type": "code",
      "execution_count": null,
      "metadata": {
        "id": "NqvDoQ1KpALb"
      },
      "outputs": [],
      "source": []
    },
    {
      "cell_type": "markdown",
      "source": [
        "#CARLOS RODON"
      ],
      "metadata": {
        "id": "wATrNOl5pAwo"
      }
    },
    {
      "cell_type": "code",
      "source": [],
      "metadata": {
        "id": "fGISkVptpCXm"
      },
      "execution_count": null,
      "outputs": []
    },
    {
      "cell_type": "code",
      "source": [
        "# Import necessary libraries\n",
        "import pandas as pd\n",
        "from sklearn.tree import DecisionTreeRegressor\n",
        "from sklearn.model_selection import train_test_split\n",
        "from sklearn.metrics import mean_squared_error\n",
        "\n",
        "# Input data\n",
        "data = {\n",
        "    \"ODD\": [5.5, 7.5, 6.5, 4.5, 6.5, 6.5, 5.5, 6.5, 6.5, 6.5],\n",
        "    \"OVER\": [102, 122, -128, -146, 104, -128, -145, -155, -140, 116],\n",
        "    \"UNDER\": [-130, -156, 102, 114, -132, -100, 110, 120, 110, -148],\n",
        "    \"STRIKEOUT\": [3, 7, 3, 8, 8, 5, 7, 10, 7, 8]\n",
        "}\n",
        "\n",
        "# Convert to DataFrame\n",
        "df = pd.DataFrame(data)\n",
        "\n",
        "# Define independent variables (ODD, OVER, UNDER) and dependent variable (STRIKEOUT)\n",
        "X = df[['ODD', 'OVER', 'UNDER']]\n",
        "y = df['STRIKEOUT']\n",
        "\n",
        "# Split the data into training and testing sets (optional, but recommended)\n",
        "X_train, X_test, y_train, y_test = train_test_split(X, y, test_size=0.2, random_state=42)\n",
        "\n",
        "# Create and fit the Decision Tree Regression model\n",
        "tree_model = DecisionTreeRegressor(random_state=42)\n",
        "tree_model.fit(X_train, y_train)\n",
        "\n",
        "# Make predictions on the test set\n",
        "y_pred = tree_model.predict(X_test)\n",
        "\n",
        "# Evaluate the model (optional)\n",
        "mse = mean_squared_error(y_test, y_pred)\n",
        "print(f\"Mean Squared Error: {mse}\")\n",
        "\n",
        "# To make a prediction with new data\n",
        "new_data = pd.DataFrame({\n",
        "    'ODD': [6.5],\n",
        "    'OVER': [-148],\n",
        "    'UNDER': [116]\n",
        "})\n",
        "\n",
        "\n",
        "predicted_strikeout = tree_model.predict(new_data)\n",
        "print(f\"Predicted Strikeout: {predicted_strikeout[0]}\")\n"
      ],
      "metadata": {
        "colab": {
          "base_uri": "https://localhost:8080/"
        },
        "outputId": "33a49cb4-b402-4fde-b0b6-34c1571dca8a",
        "id": "SitEbQCIhQZI"
      },
      "execution_count": 1,
      "outputs": [
        {
          "output_type": "stream",
          "name": "stdout",
          "text": [
            "Mean Squared Error: 0.5\n",
            "Predicted Strikeout: 8.0\n"
          ]
        }
      ]
    },
    {
      "cell_type": "markdown",
      "source": [
        "#MITCH SPENCE"
      ],
      "metadata": {
        "id": "qS1m_PVnqTUo"
      }
    },
    {
      "cell_type": "code",
      "source": [],
      "metadata": {
        "id": "O_B1NK0BqWBR"
      },
      "execution_count": null,
      "outputs": []
    },
    {
      "cell_type": "code",
      "source": [
        "# Import necessary libraries\n",
        "import pandas as pd\n",
        "from sklearn.tree import DecisionTreeRegressor\n",
        "from sklearn.model_selection import train_test_split\n",
        "from sklearn.metrics import mean_squared_error\n",
        "\n",
        "# Input data\n",
        "data = {\n",
        "    'ODD': [3.5, 3.5, 3.5, 4.5, 4.5, 4.5, 4.5, 4.5, 3.5, 4.5],\n",
        "    'OVER': [-118, -162, -102, 114, 118, 120, 110, 135, -160, -122],\n",
        "    'UNDER': [-108, 126, -126, -146, -150, -152, -145, -175, 125, -104],\n",
        "    'STRIKEOUT': [3, 3, 7, 6, 5, 5, 6, 3, 3, 6]\n",
        "}\n",
        "\n",
        "# Convert to DataFrame\n",
        "df = pd.DataFrame(data)\n",
        "\n",
        "# Define independent variables (ODD, OVER, UNDER) and dependent variable (STRIKEOUT)\n",
        "X = df[['ODD', 'OVER', 'UNDER']]\n",
        "y = df['STRIKEOUT']\n",
        "\n",
        "# Split the data into training and testing sets (optional, but recommended)\n",
        "X_train, X_test, y_train, y_test = train_test_split(X, y, test_size=0.2, random_state=42)\n",
        "\n",
        "# Create and fit the Decision Tree Regression model\n",
        "tree_model = DecisionTreeRegressor(random_state=42)\n",
        "tree_model.fit(X_train, y_train)\n",
        "\n",
        "# Make predictions on the test set\n",
        "y_pred = tree_model.predict(X_test)\n",
        "\n",
        "# Evaluate the model (optional)\n",
        "mse = mean_squared_error(y_test, y_pred)\n",
        "print(f\"Mean Squared Error: {mse}\")\n",
        "\n",
        "# To make a prediction with new data\n",
        "new_data = pd.DataFrame({\n",
        "    'ODD': [3.5],\n",
        "    'OVER': [-166],\n",
        "    'UNDER': [130]\n",
        "})\n",
        "\n",
        "\n",
        "predicted_strikeout = tree_model.predict(new_data)\n",
        "print(f\"Predicted Strikeout: {predicted_strikeout[0]}\")\n"
      ],
      "metadata": {
        "colab": {
          "base_uri": "https://localhost:8080/"
        },
        "outputId": "93b8de9f-d810-45a9-d644-2bac0b30fb99",
        "id": "19WqTErrqWQx"
      },
      "execution_count": 2,
      "outputs": [
        {
          "output_type": "stream",
          "name": "stdout",
          "text": [
            "Mean Squared Error: 9.0\n",
            "Predicted Strikeout: 6.0\n"
          ]
        }
      ]
    },
    {
      "cell_type": "code",
      "source": [
        "import pandas as pd\n",
        "from sklearn.linear_model import LogisticRegression\n",
        "from sklearn.model_selection import train_test_split\n",
        "from sklearn.metrics import accuracy_score, classification_report\n",
        "\n",
        "# Data\n",
        "data = {\n",
        "    \"ODD\": [3.5, 3.5, 4.5, 3.5, 3.5, 4.5, 4.5, 4.5, 4.5, 4.5],\n",
        "    \"OVER\": [-162, -160, -122, -118, -102, 110, 114, 118, 120, 135],\n",
        "    \"UNDER\": [126, 125, -104, -108, -126, -145, -146, -150, -152, -175],\n",
        "    \"RESULT\": [0, 0, 1, 0, 1, 1, 1, 1, 1, 0]\n",
        "}\n",
        "\n",
        "# Create DataFrame\n",
        "df = pd.DataFrame(data)\n",
        "\n",
        "# Features and target\n",
        "X = df[['ODD', 'OVER', 'UNDER']]\n",
        "y = df['RESULT']\n",
        "\n",
        "# Train-test split\n",
        "X_train, X_test, y_train, y_test = train_test_split(X, y, test_size=0.3, random_state=42)\n",
        "\n",
        "# Logistic Regression model\n",
        "model = LogisticRegression()\n",
        "model.fit(X_train, y_train)\n",
        "\n",
        "# Predictions\n",
        "y_pred = model.predict(X_test)\n",
        "\n",
        "# Accuracy and classification report\n",
        "accuracy = accuracy_score(y_test, y_pred)\n",
        "report = classification_report(y_test, y_pred)\n",
        "\n",
        "accuracy, report\n"
      ],
      "metadata": {
        "colab": {
          "base_uri": "https://localhost:8080/"
        },
        "id": "FaPDVT9xBTe6",
        "outputId": "a911e000-1bb1-479e-9b0b-6f7c7e917b66"
      },
      "execution_count": 2,
      "outputs": [
        {
          "output_type": "execute_result",
          "data": {
            "text/plain": [
              "(1.0,\n",
              " '              precision    recall  f1-score   support\\n\\n           0       1.00      1.00      1.00         1\\n           1       1.00      1.00      1.00         2\\n\\n    accuracy                           1.00         3\\n   macro avg       1.00      1.00      1.00         3\\nweighted avg       1.00      1.00      1.00         3\\n')"
            ]
          },
          "metadata": {},
          "execution_count": 2
        }
      ]
    },
    {
      "cell_type": "code",
      "source": [
        "# New data for prediction\n",
        "new_data = {\n",
        "    \"ODD\": [3.5],\n",
        "    \"OVER\": [-166],\n",
        "    \"UNDER\": [130]\n",
        "}\n",
        "\n",
        "# Convert to DataFrame\n",
        "new_df = pd.DataFrame(new_data)\n",
        "\n",
        "# Predict the result using the trained model\n",
        "new_prediction = model.predict(new_df)\n",
        "\n",
        "new_prediction\n"
      ],
      "metadata": {
        "colab": {
          "base_uri": "https://localhost:8080/"
        },
        "id": "Zz4dwzEWBhGg",
        "outputId": "442b6236-af8f-4f1b-9d60-b4c095b9df7d"
      },
      "execution_count": 3,
      "outputs": [
        {
          "output_type": "execute_result",
          "data": {
            "text/plain": [
              "array([0])"
            ]
          },
          "metadata": {},
          "execution_count": 3
        }
      ]
    },
    {
      "cell_type": "code",
      "source": [],
      "metadata": {
        "id": "HE4ovhkHqS9s"
      },
      "execution_count": null,
      "outputs": []
    },
    {
      "cell_type": "markdown",
      "source": [
        "#AARON CIVALE"
      ],
      "metadata": {
        "id": "KiZ5j01bsujf"
      }
    },
    {
      "cell_type": "code",
      "source": [],
      "metadata": {
        "id": "skDQvJiVs3bX"
      },
      "execution_count": null,
      "outputs": []
    },
    {
      "cell_type": "code",
      "source": [
        "# Import necessary libraries\n",
        "import pandas as pd\n",
        "from sklearn.tree import DecisionTreeRegressor\n",
        "from sklearn.model_selection import train_test_split\n",
        "from sklearn.metrics import mean_squared_error\n",
        "\n",
        "# Input data\n",
        "data = {\n",
        "    \"ODD\": [5.5, 4.5, 5.5, 5.5, 5.5, 4.5],\n",
        "    \"OVER\": [109, -113, -148, 110, 105, 130],\n",
        "    \"UNDER\": [-149, -113, 116, -145, -140, -166],\n",
        "    \"STRIKEOUT\": [5, 8, 6, 4, 3, 3]\n",
        "}\n",
        "\n",
        "# Convert to DataFrame\n",
        "df = pd.DataFrame(data)\n",
        "\n",
        "# Define independent variables (ODD, OVER, UNDER) and dependent variable (STRIKEOUT)\n",
        "X = df[['ODD', 'OVER', 'UNDER']]\n",
        "y = df['STRIKEOUT']\n",
        "\n",
        "# Split the data into training and testing sets (optional, but recommended)\n",
        "X_train, X_test, y_train, y_test = train_test_split(X, y, test_size=0.2, random_state=42)\n",
        "\n",
        "# Create and fit the Decision Tree Regression model\n",
        "tree_model = DecisionTreeRegressor(random_state=42)\n",
        "tree_model.fit(X_train, y_train)\n",
        "\n",
        "# Make predictions on the test set\n",
        "y_pred = tree_model.predict(X_test)\n",
        "\n",
        "# Evaluate the model (optional)\n",
        "mse = mean_squared_error(y_test, y_pred)\n",
        "print(f\"Mean Squared Error: {mse}\")\n",
        "\n",
        "# To make a prediction with new data\n",
        "new_data = pd.DataFrame({\n",
        "    \"ODD\": [5.5],\n",
        "    \"OVER\": [112],\n",
        "    \"UNDER\": [-142]\n",
        "})\n",
        "\n",
        "\n",
        "predicted_strikeout = tree_model.predict(new_data)\n",
        "print(f\"Predicted Strikeout: {predicted_strikeout[0]}\")\n"
      ],
      "metadata": {
        "colab": {
          "base_uri": "https://localhost:8080/"
        },
        "outputId": "f94ee349-13a4-4185-c0f7-c30d4b5154a2",
        "id": "3lJrK-K0s7pC"
      },
      "execution_count": 3,
      "outputs": [
        {
          "output_type": "stream",
          "name": "stdout",
          "text": [
            "Mean Squared Error: 2.5\n",
            "Predicted Strikeout: 4.0\n"
          ]
        }
      ]
    },
    {
      "cell_type": "code",
      "source": [],
      "metadata": {
        "id": "b3KpxIGFCf-D"
      },
      "execution_count": null,
      "outputs": []
    },
    {
      "cell_type": "code",
      "source": [
        "import pandas as pd\n",
        "from sklearn.linear_model import LogisticRegression\n",
        "from sklearn.model_selection import train_test_split\n",
        "from sklearn.metrics import accuracy_score, classification_report\n",
        "\n",
        "# Data\n",
        "data = {\n",
        "    'ODD': [5.5, 4.5, 5.5, 5.5, 5.5, 4.5],\n",
        "    'OVER': [109, -113, -148, 110, 105, 130],\n",
        "    'UNDER': [-149, -113, 116, -145, -140, -166],\n",
        "    'RESULT': [0, 1, 1, 0, 0, 0]\n",
        "}\n",
        "\n",
        "# Create DataFrame\n",
        "df = pd.DataFrame(data)\n",
        "\n",
        "# Features and target\n",
        "X = df[['ODD', 'OVER', 'UNDER']]\n",
        "y = df['RESULT']\n",
        "\n",
        "# Train-test split\n",
        "X_train, X_test, y_train, y_test = train_test_split(X, y, test_size=0.3, random_state=42)\n",
        "\n",
        "# Logistic Regression model\n",
        "model = LogisticRegression()\n",
        "model.fit(X_train, y_train)\n",
        "\n",
        "# Predictions\n",
        "y_pred = model.predict(X_test)\n",
        "\n",
        "# Accuracy and classification report\n",
        "accuracy = accuracy_score(y_test, y_pred)\n",
        "report = classification_report(y_test, y_pred)\n",
        "\n",
        "accuracy, report\n"
      ],
      "metadata": {
        "colab": {
          "base_uri": "https://localhost:8080/"
        },
        "outputId": "8a8feed7-d22f-49bb-bb55-06df50e9de9a",
        "id": "gfqRK9rQCgO5"
      },
      "execution_count": 6,
      "outputs": [
        {
          "output_type": "stream",
          "name": "stderr",
          "text": [
            "/usr/local/lib/python3.10/dist-packages/sklearn/metrics/_classification.py:1471: UndefinedMetricWarning: Precision and F-score are ill-defined and being set to 0.0 in labels with no predicted samples. Use `zero_division` parameter to control this behavior.\n",
            "  _warn_prf(average, modifier, msg_start, len(result))\n",
            "/usr/local/lib/python3.10/dist-packages/sklearn/metrics/_classification.py:1471: UndefinedMetricWarning: Precision and F-score are ill-defined and being set to 0.0 in labels with no predicted samples. Use `zero_division` parameter to control this behavior.\n",
            "  _warn_prf(average, modifier, msg_start, len(result))\n",
            "/usr/local/lib/python3.10/dist-packages/sklearn/metrics/_classification.py:1471: UndefinedMetricWarning: Precision and F-score are ill-defined and being set to 0.0 in labels with no predicted samples. Use `zero_division` parameter to control this behavior.\n",
            "  _warn_prf(average, modifier, msg_start, len(result))\n"
          ]
        },
        {
          "output_type": "execute_result",
          "data": {
            "text/plain": [
              "(0.5,\n",
              " '              precision    recall  f1-score   support\\n\\n           0       0.50      1.00      0.67         1\\n           1       0.00      0.00      0.00         1\\n\\n    accuracy                           0.50         2\\n   macro avg       0.25      0.50      0.33         2\\nweighted avg       0.25      0.50      0.33         2\\n')"
            ]
          },
          "metadata": {},
          "execution_count": 6
        }
      ]
    },
    {
      "cell_type": "code",
      "source": [],
      "metadata": {
        "id": "A4wbPKd4CPr6"
      },
      "execution_count": null,
      "outputs": []
    },
    {
      "cell_type": "code",
      "source": [
        "# New data for prediction\n",
        "new_data = {\n",
        "    \"ODD\": [5.5],\n",
        "    \"OVER\": [112],\n",
        "    \"UNDER\": [-142]\n",
        "}\n",
        "\n",
        "# Convert to DataFrame\n",
        "new_df = pd.DataFrame(new_data)\n",
        "\n",
        "# Predict the result using the trained model\n",
        "new_prediction = model.predict(new_df)\n",
        "\n",
        "new_prediction\n"
      ],
      "metadata": {
        "colab": {
          "base_uri": "https://localhost:8080/"
        },
        "outputId": "499c01ab-08d3-4b41-d680-1b0f75ad4c74",
        "id": "hqD2R0ikCP7S"
      },
      "execution_count": 7,
      "outputs": [
        {
          "output_type": "execute_result",
          "data": {
            "text/plain": [
              "array([0])"
            ]
          },
          "metadata": {},
          "execution_count": 7
        }
      ]
    },
    {
      "cell_type": "markdown",
      "source": [
        "#MICHAEL LORENZEN"
      ],
      "metadata": {
        "id": "1tp1j8Fmt0qO"
      }
    },
    {
      "cell_type": "code",
      "source": [],
      "metadata": {
        "id": "frRESihft3KG"
      },
      "execution_count": null,
      "outputs": []
    },
    {
      "cell_type": "code",
      "source": [
        "# Import necessary libraries\n",
        "import pandas as pd\n",
        "from sklearn.tree import DecisionTreeRegressor\n",
        "from sklearn.model_selection import train_test_split\n",
        "from sklearn.metrics import mean_squared_error\n",
        "\n",
        "# Input data\n",
        "data = {\n",
        "    'ODD': [4.5, 4.5, 4.5, 3.5, 3.5],\n",
        "    'OVER': [-101, -156, -110, 108, -148],\n",
        "    'UNDER': [-134, 114, -123, -138, 116],\n",
        "    'STRIKEOUT': [5, 7, 3, 3, 5]\n",
        "}\n",
        "\n",
        "# Convert to DataFrame\n",
        "df = pd.DataFrame(data)\n",
        "\n",
        "# Define independent variables (ODD, OVER, UNDER) and dependent variable (STRIKEOUT)\n",
        "X = df[['ODD', 'OVER', 'UNDER']]\n",
        "y = df['STRIKEOUT']\n",
        "\n",
        "# Split the data into training and testing sets (optional, but recommended)\n",
        "X_train, X_test, y_train, y_test = train_test_split(X, y, test_size=0.2, random_state=42)\n",
        "\n",
        "# Create and fit the Decision Tree Regression model\n",
        "tree_model = DecisionTreeRegressor(random_state=42)\n",
        "tree_model.fit(X_train, y_train)\n",
        "\n",
        "# Make predictions on the test set\n",
        "y_pred = tree_model.predict(X_test)\n",
        "\n",
        "# Evaluate the model (optional)\n",
        "mse = mean_squared_error(y_test, y_pred)\n",
        "print(f\"Mean Squared Error: {mse}\")\n",
        "\n",
        "# To make a prediction with new data\n",
        "new_data = pd.DataFrame({\n",
        "    'ODD': [3.5],\n",
        "    'OVER': [-120],\n",
        "    'UNDER': [-106]\n",
        "})\n",
        "\n",
        "\n",
        "predicted_strikeout = tree_model.predict(new_data)\n",
        "print(f\"Predicted Strikeout: {predicted_strikeout[0]}\")\n"
      ],
      "metadata": {
        "colab": {
          "base_uri": "https://localhost:8080/"
        },
        "outputId": "8338d9db-df36-48d0-9b37-dc3eba5bccda",
        "id": "jmrh7vH4t3ZN"
      },
      "execution_count": 5,
      "outputs": [
        {
          "output_type": "stream",
          "name": "stdout",
          "text": [
            "Mean Squared Error: 4.0\n",
            "Predicted Strikeout: 3.0\n"
          ]
        }
      ]
    },
    {
      "cell_type": "markdown",
      "source": [
        "#RYEN NELSON"
      ],
      "metadata": {
        "id": "DeGajemLxSyd"
      }
    },
    {
      "cell_type": "code",
      "source": [],
      "metadata": {
        "id": "z4uOUNlgxVPv"
      },
      "execution_count": null,
      "outputs": []
    },
    {
      "cell_type": "code",
      "source": [
        "# Import necessary libraries\n",
        "import pandas as pd\n",
        "from sklearn.tree import DecisionTreeRegressor\n",
        "from sklearn.model_selection import train_test_split\n",
        "from sklearn.metrics import mean_squared_error\n",
        "\n",
        "# Input data\n",
        "data = {\n",
        "    'ODD': [3.5, 4.5, 3.5, 3.5, 2.5, 3.5, 4.5, 3.5, 3.5, 4.5],\n",
        "    'OVER': [118, 118, -104, -140, -154, -110, -105, 105, -110, 112],\n",
        "    'UNDER': [-150, -150, -122, 110, 120, -120, -125, -135, -116, -142],\n",
        "    'STRIKEOUT': [1, 8, 2, 3, 5, 5, 9, 2, 9, 7]\n",
        "}\n",
        "\n",
        "# Convert to DataFrame\n",
        "df = pd.DataFrame(data)\n",
        "\n",
        "# Define independent variables (ODD, OVER, UNDER) and dependent variable (STRIKEOUT)\n",
        "X = df[['ODD', 'OVER', 'UNDER']]\n",
        "y = df['STRIKEOUT']\n",
        "\n",
        "# Split the data into training and testing sets (optional, but recommended)\n",
        "X_train, X_test, y_train, y_test = train_test_split(X, y, test_size=0.2, random_state=42)\n",
        "\n",
        "# Create and fit the Decision Tree Regression model\n",
        "tree_model = DecisionTreeRegressor(random_state=42)\n",
        "tree_model.fit(X_train, y_train)\n",
        "\n",
        "# Make predictions on the test set\n",
        "y_pred = tree_model.predict(X_test)\n",
        "\n",
        "# Evaluate the model (optional)\n",
        "mse = mean_squared_error(y_test, y_pred)\n",
        "print(f\"Mean Squared Error: {mse}\")\n",
        "\n",
        "# To make a prediction with new data\n",
        "new_data = pd.DataFrame({\n",
        "    'ODD': [4.5],\n",
        "    'OVER': [-100],\n",
        "    'UNDER': [-128]\n",
        "})\n",
        "\n",
        "\n",
        "predicted_strikeout = tree_model.predict(new_data)\n",
        "print(f\"Predicted Strikeout: {predicted_strikeout[0]}\")\n"
      ],
      "metadata": {
        "colab": {
          "base_uri": "https://localhost:8080/"
        },
        "outputId": "81d1305d-9fb5-4995-bb0a-5a7248cd52dc",
        "id": "XCUvldvHxVei"
      },
      "execution_count": 6,
      "outputs": [
        {
          "output_type": "stream",
          "name": "stdout",
          "text": [
            "Mean Squared Error: 8.5\n",
            "Predicted Strikeout: 9.0\n"
          ]
        }
      ]
    },
    {
      "cell_type": "markdown",
      "source": [
        "#ZACK WHEELER"
      ],
      "metadata": {
        "id": "vksShhrfyKBQ"
      }
    },
    {
      "cell_type": "code",
      "source": [],
      "metadata": {
        "id": "ZNp9RYCJyMOH"
      },
      "execution_count": null,
      "outputs": []
    },
    {
      "cell_type": "code",
      "source": [
        "# Import necessary libraries\n",
        "import pandas as pd\n",
        "from sklearn.tree import DecisionTreeRegressor\n",
        "from sklearn.model_selection import train_test_split\n",
        "from sklearn.metrics import mean_squared_error\n",
        "\n",
        "# Input data\n",
        "data = {\n",
        "    'ODD': [7.5, 6.5, 6.5, 6.5, 7.5, 6.5, 6.5, 6.5, 6.5, 7.5],\n",
        "    'OVER': [120, -148, 128, -122, 108, -146, -116, 115, -126, -132],\n",
        "    'UNDER': [-154, 116, -162, -104, -138, 114, -110, -150, -102, 104],\n",
        "    'STRIKEOUT': [6, 4, 4, 8, 5, 7, 7, 7, 6, 9]\n",
        "}\n",
        "\n",
        "# Convert to DataFrame\n",
        "df = pd.DataFrame(data)\n",
        "\n",
        "# Define independent variables (ODD, OVER, UNDER) and dependent variable (STRIKEOUT)\n",
        "X = df[['ODD', 'OVER', 'UNDER']]\n",
        "y = df['STRIKEOUT']\n",
        "\n",
        "# Split the data into training and testing sets (optional, but recommended)\n",
        "X_train, X_test, y_train, y_test = train_test_split(X, y, test_size=0.2, random_state=42)\n",
        "\n",
        "# Create and fit the Decision Tree Regression model\n",
        "tree_model = DecisionTreeRegressor(random_state=42)\n",
        "tree_model.fit(X_train, y_train)\n",
        "\n",
        "# Make predictions on the test set\n",
        "y_pred = tree_model.predict(X_test)\n",
        "\n",
        "# Evaluate the model (optional)\n",
        "mse = mean_squared_error(y_test, y_pred)\n",
        "print(f\"Mean Squared Error: {mse}\")\n",
        "\n",
        "# To make a prediction with new data\n",
        "new_data = pd.DataFrame({\n",
        "    'ODD': [5.5],\n",
        "    'OVER': [-128],\n",
        "    'UNDER': [-100]\n",
        "})\n",
        "\n",
        "\n",
        "predicted_strikeout = tree_model.predict(new_data)\n",
        "print(f\"Predicted Strikeout: {predicted_strikeout[0]}\")\n"
      ],
      "metadata": {
        "colab": {
          "base_uri": "https://localhost:8080/"
        },
        "outputId": "e7446d9f-ec7f-46b7-dc34-24eb8dcead11",
        "id": "UqbVSxT0yMcq"
      },
      "execution_count": 8,
      "outputs": [
        {
          "output_type": "stream",
          "name": "stdout",
          "text": [
            "Mean Squared Error: 6.5\n",
            "Predicted Strikeout: 8.0\n"
          ]
        }
      ]
    },
    {
      "cell_type": "markdown",
      "source": [],
      "metadata": {
        "id": "S2NjQKi4zY1l"
      }
    },
    {
      "cell_type": "markdown",
      "source": [
        "#JOSE QUINTANA"
      ],
      "metadata": {
        "id": "bL_DgyynzaBn"
      }
    },
    {
      "cell_type": "code",
      "source": [],
      "metadata": {
        "id": "SfevJvj6zbtK"
      },
      "execution_count": null,
      "outputs": []
    },
    {
      "cell_type": "code",
      "source": [
        "# Import necessary libraries\n",
        "import pandas as pd\n",
        "from sklearn.tree import DecisionTreeRegressor\n",
        "from sklearn.model_selection import train_test_split\n",
        "from sklearn.metrics import mean_squared_error\n",
        "\n",
        "# Input data\n",
        "data = {\n",
        "    \"ODD\": [3.5, 3.5, 4.5, 3.5, 3.5, 3.5, 5.5, 4.5, 4.5, 4.5],\n",
        "    \"OVER\": [-154, 116, 128, -140, -172, -154, 100, 120, 118, -130],\n",
        "    \"UNDER\": [120, -148, -164, 110, 134, 122, -130, -155, -150, 102],\n",
        "    \"STRIKEOUT\": [1, 6, 8, 7, 1, 5, 8, 6, 5, 4]\n",
        "}\n",
        "\n",
        "# Convert to DataFrame\n",
        "df = pd.DataFrame(data)\n",
        "\n",
        "# Define independent variables (ODD, OVER, UNDER) and dependent variable (STRIKEOUT)\n",
        "X = df[['ODD', 'OVER', 'UNDER']]\n",
        "y = df['STRIKEOUT']\n",
        "\n",
        "# Split the data into training and testing sets (optional, but recommended)\n",
        "X_train, X_test, y_train, y_test = train_test_split(X, y, test_size=0.2, random_state=42)\n",
        "\n",
        "# Create and fit the Decision Tree Regression model\n",
        "tree_model = DecisionTreeRegressor(random_state=42)\n",
        "tree_model.fit(X_train, y_train)\n",
        "\n",
        "# Make predictions on the test set\n",
        "y_pred = tree_model.predict(X_test)\n",
        "\n",
        "# Evaluate the model (optional)\n",
        "mse = mean_squared_error(y_test, y_pred)\n",
        "print(f\"Mean Squared Error: {mse}\")\n",
        "\n",
        "# To make a prediction with new data\n",
        "new_data = pd.DataFrame({\n",
        "    \"ODD\": [4.5],\n",
        "    \"OVER\": [-154],\n",
        "    \"UNDER\": [122]\n",
        "})\n",
        "\n",
        "\n",
        "predicted_strikeout = tree_model.predict(new_data)\n",
        "print(f\"Predicted Strikeout: {predicted_strikeout[0]}\")\n"
      ],
      "metadata": {
        "colab": {
          "base_uri": "https://localhost:8080/"
        },
        "outputId": "0008381b-bdec-408d-da12-b6470850e635",
        "id": "udK6QTjGzb59"
      },
      "execution_count": 9,
      "outputs": [
        {
          "output_type": "stream",
          "name": "stdout",
          "text": [
            "Mean Squared Error: 0.5\n",
            "Predicted Strikeout: 5.0\n"
          ]
        }
      ]
    },
    {
      "cell_type": "markdown",
      "source": [
        "#HITS"
      ],
      "metadata": {
        "id": "T9f_k0XP0IfP"
      }
    },
    {
      "cell_type": "code",
      "source": [
        "data = {\n",
        "    'ODD': [5.5, 4.5, 5.5, 5.5, 5.5, 5.5, 4.5, 5.5, 5.5, 5.5],\n",
        "    'OVER': [-140, -165, -125, -130, -125, -145, -175, 115, -110, -120],\n",
        "    'UNDER': [105, 125, -110, -105, -105, 105, 120, -160, -120, -110],\n",
        "    'STRIKEOUT': [6, 2, 4, 6, 4, 1, 6, 3, 5, 3]\n",
        "}"
      ],
      "metadata": {
        "id": "6VjJ-uMf0KLy"
      },
      "execution_count": null,
      "outputs": []
    },
    {
      "cell_type": "code",
      "source": [
        "# Import necessary libraries\n",
        "import pandas as pd\n",
        "from sklearn.tree import DecisionTreeRegressor\n",
        "from sklearn.model_selection import train_test_split\n",
        "from sklearn.metrics import mean_squared_error\n",
        "\n",
        "# Input data\n",
        "data = {\n",
        "    'ODD': [5.5, 4.5, 5.5, 5.5, 5.5, 5.5, 4.5, 5.5, 5.5, 5.5],\n",
        "    'OVER': [-140, -165, -125, -130, -125, -145, -175, 115, -110, -120],\n",
        "    'UNDER': [105, 125, -110, -105, -105, 105, 120, -160, -120, -110],\n",
        "    'STRIKEOUT': [6, 2, 4, 6, 4, 1, 6, 3, 5, 3]\n",
        "}\n",
        "\n",
        "# Convert to DataFrame\n",
        "df = pd.DataFrame(data)\n",
        "\n",
        "# Define independent variables (ODD, OVER, UNDER) and dependent variable (STRIKEOUT)\n",
        "X = df[['ODD', 'OVER', 'UNDER']]\n",
        "y = df['STRIKEOUT']\n",
        "\n",
        "# Split the data into training and testing sets (optional, but recommended)\n",
        "X_train, X_test, y_train, y_test = train_test_split(X, y, test_size=0.2, random_state=42)\n",
        "\n",
        "# Create and fit the Decision Tree Regression model\n",
        "tree_model = DecisionTreeRegressor(random_state=42)\n",
        "tree_model.fit(X_train, y_train)\n",
        "\n",
        "# Make predictions on the test set\n",
        "y_pred = tree_model.predict(X_test)\n",
        "\n",
        "# Evaluate the model (optional)\n",
        "mse = mean_squared_error(y_test, y_pred)\n",
        "print(f\"Mean Squared Error: {mse}\")\n",
        "\n",
        "# To make a prediction with new data\n",
        "new_data = pd.DataFrame({\n",
        "    \"ODD\": [5.5],\n",
        "    \"OVER\": [125],\n",
        "    \"UNDER\": [-180]\n",
        "})\n",
        "\n",
        "\n",
        "predicted_strikeout = tree_model.predict(new_data)\n",
        "print(f\"Predicted Strikeout: {predicted_strikeout[0]}\")\n"
      ],
      "metadata": {
        "colab": {
          "base_uri": "https://localhost:8080/"
        },
        "outputId": "609c6514-1103-4bdf-f4f5-f0601e3b4930",
        "id": "Kxpl3LTW0M8m"
      },
      "execution_count": 10,
      "outputs": [
        {
          "output_type": "stream",
          "name": "stdout",
          "text": [
            "Mean Squared Error: 10.0\n",
            "Predicted Strikeout: 3.0\n"
          ]
        }
      ]
    },
    {
      "cell_type": "markdown",
      "source": [
        "#MITCH KELLER WALK"
      ],
      "metadata": {
        "id": "rbYG4LPu1r7n"
      }
    },
    {
      "cell_type": "code",
      "source": [
        "data = {\n",
        "    'ODD': [1.5]*10,\n",
        "    'OVER': [-115, -110, 100, -155, -105, -105, 170, -105, -125, -125],\n",
        "    'UNDER': [-110, -120, -135, 115, -120, -125, -225, -125, -105, -105],\n",
        "    'STRIKEOUT': [2, 0, 2, 3, 0, 0, 3, 2, 2, 2]\n",
        "}"
      ],
      "metadata": {
        "id": "thgXeaul1t5p"
      },
      "execution_count": null,
      "outputs": []
    },
    {
      "cell_type": "code",
      "source": [
        "# Import necessary libraries\n",
        "import pandas as pd\n",
        "from sklearn.tree import DecisionTreeRegressor\n",
        "from sklearn.model_selection import train_test_split\n",
        "from sklearn.metrics import mean_squared_error\n",
        "\n",
        "# Input data\n",
        "data = {\n",
        "    'ODD': [1.5]*10,\n",
        "    'OVER': [-115, -110, 100, -155, -105, -105, 170, -105, -125, -125],\n",
        "    'UNDER': [-110, -120, -135, 115, -120, -125, -225, -125, -105, -105],\n",
        "    'STRIKEOUT': [2, 0, 2, 3, 0, 0, 3, 2, 2, 2]\n",
        "}\n",
        "\n",
        "# Convert to DataFrame\n",
        "df = pd.DataFrame(data)\n",
        "\n",
        "# Define independent variables (ODD, OVER, UNDER) and dependent variable (STRIKEOUT)\n",
        "X = df[['ODD', 'OVER', 'UNDER']]\n",
        "y = df['STRIKEOUT']\n",
        "\n",
        "# Split the data into training and testing sets (optional, but recommended)\n",
        "X_train, X_test, y_train, y_test = train_test_split(X, y, test_size=0.2, random_state=42)\n",
        "\n",
        "# Create and fit the Decision Tree Regression model\n",
        "tree_model = DecisionTreeRegressor(random_state=42)\n",
        "tree_model.fit(X_train, y_train)\n",
        "\n",
        "# Make predictions on the test set\n",
        "y_pred = tree_model.predict(X_test)\n",
        "\n",
        "# Evaluate the model (optional)\n",
        "mse = mean_squared_error(y_test, y_pred)\n",
        "print(f\"Mean Squared Error: {mse}\")\n",
        "\n",
        "# To make a prediction with new data\n",
        "new_data = pd.DataFrame({\n",
        "    \"ODD\": [1.5],\n",
        "    \"OVER\": [-115],\n",
        "    \"UNDER\": [-115]\n",
        "})\n",
        "\n",
        "\n",
        "predicted_strikeout = tree_model.predict(new_data)\n",
        "print(f\"Predicted Strikeout: {predicted_strikeout[0]}\")\n"
      ],
      "metadata": {
        "colab": {
          "base_uri": "https://localhost:8080/"
        },
        "outputId": "d685dce8-423c-47d7-b1f1-97866a0ad1c5",
        "id": "_7YKEToL1v5f"
      },
      "execution_count": 11,
      "outputs": [
        {
          "output_type": "stream",
          "name": "stdout",
          "text": [
            "Mean Squared Error: 2.0\n",
            "Predicted Strikeout: 2.0\n"
          ]
        }
      ]
    },
    {
      "cell_type": "markdown",
      "source": [
        "#EDWARD CABRERA"
      ],
      "metadata": {
        "id": "R5odFKBG3ha5"
      }
    },
    {
      "cell_type": "code",
      "source": [],
      "metadata": {
        "id": "7yRCwS6w3jcB"
      },
      "execution_count": null,
      "outputs": []
    },
    {
      "cell_type": "code",
      "source": [
        "# Import necessary libraries\n",
        "import pandas as pd\n",
        "from sklearn.tree import DecisionTreeRegressor\n",
        "from sklearn.model_selection import train_test_split\n",
        "from sklearn.metrics import mean_squared_error\n",
        "\n",
        "# Input data\n",
        "data = {\n",
        "    'ODD': [3.5, 4.5, 4.5, 4.5, 3.5, 3.5, 4.5, 4.5, 4.5, 4.5],\n",
        "    'OVER': [-145, 105, 100, -105, -115, -175, 115, 115, 125, 110],\n",
        "    'UNDER': [100, -150, -140, -135, -115, 125, -160, -160, -170, -150],\n",
        "    'STRIKEOUT': [7, 4, 3, 1, 4, 6, 5, 3, 3, 3]\n",
        "}\n",
        "\n",
        "# Convert to DataFrame\n",
        "df = pd.DataFrame(data)\n",
        "\n",
        "# Define independent variables (ODD, OVER, UNDER) and dependent variable (STRIKEOUT)\n",
        "X = df[['ODD', 'OVER', 'UNDER']]\n",
        "y = df['STRIKEOUT']\n",
        "\n",
        "# Split the data into training and testing sets (optional, but recommended)\n",
        "X_train, X_test, y_train, y_test = train_test_split(X, y, test_size=0.2, random_state=42)\n",
        "\n",
        "# Create and fit the Decision Tree Regression model\n",
        "tree_model = DecisionTreeRegressor(random_state=42)\n",
        "tree_model.fit(X_train, y_train)\n",
        "\n",
        "# Make predictions on the test set\n",
        "y_pred = tree_model.predict(X_test)\n",
        "\n",
        "# Evaluate the model (optional)\n",
        "mse = mean_squared_error(y_test, y_pred)\n",
        "print(f\"Mean Squared Error: {mse}\")\n",
        "\n",
        "# To make a prediction with new data\n",
        "new_data = pd.DataFrame({\n",
        "    'ODD': [4.5],\n",
        "    'OVER': [115],\n",
        "    'UNDER': [-170]\n",
        "})\n",
        "\n",
        "\n",
        "predicted_strikeout = tree_model.predict(new_data)\n",
        "print(f\"Predicted Strikeout: {predicted_strikeout[0]}\")\n"
      ],
      "metadata": {
        "colab": {
          "base_uri": "https://localhost:8080/"
        },
        "outputId": "8dbb385d-2abc-4460-d005-e1b587491d40",
        "id": "hEBNDG5H3k9d"
      },
      "execution_count": 12,
      "outputs": [
        {
          "output_type": "stream",
          "name": "stdout",
          "text": [
            "Mean Squared Error: 1.0\n",
            "Predicted Strikeout: 4.0\n"
          ]
        }
      ]
    },
    {
      "cell_type": "markdown",
      "source": [
        "#MITCH KELLER"
      ],
      "metadata": {
        "id": "_8JwwJnJ5TG5"
      }
    },
    {
      "cell_type": "code",
      "source": [],
      "metadata": {
        "id": "uLhRUTWt5Uyr"
      },
      "execution_count": null,
      "outputs": []
    },
    {
      "cell_type": "code",
      "source": [
        "# Import necessary libraries\n",
        "import pandas as pd\n",
        "from sklearn.tree import DecisionTreeRegressor\n",
        "from sklearn.model_selection import train_test_split\n",
        "from sklearn.metrics import mean_squared_error\n",
        "\n",
        "# Input data\n",
        "data = {\n",
        "    'ODD': [5.5, 5.5, 5.5, 5.5, 5.5, 5.5, 5.5, 5.5, 5.5, 5.5],\n",
        "    'OVER': [-115, -155, 100, -155, -120, -160, -110, -110, -140, -125],\n",
        "    'UNDER': [-115, 115, -140, 115, -110, 115, -130, -125, 105, -110],\n",
        "    'STRIKEOUT': [7, 8, 2, 6, 9, 7, 4, 6, 2, 1]\n",
        "}\n",
        "\n",
        "# Convert to DataFrame\n",
        "df = pd.DataFrame(data)\n",
        "\n",
        "# Define independent variables (ODD, OVER, UNDER) and dependent variable (STRIKEOUT)\n",
        "X = df[['ODD', 'OVER', 'UNDER']]\n",
        "y = df['STRIKEOUT']\n",
        "\n",
        "# Split the data into training and testing sets (optional, but recommended)\n",
        "X_train, X_test, y_train, y_test = train_test_split(X, y, test_size=0.2, random_state=42)\n",
        "\n",
        "# Create and fit the Decision Tree Regression model\n",
        "tree_model = DecisionTreeRegressor(random_state=42)\n",
        "tree_model.fit(X_train, y_train)\n",
        "\n",
        "# Make predictions on the test set\n",
        "y_pred = tree_model.predict(X_test)\n",
        "\n",
        "# Evaluate the model (optional)\n",
        "mse = mean_squared_error(y_test, y_pred)\n",
        "print(f\"Mean Squared Error: {mse}\")\n",
        "\n",
        "# To make a prediction with new data\n",
        "new_data = pd.DataFrame({\n",
        "    'ODD': [5.5],\n",
        "    'OVER': [-140],\n",
        "    'UNDER': [100]\n",
        "})\n",
        "\n",
        "\n",
        "predicted_strikeout = tree_model.predict(new_data)\n",
        "print(f\"Predicted Strikeout: {predicted_strikeout[0]}\")\n"
      ],
      "metadata": {
        "colab": {
          "base_uri": "https://localhost:8080/"
        },
        "outputId": "ce4cdd41-7d5b-4557-b94f-0d80a22bde9b",
        "id": "Bb7t6bu-5WPv"
      },
      "execution_count": 13,
      "outputs": [
        {
          "output_type": "stream",
          "name": "stdout",
          "text": [
            "Mean Squared Error: 10.0\n",
            "Predicted Strikeout: 6.0\n"
          ]
        }
      ]
    },
    {
      "cell_type": "markdown",
      "source": [
        "#logistic"
      ],
      "metadata": {
        "id": "5OV_vE8g4eMs"
      }
    },
    {
      "cell_type": "code",
      "source": [
        "import numpy as np\n",
        "import pandas as pd\n",
        "from sklearn.linear_model import LogisticRegression\n",
        "from sklearn.model_selection import train_test_split\n",
        "from sklearn.metrics import accuracy_score, classification_report\n",
        "\n",
        "# Data\n",
        "data = {\n",
        "    'Line': [-210, -196, -230, -104, -134, -142, -100, -116, -104, -120, -100, -104],\n",
        "    'Total': [10.5, 10, 9.5, 9, 8.5, 9.5, 9.5, 9.5, 9, 8.5, 10.5, 9.5],\n",
        "    'Result': [1, 0, 1, 1, 0, 1, 1, 1, 1, 0, 1, 1]\n",
        "}\n",
        "\n",
        "# Convert to DataFrame\n",
        "df = pd.DataFrame(data)\n",
        "\n",
        "# Features and target variable\n",
        "X = df[['Line', 'Total']]\n",
        "y = df['Result']\n",
        "\n",
        "# Split data into training and testing sets\n",
        "X_train, X_test, y_train, y_test = train_test_split(X, y, test_size=0.3, random_state=42)\n",
        "\n",
        "# Initialize logistic regression model\n",
        "model = LogisticRegression()\n",
        "\n",
        "# Train the model\n",
        "model.fit(X_train, y_train)\n",
        "\n",
        "# Predicting the test set results\n",
        "y_pred = model.predict(X_test)\n",
        "\n",
        "# Evaluate the model\n",
        "accuracy = accuracy_score(y_test, y_pred)\n",
        "classification_rep = classification_report(y_test, y_pred)\n",
        "\n",
        "accuracy, classification_rep\n"
      ],
      "metadata": {
        "colab": {
          "base_uri": "https://localhost:8080/"
        },
        "id": "9XIC1t6a4gsp",
        "outputId": "353b047d-b355-4fa7-d341-9dc9d9ee949b"
      },
      "execution_count": 1,
      "outputs": [
        {
          "output_type": "stream",
          "name": "stderr",
          "text": [
            "/usr/local/lib/python3.10/dist-packages/sklearn/metrics/_classification.py:1471: UndefinedMetricWarning: Precision and F-score are ill-defined and being set to 0.0 in labels with no predicted samples. Use `zero_division` parameter to control this behavior.\n",
            "  _warn_prf(average, modifier, msg_start, len(result))\n",
            "/usr/local/lib/python3.10/dist-packages/sklearn/metrics/_classification.py:1471: UndefinedMetricWarning: Precision and F-score are ill-defined and being set to 0.0 in labels with no predicted samples. Use `zero_division` parameter to control this behavior.\n",
            "  _warn_prf(average, modifier, msg_start, len(result))\n",
            "/usr/local/lib/python3.10/dist-packages/sklearn/metrics/_classification.py:1471: UndefinedMetricWarning: Precision and F-score are ill-defined and being set to 0.0 in labels with no predicted samples. Use `zero_division` parameter to control this behavior.\n",
            "  _warn_prf(average, modifier, msg_start, len(result))\n"
          ]
        },
        {
          "output_type": "execute_result",
          "data": {
            "text/plain": [
              "(0.75,\n",
              " '              precision    recall  f1-score   support\\n\\n           0       0.00      0.00      0.00         1\\n           1       0.75      1.00      0.86         3\\n\\n    accuracy                           0.75         4\\n   macro avg       0.38      0.50      0.43         4\\nweighted avg       0.56      0.75      0.64         4\\n')"
            ]
          },
          "metadata": {},
          "execution_count": 1
        }
      ]
    }
  ]
}