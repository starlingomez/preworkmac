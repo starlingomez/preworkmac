{
  "nbformat": 4,
  "nbformat_minor": 0,
  "metadata": {
    "colab": {
      "provenance": [],
      "authorship_tag": "ABX9TyMbpXytxnYylJcTkTkvw4xL",
      "include_colab_link": true
    },
    "kernelspec": {
      "name": "python3",
      "display_name": "Python 3"
    },
    "language_info": {
      "name": "python"
    }
  },
  "cells": [
    {
      "cell_type": "markdown",
      "metadata": {
        "id": "view-in-github",
        "colab_type": "text"
      },
      "source": [
        "<a href=\"https://colab.research.google.com/github/starlingomez/preworkmac/blob/master/JULY19TH.ipynb\" target=\"_parent\"><img src=\"https://colab.research.google.com/assets/colab-badge.svg\" alt=\"Open In Colab\"/></a>"
      ]
    },
    {
      "cell_type": "markdown",
      "source": [
        "# AARON NOLA"
      ],
      "metadata": {
        "id": "kGVciOUKBvH_"
      }
    },
    {
      "cell_type": "code",
      "source": [],
      "metadata": {
        "id": "fJq5IJk7BxIV"
      },
      "execution_count": null,
      "outputs": []
    },
    {
      "cell_type": "code",
      "source": [
        "import pandas as pd\n",
        "import statsmodels.api as sm\n",
        "\n",
        "# Define the data\n",
        "data = {\n",
        "    'LINE': [6.5, 6.5, 5.5, 5.5, 5.5, 5.5, 6.5, 6.5, 6.5, 5.5],\n",
        "    'OVER': [104, -104, -154, -146, 118, -150, 106, -128, 130, -156],\n",
        "    'UNDER': [-132, -122, 120, 114, -150, 118, -134, 102, -166, 122],\n",
        "    'STRIKEOUT': [9, 8, 9, 6, 6, 2, 5, 6, 5, 5]\n",
        "}\n",
        "\n",
        "# Create a DataFrame\n",
        "df = pd.DataFrame(data)\n",
        "\n",
        "# Define the independent variables and the dependent variable\n",
        "X = df[['LINE', 'OVER', 'UNDER']]\n",
        "y = df['STRIKEOUT']\n",
        "\n",
        "# Add a constant to the independent variables\n",
        "X = sm.add_constant(X)\n",
        "\n",
        "# Fit the linear regression model\n",
        "model = sm.OLS(y, X).fit()\n",
        "\n",
        "# Get the summary of the regression\n",
        "summary = model.summary()\n",
        "summary\n"
      ],
      "metadata": {
        "colab": {
          "base_uri": "https://localhost:8080/",
          "height": 554
        },
        "outputId": "6d942043-bcf3-4c72-914a-3eaae45f2d37",
        "id": "rgIzxy7G88YR"
      },
      "execution_count": 1,
      "outputs": [
        {
          "output_type": "stream",
          "name": "stderr",
          "text": [
            "/usr/local/lib/python3.10/dist-packages/scipy/stats/_stats_py.py:1806: UserWarning: kurtosistest only valid for n>=20 ... continuing anyway, n=10\n",
            "  warnings.warn(\"kurtosistest only valid for n>=20 ... continuing \"\n"
          ]
        },
        {
          "output_type": "execute_result",
          "data": {
            "text/plain": [
              "<class 'statsmodels.iolib.summary.Summary'>\n",
              "\"\"\"\n",
              "                            OLS Regression Results                            \n",
              "==============================================================================\n",
              "Dep. Variable:              STRIKEOUT   R-squared:                       0.122\n",
              "Model:                            OLS   Adj. R-squared:                 -0.317\n",
              "Method:                 Least Squares   F-statistic:                    0.2783\n",
              "Date:                Fri, 19 Jul 2024   Prob (F-statistic):              0.839\n",
              "Time:                        12:47:01   Log-Likelihood:                -20.581\n",
              "No. Observations:                  10   AIC:                             49.16\n",
              "Df Residuals:                       6   BIC:                             50.37\n",
              "Df Model:                           3                                         \n",
              "Covariance Type:            nonrobust                                         \n",
              "==============================================================================\n",
              "                 coef    std err          t      P>|t|      [0.025      0.975]\n",
              "------------------------------------------------------------------------------\n",
              "const          2.4981     11.701      0.213      0.838     -26.134      31.130\n",
              "LINE           0.5259      1.973      0.266      0.799      -4.303       5.355\n",
              "OVER          -0.0085      0.014     -0.608      0.566      -0.043       0.026\n",
              "UNDER         -0.0096      0.015     -0.636      0.548      -0.047       0.027\n",
              "==============================================================================\n",
              "Omnibus:                        0.474   Durbin-Watson:                   1.418\n",
              "Prob(Omnibus):                  0.789   Jarque-Bera (JB):                0.069\n",
              "Skew:                           0.170   Prob(JB):                        0.966\n",
              "Kurtosis:                       2.778   Cond. No.                     2.70e+03\n",
              "==============================================================================\n",
              "\n",
              "Notes:\n",
              "[1] Standard Errors assume that the covariance matrix of the errors is correctly specified.\n",
              "[2] The condition number is large, 2.7e+03. This might indicate that there are\n",
              "strong multicollinearity or other numerical problems.\n",
              "\"\"\""
            ],
            "text/html": [
              "<table class=\"simpletable\">\n",
              "<caption>OLS Regression Results</caption>\n",
              "<tr>\n",
              "  <th>Dep. Variable:</th>        <td>STRIKEOUT</td>    <th>  R-squared:         </th> <td>   0.122</td>\n",
              "</tr>\n",
              "<tr>\n",
              "  <th>Model:</th>                   <td>OLS</td>       <th>  Adj. R-squared:    </th> <td>  -0.317</td>\n",
              "</tr>\n",
              "<tr>\n",
              "  <th>Method:</th>             <td>Least Squares</td>  <th>  F-statistic:       </th> <td>  0.2783</td>\n",
              "</tr>\n",
              "<tr>\n",
              "  <th>Date:</th>             <td>Fri, 19 Jul 2024</td> <th>  Prob (F-statistic):</th>  <td> 0.839</td> \n",
              "</tr>\n",
              "<tr>\n",
              "  <th>Time:</th>                 <td>12:47:01</td>     <th>  Log-Likelihood:    </th> <td> -20.581</td>\n",
              "</tr>\n",
              "<tr>\n",
              "  <th>No. Observations:</th>      <td>    10</td>      <th>  AIC:               </th> <td>   49.16</td>\n",
              "</tr>\n",
              "<tr>\n",
              "  <th>Df Residuals:</th>          <td>     6</td>      <th>  BIC:               </th> <td>   50.37</td>\n",
              "</tr>\n",
              "<tr>\n",
              "  <th>Df Model:</th>              <td>     3</td>      <th>                     </th>     <td> </td>   \n",
              "</tr>\n",
              "<tr>\n",
              "  <th>Covariance Type:</th>      <td>nonrobust</td>    <th>                     </th>     <td> </td>   \n",
              "</tr>\n",
              "</table>\n",
              "<table class=\"simpletable\">\n",
              "<tr>\n",
              "    <td></td>       <th>coef</th>     <th>std err</th>      <th>t</th>      <th>P>|t|</th>  <th>[0.025</th>    <th>0.975]</th>  \n",
              "</tr>\n",
              "<tr>\n",
              "  <th>const</th> <td>    2.4981</td> <td>   11.701</td> <td>    0.213</td> <td> 0.838</td> <td>  -26.134</td> <td>   31.130</td>\n",
              "</tr>\n",
              "<tr>\n",
              "  <th>LINE</th>  <td>    0.5259</td> <td>    1.973</td> <td>    0.266</td> <td> 0.799</td> <td>   -4.303</td> <td>    5.355</td>\n",
              "</tr>\n",
              "<tr>\n",
              "  <th>OVER</th>  <td>   -0.0085</td> <td>    0.014</td> <td>   -0.608</td> <td> 0.566</td> <td>   -0.043</td> <td>    0.026</td>\n",
              "</tr>\n",
              "<tr>\n",
              "  <th>UNDER</th> <td>   -0.0096</td> <td>    0.015</td> <td>   -0.636</td> <td> 0.548</td> <td>   -0.047</td> <td>    0.027</td>\n",
              "</tr>\n",
              "</table>\n",
              "<table class=\"simpletable\">\n",
              "<tr>\n",
              "  <th>Omnibus:</th>       <td> 0.474</td> <th>  Durbin-Watson:     </th> <td>   1.418</td>\n",
              "</tr>\n",
              "<tr>\n",
              "  <th>Prob(Omnibus):</th> <td> 0.789</td> <th>  Jarque-Bera (JB):  </th> <td>   0.069</td>\n",
              "</tr>\n",
              "<tr>\n",
              "  <th>Skew:</th>          <td> 0.170</td> <th>  Prob(JB):          </th> <td>   0.966</td>\n",
              "</tr>\n",
              "<tr>\n",
              "  <th>Kurtosis:</th>      <td> 2.778</td> <th>  Cond. No.          </th> <td>2.70e+03</td>\n",
              "</tr>\n",
              "</table><br/><br/>Notes:<br/>[1] Standard Errors assume that the covariance matrix of the errors is correctly specified.<br/>[2] The condition number is large, 2.7e+03. This might indicate that there are<br/>strong multicollinearity or other numerical problems."
            ],
            "text/latex": "\\begin{center}\n\\begin{tabular}{lclc}\n\\toprule\n\\textbf{Dep. Variable:}    &    STRIKEOUT     & \\textbf{  R-squared:         } &     0.122   \\\\\n\\textbf{Model:}            &       OLS        & \\textbf{  Adj. R-squared:    } &    -0.317   \\\\\n\\textbf{Method:}           &  Least Squares   & \\textbf{  F-statistic:       } &    0.2783   \\\\\n\\textbf{Date:}             & Fri, 19 Jul 2024 & \\textbf{  Prob (F-statistic):} &    0.839    \\\\\n\\textbf{Time:}             &     12:47:01     & \\textbf{  Log-Likelihood:    } &   -20.581   \\\\\n\\textbf{No. Observations:} &          10      & \\textbf{  AIC:               } &     49.16   \\\\\n\\textbf{Df Residuals:}     &           6      & \\textbf{  BIC:               } &     50.37   \\\\\n\\textbf{Df Model:}         &           3      & \\textbf{                     } &             \\\\\n\\textbf{Covariance Type:}  &    nonrobust     & \\textbf{                     } &             \\\\\n\\bottomrule\n\\end{tabular}\n\\begin{tabular}{lcccccc}\n               & \\textbf{coef} & \\textbf{std err} & \\textbf{t} & \\textbf{P$> |$t$|$} & \\textbf{[0.025} & \\textbf{0.975]}  \\\\\n\\midrule\n\\textbf{const} &       2.4981  &       11.701     &     0.213  &         0.838        &      -26.134    &       31.130     \\\\\n\\textbf{LINE}  &       0.5259  &        1.973     &     0.266  &         0.799        &       -4.303    &        5.355     \\\\\n\\textbf{OVER}  &      -0.0085  &        0.014     &    -0.608  &         0.566        &       -0.043    &        0.026     \\\\\n\\textbf{UNDER} &      -0.0096  &        0.015     &    -0.636  &         0.548        &       -0.047    &        0.027     \\\\\n\\bottomrule\n\\end{tabular}\n\\begin{tabular}{lclc}\n\\textbf{Omnibus:}       &  0.474 & \\textbf{  Durbin-Watson:     } &    1.418  \\\\\n\\textbf{Prob(Omnibus):} &  0.789 & \\textbf{  Jarque-Bera (JB):  } &    0.069  \\\\\n\\textbf{Skew:}          &  0.170 & \\textbf{  Prob(JB):          } &    0.966  \\\\\n\\textbf{Kurtosis:}      &  2.778 & \\textbf{  Cond. No.          } & 2.70e+03  \\\\\n\\bottomrule\n\\end{tabular}\n%\\caption{OLS Regression Results}\n\\end{center}\n\nNotes: \\newline\n [1] Standard Errors assume that the covariance matrix of the errors is correctly specified. \\newline\n [2] The condition number is large, 2.7e+03. This might indicate that there are \\newline\n strong multicollinearity or other numerical problems."
          },
          "metadata": {},
          "execution_count": 1
        }
      ]
    },
    {
      "cell_type": "code",
      "source": [
        "# Define the new data point\n",
        "new_data = {\n",
        "    'const': 1,\n",
        "    'LINE': 6.5,\n",
        "    'OVER': 105,\n",
        "    'UNDER': -135\n",
        "}\n",
        "\n",
        "# Convert the new data point to a DataFrame\n",
        "new_df = pd.DataFrame([new_data])\n",
        "\n",
        "# Predict the total strikeout using the model\n",
        "predicted_strikeout = model.predict(new_df)\n",
        "predicted_strikeout\n"
      ],
      "metadata": {
        "colab": {
          "base_uri": "https://localhost:8080/"
        },
        "outputId": "9a546114-f286-4203-cc26-c3b2e14d02a1",
        "id": "rchrW7lh9MAj"
      },
      "execution_count": 2,
      "outputs": [
        {
          "output_type": "execute_result",
          "data": {
            "text/plain": [
              "0    6.317687\n",
              "dtype: float64"
            ]
          },
          "metadata": {},
          "execution_count": 2
        }
      ]
    },
    {
      "cell_type": "markdown",
      "source": [
        "#MARTIN PEREZ"
      ],
      "metadata": {
        "id": "3_24k3LYDWGG"
      }
    },
    {
      "cell_type": "code",
      "source": [],
      "metadata": {
        "id": "bq_mtKZODYcB"
      },
      "execution_count": null,
      "outputs": []
    },
    {
      "cell_type": "code",
      "source": [
        "import pandas as pd\n",
        "import statsmodels.api as sm\n",
        "\n",
        "# Define the data\n",
        "data = {\n",
        "    'LINE': [3.5, 3.5, 3.5, 3.5, 3.5, 4.5, 4.5, 4.5, 4.5, 4.5],\n",
        "    'OVER': [-113, -102, -113, -126, -156, 108, 126, -122, 118, -108],\n",
        "    'UNDER': [-113, -126, -113, -102, 122, -138, -160, -104, -150, -118],\n",
        "    'STRIKEOUT': [5, 2, 4, 2, 4, 4, 5, 4, 4, 7]\n",
        "}\n",
        "\n",
        "# Create a DataFrame\n",
        "df = pd.DataFrame(data)\n",
        "\n",
        "# Define the independent variables and the dependent variable\n",
        "X = df[['LINE', 'OVER', 'UNDER']]\n",
        "y = df['STRIKEOUT']\n",
        "\n",
        "# Add a constant to the independent variables\n",
        "X = sm.add_constant(X)\n",
        "\n",
        "# Fit the linear regression model\n",
        "model = sm.OLS(y, X).fit()\n",
        "\n",
        "# Get the summary of the regression\n",
        "summary = model.summary()\n",
        "summary\n"
      ],
      "metadata": {
        "colab": {
          "base_uri": "https://localhost:8080/",
          "height": 554
        },
        "outputId": "dae9ee3f-64b5-44e8-ef68-321af0bf636e",
        "id": "CFSa1B66Da2G"
      },
      "execution_count": 4,
      "outputs": [
        {
          "output_type": "stream",
          "name": "stderr",
          "text": [
            "/usr/local/lib/python3.10/dist-packages/scipy/stats/_stats_py.py:1806: UserWarning: kurtosistest only valid for n>=20 ... continuing anyway, n=10\n",
            "  warnings.warn(\"kurtosistest only valid for n>=20 ... continuing \"\n"
          ]
        },
        {
          "output_type": "execute_result",
          "data": {
            "text/plain": [
              "<class 'statsmodels.iolib.summary.Summary'>\n",
              "\"\"\"\n",
              "                            OLS Regression Results                            \n",
              "==============================================================================\n",
              "Dep. Variable:              STRIKEOUT   R-squared:                       0.347\n",
              "Model:                            OLS   Adj. R-squared:                  0.020\n",
              "Method:                 Least Squares   F-statistic:                     1.061\n",
              "Date:                Fri, 19 Jul 2024   Prob (F-statistic):              0.432\n",
              "Time:                        12:54:10   Log-Likelihood:                -15.244\n",
              "No. Observations:                  10   AIC:                             38.49\n",
              "Df Residuals:                       6   BIC:                             39.70\n",
              "Df Model:                           3                                         \n",
              "Covariance Type:            nonrobust                                         \n",
              "==============================================================================\n",
              "                 coef    std err          t      P>|t|      [0.025      0.975]\n",
              "------------------------------------------------------------------------------\n",
              "const         -4.5039      5.078     -0.887      0.409     -16.930       7.922\n",
              "LINE           2.1440      1.231      1.741      0.132      -0.869       5.157\n",
              "OVER          -0.0043      0.006     -0.719      0.499      -0.019       0.010\n",
              "UNDER          0.0018      0.007      0.254      0.808      -0.016       0.019\n",
              "==============================================================================\n",
              "Omnibus:                        1.326   Durbin-Watson:                   2.439\n",
              "Prob(Omnibus):                  0.515   Jarque-Bera (JB):                0.730\n",
              "Skew:                           0.172   Prob(JB):                        0.694\n",
              "Kurtosis:                       1.722   Cond. No.                     1.46e+03\n",
              "==============================================================================\n",
              "\n",
              "Notes:\n",
              "[1] Standard Errors assume that the covariance matrix of the errors is correctly specified.\n",
              "[2] The condition number is large, 1.46e+03. This might indicate that there are\n",
              "strong multicollinearity or other numerical problems.\n",
              "\"\"\""
            ],
            "text/html": [
              "<table class=\"simpletable\">\n",
              "<caption>OLS Regression Results</caption>\n",
              "<tr>\n",
              "  <th>Dep. Variable:</th>        <td>STRIKEOUT</td>    <th>  R-squared:         </th> <td>   0.347</td>\n",
              "</tr>\n",
              "<tr>\n",
              "  <th>Model:</th>                   <td>OLS</td>       <th>  Adj. R-squared:    </th> <td>   0.020</td>\n",
              "</tr>\n",
              "<tr>\n",
              "  <th>Method:</th>             <td>Least Squares</td>  <th>  F-statistic:       </th> <td>   1.061</td>\n",
              "</tr>\n",
              "<tr>\n",
              "  <th>Date:</th>             <td>Fri, 19 Jul 2024</td> <th>  Prob (F-statistic):</th>  <td> 0.432</td> \n",
              "</tr>\n",
              "<tr>\n",
              "  <th>Time:</th>                 <td>12:54:10</td>     <th>  Log-Likelihood:    </th> <td> -15.244</td>\n",
              "</tr>\n",
              "<tr>\n",
              "  <th>No. Observations:</th>      <td>    10</td>      <th>  AIC:               </th> <td>   38.49</td>\n",
              "</tr>\n",
              "<tr>\n",
              "  <th>Df Residuals:</th>          <td>     6</td>      <th>  BIC:               </th> <td>   39.70</td>\n",
              "</tr>\n",
              "<tr>\n",
              "  <th>Df Model:</th>              <td>     3</td>      <th>                     </th>     <td> </td>   \n",
              "</tr>\n",
              "<tr>\n",
              "  <th>Covariance Type:</th>      <td>nonrobust</td>    <th>                     </th>     <td> </td>   \n",
              "</tr>\n",
              "</table>\n",
              "<table class=\"simpletable\">\n",
              "<tr>\n",
              "    <td></td>       <th>coef</th>     <th>std err</th>      <th>t</th>      <th>P>|t|</th>  <th>[0.025</th>    <th>0.975]</th>  \n",
              "</tr>\n",
              "<tr>\n",
              "  <th>const</th> <td>   -4.5039</td> <td>    5.078</td> <td>   -0.887</td> <td> 0.409</td> <td>  -16.930</td> <td>    7.922</td>\n",
              "</tr>\n",
              "<tr>\n",
              "  <th>LINE</th>  <td>    2.1440</td> <td>    1.231</td> <td>    1.741</td> <td> 0.132</td> <td>   -0.869</td> <td>    5.157</td>\n",
              "</tr>\n",
              "<tr>\n",
              "  <th>OVER</th>  <td>   -0.0043</td> <td>    0.006</td> <td>   -0.719</td> <td> 0.499</td> <td>   -0.019</td> <td>    0.010</td>\n",
              "</tr>\n",
              "<tr>\n",
              "  <th>UNDER</th> <td>    0.0018</td> <td>    0.007</td> <td>    0.254</td> <td> 0.808</td> <td>   -0.016</td> <td>    0.019</td>\n",
              "</tr>\n",
              "</table>\n",
              "<table class=\"simpletable\">\n",
              "<tr>\n",
              "  <th>Omnibus:</th>       <td> 1.326</td> <th>  Durbin-Watson:     </th> <td>   2.439</td>\n",
              "</tr>\n",
              "<tr>\n",
              "  <th>Prob(Omnibus):</th> <td> 0.515</td> <th>  Jarque-Bera (JB):  </th> <td>   0.730</td>\n",
              "</tr>\n",
              "<tr>\n",
              "  <th>Skew:</th>          <td> 0.172</td> <th>  Prob(JB):          </th> <td>   0.694</td>\n",
              "</tr>\n",
              "<tr>\n",
              "  <th>Kurtosis:</th>      <td> 1.722</td> <th>  Cond. No.          </th> <td>1.46e+03</td>\n",
              "</tr>\n",
              "</table><br/><br/>Notes:<br/>[1] Standard Errors assume that the covariance matrix of the errors is correctly specified.<br/>[2] The condition number is large, 1.46e+03. This might indicate that there are<br/>strong multicollinearity or other numerical problems."
            ],
            "text/latex": "\\begin{center}\n\\begin{tabular}{lclc}\n\\toprule\n\\textbf{Dep. Variable:}    &    STRIKEOUT     & \\textbf{  R-squared:         } &     0.347   \\\\\n\\textbf{Model:}            &       OLS        & \\textbf{  Adj. R-squared:    } &     0.020   \\\\\n\\textbf{Method:}           &  Least Squares   & \\textbf{  F-statistic:       } &     1.061   \\\\\n\\textbf{Date:}             & Fri, 19 Jul 2024 & \\textbf{  Prob (F-statistic):} &    0.432    \\\\\n\\textbf{Time:}             &     12:54:10     & \\textbf{  Log-Likelihood:    } &   -15.244   \\\\\n\\textbf{No. Observations:} &          10      & \\textbf{  AIC:               } &     38.49   \\\\\n\\textbf{Df Residuals:}     &           6      & \\textbf{  BIC:               } &     39.70   \\\\\n\\textbf{Df Model:}         &           3      & \\textbf{                     } &             \\\\\n\\textbf{Covariance Type:}  &    nonrobust     & \\textbf{                     } &             \\\\\n\\bottomrule\n\\end{tabular}\n\\begin{tabular}{lcccccc}\n               & \\textbf{coef} & \\textbf{std err} & \\textbf{t} & \\textbf{P$> |$t$|$} & \\textbf{[0.025} & \\textbf{0.975]}  \\\\\n\\midrule\n\\textbf{const} &      -4.5039  &        5.078     &    -0.887  &         0.409        &      -16.930    &        7.922     \\\\\n\\textbf{LINE}  &       2.1440  &        1.231     &     1.741  &         0.132        &       -0.869    &        5.157     \\\\\n\\textbf{OVER}  &      -0.0043  &        0.006     &    -0.719  &         0.499        &       -0.019    &        0.010     \\\\\n\\textbf{UNDER} &       0.0018  &        0.007     &     0.254  &         0.808        &       -0.016    &        0.019     \\\\\n\\bottomrule\n\\end{tabular}\n\\begin{tabular}{lclc}\n\\textbf{Omnibus:}       &  1.326 & \\textbf{  Durbin-Watson:     } &    2.439  \\\\\n\\textbf{Prob(Omnibus):} &  0.515 & \\textbf{  Jarque-Bera (JB):  } &    0.730  \\\\\n\\textbf{Skew:}          &  0.172 & \\textbf{  Prob(JB):          } &    0.694  \\\\\n\\textbf{Kurtosis:}      &  1.722 & \\textbf{  Cond. No.          } & 1.46e+03  \\\\\n\\bottomrule\n\\end{tabular}\n%\\caption{OLS Regression Results}\n\\end{center}\n\nNotes: \\newline\n [1] Standard Errors assume that the covariance matrix of the errors is correctly specified. \\newline\n [2] The condition number is large, 1.46e+03. This might indicate that there are \\newline\n strong multicollinearity or other numerical problems."
          },
          "metadata": {},
          "execution_count": 4
        }
      ]
    },
    {
      "cell_type": "code",
      "source": [
        "# Define the new data point\n",
        "new_data = {\n",
        "    'const': 1,\n",
        "    'LINE': 3.5,\n",
        "    'OVER': -140,\n",
        "    'UNDER': +105\n",
        "}\n",
        "\n",
        "# Convert the new data point to a DataFrame\n",
        "new_df = pd.DataFrame([new_data])\n",
        "\n",
        "# Predict the total strikeout using the model\n",
        "predicted_strikeout = model.predict(new_df)\n",
        "predicted_strikeout\n"
      ],
      "metadata": {
        "colab": {
          "base_uri": "https://localhost:8080/"
        },
        "outputId": "af84967e-517f-43a5-db38-7bb53c850ba4",
        "id": "GK2HQsKEDeIM"
      },
      "execution_count": 5,
      "outputs": [
        {
          "output_type": "execute_result",
          "data": {
            "text/plain": [
              "0    3.783686\n",
              "dtype: float64"
            ]
          },
          "metadata": {},
          "execution_count": 5
        }
      ]
    },
    {
      "cell_type": "markdown",
      "source": [
        "#PATRICK CORBIN"
      ],
      "metadata": {
        "id": "YqNVPbkMEmWx"
      }
    },
    {
      "cell_type": "code",
      "source": [],
      "metadata": {
        "id": "Yo1yuWriEom-"
      },
      "execution_count": null,
      "outputs": []
    },
    {
      "cell_type": "code",
      "source": [
        "import pandas as pd\n",
        "import statsmodels.api as sm\n",
        "\n",
        "# Define the data\n",
        "data = {\n",
        "    'LINE': [3.5, 3.5, 3.5, 3.5, 3.5, 3.5, 3.5, 3.5, 4.5, 3.5],\n",
        "    'OVER': [-122, -106, -160, 120, 124, 106, -108, 106, 130, -100],\n",
        "    'UNDER': [-104, -122, 124, -154, -158, -136, -118, -136, -166, -128],\n",
        "    'STRIKEOUT': [5, 3, 5, 5, 7, 4, 3, 5, 4, 3]\n",
        "}\n",
        "# Create a DataFrame\n",
        "df = pd.DataFrame(data)\n",
        "\n",
        "# Define the independent variables and the dependent variable\n",
        "X = df[['LINE', 'OVER', 'UNDER']]\n",
        "y = df['STRIKEOUT']\n",
        "\n",
        "# Add a constant to the independent variables\n",
        "X = sm.add_constant(X)\n",
        "\n",
        "# Fit the linear regression model\n",
        "model = sm.OLS(y, X).fit()\n",
        "\n",
        "# Get the summary of the regression\n",
        "summary = model.summary()\n",
        "summary\n"
      ],
      "metadata": {
        "colab": {
          "base_uri": "https://localhost:8080/",
          "height": 554
        },
        "outputId": "732d74e4-3f11-4146-eae0-6f4a2120befa",
        "id": "MJINM_xQEqzL"
      },
      "execution_count": 14,
      "outputs": [
        {
          "output_type": "stream",
          "name": "stderr",
          "text": [
            "/usr/local/lib/python3.10/dist-packages/scipy/stats/_stats_py.py:1806: UserWarning: kurtosistest only valid for n>=20 ... continuing anyway, n=10\n",
            "  warnings.warn(\"kurtosistest only valid for n>=20 ... continuing \"\n"
          ]
        },
        {
          "output_type": "execute_result",
          "data": {
            "text/plain": [
              "<class 'statsmodels.iolib.summary.Summary'>\n",
              "\"\"\"\n",
              "                            OLS Regression Results                            \n",
              "==============================================================================\n",
              "Dep. Variable:              STRIKEOUT   R-squared:                       0.458\n",
              "Model:                            OLS   Adj. R-squared:                  0.186\n",
              "Method:                 Least Squares   F-statistic:                     1.687\n",
              "Date:                Fri, 19 Jul 2024   Prob (F-statistic):              0.268\n",
              "Time:                        13:06:19   Log-Likelihood:                -12.954\n",
              "No. Observations:                  10   AIC:                             33.91\n",
              "Df Residuals:                       6   BIC:                             35.12\n",
              "Df Model:                           3                                         \n",
              "Covariance Type:            nonrobust                                         \n",
              "==============================================================================\n",
              "                 coef    std err          t      P>|t|      [0.025      0.975]\n",
              "------------------------------------------------------------------------------\n",
              "const          9.7206      4.700      2.068      0.084      -1.781      21.222\n",
              "LINE          -1.2336      1.292     -0.955      0.377      -4.396       1.929\n",
              "OVER           0.0088      0.004      2.215      0.069      -0.001       0.019\n",
              "UNDER          0.0079      0.006      1.394      0.213      -0.006       0.022\n",
              "==============================================================================\n",
              "Omnibus:                        3.019   Durbin-Watson:                   2.351\n",
              "Prob(Omnibus):                  0.221   Jarque-Bera (JB):                1.425\n",
              "Skew:                           0.921   Prob(JB):                        0.490\n",
              "Kurtosis:                       2.831   Cond. No.                     2.02e+03\n",
              "==============================================================================\n",
              "\n",
              "Notes:\n",
              "[1] Standard Errors assume that the covariance matrix of the errors is correctly specified.\n",
              "[2] The condition number is large, 2.02e+03. This might indicate that there are\n",
              "strong multicollinearity or other numerical problems.\n",
              "\"\"\""
            ],
            "text/html": [
              "<table class=\"simpletable\">\n",
              "<caption>OLS Regression Results</caption>\n",
              "<tr>\n",
              "  <th>Dep. Variable:</th>        <td>STRIKEOUT</td>    <th>  R-squared:         </th> <td>   0.458</td>\n",
              "</tr>\n",
              "<tr>\n",
              "  <th>Model:</th>                   <td>OLS</td>       <th>  Adj. R-squared:    </th> <td>   0.186</td>\n",
              "</tr>\n",
              "<tr>\n",
              "  <th>Method:</th>             <td>Least Squares</td>  <th>  F-statistic:       </th> <td>   1.687</td>\n",
              "</tr>\n",
              "<tr>\n",
              "  <th>Date:</th>             <td>Fri, 19 Jul 2024</td> <th>  Prob (F-statistic):</th>  <td> 0.268</td> \n",
              "</tr>\n",
              "<tr>\n",
              "  <th>Time:</th>                 <td>13:06:19</td>     <th>  Log-Likelihood:    </th> <td> -12.954</td>\n",
              "</tr>\n",
              "<tr>\n",
              "  <th>No. Observations:</th>      <td>    10</td>      <th>  AIC:               </th> <td>   33.91</td>\n",
              "</tr>\n",
              "<tr>\n",
              "  <th>Df Residuals:</th>          <td>     6</td>      <th>  BIC:               </th> <td>   35.12</td>\n",
              "</tr>\n",
              "<tr>\n",
              "  <th>Df Model:</th>              <td>     3</td>      <th>                     </th>     <td> </td>   \n",
              "</tr>\n",
              "<tr>\n",
              "  <th>Covariance Type:</th>      <td>nonrobust</td>    <th>                     </th>     <td> </td>   \n",
              "</tr>\n",
              "</table>\n",
              "<table class=\"simpletable\">\n",
              "<tr>\n",
              "    <td></td>       <th>coef</th>     <th>std err</th>      <th>t</th>      <th>P>|t|</th>  <th>[0.025</th>    <th>0.975]</th>  \n",
              "</tr>\n",
              "<tr>\n",
              "  <th>const</th> <td>    9.7206</td> <td>    4.700</td> <td>    2.068</td> <td> 0.084</td> <td>   -1.781</td> <td>   21.222</td>\n",
              "</tr>\n",
              "<tr>\n",
              "  <th>LINE</th>  <td>   -1.2336</td> <td>    1.292</td> <td>   -0.955</td> <td> 0.377</td> <td>   -4.396</td> <td>    1.929</td>\n",
              "</tr>\n",
              "<tr>\n",
              "  <th>OVER</th>  <td>    0.0088</td> <td>    0.004</td> <td>    2.215</td> <td> 0.069</td> <td>   -0.001</td> <td>    0.019</td>\n",
              "</tr>\n",
              "<tr>\n",
              "  <th>UNDER</th> <td>    0.0079</td> <td>    0.006</td> <td>    1.394</td> <td> 0.213</td> <td>   -0.006</td> <td>    0.022</td>\n",
              "</tr>\n",
              "</table>\n",
              "<table class=\"simpletable\">\n",
              "<tr>\n",
              "  <th>Omnibus:</th>       <td> 3.019</td> <th>  Durbin-Watson:     </th> <td>   2.351</td>\n",
              "</tr>\n",
              "<tr>\n",
              "  <th>Prob(Omnibus):</th> <td> 0.221</td> <th>  Jarque-Bera (JB):  </th> <td>   1.425</td>\n",
              "</tr>\n",
              "<tr>\n",
              "  <th>Skew:</th>          <td> 0.921</td> <th>  Prob(JB):          </th> <td>   0.490</td>\n",
              "</tr>\n",
              "<tr>\n",
              "  <th>Kurtosis:</th>      <td> 2.831</td> <th>  Cond. No.          </th> <td>2.02e+03</td>\n",
              "</tr>\n",
              "</table><br/><br/>Notes:<br/>[1] Standard Errors assume that the covariance matrix of the errors is correctly specified.<br/>[2] The condition number is large, 2.02e+03. This might indicate that there are<br/>strong multicollinearity or other numerical problems."
            ],
            "text/latex": "\\begin{center}\n\\begin{tabular}{lclc}\n\\toprule\n\\textbf{Dep. Variable:}    &    STRIKEOUT     & \\textbf{  R-squared:         } &     0.458   \\\\\n\\textbf{Model:}            &       OLS        & \\textbf{  Adj. R-squared:    } &     0.186   \\\\\n\\textbf{Method:}           &  Least Squares   & \\textbf{  F-statistic:       } &     1.687   \\\\\n\\textbf{Date:}             & Fri, 19 Jul 2024 & \\textbf{  Prob (F-statistic):} &    0.268    \\\\\n\\textbf{Time:}             &     13:06:19     & \\textbf{  Log-Likelihood:    } &   -12.954   \\\\\n\\textbf{No. Observations:} &          10      & \\textbf{  AIC:               } &     33.91   \\\\\n\\textbf{Df Residuals:}     &           6      & \\textbf{  BIC:               } &     35.12   \\\\\n\\textbf{Df Model:}         &           3      & \\textbf{                     } &             \\\\\n\\textbf{Covariance Type:}  &    nonrobust     & \\textbf{                     } &             \\\\\n\\bottomrule\n\\end{tabular}\n\\begin{tabular}{lcccccc}\n               & \\textbf{coef} & \\textbf{std err} & \\textbf{t} & \\textbf{P$> |$t$|$} & \\textbf{[0.025} & \\textbf{0.975]}  \\\\\n\\midrule\n\\textbf{const} &       9.7206  &        4.700     &     2.068  &         0.084        &       -1.781    &       21.222     \\\\\n\\textbf{LINE}  &      -1.2336  &        1.292     &    -0.955  &         0.377        &       -4.396    &        1.929     \\\\\n\\textbf{OVER}  &       0.0088  &        0.004     &     2.215  &         0.069        &       -0.001    &        0.019     \\\\\n\\textbf{UNDER} &       0.0079  &        0.006     &     1.394  &         0.213        &       -0.006    &        0.022     \\\\\n\\bottomrule\n\\end{tabular}\n\\begin{tabular}{lclc}\n\\textbf{Omnibus:}       &  3.019 & \\textbf{  Durbin-Watson:     } &    2.351  \\\\\n\\textbf{Prob(Omnibus):} &  0.221 & \\textbf{  Jarque-Bera (JB):  } &    1.425  \\\\\n\\textbf{Skew:}          &  0.921 & \\textbf{  Prob(JB):          } &    0.490  \\\\\n\\textbf{Kurtosis:}      &  2.831 & \\textbf{  Cond. No.          } & 2.02e+03  \\\\\n\\bottomrule\n\\end{tabular}\n%\\caption{OLS Regression Results}\n\\end{center}\n\nNotes: \\newline\n [1] Standard Errors assume that the covariance matrix of the errors is correctly specified. \\newline\n [2] The condition number is large, 2.02e+03. This might indicate that there are \\newline\n strong multicollinearity or other numerical problems."
          },
          "metadata": {},
          "execution_count": 14
        }
      ]
    },
    {
      "cell_type": "code",
      "source": [
        "# Define the new data point\n",
        "new_data = {\n",
        "    'const': 1,\n",
        "    'LINE': 3.5,\n",
        "    'OVER': -165,\n",
        "    'UNDER': +130\n",
        "}\n",
        "\n",
        "# Convert the new data point to a DataFrame\n",
        "new_df = pd.DataFrame([new_data])\n",
        "\n",
        "# Predict the total strikeout using the model\n",
        "predicted_strikeout = model.predict(new_df)\n",
        "predicted_strikeout\n"
      ],
      "metadata": {
        "colab": {
          "base_uri": "https://localhost:8080/"
        },
        "outputId": "87acf998-4074-4a35-ebfc-7d97ea767daf",
        "id": "QmdCXULrE1A4"
      },
      "execution_count": 15,
      "outputs": [
        {
          "output_type": "execute_result",
          "data": {
            "text/plain": [
              "0    4.977868\n",
              "dtype: float64"
            ]
          },
          "metadata": {},
          "execution_count": 15
        }
      ]
    },
    {
      "cell_type": "markdown",
      "source": [
        "#ZACH EFLIN"
      ],
      "metadata": {
        "id": "lhTPoNP5Fv2c"
      }
    },
    {
      "cell_type": "code",
      "source": [],
      "metadata": {
        "id": "URuO7Ct0FzSq"
      },
      "execution_count": null,
      "outputs": []
    },
    {
      "cell_type": "code",
      "source": [
        "import pandas as pd\n",
        "import statsmodels.api as sm\n",
        "\n",
        "# Define the data\n",
        "data = {\n",
        "    'LINE': [5.5, 3.5, 4.5, 4.5, 4.5, 4.5, 3.5, 4.5, 5.5, 5.5],\n",
        "    'OVER': [120, -128, 104, -102, -100, -124, -120, -108, 116, 102],\n",
        "    'UNDER': [-152, -100, -130, -125, -128, -102, -106, -118, -148, -128],\n",
        "    'STRIKEOUT': [6, 3, 6, 6, 7, 3, 3, 3, 2, 3]\n",
        "}\n",
        "# Create a DataFrame\n",
        "df = pd.DataFrame(data)\n",
        "\n",
        "# Define the independent variables and the dependent variable\n",
        "X = df[['LINE', 'OVER', 'UNDER']]\n",
        "y = df['STRIKEOUT']\n",
        "\n",
        "# Add a constant to the independent variables\n",
        "X = sm.add_constant(X)\n",
        "\n",
        "# Fit the linear regression model\n",
        "model = sm.OLS(y, X).fit()\n",
        "\n",
        "# Get the summary of the regression\n",
        "summary = model.summary()\n",
        "summary\n"
      ],
      "metadata": {
        "colab": {
          "base_uri": "https://localhost:8080/",
          "height": 554
        },
        "outputId": "59da5652-d426-46c1-e390-769fb97107d8",
        "id": "qYpd4-VsFzf6"
      },
      "execution_count": 16,
      "outputs": [
        {
          "output_type": "stream",
          "name": "stderr",
          "text": [
            "/usr/local/lib/python3.10/dist-packages/scipy/stats/_stats_py.py:1806: UserWarning: kurtosistest only valid for n>=20 ... continuing anyway, n=10\n",
            "  warnings.warn(\"kurtosistest only valid for n>=20 ... continuing \"\n"
          ]
        },
        {
          "output_type": "execute_result",
          "data": {
            "text/plain": [
              "<class 'statsmodels.iolib.summary.Summary'>\n",
              "\"\"\"\n",
              "                            OLS Regression Results                            \n",
              "==============================================================================\n",
              "Dep. Variable:              STRIKEOUT   R-squared:                       0.339\n",
              "Model:                            OLS   Adj. R-squared:                  0.008\n",
              "Method:                 Least Squares   F-statistic:                     1.025\n",
              "Date:                Fri, 19 Jul 2024   Prob (F-statistic):              0.446\n",
              "Time:                        13:06:31   Log-Likelihood:                -17.547\n",
              "No. Observations:                  10   AIC:                             43.09\n",
              "Df Residuals:                       6   BIC:                             44.30\n",
              "Df Model:                           3                                         \n",
              "Covariance Type:            nonrobust                                         \n",
              "==============================================================================\n",
              "                 coef    std err          t      P>|t|      [0.025      0.975]\n",
              "------------------------------------------------------------------------------\n",
              "const         -4.5031      7.969     -0.565      0.593     -24.003      14.996\n",
              "LINE          -1.3781      1.567     -0.879      0.413      -5.213       2.457\n",
              "OVER          -0.0070      0.010     -0.730      0.493      -0.030       0.016\n",
              "UNDER         -0.1202      0.069     -1.739      0.133      -0.289       0.049\n",
              "==============================================================================\n",
              "Omnibus:                        1.262   Durbin-Watson:                   1.356\n",
              "Prob(Omnibus):                  0.532   Jarque-Bera (JB):                0.771\n",
              "Skew:                          -0.625   Prob(JB):                        0.680\n",
              "Kurtosis:                       2.464   Cond. No.                     1.78e+03\n",
              "==============================================================================\n",
              "\n",
              "Notes:\n",
              "[1] Standard Errors assume that the covariance matrix of the errors is correctly specified.\n",
              "[2] The condition number is large, 1.78e+03. This might indicate that there are\n",
              "strong multicollinearity or other numerical problems.\n",
              "\"\"\""
            ],
            "text/html": [
              "<table class=\"simpletable\">\n",
              "<caption>OLS Regression Results</caption>\n",
              "<tr>\n",
              "  <th>Dep. Variable:</th>        <td>STRIKEOUT</td>    <th>  R-squared:         </th> <td>   0.339</td>\n",
              "</tr>\n",
              "<tr>\n",
              "  <th>Model:</th>                   <td>OLS</td>       <th>  Adj. R-squared:    </th> <td>   0.008</td>\n",
              "</tr>\n",
              "<tr>\n",
              "  <th>Method:</th>             <td>Least Squares</td>  <th>  F-statistic:       </th> <td>   1.025</td>\n",
              "</tr>\n",
              "<tr>\n",
              "  <th>Date:</th>             <td>Fri, 19 Jul 2024</td> <th>  Prob (F-statistic):</th>  <td> 0.446</td> \n",
              "</tr>\n",
              "<tr>\n",
              "  <th>Time:</th>                 <td>13:06:31</td>     <th>  Log-Likelihood:    </th> <td> -17.547</td>\n",
              "</tr>\n",
              "<tr>\n",
              "  <th>No. Observations:</th>      <td>    10</td>      <th>  AIC:               </th> <td>   43.09</td>\n",
              "</tr>\n",
              "<tr>\n",
              "  <th>Df Residuals:</th>          <td>     6</td>      <th>  BIC:               </th> <td>   44.30</td>\n",
              "</tr>\n",
              "<tr>\n",
              "  <th>Df Model:</th>              <td>     3</td>      <th>                     </th>     <td> </td>   \n",
              "</tr>\n",
              "<tr>\n",
              "  <th>Covariance Type:</th>      <td>nonrobust</td>    <th>                     </th>     <td> </td>   \n",
              "</tr>\n",
              "</table>\n",
              "<table class=\"simpletable\">\n",
              "<tr>\n",
              "    <td></td>       <th>coef</th>     <th>std err</th>      <th>t</th>      <th>P>|t|</th>  <th>[0.025</th>    <th>0.975]</th>  \n",
              "</tr>\n",
              "<tr>\n",
              "  <th>const</th> <td>   -4.5031</td> <td>    7.969</td> <td>   -0.565</td> <td> 0.593</td> <td>  -24.003</td> <td>   14.996</td>\n",
              "</tr>\n",
              "<tr>\n",
              "  <th>LINE</th>  <td>   -1.3781</td> <td>    1.567</td> <td>   -0.879</td> <td> 0.413</td> <td>   -5.213</td> <td>    2.457</td>\n",
              "</tr>\n",
              "<tr>\n",
              "  <th>OVER</th>  <td>   -0.0070</td> <td>    0.010</td> <td>   -0.730</td> <td> 0.493</td> <td>   -0.030</td> <td>    0.016</td>\n",
              "</tr>\n",
              "<tr>\n",
              "  <th>UNDER</th> <td>   -0.1202</td> <td>    0.069</td> <td>   -1.739</td> <td> 0.133</td> <td>   -0.289</td> <td>    0.049</td>\n",
              "</tr>\n",
              "</table>\n",
              "<table class=\"simpletable\">\n",
              "<tr>\n",
              "  <th>Omnibus:</th>       <td> 1.262</td> <th>  Durbin-Watson:     </th> <td>   1.356</td>\n",
              "</tr>\n",
              "<tr>\n",
              "  <th>Prob(Omnibus):</th> <td> 0.532</td> <th>  Jarque-Bera (JB):  </th> <td>   0.771</td>\n",
              "</tr>\n",
              "<tr>\n",
              "  <th>Skew:</th>          <td>-0.625</td> <th>  Prob(JB):          </th> <td>   0.680</td>\n",
              "</tr>\n",
              "<tr>\n",
              "  <th>Kurtosis:</th>      <td> 2.464</td> <th>  Cond. No.          </th> <td>1.78e+03</td>\n",
              "</tr>\n",
              "</table><br/><br/>Notes:<br/>[1] Standard Errors assume that the covariance matrix of the errors is correctly specified.<br/>[2] The condition number is large, 1.78e+03. This might indicate that there are<br/>strong multicollinearity or other numerical problems."
            ],
            "text/latex": "\\begin{center}\n\\begin{tabular}{lclc}\n\\toprule\n\\textbf{Dep. Variable:}    &    STRIKEOUT     & \\textbf{  R-squared:         } &     0.339   \\\\\n\\textbf{Model:}            &       OLS        & \\textbf{  Adj. R-squared:    } &     0.008   \\\\\n\\textbf{Method:}           &  Least Squares   & \\textbf{  F-statistic:       } &     1.025   \\\\\n\\textbf{Date:}             & Fri, 19 Jul 2024 & \\textbf{  Prob (F-statistic):} &    0.446    \\\\\n\\textbf{Time:}             &     13:06:31     & \\textbf{  Log-Likelihood:    } &   -17.547   \\\\\n\\textbf{No. Observations:} &          10      & \\textbf{  AIC:               } &     43.09   \\\\\n\\textbf{Df Residuals:}     &           6      & \\textbf{  BIC:               } &     44.30   \\\\\n\\textbf{Df Model:}         &           3      & \\textbf{                     } &             \\\\\n\\textbf{Covariance Type:}  &    nonrobust     & \\textbf{                     } &             \\\\\n\\bottomrule\n\\end{tabular}\n\\begin{tabular}{lcccccc}\n               & \\textbf{coef} & \\textbf{std err} & \\textbf{t} & \\textbf{P$> |$t$|$} & \\textbf{[0.025} & \\textbf{0.975]}  \\\\\n\\midrule\n\\textbf{const} &      -4.5031  &        7.969     &    -0.565  &         0.593        &      -24.003    &       14.996     \\\\\n\\textbf{LINE}  &      -1.3781  &        1.567     &    -0.879  &         0.413        &       -5.213    &        2.457     \\\\\n\\textbf{OVER}  &      -0.0070  &        0.010     &    -0.730  &         0.493        &       -0.030    &        0.016     \\\\\n\\textbf{UNDER} &      -0.1202  &        0.069     &    -1.739  &         0.133        &       -0.289    &        0.049     \\\\\n\\bottomrule\n\\end{tabular}\n\\begin{tabular}{lclc}\n\\textbf{Omnibus:}       &  1.262 & \\textbf{  Durbin-Watson:     } &    1.356  \\\\\n\\textbf{Prob(Omnibus):} &  0.532 & \\textbf{  Jarque-Bera (JB):  } &    0.771  \\\\\n\\textbf{Skew:}          & -0.625 & \\textbf{  Prob(JB):          } &    0.680  \\\\\n\\textbf{Kurtosis:}      &  2.464 & \\textbf{  Cond. No.          } & 1.78e+03  \\\\\n\\bottomrule\n\\end{tabular}\n%\\caption{OLS Regression Results}\n\\end{center}\n\nNotes: \\newline\n [1] Standard Errors assume that the covariance matrix of the errors is correctly specified. \\newline\n [2] The condition number is large, 1.78e+03. This might indicate that there are \\newline\n strong multicollinearity or other numerical problems."
          },
          "metadata": {},
          "execution_count": 16
        }
      ]
    },
    {
      "cell_type": "code",
      "source": [
        "# Define the new data point\n",
        "new_data = {\n",
        "    'const': 1,\n",
        "    'LINE': 4.5,\n",
        "    'OVER': -145,\n",
        "    'UNDER': 110\n",
        "}\n",
        "\n",
        "# Convert the new data point to a DataFrame\n",
        "new_df = pd.DataFrame([new_data])\n",
        "\n",
        "# Predict the total strikeout using the model\n",
        "predicted_strikeout = model.predict(new_df)\n",
        "predicted_strikeout\n"
      ],
      "metadata": {
        "colab": {
          "base_uri": "https://localhost:8080/"
        },
        "outputId": "71cb328c-1d5c-485b-9537-9c9bf4df93c4",
        "id": "dhEUBlnBF31k"
      },
      "execution_count": 17,
      "outputs": [
        {
          "output_type": "execute_result",
          "data": {
            "text/plain": [
              "0   -22.91771\n",
              "dtype: float64"
            ]
          },
          "metadata": {},
          "execution_count": 17
        }
      ]
    },
    {
      "cell_type": "markdown",
      "source": [
        "#JACK FLAHERTY"
      ],
      "metadata": {
        "id": "OKbrEI3BGmrt"
      }
    },
    {
      "cell_type": "code",
      "source": [
        "import pandas as pd\n",
        "import statsmodels.api as sm\n",
        "\n",
        "# Define the data\n",
        "data = {\n",
        "    'LINE': [5.5, 6.5, 6.5, 5.5, 6.5, 7.5, 6.5, 5.5, 5.5, 5.5],\n",
        "    'OVER': [130, -158, -112, -100, 106, 126, 112, -146, -108, 110],\n",
        "    'UNDER': [-166, 124, -112, -128, -136, -162, -142, 114, -118, -140],\n",
        "    'STRIKEOUT': [4, 7, 8, 6, 4, 9, 9, 9, 7, 6]\n",
        "}\n",
        "# Create a DataFrame\n",
        "df = pd.DataFrame(data)\n",
        "\n",
        "# Define the independent variables and the dependent variable\n",
        "X = df[['LINE', 'OVER', 'UNDER']]\n",
        "y = df['STRIKEOUT']\n",
        "\n",
        "# Add a constant to the independent variables\n",
        "X = sm.add_constant(X)\n",
        "\n",
        "# Fit the linear regression model\n",
        "model = sm.OLS(y, X).fit()\n",
        "\n",
        "# Get the summary of the regression\n",
        "summary = model.summary()\n",
        "summary\n"
      ],
      "metadata": {
        "colab": {
          "base_uri": "https://localhost:8080/",
          "height": 554
        },
        "outputId": "f39b526d-073f-48b9-d81c-659d328d194f",
        "id": "GKxFwpMOHo9r"
      },
      "execution_count": 18,
      "outputs": [
        {
          "output_type": "stream",
          "name": "stderr",
          "text": [
            "/usr/local/lib/python3.10/dist-packages/scipy/stats/_stats_py.py:1806: UserWarning: kurtosistest only valid for n>=20 ... continuing anyway, n=10\n",
            "  warnings.warn(\"kurtosistest only valid for n>=20 ... continuing \"\n"
          ]
        },
        {
          "output_type": "execute_result",
          "data": {
            "text/plain": [
              "<class 'statsmodels.iolib.summary.Summary'>\n",
              "\"\"\"\n",
              "                            OLS Regression Results                            \n",
              "==============================================================================\n",
              "Dep. Variable:              STRIKEOUT   R-squared:                       0.339\n",
              "Model:                            OLS   Adj. R-squared:                  0.008\n",
              "Method:                 Least Squares   F-statistic:                     1.025\n",
              "Date:                Fri, 19 Jul 2024   Prob (F-statistic):              0.446\n",
              "Time:                        13:11:42   Log-Likelihood:                -17.547\n",
              "No. Observations:                  10   AIC:                             43.09\n",
              "Df Residuals:                       6   BIC:                             44.30\n",
              "Df Model:                           3                                         \n",
              "Covariance Type:            nonrobust                                         \n",
              "==============================================================================\n",
              "                 coef    std err          t      P>|t|      [0.025      0.975]\n",
              "------------------------------------------------------------------------------\n",
              "const         -4.5031      7.969     -0.565      0.593     -24.003      14.996\n",
              "LINE          -1.3781      1.567     -0.879      0.413      -5.213       2.457\n",
              "OVER          -0.0070      0.010     -0.730      0.493      -0.030       0.016\n",
              "UNDER         -0.1202      0.069     -1.739      0.133      -0.289       0.049\n",
              "==============================================================================\n",
              "Omnibus:                        1.262   Durbin-Watson:                   1.356\n",
              "Prob(Omnibus):                  0.532   Jarque-Bera (JB):                0.771\n",
              "Skew:                          -0.625   Prob(JB):                        0.680\n",
              "Kurtosis:                       2.464   Cond. No.                     1.78e+03\n",
              "==============================================================================\n",
              "\n",
              "Notes:\n",
              "[1] Standard Errors assume that the covariance matrix of the errors is correctly specified.\n",
              "[2] The condition number is large, 1.78e+03. This might indicate that there are\n",
              "strong multicollinearity or other numerical problems.\n",
              "\"\"\""
            ],
            "text/html": [
              "<table class=\"simpletable\">\n",
              "<caption>OLS Regression Results</caption>\n",
              "<tr>\n",
              "  <th>Dep. Variable:</th>        <td>STRIKEOUT</td>    <th>  R-squared:         </th> <td>   0.339</td>\n",
              "</tr>\n",
              "<tr>\n",
              "  <th>Model:</th>                   <td>OLS</td>       <th>  Adj. R-squared:    </th> <td>   0.008</td>\n",
              "</tr>\n",
              "<tr>\n",
              "  <th>Method:</th>             <td>Least Squares</td>  <th>  F-statistic:       </th> <td>   1.025</td>\n",
              "</tr>\n",
              "<tr>\n",
              "  <th>Date:</th>             <td>Fri, 19 Jul 2024</td> <th>  Prob (F-statistic):</th>  <td> 0.446</td> \n",
              "</tr>\n",
              "<tr>\n",
              "  <th>Time:</th>                 <td>13:11:42</td>     <th>  Log-Likelihood:    </th> <td> -17.547</td>\n",
              "</tr>\n",
              "<tr>\n",
              "  <th>No. Observations:</th>      <td>    10</td>      <th>  AIC:               </th> <td>   43.09</td>\n",
              "</tr>\n",
              "<tr>\n",
              "  <th>Df Residuals:</th>          <td>     6</td>      <th>  BIC:               </th> <td>   44.30</td>\n",
              "</tr>\n",
              "<tr>\n",
              "  <th>Df Model:</th>              <td>     3</td>      <th>                     </th>     <td> </td>   \n",
              "</tr>\n",
              "<tr>\n",
              "  <th>Covariance Type:</th>      <td>nonrobust</td>    <th>                     </th>     <td> </td>   \n",
              "</tr>\n",
              "</table>\n",
              "<table class=\"simpletable\">\n",
              "<tr>\n",
              "    <td></td>       <th>coef</th>     <th>std err</th>      <th>t</th>      <th>P>|t|</th>  <th>[0.025</th>    <th>0.975]</th>  \n",
              "</tr>\n",
              "<tr>\n",
              "  <th>const</th> <td>   -4.5031</td> <td>    7.969</td> <td>   -0.565</td> <td> 0.593</td> <td>  -24.003</td> <td>   14.996</td>\n",
              "</tr>\n",
              "<tr>\n",
              "  <th>LINE</th>  <td>   -1.3781</td> <td>    1.567</td> <td>   -0.879</td> <td> 0.413</td> <td>   -5.213</td> <td>    2.457</td>\n",
              "</tr>\n",
              "<tr>\n",
              "  <th>OVER</th>  <td>   -0.0070</td> <td>    0.010</td> <td>   -0.730</td> <td> 0.493</td> <td>   -0.030</td> <td>    0.016</td>\n",
              "</tr>\n",
              "<tr>\n",
              "  <th>UNDER</th> <td>   -0.1202</td> <td>    0.069</td> <td>   -1.739</td> <td> 0.133</td> <td>   -0.289</td> <td>    0.049</td>\n",
              "</tr>\n",
              "</table>\n",
              "<table class=\"simpletable\">\n",
              "<tr>\n",
              "  <th>Omnibus:</th>       <td> 1.262</td> <th>  Durbin-Watson:     </th> <td>   1.356</td>\n",
              "</tr>\n",
              "<tr>\n",
              "  <th>Prob(Omnibus):</th> <td> 0.532</td> <th>  Jarque-Bera (JB):  </th> <td>   0.771</td>\n",
              "</tr>\n",
              "<tr>\n",
              "  <th>Skew:</th>          <td>-0.625</td> <th>  Prob(JB):          </th> <td>   0.680</td>\n",
              "</tr>\n",
              "<tr>\n",
              "  <th>Kurtosis:</th>      <td> 2.464</td> <th>  Cond. No.          </th> <td>1.78e+03</td>\n",
              "</tr>\n",
              "</table><br/><br/>Notes:<br/>[1] Standard Errors assume that the covariance matrix of the errors is correctly specified.<br/>[2] The condition number is large, 1.78e+03. This might indicate that there are<br/>strong multicollinearity or other numerical problems."
            ],
            "text/latex": "\\begin{center}\n\\begin{tabular}{lclc}\n\\toprule\n\\textbf{Dep. Variable:}    &    STRIKEOUT     & \\textbf{  R-squared:         } &     0.339   \\\\\n\\textbf{Model:}            &       OLS        & \\textbf{  Adj. R-squared:    } &     0.008   \\\\\n\\textbf{Method:}           &  Least Squares   & \\textbf{  F-statistic:       } &     1.025   \\\\\n\\textbf{Date:}             & Fri, 19 Jul 2024 & \\textbf{  Prob (F-statistic):} &    0.446    \\\\\n\\textbf{Time:}             &     13:11:42     & \\textbf{  Log-Likelihood:    } &   -17.547   \\\\\n\\textbf{No. Observations:} &          10      & \\textbf{  AIC:               } &     43.09   \\\\\n\\textbf{Df Residuals:}     &           6      & \\textbf{  BIC:               } &     44.30   \\\\\n\\textbf{Df Model:}         &           3      & \\textbf{                     } &             \\\\\n\\textbf{Covariance Type:}  &    nonrobust     & \\textbf{                     } &             \\\\\n\\bottomrule\n\\end{tabular}\n\\begin{tabular}{lcccccc}\n               & \\textbf{coef} & \\textbf{std err} & \\textbf{t} & \\textbf{P$> |$t$|$} & \\textbf{[0.025} & \\textbf{0.975]}  \\\\\n\\midrule\n\\textbf{const} &      -4.5031  &        7.969     &    -0.565  &         0.593        &      -24.003    &       14.996     \\\\\n\\textbf{LINE}  &      -1.3781  &        1.567     &    -0.879  &         0.413        &       -5.213    &        2.457     \\\\\n\\textbf{OVER}  &      -0.0070  &        0.010     &    -0.730  &         0.493        &       -0.030    &        0.016     \\\\\n\\textbf{UNDER} &      -0.1202  &        0.069     &    -1.739  &         0.133        &       -0.289    &        0.049     \\\\\n\\bottomrule\n\\end{tabular}\n\\begin{tabular}{lclc}\n\\textbf{Omnibus:}       &  1.262 & \\textbf{  Durbin-Watson:     } &    1.356  \\\\\n\\textbf{Prob(Omnibus):} &  0.532 & \\textbf{  Jarque-Bera (JB):  } &    0.771  \\\\\n\\textbf{Skew:}          & -0.625 & \\textbf{  Prob(JB):          } &    0.680  \\\\\n\\textbf{Kurtosis:}      &  2.464 & \\textbf{  Cond. No.          } & 1.78e+03  \\\\\n\\bottomrule\n\\end{tabular}\n%\\caption{OLS Regression Results}\n\\end{center}\n\nNotes: \\newline\n [1] Standard Errors assume that the covariance matrix of the errors is correctly specified. \\newline\n [2] The condition number is large, 1.78e+03. This might indicate that there are \\newline\n strong multicollinearity or other numerical problems."
          },
          "metadata": {},
          "execution_count": 18
        }
      ]
    },
    {
      "cell_type": "code",
      "source": [],
      "metadata": {
        "id": "7UVKX72qIJ87"
      },
      "execution_count": null,
      "outputs": []
    },
    {
      "cell_type": "code",
      "source": [
        "# Define the new data point\n",
        "new_data = {\n",
        "    'const': 1,\n",
        "    'LINE': 5.5,\n",
        "    'OVER': -110,\n",
        "    'UNDER': -115\n",
        "}\n",
        "\n",
        "# Convert the new data point to a DataFrame\n",
        "new_df = pd.DataFrame([new_data])\n",
        "\n",
        "# Predict the total strikeout using the model\n",
        "predicted_strikeout = model.predict(new_df)\n",
        "predicted_strikeout\n"
      ],
      "metadata": {
        "colab": {
          "base_uri": "https://localhost:8080/"
        },
        "outputId": "ee98fe36-3deb-47df-cbfa-84f47af61d10",
        "id": "MEfKSNh2IKLr"
      },
      "execution_count": 19,
      "outputs": [
        {
          "output_type": "execute_result",
          "data": {
            "text/plain": [
              "0    2.515152\n",
              "dtype: float64"
            ]
          },
          "metadata": {},
          "execution_count": 19
        }
      ]
    },
    {
      "cell_type": "markdown",
      "source": [
        "#SEAN MANAEA"
      ],
      "metadata": {
        "id": "235m68qcJIhv"
      }
    },
    {
      "cell_type": "code",
      "source": [],
      "metadata": {
        "id": "MTdRvuZcJLIZ"
      },
      "execution_count": null,
      "outputs": []
    },
    {
      "cell_type": "code",
      "source": [
        "import pandas as pd\n",
        "import statsmodels.api as sm\n",
        "\n",
        "# Define the data\n",
        "data = {\n",
        "    'LINE': [6.5, 5.5, 4.5, 5.5, 5.5, 4.5, 5.5, 4.5, 4.5, 4.5],\n",
        "    'OVER': [110, -100, 102, 102, 126, 104, 128, -152, -130, -158],\n",
        "    'UNDER': [-145, -128, -130, -128, -162, -130, -164, 120, 104, 124],\n",
        "    'STRIKEOUT': [9, 6, 5, 3, 6, 7, 3, 10, 6, 4]\n",
        "}\n",
        "# Create a DataFrame\n",
        "df = pd.DataFrame(data)\n",
        "\n",
        "# Define the independent variables and the dependent variable\n",
        "X = df[['LINE', 'OVER', 'UNDER']]\n",
        "y = df['STRIKEOUT']\n",
        "\n",
        "# Add a constant to the independent variables\n",
        "X = sm.add_constant(X)\n",
        "\n",
        "# Fit the linear regression model\n",
        "model = sm.OLS(y, X).fit()\n",
        "\n",
        "# Get the summary of the regression\n",
        "summary = model.summary()\n",
        "summary\n"
      ],
      "metadata": {
        "colab": {
          "base_uri": "https://localhost:8080/",
          "height": 554
        },
        "outputId": "6714cbb4-1d3c-4250-c1ad-9284becb792d",
        "id": "NpsDWJGhJLaV"
      },
      "execution_count": 20,
      "outputs": [
        {
          "output_type": "stream",
          "name": "stderr",
          "text": [
            "/usr/local/lib/python3.10/dist-packages/scipy/stats/_stats_py.py:1806: UserWarning: kurtosistest only valid for n>=20 ... continuing anyway, n=10\n",
            "  warnings.warn(\"kurtosistest only valid for n>=20 ... continuing \"\n"
          ]
        },
        {
          "output_type": "execute_result",
          "data": {
            "text/plain": [
              "<class 'statsmodels.iolib.summary.Summary'>\n",
              "\"\"\"\n",
              "                            OLS Regression Results                            \n",
              "==============================================================================\n",
              "Dep. Variable:              STRIKEOUT   R-squared:                       0.111\n",
              "Model:                            OLS   Adj. R-squared:                 -0.334\n",
              "Method:                 Least Squares   F-statistic:                    0.2494\n",
              "Date:                Fri, 19 Jul 2024   Prob (F-statistic):              0.859\n",
              "Time:                        13:20:28   Log-Likelihood:                -21.538\n",
              "No. Observations:                  10   AIC:                             51.08\n",
              "Df Residuals:                       6   BIC:                             52.29\n",
              "Df Model:                           3                                         \n",
              "Covariance Type:            nonrobust                                         \n",
              "==============================================================================\n",
              "                 coef    std err          t      P>|t|      [0.025      0.975]\n",
              "------------------------------------------------------------------------------\n",
              "const          1.3123      8.068      0.163      0.876     -18.430      21.054\n",
              "LINE           0.9866      1.657      0.595      0.573      -3.069       5.042\n",
              "OVER          -0.0012      0.015     -0.079      0.940      -0.037       0.035\n",
              "UNDER          0.0067      0.017      0.395      0.706      -0.035       0.048\n",
              "==============================================================================\n",
              "Omnibus:                        1.214   Durbin-Watson:                   2.380\n",
              "Prob(Omnibus):                  0.545   Jarque-Bera (JB):                0.677\n",
              "Skew:                           0.019   Prob(JB):                        0.713\n",
              "Kurtosis:                       1.726   Cond. No.                     1.68e+03\n",
              "==============================================================================\n",
              "\n",
              "Notes:\n",
              "[1] Standard Errors assume that the covariance matrix of the errors is correctly specified.\n",
              "[2] The condition number is large, 1.68e+03. This might indicate that there are\n",
              "strong multicollinearity or other numerical problems.\n",
              "\"\"\""
            ],
            "text/html": [
              "<table class=\"simpletable\">\n",
              "<caption>OLS Regression Results</caption>\n",
              "<tr>\n",
              "  <th>Dep. Variable:</th>        <td>STRIKEOUT</td>    <th>  R-squared:         </th> <td>   0.111</td>\n",
              "</tr>\n",
              "<tr>\n",
              "  <th>Model:</th>                   <td>OLS</td>       <th>  Adj. R-squared:    </th> <td>  -0.334</td>\n",
              "</tr>\n",
              "<tr>\n",
              "  <th>Method:</th>             <td>Least Squares</td>  <th>  F-statistic:       </th> <td>  0.2494</td>\n",
              "</tr>\n",
              "<tr>\n",
              "  <th>Date:</th>             <td>Fri, 19 Jul 2024</td> <th>  Prob (F-statistic):</th>  <td> 0.859</td> \n",
              "</tr>\n",
              "<tr>\n",
              "  <th>Time:</th>                 <td>13:20:28</td>     <th>  Log-Likelihood:    </th> <td> -21.538</td>\n",
              "</tr>\n",
              "<tr>\n",
              "  <th>No. Observations:</th>      <td>    10</td>      <th>  AIC:               </th> <td>   51.08</td>\n",
              "</tr>\n",
              "<tr>\n",
              "  <th>Df Residuals:</th>          <td>     6</td>      <th>  BIC:               </th> <td>   52.29</td>\n",
              "</tr>\n",
              "<tr>\n",
              "  <th>Df Model:</th>              <td>     3</td>      <th>                     </th>     <td> </td>   \n",
              "</tr>\n",
              "<tr>\n",
              "  <th>Covariance Type:</th>      <td>nonrobust</td>    <th>                     </th>     <td> </td>   \n",
              "</tr>\n",
              "</table>\n",
              "<table class=\"simpletable\">\n",
              "<tr>\n",
              "    <td></td>       <th>coef</th>     <th>std err</th>      <th>t</th>      <th>P>|t|</th>  <th>[0.025</th>    <th>0.975]</th>  \n",
              "</tr>\n",
              "<tr>\n",
              "  <th>const</th> <td>    1.3123</td> <td>    8.068</td> <td>    0.163</td> <td> 0.876</td> <td>  -18.430</td> <td>   21.054</td>\n",
              "</tr>\n",
              "<tr>\n",
              "  <th>LINE</th>  <td>    0.9866</td> <td>    1.657</td> <td>    0.595</td> <td> 0.573</td> <td>   -3.069</td> <td>    5.042</td>\n",
              "</tr>\n",
              "<tr>\n",
              "  <th>OVER</th>  <td>   -0.0012</td> <td>    0.015</td> <td>   -0.079</td> <td> 0.940</td> <td>   -0.037</td> <td>    0.035</td>\n",
              "</tr>\n",
              "<tr>\n",
              "  <th>UNDER</th> <td>    0.0067</td> <td>    0.017</td> <td>    0.395</td> <td> 0.706</td> <td>   -0.035</td> <td>    0.048</td>\n",
              "</tr>\n",
              "</table>\n",
              "<table class=\"simpletable\">\n",
              "<tr>\n",
              "  <th>Omnibus:</th>       <td> 1.214</td> <th>  Durbin-Watson:     </th> <td>   2.380</td>\n",
              "</tr>\n",
              "<tr>\n",
              "  <th>Prob(Omnibus):</th> <td> 0.545</td> <th>  Jarque-Bera (JB):  </th> <td>   0.677</td>\n",
              "</tr>\n",
              "<tr>\n",
              "  <th>Skew:</th>          <td> 0.019</td> <th>  Prob(JB):          </th> <td>   0.713</td>\n",
              "</tr>\n",
              "<tr>\n",
              "  <th>Kurtosis:</th>      <td> 1.726</td> <th>  Cond. No.          </th> <td>1.68e+03</td>\n",
              "</tr>\n",
              "</table><br/><br/>Notes:<br/>[1] Standard Errors assume that the covariance matrix of the errors is correctly specified.<br/>[2] The condition number is large, 1.68e+03. This might indicate that there are<br/>strong multicollinearity or other numerical problems."
            ],
            "text/latex": "\\begin{center}\n\\begin{tabular}{lclc}\n\\toprule\n\\textbf{Dep. Variable:}    &    STRIKEOUT     & \\textbf{  R-squared:         } &     0.111   \\\\\n\\textbf{Model:}            &       OLS        & \\textbf{  Adj. R-squared:    } &    -0.334   \\\\\n\\textbf{Method:}           &  Least Squares   & \\textbf{  F-statistic:       } &    0.2494   \\\\\n\\textbf{Date:}             & Fri, 19 Jul 2024 & \\textbf{  Prob (F-statistic):} &    0.859    \\\\\n\\textbf{Time:}             &     13:20:28     & \\textbf{  Log-Likelihood:    } &   -21.538   \\\\\n\\textbf{No. Observations:} &          10      & \\textbf{  AIC:               } &     51.08   \\\\\n\\textbf{Df Residuals:}     &           6      & \\textbf{  BIC:               } &     52.29   \\\\\n\\textbf{Df Model:}         &           3      & \\textbf{                     } &             \\\\\n\\textbf{Covariance Type:}  &    nonrobust     & \\textbf{                     } &             \\\\\n\\bottomrule\n\\end{tabular}\n\\begin{tabular}{lcccccc}\n               & \\textbf{coef} & \\textbf{std err} & \\textbf{t} & \\textbf{P$> |$t$|$} & \\textbf{[0.025} & \\textbf{0.975]}  \\\\\n\\midrule\n\\textbf{const} &       1.3123  &        8.068     &     0.163  &         0.876        &      -18.430    &       21.054     \\\\\n\\textbf{LINE}  &       0.9866  &        1.657     &     0.595  &         0.573        &       -3.069    &        5.042     \\\\\n\\textbf{OVER}  &      -0.0012  &        0.015     &    -0.079  &         0.940        &       -0.037    &        0.035     \\\\\n\\textbf{UNDER} &       0.0067  &        0.017     &     0.395  &         0.706        &       -0.035    &        0.048     \\\\\n\\bottomrule\n\\end{tabular}\n\\begin{tabular}{lclc}\n\\textbf{Omnibus:}       &  1.214 & \\textbf{  Durbin-Watson:     } &    2.380  \\\\\n\\textbf{Prob(Omnibus):} &  0.545 & \\textbf{  Jarque-Bera (JB):  } &    0.677  \\\\\n\\textbf{Skew:}          &  0.019 & \\textbf{  Prob(JB):          } &    0.713  \\\\\n\\textbf{Kurtosis:}      &  1.726 & \\textbf{  Cond. No.          } & 1.68e+03  \\\\\n\\bottomrule\n\\end{tabular}\n%\\caption{OLS Regression Results}\n\\end{center}\n\nNotes: \\newline\n [1] Standard Errors assume that the covariance matrix of the errors is correctly specified. \\newline\n [2] The condition number is large, 1.68e+03. This might indicate that there are \\newline\n strong multicollinearity or other numerical problems."
          },
          "metadata": {},
          "execution_count": 20
        }
      ]
    },
    {
      "cell_type": "code",
      "source": [
        "# Define the new data point\n",
        "new_data = {\n",
        "    'const': 1,\n",
        "    'LINE': 5.5,\n",
        "    'OVER': -110,\n",
        "    'UNDER': -115\n",
        "}\n",
        "\n",
        "# Convert the new data point to a DataFrame\n",
        "new_df = pd.DataFrame([new_data])\n",
        "\n",
        "# Predict the total strikeout using the model\n",
        "predicted_strikeout = model.predict(new_df)\n",
        "predicted_strikeout\n"
      ],
      "metadata": {
        "colab": {
          "base_uri": "https://localhost:8080/"
        },
        "outputId": "75e6e812-28c5-40d1-8d44-ea9487747b97",
        "id": "9D5AeSUQJpIX"
      },
      "execution_count": 21,
      "outputs": [
        {
          "output_type": "execute_result",
          "data": {
            "text/plain": [
              "0    6.095751\n",
              "dtype: float64"
            ]
          },
          "metadata": {},
          "execution_count": 21
        }
      ]
    },
    {
      "cell_type": "markdown",
      "source": [
        "#EDWARD CABRERA"
      ],
      "metadata": {
        "id": "nfqeKiPkKvpc"
      }
    },
    {
      "cell_type": "code",
      "source": [],
      "metadata": {
        "id": "jm7M63FlK0mq"
      },
      "execution_count": null,
      "outputs": []
    },
    {
      "cell_type": "code",
      "source": [
        "import pandas as pd\n",
        "import statsmodels.api as sm\n",
        "\n",
        "# Define the data\n",
        "data = {\n",
        "    'LINE': [6.5, 5.5, 5.5, 6.5, 5.5, 5.5, 5.5, 5.5, 5.5, 5.5],\n",
        "    'OVER': [130, -110, 122, -138, -100, -154, 126, -135, 115, -106],\n",
        "    'UNDER': [-175, -116, -156, 108, -128, 120, -160, 105, -145, -118],\n",
        "    'STRIKEOUT': [7, 4, 1, 9, 4, 7, 10, 3, 5, 4]\n",
        "}\n",
        "# Create a DataFrame\n",
        "df = pd.DataFrame(data)\n",
        "\n",
        "# Define the independent variables and the dependent variable\n",
        "X = df[['LINE', 'OVER', 'UNDER']]\n",
        "y = df['STRIKEOUT']\n",
        "\n",
        "# Add a constant to the independent variables\n",
        "X = sm.add_constant(X)\n",
        "\n",
        "# Fit the linear regression model\n",
        "model = sm.OLS(y, X).fit()\n",
        "\n",
        "# Get the summary of the regression\n",
        "summary = model.summary()\n",
        "summary\n"
      ],
      "metadata": {
        "colab": {
          "base_uri": "https://localhost:8080/",
          "height": 554
        },
        "outputId": "71274ba2-94e4-4786-90d6-9990b4af20db",
        "id": "ccRfg1HQK03L"
      },
      "execution_count": 24,
      "outputs": [
        {
          "output_type": "stream",
          "name": "stderr",
          "text": [
            "/usr/local/lib/python3.10/dist-packages/scipy/stats/_stats_py.py:1806: UserWarning: kurtosistest only valid for n>=20 ... continuing anyway, n=10\n",
            "  warnings.warn(\"kurtosistest only valid for n>=20 ... continuing \"\n"
          ]
        },
        {
          "output_type": "execute_result",
          "data": {
            "text/plain": [
              "<class 'statsmodels.iolib.summary.Summary'>\n",
              "\"\"\"\n",
              "                            OLS Regression Results                            \n",
              "==============================================================================\n",
              "Dep. Variable:              STRIKEOUT   R-squared:                       0.283\n",
              "Model:                            OLS   Adj. R-squared:                 -0.076\n",
              "Method:                 Least Squares   F-statistic:                    0.7875\n",
              "Date:                Fri, 19 Jul 2024   Prob (F-statistic):              0.543\n",
              "Time:                        13:28:13   Log-Likelihood:                -22.287\n",
              "No. Observations:                  10   AIC:                             52.57\n",
              "Df Residuals:                       6   BIC:                             53.79\n",
              "Df Model:                           3                                         \n",
              "Covariance Type:            nonrobust                                         \n",
              "==============================================================================\n",
              "                 coef    std err          t      P>|t|      [0.025      0.975]\n",
              "------------------------------------------------------------------------------\n",
              "const         -9.9994     14.130     -0.708      0.506     -44.575      24.576\n",
              "LINE           2.8090      2.412      1.165      0.288      -3.093       8.711\n",
              "OVER           0.0057      0.011      0.498      0.636      -0.022       0.034\n",
              "UNDER          0.0071      0.012      0.590      0.577      -0.022       0.036\n",
              "==============================================================================\n",
              "Omnibus:                        2.541   Durbin-Watson:                   2.265\n",
              "Prob(Omnibus):                  0.281   Jarque-Bera (JB):                0.412\n",
              "Skew:                           0.402   Prob(JB):                        0.814\n",
              "Kurtosis:                       3.585   Cond. No.                     2.51e+03\n",
              "==============================================================================\n",
              "\n",
              "Notes:\n",
              "[1] Standard Errors assume that the covariance matrix of the errors is correctly specified.\n",
              "[2] The condition number is large, 2.51e+03. This might indicate that there are\n",
              "strong multicollinearity or other numerical problems.\n",
              "\"\"\""
            ],
            "text/html": [
              "<table class=\"simpletable\">\n",
              "<caption>OLS Regression Results</caption>\n",
              "<tr>\n",
              "  <th>Dep. Variable:</th>        <td>STRIKEOUT</td>    <th>  R-squared:         </th> <td>   0.283</td>\n",
              "</tr>\n",
              "<tr>\n",
              "  <th>Model:</th>                   <td>OLS</td>       <th>  Adj. R-squared:    </th> <td>  -0.076</td>\n",
              "</tr>\n",
              "<tr>\n",
              "  <th>Method:</th>             <td>Least Squares</td>  <th>  F-statistic:       </th> <td>  0.7875</td>\n",
              "</tr>\n",
              "<tr>\n",
              "  <th>Date:</th>             <td>Fri, 19 Jul 2024</td> <th>  Prob (F-statistic):</th>  <td> 0.543</td> \n",
              "</tr>\n",
              "<tr>\n",
              "  <th>Time:</th>                 <td>13:28:13</td>     <th>  Log-Likelihood:    </th> <td> -22.287</td>\n",
              "</tr>\n",
              "<tr>\n",
              "  <th>No. Observations:</th>      <td>    10</td>      <th>  AIC:               </th> <td>   52.57</td>\n",
              "</tr>\n",
              "<tr>\n",
              "  <th>Df Residuals:</th>          <td>     6</td>      <th>  BIC:               </th> <td>   53.79</td>\n",
              "</tr>\n",
              "<tr>\n",
              "  <th>Df Model:</th>              <td>     3</td>      <th>                     </th>     <td> </td>   \n",
              "</tr>\n",
              "<tr>\n",
              "  <th>Covariance Type:</th>      <td>nonrobust</td>    <th>                     </th>     <td> </td>   \n",
              "</tr>\n",
              "</table>\n",
              "<table class=\"simpletable\">\n",
              "<tr>\n",
              "    <td></td>       <th>coef</th>     <th>std err</th>      <th>t</th>      <th>P>|t|</th>  <th>[0.025</th>    <th>0.975]</th>  \n",
              "</tr>\n",
              "<tr>\n",
              "  <th>const</th> <td>   -9.9994</td> <td>   14.130</td> <td>   -0.708</td> <td> 0.506</td> <td>  -44.575</td> <td>   24.576</td>\n",
              "</tr>\n",
              "<tr>\n",
              "  <th>LINE</th>  <td>    2.8090</td> <td>    2.412</td> <td>    1.165</td> <td> 0.288</td> <td>   -3.093</td> <td>    8.711</td>\n",
              "</tr>\n",
              "<tr>\n",
              "  <th>OVER</th>  <td>    0.0057</td> <td>    0.011</td> <td>    0.498</td> <td> 0.636</td> <td>   -0.022</td> <td>    0.034</td>\n",
              "</tr>\n",
              "<tr>\n",
              "  <th>UNDER</th> <td>    0.0071</td> <td>    0.012</td> <td>    0.590</td> <td> 0.577</td> <td>   -0.022</td> <td>    0.036</td>\n",
              "</tr>\n",
              "</table>\n",
              "<table class=\"simpletable\">\n",
              "<tr>\n",
              "  <th>Omnibus:</th>       <td> 2.541</td> <th>  Durbin-Watson:     </th> <td>   2.265</td>\n",
              "</tr>\n",
              "<tr>\n",
              "  <th>Prob(Omnibus):</th> <td> 0.281</td> <th>  Jarque-Bera (JB):  </th> <td>   0.412</td>\n",
              "</tr>\n",
              "<tr>\n",
              "  <th>Skew:</th>          <td> 0.402</td> <th>  Prob(JB):          </th> <td>   0.814</td>\n",
              "</tr>\n",
              "<tr>\n",
              "  <th>Kurtosis:</th>      <td> 3.585</td> <th>  Cond. No.          </th> <td>2.51e+03</td>\n",
              "</tr>\n",
              "</table><br/><br/>Notes:<br/>[1] Standard Errors assume that the covariance matrix of the errors is correctly specified.<br/>[2] The condition number is large, 2.51e+03. This might indicate that there are<br/>strong multicollinearity or other numerical problems."
            ],
            "text/latex": "\\begin{center}\n\\begin{tabular}{lclc}\n\\toprule\n\\textbf{Dep. Variable:}    &    STRIKEOUT     & \\textbf{  R-squared:         } &     0.283   \\\\\n\\textbf{Model:}            &       OLS        & \\textbf{  Adj. R-squared:    } &    -0.076   \\\\\n\\textbf{Method:}           &  Least Squares   & \\textbf{  F-statistic:       } &    0.7875   \\\\\n\\textbf{Date:}             & Fri, 19 Jul 2024 & \\textbf{  Prob (F-statistic):} &    0.543    \\\\\n\\textbf{Time:}             &     13:28:13     & \\textbf{  Log-Likelihood:    } &   -22.287   \\\\\n\\textbf{No. Observations:} &          10      & \\textbf{  AIC:               } &     52.57   \\\\\n\\textbf{Df Residuals:}     &           6      & \\textbf{  BIC:               } &     53.79   \\\\\n\\textbf{Df Model:}         &           3      & \\textbf{                     } &             \\\\\n\\textbf{Covariance Type:}  &    nonrobust     & \\textbf{                     } &             \\\\\n\\bottomrule\n\\end{tabular}\n\\begin{tabular}{lcccccc}\n               & \\textbf{coef} & \\textbf{std err} & \\textbf{t} & \\textbf{P$> |$t$|$} & \\textbf{[0.025} & \\textbf{0.975]}  \\\\\n\\midrule\n\\textbf{const} &      -9.9994  &       14.130     &    -0.708  &         0.506        &      -44.575    &       24.576     \\\\\n\\textbf{LINE}  &       2.8090  &        2.412     &     1.165  &         0.288        &       -3.093    &        8.711     \\\\\n\\textbf{OVER}  &       0.0057  &        0.011     &     0.498  &         0.636        &       -0.022    &        0.034     \\\\\n\\textbf{UNDER} &       0.0071  &        0.012     &     0.590  &         0.577        &       -0.022    &        0.036     \\\\\n\\bottomrule\n\\end{tabular}\n\\begin{tabular}{lclc}\n\\textbf{Omnibus:}       &  2.541 & \\textbf{  Durbin-Watson:     } &    2.265  \\\\\n\\textbf{Prob(Omnibus):} &  0.281 & \\textbf{  Jarque-Bera (JB):  } &    0.412  \\\\\n\\textbf{Skew:}          &  0.402 & \\textbf{  Prob(JB):          } &    0.814  \\\\\n\\textbf{Kurtosis:}      &  3.585 & \\textbf{  Cond. No.          } & 2.51e+03  \\\\\n\\bottomrule\n\\end{tabular}\n%\\caption{OLS Regression Results}\n\\end{center}\n\nNotes: \\newline\n [1] Standard Errors assume that the covariance matrix of the errors is correctly specified. \\newline\n [2] The condition number is large, 2.51e+03. This might indicate that there are \\newline\n strong multicollinearity or other numerical problems."
          },
          "metadata": {},
          "execution_count": 24
        }
      ]
    },
    {
      "cell_type": "code",
      "source": [
        "# Define the new data point\n",
        "new_data = {\n",
        "    'const': 1,\n",
        "    'LINE': 5.5,\n",
        "    'OVER': -115,\n",
        "    'UNDER': -115\n",
        "}\n",
        "\n",
        "# Convert the new data point to a DataFrame\n",
        "new_df = pd.DataFrame([new_data])\n",
        "\n",
        "# Predict the total strikeout using the model\n",
        "predicted_strikeout = model.predict(new_df)\n",
        "predicted_strikeout\n"
      ],
      "metadata": {
        "colab": {
          "base_uri": "https://localhost:8080/"
        },
        "outputId": "9f9e9a4d-2682-45ea-881a-47894ca80973",
        "id": "eocdPxFeLBx7"
      },
      "execution_count": 25,
      "outputs": [
        {
          "output_type": "execute_result",
          "data": {
            "text/plain": [
              "0    3.982472\n",
              "dtype: float64"
            ]
          },
          "metadata": {},
          "execution_count": 25
        }
      ]
    },
    {
      "cell_type": "markdown",
      "source": [
        "#TANNER BIBEE"
      ],
      "metadata": {
        "id": "HEqBQPOUMDjg"
      }
    },
    {
      "cell_type": "code",
      "source": [],
      "metadata": {
        "id": "gXTsklyKNV9f"
      },
      "execution_count": null,
      "outputs": []
    },
    {
      "cell_type": "code",
      "source": [
        "import pandas as pd\n",
        "import statsmodels.api as sm\n",
        "\n",
        "# Define the data\n",
        "data = {\n",
        "    \"LINE\": [6.5, 6.5, 5.5, 5.5, 6.5, 6.5, 5.5, 5.5, 5.5, 5.5],\n",
        "    \"OVER\": [112, -156, 102, -120, -102, 114, -130, -136, -142, -128],\n",
        "    \"UNDER\": [-140, 122, -130, -106, -124, -146, 102, 108, 112, -100],\n",
        "    \"STRIKEOUT\": [8, 6, 3, 7, 12, 11, 7, 7, 6, 8]\n",
        "}\n",
        "# Create a DataFrame\n",
        "df = pd.DataFrame(data)\n",
        "\n",
        "# Define the independent variables and the dependent variable\n",
        "X = df[['LINE', 'OVER', 'UNDER']]\n",
        "y = df['STRIKEOUT']\n",
        "\n",
        "# Add a constant to the independent variables\n",
        "X = sm.add_constant(X)\n",
        "\n",
        "# Fit the linear regression model\n",
        "model = sm.OLS(y, X).fit()\n",
        "\n",
        "# Get the summary of the regression\n",
        "summary = model.summary()\n",
        "summary\n"
      ],
      "metadata": {
        "colab": {
          "base_uri": "https://localhost:8080/",
          "height": 554
        },
        "outputId": "1c8fc6ae-ea09-46d3-d018-bf606de1c790",
        "id": "BvYUH36wNYS_"
      },
      "execution_count": 26,
      "outputs": [
        {
          "output_type": "stream",
          "name": "stderr",
          "text": [
            "/usr/local/lib/python3.10/dist-packages/scipy/stats/_stats_py.py:1806: UserWarning: kurtosistest only valid for n>=20 ... continuing anyway, n=10\n",
            "  warnings.warn(\"kurtosistest only valid for n>=20 ... continuing \"\n"
          ]
        },
        {
          "output_type": "execute_result",
          "data": {
            "text/plain": [
              "<class 'statsmodels.iolib.summary.Summary'>\n",
              "\"\"\"\n",
              "                            OLS Regression Results                            \n",
              "==============================================================================\n",
              "Dep. Variable:              STRIKEOUT   R-squared:                       0.560\n",
              "Model:                            OLS   Adj. R-squared:                  0.340\n",
              "Method:                 Least Squares   F-statistic:                     2.546\n",
              "Date:                Fri, 19 Jul 2024   Prob (F-statistic):              0.152\n",
              "Time:                        13:36:58   Log-Likelihood:                -18.916\n",
              "No. Observations:                  10   AIC:                             45.83\n",
              "Df Residuals:                       6   BIC:                             47.04\n",
              "Df Model:                           3                                         \n",
              "Covariance Type:            nonrobust                                         \n",
              "==============================================================================\n",
              "                 coef    std err          t      P>|t|      [0.025      0.975]\n",
              "------------------------------------------------------------------------------\n",
              "const        -12.3208      8.672     -1.421      0.205     -33.541       8.899\n",
              "LINE           3.1705      1.443      2.197      0.070      -0.361       6.702\n",
              "OVER          -0.0129      0.008     -1.539      0.175      -0.033       0.008\n",
              "UNDER         -0.0119      0.008     -1.541      0.174      -0.031       0.007\n",
              "==============================================================================\n",
              "Omnibus:                        0.560   Durbin-Watson:                   0.605\n",
              "Prob(Omnibus):                  0.756   Jarque-Bera (JB):                0.562\n",
              "Skew:                          -0.383   Prob(JB):                        0.755\n",
              "Kurtosis:                       2.126   Cond. No.                     2.00e+03\n",
              "==============================================================================\n",
              "\n",
              "Notes:\n",
              "[1] Standard Errors assume that the covariance matrix of the errors is correctly specified.\n",
              "[2] The condition number is large,  2e+03. This might indicate that there are\n",
              "strong multicollinearity or other numerical problems.\n",
              "\"\"\""
            ],
            "text/html": [
              "<table class=\"simpletable\">\n",
              "<caption>OLS Regression Results</caption>\n",
              "<tr>\n",
              "  <th>Dep. Variable:</th>        <td>STRIKEOUT</td>    <th>  R-squared:         </th> <td>   0.560</td>\n",
              "</tr>\n",
              "<tr>\n",
              "  <th>Model:</th>                   <td>OLS</td>       <th>  Adj. R-squared:    </th> <td>   0.340</td>\n",
              "</tr>\n",
              "<tr>\n",
              "  <th>Method:</th>             <td>Least Squares</td>  <th>  F-statistic:       </th> <td>   2.546</td>\n",
              "</tr>\n",
              "<tr>\n",
              "  <th>Date:</th>             <td>Fri, 19 Jul 2024</td> <th>  Prob (F-statistic):</th>  <td> 0.152</td> \n",
              "</tr>\n",
              "<tr>\n",
              "  <th>Time:</th>                 <td>13:36:58</td>     <th>  Log-Likelihood:    </th> <td> -18.916</td>\n",
              "</tr>\n",
              "<tr>\n",
              "  <th>No. Observations:</th>      <td>    10</td>      <th>  AIC:               </th> <td>   45.83</td>\n",
              "</tr>\n",
              "<tr>\n",
              "  <th>Df Residuals:</th>          <td>     6</td>      <th>  BIC:               </th> <td>   47.04</td>\n",
              "</tr>\n",
              "<tr>\n",
              "  <th>Df Model:</th>              <td>     3</td>      <th>                     </th>     <td> </td>   \n",
              "</tr>\n",
              "<tr>\n",
              "  <th>Covariance Type:</th>      <td>nonrobust</td>    <th>                     </th>     <td> </td>   \n",
              "</tr>\n",
              "</table>\n",
              "<table class=\"simpletable\">\n",
              "<tr>\n",
              "    <td></td>       <th>coef</th>     <th>std err</th>      <th>t</th>      <th>P>|t|</th>  <th>[0.025</th>    <th>0.975]</th>  \n",
              "</tr>\n",
              "<tr>\n",
              "  <th>const</th> <td>  -12.3208</td> <td>    8.672</td> <td>   -1.421</td> <td> 0.205</td> <td>  -33.541</td> <td>    8.899</td>\n",
              "</tr>\n",
              "<tr>\n",
              "  <th>LINE</th>  <td>    3.1705</td> <td>    1.443</td> <td>    2.197</td> <td> 0.070</td> <td>   -0.361</td> <td>    6.702</td>\n",
              "</tr>\n",
              "<tr>\n",
              "  <th>OVER</th>  <td>   -0.0129</td> <td>    0.008</td> <td>   -1.539</td> <td> 0.175</td> <td>   -0.033</td> <td>    0.008</td>\n",
              "</tr>\n",
              "<tr>\n",
              "  <th>UNDER</th> <td>   -0.0119</td> <td>    0.008</td> <td>   -1.541</td> <td> 0.174</td> <td>   -0.031</td> <td>    0.007</td>\n",
              "</tr>\n",
              "</table>\n",
              "<table class=\"simpletable\">\n",
              "<tr>\n",
              "  <th>Omnibus:</th>       <td> 0.560</td> <th>  Durbin-Watson:     </th> <td>   0.605</td>\n",
              "</tr>\n",
              "<tr>\n",
              "  <th>Prob(Omnibus):</th> <td> 0.756</td> <th>  Jarque-Bera (JB):  </th> <td>   0.562</td>\n",
              "</tr>\n",
              "<tr>\n",
              "  <th>Skew:</th>          <td>-0.383</td> <th>  Prob(JB):          </th> <td>   0.755</td>\n",
              "</tr>\n",
              "<tr>\n",
              "  <th>Kurtosis:</th>      <td> 2.126</td> <th>  Cond. No.          </th> <td>2.00e+03</td>\n",
              "</tr>\n",
              "</table><br/><br/>Notes:<br/>[1] Standard Errors assume that the covariance matrix of the errors is correctly specified.<br/>[2] The condition number is large,  2e+03. This might indicate that there are<br/>strong multicollinearity or other numerical problems."
            ],
            "text/latex": "\\begin{center}\n\\begin{tabular}{lclc}\n\\toprule\n\\textbf{Dep. Variable:}    &    STRIKEOUT     & \\textbf{  R-squared:         } &     0.560   \\\\\n\\textbf{Model:}            &       OLS        & \\textbf{  Adj. R-squared:    } &     0.340   \\\\\n\\textbf{Method:}           &  Least Squares   & \\textbf{  F-statistic:       } &     2.546   \\\\\n\\textbf{Date:}             & Fri, 19 Jul 2024 & \\textbf{  Prob (F-statistic):} &    0.152    \\\\\n\\textbf{Time:}             &     13:36:58     & \\textbf{  Log-Likelihood:    } &   -18.916   \\\\\n\\textbf{No. Observations:} &          10      & \\textbf{  AIC:               } &     45.83   \\\\\n\\textbf{Df Residuals:}     &           6      & \\textbf{  BIC:               } &     47.04   \\\\\n\\textbf{Df Model:}         &           3      & \\textbf{                     } &             \\\\\n\\textbf{Covariance Type:}  &    nonrobust     & \\textbf{                     } &             \\\\\n\\bottomrule\n\\end{tabular}\n\\begin{tabular}{lcccccc}\n               & \\textbf{coef} & \\textbf{std err} & \\textbf{t} & \\textbf{P$> |$t$|$} & \\textbf{[0.025} & \\textbf{0.975]}  \\\\\n\\midrule\n\\textbf{const} &     -12.3208  &        8.672     &    -1.421  &         0.205        &      -33.541    &        8.899     \\\\\n\\textbf{LINE}  &       3.1705  &        1.443     &     2.197  &         0.070        &       -0.361    &        6.702     \\\\\n\\textbf{OVER}  &      -0.0129  &        0.008     &    -1.539  &         0.175        &       -0.033    &        0.008     \\\\\n\\textbf{UNDER} &      -0.0119  &        0.008     &    -1.541  &         0.174        &       -0.031    &        0.007     \\\\\n\\bottomrule\n\\end{tabular}\n\\begin{tabular}{lclc}\n\\textbf{Omnibus:}       &  0.560 & \\textbf{  Durbin-Watson:     } &    0.605  \\\\\n\\textbf{Prob(Omnibus):} &  0.756 & \\textbf{  Jarque-Bera (JB):  } &    0.562  \\\\\n\\textbf{Skew:}          & -0.383 & \\textbf{  Prob(JB):          } &    0.755  \\\\\n\\textbf{Kurtosis:}      &  2.126 & \\textbf{  Cond. No.          } & 2.00e+03  \\\\\n\\bottomrule\n\\end{tabular}\n%\\caption{OLS Regression Results}\n\\end{center}\n\nNotes: \\newline\n [1] Standard Errors assume that the covariance matrix of the errors is correctly specified. \\newline\n [2] The condition number is large,  2e+03. This might indicate that there are \\newline\n strong multicollinearity or other numerical problems."
          },
          "metadata": {},
          "execution_count": 26
        }
      ]
    },
    {
      "cell_type": "code",
      "source": [
        "# Define the new data point\n",
        "new_data = {\n",
        "    'const': 1,\n",
        "    'LINE': 5.5,\n",
        "    'OVER': 120,\n",
        "    'UNDER': -155\n",
        "}\n",
        "\n",
        "# Convert the new data point to a DataFrame\n",
        "new_df = pd.DataFrame([new_data])\n",
        "\n",
        "# Predict the total strikeout using the model\n",
        "predicted_strikeout = model.predict(new_df)\n",
        "predicted_strikeout\n"
      ],
      "metadata": {
        "colab": {
          "base_uri": "https://localhost:8080/"
        },
        "outputId": "3d4dd3b2-6875-4d26-8dd7-665f94281dbb",
        "id": "S-fcb3vMNe8x"
      },
      "execution_count": 27,
      "outputs": [
        {
          "output_type": "execute_result",
          "data": {
            "text/plain": [
              "0    5.422771\n",
              "dtype: float64"
            ]
          },
          "metadata": {},
          "execution_count": 27
        }
      ]
    },
    {
      "cell_type": "markdown",
      "source": [
        "#MATT WALDRON"
      ],
      "metadata": {
        "id": "lB8Wf0J2O28g"
      }
    },
    {
      "cell_type": "code",
      "source": [],
      "metadata": {
        "id": "xDA_VgEoO5hE"
      },
      "execution_count": null,
      "outputs": []
    },
    {
      "cell_type": "code",
      "source": [
        "import pandas as pd\n",
        "import statsmodels.api as sm\n",
        "\n",
        "# Define the data\n",
        "data = {\n",
        "    \"LINE\": [4.5, 3.5, 4.5, 3.5, 4.5, 4.5, 4.5, 5.5, 4.5, 4.5],\n",
        "    \"OVER\": [-155, -174, 138, -168, 110, 110, -128, -106, -144, -122],\n",
        "    \"UNDER\": [120, 138, -178, 132, -140, -140, 102, -120, 112, -104],\n",
        "    \"STRIKEOUT\": [1, 6, 3, 8, 6, 2, 4, 4, 8, 7]\n",
        "}\n",
        "# Create a DataFrame\n",
        "df = pd.DataFrame(data)\n",
        "\n",
        "# Define the independent variables and the dependent variable\n",
        "X = df[['LINE', 'OVER', 'UNDER']]\n",
        "y = df['STRIKEOUT']\n",
        "\n",
        "# Add a constant to the independent variables\n",
        "X = sm.add_constant(X)\n",
        "\n",
        "# Fit the linear regression model\n",
        "model = sm.OLS(y, X).fit()\n",
        "\n",
        "# Get the summary of the regression\n",
        "summary = model.summary()\n",
        "summary\n"
      ],
      "metadata": {
        "colab": {
          "base_uri": "https://localhost:8080/",
          "height": 554
        },
        "outputId": "2c273750-e8ed-4e2e-bc7a-4a267f60d493",
        "id": "IBbpzkTmO5w6"
      },
      "execution_count": 28,
      "outputs": [
        {
          "output_type": "stream",
          "name": "stderr",
          "text": [
            "/usr/local/lib/python3.10/dist-packages/scipy/stats/_stats_py.py:1806: UserWarning: kurtosistest only valid for n>=20 ... continuing anyway, n=10\n",
            "  warnings.warn(\"kurtosistest only valid for n>=20 ... continuing \"\n"
          ]
        },
        {
          "output_type": "execute_result",
          "data": {
            "text/plain": [
              "<class 'statsmodels.iolib.summary.Summary'>\n",
              "\"\"\"\n",
              "                            OLS Regression Results                            \n",
              "==============================================================================\n",
              "Dep. Variable:              STRIKEOUT   R-squared:                       0.346\n",
              "Model:                            OLS   Adj. R-squared:                  0.019\n",
              "Method:                 Least Squares   F-statistic:                     1.059\n",
              "Date:                Fri, 19 Jul 2024   Prob (F-statistic):              0.433\n",
              "Time:                        13:43:33   Log-Likelihood:                -20.580\n",
              "No. Observations:                  10   AIC:                             49.16\n",
              "Df Residuals:                       6   BIC:                             50.37\n",
              "Df Model:                           3                                         \n",
              "Covariance Type:            nonrobust                                         \n",
              "==============================================================================\n",
              "                 coef    std err          t      P>|t|      [0.025      0.975]\n",
              "------------------------------------------------------------------------------\n",
              "const         15.4006      8.134      1.893      0.107      -4.504      35.305\n",
              "LINE          -2.6343      1.920     -1.372      0.219      -7.332       2.063\n",
              "OVER          -0.0155      0.012     -1.286      0.246      -0.045       0.014\n",
              "UNDER         -0.0131      0.013     -0.991      0.360      -0.045       0.019\n",
              "==============================================================================\n",
              "Omnibus:                        0.593   Durbin-Watson:                   1.533\n",
              "Prob(Omnibus):                  0.743   Jarque-Bera (JB):                0.155\n",
              "Skew:                           0.279   Prob(JB):                        0.926\n",
              "Kurtosis:                       2.753   Cond. No.                     1.88e+03\n",
              "==============================================================================\n",
              "\n",
              "Notes:\n",
              "[1] Standard Errors assume that the covariance matrix of the errors is correctly specified.\n",
              "[2] The condition number is large, 1.88e+03. This might indicate that there are\n",
              "strong multicollinearity or other numerical problems.\n",
              "\"\"\""
            ],
            "text/html": [
              "<table class=\"simpletable\">\n",
              "<caption>OLS Regression Results</caption>\n",
              "<tr>\n",
              "  <th>Dep. Variable:</th>        <td>STRIKEOUT</td>    <th>  R-squared:         </th> <td>   0.346</td>\n",
              "</tr>\n",
              "<tr>\n",
              "  <th>Model:</th>                   <td>OLS</td>       <th>  Adj. R-squared:    </th> <td>   0.019</td>\n",
              "</tr>\n",
              "<tr>\n",
              "  <th>Method:</th>             <td>Least Squares</td>  <th>  F-statistic:       </th> <td>   1.059</td>\n",
              "</tr>\n",
              "<tr>\n",
              "  <th>Date:</th>             <td>Fri, 19 Jul 2024</td> <th>  Prob (F-statistic):</th>  <td> 0.433</td> \n",
              "</tr>\n",
              "<tr>\n",
              "  <th>Time:</th>                 <td>13:43:33</td>     <th>  Log-Likelihood:    </th> <td> -20.580</td>\n",
              "</tr>\n",
              "<tr>\n",
              "  <th>No. Observations:</th>      <td>    10</td>      <th>  AIC:               </th> <td>   49.16</td>\n",
              "</tr>\n",
              "<tr>\n",
              "  <th>Df Residuals:</th>          <td>     6</td>      <th>  BIC:               </th> <td>   50.37</td>\n",
              "</tr>\n",
              "<tr>\n",
              "  <th>Df Model:</th>              <td>     3</td>      <th>                     </th>     <td> </td>   \n",
              "</tr>\n",
              "<tr>\n",
              "  <th>Covariance Type:</th>      <td>nonrobust</td>    <th>                     </th>     <td> </td>   \n",
              "</tr>\n",
              "</table>\n",
              "<table class=\"simpletable\">\n",
              "<tr>\n",
              "    <td></td>       <th>coef</th>     <th>std err</th>      <th>t</th>      <th>P>|t|</th>  <th>[0.025</th>    <th>0.975]</th>  \n",
              "</tr>\n",
              "<tr>\n",
              "  <th>const</th> <td>   15.4006</td> <td>    8.134</td> <td>    1.893</td> <td> 0.107</td> <td>   -4.504</td> <td>   35.305</td>\n",
              "</tr>\n",
              "<tr>\n",
              "  <th>LINE</th>  <td>   -2.6343</td> <td>    1.920</td> <td>   -1.372</td> <td> 0.219</td> <td>   -7.332</td> <td>    2.063</td>\n",
              "</tr>\n",
              "<tr>\n",
              "  <th>OVER</th>  <td>   -0.0155</td> <td>    0.012</td> <td>   -1.286</td> <td> 0.246</td> <td>   -0.045</td> <td>    0.014</td>\n",
              "</tr>\n",
              "<tr>\n",
              "  <th>UNDER</th> <td>   -0.0131</td> <td>    0.013</td> <td>   -0.991</td> <td> 0.360</td> <td>   -0.045</td> <td>    0.019</td>\n",
              "</tr>\n",
              "</table>\n",
              "<table class=\"simpletable\">\n",
              "<tr>\n",
              "  <th>Omnibus:</th>       <td> 0.593</td> <th>  Durbin-Watson:     </th> <td>   1.533</td>\n",
              "</tr>\n",
              "<tr>\n",
              "  <th>Prob(Omnibus):</th> <td> 0.743</td> <th>  Jarque-Bera (JB):  </th> <td>   0.155</td>\n",
              "</tr>\n",
              "<tr>\n",
              "  <th>Skew:</th>          <td> 0.279</td> <th>  Prob(JB):          </th> <td>   0.926</td>\n",
              "</tr>\n",
              "<tr>\n",
              "  <th>Kurtosis:</th>      <td> 2.753</td> <th>  Cond. No.          </th> <td>1.88e+03</td>\n",
              "</tr>\n",
              "</table><br/><br/>Notes:<br/>[1] Standard Errors assume that the covariance matrix of the errors is correctly specified.<br/>[2] The condition number is large, 1.88e+03. This might indicate that there are<br/>strong multicollinearity or other numerical problems."
            ],
            "text/latex": "\\begin{center}\n\\begin{tabular}{lclc}\n\\toprule\n\\textbf{Dep. Variable:}    &    STRIKEOUT     & \\textbf{  R-squared:         } &     0.346   \\\\\n\\textbf{Model:}            &       OLS        & \\textbf{  Adj. R-squared:    } &     0.019   \\\\\n\\textbf{Method:}           &  Least Squares   & \\textbf{  F-statistic:       } &     1.059   \\\\\n\\textbf{Date:}             & Fri, 19 Jul 2024 & \\textbf{  Prob (F-statistic):} &    0.433    \\\\\n\\textbf{Time:}             &     13:43:33     & \\textbf{  Log-Likelihood:    } &   -20.580   \\\\\n\\textbf{No. Observations:} &          10      & \\textbf{  AIC:               } &     49.16   \\\\\n\\textbf{Df Residuals:}     &           6      & \\textbf{  BIC:               } &     50.37   \\\\\n\\textbf{Df Model:}         &           3      & \\textbf{                     } &             \\\\\n\\textbf{Covariance Type:}  &    nonrobust     & \\textbf{                     } &             \\\\\n\\bottomrule\n\\end{tabular}\n\\begin{tabular}{lcccccc}\n               & \\textbf{coef} & \\textbf{std err} & \\textbf{t} & \\textbf{P$> |$t$|$} & \\textbf{[0.025} & \\textbf{0.975]}  \\\\\n\\midrule\n\\textbf{const} &      15.4006  &        8.134     &     1.893  &         0.107        &       -4.504    &       35.305     \\\\\n\\textbf{LINE}  &      -2.6343  &        1.920     &    -1.372  &         0.219        &       -7.332    &        2.063     \\\\\n\\textbf{OVER}  &      -0.0155  &        0.012     &    -1.286  &         0.246        &       -0.045    &        0.014     \\\\\n\\textbf{UNDER} &      -0.0131  &        0.013     &    -0.991  &         0.360        &       -0.045    &        0.019     \\\\\n\\bottomrule\n\\end{tabular}\n\\begin{tabular}{lclc}\n\\textbf{Omnibus:}       &  0.593 & \\textbf{  Durbin-Watson:     } &    1.533  \\\\\n\\textbf{Prob(Omnibus):} &  0.743 & \\textbf{  Jarque-Bera (JB):  } &    0.155  \\\\\n\\textbf{Skew:}          &  0.279 & \\textbf{  Prob(JB):          } &    0.926  \\\\\n\\textbf{Kurtosis:}      &  2.753 & \\textbf{  Cond. No.          } & 1.88e+03  \\\\\n\\bottomrule\n\\end{tabular}\n%\\caption{OLS Regression Results}\n\\end{center}\n\nNotes: \\newline\n [1] Standard Errors assume that the covariance matrix of the errors is correctly specified. \\newline\n [2] The condition number is large, 1.88e+03. This might indicate that there are \\newline\n strong multicollinearity or other numerical problems."
          },
          "metadata": {},
          "execution_count": 28
        }
      ]
    },
    {
      "cell_type": "code",
      "source": [
        "# Define the new data point\n",
        "new_data = {\n",
        "    'const': 1,\n",
        "    'LINE': 3.5,\n",
        "    'OVER': -130,\n",
        "    'UNDER': 100\n",
        "}\n",
        "\n",
        "# Convert the new data point to a DataFrame\n",
        "new_df = pd.DataFrame([new_data])\n",
        "\n",
        "# Predict the total strikeout using the model\n",
        "predicted_strikeout = model.predict(new_df)\n",
        "predicted_strikeout\n"
      ],
      "metadata": {
        "colab": {
          "base_uri": "https://localhost:8080/"
        },
        "outputId": "dbbeb51f-6239-411c-8971-7e95267ebf4a",
        "id": "tQY_i3tSO_eZ"
      },
      "execution_count": 30,
      "outputs": [
        {
          "output_type": "execute_result",
          "data": {
            "text/plain": [
              "0    6.883789\n",
              "dtype: float64"
            ]
          },
          "metadata": {},
          "execution_count": 30
        }
      ]
    },
    {
      "cell_type": "markdown",
      "source": [
        "#SONNY GRAY"
      ],
      "metadata": {
        "id": "v4fDYp3lQGB9"
      }
    },
    {
      "cell_type": "code",
      "source": [
        "import pandas as pd\n",
        "import statsmodels.api as sm\n",
        "\n",
        "# Define the data\n",
        "data = {\n",
        "    'LINE': [6.5, 7.5, 5.5, 6.5, 6.5, 6.5, 5.5, 6.5, 6.5, 7.5],\n",
        "    'OVER': [-100, -115, -116, 118, 102, -154, -122, -118, 128, 116],\n",
        "    'UNDER': [-128, -111, -110, -150, -130, 120, -104, -108, -164, -148],\n",
        "    'STRIKEOUT': [5, 6, 5, 5, 7, 6, 5, 5, 6, 11]\n",
        "}\n",
        "# Create a DataFrame\n",
        "df = pd.DataFrame(data)\n",
        "\n",
        "# Define the independent variables and the dependent variable\n",
        "X = df[['LINE', 'OVER', 'UNDER']]\n",
        "y = df['STRIKEOUT']\n",
        "\n",
        "# Add a constant to the independent variables\n",
        "X = sm.add_constant(X)\n",
        "\n",
        "# Fit the linear regression model\n",
        "model = sm.OLS(y, X).fit()\n",
        "\n",
        "# Get the summary of the regression\n",
        "summary = model.summary()\n",
        "summary\n"
      ],
      "metadata": {
        "colab": {
          "base_uri": "https://localhost:8080/",
          "height": 554
        },
        "outputId": "0338036f-e23f-45d6-d12d-686946d7abe4",
        "id": "6xAyRH_iQIOV"
      },
      "execution_count": 31,
      "outputs": [
        {
          "output_type": "stream",
          "name": "stderr",
          "text": [
            "/usr/local/lib/python3.10/dist-packages/scipy/stats/_stats_py.py:1806: UserWarning: kurtosistest only valid for n>=20 ... continuing anyway, n=10\n",
            "  warnings.warn(\"kurtosistest only valid for n>=20 ... continuing \"\n"
          ]
        },
        {
          "output_type": "execute_result",
          "data": {
            "text/plain": [
              "<class 'statsmodels.iolib.summary.Summary'>\n",
              "\"\"\"\n",
              "                            OLS Regression Results                            \n",
              "==============================================================================\n",
              "Dep. Variable:              STRIKEOUT   R-squared:                       0.331\n",
              "Model:                            OLS   Adj. R-squared:                 -0.003\n",
              "Method:                 Least Squares   F-statistic:                    0.9902\n",
              "Date:                Fri, 19 Jul 2024   Prob (F-statistic):              0.458\n",
              "Time:                        13:49:19   Log-Likelihood:                -17.931\n",
              "No. Observations:                  10   AIC:                             43.86\n",
              "Df Residuals:                       6   BIC:                             45.07\n",
              "Df Model:                           3                                         \n",
              "Covariance Type:            nonrobust                                         \n",
              "==============================================================================\n",
              "                 coef    std err          t      P>|t|      [0.025      0.975]\n",
              "------------------------------------------------------------------------------\n",
              "const          7.0152     10.229      0.686      0.518     -18.015      32.045\n",
              "LINE          -0.0386      1.629     -0.024      0.982      -4.024       3.947\n",
              "OVER           0.0071      0.007      1.079      0.322      -0.009       0.023\n",
              "UNDER         -0.0026      0.008     -0.328      0.754      -0.022       0.016\n",
              "==============================================================================\n",
              "Omnibus:                        0.572   Durbin-Watson:                   2.505\n",
              "Prob(Omnibus):                  0.751   Jarque-Bera (JB):                0.207\n",
              "Skew:                           0.316   Prob(JB):                        0.902\n",
              "Kurtosis:                       2.685   Cond. No.                     2.56e+03\n",
              "==============================================================================\n",
              "\n",
              "Notes:\n",
              "[1] Standard Errors assume that the covariance matrix of the errors is correctly specified.\n",
              "[2] The condition number is large, 2.56e+03. This might indicate that there are\n",
              "strong multicollinearity or other numerical problems.\n",
              "\"\"\""
            ],
            "text/html": [
              "<table class=\"simpletable\">\n",
              "<caption>OLS Regression Results</caption>\n",
              "<tr>\n",
              "  <th>Dep. Variable:</th>        <td>STRIKEOUT</td>    <th>  R-squared:         </th> <td>   0.331</td>\n",
              "</tr>\n",
              "<tr>\n",
              "  <th>Model:</th>                   <td>OLS</td>       <th>  Adj. R-squared:    </th> <td>  -0.003</td>\n",
              "</tr>\n",
              "<tr>\n",
              "  <th>Method:</th>             <td>Least Squares</td>  <th>  F-statistic:       </th> <td>  0.9902</td>\n",
              "</tr>\n",
              "<tr>\n",
              "  <th>Date:</th>             <td>Fri, 19 Jul 2024</td> <th>  Prob (F-statistic):</th>  <td> 0.458</td> \n",
              "</tr>\n",
              "<tr>\n",
              "  <th>Time:</th>                 <td>13:49:19</td>     <th>  Log-Likelihood:    </th> <td> -17.931</td>\n",
              "</tr>\n",
              "<tr>\n",
              "  <th>No. Observations:</th>      <td>    10</td>      <th>  AIC:               </th> <td>   43.86</td>\n",
              "</tr>\n",
              "<tr>\n",
              "  <th>Df Residuals:</th>          <td>     6</td>      <th>  BIC:               </th> <td>   45.07</td>\n",
              "</tr>\n",
              "<tr>\n",
              "  <th>Df Model:</th>              <td>     3</td>      <th>                     </th>     <td> </td>   \n",
              "</tr>\n",
              "<tr>\n",
              "  <th>Covariance Type:</th>      <td>nonrobust</td>    <th>                     </th>     <td> </td>   \n",
              "</tr>\n",
              "</table>\n",
              "<table class=\"simpletable\">\n",
              "<tr>\n",
              "    <td></td>       <th>coef</th>     <th>std err</th>      <th>t</th>      <th>P>|t|</th>  <th>[0.025</th>    <th>0.975]</th>  \n",
              "</tr>\n",
              "<tr>\n",
              "  <th>const</th> <td>    7.0152</td> <td>   10.229</td> <td>    0.686</td> <td> 0.518</td> <td>  -18.015</td> <td>   32.045</td>\n",
              "</tr>\n",
              "<tr>\n",
              "  <th>LINE</th>  <td>   -0.0386</td> <td>    1.629</td> <td>   -0.024</td> <td> 0.982</td> <td>   -4.024</td> <td>    3.947</td>\n",
              "</tr>\n",
              "<tr>\n",
              "  <th>OVER</th>  <td>    0.0071</td> <td>    0.007</td> <td>    1.079</td> <td> 0.322</td> <td>   -0.009</td> <td>    0.023</td>\n",
              "</tr>\n",
              "<tr>\n",
              "  <th>UNDER</th> <td>   -0.0026</td> <td>    0.008</td> <td>   -0.328</td> <td> 0.754</td> <td>   -0.022</td> <td>    0.016</td>\n",
              "</tr>\n",
              "</table>\n",
              "<table class=\"simpletable\">\n",
              "<tr>\n",
              "  <th>Omnibus:</th>       <td> 0.572</td> <th>  Durbin-Watson:     </th> <td>   2.505</td>\n",
              "</tr>\n",
              "<tr>\n",
              "  <th>Prob(Omnibus):</th> <td> 0.751</td> <th>  Jarque-Bera (JB):  </th> <td>   0.207</td>\n",
              "</tr>\n",
              "<tr>\n",
              "  <th>Skew:</th>          <td> 0.316</td> <th>  Prob(JB):          </th> <td>   0.902</td>\n",
              "</tr>\n",
              "<tr>\n",
              "  <th>Kurtosis:</th>      <td> 2.685</td> <th>  Cond. No.          </th> <td>2.56e+03</td>\n",
              "</tr>\n",
              "</table><br/><br/>Notes:<br/>[1] Standard Errors assume that the covariance matrix of the errors is correctly specified.<br/>[2] The condition number is large, 2.56e+03. This might indicate that there are<br/>strong multicollinearity or other numerical problems."
            ],
            "text/latex": "\\begin{center}\n\\begin{tabular}{lclc}\n\\toprule\n\\textbf{Dep. Variable:}    &    STRIKEOUT     & \\textbf{  R-squared:         } &     0.331   \\\\\n\\textbf{Model:}            &       OLS        & \\textbf{  Adj. R-squared:    } &    -0.003   \\\\\n\\textbf{Method:}           &  Least Squares   & \\textbf{  F-statistic:       } &    0.9902   \\\\\n\\textbf{Date:}             & Fri, 19 Jul 2024 & \\textbf{  Prob (F-statistic):} &    0.458    \\\\\n\\textbf{Time:}             &     13:49:19     & \\textbf{  Log-Likelihood:    } &   -17.931   \\\\\n\\textbf{No. Observations:} &          10      & \\textbf{  AIC:               } &     43.86   \\\\\n\\textbf{Df Residuals:}     &           6      & \\textbf{  BIC:               } &     45.07   \\\\\n\\textbf{Df Model:}         &           3      & \\textbf{                     } &             \\\\\n\\textbf{Covariance Type:}  &    nonrobust     & \\textbf{                     } &             \\\\\n\\bottomrule\n\\end{tabular}\n\\begin{tabular}{lcccccc}\n               & \\textbf{coef} & \\textbf{std err} & \\textbf{t} & \\textbf{P$> |$t$|$} & \\textbf{[0.025} & \\textbf{0.975]}  \\\\\n\\midrule\n\\textbf{const} &       7.0152  &       10.229     &     0.686  &         0.518        &      -18.015    &       32.045     \\\\\n\\textbf{LINE}  &      -0.0386  &        1.629     &    -0.024  &         0.982        &       -4.024    &        3.947     \\\\\n\\textbf{OVER}  &       0.0071  &        0.007     &     1.079  &         0.322        &       -0.009    &        0.023     \\\\\n\\textbf{UNDER} &      -0.0026  &        0.008     &    -0.328  &         0.754        &       -0.022    &        0.016     \\\\\n\\bottomrule\n\\end{tabular}\n\\begin{tabular}{lclc}\n\\textbf{Omnibus:}       &  0.572 & \\textbf{  Durbin-Watson:     } &    2.505  \\\\\n\\textbf{Prob(Omnibus):} &  0.751 & \\textbf{  Jarque-Bera (JB):  } &    0.207  \\\\\n\\textbf{Skew:}          &  0.316 & \\textbf{  Prob(JB):          } &    0.902  \\\\\n\\textbf{Kurtosis:}      &  2.685 & \\textbf{  Cond. No.          } & 2.56e+03  \\\\\n\\bottomrule\n\\end{tabular}\n%\\caption{OLS Regression Results}\n\\end{center}\n\nNotes: \\newline\n [1] Standard Errors assume that the covariance matrix of the errors is correctly specified. \\newline\n [2] The condition number is large, 2.56e+03. This might indicate that there are \\newline\n strong multicollinearity or other numerical problems."
          },
          "metadata": {},
          "execution_count": 31
        }
      ]
    },
    {
      "cell_type": "code",
      "source": [],
      "metadata": {
        "id": "EubxgrLSQT3H"
      },
      "execution_count": null,
      "outputs": []
    },
    {
      "cell_type": "code",
      "source": [
        "# Define the new data point\n",
        "new_data = {\n",
        "    'const': 1,\n",
        "    'LINE': 5.5,\n",
        "    'OVER': -135,\n",
        "    'UNDER': 100\n",
        "}\n",
        "\n",
        "# Convert the new data point to a DataFrame\n",
        "new_df = pd.DataFrame([new_data])\n",
        "\n",
        "# Predict the total strikeout using the model\n",
        "predicted_strikeout = model.predict(new_df)\n",
        "predicted_strikeout\n"
      ],
      "metadata": {
        "colab": {
          "base_uri": "https://localhost:8080/"
        },
        "outputId": "17cd4d64-0ef1-44a4-d763-49324b803407",
        "id": "gfgJu3qOQUDA"
      },
      "execution_count": 32,
      "outputs": [
        {
          "output_type": "execute_result",
          "data": {
            "text/plain": [
              "0    5.589799\n",
              "dtype: float64"
            ]
          },
          "metadata": {},
          "execution_count": 32
        }
      ]
    },
    {
      "cell_type": "markdown",
      "source": [
        "#CORBIN BURNES"
      ],
      "metadata": {
        "id": "wpv1jtPMRLsD"
      }
    },
    {
      "cell_type": "code",
      "source": [],
      "metadata": {
        "id": "_pQT7sKGRhLi"
      },
      "execution_count": null,
      "outputs": []
    },
    {
      "cell_type": "code",
      "source": [
        "import pandas as pd\n",
        "import statsmodels.api as sm\n",
        "\n",
        "# Define the data\n",
        "data = {\n",
        "    \"LINE\": [6.5, 5.5, 6.5, 6.5, 6.5, 6.5, 6.5, 6.5, 6.5, 5.5],\n",
        "    \"OVER\": [110, -102, -122, 122, -104, -122, -156, 130, 114, -132],\n",
        "    \"UNDER\": [-140, -125, -104, -156, -122, -106, 122, -166, -144, 104],\n",
        "    \"STRIKEOUT\": [6, 6, 6, 8, 4, 9, 5, 10, 8, 6]\n",
        "}\n",
        "# Create a DataFrame\n",
        "df = pd.DataFrame(data)\n",
        "\n",
        "# Define the independent variables and the dependent variable\n",
        "X = df[['LINE', 'OVER', 'UNDER']]\n",
        "y = df['STRIKEOUT']\n",
        "\n",
        "# Add a constant to the independent variables\n",
        "X = sm.add_constant(X)\n",
        "\n",
        "# Fit the linear regression model\n",
        "model = sm.OLS(y, X).fit()\n",
        "\n",
        "# Get the summary of the regression\n",
        "summary = model.summary()\n",
        "summary\n"
      ],
      "metadata": {
        "colab": {
          "base_uri": "https://localhost:8080/",
          "height": 554
        },
        "outputId": "20aadc42-9f34-43f2-9e2b-f13ba342e17d",
        "id": "nndBh4eoR4jI"
      },
      "execution_count": 33,
      "outputs": [
        {
          "output_type": "stream",
          "name": "stderr",
          "text": [
            "/usr/local/lib/python3.10/dist-packages/scipy/stats/_stats_py.py:1806: UserWarning: kurtosistest only valid for n>=20 ... continuing anyway, n=10\n",
            "  warnings.warn(\"kurtosistest only valid for n>=20 ... continuing \"\n"
          ]
        },
        {
          "output_type": "execute_result",
          "data": {
            "text/plain": [
              "<class 'statsmodels.iolib.summary.Summary'>\n",
              "\"\"\"\n",
              "                            OLS Regression Results                            \n",
              "==============================================================================\n",
              "Dep. Variable:              STRIKEOUT   R-squared:                       0.331\n",
              "Model:                            OLS   Adj. R-squared:                 -0.003\n",
              "Method:                 Least Squares   F-statistic:                    0.9902\n",
              "Date:                Fri, 19 Jul 2024   Prob (F-statistic):              0.458\n",
              "Time:                        13:57:27   Log-Likelihood:                -17.931\n",
              "No. Observations:                  10   AIC:                             43.86\n",
              "Df Residuals:                       6   BIC:                             45.07\n",
              "Df Model:                           3                                         \n",
              "Covariance Type:            nonrobust                                         \n",
              "==============================================================================\n",
              "                 coef    std err          t      P>|t|      [0.025      0.975]\n",
              "------------------------------------------------------------------------------\n",
              "const          7.0152     10.229      0.686      0.518     -18.015      32.045\n",
              "LINE          -0.0386      1.629     -0.024      0.982      -4.024       3.947\n",
              "OVER           0.0071      0.007      1.079      0.322      -0.009       0.023\n",
              "UNDER         -0.0026      0.008     -0.328      0.754      -0.022       0.016\n",
              "==============================================================================\n",
              "Omnibus:                        0.572   Durbin-Watson:                   2.505\n",
              "Prob(Omnibus):                  0.751   Jarque-Bera (JB):                0.207\n",
              "Skew:                           0.316   Prob(JB):                        0.902\n",
              "Kurtosis:                       2.685   Cond. No.                     2.56e+03\n",
              "==============================================================================\n",
              "\n",
              "Notes:\n",
              "[1] Standard Errors assume that the covariance matrix of the errors is correctly specified.\n",
              "[2] The condition number is large, 2.56e+03. This might indicate that there are\n",
              "strong multicollinearity or other numerical problems.\n",
              "\"\"\""
            ],
            "text/html": [
              "<table class=\"simpletable\">\n",
              "<caption>OLS Regression Results</caption>\n",
              "<tr>\n",
              "  <th>Dep. Variable:</th>        <td>STRIKEOUT</td>    <th>  R-squared:         </th> <td>   0.331</td>\n",
              "</tr>\n",
              "<tr>\n",
              "  <th>Model:</th>                   <td>OLS</td>       <th>  Adj. R-squared:    </th> <td>  -0.003</td>\n",
              "</tr>\n",
              "<tr>\n",
              "  <th>Method:</th>             <td>Least Squares</td>  <th>  F-statistic:       </th> <td>  0.9902</td>\n",
              "</tr>\n",
              "<tr>\n",
              "  <th>Date:</th>             <td>Fri, 19 Jul 2024</td> <th>  Prob (F-statistic):</th>  <td> 0.458</td> \n",
              "</tr>\n",
              "<tr>\n",
              "  <th>Time:</th>                 <td>13:57:27</td>     <th>  Log-Likelihood:    </th> <td> -17.931</td>\n",
              "</tr>\n",
              "<tr>\n",
              "  <th>No. Observations:</th>      <td>    10</td>      <th>  AIC:               </th> <td>   43.86</td>\n",
              "</tr>\n",
              "<tr>\n",
              "  <th>Df Residuals:</th>          <td>     6</td>      <th>  BIC:               </th> <td>   45.07</td>\n",
              "</tr>\n",
              "<tr>\n",
              "  <th>Df Model:</th>              <td>     3</td>      <th>                     </th>     <td> </td>   \n",
              "</tr>\n",
              "<tr>\n",
              "  <th>Covariance Type:</th>      <td>nonrobust</td>    <th>                     </th>     <td> </td>   \n",
              "</tr>\n",
              "</table>\n",
              "<table class=\"simpletable\">\n",
              "<tr>\n",
              "    <td></td>       <th>coef</th>     <th>std err</th>      <th>t</th>      <th>P>|t|</th>  <th>[0.025</th>    <th>0.975]</th>  \n",
              "</tr>\n",
              "<tr>\n",
              "  <th>const</th> <td>    7.0152</td> <td>   10.229</td> <td>    0.686</td> <td> 0.518</td> <td>  -18.015</td> <td>   32.045</td>\n",
              "</tr>\n",
              "<tr>\n",
              "  <th>LINE</th>  <td>   -0.0386</td> <td>    1.629</td> <td>   -0.024</td> <td> 0.982</td> <td>   -4.024</td> <td>    3.947</td>\n",
              "</tr>\n",
              "<tr>\n",
              "  <th>OVER</th>  <td>    0.0071</td> <td>    0.007</td> <td>    1.079</td> <td> 0.322</td> <td>   -0.009</td> <td>    0.023</td>\n",
              "</tr>\n",
              "<tr>\n",
              "  <th>UNDER</th> <td>   -0.0026</td> <td>    0.008</td> <td>   -0.328</td> <td> 0.754</td> <td>   -0.022</td> <td>    0.016</td>\n",
              "</tr>\n",
              "</table>\n",
              "<table class=\"simpletable\">\n",
              "<tr>\n",
              "  <th>Omnibus:</th>       <td> 0.572</td> <th>  Durbin-Watson:     </th> <td>   2.505</td>\n",
              "</tr>\n",
              "<tr>\n",
              "  <th>Prob(Omnibus):</th> <td> 0.751</td> <th>  Jarque-Bera (JB):  </th> <td>   0.207</td>\n",
              "</tr>\n",
              "<tr>\n",
              "  <th>Skew:</th>          <td> 0.316</td> <th>  Prob(JB):          </th> <td>   0.902</td>\n",
              "</tr>\n",
              "<tr>\n",
              "  <th>Kurtosis:</th>      <td> 2.685</td> <th>  Cond. No.          </th> <td>2.56e+03</td>\n",
              "</tr>\n",
              "</table><br/><br/>Notes:<br/>[1] Standard Errors assume that the covariance matrix of the errors is correctly specified.<br/>[2] The condition number is large, 2.56e+03. This might indicate that there are<br/>strong multicollinearity or other numerical problems."
            ],
            "text/latex": "\\begin{center}\n\\begin{tabular}{lclc}\n\\toprule\n\\textbf{Dep. Variable:}    &    STRIKEOUT     & \\textbf{  R-squared:         } &     0.331   \\\\\n\\textbf{Model:}            &       OLS        & \\textbf{  Adj. R-squared:    } &    -0.003   \\\\\n\\textbf{Method:}           &  Least Squares   & \\textbf{  F-statistic:       } &    0.9902   \\\\\n\\textbf{Date:}             & Fri, 19 Jul 2024 & \\textbf{  Prob (F-statistic):} &    0.458    \\\\\n\\textbf{Time:}             &     13:57:27     & \\textbf{  Log-Likelihood:    } &   -17.931   \\\\\n\\textbf{No. Observations:} &          10      & \\textbf{  AIC:               } &     43.86   \\\\\n\\textbf{Df Residuals:}     &           6      & \\textbf{  BIC:               } &     45.07   \\\\\n\\textbf{Df Model:}         &           3      & \\textbf{                     } &             \\\\\n\\textbf{Covariance Type:}  &    nonrobust     & \\textbf{                     } &             \\\\\n\\bottomrule\n\\end{tabular}\n\\begin{tabular}{lcccccc}\n               & \\textbf{coef} & \\textbf{std err} & \\textbf{t} & \\textbf{P$> |$t$|$} & \\textbf{[0.025} & \\textbf{0.975]}  \\\\\n\\midrule\n\\textbf{const} &       7.0152  &       10.229     &     0.686  &         0.518        &      -18.015    &       32.045     \\\\\n\\textbf{LINE}  &      -0.0386  &        1.629     &    -0.024  &         0.982        &       -4.024    &        3.947     \\\\\n\\textbf{OVER}  &       0.0071  &        0.007     &     1.079  &         0.322        &       -0.009    &        0.023     \\\\\n\\textbf{UNDER} &      -0.0026  &        0.008     &    -0.328  &         0.754        &       -0.022    &        0.016     \\\\\n\\bottomrule\n\\end{tabular}\n\\begin{tabular}{lclc}\n\\textbf{Omnibus:}       &  0.572 & \\textbf{  Durbin-Watson:     } &    2.505  \\\\\n\\textbf{Prob(Omnibus):} &  0.751 & \\textbf{  Jarque-Bera (JB):  } &    0.207  \\\\\n\\textbf{Skew:}          &  0.316 & \\textbf{  Prob(JB):          } &    0.902  \\\\\n\\textbf{Kurtosis:}      &  2.685 & \\textbf{  Cond. No.          } & 2.56e+03  \\\\\n\\bottomrule\n\\end{tabular}\n%\\caption{OLS Regression Results}\n\\end{center}\n\nNotes: \\newline\n [1] Standard Errors assume that the covariance matrix of the errors is correctly specified. \\newline\n [2] The condition number is large, 2.56e+03. This might indicate that there are \\newline\n strong multicollinearity or other numerical problems."
          },
          "metadata": {},
          "execution_count": 33
        }
      ]
    },
    {
      "cell_type": "code",
      "source": [],
      "metadata": {
        "id": "BvZpyJmrSG6r"
      },
      "execution_count": null,
      "outputs": []
    },
    {
      "cell_type": "code",
      "source": [
        "# Define the new data point\n",
        "new_data = {\n",
        "    'const': 1,\n",
        "    'LINE': 5.5,\n",
        "    'OVER': -130,\n",
        "    'UNDER': 100\n",
        "}\n",
        "\n",
        "# Convert the new data point to a DataFrame\n",
        "new_df = pd.DataFrame([new_data])\n",
        "\n",
        "# Predict the total strikeout using the model\n",
        "predicted_strikeout = model.predict(new_df)\n",
        "predicted_strikeout\n"
      ],
      "metadata": {
        "colab": {
          "base_uri": "https://localhost:8080/"
        },
        "outputId": "762679b7-4a68-4737-8584-e70069730157",
        "id": "7RjJU8WKSHJJ"
      },
      "execution_count": 34,
      "outputs": [
        {
          "output_type": "execute_result",
          "data": {
            "text/plain": [
              "0    5.625246\n",
              "dtype: float64"
            ]
          },
          "metadata": {},
          "execution_count": 34
        }
      ]
    },
    {
      "cell_type": "markdown",
      "source": [
        "#NATHAN EOVALDI"
      ],
      "metadata": {
        "id": "usol1BCwTy64"
      }
    },
    {
      "cell_type": "code",
      "source": [],
      "metadata": {
        "id": "55noUT1qT1VC"
      },
      "execution_count": null,
      "outputs": []
    },
    {
      "cell_type": "code",
      "source": [
        "import pandas as pd\n",
        "import statsmodels.api as sm\n",
        "\n",
        "# Define the data\n",
        "data = {\n",
        "    'LINE': [5.5, 5.5, 4.5, 5.5, 5.5, 6.5, 5.5, 5.5, 4.5, 5.5],\n",
        "    'OVER': [-110, -148, -140, -102, 126, -158, -110, 112, -112, 130],\n",
        "    'UNDER': [-115, 116, 110, -125, -160, 124, -116, -142, -112, -166],\n",
        "    'STRIKEOUT': [7, 5, 6, 4, 6, 6, 5, 7, 2, 8]\n",
        "}\n",
        "# Create a DataFrame\n",
        "df = pd.DataFrame(data)\n",
        "\n",
        "# Define the independent variables and the dependent variable\n",
        "X = df[['LINE', 'OVER', 'UNDER']]\n",
        "y = df['STRIKEOUT']\n",
        "\n",
        "# Add a constant to the independent variables\n",
        "X = sm.add_constant(X)\n",
        "\n",
        "# Fit the linear regression model\n",
        "model = sm.OLS(y, X).fit()\n",
        "\n",
        "# Get the summary of the regression\n",
        "summary = model.summary()\n",
        "summary\n"
      ],
      "metadata": {
        "colab": {
          "base_uri": "https://localhost:8080/",
          "height": 554
        },
        "outputId": "5de22c8b-5232-4e6b-c637-b7dd4cc651ba",
        "id": "iekhu1iqT1j1"
      },
      "execution_count": 35,
      "outputs": [
        {
          "output_type": "stream",
          "name": "stderr",
          "text": [
            "/usr/local/lib/python3.10/dist-packages/scipy/stats/_stats_py.py:1806: UserWarning: kurtosistest only valid for n>=20 ... continuing anyway, n=10\n",
            "  warnings.warn(\"kurtosistest only valid for n>=20 ... continuing \"\n"
          ]
        },
        {
          "output_type": "execute_result",
          "data": {
            "text/plain": [
              "<class 'statsmodels.iolib.summary.Summary'>\n",
              "\"\"\"\n",
              "                            OLS Regression Results                            \n",
              "==============================================================================\n",
              "Dep. Variable:              STRIKEOUT   R-squared:                       0.500\n",
              "Model:                            OLS   Adj. R-squared:                  0.249\n",
              "Method:                 Least Squares   F-statistic:                     1.996\n",
              "Date:                Fri, 19 Jul 2024   Prob (F-statistic):              0.216\n",
              "Time:                        14:05:07   Log-Likelihood:                -15.582\n",
              "No. Observations:                  10   AIC:                             39.16\n",
              "Df Residuals:                       6   BIC:                             40.37\n",
              "Df Model:                           3                                         \n",
              "Covariance Type:            nonrobust                                         \n",
              "==============================================================================\n",
              "                 coef    std err          t      P>|t|      [0.025      0.975]\n",
              "------------------------------------------------------------------------------\n",
              "const          1.3816      4.994      0.277      0.791     -10.838      13.602\n",
              "LINE           0.9468      0.893      1.061      0.330      -1.238       3.131\n",
              "OVER           0.0109      0.006      1.952      0.099      -0.003       0.024\n",
              "UNDER          0.0058      0.006      1.043      0.337      -0.008       0.019\n",
              "==============================================================================\n",
              "Omnibus:                        0.661   Durbin-Watson:                   2.111\n",
              "Prob(Omnibus):                  0.719   Jarque-Bera (JB):                0.505\n",
              "Skew:                           0.455   Prob(JB):                        0.777\n",
              "Kurtosis:                       2.379   Cond. No.                     1.62e+03\n",
              "==============================================================================\n",
              "\n",
              "Notes:\n",
              "[1] Standard Errors assume that the covariance matrix of the errors is correctly specified.\n",
              "[2] The condition number is large, 1.62e+03. This might indicate that there are\n",
              "strong multicollinearity or other numerical problems.\n",
              "\"\"\""
            ],
            "text/html": [
              "<table class=\"simpletable\">\n",
              "<caption>OLS Regression Results</caption>\n",
              "<tr>\n",
              "  <th>Dep. Variable:</th>        <td>STRIKEOUT</td>    <th>  R-squared:         </th> <td>   0.500</td>\n",
              "</tr>\n",
              "<tr>\n",
              "  <th>Model:</th>                   <td>OLS</td>       <th>  Adj. R-squared:    </th> <td>   0.249</td>\n",
              "</tr>\n",
              "<tr>\n",
              "  <th>Method:</th>             <td>Least Squares</td>  <th>  F-statistic:       </th> <td>   1.996</td>\n",
              "</tr>\n",
              "<tr>\n",
              "  <th>Date:</th>             <td>Fri, 19 Jul 2024</td> <th>  Prob (F-statistic):</th>  <td> 0.216</td> \n",
              "</tr>\n",
              "<tr>\n",
              "  <th>Time:</th>                 <td>14:05:07</td>     <th>  Log-Likelihood:    </th> <td> -15.582</td>\n",
              "</tr>\n",
              "<tr>\n",
              "  <th>No. Observations:</th>      <td>    10</td>      <th>  AIC:               </th> <td>   39.16</td>\n",
              "</tr>\n",
              "<tr>\n",
              "  <th>Df Residuals:</th>          <td>     6</td>      <th>  BIC:               </th> <td>   40.37</td>\n",
              "</tr>\n",
              "<tr>\n",
              "  <th>Df Model:</th>              <td>     3</td>      <th>                     </th>     <td> </td>   \n",
              "</tr>\n",
              "<tr>\n",
              "  <th>Covariance Type:</th>      <td>nonrobust</td>    <th>                     </th>     <td> </td>   \n",
              "</tr>\n",
              "</table>\n",
              "<table class=\"simpletable\">\n",
              "<tr>\n",
              "    <td></td>       <th>coef</th>     <th>std err</th>      <th>t</th>      <th>P>|t|</th>  <th>[0.025</th>    <th>0.975]</th>  \n",
              "</tr>\n",
              "<tr>\n",
              "  <th>const</th> <td>    1.3816</td> <td>    4.994</td> <td>    0.277</td> <td> 0.791</td> <td>  -10.838</td> <td>   13.602</td>\n",
              "</tr>\n",
              "<tr>\n",
              "  <th>LINE</th>  <td>    0.9468</td> <td>    0.893</td> <td>    1.061</td> <td> 0.330</td> <td>   -1.238</td> <td>    3.131</td>\n",
              "</tr>\n",
              "<tr>\n",
              "  <th>OVER</th>  <td>    0.0109</td> <td>    0.006</td> <td>    1.952</td> <td> 0.099</td> <td>   -0.003</td> <td>    0.024</td>\n",
              "</tr>\n",
              "<tr>\n",
              "  <th>UNDER</th> <td>    0.0058</td> <td>    0.006</td> <td>    1.043</td> <td> 0.337</td> <td>   -0.008</td> <td>    0.019</td>\n",
              "</tr>\n",
              "</table>\n",
              "<table class=\"simpletable\">\n",
              "<tr>\n",
              "  <th>Omnibus:</th>       <td> 0.661</td> <th>  Durbin-Watson:     </th> <td>   2.111</td>\n",
              "</tr>\n",
              "<tr>\n",
              "  <th>Prob(Omnibus):</th> <td> 0.719</td> <th>  Jarque-Bera (JB):  </th> <td>   0.505</td>\n",
              "</tr>\n",
              "<tr>\n",
              "  <th>Skew:</th>          <td> 0.455</td> <th>  Prob(JB):          </th> <td>   0.777</td>\n",
              "</tr>\n",
              "<tr>\n",
              "  <th>Kurtosis:</th>      <td> 2.379</td> <th>  Cond. No.          </th> <td>1.62e+03</td>\n",
              "</tr>\n",
              "</table><br/><br/>Notes:<br/>[1] Standard Errors assume that the covariance matrix of the errors is correctly specified.<br/>[2] The condition number is large, 1.62e+03. This might indicate that there are<br/>strong multicollinearity or other numerical problems."
            ],
            "text/latex": "\\begin{center}\n\\begin{tabular}{lclc}\n\\toprule\n\\textbf{Dep. Variable:}    &    STRIKEOUT     & \\textbf{  R-squared:         } &     0.500   \\\\\n\\textbf{Model:}            &       OLS        & \\textbf{  Adj. R-squared:    } &     0.249   \\\\\n\\textbf{Method:}           &  Least Squares   & \\textbf{  F-statistic:       } &     1.996   \\\\\n\\textbf{Date:}             & Fri, 19 Jul 2024 & \\textbf{  Prob (F-statistic):} &    0.216    \\\\\n\\textbf{Time:}             &     14:05:07     & \\textbf{  Log-Likelihood:    } &   -15.582   \\\\\n\\textbf{No. Observations:} &          10      & \\textbf{  AIC:               } &     39.16   \\\\\n\\textbf{Df Residuals:}     &           6      & \\textbf{  BIC:               } &     40.37   \\\\\n\\textbf{Df Model:}         &           3      & \\textbf{                     } &             \\\\\n\\textbf{Covariance Type:}  &    nonrobust     & \\textbf{                     } &             \\\\\n\\bottomrule\n\\end{tabular}\n\\begin{tabular}{lcccccc}\n               & \\textbf{coef} & \\textbf{std err} & \\textbf{t} & \\textbf{P$> |$t$|$} & \\textbf{[0.025} & \\textbf{0.975]}  \\\\\n\\midrule\n\\textbf{const} &       1.3816  &        4.994     &     0.277  &         0.791        &      -10.838    &       13.602     \\\\\n\\textbf{LINE}  &       0.9468  &        0.893     &     1.061  &         0.330        &       -1.238    &        3.131     \\\\\n\\textbf{OVER}  &       0.0109  &        0.006     &     1.952  &         0.099        &       -0.003    &        0.024     \\\\\n\\textbf{UNDER} &       0.0058  &        0.006     &     1.043  &         0.337        &       -0.008    &        0.019     \\\\\n\\bottomrule\n\\end{tabular}\n\\begin{tabular}{lclc}\n\\textbf{Omnibus:}       &  0.661 & \\textbf{  Durbin-Watson:     } &    2.111  \\\\\n\\textbf{Prob(Omnibus):} &  0.719 & \\textbf{  Jarque-Bera (JB):  } &    0.505  \\\\\n\\textbf{Skew:}          &  0.455 & \\textbf{  Prob(JB):          } &    0.777  \\\\\n\\textbf{Kurtosis:}      &  2.379 & \\textbf{  Cond. No.          } & 1.62e+03  \\\\\n\\bottomrule\n\\end{tabular}\n%\\caption{OLS Regression Results}\n\\end{center}\n\nNotes: \\newline\n [1] Standard Errors assume that the covariance matrix of the errors is correctly specified. \\newline\n [2] The condition number is large, 1.62e+03. This might indicate that there are \\newline\n strong multicollinearity or other numerical problems."
          },
          "metadata": {},
          "execution_count": 35
        }
      ]
    },
    {
      "cell_type": "code",
      "source": [
        "# Define the new data point\n",
        "new_data = {\n",
        "    'const': 1,\n",
        "    'LINE': 5.5,\n",
        "    'OVER': -110,\n",
        "    'UNDER': -120\n",
        "}\n",
        "\n",
        "# Convert the new data point to a DataFrame\n",
        "new_df = pd.DataFrame([new_data])\n",
        "\n",
        "# Predict the total strikeout using the model\n",
        "predicted_strikeout = model.predict(new_df)\n",
        "predicted_strikeout\n"
      ],
      "metadata": {
        "colab": {
          "base_uri": "https://localhost:8080/"
        },
        "outputId": "71f96e8b-c59a-41bb-ed33-b169e9cdeabf",
        "id": "jmqmTrwqT8cG"
      },
      "execution_count": 36,
      "outputs": [
        {
          "output_type": "execute_result",
          "data": {
            "text/plain": [
              "0    4.701423\n",
              "dtype: float64"
            ]
          },
          "metadata": {},
          "execution_count": 36
        }
      ]
    },
    {
      "cell_type": "markdown",
      "source": [
        "#CHRIS FLEXEN"
      ],
      "metadata": {
        "id": "iNqgGxkcU1P8"
      }
    },
    {
      "cell_type": "code",
      "source": [],
      "metadata": {
        "id": "-aiO4a8DU4qq"
      },
      "execution_count": null,
      "outputs": []
    },
    {
      "cell_type": "code",
      "source": [
        "import pandas as pd\n",
        "import statsmodels.api as sm\n",
        "\n",
        "# Define the data\n",
        "data = {\n",
        "    \"LINE\": [4.5, 3.5, 3.5, 3.5, 3.5, 3.5, 4.5, 4.5, 3.5, 3.5],\n",
        "    \"OVER\": [-125, -160, 104, -110, -140, -120, -122, 124, 108, -132],\n",
        "    \"UNDER\": [-105, 126, -132, -116, 105, -104, -106, -158, -138, 104],\n",
        "    \"STRIKEOUT\": [4, 4, 3, 3, 6, 2, 3, 4, 6, 2]\n",
        "}\n",
        "# Create a DataFrame\n",
        "df = pd.DataFrame(data)\n",
        "\n",
        "# Define the independent variables and the dependent variable\n",
        "X = df[['LINE', 'OVER', 'UNDER']]\n",
        "y = df['STRIKEOUT']\n",
        "\n",
        "# Add a constant to the independent variables\n",
        "X = sm.add_constant(X)\n",
        "\n",
        "# Fit the linear regression model\n",
        "model = sm.OLS(y, X).fit()\n",
        "\n",
        "# Get the summary of the regression\n",
        "summary = model.summary()\n",
        "summary\n"
      ],
      "metadata": {
        "colab": {
          "base_uri": "https://localhost:8080/",
          "height": 554
        },
        "outputId": "d520d38a-f3e8-40f8-f993-5444882afffb",
        "id": "HhAhl_YDU6tt"
      },
      "execution_count": 37,
      "outputs": [
        {
          "output_type": "stream",
          "name": "stderr",
          "text": [
            "/usr/local/lib/python3.10/dist-packages/scipy/stats/_stats_py.py:1806: UserWarning: kurtosistest only valid for n>=20 ... continuing anyway, n=10\n",
            "  warnings.warn(\"kurtosistest only valid for n>=20 ... continuing \"\n"
          ]
        },
        {
          "output_type": "execute_result",
          "data": {
            "text/plain": [
              "<class 'statsmodels.iolib.summary.Summary'>\n",
              "\"\"\"\n",
              "                            OLS Regression Results                            \n",
              "==============================================================================\n",
              "Dep. Variable:              STRIKEOUT   R-squared:                       0.190\n",
              "Model:                            OLS   Adj. R-squared:                 -0.215\n",
              "Method:                 Least Squares   F-statistic:                    0.4692\n",
              "Date:                Fri, 19 Jul 2024   Prob (F-statistic):              0.715\n",
              "Time:                        14:10:33   Log-Likelihood:                -16.102\n",
              "No. Observations:                  10   AIC:                             40.20\n",
              "Df Residuals:                       6   BIC:                             41.41\n",
              "Df Model:                           3                                         \n",
              "Covariance Type:            nonrobust                                         \n",
              "==============================================================================\n",
              "                 coef    std err          t      P>|t|      [0.025      0.975]\n",
              "------------------------------------------------------------------------------\n",
              "const          2.8246      4.485      0.630      0.552      -8.150      13.799\n",
              "LINE           0.4172      1.227      0.340      0.745      -2.585       3.420\n",
              "OVER           0.0068      0.006      1.159      0.290      -0.007       0.021\n",
              "UNDER          0.0062      0.007      0.938      0.385      -0.010       0.022\n",
              "==============================================================================\n",
              "Omnibus:                        0.186   Durbin-Watson:                   2.494\n",
              "Prob(Omnibus):                  0.911   Jarque-Bera (JB):                0.337\n",
              "Skew:                           0.227   Prob(JB):                        0.845\n",
              "Kurtosis:                       2.225   Cond. No.                     1.32e+03\n",
              "==============================================================================\n",
              "\n",
              "Notes:\n",
              "[1] Standard Errors assume that the covariance matrix of the errors is correctly specified.\n",
              "[2] The condition number is large, 1.32e+03. This might indicate that there are\n",
              "strong multicollinearity or other numerical problems.\n",
              "\"\"\""
            ],
            "text/html": [
              "<table class=\"simpletable\">\n",
              "<caption>OLS Regression Results</caption>\n",
              "<tr>\n",
              "  <th>Dep. Variable:</th>        <td>STRIKEOUT</td>    <th>  R-squared:         </th> <td>   0.190</td>\n",
              "</tr>\n",
              "<tr>\n",
              "  <th>Model:</th>                   <td>OLS</td>       <th>  Adj. R-squared:    </th> <td>  -0.215</td>\n",
              "</tr>\n",
              "<tr>\n",
              "  <th>Method:</th>             <td>Least Squares</td>  <th>  F-statistic:       </th> <td>  0.4692</td>\n",
              "</tr>\n",
              "<tr>\n",
              "  <th>Date:</th>             <td>Fri, 19 Jul 2024</td> <th>  Prob (F-statistic):</th>  <td> 0.715</td> \n",
              "</tr>\n",
              "<tr>\n",
              "  <th>Time:</th>                 <td>14:10:33</td>     <th>  Log-Likelihood:    </th> <td> -16.102</td>\n",
              "</tr>\n",
              "<tr>\n",
              "  <th>No. Observations:</th>      <td>    10</td>      <th>  AIC:               </th> <td>   40.20</td>\n",
              "</tr>\n",
              "<tr>\n",
              "  <th>Df Residuals:</th>          <td>     6</td>      <th>  BIC:               </th> <td>   41.41</td>\n",
              "</tr>\n",
              "<tr>\n",
              "  <th>Df Model:</th>              <td>     3</td>      <th>                     </th>     <td> </td>   \n",
              "</tr>\n",
              "<tr>\n",
              "  <th>Covariance Type:</th>      <td>nonrobust</td>    <th>                     </th>     <td> </td>   \n",
              "</tr>\n",
              "</table>\n",
              "<table class=\"simpletable\">\n",
              "<tr>\n",
              "    <td></td>       <th>coef</th>     <th>std err</th>      <th>t</th>      <th>P>|t|</th>  <th>[0.025</th>    <th>0.975]</th>  \n",
              "</tr>\n",
              "<tr>\n",
              "  <th>const</th> <td>    2.8246</td> <td>    4.485</td> <td>    0.630</td> <td> 0.552</td> <td>   -8.150</td> <td>   13.799</td>\n",
              "</tr>\n",
              "<tr>\n",
              "  <th>LINE</th>  <td>    0.4172</td> <td>    1.227</td> <td>    0.340</td> <td> 0.745</td> <td>   -2.585</td> <td>    3.420</td>\n",
              "</tr>\n",
              "<tr>\n",
              "  <th>OVER</th>  <td>    0.0068</td> <td>    0.006</td> <td>    1.159</td> <td> 0.290</td> <td>   -0.007</td> <td>    0.021</td>\n",
              "</tr>\n",
              "<tr>\n",
              "  <th>UNDER</th> <td>    0.0062</td> <td>    0.007</td> <td>    0.938</td> <td> 0.385</td> <td>   -0.010</td> <td>    0.022</td>\n",
              "</tr>\n",
              "</table>\n",
              "<table class=\"simpletable\">\n",
              "<tr>\n",
              "  <th>Omnibus:</th>       <td> 0.186</td> <th>  Durbin-Watson:     </th> <td>   2.494</td>\n",
              "</tr>\n",
              "<tr>\n",
              "  <th>Prob(Omnibus):</th> <td> 0.911</td> <th>  Jarque-Bera (JB):  </th> <td>   0.337</td>\n",
              "</tr>\n",
              "<tr>\n",
              "  <th>Skew:</th>          <td> 0.227</td> <th>  Prob(JB):          </th> <td>   0.845</td>\n",
              "</tr>\n",
              "<tr>\n",
              "  <th>Kurtosis:</th>      <td> 2.225</td> <th>  Cond. No.          </th> <td>1.32e+03</td>\n",
              "</tr>\n",
              "</table><br/><br/>Notes:<br/>[1] Standard Errors assume that the covariance matrix of the errors is correctly specified.<br/>[2] The condition number is large, 1.32e+03. This might indicate that there are<br/>strong multicollinearity or other numerical problems."
            ],
            "text/latex": "\\begin{center}\n\\begin{tabular}{lclc}\n\\toprule\n\\textbf{Dep. Variable:}    &    STRIKEOUT     & \\textbf{  R-squared:         } &     0.190   \\\\\n\\textbf{Model:}            &       OLS        & \\textbf{  Adj. R-squared:    } &    -0.215   \\\\\n\\textbf{Method:}           &  Least Squares   & \\textbf{  F-statistic:       } &    0.4692   \\\\\n\\textbf{Date:}             & Fri, 19 Jul 2024 & \\textbf{  Prob (F-statistic):} &    0.715    \\\\\n\\textbf{Time:}             &     14:10:33     & \\textbf{  Log-Likelihood:    } &   -16.102   \\\\\n\\textbf{No. Observations:} &          10      & \\textbf{  AIC:               } &     40.20   \\\\\n\\textbf{Df Residuals:}     &           6      & \\textbf{  BIC:               } &     41.41   \\\\\n\\textbf{Df Model:}         &           3      & \\textbf{                     } &             \\\\\n\\textbf{Covariance Type:}  &    nonrobust     & \\textbf{                     } &             \\\\\n\\bottomrule\n\\end{tabular}\n\\begin{tabular}{lcccccc}\n               & \\textbf{coef} & \\textbf{std err} & \\textbf{t} & \\textbf{P$> |$t$|$} & \\textbf{[0.025} & \\textbf{0.975]}  \\\\\n\\midrule\n\\textbf{const} &       2.8246  &        4.485     &     0.630  &         0.552        &       -8.150    &       13.799     \\\\\n\\textbf{LINE}  &       0.4172  &        1.227     &     0.340  &         0.745        &       -2.585    &        3.420     \\\\\n\\textbf{OVER}  &       0.0068  &        0.006     &     1.159  &         0.290        &       -0.007    &        0.021     \\\\\n\\textbf{UNDER} &       0.0062  &        0.007     &     0.938  &         0.385        &       -0.010    &        0.022     \\\\\n\\bottomrule\n\\end{tabular}\n\\begin{tabular}{lclc}\n\\textbf{Omnibus:}       &  0.186 & \\textbf{  Durbin-Watson:     } &    2.494  \\\\\n\\textbf{Prob(Omnibus):} &  0.911 & \\textbf{  Jarque-Bera (JB):  } &    0.337  \\\\\n\\textbf{Skew:}          &  0.227 & \\textbf{  Prob(JB):          } &    0.845  \\\\\n\\textbf{Kurtosis:}      &  2.225 & \\textbf{  Cond. No.          } & 1.32e+03  \\\\\n\\bottomrule\n\\end{tabular}\n%\\caption{OLS Regression Results}\n\\end{center}\n\nNotes: \\newline\n [1] Standard Errors assume that the covariance matrix of the errors is correctly specified. \\newline\n [2] The condition number is large, 1.32e+03. This might indicate that there are \\newline\n strong multicollinearity or other numerical problems."
          },
          "metadata": {},
          "execution_count": 37
        }
      ]
    },
    {
      "cell_type": "code",
      "source": [
        "# Define the new data point\n",
        "new_data = {\n",
        "    'const': 1,\n",
        "    'LINE': 3.5,\n",
        "    'OVER': 110,\n",
        "    'UNDER': -145\n",
        "}\n",
        "\n",
        "# Convert the new data point to a DataFrame\n",
        "new_df = pd.DataFrame([new_data])\n",
        "\n",
        "# Predict the total strikeout using the model\n",
        "predicted_strikeout = model.predict(new_df)\n",
        "predicted_strikeout\n"
      ],
      "metadata": {
        "colab": {
          "base_uri": "https://localhost:8080/"
        },
        "outputId": "d7cad12a-bb7b-4bbb-f1b5-1a48e730af5c",
        "id": "I9ddMqgvVHVu"
      },
      "execution_count": 38,
      "outputs": [
        {
          "output_type": "execute_result",
          "data": {
            "text/plain": [
              "0    4.133217\n",
              "dtype: float64"
            ]
          },
          "metadata": {},
          "execution_count": 38
        }
      ]
    },
    {
      "cell_type": "markdown",
      "source": [
        "#MICHAEL WACHA"
      ],
      "metadata": {
        "id": "Ah8cMU_8YQ8N"
      }
    },
    {
      "cell_type": "code",
      "source": [],
      "metadata": {
        "id": "sECoglq2YTX9"
      },
      "execution_count": null,
      "outputs": []
    },
    {
      "cell_type": "code",
      "source": [
        "import pandas as pd\n",
        "import statsmodels.api as sm\n",
        "\n",
        "# Define the data\n",
        "data = {\n",
        "    \"LINE\": [4.5, 5.5, 3.5, 3.5, 3.5, 4.5, 4.5, 5.5, 4.5, 4.5],\n",
        "    \"OVER\": [-156, 126, -128, -111, -112, -118, -126, 110, -142, 120],\n",
        "    \"UNDER\": [122, -160, 102, -115, -112, -108, -102, -140, 112, -152],\n",
        "    \"STRIKEOUT\": [3, 8, 6, 5, 2, 7, 3, 7, 6, 3]\n",
        "}\n",
        "# Create a DataFrame\n",
        "df = pd.DataFrame(data)\n",
        "\n",
        "# Define the independent variables and the dependent variable\n",
        "X = df[['LINE', 'OVER', 'UNDER']]\n",
        "y = df['STRIKEOUT']\n",
        "\n",
        "# Add a constant to the independent variables\n",
        "X = sm.add_constant(X)\n",
        "\n",
        "# Fit the linear regression model\n",
        "model = sm.OLS(y, X).fit()\n",
        "\n",
        "# Get the summary of the regression\n",
        "summary = model.summary()\n",
        "summary\n"
      ],
      "metadata": {
        "colab": {
          "base_uri": "https://localhost:8080/",
          "height": 554
        },
        "outputId": "a6cdc015-0386-46c1-beb9-23b17934e0ee",
        "id": "MBSwAcHPYTpu"
      },
      "execution_count": 39,
      "outputs": [
        {
          "output_type": "stream",
          "name": "stderr",
          "text": [
            "/usr/local/lib/python3.10/dist-packages/scipy/stats/_stats_py.py:1806: UserWarning: kurtosistest only valid for n>=20 ... continuing anyway, n=10\n",
            "  warnings.warn(\"kurtosistest only valid for n>=20 ... continuing \"\n"
          ]
        },
        {
          "output_type": "execute_result",
          "data": {
            "text/plain": [
              "<class 'statsmodels.iolib.summary.Summary'>\n",
              "\"\"\"\n",
              "                            OLS Regression Results                            \n",
              "==============================================================================\n",
              "Dep. Variable:              STRIKEOUT   R-squared:                       0.259\n",
              "Model:                            OLS   Adj. R-squared:                 -0.111\n",
              "Method:                 Least Squares   F-statistic:                    0.6998\n",
              "Date:                Fri, 19 Jul 2024   Prob (F-statistic):              0.586\n",
              "Time:                        14:24:40   Log-Likelihood:                -19.621\n",
              "No. Observations:                  10   AIC:                             47.24\n",
              "Df Residuals:                       6   BIC:                             48.45\n",
              "Df Model:                           3                                         \n",
              "Covariance Type:            nonrobust                                         \n",
              "==============================================================================\n",
              "                 coef    std err          t      P>|t|      [0.025      0.975]\n",
              "------------------------------------------------------------------------------\n",
              "const         -0.7502      6.688     -0.112      0.914     -17.114      15.614\n",
              "LINE           1.3561      1.391      0.975      0.367      -2.047       4.760\n",
              "OVER           0.0017      0.011      0.156      0.881      -0.024       0.028\n",
              "UNDER          0.0023      0.008      0.273      0.794      -0.018       0.023\n",
              "==============================================================================\n",
              "Omnibus:                        4.720   Durbin-Watson:                   2.262\n",
              "Prob(Omnibus):                  0.094   Jarque-Bera (JB):                1.226\n",
              "Skew:                          -0.222   Prob(JB):                        0.542\n",
              "Kurtosis:                       1.344   Cond. No.                     1.40e+03\n",
              "==============================================================================\n",
              "\n",
              "Notes:\n",
              "[1] Standard Errors assume that the covariance matrix of the errors is correctly specified.\n",
              "[2] The condition number is large, 1.4e+03. This might indicate that there are\n",
              "strong multicollinearity or other numerical problems.\n",
              "\"\"\""
            ],
            "text/html": [
              "<table class=\"simpletable\">\n",
              "<caption>OLS Regression Results</caption>\n",
              "<tr>\n",
              "  <th>Dep. Variable:</th>        <td>STRIKEOUT</td>    <th>  R-squared:         </th> <td>   0.259</td>\n",
              "</tr>\n",
              "<tr>\n",
              "  <th>Model:</th>                   <td>OLS</td>       <th>  Adj. R-squared:    </th> <td>  -0.111</td>\n",
              "</tr>\n",
              "<tr>\n",
              "  <th>Method:</th>             <td>Least Squares</td>  <th>  F-statistic:       </th> <td>  0.6998</td>\n",
              "</tr>\n",
              "<tr>\n",
              "  <th>Date:</th>             <td>Fri, 19 Jul 2024</td> <th>  Prob (F-statistic):</th>  <td> 0.586</td> \n",
              "</tr>\n",
              "<tr>\n",
              "  <th>Time:</th>                 <td>14:24:40</td>     <th>  Log-Likelihood:    </th> <td> -19.621</td>\n",
              "</tr>\n",
              "<tr>\n",
              "  <th>No. Observations:</th>      <td>    10</td>      <th>  AIC:               </th> <td>   47.24</td>\n",
              "</tr>\n",
              "<tr>\n",
              "  <th>Df Residuals:</th>          <td>     6</td>      <th>  BIC:               </th> <td>   48.45</td>\n",
              "</tr>\n",
              "<tr>\n",
              "  <th>Df Model:</th>              <td>     3</td>      <th>                     </th>     <td> </td>   \n",
              "</tr>\n",
              "<tr>\n",
              "  <th>Covariance Type:</th>      <td>nonrobust</td>    <th>                     </th>     <td> </td>   \n",
              "</tr>\n",
              "</table>\n",
              "<table class=\"simpletable\">\n",
              "<tr>\n",
              "    <td></td>       <th>coef</th>     <th>std err</th>      <th>t</th>      <th>P>|t|</th>  <th>[0.025</th>    <th>0.975]</th>  \n",
              "</tr>\n",
              "<tr>\n",
              "  <th>const</th> <td>   -0.7502</td> <td>    6.688</td> <td>   -0.112</td> <td> 0.914</td> <td>  -17.114</td> <td>   15.614</td>\n",
              "</tr>\n",
              "<tr>\n",
              "  <th>LINE</th>  <td>    1.3561</td> <td>    1.391</td> <td>    0.975</td> <td> 0.367</td> <td>   -2.047</td> <td>    4.760</td>\n",
              "</tr>\n",
              "<tr>\n",
              "  <th>OVER</th>  <td>    0.0017</td> <td>    0.011</td> <td>    0.156</td> <td> 0.881</td> <td>   -0.024</td> <td>    0.028</td>\n",
              "</tr>\n",
              "<tr>\n",
              "  <th>UNDER</th> <td>    0.0023</td> <td>    0.008</td> <td>    0.273</td> <td> 0.794</td> <td>   -0.018</td> <td>    0.023</td>\n",
              "</tr>\n",
              "</table>\n",
              "<table class=\"simpletable\">\n",
              "<tr>\n",
              "  <th>Omnibus:</th>       <td> 4.720</td> <th>  Durbin-Watson:     </th> <td>   2.262</td>\n",
              "</tr>\n",
              "<tr>\n",
              "  <th>Prob(Omnibus):</th> <td> 0.094</td> <th>  Jarque-Bera (JB):  </th> <td>   1.226</td>\n",
              "</tr>\n",
              "<tr>\n",
              "  <th>Skew:</th>          <td>-0.222</td> <th>  Prob(JB):          </th> <td>   0.542</td>\n",
              "</tr>\n",
              "<tr>\n",
              "  <th>Kurtosis:</th>      <td> 1.344</td> <th>  Cond. No.          </th> <td>1.40e+03</td>\n",
              "</tr>\n",
              "</table><br/><br/>Notes:<br/>[1] Standard Errors assume that the covariance matrix of the errors is correctly specified.<br/>[2] The condition number is large, 1.4e+03. This might indicate that there are<br/>strong multicollinearity or other numerical problems."
            ],
            "text/latex": "\\begin{center}\n\\begin{tabular}{lclc}\n\\toprule\n\\textbf{Dep. Variable:}    &    STRIKEOUT     & \\textbf{  R-squared:         } &     0.259   \\\\\n\\textbf{Model:}            &       OLS        & \\textbf{  Adj. R-squared:    } &    -0.111   \\\\\n\\textbf{Method:}           &  Least Squares   & \\textbf{  F-statistic:       } &    0.6998   \\\\\n\\textbf{Date:}             & Fri, 19 Jul 2024 & \\textbf{  Prob (F-statistic):} &    0.586    \\\\\n\\textbf{Time:}             &     14:24:40     & \\textbf{  Log-Likelihood:    } &   -19.621   \\\\\n\\textbf{No. Observations:} &          10      & \\textbf{  AIC:               } &     47.24   \\\\\n\\textbf{Df Residuals:}     &           6      & \\textbf{  BIC:               } &     48.45   \\\\\n\\textbf{Df Model:}         &           3      & \\textbf{                     } &             \\\\\n\\textbf{Covariance Type:}  &    nonrobust     & \\textbf{                     } &             \\\\\n\\bottomrule\n\\end{tabular}\n\\begin{tabular}{lcccccc}\n               & \\textbf{coef} & \\textbf{std err} & \\textbf{t} & \\textbf{P$> |$t$|$} & \\textbf{[0.025} & \\textbf{0.975]}  \\\\\n\\midrule\n\\textbf{const} &      -0.7502  &        6.688     &    -0.112  &         0.914        &      -17.114    &       15.614     \\\\\n\\textbf{LINE}  &       1.3561  &        1.391     &     0.975  &         0.367        &       -2.047    &        4.760     \\\\\n\\textbf{OVER}  &       0.0017  &        0.011     &     0.156  &         0.881        &       -0.024    &        0.028     \\\\\n\\textbf{UNDER} &       0.0023  &        0.008     &     0.273  &         0.794        &       -0.018    &        0.023     \\\\\n\\bottomrule\n\\end{tabular}\n\\begin{tabular}{lclc}\n\\textbf{Omnibus:}       &  4.720 & \\textbf{  Durbin-Watson:     } &    2.262  \\\\\n\\textbf{Prob(Omnibus):} &  0.094 & \\textbf{  Jarque-Bera (JB):  } &    1.226  \\\\\n\\textbf{Skew:}          & -0.222 & \\textbf{  Prob(JB):          } &    0.542  \\\\\n\\textbf{Kurtosis:}      &  1.344 & \\textbf{  Cond. No.          } & 1.40e+03  \\\\\n\\bottomrule\n\\end{tabular}\n%\\caption{OLS Regression Results}\n\\end{center}\n\nNotes: \\newline\n [1] Standard Errors assume that the covariance matrix of the errors is correctly specified. \\newline\n [2] The condition number is large, 1.4e+03. This might indicate that there are \\newline\n strong multicollinearity or other numerical problems."
          },
          "metadata": {},
          "execution_count": 39
        }
      ]
    },
    {
      "cell_type": "code",
      "source": [
        "# Define the new data point\n",
        "new_data = {\n",
        "    'const': 1,\n",
        "    'LINE': 4.5,\n",
        "    'OVER': -130,\n",
        "    'UNDER': 100\n",
        "}\n",
        "\n",
        "# Convert the new data point to a DataFrame\n",
        "new_df = pd.DataFrame([new_data])\n",
        "\n",
        "# Predict the total strikeout using the model\n",
        "predicted_strikeout = model.predict(new_df)\n",
        "predicted_strikeout\n"
      ],
      "metadata": {
        "colab": {
          "base_uri": "https://localhost:8080/"
        },
        "outputId": "496d65de-52bd-4942-e74d-8a260037a32e",
        "id": "hw62giBIYbTi"
      },
      "execution_count": 40,
      "outputs": [
        {
          "output_type": "execute_result",
          "data": {
            "text/plain": [
              "0    5.366488\n",
              "dtype: float64"
            ]
          },
          "metadata": {},
          "execution_count": 40
        }
      ]
    },
    {
      "cell_type": "markdown",
      "source": [
        "#CAL QUANTRIL"
      ],
      "metadata": {
        "id": "ZYqCsqiXaKI8"
      }
    },
    {
      "cell_type": "code",
      "source": [],
      "metadata": {
        "id": "57VPodaHaNL-"
      },
      "execution_count": null,
      "outputs": []
    },
    {
      "cell_type": "code",
      "source": [
        "import pandas as pd\n",
        "import statsmodels.api as sm\n",
        "\n",
        "# Define the data\n",
        "data = {\n",
        "    \"LINE\": [5.5, 3.5, 4.5, 3.5, 3.5, 4.5, 3.5, 3.5, 3.5, 4.5],\n",
        "    \"OVER\": [124, -152, 124, 108, -116, 124, -160, -138, -130, -102],\n",
        "    \"UNDER\": [-158, 120, -160, -136, -110, -158, 124, 108, 102, -125],\n",
        "    \"STRIKEOUT\": [4, 2, 8, 5, 3, 5, 1, 1, 5, 8]\n",
        "}\n",
        "# Create a DataFrame\n",
        "df = pd.DataFrame(data)\n",
        "\n",
        "# Define the independent variables and the dependent variable\n",
        "X = df[['LINE', 'OVER', 'UNDER']]\n",
        "y = df['STRIKEOUT']\n",
        "\n",
        "# Add a constant to the independent variables\n",
        "X = sm.add_constant(X)\n",
        "\n",
        "# Fit the linear regression model\n",
        "model = sm.OLS(y, X).fit()\n",
        "\n",
        "# Get the summary of the regression\n",
        "summary = model.summary()\n",
        "summary\n"
      ],
      "metadata": {
        "colab": {
          "base_uri": "https://localhost:8080/",
          "height": 554
        },
        "outputId": "eaefeb67-4a47-4490-a8bd-71aafb86a9f9",
        "id": "Ju4U_CMZaNfP"
      },
      "execution_count": 43,
      "outputs": [
        {
          "output_type": "stream",
          "name": "stderr",
          "text": [
            "/usr/local/lib/python3.10/dist-packages/scipy/stats/_stats_py.py:1806: UserWarning: kurtosistest only valid for n>=20 ... continuing anyway, n=10\n",
            "  warnings.warn(\"kurtosistest only valid for n>=20 ... continuing \"\n"
          ]
        },
        {
          "output_type": "execute_result",
          "data": {
            "text/plain": [
              "<class 'statsmodels.iolib.summary.Summary'>\n",
              "\"\"\"\n",
              "                            OLS Regression Results                            \n",
              "==============================================================================\n",
              "Dep. Variable:              STRIKEOUT   R-squared:                       0.483\n",
              "Model:                            OLS   Adj. R-squared:                  0.224\n",
              "Method:                 Least Squares   F-statistic:                     1.866\n",
              "Date:                Fri, 19 Jul 2024   Prob (F-statistic):              0.236\n",
              "Time:                        14:37:10   Log-Likelihood:                -19.648\n",
              "No. Observations:                  10   AIC:                             47.30\n",
              "Df Residuals:                       6   BIC:                             48.51\n",
              "Df Model:                           3                                         \n",
              "Covariance Type:            nonrobust                                         \n",
              "==============================================================================\n",
              "                 coef    std err          t      P>|t|      [0.025      0.975]\n",
              "------------------------------------------------------------------------------\n",
              "const          2.1975      5.912      0.372      0.723     -12.268      16.663\n",
              "LINE           0.3437      1.466      0.234      0.822      -3.244       3.932\n",
              "OVER          -0.0025      0.010     -0.252      0.809      -0.027       0.022\n",
              "UNDER         -0.0139      0.010     -1.398      0.212      -0.038       0.010\n",
              "==============================================================================\n",
              "Omnibus:                        1.828   Durbin-Watson:                   1.287\n",
              "Prob(Omnibus):                  0.401   Jarque-Bera (JB):                0.983\n",
              "Skew:                           0.421   Prob(JB):                        0.612\n",
              "Kurtosis:                       1.715   Cond. No.                     1.46e+03\n",
              "==============================================================================\n",
              "\n",
              "Notes:\n",
              "[1] Standard Errors assume that the covariance matrix of the errors is correctly specified.\n",
              "[2] The condition number is large, 1.46e+03. This might indicate that there are\n",
              "strong multicollinearity or other numerical problems.\n",
              "\"\"\""
            ],
            "text/html": [
              "<table class=\"simpletable\">\n",
              "<caption>OLS Regression Results</caption>\n",
              "<tr>\n",
              "  <th>Dep. Variable:</th>        <td>STRIKEOUT</td>    <th>  R-squared:         </th> <td>   0.483</td>\n",
              "</tr>\n",
              "<tr>\n",
              "  <th>Model:</th>                   <td>OLS</td>       <th>  Adj. R-squared:    </th> <td>   0.224</td>\n",
              "</tr>\n",
              "<tr>\n",
              "  <th>Method:</th>             <td>Least Squares</td>  <th>  F-statistic:       </th> <td>   1.866</td>\n",
              "</tr>\n",
              "<tr>\n",
              "  <th>Date:</th>             <td>Fri, 19 Jul 2024</td> <th>  Prob (F-statistic):</th>  <td> 0.236</td> \n",
              "</tr>\n",
              "<tr>\n",
              "  <th>Time:</th>                 <td>14:37:10</td>     <th>  Log-Likelihood:    </th> <td> -19.648</td>\n",
              "</tr>\n",
              "<tr>\n",
              "  <th>No. Observations:</th>      <td>    10</td>      <th>  AIC:               </th> <td>   47.30</td>\n",
              "</tr>\n",
              "<tr>\n",
              "  <th>Df Residuals:</th>          <td>     6</td>      <th>  BIC:               </th> <td>   48.51</td>\n",
              "</tr>\n",
              "<tr>\n",
              "  <th>Df Model:</th>              <td>     3</td>      <th>                     </th>     <td> </td>   \n",
              "</tr>\n",
              "<tr>\n",
              "  <th>Covariance Type:</th>      <td>nonrobust</td>    <th>                     </th>     <td> </td>   \n",
              "</tr>\n",
              "</table>\n",
              "<table class=\"simpletable\">\n",
              "<tr>\n",
              "    <td></td>       <th>coef</th>     <th>std err</th>      <th>t</th>      <th>P>|t|</th>  <th>[0.025</th>    <th>0.975]</th>  \n",
              "</tr>\n",
              "<tr>\n",
              "  <th>const</th> <td>    2.1975</td> <td>    5.912</td> <td>    0.372</td> <td> 0.723</td> <td>  -12.268</td> <td>   16.663</td>\n",
              "</tr>\n",
              "<tr>\n",
              "  <th>LINE</th>  <td>    0.3437</td> <td>    1.466</td> <td>    0.234</td> <td> 0.822</td> <td>   -3.244</td> <td>    3.932</td>\n",
              "</tr>\n",
              "<tr>\n",
              "  <th>OVER</th>  <td>   -0.0025</td> <td>    0.010</td> <td>   -0.252</td> <td> 0.809</td> <td>   -0.027</td> <td>    0.022</td>\n",
              "</tr>\n",
              "<tr>\n",
              "  <th>UNDER</th> <td>   -0.0139</td> <td>    0.010</td> <td>   -1.398</td> <td> 0.212</td> <td>   -0.038</td> <td>    0.010</td>\n",
              "</tr>\n",
              "</table>\n",
              "<table class=\"simpletable\">\n",
              "<tr>\n",
              "  <th>Omnibus:</th>       <td> 1.828</td> <th>  Durbin-Watson:     </th> <td>   1.287</td>\n",
              "</tr>\n",
              "<tr>\n",
              "  <th>Prob(Omnibus):</th> <td> 0.401</td> <th>  Jarque-Bera (JB):  </th> <td>   0.983</td>\n",
              "</tr>\n",
              "<tr>\n",
              "  <th>Skew:</th>          <td> 0.421</td> <th>  Prob(JB):          </th> <td>   0.612</td>\n",
              "</tr>\n",
              "<tr>\n",
              "  <th>Kurtosis:</th>      <td> 1.715</td> <th>  Cond. No.          </th> <td>1.46e+03</td>\n",
              "</tr>\n",
              "</table><br/><br/>Notes:<br/>[1] Standard Errors assume that the covariance matrix of the errors is correctly specified.<br/>[2] The condition number is large, 1.46e+03. This might indicate that there are<br/>strong multicollinearity or other numerical problems."
            ],
            "text/latex": "\\begin{center}\n\\begin{tabular}{lclc}\n\\toprule\n\\textbf{Dep. Variable:}    &    STRIKEOUT     & \\textbf{  R-squared:         } &     0.483   \\\\\n\\textbf{Model:}            &       OLS        & \\textbf{  Adj. R-squared:    } &     0.224   \\\\\n\\textbf{Method:}           &  Least Squares   & \\textbf{  F-statistic:       } &     1.866   \\\\\n\\textbf{Date:}             & Fri, 19 Jul 2024 & \\textbf{  Prob (F-statistic):} &    0.236    \\\\\n\\textbf{Time:}             &     14:37:10     & \\textbf{  Log-Likelihood:    } &   -19.648   \\\\\n\\textbf{No. Observations:} &          10      & \\textbf{  AIC:               } &     47.30   \\\\\n\\textbf{Df Residuals:}     &           6      & \\textbf{  BIC:               } &     48.51   \\\\\n\\textbf{Df Model:}         &           3      & \\textbf{                     } &             \\\\\n\\textbf{Covariance Type:}  &    nonrobust     & \\textbf{                     } &             \\\\\n\\bottomrule\n\\end{tabular}\n\\begin{tabular}{lcccccc}\n               & \\textbf{coef} & \\textbf{std err} & \\textbf{t} & \\textbf{P$> |$t$|$} & \\textbf{[0.025} & \\textbf{0.975]}  \\\\\n\\midrule\n\\textbf{const} &       2.1975  &        5.912     &     0.372  &         0.723        &      -12.268    &       16.663     \\\\\n\\textbf{LINE}  &       0.3437  &        1.466     &     0.234  &         0.822        &       -3.244    &        3.932     \\\\\n\\textbf{OVER}  &      -0.0025  &        0.010     &    -0.252  &         0.809        &       -0.027    &        0.022     \\\\\n\\textbf{UNDER} &      -0.0139  &        0.010     &    -1.398  &         0.212        &       -0.038    &        0.010     \\\\\n\\bottomrule\n\\end{tabular}\n\\begin{tabular}{lclc}\n\\textbf{Omnibus:}       &  1.828 & \\textbf{  Durbin-Watson:     } &    1.287  \\\\\n\\textbf{Prob(Omnibus):} &  0.401 & \\textbf{  Jarque-Bera (JB):  } &    0.983  \\\\\n\\textbf{Skew:}          &  0.421 & \\textbf{  Prob(JB):          } &    0.612  \\\\\n\\textbf{Kurtosis:}      &  1.715 & \\textbf{  Cond. No.          } & 1.46e+03  \\\\\n\\bottomrule\n\\end{tabular}\n%\\caption{OLS Regression Results}\n\\end{center}\n\nNotes: \\newline\n [1] Standard Errors assume that the covariance matrix of the errors is correctly specified. \\newline\n [2] The condition number is large, 1.46e+03. This might indicate that there are \\newline\n strong multicollinearity or other numerical problems."
          },
          "metadata": {},
          "execution_count": 43
        }
      ]
    },
    {
      "cell_type": "code",
      "source": [
        "# Define the new data point\n",
        "new_data = {\n",
        "    'const': 1,\n",
        "    'LINE': 3.5,\n",
        "    'OVER': -150,\n",
        "    'UNDER': 115\n",
        "}\n",
        "\n",
        "# Convert the new data point to a DataFrame\n",
        "new_df = pd.DataFrame([new_data])\n",
        "\n",
        "# Predict the total strikeout using the model\n",
        "predicted_strikeout = model.predict(new_df)\n",
        "predicted_strikeout\n"
      ],
      "metadata": {
        "colab": {
          "base_uri": "https://localhost:8080/"
        },
        "outputId": "719aac1b-dace-42bd-d8cb-6d7875ece048",
        "id": "40bNUPFbaWL5"
      },
      "execution_count": 44,
      "outputs": [
        {
          "output_type": "execute_result",
          "data": {
            "text/plain": [
              "0    2.173768\n",
              "dtype: float64"
            ]
          },
          "metadata": {},
          "execution_count": 44
        }
      ]
    },
    {
      "cell_type": "markdown",
      "source": [
        "#KYLE HARRISON"
      ],
      "metadata": {
        "id": "assovidNbV63"
      }
    },
    {
      "cell_type": "code",
      "source": [
        "import pandas as pd\n",
        "import statsmodels.api as sm\n",
        "\n",
        "# Define the data\n",
        "data = {\n",
        "    \"LINE\": [4.5, 3.5, 3.5, 4.5, 5.5, 4.5, 5.5, 5.5, 5.5, 5.5],\n",
        "    \"OVER\": [120, -120, -166, 102, 122, -148, -146, 124, -128, -113],\n",
        "    \"UNDER\": [-160, -106, 130, -130, -154, 116, 116, -158, -100, -113],\n",
        "    \"STRIKEOUT\": [3, 2, 3, 5, 5, 6, 4, 5, 2, 7]\n",
        "}\n",
        "# Create a DataFrame\n",
        "df = pd.DataFrame(data)\n",
        "\n",
        "# Define the independent variables and the dependent variable\n",
        "X = df[['LINE', 'OVER', 'UNDER']]\n",
        "y = df['STRIKEOUT']\n",
        "\n",
        "# Add a constant to the independent variables\n",
        "X = sm.add_constant(X)\n",
        "\n",
        "# Fit the linear regression model\n",
        "model = sm.OLS(y, X).fit()\n",
        "\n",
        "# Get the summary of the regression\n",
        "summary = model.summary()\n",
        "summary\n"
      ],
      "metadata": {
        "colab": {
          "base_uri": "https://localhost:8080/",
          "height": 554
        },
        "outputId": "52930f7f-41ca-486a-cd34-fdae60137566",
        "id": "YxVGeCXybbd8"
      },
      "execution_count": 45,
      "outputs": [
        {
          "output_type": "stream",
          "name": "stderr",
          "text": [
            "/usr/local/lib/python3.10/dist-packages/scipy/stats/_stats_py.py:1806: UserWarning: kurtosistest only valid for n>=20 ... continuing anyway, n=10\n",
            "  warnings.warn(\"kurtosistest only valid for n>=20 ... continuing \"\n"
          ]
        },
        {
          "output_type": "execute_result",
          "data": {
            "text/plain": [
              "<class 'statsmodels.iolib.summary.Summary'>\n",
              "\"\"\"\n",
              "                            OLS Regression Results                            \n",
              "==============================================================================\n",
              "Dep. Variable:              STRIKEOUT   R-squared:                       0.249\n",
              "Model:                            OLS   Adj. R-squared:                 -0.126\n",
              "Method:                 Least Squares   F-statistic:                    0.6647\n",
              "Date:                Fri, 19 Jul 2024   Prob (F-statistic):              0.604\n",
              "Time:                        14:40:31   Log-Likelihood:                -17.455\n",
              "No. Observations:                  10   AIC:                             42.91\n",
              "Df Residuals:                       6   BIC:                             44.12\n",
              "Df Model:                           3                                         \n",
              "Covariance Type:            nonrobust                                         \n",
              "==============================================================================\n",
              "                 coef    std err          t      P>|t|      [0.025      0.975]\n",
              "------------------------------------------------------------------------------\n",
              "const          0.1211      3.688      0.033      0.975      -8.902       9.144\n",
              "LINE           0.9371      0.759      1.235      0.263      -0.919       2.794\n",
              "OVER           0.0040      0.007      0.599      0.571      -0.012       0.020\n",
              "UNDER          0.0050      0.007      0.692      0.515      -0.013       0.023\n",
              "==============================================================================\n",
              "Omnibus:                        0.680   Durbin-Watson:                   2.406\n",
              "Prob(Omnibus):                  0.712   Jarque-Bera (JB):                0.368\n",
              "Skew:                           0.418   Prob(JB):                        0.832\n",
              "Kurtosis:                       2.571   Cond. No.                     1.07e+03\n",
              "==============================================================================\n",
              "\n",
              "Notes:\n",
              "[1] Standard Errors assume that the covariance matrix of the errors is correctly specified.\n",
              "[2] The condition number is large, 1.07e+03. This might indicate that there are\n",
              "strong multicollinearity or other numerical problems.\n",
              "\"\"\""
            ],
            "text/html": [
              "<table class=\"simpletable\">\n",
              "<caption>OLS Regression Results</caption>\n",
              "<tr>\n",
              "  <th>Dep. Variable:</th>        <td>STRIKEOUT</td>    <th>  R-squared:         </th> <td>   0.249</td>\n",
              "</tr>\n",
              "<tr>\n",
              "  <th>Model:</th>                   <td>OLS</td>       <th>  Adj. R-squared:    </th> <td>  -0.126</td>\n",
              "</tr>\n",
              "<tr>\n",
              "  <th>Method:</th>             <td>Least Squares</td>  <th>  F-statistic:       </th> <td>  0.6647</td>\n",
              "</tr>\n",
              "<tr>\n",
              "  <th>Date:</th>             <td>Fri, 19 Jul 2024</td> <th>  Prob (F-statistic):</th>  <td> 0.604</td> \n",
              "</tr>\n",
              "<tr>\n",
              "  <th>Time:</th>                 <td>14:40:31</td>     <th>  Log-Likelihood:    </th> <td> -17.455</td>\n",
              "</tr>\n",
              "<tr>\n",
              "  <th>No. Observations:</th>      <td>    10</td>      <th>  AIC:               </th> <td>   42.91</td>\n",
              "</tr>\n",
              "<tr>\n",
              "  <th>Df Residuals:</th>          <td>     6</td>      <th>  BIC:               </th> <td>   44.12</td>\n",
              "</tr>\n",
              "<tr>\n",
              "  <th>Df Model:</th>              <td>     3</td>      <th>                     </th>     <td> </td>   \n",
              "</tr>\n",
              "<tr>\n",
              "  <th>Covariance Type:</th>      <td>nonrobust</td>    <th>                     </th>     <td> </td>   \n",
              "</tr>\n",
              "</table>\n",
              "<table class=\"simpletable\">\n",
              "<tr>\n",
              "    <td></td>       <th>coef</th>     <th>std err</th>      <th>t</th>      <th>P>|t|</th>  <th>[0.025</th>    <th>0.975]</th>  \n",
              "</tr>\n",
              "<tr>\n",
              "  <th>const</th> <td>    0.1211</td> <td>    3.688</td> <td>    0.033</td> <td> 0.975</td> <td>   -8.902</td> <td>    9.144</td>\n",
              "</tr>\n",
              "<tr>\n",
              "  <th>LINE</th>  <td>    0.9371</td> <td>    0.759</td> <td>    1.235</td> <td> 0.263</td> <td>   -0.919</td> <td>    2.794</td>\n",
              "</tr>\n",
              "<tr>\n",
              "  <th>OVER</th>  <td>    0.0040</td> <td>    0.007</td> <td>    0.599</td> <td> 0.571</td> <td>   -0.012</td> <td>    0.020</td>\n",
              "</tr>\n",
              "<tr>\n",
              "  <th>UNDER</th> <td>    0.0050</td> <td>    0.007</td> <td>    0.692</td> <td> 0.515</td> <td>   -0.013</td> <td>    0.023</td>\n",
              "</tr>\n",
              "</table>\n",
              "<table class=\"simpletable\">\n",
              "<tr>\n",
              "  <th>Omnibus:</th>       <td> 0.680</td> <th>  Durbin-Watson:     </th> <td>   2.406</td>\n",
              "</tr>\n",
              "<tr>\n",
              "  <th>Prob(Omnibus):</th> <td> 0.712</td> <th>  Jarque-Bera (JB):  </th> <td>   0.368</td>\n",
              "</tr>\n",
              "<tr>\n",
              "  <th>Skew:</th>          <td> 0.418</td> <th>  Prob(JB):          </th> <td>   0.832</td>\n",
              "</tr>\n",
              "<tr>\n",
              "  <th>Kurtosis:</th>      <td> 2.571</td> <th>  Cond. No.          </th> <td>1.07e+03</td>\n",
              "</tr>\n",
              "</table><br/><br/>Notes:<br/>[1] Standard Errors assume that the covariance matrix of the errors is correctly specified.<br/>[2] The condition number is large, 1.07e+03. This might indicate that there are<br/>strong multicollinearity or other numerical problems."
            ],
            "text/latex": "\\begin{center}\n\\begin{tabular}{lclc}\n\\toprule\n\\textbf{Dep. Variable:}    &    STRIKEOUT     & \\textbf{  R-squared:         } &     0.249   \\\\\n\\textbf{Model:}            &       OLS        & \\textbf{  Adj. R-squared:    } &    -0.126   \\\\\n\\textbf{Method:}           &  Least Squares   & \\textbf{  F-statistic:       } &    0.6647   \\\\\n\\textbf{Date:}             & Fri, 19 Jul 2024 & \\textbf{  Prob (F-statistic):} &    0.604    \\\\\n\\textbf{Time:}             &     14:40:31     & \\textbf{  Log-Likelihood:    } &   -17.455   \\\\\n\\textbf{No. Observations:} &          10      & \\textbf{  AIC:               } &     42.91   \\\\\n\\textbf{Df Residuals:}     &           6      & \\textbf{  BIC:               } &     44.12   \\\\\n\\textbf{Df Model:}         &           3      & \\textbf{                     } &             \\\\\n\\textbf{Covariance Type:}  &    nonrobust     & \\textbf{                     } &             \\\\\n\\bottomrule\n\\end{tabular}\n\\begin{tabular}{lcccccc}\n               & \\textbf{coef} & \\textbf{std err} & \\textbf{t} & \\textbf{P$> |$t$|$} & \\textbf{[0.025} & \\textbf{0.975]}  \\\\\n\\midrule\n\\textbf{const} &       0.1211  &        3.688     &     0.033  &         0.975        &       -8.902    &        9.144     \\\\\n\\textbf{LINE}  &       0.9371  &        0.759     &     1.235  &         0.263        &       -0.919    &        2.794     \\\\\n\\textbf{OVER}  &       0.0040  &        0.007     &     0.599  &         0.571        &       -0.012    &        0.020     \\\\\n\\textbf{UNDER} &       0.0050  &        0.007     &     0.692  &         0.515        &       -0.013    &        0.023     \\\\\n\\bottomrule\n\\end{tabular}\n\\begin{tabular}{lclc}\n\\textbf{Omnibus:}       &  0.680 & \\textbf{  Durbin-Watson:     } &    2.406  \\\\\n\\textbf{Prob(Omnibus):} &  0.712 & \\textbf{  Jarque-Bera (JB):  } &    0.368  \\\\\n\\textbf{Skew:}          &  0.418 & \\textbf{  Prob(JB):          } &    0.832  \\\\\n\\textbf{Kurtosis:}      &  2.571 & \\textbf{  Cond. No.          } & 1.07e+03  \\\\\n\\bottomrule\n\\end{tabular}\n%\\caption{OLS Regression Results}\n\\end{center}\n\nNotes: \\newline\n [1] Standard Errors assume that the covariance matrix of the errors is correctly specified. \\newline\n [2] The condition number is large, 1.07e+03. This might indicate that there are \\newline\n strong multicollinearity or other numerical problems."
          },
          "metadata": {},
          "execution_count": 45
        }
      ]
    },
    {
      "cell_type": "code",
      "source": [
        "# Define the new data point\n",
        "new_data = {\n",
        "    'const': 1,\n",
        "    'LINE': 4.5,\n",
        "    'OVER': 105,\n",
        "    'UNDER': -135\n",
        "}\n",
        "\n",
        "# Convert the new data point to a DataFrame\n",
        "new_df = pd.DataFrame([new_data])\n",
        "\n",
        "# Predict the total strikeout using the model\n",
        "predicted_strikeout = model.predict(new_df)\n",
        "predicted_strikeout\n"
      ],
      "metadata": {
        "colab": {
          "base_uri": "https://localhost:8080/"
        },
        "outputId": "ed5f1493-9fe2-4aa5-b3a7-0e0418342129",
        "id": "CEro6DCPcBlk"
      },
      "execution_count": 46,
      "outputs": [
        {
          "output_type": "execute_result",
          "data": {
            "text/plain": [
              "0    4.086427\n",
              "dtype: float64"
            ]
          },
          "metadata": {},
          "execution_count": 46
        }
      ]
    },
    {
      "cell_type": "markdown",
      "source": [
        "#HUNTER BROWN"
      ],
      "metadata": {
        "id": "jaYUsFtPdBcD"
      }
    },
    {
      "cell_type": "code",
      "source": [],
      "metadata": {
        "id": "lh-CwngEdJjE"
      },
      "execution_count": null,
      "outputs": []
    },
    {
      "cell_type": "code",
      "source": [
        "import pandas as pd\n",
        "import statsmodels.api as sm\n",
        "\n",
        "# Define the data\n",
        "data = {\n",
        "    'LINE': [5.5, 5.5, 4.5, 7.5, 5.5, 5.5, 5.5, 5.5, 5.5, 5.5],\n",
        "    'OVER': [-135, -108, -132, -102, -162, -154, -100, -158, -120, 102],\n",
        "    'UNDER': [100, -118, 104, -126, 126, 122, -128, 124, -106, -128],\n",
        "    'STRIKEOUT': [5, 6, 5, 7, 6, 9, 7, 7, 9, 3]\n",
        "}\n",
        "# Create a DataFrame\n",
        "df = pd.DataFrame(data)\n",
        "\n",
        "# Define the independent variables and the dependent variable\n",
        "X = df[['LINE', 'OVER', 'UNDER']]\n",
        "y = df['STRIKEOUT']\n",
        "\n",
        "# Add a constant to the independent variables\n",
        "X = sm.add_constant(X)\n",
        "\n",
        "# Fit the linear regression model\n",
        "model = sm.OLS(y, X).fit()\n",
        "\n",
        "# Get the summary of the regression\n",
        "summary = model.summary()\n",
        "summary\n"
      ],
      "metadata": {
        "colab": {
          "base_uri": "https://localhost:8080/",
          "height": 554
        },
        "outputId": "e541e464-d6e5-47b1-dff4-1307460c18da",
        "id": "VKLZ4n_zdJ6_"
      },
      "execution_count": 47,
      "outputs": [
        {
          "output_type": "stream",
          "name": "stderr",
          "text": [
            "/usr/local/lib/python3.10/dist-packages/scipy/stats/_stats_py.py:1806: UserWarning: kurtosistest only valid for n>=20 ... continuing anyway, n=10\n",
            "  warnings.warn(\"kurtosistest only valid for n>=20 ... continuing \"\n"
          ]
        },
        {
          "output_type": "execute_result",
          "data": {
            "text/plain": [
              "<class 'statsmodels.iolib.summary.Summary'>\n",
              "\"\"\"\n",
              "                            OLS Regression Results                            \n",
              "==============================================================================\n",
              "Dep. Variable:              STRIKEOUT   R-squared:                       0.549\n",
              "Model:                            OLS   Adj. R-squared:                  0.324\n",
              "Method:                 Least Squares   F-statistic:                     2.437\n",
              "Date:                Fri, 19 Jul 2024   Prob (F-statistic):              0.163\n",
              "Time:                        14:45:52   Log-Likelihood:                -15.764\n",
              "No. Observations:                  10   AIC:                             39.53\n",
              "Df Residuals:                       6   BIC:                             40.74\n",
              "Df Model:                           3                                         \n",
              "Covariance Type:            nonrobust                                         \n",
              "==============================================================================\n",
              "                 coef    std err          t      P>|t|      [0.025      0.975]\n",
              "------------------------------------------------------------------------------\n",
              "const          2.8677      4.249      0.675      0.525      -7.530      13.266\n",
              "LINE           0.2227      0.779      0.286      0.785      -1.684       2.129\n",
              "OVER          -0.0212      0.008     -2.524      0.045      -0.042      -0.001\n",
              "UNDER         -0.0064      0.006     -1.119      0.306      -0.020       0.008\n",
              "==============================================================================\n",
              "Omnibus:                        2.381   Durbin-Watson:                   1.476\n",
              "Prob(Omnibus):                  0.304   Jarque-Bera (JB):                1.303\n",
              "Skew:                           0.859   Prob(JB):                        0.521\n",
              "Kurtosis:                       2.582   Cond. No.                     1.29e+03\n",
              "==============================================================================\n",
              "\n",
              "Notes:\n",
              "[1] Standard Errors assume that the covariance matrix of the errors is correctly specified.\n",
              "[2] The condition number is large, 1.29e+03. This might indicate that there are\n",
              "strong multicollinearity or other numerical problems.\n",
              "\"\"\""
            ],
            "text/html": [
              "<table class=\"simpletable\">\n",
              "<caption>OLS Regression Results</caption>\n",
              "<tr>\n",
              "  <th>Dep. Variable:</th>        <td>STRIKEOUT</td>    <th>  R-squared:         </th> <td>   0.549</td>\n",
              "</tr>\n",
              "<tr>\n",
              "  <th>Model:</th>                   <td>OLS</td>       <th>  Adj. R-squared:    </th> <td>   0.324</td>\n",
              "</tr>\n",
              "<tr>\n",
              "  <th>Method:</th>             <td>Least Squares</td>  <th>  F-statistic:       </th> <td>   2.437</td>\n",
              "</tr>\n",
              "<tr>\n",
              "  <th>Date:</th>             <td>Fri, 19 Jul 2024</td> <th>  Prob (F-statistic):</th>  <td> 0.163</td> \n",
              "</tr>\n",
              "<tr>\n",
              "  <th>Time:</th>                 <td>14:45:52</td>     <th>  Log-Likelihood:    </th> <td> -15.764</td>\n",
              "</tr>\n",
              "<tr>\n",
              "  <th>No. Observations:</th>      <td>    10</td>      <th>  AIC:               </th> <td>   39.53</td>\n",
              "</tr>\n",
              "<tr>\n",
              "  <th>Df Residuals:</th>          <td>     6</td>      <th>  BIC:               </th> <td>   40.74</td>\n",
              "</tr>\n",
              "<tr>\n",
              "  <th>Df Model:</th>              <td>     3</td>      <th>                     </th>     <td> </td>   \n",
              "</tr>\n",
              "<tr>\n",
              "  <th>Covariance Type:</th>      <td>nonrobust</td>    <th>                     </th>     <td> </td>   \n",
              "</tr>\n",
              "</table>\n",
              "<table class=\"simpletable\">\n",
              "<tr>\n",
              "    <td></td>       <th>coef</th>     <th>std err</th>      <th>t</th>      <th>P>|t|</th>  <th>[0.025</th>    <th>0.975]</th>  \n",
              "</tr>\n",
              "<tr>\n",
              "  <th>const</th> <td>    2.8677</td> <td>    4.249</td> <td>    0.675</td> <td> 0.525</td> <td>   -7.530</td> <td>   13.266</td>\n",
              "</tr>\n",
              "<tr>\n",
              "  <th>LINE</th>  <td>    0.2227</td> <td>    0.779</td> <td>    0.286</td> <td> 0.785</td> <td>   -1.684</td> <td>    2.129</td>\n",
              "</tr>\n",
              "<tr>\n",
              "  <th>OVER</th>  <td>   -0.0212</td> <td>    0.008</td> <td>   -2.524</td> <td> 0.045</td> <td>   -0.042</td> <td>   -0.001</td>\n",
              "</tr>\n",
              "<tr>\n",
              "  <th>UNDER</th> <td>   -0.0064</td> <td>    0.006</td> <td>   -1.119</td> <td> 0.306</td> <td>   -0.020</td> <td>    0.008</td>\n",
              "</tr>\n",
              "</table>\n",
              "<table class=\"simpletable\">\n",
              "<tr>\n",
              "  <th>Omnibus:</th>       <td> 2.381</td> <th>  Durbin-Watson:     </th> <td>   1.476</td>\n",
              "</tr>\n",
              "<tr>\n",
              "  <th>Prob(Omnibus):</th> <td> 0.304</td> <th>  Jarque-Bera (JB):  </th> <td>   1.303</td>\n",
              "</tr>\n",
              "<tr>\n",
              "  <th>Skew:</th>          <td> 0.859</td> <th>  Prob(JB):          </th> <td>   0.521</td>\n",
              "</tr>\n",
              "<tr>\n",
              "  <th>Kurtosis:</th>      <td> 2.582</td> <th>  Cond. No.          </th> <td>1.29e+03</td>\n",
              "</tr>\n",
              "</table><br/><br/>Notes:<br/>[1] Standard Errors assume that the covariance matrix of the errors is correctly specified.<br/>[2] The condition number is large, 1.29e+03. This might indicate that there are<br/>strong multicollinearity or other numerical problems."
            ],
            "text/latex": "\\begin{center}\n\\begin{tabular}{lclc}\n\\toprule\n\\textbf{Dep. Variable:}    &    STRIKEOUT     & \\textbf{  R-squared:         } &     0.549   \\\\\n\\textbf{Model:}            &       OLS        & \\textbf{  Adj. R-squared:    } &     0.324   \\\\\n\\textbf{Method:}           &  Least Squares   & \\textbf{  F-statistic:       } &     2.437   \\\\\n\\textbf{Date:}             & Fri, 19 Jul 2024 & \\textbf{  Prob (F-statistic):} &    0.163    \\\\\n\\textbf{Time:}             &     14:45:52     & \\textbf{  Log-Likelihood:    } &   -15.764   \\\\\n\\textbf{No. Observations:} &          10      & \\textbf{  AIC:               } &     39.53   \\\\\n\\textbf{Df Residuals:}     &           6      & \\textbf{  BIC:               } &     40.74   \\\\\n\\textbf{Df Model:}         &           3      & \\textbf{                     } &             \\\\\n\\textbf{Covariance Type:}  &    nonrobust     & \\textbf{                     } &             \\\\\n\\bottomrule\n\\end{tabular}\n\\begin{tabular}{lcccccc}\n               & \\textbf{coef} & \\textbf{std err} & \\textbf{t} & \\textbf{P$> |$t$|$} & \\textbf{[0.025} & \\textbf{0.975]}  \\\\\n\\midrule\n\\textbf{const} &       2.8677  &        4.249     &     0.675  &         0.525        &       -7.530    &       13.266     \\\\\n\\textbf{LINE}  &       0.2227  &        0.779     &     0.286  &         0.785        &       -1.684    &        2.129     \\\\\n\\textbf{OVER}  &      -0.0212  &        0.008     &    -2.524  &         0.045        &       -0.042    &       -0.001     \\\\\n\\textbf{UNDER} &      -0.0064  &        0.006     &    -1.119  &         0.306        &       -0.020    &        0.008     \\\\\n\\bottomrule\n\\end{tabular}\n\\begin{tabular}{lclc}\n\\textbf{Omnibus:}       &  2.381 & \\textbf{  Durbin-Watson:     } &    1.476  \\\\\n\\textbf{Prob(Omnibus):} &  0.304 & \\textbf{  Jarque-Bera (JB):  } &    1.303  \\\\\n\\textbf{Skew:}          &  0.859 & \\textbf{  Prob(JB):          } &    0.521  \\\\\n\\textbf{Kurtosis:}      &  2.582 & \\textbf{  Cond. No.          } & 1.29e+03  \\\\\n\\bottomrule\n\\end{tabular}\n%\\caption{OLS Regression Results}\n\\end{center}\n\nNotes: \\newline\n [1] Standard Errors assume that the covariance matrix of the errors is correctly specified. \\newline\n [2] The condition number is large, 1.29e+03. This might indicate that there are \\newline\n strong multicollinearity or other numerical problems."
          },
          "metadata": {},
          "execution_count": 47
        }
      ]
    },
    {
      "cell_type": "code",
      "source": [],
      "metadata": {
        "id": "bI1DEAwadP4z"
      },
      "execution_count": null,
      "outputs": []
    },
    {
      "cell_type": "code",
      "source": [
        "# Define the new data point\n",
        "new_data = {\n",
        "    'const': 1,\n",
        "    'LINE': 6.5,\n",
        "    'OVER': -145,\n",
        "    'UNDER': 110\n",
        "}\n",
        "\n",
        "# Convert the new data point to a DataFrame\n",
        "new_df = pd.DataFrame([new_data])\n",
        "\n",
        "# Predict the total strikeout using the model\n",
        "predicted_strikeout = model.predict(new_df)\n",
        "predicted_strikeout\n"
      ],
      "metadata": {
        "colab": {
          "base_uri": "https://localhost:8080/"
        },
        "outputId": "11db53bf-ab9d-4b79-a831-5bc794e11f24",
        "id": "-72p_O70dQIS"
      },
      "execution_count": 48,
      "outputs": [
        {
          "output_type": "execute_result",
          "data": {
            "text/plain": [
              "0    6.688258\n",
              "dtype: float64"
            ]
          },
          "metadata": {},
          "execution_count": 48
        }
      ]
    },
    {
      "cell_type": "markdown",
      "source": [
        "#LUIS CASTILLO"
      ],
      "metadata": {
        "id": "8VHYFy0pexSS"
      }
    },
    {
      "cell_type": "code",
      "source": [],
      "metadata": {
        "id": "5duZAG-Ue1bL"
      },
      "execution_count": null,
      "outputs": []
    },
    {
      "cell_type": "code",
      "source": [
        "import pandas as pd\n",
        "import statsmodels.api as sm\n",
        "\n",
        "# Define the data\n",
        "data = {\n",
        "    'LINE': [5.5, 5.5, 5.5, 6.5, 4.5, 6.5, 5.5, 7.5, 5.5, 5.5],\n",
        "    'OVER': [-130, -106, -150, 102, 122, -100, 114, 118, -132, -128],\n",
        "    'UNDER': [102, -122, 118, -130, -156, -128, -146, -150, 104, -100],\n",
        "    'STRIKEOUT': [5, 8, 3, 4, 4, 7, 4, 6, 6, 3]\n",
        "}\n",
        "# Create a DataFrame\n",
        "df = pd.DataFrame(data)\n",
        "\n",
        "# Define the independent variables and the dependent variable\n",
        "X = df[['LINE', 'OVER', 'UNDER']]\n",
        "y = df['STRIKEOUT']\n",
        "\n",
        "# Add a constant to the independent variables\n",
        "X = sm.add_constant(X)\n",
        "\n",
        "# Fit the linear regression model\n",
        "model = sm.OLS(y, X).fit()\n",
        "\n",
        "# Get the summary of the regression\n",
        "summary = model.summary()\n",
        "summary\n"
      ],
      "metadata": {
        "colab": {
          "base_uri": "https://localhost:8080/",
          "height": 554
        },
        "outputId": "887e928f-3efe-43fb-8083-aabc89862e61",
        "id": "Qiaaviube1qu"
      },
      "execution_count": 49,
      "outputs": [
        {
          "output_type": "stream",
          "name": "stderr",
          "text": [
            "/usr/local/lib/python3.10/dist-packages/scipy/stats/_stats_py.py:1806: UserWarning: kurtosistest only valid for n>=20 ... continuing anyway, n=10\n",
            "  warnings.warn(\"kurtosistest only valid for n>=20 ... continuing \"\n"
          ]
        },
        {
          "output_type": "execute_result",
          "data": {
            "text/plain": [
              "<class 'statsmodels.iolib.summary.Summary'>\n",
              "\"\"\"\n",
              "                            OLS Regression Results                            \n",
              "==============================================================================\n",
              "Dep. Variable:              STRIKEOUT   R-squared:                       0.261\n",
              "Model:                            OLS   Adj. R-squared:                 -0.109\n",
              "Method:                 Least Squares   F-statistic:                    0.7049\n",
              "Date:                Fri, 19 Jul 2024   Prob (F-statistic):              0.583\n",
              "Time:                        14:53:13   Log-Likelihood:                -17.457\n",
              "No. Observations:                  10   AIC:                             42.91\n",
              "Df Residuals:                       6   BIC:                             44.12\n",
              "Df Model:                           3                                         \n",
              "Covariance Type:            nonrobust                                         \n",
              "==============================================================================\n",
              "                 coef    std err          t      P>|t|      [0.025      0.975]\n",
              "------------------------------------------------------------------------------\n",
              "const          0.4909      4.381      0.112      0.914     -10.229      11.211\n",
              "LINE           0.6730      0.751      0.897      0.404      -1.164       2.510\n",
              "OVER          -0.0075      0.007     -1.119      0.306      -0.024       0.009\n",
              "UNDER         -0.0064      0.007     -0.906      0.400      -0.024       0.011\n",
              "==============================================================================\n",
              "Omnibus:                        0.759   Durbin-Watson:                   2.094\n",
              "Prob(Omnibus):                  0.684   Jarque-Bera (JB):                0.360\n",
              "Skew:                          -0.426   Prob(JB):                        0.835\n",
              "Kurtosis:                       2.627   Cond. No.                     1.18e+03\n",
              "==============================================================================\n",
              "\n",
              "Notes:\n",
              "[1] Standard Errors assume that the covariance matrix of the errors is correctly specified.\n",
              "[2] The condition number is large, 1.18e+03. This might indicate that there are\n",
              "strong multicollinearity or other numerical problems.\n",
              "\"\"\""
            ],
            "text/html": [
              "<table class=\"simpletable\">\n",
              "<caption>OLS Regression Results</caption>\n",
              "<tr>\n",
              "  <th>Dep. Variable:</th>        <td>STRIKEOUT</td>    <th>  R-squared:         </th> <td>   0.261</td>\n",
              "</tr>\n",
              "<tr>\n",
              "  <th>Model:</th>                   <td>OLS</td>       <th>  Adj. R-squared:    </th> <td>  -0.109</td>\n",
              "</tr>\n",
              "<tr>\n",
              "  <th>Method:</th>             <td>Least Squares</td>  <th>  F-statistic:       </th> <td>  0.7049</td>\n",
              "</tr>\n",
              "<tr>\n",
              "  <th>Date:</th>             <td>Fri, 19 Jul 2024</td> <th>  Prob (F-statistic):</th>  <td> 0.583</td> \n",
              "</tr>\n",
              "<tr>\n",
              "  <th>Time:</th>                 <td>14:53:13</td>     <th>  Log-Likelihood:    </th> <td> -17.457</td>\n",
              "</tr>\n",
              "<tr>\n",
              "  <th>No. Observations:</th>      <td>    10</td>      <th>  AIC:               </th> <td>   42.91</td>\n",
              "</tr>\n",
              "<tr>\n",
              "  <th>Df Residuals:</th>          <td>     6</td>      <th>  BIC:               </th> <td>   44.12</td>\n",
              "</tr>\n",
              "<tr>\n",
              "  <th>Df Model:</th>              <td>     3</td>      <th>                     </th>     <td> </td>   \n",
              "</tr>\n",
              "<tr>\n",
              "  <th>Covariance Type:</th>      <td>nonrobust</td>    <th>                     </th>     <td> </td>   \n",
              "</tr>\n",
              "</table>\n",
              "<table class=\"simpletable\">\n",
              "<tr>\n",
              "    <td></td>       <th>coef</th>     <th>std err</th>      <th>t</th>      <th>P>|t|</th>  <th>[0.025</th>    <th>0.975]</th>  \n",
              "</tr>\n",
              "<tr>\n",
              "  <th>const</th> <td>    0.4909</td> <td>    4.381</td> <td>    0.112</td> <td> 0.914</td> <td>  -10.229</td> <td>   11.211</td>\n",
              "</tr>\n",
              "<tr>\n",
              "  <th>LINE</th>  <td>    0.6730</td> <td>    0.751</td> <td>    0.897</td> <td> 0.404</td> <td>   -1.164</td> <td>    2.510</td>\n",
              "</tr>\n",
              "<tr>\n",
              "  <th>OVER</th>  <td>   -0.0075</td> <td>    0.007</td> <td>   -1.119</td> <td> 0.306</td> <td>   -0.024</td> <td>    0.009</td>\n",
              "</tr>\n",
              "<tr>\n",
              "  <th>UNDER</th> <td>   -0.0064</td> <td>    0.007</td> <td>   -0.906</td> <td> 0.400</td> <td>   -0.024</td> <td>    0.011</td>\n",
              "</tr>\n",
              "</table>\n",
              "<table class=\"simpletable\">\n",
              "<tr>\n",
              "  <th>Omnibus:</th>       <td> 0.759</td> <th>  Durbin-Watson:     </th> <td>   2.094</td>\n",
              "</tr>\n",
              "<tr>\n",
              "  <th>Prob(Omnibus):</th> <td> 0.684</td> <th>  Jarque-Bera (JB):  </th> <td>   0.360</td>\n",
              "</tr>\n",
              "<tr>\n",
              "  <th>Skew:</th>          <td>-0.426</td> <th>  Prob(JB):          </th> <td>   0.835</td>\n",
              "</tr>\n",
              "<tr>\n",
              "  <th>Kurtosis:</th>      <td> 2.627</td> <th>  Cond. No.          </th> <td>1.18e+03</td>\n",
              "</tr>\n",
              "</table><br/><br/>Notes:<br/>[1] Standard Errors assume that the covariance matrix of the errors is correctly specified.<br/>[2] The condition number is large, 1.18e+03. This might indicate that there are<br/>strong multicollinearity or other numerical problems."
            ],
            "text/latex": "\\begin{center}\n\\begin{tabular}{lclc}\n\\toprule\n\\textbf{Dep. Variable:}    &    STRIKEOUT     & \\textbf{  R-squared:         } &     0.261   \\\\\n\\textbf{Model:}            &       OLS        & \\textbf{  Adj. R-squared:    } &    -0.109   \\\\\n\\textbf{Method:}           &  Least Squares   & \\textbf{  F-statistic:       } &    0.7049   \\\\\n\\textbf{Date:}             & Fri, 19 Jul 2024 & \\textbf{  Prob (F-statistic):} &    0.583    \\\\\n\\textbf{Time:}             &     14:53:13     & \\textbf{  Log-Likelihood:    } &   -17.457   \\\\\n\\textbf{No. Observations:} &          10      & \\textbf{  AIC:               } &     42.91   \\\\\n\\textbf{Df Residuals:}     &           6      & \\textbf{  BIC:               } &     44.12   \\\\\n\\textbf{Df Model:}         &           3      & \\textbf{                     } &             \\\\\n\\textbf{Covariance Type:}  &    nonrobust     & \\textbf{                     } &             \\\\\n\\bottomrule\n\\end{tabular}\n\\begin{tabular}{lcccccc}\n               & \\textbf{coef} & \\textbf{std err} & \\textbf{t} & \\textbf{P$> |$t$|$} & \\textbf{[0.025} & \\textbf{0.975]}  \\\\\n\\midrule\n\\textbf{const} &       0.4909  &        4.381     &     0.112  &         0.914        &      -10.229    &       11.211     \\\\\n\\textbf{LINE}  &       0.6730  &        0.751     &     0.897  &         0.404        &       -1.164    &        2.510     \\\\\n\\textbf{OVER}  &      -0.0075  &        0.007     &    -1.119  &         0.306        &       -0.024    &        0.009     \\\\\n\\textbf{UNDER} &      -0.0064  &        0.007     &    -0.906  &         0.400        &       -0.024    &        0.011     \\\\\n\\bottomrule\n\\end{tabular}\n\\begin{tabular}{lclc}\n\\textbf{Omnibus:}       &  0.759 & \\textbf{  Durbin-Watson:     } &    2.094  \\\\\n\\textbf{Prob(Omnibus):} &  0.684 & \\textbf{  Jarque-Bera (JB):  } &    0.360  \\\\\n\\textbf{Skew:}          & -0.426 & \\textbf{  Prob(JB):          } &    0.835  \\\\\n\\textbf{Kurtosis:}      &  2.627 & \\textbf{  Cond. No.          } & 1.18e+03  \\\\\n\\bottomrule\n\\end{tabular}\n%\\caption{OLS Regression Results}\n\\end{center}\n\nNotes: \\newline\n [1] Standard Errors assume that the covariance matrix of the errors is correctly specified. \\newline\n [2] The condition number is large, 1.18e+03. This might indicate that there are \\newline\n strong multicollinearity or other numerical problems."
          },
          "metadata": {},
          "execution_count": 49
        }
      ]
    },
    {
      "cell_type": "code",
      "source": [
        "# Define the new data point\n",
        "new_data = {\n",
        "    'const': 1,\n",
        "    'LINE': 5.5,\n",
        "    'OVER': -105,\n",
        "    'UNDER': -125\n",
        "}\n",
        "\n",
        "# Convert the new data point to a DataFrame\n",
        "new_df = pd.DataFrame([new_data])\n",
        "\n",
        "# Predict the total strikeout using the model\n",
        "predicted_strikeout = model.predict(new_df)\n",
        "predicted_strikeout\n"
      ],
      "metadata": {
        "colab": {
          "base_uri": "https://localhost:8080/"
        },
        "outputId": "ffff2845-bd17-4d01-c9a3-6559b9df5ee5",
        "id": "9BiOrFhEe7rQ"
      },
      "execution_count": 50,
      "outputs": [
        {
          "output_type": "execute_result",
          "data": {
            "text/plain": [
              "0    5.776115\n",
              "dtype: float64"
            ]
          },
          "metadata": {},
          "execution_count": 50
        }
      ]
    },
    {
      "cell_type": "markdown",
      "source": [
        "#JUSTIN STEELE"
      ],
      "metadata": {
        "id": "tgcv_Ig4gHSF"
      }
    },
    {
      "cell_type": "code",
      "source": [
        "import pandas as pd\n",
        "import statsmodels.api as sm\n",
        "\n",
        "# Define the data\n",
        "data = {\n",
        "    'LINE': [5.5, 6.5, 5.5, 5.5, 5.5, 5.5, 5.5, 6.5, 6.5, 5.5],\n",
        "    'OVER': [-128, 120, -132, 112, -106, -160, -104, 128, 118, -106],\n",
        "    'UNDER': [-100, -152, 104, -142, -122, 124, -122, -164, -150, -122],\n",
        "    'STRIKEOUT': [4, 7, 5, 9, 8, 5, 7, 5, 8, 5]\n",
        "}\n",
        "# Create a DataFrame\n",
        "df = pd.DataFrame(data)\n",
        "\n",
        "# Define the independent variables and the dependent variable\n",
        "X = df[['LINE', 'OVER', 'UNDER']]\n",
        "y = df['STRIKEOUT']\n",
        "\n",
        "# Add a constant to the independent variables\n",
        "X = sm.add_constant(X)\n",
        "\n",
        "# Fit the linear regression model\n",
        "model = sm.OLS(y, X).fit()\n",
        "\n",
        "# Get the summary of the regression\n",
        "summary = model.summary()\n",
        "summary\n"
      ],
      "metadata": {
        "colab": {
          "base_uri": "https://localhost:8080/",
          "height": 554
        },
        "outputId": "264058ee-bee5-4c23-c8d1-943b8af917bc",
        "id": "dykeV80Hg3V-"
      },
      "execution_count": 51,
      "outputs": [
        {
          "output_type": "stream",
          "name": "stderr",
          "text": [
            "/usr/local/lib/python3.10/dist-packages/scipy/stats/_stats_py.py:1806: UserWarning: kurtosistest only valid for n>=20 ... continuing anyway, n=10\n",
            "  warnings.warn(\"kurtosistest only valid for n>=20 ... continuing \"\n"
          ]
        },
        {
          "output_type": "execute_result",
          "data": {
            "text/plain": [
              "<class 'statsmodels.iolib.summary.Summary'>\n",
              "\"\"\"\n",
              "                            OLS Regression Results                            \n",
              "==============================================================================\n",
              "Dep. Variable:              STRIKEOUT   R-squared:                       0.465\n",
              "Model:                            OLS   Adj. R-squared:                  0.197\n",
              "Method:                 Least Squares   F-statistic:                     1.738\n",
              "Date:                Fri, 19 Jul 2024   Prob (F-statistic):              0.258\n",
              "Time:                        15:02:40   Log-Likelihood:                -15.859\n",
              "No. Observations:                  10   AIC:                             39.72\n",
              "Df Residuals:                       6   BIC:                             40.93\n",
              "Df Model:                           3                                         \n",
              "Covariance Type:            nonrobust                                         \n",
              "==============================================================================\n",
              "                 coef    std err          t      P>|t|      [0.025      0.975]\n",
              "------------------------------------------------------------------------------\n",
              "const         21.3614     10.697      1.997      0.093      -4.813      47.535\n",
              "LINE          -2.5704      1.802     -1.427      0.204      -6.979       1.838\n",
              "OVER           0.0135      0.008      1.705      0.139      -0.006       0.033\n",
              "UNDER         -0.0023      0.006     -0.372      0.723      -0.018       0.013\n",
              "==============================================================================\n",
              "Omnibus:                        0.386   Durbin-Watson:                   2.528\n",
              "Prob(Omnibus):                  0.824   Jarque-Bera (JB):                0.458\n",
              "Skew:                          -0.071   Prob(JB):                        0.795\n",
              "Kurtosis:                       1.961   Cond. No.                     3.32e+03\n",
              "==============================================================================\n",
              "\n",
              "Notes:\n",
              "[1] Standard Errors assume that the covariance matrix of the errors is correctly specified.\n",
              "[2] The condition number is large, 3.32e+03. This might indicate that there are\n",
              "strong multicollinearity or other numerical problems.\n",
              "\"\"\""
            ],
            "text/html": [
              "<table class=\"simpletable\">\n",
              "<caption>OLS Regression Results</caption>\n",
              "<tr>\n",
              "  <th>Dep. Variable:</th>        <td>STRIKEOUT</td>    <th>  R-squared:         </th> <td>   0.465</td>\n",
              "</tr>\n",
              "<tr>\n",
              "  <th>Model:</th>                   <td>OLS</td>       <th>  Adj. R-squared:    </th> <td>   0.197</td>\n",
              "</tr>\n",
              "<tr>\n",
              "  <th>Method:</th>             <td>Least Squares</td>  <th>  F-statistic:       </th> <td>   1.738</td>\n",
              "</tr>\n",
              "<tr>\n",
              "  <th>Date:</th>             <td>Fri, 19 Jul 2024</td> <th>  Prob (F-statistic):</th>  <td> 0.258</td> \n",
              "</tr>\n",
              "<tr>\n",
              "  <th>Time:</th>                 <td>15:02:40</td>     <th>  Log-Likelihood:    </th> <td> -15.859</td>\n",
              "</tr>\n",
              "<tr>\n",
              "  <th>No. Observations:</th>      <td>    10</td>      <th>  AIC:               </th> <td>   39.72</td>\n",
              "</tr>\n",
              "<tr>\n",
              "  <th>Df Residuals:</th>          <td>     6</td>      <th>  BIC:               </th> <td>   40.93</td>\n",
              "</tr>\n",
              "<tr>\n",
              "  <th>Df Model:</th>              <td>     3</td>      <th>                     </th>     <td> </td>   \n",
              "</tr>\n",
              "<tr>\n",
              "  <th>Covariance Type:</th>      <td>nonrobust</td>    <th>                     </th>     <td> </td>   \n",
              "</tr>\n",
              "</table>\n",
              "<table class=\"simpletable\">\n",
              "<tr>\n",
              "    <td></td>       <th>coef</th>     <th>std err</th>      <th>t</th>      <th>P>|t|</th>  <th>[0.025</th>    <th>0.975]</th>  \n",
              "</tr>\n",
              "<tr>\n",
              "  <th>const</th> <td>   21.3614</td> <td>   10.697</td> <td>    1.997</td> <td> 0.093</td> <td>   -4.813</td> <td>   47.535</td>\n",
              "</tr>\n",
              "<tr>\n",
              "  <th>LINE</th>  <td>   -2.5704</td> <td>    1.802</td> <td>   -1.427</td> <td> 0.204</td> <td>   -6.979</td> <td>    1.838</td>\n",
              "</tr>\n",
              "<tr>\n",
              "  <th>OVER</th>  <td>    0.0135</td> <td>    0.008</td> <td>    1.705</td> <td> 0.139</td> <td>   -0.006</td> <td>    0.033</td>\n",
              "</tr>\n",
              "<tr>\n",
              "  <th>UNDER</th> <td>   -0.0023</td> <td>    0.006</td> <td>   -0.372</td> <td> 0.723</td> <td>   -0.018</td> <td>    0.013</td>\n",
              "</tr>\n",
              "</table>\n",
              "<table class=\"simpletable\">\n",
              "<tr>\n",
              "  <th>Omnibus:</th>       <td> 0.386</td> <th>  Durbin-Watson:     </th> <td>   2.528</td>\n",
              "</tr>\n",
              "<tr>\n",
              "  <th>Prob(Omnibus):</th> <td> 0.824</td> <th>  Jarque-Bera (JB):  </th> <td>   0.458</td>\n",
              "</tr>\n",
              "<tr>\n",
              "  <th>Skew:</th>          <td>-0.071</td> <th>  Prob(JB):          </th> <td>   0.795</td>\n",
              "</tr>\n",
              "<tr>\n",
              "  <th>Kurtosis:</th>      <td> 1.961</td> <th>  Cond. No.          </th> <td>3.32e+03</td>\n",
              "</tr>\n",
              "</table><br/><br/>Notes:<br/>[1] Standard Errors assume that the covariance matrix of the errors is correctly specified.<br/>[2] The condition number is large, 3.32e+03. This might indicate that there are<br/>strong multicollinearity or other numerical problems."
            ],
            "text/latex": "\\begin{center}\n\\begin{tabular}{lclc}\n\\toprule\n\\textbf{Dep. Variable:}    &    STRIKEOUT     & \\textbf{  R-squared:         } &     0.465   \\\\\n\\textbf{Model:}            &       OLS        & \\textbf{  Adj. R-squared:    } &     0.197   \\\\\n\\textbf{Method:}           &  Least Squares   & \\textbf{  F-statistic:       } &     1.738   \\\\\n\\textbf{Date:}             & Fri, 19 Jul 2024 & \\textbf{  Prob (F-statistic):} &    0.258    \\\\\n\\textbf{Time:}             &     15:02:40     & \\textbf{  Log-Likelihood:    } &   -15.859   \\\\\n\\textbf{No. Observations:} &          10      & \\textbf{  AIC:               } &     39.72   \\\\\n\\textbf{Df Residuals:}     &           6      & \\textbf{  BIC:               } &     40.93   \\\\\n\\textbf{Df Model:}         &           3      & \\textbf{                     } &             \\\\\n\\textbf{Covariance Type:}  &    nonrobust     & \\textbf{                     } &             \\\\\n\\bottomrule\n\\end{tabular}\n\\begin{tabular}{lcccccc}\n               & \\textbf{coef} & \\textbf{std err} & \\textbf{t} & \\textbf{P$> |$t$|$} & \\textbf{[0.025} & \\textbf{0.975]}  \\\\\n\\midrule\n\\textbf{const} &      21.3614  &       10.697     &     1.997  &         0.093        &       -4.813    &       47.535     \\\\\n\\textbf{LINE}  &      -2.5704  &        1.802     &    -1.427  &         0.204        &       -6.979    &        1.838     \\\\\n\\textbf{OVER}  &       0.0135  &        0.008     &     1.705  &         0.139        &       -0.006    &        0.033     \\\\\n\\textbf{UNDER} &      -0.0023  &        0.006     &    -0.372  &         0.723        &       -0.018    &        0.013     \\\\\n\\bottomrule\n\\end{tabular}\n\\begin{tabular}{lclc}\n\\textbf{Omnibus:}       &  0.386 & \\textbf{  Durbin-Watson:     } &    2.528  \\\\\n\\textbf{Prob(Omnibus):} &  0.824 & \\textbf{  Jarque-Bera (JB):  } &    0.458  \\\\\n\\textbf{Skew:}          & -0.071 & \\textbf{  Prob(JB):          } &    0.795  \\\\\n\\textbf{Kurtosis:}      &  1.961 & \\textbf{  Cond. No.          } & 3.32e+03  \\\\\n\\bottomrule\n\\end{tabular}\n%\\caption{OLS Regression Results}\n\\end{center}\n\nNotes: \\newline\n [1] Standard Errors assume that the covariance matrix of the errors is correctly specified. \\newline\n [2] The condition number is large, 3.32e+03. This might indicate that there are \\newline\n strong multicollinearity or other numerical problems."
          },
          "metadata": {},
          "execution_count": 51
        }
      ]
    },
    {
      "cell_type": "code",
      "source": [
        "# Define the new data point\n",
        "new_data = {\n",
        "    'const': 1,\n",
        "    'LINE': 5.5,\n",
        "    'OVER': +115,\n",
        "    'UNDER': -155\n",
        "}\n",
        "\n",
        "# Convert the new data point to a DataFrame\n",
        "new_df = pd.DataFrame([new_data])\n",
        "\n",
        "# Predict the total strikeout using the model\n",
        "predicted_strikeout = model.predict(new_df)\n",
        "predicted_strikeout\n"
      ],
      "metadata": {
        "colab": {
          "base_uri": "https://localhost:8080/"
        },
        "outputId": "a1e9e491-99d1-428f-9aa0-d566d97914ae",
        "id": "FJPqVVVAhGTE"
      },
      "execution_count": 52,
      "outputs": [
        {
          "output_type": "execute_result",
          "data": {
            "text/plain": [
              "0    9.141432\n",
              "dtype: float64"
            ]
          },
          "metadata": {},
          "execution_count": 52
        }
      ]
    },
    {
      "cell_type": "markdown",
      "source": [
        "#RYEN NELSON"
      ],
      "metadata": {
        "id": "Yyfq21wVhWAm"
      }
    },
    {
      "cell_type": "code",
      "source": [
        "import pandas as pd\n",
        "import statsmodels.api as sm\n",
        "\n",
        "# Define the data\n",
        "data = {\n",
        "    'LINE': [3.5, 2.5, 3.5, 3.5, 4.5, 3.5, 4.5, 3.5, 4.5, 3.5],\n",
        "    'OVER': [-110, -154, -140, -104, 118, 118, 104, -136, 120, -172],\n",
        "    'UNDER': [-120, 120, 110, -122, -150, -150, -130, 106, -154, 134],\n",
        "    'STRIKEOUT': [5, 5, 3, 2, 8, 1, 1, 3, 4, 3]\n",
        "}\n",
        "# Create a DataFrame\n",
        "df = pd.DataFrame(data)\n",
        "\n",
        "# Define the independent variables and the dependent variable\n",
        "X = df[['LINE', 'OVER', 'UNDER']]\n",
        "y = df['STRIKEOUT']\n",
        "\n",
        "# Add a constant to the independent variables\n",
        "X = sm.add_constant(X)\n",
        "\n",
        "# Fit the linear regression model\n",
        "model = sm.OLS(y, X).fit()\n",
        "\n",
        "# Get the summary of the regression\n",
        "summary = model.summary()\n",
        "summary\n"
      ],
      "metadata": {
        "colab": {
          "base_uri": "https://localhost:8080/",
          "height": 554
        },
        "outputId": "c87dc2fa-7f41-4af9-a438-20182bf36b89",
        "id": "wPqJnB5BiR50"
      },
      "execution_count": 56,
      "outputs": [
        {
          "output_type": "stream",
          "name": "stderr",
          "text": [
            "/usr/local/lib/python3.10/dist-packages/scipy/stats/_stats_py.py:1806: UserWarning: kurtosistest only valid for n>=20 ... continuing anyway, n=10\n",
            "  warnings.warn(\"kurtosistest only valid for n>=20 ... continuing \"\n"
          ]
        },
        {
          "output_type": "execute_result",
          "data": {
            "text/plain": [
              "<class 'statsmodels.iolib.summary.Summary'>\n",
              "\"\"\"\n",
              "                            OLS Regression Results                            \n",
              "==============================================================================\n",
              "Dep. Variable:              STRIKEOUT   R-squared:                       0.014\n",
              "Model:                            OLS   Adj. R-squared:                 -0.479\n",
              "Method:                 Least Squares   F-statistic:                   0.02860\n",
              "Date:                Fri, 19 Jul 2024   Prob (F-statistic):              0.993\n",
              "Time:                        15:09:37   Log-Likelihood:                -21.112\n",
              "No. Observations:                  10   AIC:                             50.22\n",
              "Df Residuals:                       6   BIC:                             51.43\n",
              "Df Model:                           3                                         \n",
              "Covariance Type:            nonrobust                                         \n",
              "==============================================================================\n",
              "                 coef    std err          t      P>|t|      [0.025      0.975]\n",
              "------------------------------------------------------------------------------\n",
              "const          1.1680      8.059      0.145      0.890     -18.552      20.888\n",
              "LINE           0.6058      2.098      0.289      0.783      -4.529       5.740\n",
              "OVER          -0.0023      0.013     -0.176      0.866      -0.034       0.030\n",
              "UNDER         -0.0003      0.011     -0.023      0.982      -0.027       0.026\n",
              "==============================================================================\n",
              "Omnibus:                        2.200   Durbin-Watson:                   2.261\n",
              "Prob(Omnibus):                  0.333   Jarque-Bera (JB):                0.957\n",
              "Skew:                           0.753   Prob(JB):                        0.620\n",
              "Kurtosis:                       2.828   Cond. No.                     1.71e+03\n",
              "==============================================================================\n",
              "\n",
              "Notes:\n",
              "[1] Standard Errors assume that the covariance matrix of the errors is correctly specified.\n",
              "[2] The condition number is large, 1.71e+03. This might indicate that there are\n",
              "strong multicollinearity or other numerical problems.\n",
              "\"\"\""
            ],
            "text/html": [
              "<table class=\"simpletable\">\n",
              "<caption>OLS Regression Results</caption>\n",
              "<tr>\n",
              "  <th>Dep. Variable:</th>        <td>STRIKEOUT</td>    <th>  R-squared:         </th> <td>   0.014</td>\n",
              "</tr>\n",
              "<tr>\n",
              "  <th>Model:</th>                   <td>OLS</td>       <th>  Adj. R-squared:    </th> <td>  -0.479</td>\n",
              "</tr>\n",
              "<tr>\n",
              "  <th>Method:</th>             <td>Least Squares</td>  <th>  F-statistic:       </th> <td> 0.02860</td>\n",
              "</tr>\n",
              "<tr>\n",
              "  <th>Date:</th>             <td>Fri, 19 Jul 2024</td> <th>  Prob (F-statistic):</th>  <td> 0.993</td> \n",
              "</tr>\n",
              "<tr>\n",
              "  <th>Time:</th>                 <td>15:09:37</td>     <th>  Log-Likelihood:    </th> <td> -21.112</td>\n",
              "</tr>\n",
              "<tr>\n",
              "  <th>No. Observations:</th>      <td>    10</td>      <th>  AIC:               </th> <td>   50.22</td>\n",
              "</tr>\n",
              "<tr>\n",
              "  <th>Df Residuals:</th>          <td>     6</td>      <th>  BIC:               </th> <td>   51.43</td>\n",
              "</tr>\n",
              "<tr>\n",
              "  <th>Df Model:</th>              <td>     3</td>      <th>                     </th>     <td> </td>   \n",
              "</tr>\n",
              "<tr>\n",
              "  <th>Covariance Type:</th>      <td>nonrobust</td>    <th>                     </th>     <td> </td>   \n",
              "</tr>\n",
              "</table>\n",
              "<table class=\"simpletable\">\n",
              "<tr>\n",
              "    <td></td>       <th>coef</th>     <th>std err</th>      <th>t</th>      <th>P>|t|</th>  <th>[0.025</th>    <th>0.975]</th>  \n",
              "</tr>\n",
              "<tr>\n",
              "  <th>const</th> <td>    1.1680</td> <td>    8.059</td> <td>    0.145</td> <td> 0.890</td> <td>  -18.552</td> <td>   20.888</td>\n",
              "</tr>\n",
              "<tr>\n",
              "  <th>LINE</th>  <td>    0.6058</td> <td>    2.098</td> <td>    0.289</td> <td> 0.783</td> <td>   -4.529</td> <td>    5.740</td>\n",
              "</tr>\n",
              "<tr>\n",
              "  <th>OVER</th>  <td>   -0.0023</td> <td>    0.013</td> <td>   -0.176</td> <td> 0.866</td> <td>   -0.034</td> <td>    0.030</td>\n",
              "</tr>\n",
              "<tr>\n",
              "  <th>UNDER</th> <td>   -0.0003</td> <td>    0.011</td> <td>   -0.023</td> <td> 0.982</td> <td>   -0.027</td> <td>    0.026</td>\n",
              "</tr>\n",
              "</table>\n",
              "<table class=\"simpletable\">\n",
              "<tr>\n",
              "  <th>Omnibus:</th>       <td> 2.200</td> <th>  Durbin-Watson:     </th> <td>   2.261</td>\n",
              "</tr>\n",
              "<tr>\n",
              "  <th>Prob(Omnibus):</th> <td> 0.333</td> <th>  Jarque-Bera (JB):  </th> <td>   0.957</td>\n",
              "</tr>\n",
              "<tr>\n",
              "  <th>Skew:</th>          <td> 0.753</td> <th>  Prob(JB):          </th> <td>   0.620</td>\n",
              "</tr>\n",
              "<tr>\n",
              "  <th>Kurtosis:</th>      <td> 2.828</td> <th>  Cond. No.          </th> <td>1.71e+03</td>\n",
              "</tr>\n",
              "</table><br/><br/>Notes:<br/>[1] Standard Errors assume that the covariance matrix of the errors is correctly specified.<br/>[2] The condition number is large, 1.71e+03. This might indicate that there are<br/>strong multicollinearity or other numerical problems."
            ],
            "text/latex": "\\begin{center}\n\\begin{tabular}{lclc}\n\\toprule\n\\textbf{Dep. Variable:}    &    STRIKEOUT     & \\textbf{  R-squared:         } &     0.014   \\\\\n\\textbf{Model:}            &       OLS        & \\textbf{  Adj. R-squared:    } &    -0.479   \\\\\n\\textbf{Method:}           &  Least Squares   & \\textbf{  F-statistic:       } &   0.02860   \\\\\n\\textbf{Date:}             & Fri, 19 Jul 2024 & \\textbf{  Prob (F-statistic):} &    0.993    \\\\\n\\textbf{Time:}             &     15:09:37     & \\textbf{  Log-Likelihood:    } &   -21.112   \\\\\n\\textbf{No. Observations:} &          10      & \\textbf{  AIC:               } &     50.22   \\\\\n\\textbf{Df Residuals:}     &           6      & \\textbf{  BIC:               } &     51.43   \\\\\n\\textbf{Df Model:}         &           3      & \\textbf{                     } &             \\\\\n\\textbf{Covariance Type:}  &    nonrobust     & \\textbf{                     } &             \\\\\n\\bottomrule\n\\end{tabular}\n\\begin{tabular}{lcccccc}\n               & \\textbf{coef} & \\textbf{std err} & \\textbf{t} & \\textbf{P$> |$t$|$} & \\textbf{[0.025} & \\textbf{0.975]}  \\\\\n\\midrule\n\\textbf{const} &       1.1680  &        8.059     &     0.145  &         0.890        &      -18.552    &       20.888     \\\\\n\\textbf{LINE}  &       0.6058  &        2.098     &     0.289  &         0.783        &       -4.529    &        5.740     \\\\\n\\textbf{OVER}  &      -0.0023  &        0.013     &    -0.176  &         0.866        &       -0.034    &        0.030     \\\\\n\\textbf{UNDER} &      -0.0003  &        0.011     &    -0.023  &         0.982        &       -0.027    &        0.026     \\\\\n\\bottomrule\n\\end{tabular}\n\\begin{tabular}{lclc}\n\\textbf{Omnibus:}       &  2.200 & \\textbf{  Durbin-Watson:     } &    2.261  \\\\\n\\textbf{Prob(Omnibus):} &  0.333 & \\textbf{  Jarque-Bera (JB):  } &    0.957  \\\\\n\\textbf{Skew:}          &  0.753 & \\textbf{  Prob(JB):          } &    0.620  \\\\\n\\textbf{Kurtosis:}      &  2.828 & \\textbf{  Cond. No.          } & 1.71e+03  \\\\\n\\bottomrule\n\\end{tabular}\n%\\caption{OLS Regression Results}\n\\end{center}\n\nNotes: \\newline\n [1] Standard Errors assume that the covariance matrix of the errors is correctly specified. \\newline\n [2] The condition number is large, 1.71e+03. This might indicate that there are \\newline\n strong multicollinearity or other numerical problems."
          },
          "metadata": {},
          "execution_count": 56
        }
      ]
    },
    {
      "cell_type": "code",
      "source": [
        "# Define the new data point\n",
        "new_data = {\n",
        "    'const': 1,\n",
        "    'LINE': 4.5,\n",
        "    'OVER': -105,\n",
        "    'UNDER': -25\n",
        "}\n",
        "\n",
        "# Convert the new data point to a DataFrame\n",
        "new_df = pd.DataFrame([new_data])\n",
        "\n",
        "# Predict the total strikeout using the model\n",
        "predicted_strikeout = model.predict(new_df)\n",
        "predicted_strikeout\n"
      ],
      "metadata": {
        "colab": {
          "base_uri": "https://localhost:8080/"
        },
        "outputId": "1fac782c-53fa-4177-c500-f4da50f9bd07",
        "id": "s4IhgClWicQB"
      },
      "execution_count": 57,
      "outputs": [
        {
          "output_type": "execute_result",
          "data": {
            "text/plain": [
              "0    4.141263\n",
              "dtype: float64"
            ]
          },
          "metadata": {},
          "execution_count": 57
        }
      ]
    }
  ]
}