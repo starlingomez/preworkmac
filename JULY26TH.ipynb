{
  "nbformat": 4,
  "nbformat_minor": 0,
  "metadata": {
    "colab": {
      "provenance": [],
      "authorship_tag": "ABX9TyOzcO0FyHIaBcjeeZ+/gDej",
      "include_colab_link": true
    },
    "kernelspec": {
      "name": "python3",
      "display_name": "Python 3"
    },
    "language_info": {
      "name": "python"
    }
  },
  "cells": [
    {
      "cell_type": "markdown",
      "metadata": {
        "id": "view-in-github",
        "colab_type": "text"
      },
      "source": [
        "<a href=\"https://colab.research.google.com/github/starlingomez/preworkmac/blob/master/JULY26TH.ipynb\" target=\"_parent\"><img src=\"https://colab.research.google.com/assets/colab-badge.svg\" alt=\"Open In Colab\"/></a>"
      ]
    },
    {
      "cell_type": "code",
      "execution_count": null,
      "metadata": {
        "id": "6ZJ_ebOPRENo"
      },
      "outputs": [],
      "source": []
    },
    {
      "cell_type": "markdown",
      "source": [
        "#GEORGE KIRBY"
      ],
      "metadata": {
        "id": "5BihHNSXSxJS"
      }
    },
    {
      "cell_type": "code",
      "source": [],
      "metadata": {
        "id": "Gtel7bZxS0qC"
      },
      "execution_count": null,
      "outputs": []
    },
    {
      "cell_type": "code",
      "source": [
        "import pandas as pd\n",
        "import statsmodels.api as sm\n",
        "\n",
        "# Define the data\n",
        "data = {\n",
        "    'ODD': [5.5, 6.5, 7.5, 5.5, 6.5, 6.5, 6.5, 5.5, 6.5, 6.5],\n",
        "    'OVER': [100, -100, -115, -116, 118, 102, -154, -122, -118, 128],\n",
        "    'UNDER': [-135, -128, -111, -110, -150, -130, 120, -104, -108, -164],\n",
        "    'STRIKEOUT': [6, 5, 6, 5, 5, 7, 6, 5, 5, 6]\n",
        "}\n",
        "# Create a DataFrame\n",
        "df = pd.DataFrame(data)\n",
        "\n",
        "# Define the independent variables and the dependent variable\n",
        "X = df[['ODD', 'OVER', 'UNDER']]\n",
        "y = df['STRIKEOUT']\n",
        "\n",
        "# Add a constant to the independent variables\n",
        "X = sm.add_constant(X)\n",
        "\n",
        "# Fit the linear regression model\n",
        "model = sm.OLS(y, X).fit()\n",
        "\n",
        "# Get the summary of the regression\n",
        "summary = model.summary()\n",
        "summary\n"
      ],
      "metadata": {
        "colab": {
          "base_uri": "https://localhost:8080/",
          "height": 554
        },
        "outputId": "92719ae0-8509-41e1-da1c-143b1fd9ceb3",
        "id": "ESyhSdSOw2U_"
      },
      "execution_count": 3,
      "outputs": [
        {
          "output_type": "stream",
          "name": "stderr",
          "text": [
            "/usr/local/lib/python3.10/dist-packages/scipy/stats/_stats_py.py:1806: UserWarning: kurtosistest only valid for n>=20 ... continuing anyway, n=10\n",
            "  warnings.warn(\"kurtosistest only valid for n>=20 ... continuing \"\n"
          ]
        },
        {
          "output_type": "execute_result",
          "data": {
            "text/plain": [
              "<class 'statsmodels.iolib.summary.Summary'>\n",
              "\"\"\"\n",
              "                            OLS Regression Results                            \n",
              "==============================================================================\n",
              "Dep. Variable:              STRIKEOUT   R-squared:                       0.462\n",
              "Model:                            OLS   Adj. R-squared:                  0.193\n",
              "Method:                 Least Squares   F-statistic:                     1.718\n",
              "Date:                Fri, 26 Jul 2024   Prob (F-statistic):              0.262\n",
              "Time:                        13:50:10   Log-Likelihood:                -6.9842\n",
              "No. Observations:                  10   AIC:                             21.97\n",
              "Df Residuals:                       6   BIC:                             23.18\n",
              "Df Model:                           3                                         \n",
              "Covariance Type:            nonrobust                                         \n",
              "==============================================================================\n",
              "                 coef    std err          t      P>|t|      [0.025      0.975]\n",
              "------------------------------------------------------------------------------\n",
              "const          4.0795      2.148      1.899      0.106      -1.177       9.335\n",
              "ODD            0.3298      0.332      0.994      0.359      -0.482       1.142\n",
              "OVER           0.0042      0.002      2.007      0.092      -0.001       0.009\n",
              "UNDER          0.0043      0.003      1.385      0.215      -0.003       0.012\n",
              "==============================================================================\n",
              "Omnibus:                        2.458   Durbin-Watson:                   3.063\n",
              "Prob(Omnibus):                  0.293   Jarque-Bera (JB):                0.342\n",
              "Skew:                          -0.331   Prob(JB):                        0.843\n",
              "Kurtosis:                       3.618   Cond. No.                     1.44e+03\n",
              "==============================================================================\n",
              "\n",
              "Notes:\n",
              "[1] Standard Errors assume that the covariance matrix of the errors is correctly specified.\n",
              "[2] The condition number is large, 1.44e+03. This might indicate that there are\n",
              "strong multicollinearity or other numerical problems.\n",
              "\"\"\""
            ],
            "text/html": [
              "<table class=\"simpletable\">\n",
              "<caption>OLS Regression Results</caption>\n",
              "<tr>\n",
              "  <th>Dep. Variable:</th>        <td>STRIKEOUT</td>    <th>  R-squared:         </th> <td>   0.462</td>\n",
              "</tr>\n",
              "<tr>\n",
              "  <th>Model:</th>                   <td>OLS</td>       <th>  Adj. R-squared:    </th> <td>   0.193</td>\n",
              "</tr>\n",
              "<tr>\n",
              "  <th>Method:</th>             <td>Least Squares</td>  <th>  F-statistic:       </th> <td>   1.718</td>\n",
              "</tr>\n",
              "<tr>\n",
              "  <th>Date:</th>             <td>Fri, 26 Jul 2024</td> <th>  Prob (F-statistic):</th>  <td> 0.262</td> \n",
              "</tr>\n",
              "<tr>\n",
              "  <th>Time:</th>                 <td>13:50:10</td>     <th>  Log-Likelihood:    </th> <td> -6.9842</td>\n",
              "</tr>\n",
              "<tr>\n",
              "  <th>No. Observations:</th>      <td>    10</td>      <th>  AIC:               </th> <td>   21.97</td>\n",
              "</tr>\n",
              "<tr>\n",
              "  <th>Df Residuals:</th>          <td>     6</td>      <th>  BIC:               </th> <td>   23.18</td>\n",
              "</tr>\n",
              "<tr>\n",
              "  <th>Df Model:</th>              <td>     3</td>      <th>                     </th>     <td> </td>   \n",
              "</tr>\n",
              "<tr>\n",
              "  <th>Covariance Type:</th>      <td>nonrobust</td>    <th>                     </th>     <td> </td>   \n",
              "</tr>\n",
              "</table>\n",
              "<table class=\"simpletable\">\n",
              "<tr>\n",
              "    <td></td>       <th>coef</th>     <th>std err</th>      <th>t</th>      <th>P>|t|</th>  <th>[0.025</th>    <th>0.975]</th>  \n",
              "</tr>\n",
              "<tr>\n",
              "  <th>const</th> <td>    4.0795</td> <td>    2.148</td> <td>    1.899</td> <td> 0.106</td> <td>   -1.177</td> <td>    9.335</td>\n",
              "</tr>\n",
              "<tr>\n",
              "  <th>ODD</th>   <td>    0.3298</td> <td>    0.332</td> <td>    0.994</td> <td> 0.359</td> <td>   -0.482</td> <td>    1.142</td>\n",
              "</tr>\n",
              "<tr>\n",
              "  <th>OVER</th>  <td>    0.0042</td> <td>    0.002</td> <td>    2.007</td> <td> 0.092</td> <td>   -0.001</td> <td>    0.009</td>\n",
              "</tr>\n",
              "<tr>\n",
              "  <th>UNDER</th> <td>    0.0043</td> <td>    0.003</td> <td>    1.385</td> <td> 0.215</td> <td>   -0.003</td> <td>    0.012</td>\n",
              "</tr>\n",
              "</table>\n",
              "<table class=\"simpletable\">\n",
              "<tr>\n",
              "  <th>Omnibus:</th>       <td> 2.458</td> <th>  Durbin-Watson:     </th> <td>   3.063</td>\n",
              "</tr>\n",
              "<tr>\n",
              "  <th>Prob(Omnibus):</th> <td> 0.293</td> <th>  Jarque-Bera (JB):  </th> <td>   0.342</td>\n",
              "</tr>\n",
              "<tr>\n",
              "  <th>Skew:</th>          <td>-0.331</td> <th>  Prob(JB):          </th> <td>   0.843</td>\n",
              "</tr>\n",
              "<tr>\n",
              "  <th>Kurtosis:</th>      <td> 3.618</td> <th>  Cond. No.          </th> <td>1.44e+03</td>\n",
              "</tr>\n",
              "</table><br/><br/>Notes:<br/>[1] Standard Errors assume that the covariance matrix of the errors is correctly specified.<br/>[2] The condition number is large, 1.44e+03. This might indicate that there are<br/>strong multicollinearity or other numerical problems."
            ],
            "text/latex": "\\begin{center}\n\\begin{tabular}{lclc}\n\\toprule\n\\textbf{Dep. Variable:}    &    STRIKEOUT     & \\textbf{  R-squared:         } &     0.462   \\\\\n\\textbf{Model:}            &       OLS        & \\textbf{  Adj. R-squared:    } &     0.193   \\\\\n\\textbf{Method:}           &  Least Squares   & \\textbf{  F-statistic:       } &     1.718   \\\\\n\\textbf{Date:}             & Fri, 26 Jul 2024 & \\textbf{  Prob (F-statistic):} &    0.262    \\\\\n\\textbf{Time:}             &     13:50:10     & \\textbf{  Log-Likelihood:    } &   -6.9842   \\\\\n\\textbf{No. Observations:} &          10      & \\textbf{  AIC:               } &     21.97   \\\\\n\\textbf{Df Residuals:}     &           6      & \\textbf{  BIC:               } &     23.18   \\\\\n\\textbf{Df Model:}         &           3      & \\textbf{                     } &             \\\\\n\\textbf{Covariance Type:}  &    nonrobust     & \\textbf{                     } &             \\\\\n\\bottomrule\n\\end{tabular}\n\\begin{tabular}{lcccccc}\n               & \\textbf{coef} & \\textbf{std err} & \\textbf{t} & \\textbf{P$> |$t$|$} & \\textbf{[0.025} & \\textbf{0.975]}  \\\\\n\\midrule\n\\textbf{const} &       4.0795  &        2.148     &     1.899  &         0.106        &       -1.177    &        9.335     \\\\\n\\textbf{ODD}   &       0.3298  &        0.332     &     0.994  &         0.359        &       -0.482    &        1.142     \\\\\n\\textbf{OVER}  &       0.0042  &        0.002     &     2.007  &         0.092        &       -0.001    &        0.009     \\\\\n\\textbf{UNDER} &       0.0043  &        0.003     &     1.385  &         0.215        &       -0.003    &        0.012     \\\\\n\\bottomrule\n\\end{tabular}\n\\begin{tabular}{lclc}\n\\textbf{Omnibus:}       &  2.458 & \\textbf{  Durbin-Watson:     } &    3.063  \\\\\n\\textbf{Prob(Omnibus):} &  0.293 & \\textbf{  Jarque-Bera (JB):  } &    0.342  \\\\\n\\textbf{Skew:}          & -0.331 & \\textbf{  Prob(JB):          } &    0.843  \\\\\n\\textbf{Kurtosis:}      &  3.618 & \\textbf{  Cond. No.          } & 1.44e+03  \\\\\n\\bottomrule\n\\end{tabular}\n%\\caption{OLS Regression Results}\n\\end{center}\n\nNotes: \\newline\n [1] Standard Errors assume that the covariance matrix of the errors is correctly specified. \\newline\n [2] The condition number is large, 1.44e+03. This might indicate that there are \\newline\n strong multicollinearity or other numerical problems."
          },
          "metadata": {},
          "execution_count": 3
        }
      ]
    },
    {
      "cell_type": "code",
      "source": [],
      "metadata": {
        "id": "97sIS1OCTGT_"
      },
      "execution_count": null,
      "outputs": []
    },
    {
      "cell_type": "code",
      "source": [
        "# Define the new data point\n",
        "new_data = {\n",
        "    'const': 1,\n",
        "    'odd': 6.5,\n",
        "    'over': 110,\n",
        "    'under': -140\n",
        "}\n",
        "\n",
        "# Convert the new data point to a DataFrame\n",
        "new_df = pd.DataFrame([new_data])\n",
        "\n",
        "# Predict the total strikeout using the model\n",
        "predicted_strikeout = model.predict(new_df)\n",
        "predicted_strikeout\n"
      ],
      "metadata": {
        "colab": {
          "base_uri": "https://localhost:8080/"
        },
        "outputId": "c7682a77-95b0-41e0-b0a5-076136830720",
        "id": "ndSXinTRi2S2"
      },
      "execution_count": 4,
      "outputs": [
        {
          "output_type": "execute_result",
          "data": {
            "text/plain": [
              "0    6.073738\n",
              "dtype: float64"
            ]
          },
          "metadata": {},
          "execution_count": 4
        }
      ]
    },
    {
      "cell_type": "markdown",
      "source": [
        "#KYLE HARRISON"
      ],
      "metadata": {
        "id": "ytMLEWagUjwX"
      }
    },
    {
      "cell_type": "code",
      "source": [],
      "metadata": {
        "id": "R37czz1EUnEl"
      },
      "execution_count": null,
      "outputs": []
    },
    {
      "cell_type": "code",
      "source": [
        "import pandas as pd\n",
        "import statsmodels.api as sm\n",
        "\n",
        "# Define the data\n",
        "data = {\n",
        "    'ODD': [4.5, 4.5, 3.5, 3.5, 4.5, 5.5, 4.5, 5.5, 5.5, 5.5],\n",
        "    'OVER': [110, 120, -120, -166, 102, 122, -148, -146, 124, -128],\n",
        "    'UNDER': [-145, -160, -106, 130, -130, -154, 116, 116, -158, -100],\n",
        "    'STRIKEOUT': [6, 3, 2, 3, 5, 5, 6, 4, 5, 2]\n",
        "}\n",
        "# Create a DataFrame\n",
        "df = pd.DataFrame(data)\n",
        "\n",
        "# Define the independent variables and the dependent variable\n",
        "X = df[['ODD', 'OVER', 'UNDER']]\n",
        "y = df['STRIKEOUT']\n",
        "\n",
        "# Add a constant to the independent variables\n",
        "X = sm.add_constant(X)\n",
        "\n",
        "# Fit the linear regression model\n",
        "model = sm.OLS(y, X).fit()\n",
        "\n",
        "# Get the summary of the regression\n",
        "summary = model.summary()\n",
        "summary\n"
      ],
      "metadata": {
        "colab": {
          "base_uri": "https://localhost:8080/",
          "height": 554
        },
        "outputId": "b1eea789-25e9-4dd1-ed25-bf36c41a8f9e",
        "id": "UNQx3MD5Ungc"
      },
      "execution_count": 7,
      "outputs": [
        {
          "output_type": "stream",
          "name": "stderr",
          "text": [
            "/usr/local/lib/python3.10/dist-packages/scipy/stats/_stats_py.py:1806: UserWarning: kurtosistest only valid for n>=20 ... continuing anyway, n=10\n",
            "  warnings.warn(\"kurtosistest only valid for n>=20 ... continuing \"\n"
          ]
        },
        {
          "output_type": "execute_result",
          "data": {
            "text/plain": [
              "<class 'statsmodels.iolib.summary.Summary'>\n",
              "\"\"\"\n",
              "                            OLS Regression Results                            \n",
              "==============================================================================\n",
              "Dep. Variable:              STRIKEOUT   R-squared:                       0.582\n",
              "Model:                            OLS   Adj. R-squared:                  0.372\n",
              "Method:                 Least Squares   F-statistic:                     2.781\n",
              "Date:                Fri, 26 Jul 2024   Prob (F-statistic):              0.132\n",
              "Time:                        13:56:33   Log-Likelihood:                -13.518\n",
              "No. Observations:                  10   AIC:                             35.04\n",
              "Df Residuals:                       6   BIC:                             36.25\n",
              "Df Model:                           3                                         \n",
              "Covariance Type:            nonrobust                                         \n",
              "==============================================================================\n",
              "                 coef    std err          t      P>|t|      [0.025      0.975]\n",
              "------------------------------------------------------------------------------\n",
              "const          3.8534      2.584      1.491      0.187      -2.470      10.177\n",
              "ODD            0.2477      0.534      0.464      0.659      -1.058       1.554\n",
              "OVER           0.0138      0.005      2.707      0.035       0.001       0.026\n",
              "UNDER          0.0125      0.005      2.296      0.061      -0.001       0.026\n",
              "==============================================================================\n",
              "Omnibus:                        0.069   Durbin-Watson:                   2.749\n",
              "Prob(Omnibus):                  0.966   Jarque-Bera (JB):                0.155\n",
              "Skew:                           0.112   Prob(JB):                        0.926\n",
              "Kurtosis:                       2.434   Cond. No.                     1.18e+03\n",
              "==============================================================================\n",
              "\n",
              "Notes:\n",
              "[1] Standard Errors assume that the covariance matrix of the errors is correctly specified.\n",
              "[2] The condition number is large, 1.18e+03. This might indicate that there are\n",
              "strong multicollinearity or other numerical problems.\n",
              "\"\"\""
            ],
            "text/html": [
              "<table class=\"simpletable\">\n",
              "<caption>OLS Regression Results</caption>\n",
              "<tr>\n",
              "  <th>Dep. Variable:</th>        <td>STRIKEOUT</td>    <th>  R-squared:         </th> <td>   0.582</td>\n",
              "</tr>\n",
              "<tr>\n",
              "  <th>Model:</th>                   <td>OLS</td>       <th>  Adj. R-squared:    </th> <td>   0.372</td>\n",
              "</tr>\n",
              "<tr>\n",
              "  <th>Method:</th>             <td>Least Squares</td>  <th>  F-statistic:       </th> <td>   2.781</td>\n",
              "</tr>\n",
              "<tr>\n",
              "  <th>Date:</th>             <td>Fri, 26 Jul 2024</td> <th>  Prob (F-statistic):</th>  <td> 0.132</td> \n",
              "</tr>\n",
              "<tr>\n",
              "  <th>Time:</th>                 <td>13:56:33</td>     <th>  Log-Likelihood:    </th> <td> -13.518</td>\n",
              "</tr>\n",
              "<tr>\n",
              "  <th>No. Observations:</th>      <td>    10</td>      <th>  AIC:               </th> <td>   35.04</td>\n",
              "</tr>\n",
              "<tr>\n",
              "  <th>Df Residuals:</th>          <td>     6</td>      <th>  BIC:               </th> <td>   36.25</td>\n",
              "</tr>\n",
              "<tr>\n",
              "  <th>Df Model:</th>              <td>     3</td>      <th>                     </th>     <td> </td>   \n",
              "</tr>\n",
              "<tr>\n",
              "  <th>Covariance Type:</th>      <td>nonrobust</td>    <th>                     </th>     <td> </td>   \n",
              "</tr>\n",
              "</table>\n",
              "<table class=\"simpletable\">\n",
              "<tr>\n",
              "    <td></td>       <th>coef</th>     <th>std err</th>      <th>t</th>      <th>P>|t|</th>  <th>[0.025</th>    <th>0.975]</th>  \n",
              "</tr>\n",
              "<tr>\n",
              "  <th>const</th> <td>    3.8534</td> <td>    2.584</td> <td>    1.491</td> <td> 0.187</td> <td>   -2.470</td> <td>   10.177</td>\n",
              "</tr>\n",
              "<tr>\n",
              "  <th>ODD</th>   <td>    0.2477</td> <td>    0.534</td> <td>    0.464</td> <td> 0.659</td> <td>   -1.058</td> <td>    1.554</td>\n",
              "</tr>\n",
              "<tr>\n",
              "  <th>OVER</th>  <td>    0.0138</td> <td>    0.005</td> <td>    2.707</td> <td> 0.035</td> <td>    0.001</td> <td>    0.026</td>\n",
              "</tr>\n",
              "<tr>\n",
              "  <th>UNDER</th> <td>    0.0125</td> <td>    0.005</td> <td>    2.296</td> <td> 0.061</td> <td>   -0.001</td> <td>    0.026</td>\n",
              "</tr>\n",
              "</table>\n",
              "<table class=\"simpletable\">\n",
              "<tr>\n",
              "  <th>Omnibus:</th>       <td> 0.069</td> <th>  Durbin-Watson:     </th> <td>   2.749</td>\n",
              "</tr>\n",
              "<tr>\n",
              "  <th>Prob(Omnibus):</th> <td> 0.966</td> <th>  Jarque-Bera (JB):  </th> <td>   0.155</td>\n",
              "</tr>\n",
              "<tr>\n",
              "  <th>Skew:</th>          <td> 0.112</td> <th>  Prob(JB):          </th> <td>   0.926</td>\n",
              "</tr>\n",
              "<tr>\n",
              "  <th>Kurtosis:</th>      <td> 2.434</td> <th>  Cond. No.          </th> <td>1.18e+03</td>\n",
              "</tr>\n",
              "</table><br/><br/>Notes:<br/>[1] Standard Errors assume that the covariance matrix of the errors is correctly specified.<br/>[2] The condition number is large, 1.18e+03. This might indicate that there are<br/>strong multicollinearity or other numerical problems."
            ],
            "text/latex": "\\begin{center}\n\\begin{tabular}{lclc}\n\\toprule\n\\textbf{Dep. Variable:}    &    STRIKEOUT     & \\textbf{  R-squared:         } &     0.582   \\\\\n\\textbf{Model:}            &       OLS        & \\textbf{  Adj. R-squared:    } &     0.372   \\\\\n\\textbf{Method:}           &  Least Squares   & \\textbf{  F-statistic:       } &     2.781   \\\\\n\\textbf{Date:}             & Fri, 26 Jul 2024 & \\textbf{  Prob (F-statistic):} &    0.132    \\\\\n\\textbf{Time:}             &     13:56:33     & \\textbf{  Log-Likelihood:    } &   -13.518   \\\\\n\\textbf{No. Observations:} &          10      & \\textbf{  AIC:               } &     35.04   \\\\\n\\textbf{Df Residuals:}     &           6      & \\textbf{  BIC:               } &     36.25   \\\\\n\\textbf{Df Model:}         &           3      & \\textbf{                     } &             \\\\\n\\textbf{Covariance Type:}  &    nonrobust     & \\textbf{                     } &             \\\\\n\\bottomrule\n\\end{tabular}\n\\begin{tabular}{lcccccc}\n               & \\textbf{coef} & \\textbf{std err} & \\textbf{t} & \\textbf{P$> |$t$|$} & \\textbf{[0.025} & \\textbf{0.975]}  \\\\\n\\midrule\n\\textbf{const} &       3.8534  &        2.584     &     1.491  &         0.187        &       -2.470    &       10.177     \\\\\n\\textbf{ODD}   &       0.2477  &        0.534     &     0.464  &         0.659        &       -1.058    &        1.554     \\\\\n\\textbf{OVER}  &       0.0138  &        0.005     &     2.707  &         0.035        &        0.001    &        0.026     \\\\\n\\textbf{UNDER} &       0.0125  &        0.005     &     2.296  &         0.061        &       -0.001    &        0.026     \\\\\n\\bottomrule\n\\end{tabular}\n\\begin{tabular}{lclc}\n\\textbf{Omnibus:}       &  0.069 & \\textbf{  Durbin-Watson:     } &    2.749  \\\\\n\\textbf{Prob(Omnibus):} &  0.966 & \\textbf{  Jarque-Bera (JB):  } &    0.155  \\\\\n\\textbf{Skew:}          &  0.112 & \\textbf{  Prob(JB):          } &    0.926  \\\\\n\\textbf{Kurtosis:}      &  2.434 & \\textbf{  Cond. No.          } & 1.18e+03  \\\\\n\\bottomrule\n\\end{tabular}\n%\\caption{OLS Regression Results}\n\\end{center}\n\nNotes: \\newline\n [1] Standard Errors assume that the covariance matrix of the errors is correctly specified. \\newline\n [2] The condition number is large, 1.18e+03. This might indicate that there are \\newline\n strong multicollinearity or other numerical problems."
          },
          "metadata": {},
          "execution_count": 7
        }
      ]
    },
    {
      "cell_type": "code",
      "source": [],
      "metadata": {
        "id": "Iejy31JcUvma"
      },
      "execution_count": null,
      "outputs": []
    },
    {
      "cell_type": "code",
      "source": [
        "# Define the new data point\n",
        "new_data = {\n",
        "    'const': 1,\n",
        "    'odd': 5.5,\n",
        "    'over': 120,\n",
        "    'under': -155\n",
        "}\n",
        "\n",
        "# Convert the new data point to a DataFrame\n",
        "new_df = pd.DataFrame([new_data])\n",
        "\n",
        "# Predict the total strikeout using the model\n",
        "predicted_strikeout = model.predict(new_df)\n",
        "predicted_strikeout\n"
      ],
      "metadata": {
        "colab": {
          "base_uri": "https://localhost:8080/"
        },
        "outputId": "89767886-69f7-4c18-e64b-178982908699",
        "id": "6DrdRl6uUvwb"
      },
      "execution_count": 8,
      "outputs": [
        {
          "output_type": "execute_result",
          "data": {
            "text/plain": [
              "0    4.942367\n",
              "dtype: float64"
            ]
          },
          "metadata": {},
          "execution_count": 8
        }
      ]
    },
    {
      "cell_type": "markdown",
      "source": [
        "#KYLE FREELAND"
      ],
      "metadata": {
        "id": "nGBlEBLpV7zY"
      }
    },
    {
      "cell_type": "code",
      "source": [],
      "metadata": {
        "id": "znGu8lFxV-Lt"
      },
      "execution_count": null,
      "outputs": []
    },
    {
      "cell_type": "code",
      "source": [
        "import pandas as pd\n",
        "import statsmodels.api as sm\n",
        "\n",
        "# Define the data\n",
        "data = {\n",
        "    'ODD': [3.5, 3.5, 3.5, 3.5, 2.5, 2.5, 2.5, 3.5, 3.5, 3.5],\n",
        "    'OVER': [-130, -180, 142, -162, -104, -132, -160, -100, 128, -118],\n",
        "    'UNDER': [100, 140, -182, 126, -122, 104, 126, -128, -164, -108],\n",
        "    'STRIKEOUT': [4, 9, 5, 3, 4, 3, 2, 2, 2, 1]\n",
        "}\n",
        "# Create a DataFrame\n",
        "df = pd.DataFrame(data)\n",
        "\n",
        "# Define the independent variables and the dependent variable\n",
        "X = df[['ODD', 'OVER', 'UNDER']]\n",
        "y = df['STRIKEOUT']\n",
        "\n",
        "# Add a constant to the independent variables\n",
        "X = sm.add_constant(X)\n",
        "\n",
        "# Fit the linear regression model\n",
        "model = sm.OLS(y, X).fit()\n",
        "\n",
        "# Get the summary of the regression\n",
        "summary = model.summary()\n",
        "summary\n"
      ],
      "metadata": {
        "colab": {
          "base_uri": "https://localhost:8080/",
          "height": 554
        },
        "outputId": "546806ce-df2b-4d2a-a367-d64dd9109251",
        "id": "_G3cO2Z-V-bh"
      },
      "execution_count": 9,
      "outputs": [
        {
          "output_type": "stream",
          "name": "stderr",
          "text": [
            "/usr/local/lib/python3.10/dist-packages/scipy/stats/_stats_py.py:1806: UserWarning: kurtosistest only valid for n>=20 ... continuing anyway, n=10\n",
            "  warnings.warn(\"kurtosistest only valid for n>=20 ... continuing \"\n"
          ]
        },
        {
          "output_type": "execute_result",
          "data": {
            "text/plain": [
              "<class 'statsmodels.iolib.summary.Summary'>\n",
              "\"\"\"\n",
              "                            OLS Regression Results                            \n",
              "==============================================================================\n",
              "Dep. Variable:              STRIKEOUT   R-squared:                       0.175\n",
              "Model:                            OLS   Adj. R-squared:                 -0.238\n",
              "Method:                 Least Squares   F-statistic:                    0.4237\n",
              "Date:                Fri, 26 Jul 2024   Prob (F-statistic):              0.743\n",
              "Time:                        14:00:48   Log-Likelihood:                -20.913\n",
              "No. Observations:                  10   AIC:                             49.83\n",
              "Df Residuals:                       6   BIC:                             51.04\n",
              "Df Model:                           3                                         \n",
              "Covariance Type:            nonrobust                                         \n",
              "==============================================================================\n",
              "                 coef    std err          t      P>|t|      [0.025      0.975]\n",
              "------------------------------------------------------------------------------\n",
              "const          0.8606      6.150      0.140      0.893     -14.188      15.909\n",
              "ODD            0.9719      1.828      0.532      0.614      -3.501       5.444\n",
              "OVER           0.0046      0.011      0.414      0.693      -0.023       0.032\n",
              "UNDER          0.0088      0.009      0.960      0.374      -0.014       0.031\n",
              "==============================================================================\n",
              "Omnibus:                        3.789   Durbin-Watson:                   1.769\n",
              "Prob(Omnibus):                  0.150   Jarque-Bera (JB):                1.894\n",
              "Skew:                           1.062   Prob(JB):                        0.388\n",
              "Kurtosis:                       2.822   Cond. No.                     1.35e+03\n",
              "==============================================================================\n",
              "\n",
              "Notes:\n",
              "[1] Standard Errors assume that the covariance matrix of the errors is correctly specified.\n",
              "[2] The condition number is large, 1.35e+03. This might indicate that there are\n",
              "strong multicollinearity or other numerical problems.\n",
              "\"\"\""
            ],
            "text/html": [
              "<table class=\"simpletable\">\n",
              "<caption>OLS Regression Results</caption>\n",
              "<tr>\n",
              "  <th>Dep. Variable:</th>        <td>STRIKEOUT</td>    <th>  R-squared:         </th> <td>   0.175</td>\n",
              "</tr>\n",
              "<tr>\n",
              "  <th>Model:</th>                   <td>OLS</td>       <th>  Adj. R-squared:    </th> <td>  -0.238</td>\n",
              "</tr>\n",
              "<tr>\n",
              "  <th>Method:</th>             <td>Least Squares</td>  <th>  F-statistic:       </th> <td>  0.4237</td>\n",
              "</tr>\n",
              "<tr>\n",
              "  <th>Date:</th>             <td>Fri, 26 Jul 2024</td> <th>  Prob (F-statistic):</th>  <td> 0.743</td> \n",
              "</tr>\n",
              "<tr>\n",
              "  <th>Time:</th>                 <td>14:00:48</td>     <th>  Log-Likelihood:    </th> <td> -20.913</td>\n",
              "</tr>\n",
              "<tr>\n",
              "  <th>No. Observations:</th>      <td>    10</td>      <th>  AIC:               </th> <td>   49.83</td>\n",
              "</tr>\n",
              "<tr>\n",
              "  <th>Df Residuals:</th>          <td>     6</td>      <th>  BIC:               </th> <td>   51.04</td>\n",
              "</tr>\n",
              "<tr>\n",
              "  <th>Df Model:</th>              <td>     3</td>      <th>                     </th>     <td> </td>   \n",
              "</tr>\n",
              "<tr>\n",
              "  <th>Covariance Type:</th>      <td>nonrobust</td>    <th>                     </th>     <td> </td>   \n",
              "</tr>\n",
              "</table>\n",
              "<table class=\"simpletable\">\n",
              "<tr>\n",
              "    <td></td>       <th>coef</th>     <th>std err</th>      <th>t</th>      <th>P>|t|</th>  <th>[0.025</th>    <th>0.975]</th>  \n",
              "</tr>\n",
              "<tr>\n",
              "  <th>const</th> <td>    0.8606</td> <td>    6.150</td> <td>    0.140</td> <td> 0.893</td> <td>  -14.188</td> <td>   15.909</td>\n",
              "</tr>\n",
              "<tr>\n",
              "  <th>ODD</th>   <td>    0.9719</td> <td>    1.828</td> <td>    0.532</td> <td> 0.614</td> <td>   -3.501</td> <td>    5.444</td>\n",
              "</tr>\n",
              "<tr>\n",
              "  <th>OVER</th>  <td>    0.0046</td> <td>    0.011</td> <td>    0.414</td> <td> 0.693</td> <td>   -0.023</td> <td>    0.032</td>\n",
              "</tr>\n",
              "<tr>\n",
              "  <th>UNDER</th> <td>    0.0088</td> <td>    0.009</td> <td>    0.960</td> <td> 0.374</td> <td>   -0.014</td> <td>    0.031</td>\n",
              "</tr>\n",
              "</table>\n",
              "<table class=\"simpletable\">\n",
              "<tr>\n",
              "  <th>Omnibus:</th>       <td> 3.789</td> <th>  Durbin-Watson:     </th> <td>   1.769</td>\n",
              "</tr>\n",
              "<tr>\n",
              "  <th>Prob(Omnibus):</th> <td> 0.150</td> <th>  Jarque-Bera (JB):  </th> <td>   1.894</td>\n",
              "</tr>\n",
              "<tr>\n",
              "  <th>Skew:</th>          <td> 1.062</td> <th>  Prob(JB):          </th> <td>   0.388</td>\n",
              "</tr>\n",
              "<tr>\n",
              "  <th>Kurtosis:</th>      <td> 2.822</td> <th>  Cond. No.          </th> <td>1.35e+03</td>\n",
              "</tr>\n",
              "</table><br/><br/>Notes:<br/>[1] Standard Errors assume that the covariance matrix of the errors is correctly specified.<br/>[2] The condition number is large, 1.35e+03. This might indicate that there are<br/>strong multicollinearity or other numerical problems."
            ],
            "text/latex": "\\begin{center}\n\\begin{tabular}{lclc}\n\\toprule\n\\textbf{Dep. Variable:}    &    STRIKEOUT     & \\textbf{  R-squared:         } &     0.175   \\\\\n\\textbf{Model:}            &       OLS        & \\textbf{  Adj. R-squared:    } &    -0.238   \\\\\n\\textbf{Method:}           &  Least Squares   & \\textbf{  F-statistic:       } &    0.4237   \\\\\n\\textbf{Date:}             & Fri, 26 Jul 2024 & \\textbf{  Prob (F-statistic):} &    0.743    \\\\\n\\textbf{Time:}             &     14:00:48     & \\textbf{  Log-Likelihood:    } &   -20.913   \\\\\n\\textbf{No. Observations:} &          10      & \\textbf{  AIC:               } &     49.83   \\\\\n\\textbf{Df Residuals:}     &           6      & \\textbf{  BIC:               } &     51.04   \\\\\n\\textbf{Df Model:}         &           3      & \\textbf{                     } &             \\\\\n\\textbf{Covariance Type:}  &    nonrobust     & \\textbf{                     } &             \\\\\n\\bottomrule\n\\end{tabular}\n\\begin{tabular}{lcccccc}\n               & \\textbf{coef} & \\textbf{std err} & \\textbf{t} & \\textbf{P$> |$t$|$} & \\textbf{[0.025} & \\textbf{0.975]}  \\\\\n\\midrule\n\\textbf{const} &       0.8606  &        6.150     &     0.140  &         0.893        &      -14.188    &       15.909     \\\\\n\\textbf{ODD}   &       0.9719  &        1.828     &     0.532  &         0.614        &       -3.501    &        5.444     \\\\\n\\textbf{OVER}  &       0.0046  &        0.011     &     0.414  &         0.693        &       -0.023    &        0.032     \\\\\n\\textbf{UNDER} &       0.0088  &        0.009     &     0.960  &         0.374        &       -0.014    &        0.031     \\\\\n\\bottomrule\n\\end{tabular}\n\\begin{tabular}{lclc}\n\\textbf{Omnibus:}       &  3.789 & \\textbf{  Durbin-Watson:     } &    1.769  \\\\\n\\textbf{Prob(Omnibus):} &  0.150 & \\textbf{  Jarque-Bera (JB):  } &    1.894  \\\\\n\\textbf{Skew:}          &  1.062 & \\textbf{  Prob(JB):          } &    0.388  \\\\\n\\textbf{Kurtosis:}      &  2.822 & \\textbf{  Cond. No.          } & 1.35e+03  \\\\\n\\bottomrule\n\\end{tabular}\n%\\caption{OLS Regression Results}\n\\end{center}\n\nNotes: \\newline\n [1] Standard Errors assume that the covariance matrix of the errors is correctly specified. \\newline\n [2] The condition number is large, 1.35e+03. This might indicate that there are \\newline\n strong multicollinearity or other numerical problems."
          },
          "metadata": {},
          "execution_count": 9
        }
      ]
    },
    {
      "cell_type": "code",
      "source": [],
      "metadata": {
        "id": "g_Z9zZpQWEnK"
      },
      "execution_count": null,
      "outputs": []
    },
    {
      "cell_type": "code",
      "source": [
        "# Define the new data point\n",
        "new_data = {\n",
        "    'const': 1,\n",
        "    'odd': 4.5,\n",
        "    'over': 125,\n",
        "    'under': -160\n",
        "}\n",
        "\n",
        "# Convert the new data point to a DataFrame\n",
        "new_df = pd.DataFrame([new_data])\n",
        "\n",
        "# Predict the total strikeout using the model\n",
        "predicted_strikeout = model.predict(new_df)\n",
        "predicted_strikeout\n"
      ],
      "metadata": {
        "colab": {
          "base_uri": "https://localhost:8080/"
        },
        "outputId": "6caadff7-15b6-41f1-85d1-e293533bf01d",
        "id": "pCBCFlscWFGE"
      },
      "execution_count": 10,
      "outputs": [
        {
          "output_type": "execute_result",
          "data": {
            "text/plain": [
              "0    4.399914\n",
              "dtype: float64"
            ]
          },
          "metadata": {},
          "execution_count": 10
        }
      ]
    },
    {
      "cell_type": "markdown",
      "source": [
        "#CHARLIE MORTON"
      ],
      "metadata": {
        "id": "9lBFt-21bauP"
      }
    },
    {
      "cell_type": "code",
      "source": [],
      "metadata": {
        "id": "PuV3HDOXbcja"
      },
      "execution_count": null,
      "outputs": []
    },
    {
      "cell_type": "code",
      "source": [
        "import pandas as pd\n",
        "import statsmodels.api as sm\n",
        "\n",
        "# Define the data\n",
        "data = {\n",
        "    'ODD': [5.5, 5.5, 5.5, 6.5, 5.5, 5.5, 5.5, 7.5, 5.5, 5.5],\n",
        "    'OVER': [100, -118, -156, 116, -138, -126, -132, 118, -150, -120],\n",
        "    'UNDER': [-130, -108, 124, -148, 108, -102, 104, -150, 118, -106],\n",
        "    'STRIKEOUT': [4, 5, 5, 7, 4, 8, 3, 6, 7, 8]\n",
        "}\n",
        "# Create a DataFrame\n",
        "df = pd.DataFrame(data)\n",
        "\n",
        "# Define the independent variables and the dependent variable\n",
        "X = df[['ODD', 'OVER', 'UNDER']]\n",
        "y = df['STRIKEOUT']\n",
        "\n",
        "# Add a constant to the independent variables\n",
        "X = sm.add_constant(X)\n",
        "\n",
        "# Fit the linear regression model\n",
        "model = sm.OLS(y, X).fit()\n",
        "\n",
        "# Get the summary of the regression\n",
        "summary = model.summary()\n",
        "summary\n"
      ],
      "metadata": {
        "colab": {
          "base_uri": "https://localhost:8080/",
          "height": 554
        },
        "outputId": "dcfe31bb-0e26-4039-ac58-0721cd1bc0a8",
        "id": "dW4pZdo5bcy2"
      },
      "execution_count": 12,
      "outputs": [
        {
          "output_type": "stream",
          "name": "stderr",
          "text": [
            "/usr/local/lib/python3.10/dist-packages/scipy/stats/_stats_py.py:1806: UserWarning: kurtosistest only valid for n>=20 ... continuing anyway, n=10\n",
            "  warnings.warn(\"kurtosistest only valid for n>=20 ... continuing \"\n"
          ]
        },
        {
          "output_type": "execute_result",
          "data": {
            "text/plain": [
              "<class 'statsmodels.iolib.summary.Summary'>\n",
              "\"\"\"\n",
              "                            OLS Regression Results                            \n",
              "==============================================================================\n",
              "Dep. Variable:              STRIKEOUT   R-squared:                       0.392\n",
              "Model:                            OLS   Adj. R-squared:                  0.088\n",
              "Method:                 Least Squares   F-statistic:                     1.289\n",
              "Date:                Fri, 26 Jul 2024   Prob (F-statistic):              0.361\n",
              "Time:                        14:25:40   Log-Likelihood:                -16.869\n",
              "No. Observations:                  10   AIC:                             41.74\n",
              "Df Residuals:                       6   BIC:                             42.95\n",
              "Df Model:                           3                                         \n",
              "Covariance Type:            nonrobust                                         \n",
              "==============================================================================\n",
              "                 coef    std err          t      P>|t|      [0.025      0.975]\n",
              "------------------------------------------------------------------------------\n",
              "const         -1.6881      7.545     -0.224      0.830     -20.151      16.775\n",
              "ODD            1.0847      1.235      0.878      0.414      -1.937       4.107\n",
              "OVER          -0.0126      0.009     -1.470      0.192      -0.034       0.008\n",
              "UNDER         -0.0115      0.006     -1.815      0.119      -0.027       0.004\n",
              "==============================================================================\n",
              "Omnibus:                        0.597   Durbin-Watson:                   2.007\n",
              "Prob(Omnibus):                  0.742   Jarque-Bera (JB):                0.525\n",
              "Skew:                           0.039   Prob(JB):                        0.769\n",
              "Kurtosis:                       1.880   Cond. No.                     2.18e+03\n",
              "==============================================================================\n",
              "\n",
              "Notes:\n",
              "[1] Standard Errors assume that the covariance matrix of the errors is correctly specified.\n",
              "[2] The condition number is large, 2.18e+03. This might indicate that there are\n",
              "strong multicollinearity or other numerical problems.\n",
              "\"\"\""
            ],
            "text/html": [
              "<table class=\"simpletable\">\n",
              "<caption>OLS Regression Results</caption>\n",
              "<tr>\n",
              "  <th>Dep. Variable:</th>        <td>STRIKEOUT</td>    <th>  R-squared:         </th> <td>   0.392</td>\n",
              "</tr>\n",
              "<tr>\n",
              "  <th>Model:</th>                   <td>OLS</td>       <th>  Adj. R-squared:    </th> <td>   0.088</td>\n",
              "</tr>\n",
              "<tr>\n",
              "  <th>Method:</th>             <td>Least Squares</td>  <th>  F-statistic:       </th> <td>   1.289</td>\n",
              "</tr>\n",
              "<tr>\n",
              "  <th>Date:</th>             <td>Fri, 26 Jul 2024</td> <th>  Prob (F-statistic):</th>  <td> 0.361</td> \n",
              "</tr>\n",
              "<tr>\n",
              "  <th>Time:</th>                 <td>14:25:40</td>     <th>  Log-Likelihood:    </th> <td> -16.869</td>\n",
              "</tr>\n",
              "<tr>\n",
              "  <th>No. Observations:</th>      <td>    10</td>      <th>  AIC:               </th> <td>   41.74</td>\n",
              "</tr>\n",
              "<tr>\n",
              "  <th>Df Residuals:</th>          <td>     6</td>      <th>  BIC:               </th> <td>   42.95</td>\n",
              "</tr>\n",
              "<tr>\n",
              "  <th>Df Model:</th>              <td>     3</td>      <th>                     </th>     <td> </td>   \n",
              "</tr>\n",
              "<tr>\n",
              "  <th>Covariance Type:</th>      <td>nonrobust</td>    <th>                     </th>     <td> </td>   \n",
              "</tr>\n",
              "</table>\n",
              "<table class=\"simpletable\">\n",
              "<tr>\n",
              "    <td></td>       <th>coef</th>     <th>std err</th>      <th>t</th>      <th>P>|t|</th>  <th>[0.025</th>    <th>0.975]</th>  \n",
              "</tr>\n",
              "<tr>\n",
              "  <th>const</th> <td>   -1.6881</td> <td>    7.545</td> <td>   -0.224</td> <td> 0.830</td> <td>  -20.151</td> <td>   16.775</td>\n",
              "</tr>\n",
              "<tr>\n",
              "  <th>ODD</th>   <td>    1.0847</td> <td>    1.235</td> <td>    0.878</td> <td> 0.414</td> <td>   -1.937</td> <td>    4.107</td>\n",
              "</tr>\n",
              "<tr>\n",
              "  <th>OVER</th>  <td>   -0.0126</td> <td>    0.009</td> <td>   -1.470</td> <td> 0.192</td> <td>   -0.034</td> <td>    0.008</td>\n",
              "</tr>\n",
              "<tr>\n",
              "  <th>UNDER</th> <td>   -0.0115</td> <td>    0.006</td> <td>   -1.815</td> <td> 0.119</td> <td>   -0.027</td> <td>    0.004</td>\n",
              "</tr>\n",
              "</table>\n",
              "<table class=\"simpletable\">\n",
              "<tr>\n",
              "  <th>Omnibus:</th>       <td> 0.597</td> <th>  Durbin-Watson:     </th> <td>   2.007</td>\n",
              "</tr>\n",
              "<tr>\n",
              "  <th>Prob(Omnibus):</th> <td> 0.742</td> <th>  Jarque-Bera (JB):  </th> <td>   0.525</td>\n",
              "</tr>\n",
              "<tr>\n",
              "  <th>Skew:</th>          <td> 0.039</td> <th>  Prob(JB):          </th> <td>   0.769</td>\n",
              "</tr>\n",
              "<tr>\n",
              "  <th>Kurtosis:</th>      <td> 1.880</td> <th>  Cond. No.          </th> <td>2.18e+03</td>\n",
              "</tr>\n",
              "</table><br/><br/>Notes:<br/>[1] Standard Errors assume that the covariance matrix of the errors is correctly specified.<br/>[2] The condition number is large, 2.18e+03. This might indicate that there are<br/>strong multicollinearity or other numerical problems."
            ],
            "text/latex": "\\begin{center}\n\\begin{tabular}{lclc}\n\\toprule\n\\textbf{Dep. Variable:}    &    STRIKEOUT     & \\textbf{  R-squared:         } &     0.392   \\\\\n\\textbf{Model:}            &       OLS        & \\textbf{  Adj. R-squared:    } &     0.088   \\\\\n\\textbf{Method:}           &  Least Squares   & \\textbf{  F-statistic:       } &     1.289   \\\\\n\\textbf{Date:}             & Fri, 26 Jul 2024 & \\textbf{  Prob (F-statistic):} &    0.361    \\\\\n\\textbf{Time:}             &     14:25:40     & \\textbf{  Log-Likelihood:    } &   -16.869   \\\\\n\\textbf{No. Observations:} &          10      & \\textbf{  AIC:               } &     41.74   \\\\\n\\textbf{Df Residuals:}     &           6      & \\textbf{  BIC:               } &     42.95   \\\\\n\\textbf{Df Model:}         &           3      & \\textbf{                     } &             \\\\\n\\textbf{Covariance Type:}  &    nonrobust     & \\textbf{                     } &             \\\\\n\\bottomrule\n\\end{tabular}\n\\begin{tabular}{lcccccc}\n               & \\textbf{coef} & \\textbf{std err} & \\textbf{t} & \\textbf{P$> |$t$|$} & \\textbf{[0.025} & \\textbf{0.975]}  \\\\\n\\midrule\n\\textbf{const} &      -1.6881  &        7.545     &    -0.224  &         0.830        &      -20.151    &       16.775     \\\\\n\\textbf{ODD}   &       1.0847  &        1.235     &     0.878  &         0.414        &       -1.937    &        4.107     \\\\\n\\textbf{OVER}  &      -0.0126  &        0.009     &    -1.470  &         0.192        &       -0.034    &        0.008     \\\\\n\\textbf{UNDER} &      -0.0115  &        0.006     &    -1.815  &         0.119        &       -0.027    &        0.004     \\\\\n\\bottomrule\n\\end{tabular}\n\\begin{tabular}{lclc}\n\\textbf{Omnibus:}       &  0.597 & \\textbf{  Durbin-Watson:     } &    2.007  \\\\\n\\textbf{Prob(Omnibus):} &  0.742 & \\textbf{  Jarque-Bera (JB):  } &    0.525  \\\\\n\\textbf{Skew:}          &  0.039 & \\textbf{  Prob(JB):          } &    0.769  \\\\\n\\textbf{Kurtosis:}      &  1.880 & \\textbf{  Cond. No.          } & 2.18e+03  \\\\\n\\bottomrule\n\\end{tabular}\n%\\caption{OLS Regression Results}\n\\end{center}\n\nNotes: \\newline\n [1] Standard Errors assume that the covariance matrix of the errors is correctly specified. \\newline\n [2] The condition number is large, 2.18e+03. This might indicate that there are \\newline\n strong multicollinearity or other numerical problems."
          },
          "metadata": {},
          "execution_count": 12
        }
      ]
    },
    {
      "cell_type": "code",
      "source": [],
      "metadata": {
        "id": "yfDrUEMUbe7R"
      },
      "execution_count": null,
      "outputs": []
    },
    {
      "cell_type": "code",
      "source": [
        "# Define the new data point\n",
        "new_data = {\n",
        "    'const': 1,\n",
        "    'odd': 5.5,\n",
        "    'over': 100,\n",
        "    'under': -135\n",
        "}\n",
        "\n",
        "# Convert the new data point to a DataFrame\n",
        "new_df = pd.DataFrame([new_data])\n",
        "\n",
        "# Predict the total strikeout using the model\n",
        "predicted_strikeout = model.predict(new_df)\n",
        "predicted_strikeout\n"
      ],
      "metadata": {
        "colab": {
          "base_uri": "https://localhost:8080/"
        },
        "outputId": "6f3013f4-07da-4a8f-99fa-acbe323d33ca",
        "id": "BY2XOq8DbfHG"
      },
      "execution_count": 13,
      "outputs": [
        {
          "output_type": "execute_result",
          "data": {
            "text/plain": [
              "0    4.57811\n",
              "dtype: float64"
            ]
          },
          "metadata": {},
          "execution_count": 13
        }
      ]
    },
    {
      "cell_type": "markdown",
      "source": [
        "#GAVIN STONE"
      ],
      "metadata": {
        "id": "mnsAv-iUcn2J"
      }
    },
    {
      "cell_type": "code",
      "source": [],
      "metadata": {
        "id": "MNb7y0nGcqTm"
      },
      "execution_count": null,
      "outputs": []
    },
    {
      "cell_type": "code",
      "source": [
        "import pandas as pd\n",
        "import statsmodels.api as sm\n",
        "\n",
        "# Define the data\n",
        "data = {\n",
        "    \"ODD\": [5.5, 4.5, 4.5, 4.5, 5.5, 4.5, 4.5, 4.5, 4.5, 4.5],\n",
        "    \"OVER\": [132, 130, 120, 106, -102, -106, -113, -122, -154, -160],\n",
        "    \"UNDER\": [-170, -168, -154, -136, -126, -122, -113, -104, 120, 125],\n",
        "    \"STRIKEOUT\": [7, 5, 7, 6, 6, 3, 3, 3, 7, 3]\n",
        "}\n",
        "# Create a DataFrame\n",
        "df = pd.DataFrame(data)\n",
        "\n",
        "# Define the independent variables and the dependent variable\n",
        "X = df[['ODD', 'OVER', 'UNDER']]\n",
        "y = df['STRIKEOUT']\n",
        "\n",
        "# Add a constant to the independent variables\n",
        "X = sm.add_constant(X)\n",
        "\n",
        "# Fit the linear regression model\n",
        "model = sm.OLS(y, X).fit()\n",
        "\n",
        "# Get the summary of the regression\n",
        "summary = model.summary()\n",
        "summary\n"
      ],
      "metadata": {
        "colab": {
          "base_uri": "https://localhost:8080/",
          "height": 554
        },
        "outputId": "106fe593-3d66-4fc0-c393-883a1b062a63",
        "id": "7Llfi82qcswC"
      },
      "execution_count": 14,
      "outputs": [
        {
          "output_type": "stream",
          "name": "stderr",
          "text": [
            "/usr/local/lib/python3.10/dist-packages/scipy/stats/_stats_py.py:1806: UserWarning: kurtosistest only valid for n>=20 ... continuing anyway, n=10\n",
            "  warnings.warn(\"kurtosistest only valid for n>=20 ... continuing \"\n"
          ]
        },
        {
          "output_type": "execute_result",
          "data": {
            "text/plain": [
              "<class 'statsmodels.iolib.summary.Summary'>\n",
              "\"\"\"\n",
              "                            OLS Regression Results                            \n",
              "==============================================================================\n",
              "Dep. Variable:              STRIKEOUT   R-squared:                       0.622\n",
              "Model:                            OLS   Adj. R-squared:                  0.433\n",
              "Method:                 Least Squares   F-statistic:                     3.291\n",
              "Date:                Fri, 26 Jul 2024   Prob (F-statistic):             0.0999\n",
              "Time:                        14:30:23   Log-Likelihood:                -14.818\n",
              "No. Observations:                  10   AIC:                             37.64\n",
              "Df Residuals:                       6   BIC:                             38.85\n",
              "Df Model:                           3                                         \n",
              "Covariance Type:            nonrobust                                         \n",
              "==============================================================================\n",
              "                 coef    std err          t      P>|t|      [0.025      0.975]\n",
              "------------------------------------------------------------------------------\n",
              "const         -3.2195      5.278     -0.610      0.564     -16.134       9.695\n",
              "ODD            1.9985      1.140      1.753      0.130      -0.791       4.788\n",
              "OVER           0.0125      0.005      2.626      0.039       0.001       0.024\n",
              "UNDER          0.0099      0.006      1.722      0.136      -0.004       0.024\n",
              "==============================================================================\n",
              "Omnibus:                        0.281   Durbin-Watson:                   2.362\n",
              "Prob(Omnibus):                  0.869   Jarque-Bera (JB):                0.055\n",
              "Skew:                           0.091   Prob(JB):                        0.973\n",
              "Kurtosis:                       2.685   Cond. No.                     1.91e+03\n",
              "==============================================================================\n",
              "\n",
              "Notes:\n",
              "[1] Standard Errors assume that the covariance matrix of the errors is correctly specified.\n",
              "[2] The condition number is large, 1.91e+03. This might indicate that there are\n",
              "strong multicollinearity or other numerical problems.\n",
              "\"\"\""
            ],
            "text/html": [
              "<table class=\"simpletable\">\n",
              "<caption>OLS Regression Results</caption>\n",
              "<tr>\n",
              "  <th>Dep. Variable:</th>        <td>STRIKEOUT</td>    <th>  R-squared:         </th> <td>   0.622</td>\n",
              "</tr>\n",
              "<tr>\n",
              "  <th>Model:</th>                   <td>OLS</td>       <th>  Adj. R-squared:    </th> <td>   0.433</td>\n",
              "</tr>\n",
              "<tr>\n",
              "  <th>Method:</th>             <td>Least Squares</td>  <th>  F-statistic:       </th> <td>   3.291</td>\n",
              "</tr>\n",
              "<tr>\n",
              "  <th>Date:</th>             <td>Fri, 26 Jul 2024</td> <th>  Prob (F-statistic):</th>  <td>0.0999</td> \n",
              "</tr>\n",
              "<tr>\n",
              "  <th>Time:</th>                 <td>14:30:23</td>     <th>  Log-Likelihood:    </th> <td> -14.818</td>\n",
              "</tr>\n",
              "<tr>\n",
              "  <th>No. Observations:</th>      <td>    10</td>      <th>  AIC:               </th> <td>   37.64</td>\n",
              "</tr>\n",
              "<tr>\n",
              "  <th>Df Residuals:</th>          <td>     6</td>      <th>  BIC:               </th> <td>   38.85</td>\n",
              "</tr>\n",
              "<tr>\n",
              "  <th>Df Model:</th>              <td>     3</td>      <th>                     </th>     <td> </td>   \n",
              "</tr>\n",
              "<tr>\n",
              "  <th>Covariance Type:</th>      <td>nonrobust</td>    <th>                     </th>     <td> </td>   \n",
              "</tr>\n",
              "</table>\n",
              "<table class=\"simpletable\">\n",
              "<tr>\n",
              "    <td></td>       <th>coef</th>     <th>std err</th>      <th>t</th>      <th>P>|t|</th>  <th>[0.025</th>    <th>0.975]</th>  \n",
              "</tr>\n",
              "<tr>\n",
              "  <th>const</th> <td>   -3.2195</td> <td>    5.278</td> <td>   -0.610</td> <td> 0.564</td> <td>  -16.134</td> <td>    9.695</td>\n",
              "</tr>\n",
              "<tr>\n",
              "  <th>ODD</th>   <td>    1.9985</td> <td>    1.140</td> <td>    1.753</td> <td> 0.130</td> <td>   -0.791</td> <td>    4.788</td>\n",
              "</tr>\n",
              "<tr>\n",
              "  <th>OVER</th>  <td>    0.0125</td> <td>    0.005</td> <td>    2.626</td> <td> 0.039</td> <td>    0.001</td> <td>    0.024</td>\n",
              "</tr>\n",
              "<tr>\n",
              "  <th>UNDER</th> <td>    0.0099</td> <td>    0.006</td> <td>    1.722</td> <td> 0.136</td> <td>   -0.004</td> <td>    0.024</td>\n",
              "</tr>\n",
              "</table>\n",
              "<table class=\"simpletable\">\n",
              "<tr>\n",
              "  <th>Omnibus:</th>       <td> 0.281</td> <th>  Durbin-Watson:     </th> <td>   2.362</td>\n",
              "</tr>\n",
              "<tr>\n",
              "  <th>Prob(Omnibus):</th> <td> 0.869</td> <th>  Jarque-Bera (JB):  </th> <td>   0.055</td>\n",
              "</tr>\n",
              "<tr>\n",
              "  <th>Skew:</th>          <td> 0.091</td> <th>  Prob(JB):          </th> <td>   0.973</td>\n",
              "</tr>\n",
              "<tr>\n",
              "  <th>Kurtosis:</th>      <td> 2.685</td> <th>  Cond. No.          </th> <td>1.91e+03</td>\n",
              "</tr>\n",
              "</table><br/><br/>Notes:<br/>[1] Standard Errors assume that the covariance matrix of the errors is correctly specified.<br/>[2] The condition number is large, 1.91e+03. This might indicate that there are<br/>strong multicollinearity or other numerical problems."
            ],
            "text/latex": "\\begin{center}\n\\begin{tabular}{lclc}\n\\toprule\n\\textbf{Dep. Variable:}    &    STRIKEOUT     & \\textbf{  R-squared:         } &     0.622   \\\\\n\\textbf{Model:}            &       OLS        & \\textbf{  Adj. R-squared:    } &     0.433   \\\\\n\\textbf{Method:}           &  Least Squares   & \\textbf{  F-statistic:       } &     3.291   \\\\\n\\textbf{Date:}             & Fri, 26 Jul 2024 & \\textbf{  Prob (F-statistic):} &   0.0999    \\\\\n\\textbf{Time:}             &     14:30:23     & \\textbf{  Log-Likelihood:    } &   -14.818   \\\\\n\\textbf{No. Observations:} &          10      & \\textbf{  AIC:               } &     37.64   \\\\\n\\textbf{Df Residuals:}     &           6      & \\textbf{  BIC:               } &     38.85   \\\\\n\\textbf{Df Model:}         &           3      & \\textbf{                     } &             \\\\\n\\textbf{Covariance Type:}  &    nonrobust     & \\textbf{                     } &             \\\\\n\\bottomrule\n\\end{tabular}\n\\begin{tabular}{lcccccc}\n               & \\textbf{coef} & \\textbf{std err} & \\textbf{t} & \\textbf{P$> |$t$|$} & \\textbf{[0.025} & \\textbf{0.975]}  \\\\\n\\midrule\n\\textbf{const} &      -3.2195  &        5.278     &    -0.610  &         0.564        &      -16.134    &        9.695     \\\\\n\\textbf{ODD}   &       1.9985  &        1.140     &     1.753  &         0.130        &       -0.791    &        4.788     \\\\\n\\textbf{OVER}  &       0.0125  &        0.005     &     2.626  &         0.039        &        0.001    &        0.024     \\\\\n\\textbf{UNDER} &       0.0099  &        0.006     &     1.722  &         0.136        &       -0.004    &        0.024     \\\\\n\\bottomrule\n\\end{tabular}\n\\begin{tabular}{lclc}\n\\textbf{Omnibus:}       &  0.281 & \\textbf{  Durbin-Watson:     } &    2.362  \\\\\n\\textbf{Prob(Omnibus):} &  0.869 & \\textbf{  Jarque-Bera (JB):  } &    0.055  \\\\\n\\textbf{Skew:}          &  0.091 & \\textbf{  Prob(JB):          } &    0.973  \\\\\n\\textbf{Kurtosis:}      &  2.685 & \\textbf{  Cond. No.          } & 1.91e+03  \\\\\n\\bottomrule\n\\end{tabular}\n%\\caption{OLS Regression Results}\n\\end{center}\n\nNotes: \\newline\n [1] Standard Errors assume that the covariance matrix of the errors is correctly specified. \\newline\n [2] The condition number is large, 1.91e+03. This might indicate that there are \\newline\n strong multicollinearity or other numerical problems."
          },
          "metadata": {},
          "execution_count": 14
        }
      ]
    },
    {
      "cell_type": "code",
      "source": [],
      "metadata": {
        "id": "DnAk63bic0Fa"
      },
      "execution_count": null,
      "outputs": []
    },
    {
      "cell_type": "code",
      "source": [
        "# Define the new data point\n",
        "new_data = {\n",
        "    'const': 1,\n",
        "    'odd': 4.5,\n",
        "    'over': 105,\n",
        "    'under': -140\n",
        "}\n",
        "\n",
        "# Convert the new data point to a DataFrame\n",
        "new_df = pd.DataFrame([new_data])\n",
        "\n",
        "# Predict the total strikeout using the model\n",
        "predicted_strikeout = model.predict(new_df)\n",
        "predicted_strikeout\n"
      ],
      "metadata": {
        "colab": {
          "base_uri": "https://localhost:8080/"
        },
        "outputId": "82de1409-65d7-4baf-c6d4-cc9de81d8742",
        "id": "P2dMWCRMc0Se"
      },
      "execution_count": 15,
      "outputs": [
        {
          "output_type": "execute_result",
          "data": {
            "text/plain": [
              "0    5.707427\n",
              "dtype: float64"
            ]
          },
          "metadata": {},
          "execution_count": 15
        }
      ]
    },
    {
      "cell_type": "markdown",
      "source": [
        "#GRAYSON RODRIGUEZ"
      ],
      "metadata": {
        "id": "oMbFgYTQeLIY"
      }
    },
    {
      "cell_type": "code",
      "source": [],
      "metadata": {
        "id": "uZ--SAdteOlM"
      },
      "execution_count": null,
      "outputs": []
    },
    {
      "cell_type": "code",
      "source": [
        "import pandas as pd\n",
        "import statsmodels.api as sm\n",
        "\n",
        "# Define the data\n",
        "data = {\n",
        "    'ODD': [5.5, 6.5, 6.5, 7.5, 5.5, 5.5, 6.5, 6.5, 5.5, 6.5],\n",
        "    'OVER': [-160, 140, -136, 126, -102, -113, 116, -102, -118, 116],\n",
        "    'UNDER': [120, -185, 106, -162, -124, -113, -148, -125, -108, -146],\n",
        "    'STRIKEOUT': [8, 7, 8, 8, 4, 8, 6, 6, 4, 10]\n",
        "}\n",
        "# Create a DataFrame\n",
        "df = pd.DataFrame(data)\n",
        "\n",
        "# Define the independent variables and the dependent variable\n",
        "X = df[['ODD', 'OVER', 'UNDER']]\n",
        "y = df['STRIKEOUT']\n",
        "\n",
        "# Add a constant to the independent variables\n",
        "X = sm.add_constant(X)\n",
        "\n",
        "# Fit the linear regression model\n",
        "model = sm.OLS(y, X).fit()\n",
        "\n",
        "# Get the summary of the regression\n",
        "summary = model.summary()\n",
        "summary\n"
      ],
      "metadata": {
        "colab": {
          "base_uri": "https://localhost:8080/",
          "height": 554
        },
        "outputId": "cc3a37e7-cb02-467d-9193-5d96967eab59",
        "id": "E_iRBqc5eO1C"
      },
      "execution_count": 18,
      "outputs": [
        {
          "output_type": "stream",
          "name": "stderr",
          "text": [
            "/usr/local/lib/python3.10/dist-packages/scipy/stats/_stats_py.py:1806: UserWarning: kurtosistest only valid for n>=20 ... continuing anyway, n=10\n",
            "  warnings.warn(\"kurtosistest only valid for n>=20 ... continuing \"\n"
          ]
        },
        {
          "output_type": "execute_result",
          "data": {
            "text/plain": [
              "<class 'statsmodels.iolib.summary.Summary'>\n",
              "\"\"\"\n",
              "                            OLS Regression Results                            \n",
              "==============================================================================\n",
              "Dep. Variable:              STRIKEOUT   R-squared:                       0.419\n",
              "Model:                            OLS   Adj. R-squared:                  0.128\n",
              "Method:                 Least Squares   F-statistic:                     1.442\n",
              "Date:                Fri, 26 Jul 2024   Prob (F-statistic):              0.321\n",
              "Time:                        14:38:11   Log-Likelihood:                -17.429\n",
              "No. Observations:                  10   AIC:                             42.86\n",
              "Df Residuals:                       6   BIC:                             44.07\n",
              "Df Model:                           3                                         \n",
              "Covariance Type:            nonrobust                                         \n",
              "==============================================================================\n",
              "                 coef    std err          t      P>|t|      [0.025      0.975]\n",
              "------------------------------------------------------------------------------\n",
              "const          5.7749      8.482      0.681      0.521     -14.979      26.529\n",
              "ODD            0.3977      1.303      0.305      0.770      -2.790       3.586\n",
              "OVER           0.0102      0.009      1.167      0.288      -0.011       0.032\n",
              "UNDER          0.0125      0.008      1.619      0.157      -0.006       0.031\n",
              "==============================================================================\n",
              "Omnibus:                        1.604   Durbin-Watson:                   2.966\n",
              "Prob(Omnibus):                  0.449   Jarque-Bera (JB):                0.994\n",
              "Skew:                           0.716   Prob(JB):                        0.608\n",
              "Kurtosis:                       2.420   Cond. No.                     2.33e+03\n",
              "==============================================================================\n",
              "\n",
              "Notes:\n",
              "[1] Standard Errors assume that the covariance matrix of the errors is correctly specified.\n",
              "[2] The condition number is large, 2.33e+03. This might indicate that there are\n",
              "strong multicollinearity or other numerical problems.\n",
              "\"\"\""
            ],
            "text/html": [
              "<table class=\"simpletable\">\n",
              "<caption>OLS Regression Results</caption>\n",
              "<tr>\n",
              "  <th>Dep. Variable:</th>        <td>STRIKEOUT</td>    <th>  R-squared:         </th> <td>   0.419</td>\n",
              "</tr>\n",
              "<tr>\n",
              "  <th>Model:</th>                   <td>OLS</td>       <th>  Adj. R-squared:    </th> <td>   0.128</td>\n",
              "</tr>\n",
              "<tr>\n",
              "  <th>Method:</th>             <td>Least Squares</td>  <th>  F-statistic:       </th> <td>   1.442</td>\n",
              "</tr>\n",
              "<tr>\n",
              "  <th>Date:</th>             <td>Fri, 26 Jul 2024</td> <th>  Prob (F-statistic):</th>  <td> 0.321</td> \n",
              "</tr>\n",
              "<tr>\n",
              "  <th>Time:</th>                 <td>14:38:11</td>     <th>  Log-Likelihood:    </th> <td> -17.429</td>\n",
              "</tr>\n",
              "<tr>\n",
              "  <th>No. Observations:</th>      <td>    10</td>      <th>  AIC:               </th> <td>   42.86</td>\n",
              "</tr>\n",
              "<tr>\n",
              "  <th>Df Residuals:</th>          <td>     6</td>      <th>  BIC:               </th> <td>   44.07</td>\n",
              "</tr>\n",
              "<tr>\n",
              "  <th>Df Model:</th>              <td>     3</td>      <th>                     </th>     <td> </td>   \n",
              "</tr>\n",
              "<tr>\n",
              "  <th>Covariance Type:</th>      <td>nonrobust</td>    <th>                     </th>     <td> </td>   \n",
              "</tr>\n",
              "</table>\n",
              "<table class=\"simpletable\">\n",
              "<tr>\n",
              "    <td></td>       <th>coef</th>     <th>std err</th>      <th>t</th>      <th>P>|t|</th>  <th>[0.025</th>    <th>0.975]</th>  \n",
              "</tr>\n",
              "<tr>\n",
              "  <th>const</th> <td>    5.7749</td> <td>    8.482</td> <td>    0.681</td> <td> 0.521</td> <td>  -14.979</td> <td>   26.529</td>\n",
              "</tr>\n",
              "<tr>\n",
              "  <th>ODD</th>   <td>    0.3977</td> <td>    1.303</td> <td>    0.305</td> <td> 0.770</td> <td>   -2.790</td> <td>    3.586</td>\n",
              "</tr>\n",
              "<tr>\n",
              "  <th>OVER</th>  <td>    0.0102</td> <td>    0.009</td> <td>    1.167</td> <td> 0.288</td> <td>   -0.011</td> <td>    0.032</td>\n",
              "</tr>\n",
              "<tr>\n",
              "  <th>UNDER</th> <td>    0.0125</td> <td>    0.008</td> <td>    1.619</td> <td> 0.157</td> <td>   -0.006</td> <td>    0.031</td>\n",
              "</tr>\n",
              "</table>\n",
              "<table class=\"simpletable\">\n",
              "<tr>\n",
              "  <th>Omnibus:</th>       <td> 1.604</td> <th>  Durbin-Watson:     </th> <td>   2.966</td>\n",
              "</tr>\n",
              "<tr>\n",
              "  <th>Prob(Omnibus):</th> <td> 0.449</td> <th>  Jarque-Bera (JB):  </th> <td>   0.994</td>\n",
              "</tr>\n",
              "<tr>\n",
              "  <th>Skew:</th>          <td> 0.716</td> <th>  Prob(JB):          </th> <td>   0.608</td>\n",
              "</tr>\n",
              "<tr>\n",
              "  <th>Kurtosis:</th>      <td> 2.420</td> <th>  Cond. No.          </th> <td>2.33e+03</td>\n",
              "</tr>\n",
              "</table><br/><br/>Notes:<br/>[1] Standard Errors assume that the covariance matrix of the errors is correctly specified.<br/>[2] The condition number is large, 2.33e+03. This might indicate that there are<br/>strong multicollinearity or other numerical problems."
            ],
            "text/latex": "\\begin{center}\n\\begin{tabular}{lclc}\n\\toprule\n\\textbf{Dep. Variable:}    &    STRIKEOUT     & \\textbf{  R-squared:         } &     0.419   \\\\\n\\textbf{Model:}            &       OLS        & \\textbf{  Adj. R-squared:    } &     0.128   \\\\\n\\textbf{Method:}           &  Least Squares   & \\textbf{  F-statistic:       } &     1.442   \\\\\n\\textbf{Date:}             & Fri, 26 Jul 2024 & \\textbf{  Prob (F-statistic):} &    0.321    \\\\\n\\textbf{Time:}             &     14:38:11     & \\textbf{  Log-Likelihood:    } &   -17.429   \\\\\n\\textbf{No. Observations:} &          10      & \\textbf{  AIC:               } &     42.86   \\\\\n\\textbf{Df Residuals:}     &           6      & \\textbf{  BIC:               } &     44.07   \\\\\n\\textbf{Df Model:}         &           3      & \\textbf{                     } &             \\\\\n\\textbf{Covariance Type:}  &    nonrobust     & \\textbf{                     } &             \\\\\n\\bottomrule\n\\end{tabular}\n\\begin{tabular}{lcccccc}\n               & \\textbf{coef} & \\textbf{std err} & \\textbf{t} & \\textbf{P$> |$t$|$} & \\textbf{[0.025} & \\textbf{0.975]}  \\\\\n\\midrule\n\\textbf{const} &       5.7749  &        8.482     &     0.681  &         0.521        &      -14.979    &       26.529     \\\\\n\\textbf{ODD}   &       0.3977  &        1.303     &     0.305  &         0.770        &       -2.790    &        3.586     \\\\\n\\textbf{OVER}  &       0.0102  &        0.009     &     1.167  &         0.288        &       -0.011    &        0.032     \\\\\n\\textbf{UNDER} &       0.0125  &        0.008     &     1.619  &         0.157        &       -0.006    &        0.031     \\\\\n\\bottomrule\n\\end{tabular}\n\\begin{tabular}{lclc}\n\\textbf{Omnibus:}       &  1.604 & \\textbf{  Durbin-Watson:     } &    2.966  \\\\\n\\textbf{Prob(Omnibus):} &  0.449 & \\textbf{  Jarque-Bera (JB):  } &    0.994  \\\\\n\\textbf{Skew:}          &  0.716 & \\textbf{  Prob(JB):          } &    0.608  \\\\\n\\textbf{Kurtosis:}      &  2.420 & \\textbf{  Cond. No.          } & 2.33e+03  \\\\\n\\bottomrule\n\\end{tabular}\n%\\caption{OLS Regression Results}\n\\end{center}\n\nNotes: \\newline\n [1] Standard Errors assume that the covariance matrix of the errors is correctly specified. \\newline\n [2] The condition number is large, 2.33e+03. This might indicate that there are \\newline\n strong multicollinearity or other numerical problems."
          },
          "metadata": {},
          "execution_count": 18
        }
      ]
    },
    {
      "cell_type": "code",
      "source": [],
      "metadata": {
        "id": "Xm00AN4aec6X"
      },
      "execution_count": null,
      "outputs": []
    },
    {
      "cell_type": "code",
      "source": [
        "# Define the new data point\n",
        "new_data = {\n",
        "    'const': 1,\n",
        "    'odd': 4.5,\n",
        "    'over': -165,\n",
        "    'under': 125\n",
        "}\n",
        "\n",
        "# Convert the new data point to a DataFrame\n",
        "new_df = pd.DataFrame([new_data])\n",
        "\n",
        "# Predict the total strikeout using the model\n",
        "predicted_strikeout = model.predict(new_df)\n",
        "predicted_strikeout\n"
      ],
      "metadata": {
        "colab": {
          "base_uri": "https://localhost:8080/"
        },
        "outputId": "307c509c-a3a6-40df-ca29-5cd6ecfda615",
        "id": "yEeRsiZTedI1"
      },
      "execution_count": 19,
      "outputs": [
        {
          "output_type": "execute_result",
          "data": {
            "text/plain": [
              "0    7.442426\n",
              "dtype: float64"
            ]
          },
          "metadata": {},
          "execution_count": 19
        }
      ]
    },
    {
      "cell_type": "markdown",
      "source": [
        "#SONNY GRAY"
      ],
      "metadata": {
        "id": "cldVqySifd_6"
      }
    },
    {
      "cell_type": "code",
      "source": [],
      "metadata": {
        "id": "jSZri5AgfgIW"
      },
      "execution_count": null,
      "outputs": []
    },
    {
      "cell_type": "code",
      "source": [
        "import pandas as pd\n",
        "import statsmodels.api as sm\n",
        "\n",
        "# Define the data\n",
        "data = {\n",
        "    'ODD': [6.5] * 10,\n",
        "    'OVER': [115, 110, -102, -122, 122, -104, -122, -156, 130, 114],\n",
        "    'UNDER': [-150, -140, -125, -104, -156, -122, -106, 122, -166, -144],\n",
        "    'STRIKEOUT': [10, 6, 6, 6, 8, 4, 9, 5, 10, 8]\n",
        "}\n",
        "# Create a DataFrame\n",
        "df = pd.DataFrame(data)\n",
        "\n",
        "# Define the independent variables and the dependent variable\n",
        "X = df[['ODD', 'OVER', 'UNDER']]\n",
        "y = df['STRIKEOUT']\n",
        "\n",
        "# Add a constant to the independent variables\n",
        "X = sm.add_constant(X)\n",
        "\n",
        "# Fit the linear regression model\n",
        "model = sm.OLS(y, X).fit()\n",
        "\n",
        "# Get the summary of the regression\n",
        "summary = model.summary()\n",
        "summary\n"
      ],
      "metadata": {
        "colab": {
          "base_uri": "https://localhost:8080/",
          "height": 499
        },
        "outputId": "7ca29b30-ef55-4881-af00-b9e37813cca5",
        "id": "aoJZ2jg5fgW4"
      },
      "execution_count": 20,
      "outputs": [
        {
          "output_type": "stream",
          "name": "stderr",
          "text": [
            "/usr/local/lib/python3.10/dist-packages/scipy/stats/_stats_py.py:1806: UserWarning: kurtosistest only valid for n>=20 ... continuing anyway, n=10\n",
            "  warnings.warn(\"kurtosistest only valid for n>=20 ... continuing \"\n"
          ]
        },
        {
          "output_type": "execute_result",
          "data": {
            "text/plain": [
              "<class 'statsmodels.iolib.summary.Summary'>\n",
              "\"\"\"\n",
              "                            OLS Regression Results                            \n",
              "==============================================================================\n",
              "Dep. Variable:              STRIKEOUT   R-squared:                       0.389\n",
              "Model:                            OLS   Adj. R-squared:                  0.215\n",
              "Method:                 Least Squares   F-statistic:                     2.231\n",
              "Date:                Fri, 26 Jul 2024   Prob (F-statistic):              0.178\n",
              "Time:                        14:43:28   Log-Likelihood:                -18.605\n",
              "No. Observations:                  10   AIC:                             43.21\n",
              "Df Residuals:                       7   BIC:                             44.12\n",
              "Df Model:                           2                                         \n",
              "Covariance Type:            nonrobust                                         \n",
              "==============================================================================\n",
              "                 coef    std err          t      P>|t|      [0.025      0.975]\n",
              "------------------------------------------------------------------------------\n",
              "ODD            1.0441      0.183      5.710      0.001       0.612       1.476\n",
              "OVER           0.0085      0.006      1.370      0.213      -0.006       0.023\n",
              "UNDER         -0.0039      0.009     -0.415      0.691      -0.026       0.018\n",
              "==============================================================================\n",
              "Omnibus:                        0.059   Durbin-Watson:                   2.611\n",
              "Prob(Omnibus):                  0.971   Jarque-Bera (JB):                0.227\n",
              "Skew:                           0.136   Prob(JB):                        0.893\n",
              "Kurtosis:                       2.313   Cond. No.                         46.7\n",
              "==============================================================================\n",
              "\n",
              "Notes:\n",
              "[1] Standard Errors assume that the covariance matrix of the errors is correctly specified.\n",
              "\"\"\""
            ],
            "text/html": [
              "<table class=\"simpletable\">\n",
              "<caption>OLS Regression Results</caption>\n",
              "<tr>\n",
              "  <th>Dep. Variable:</th>        <td>STRIKEOUT</td>    <th>  R-squared:         </th> <td>   0.389</td>\n",
              "</tr>\n",
              "<tr>\n",
              "  <th>Model:</th>                   <td>OLS</td>       <th>  Adj. R-squared:    </th> <td>   0.215</td>\n",
              "</tr>\n",
              "<tr>\n",
              "  <th>Method:</th>             <td>Least Squares</td>  <th>  F-statistic:       </th> <td>   2.231</td>\n",
              "</tr>\n",
              "<tr>\n",
              "  <th>Date:</th>             <td>Fri, 26 Jul 2024</td> <th>  Prob (F-statistic):</th>  <td> 0.178</td> \n",
              "</tr>\n",
              "<tr>\n",
              "  <th>Time:</th>                 <td>14:43:28</td>     <th>  Log-Likelihood:    </th> <td> -18.605</td>\n",
              "</tr>\n",
              "<tr>\n",
              "  <th>No. Observations:</th>      <td>    10</td>      <th>  AIC:               </th> <td>   43.21</td>\n",
              "</tr>\n",
              "<tr>\n",
              "  <th>Df Residuals:</th>          <td>     7</td>      <th>  BIC:               </th> <td>   44.12</td>\n",
              "</tr>\n",
              "<tr>\n",
              "  <th>Df Model:</th>              <td>     2</td>      <th>                     </th>     <td> </td>   \n",
              "</tr>\n",
              "<tr>\n",
              "  <th>Covariance Type:</th>      <td>nonrobust</td>    <th>                     </th>     <td> </td>   \n",
              "</tr>\n",
              "</table>\n",
              "<table class=\"simpletable\">\n",
              "<tr>\n",
              "    <td></td>       <th>coef</th>     <th>std err</th>      <th>t</th>      <th>P>|t|</th>  <th>[0.025</th>    <th>0.975]</th>  \n",
              "</tr>\n",
              "<tr>\n",
              "  <th>ODD</th>   <td>    1.0441</td> <td>    0.183</td> <td>    5.710</td> <td> 0.001</td> <td>    0.612</td> <td>    1.476</td>\n",
              "</tr>\n",
              "<tr>\n",
              "  <th>OVER</th>  <td>    0.0085</td> <td>    0.006</td> <td>    1.370</td> <td> 0.213</td> <td>   -0.006</td> <td>    0.023</td>\n",
              "</tr>\n",
              "<tr>\n",
              "  <th>UNDER</th> <td>   -0.0039</td> <td>    0.009</td> <td>   -0.415</td> <td> 0.691</td> <td>   -0.026</td> <td>    0.018</td>\n",
              "</tr>\n",
              "</table>\n",
              "<table class=\"simpletable\">\n",
              "<tr>\n",
              "  <th>Omnibus:</th>       <td> 0.059</td> <th>  Durbin-Watson:     </th> <td>   2.611</td>\n",
              "</tr>\n",
              "<tr>\n",
              "  <th>Prob(Omnibus):</th> <td> 0.971</td> <th>  Jarque-Bera (JB):  </th> <td>   0.227</td>\n",
              "</tr>\n",
              "<tr>\n",
              "  <th>Skew:</th>          <td> 0.136</td> <th>  Prob(JB):          </th> <td>   0.893</td>\n",
              "</tr>\n",
              "<tr>\n",
              "  <th>Kurtosis:</th>      <td> 2.313</td> <th>  Cond. No.          </th> <td>    46.7</td>\n",
              "</tr>\n",
              "</table><br/><br/>Notes:<br/>[1] Standard Errors assume that the covariance matrix of the errors is correctly specified."
            ],
            "text/latex": "\\begin{center}\n\\begin{tabular}{lclc}\n\\toprule\n\\textbf{Dep. Variable:}    &    STRIKEOUT     & \\textbf{  R-squared:         } &     0.389   \\\\\n\\textbf{Model:}            &       OLS        & \\textbf{  Adj. R-squared:    } &     0.215   \\\\\n\\textbf{Method:}           &  Least Squares   & \\textbf{  F-statistic:       } &     2.231   \\\\\n\\textbf{Date:}             & Fri, 26 Jul 2024 & \\textbf{  Prob (F-statistic):} &    0.178    \\\\\n\\textbf{Time:}             &     14:43:28     & \\textbf{  Log-Likelihood:    } &   -18.605   \\\\\n\\textbf{No. Observations:} &          10      & \\textbf{  AIC:               } &     43.21   \\\\\n\\textbf{Df Residuals:}     &           7      & \\textbf{  BIC:               } &     44.12   \\\\\n\\textbf{Df Model:}         &           2      & \\textbf{                     } &             \\\\\n\\textbf{Covariance Type:}  &    nonrobust     & \\textbf{                     } &             \\\\\n\\bottomrule\n\\end{tabular}\n\\begin{tabular}{lcccccc}\n               & \\textbf{coef} & \\textbf{std err} & \\textbf{t} & \\textbf{P$> |$t$|$} & \\textbf{[0.025} & \\textbf{0.975]}  \\\\\n\\midrule\n\\textbf{ODD}   &       1.0441  &        0.183     &     5.710  &         0.001        &        0.612    &        1.476     \\\\\n\\textbf{OVER}  &       0.0085  &        0.006     &     1.370  &         0.213        &       -0.006    &        0.023     \\\\\n\\textbf{UNDER} &      -0.0039  &        0.009     &    -0.415  &         0.691        &       -0.026    &        0.018     \\\\\n\\bottomrule\n\\end{tabular}\n\\begin{tabular}{lclc}\n\\textbf{Omnibus:}       &  0.059 & \\textbf{  Durbin-Watson:     } &    2.611  \\\\\n\\textbf{Prob(Omnibus):} &  0.971 & \\textbf{  Jarque-Bera (JB):  } &    0.227  \\\\\n\\textbf{Skew:}          &  0.136 & \\textbf{  Prob(JB):          } &    0.893  \\\\\n\\textbf{Kurtosis:}      &  2.313 & \\textbf{  Cond. No.          } &     46.7  \\\\\n\\bottomrule\n\\end{tabular}\n%\\caption{OLS Regression Results}\n\\end{center}\n\nNotes: \\newline\n [1] Standard Errors assume that the covariance matrix of the errors is correctly specified."
          },
          "metadata": {},
          "execution_count": 20
        }
      ]
    },
    {
      "cell_type": "code",
      "source": [
        "# Define the new data point\n",
        "new_data = {\n",
        "    'ODD': 5.5,\n",
        "    'OVER': -135,\n",
        "    'UNDER': 100\n",
        "}\n",
        "\n",
        "# Convert the new data point to a DataFrame\n",
        "new_df = pd.DataFrame([new_data])\n",
        "\n",
        "# Add a constant to the independent variables\n",
        "new_df = sm.add_constant(new_df)\n",
        "\n",
        "# Predict the total strikeout using the model\n",
        "predicted_strikeout = model.predict(new_df)\n",
        "predicted_strikeout"
      ],
      "metadata": {
        "colab": {
          "base_uri": "https://localhost:8080/"
        },
        "id": "AM3F7pb_gCXf",
        "outputId": "8a0b871e-a110-4030-8f84-9d85eb4bf87b"
      },
      "execution_count": 22,
      "outputs": [
        {
          "output_type": "execute_result",
          "data": {
            "text/plain": [
              "0    4.203934\n",
              "dtype: float64"
            ]
          },
          "metadata": {},
          "execution_count": 22
        }
      ]
    },
    {
      "cell_type": "code",
      "source": [],
      "metadata": {
        "id": "A5fsI090fjAe"
      },
      "execution_count": null,
      "outputs": []
    },
    {
      "cell_type": "code",
      "source": [
        "# Define the new data point\n",
        "new_data = {\n",
        "    'const': 1,\n",
        "    'odd': 5.5,\n",
        "    'over': -135,\n",
        "    'under': 100\n",
        "}\n",
        "\n",
        "# Convert the new data point to a DataFrame\n",
        "new_df = pd.DataFrame([new_data])\n",
        "\n",
        "# Predict the total strikeout using the model\n",
        "predicted_strikeout = model.predict(new_df)\n",
        "predicted_strikeout\n"
      ],
      "metadata": {
        "colab": {
          "base_uri": "https://localhost:8080/",
          "height": 333
        },
        "outputId": "d77bcbb2-8607-49be-809d-4dda6e20244a",
        "id": "5lFKNBVFfjNj"
      },
      "execution_count": 21,
      "outputs": [
        {
          "output_type": "error",
          "ename": "ValueError",
          "evalue": "shapes (1,4) and (3,) not aligned: 4 (dim 1) != 3 (dim 0)",
          "traceback": [
            "\u001b[0;31m---------------------------------------------------------------------------\u001b[0m",
            "\u001b[0;31mValueError\u001b[0m                                Traceback (most recent call last)",
            "\u001b[0;32m<ipython-input-21-4b70eb683c34>\u001b[0m in \u001b[0;36m<cell line: 13>\u001b[0;34m()\u001b[0m\n\u001b[1;32m     11\u001b[0m \u001b[0;34m\u001b[0m\u001b[0m\n\u001b[1;32m     12\u001b[0m \u001b[0;31m# Predict the total strikeout using the model\u001b[0m\u001b[0;34m\u001b[0m\u001b[0;34m\u001b[0m\u001b[0m\n\u001b[0;32m---> 13\u001b[0;31m \u001b[0mpredicted_strikeout\u001b[0m \u001b[0;34m=\u001b[0m \u001b[0mmodel\u001b[0m\u001b[0;34m.\u001b[0m\u001b[0mpredict\u001b[0m\u001b[0;34m(\u001b[0m\u001b[0mnew_df\u001b[0m\u001b[0;34m)\u001b[0m\u001b[0;34m\u001b[0m\u001b[0;34m\u001b[0m\u001b[0m\n\u001b[0m\u001b[1;32m     14\u001b[0m \u001b[0mpredicted_strikeout\u001b[0m\u001b[0;34m\u001b[0m\u001b[0;34m\u001b[0m\u001b[0m\n",
            "\u001b[0;32m/usr/local/lib/python3.10/dist-packages/statsmodels/base/model.py\u001b[0m in \u001b[0;36mpredict\u001b[0;34m(self, exog, transform, *args, **kwargs)\u001b[0m\n\u001b[1;32m   1172\u001b[0m                                                         transform=transform)\n\u001b[1;32m   1173\u001b[0m \u001b[0;34m\u001b[0m\u001b[0m\n\u001b[0;32m-> 1174\u001b[0;31m         predict_results = self.model.predict(self.params, exog, *args,\n\u001b[0m\u001b[1;32m   1175\u001b[0m                                              **kwargs)\n\u001b[1;32m   1176\u001b[0m \u001b[0;34m\u001b[0m\u001b[0m\n",
            "\u001b[0;32m/usr/local/lib/python3.10/dist-packages/statsmodels/regression/linear_model.py\u001b[0m in \u001b[0;36mpredict\u001b[0;34m(self, params, exog)\u001b[0m\n\u001b[1;32m    410\u001b[0m             \u001b[0mexog\u001b[0m \u001b[0;34m=\u001b[0m \u001b[0mself\u001b[0m\u001b[0;34m.\u001b[0m\u001b[0mexog\u001b[0m\u001b[0;34m\u001b[0m\u001b[0;34m\u001b[0m\u001b[0m\n\u001b[1;32m    411\u001b[0m \u001b[0;34m\u001b[0m\u001b[0m\n\u001b[0;32m--> 412\u001b[0;31m         \u001b[0;32mreturn\u001b[0m \u001b[0mnp\u001b[0m\u001b[0;34m.\u001b[0m\u001b[0mdot\u001b[0m\u001b[0;34m(\u001b[0m\u001b[0mexog\u001b[0m\u001b[0;34m,\u001b[0m \u001b[0mparams\u001b[0m\u001b[0;34m)\u001b[0m\u001b[0;34m\u001b[0m\u001b[0;34m\u001b[0m\u001b[0m\n\u001b[0m\u001b[1;32m    413\u001b[0m \u001b[0;34m\u001b[0m\u001b[0m\n\u001b[1;32m    414\u001b[0m     \u001b[0;32mdef\u001b[0m \u001b[0mget_distribution\u001b[0m\u001b[0;34m(\u001b[0m\u001b[0mself\u001b[0m\u001b[0;34m,\u001b[0m \u001b[0mparams\u001b[0m\u001b[0;34m,\u001b[0m \u001b[0mscale\u001b[0m\u001b[0;34m,\u001b[0m \u001b[0mexog\u001b[0m\u001b[0;34m=\u001b[0m\u001b[0;32mNone\u001b[0m\u001b[0;34m,\u001b[0m \u001b[0mdist_class\u001b[0m\u001b[0;34m=\u001b[0m\u001b[0;32mNone\u001b[0m\u001b[0;34m)\u001b[0m\u001b[0;34m:\u001b[0m\u001b[0;34m\u001b[0m\u001b[0;34m\u001b[0m\u001b[0m\n",
            "\u001b[0;31mValueError\u001b[0m: shapes (1,4) and (3,) not aligned: 4 (dim 1) != 3 (dim 0)"
          ]
        }
      ]
    },
    {
      "cell_type": "markdown",
      "source": [
        "#ANDREW HEANY"
      ],
      "metadata": {
        "id": "oSmidv84g9M_"
      }
    },
    {
      "cell_type": "code",
      "source": [],
      "metadata": {
        "id": "n08rkFOjhAiR"
      },
      "execution_count": null,
      "outputs": []
    },
    {
      "cell_type": "code",
      "source": [
        "import pandas as pd\n",
        "import statsmodels.api as sm\n",
        "\n",
        "# Define the data\n",
        "data = {\n",
        "    'ODD': [5.5, 4.5, 5.5, 4.5, 5.5, 4.5, 5.5, 5.5, 4.5, 5.5],\n",
        "    'OVER': [-135, -135, -128, -122, 134, -146, -166, -112, -150, 128],\n",
        "    'UNDER': [105, 105, -100, -104, -172, 116, 128, -112, 118, -164],\n",
        "    'STRIKEOUT': [4, 5, 7, 10, 4, 9, 4, 5, 7, 1]\n",
        "}\n",
        "\n",
        "# Create a DataFrame\n",
        "df = pd.DataFrame(data)\n",
        "\n",
        "# Define the independent variables and the dependent variable\n",
        "X = df[['ODD', 'OVER', 'UNDER']]\n",
        "y = df['STRIKEOUT']\n",
        "\n",
        "# Add a constant to the independent variables\n",
        "X = sm.add_constant(X)\n",
        "\n",
        "# Fit the linear regression model\n",
        "model = sm.OLS(y, X).fit()\n",
        "\n",
        "# Get the summary of the regression\n",
        "summary = model.summary()\n",
        "summary\n"
      ],
      "metadata": {
        "colab": {
          "base_uri": "https://localhost:8080/",
          "height": 554
        },
        "outputId": "4ae08dd1-737e-4f86-9785-e3be13691e90",
        "id": "WCeBShQChA00"
      },
      "execution_count": 26,
      "outputs": [
        {
          "output_type": "stream",
          "name": "stderr",
          "text": [
            "/usr/local/lib/python3.10/dist-packages/scipy/stats/_stats_py.py:1806: UserWarning: kurtosistest only valid for n>=20 ... continuing anyway, n=10\n",
            "  warnings.warn(\"kurtosistest only valid for n>=20 ... continuing \"\n"
          ]
        },
        {
          "output_type": "execute_result",
          "data": {
            "text/plain": [
              "<class 'statsmodels.iolib.summary.Summary'>\n",
              "\"\"\"\n",
              "                            OLS Regression Results                            \n",
              "==============================================================================\n",
              "Dep. Variable:              STRIKEOUT   R-squared:                       0.776\n",
              "Model:                            OLS   Adj. R-squared:                  0.664\n",
              "Method:                 Least Squares   F-statistic:                     6.923\n",
              "Date:                Fri, 26 Jul 2024   Prob (F-statistic):             0.0225\n",
              "Time:                        14:50:52   Log-Likelihood:                -16.024\n",
              "No. Observations:                  10   AIC:                             40.05\n",
              "Df Residuals:                       6   BIC:                             41.26\n",
              "Df Model:                           3                                         \n",
              "Covariance Type:            nonrobust                                         \n",
              "==============================================================================\n",
              "                 coef    std err          t      P>|t|      [0.025      0.975]\n",
              "------------------------------------------------------------------------------\n",
              "const         21.2009      5.882      3.604      0.011       6.807      35.595\n",
              "ODD           -3.3778      1.128     -2.994      0.024      -6.139      -0.617\n",
              "OVER          -0.0183      0.007     -2.755      0.033      -0.034      -0.002\n",
              "UNDER         -0.0132      0.006     -2.271      0.064      -0.027       0.001\n",
              "==============================================================================\n",
              "Omnibus:                        0.259   Durbin-Watson:                   1.546\n",
              "Prob(Omnibus):                  0.878   Jarque-Bera (JB):                0.409\n",
              "Skew:                          -0.167   Prob(JB):                        0.815\n",
              "Kurtosis:                       2.068   Cond. No.                     1.98e+03\n",
              "==============================================================================\n",
              "\n",
              "Notes:\n",
              "[1] Standard Errors assume that the covariance matrix of the errors is correctly specified.\n",
              "[2] The condition number is large, 1.98e+03. This might indicate that there are\n",
              "strong multicollinearity or other numerical problems.\n",
              "\"\"\""
            ],
            "text/html": [
              "<table class=\"simpletable\">\n",
              "<caption>OLS Regression Results</caption>\n",
              "<tr>\n",
              "  <th>Dep. Variable:</th>        <td>STRIKEOUT</td>    <th>  R-squared:         </th> <td>   0.776</td>\n",
              "</tr>\n",
              "<tr>\n",
              "  <th>Model:</th>                   <td>OLS</td>       <th>  Adj. R-squared:    </th> <td>   0.664</td>\n",
              "</tr>\n",
              "<tr>\n",
              "  <th>Method:</th>             <td>Least Squares</td>  <th>  F-statistic:       </th> <td>   6.923</td>\n",
              "</tr>\n",
              "<tr>\n",
              "  <th>Date:</th>             <td>Fri, 26 Jul 2024</td> <th>  Prob (F-statistic):</th>  <td>0.0225</td> \n",
              "</tr>\n",
              "<tr>\n",
              "  <th>Time:</th>                 <td>14:50:52</td>     <th>  Log-Likelihood:    </th> <td> -16.024</td>\n",
              "</tr>\n",
              "<tr>\n",
              "  <th>No. Observations:</th>      <td>    10</td>      <th>  AIC:               </th> <td>   40.05</td>\n",
              "</tr>\n",
              "<tr>\n",
              "  <th>Df Residuals:</th>          <td>     6</td>      <th>  BIC:               </th> <td>   41.26</td>\n",
              "</tr>\n",
              "<tr>\n",
              "  <th>Df Model:</th>              <td>     3</td>      <th>                     </th>     <td> </td>   \n",
              "</tr>\n",
              "<tr>\n",
              "  <th>Covariance Type:</th>      <td>nonrobust</td>    <th>                     </th>     <td> </td>   \n",
              "</tr>\n",
              "</table>\n",
              "<table class=\"simpletable\">\n",
              "<tr>\n",
              "    <td></td>       <th>coef</th>     <th>std err</th>      <th>t</th>      <th>P>|t|</th>  <th>[0.025</th>    <th>0.975]</th>  \n",
              "</tr>\n",
              "<tr>\n",
              "  <th>const</th> <td>   21.2009</td> <td>    5.882</td> <td>    3.604</td> <td> 0.011</td> <td>    6.807</td> <td>   35.595</td>\n",
              "</tr>\n",
              "<tr>\n",
              "  <th>ODD</th>   <td>   -3.3778</td> <td>    1.128</td> <td>   -2.994</td> <td> 0.024</td> <td>   -6.139</td> <td>   -0.617</td>\n",
              "</tr>\n",
              "<tr>\n",
              "  <th>OVER</th>  <td>   -0.0183</td> <td>    0.007</td> <td>   -2.755</td> <td> 0.033</td> <td>   -0.034</td> <td>   -0.002</td>\n",
              "</tr>\n",
              "<tr>\n",
              "  <th>UNDER</th> <td>   -0.0132</td> <td>    0.006</td> <td>   -2.271</td> <td> 0.064</td> <td>   -0.027</td> <td>    0.001</td>\n",
              "</tr>\n",
              "</table>\n",
              "<table class=\"simpletable\">\n",
              "<tr>\n",
              "  <th>Omnibus:</th>       <td> 0.259</td> <th>  Durbin-Watson:     </th> <td>   1.546</td>\n",
              "</tr>\n",
              "<tr>\n",
              "  <th>Prob(Omnibus):</th> <td> 0.878</td> <th>  Jarque-Bera (JB):  </th> <td>   0.409</td>\n",
              "</tr>\n",
              "<tr>\n",
              "  <th>Skew:</th>          <td>-0.167</td> <th>  Prob(JB):          </th> <td>   0.815</td>\n",
              "</tr>\n",
              "<tr>\n",
              "  <th>Kurtosis:</th>      <td> 2.068</td> <th>  Cond. No.          </th> <td>1.98e+03</td>\n",
              "</tr>\n",
              "</table><br/><br/>Notes:<br/>[1] Standard Errors assume that the covariance matrix of the errors is correctly specified.<br/>[2] The condition number is large, 1.98e+03. This might indicate that there are<br/>strong multicollinearity or other numerical problems."
            ],
            "text/latex": "\\begin{center}\n\\begin{tabular}{lclc}\n\\toprule\n\\textbf{Dep. Variable:}    &    STRIKEOUT     & \\textbf{  R-squared:         } &     0.776   \\\\\n\\textbf{Model:}            &       OLS        & \\textbf{  Adj. R-squared:    } &     0.664   \\\\\n\\textbf{Method:}           &  Least Squares   & \\textbf{  F-statistic:       } &     6.923   \\\\\n\\textbf{Date:}             & Fri, 26 Jul 2024 & \\textbf{  Prob (F-statistic):} &   0.0225    \\\\\n\\textbf{Time:}             &     14:50:52     & \\textbf{  Log-Likelihood:    } &   -16.024   \\\\\n\\textbf{No. Observations:} &          10      & \\textbf{  AIC:               } &     40.05   \\\\\n\\textbf{Df Residuals:}     &           6      & \\textbf{  BIC:               } &     41.26   \\\\\n\\textbf{Df Model:}         &           3      & \\textbf{                     } &             \\\\\n\\textbf{Covariance Type:}  &    nonrobust     & \\textbf{                     } &             \\\\\n\\bottomrule\n\\end{tabular}\n\\begin{tabular}{lcccccc}\n               & \\textbf{coef} & \\textbf{std err} & \\textbf{t} & \\textbf{P$> |$t$|$} & \\textbf{[0.025} & \\textbf{0.975]}  \\\\\n\\midrule\n\\textbf{const} &      21.2009  &        5.882     &     3.604  &         0.011        &        6.807    &       35.595     \\\\\n\\textbf{ODD}   &      -3.3778  &        1.128     &    -2.994  &         0.024        &       -6.139    &       -0.617     \\\\\n\\textbf{OVER}  &      -0.0183  &        0.007     &    -2.755  &         0.033        &       -0.034    &       -0.002     \\\\\n\\textbf{UNDER} &      -0.0132  &        0.006     &    -2.271  &         0.064        &       -0.027    &        0.001     \\\\\n\\bottomrule\n\\end{tabular}\n\\begin{tabular}{lclc}\n\\textbf{Omnibus:}       &  0.259 & \\textbf{  Durbin-Watson:     } &    1.546  \\\\\n\\textbf{Prob(Omnibus):} &  0.878 & \\textbf{  Jarque-Bera (JB):  } &    0.409  \\\\\n\\textbf{Skew:}          & -0.167 & \\textbf{  Prob(JB):          } &    0.815  \\\\\n\\textbf{Kurtosis:}      &  2.068 & \\textbf{  Cond. No.          } & 1.98e+03  \\\\\n\\bottomrule\n\\end{tabular}\n%\\caption{OLS Regression Results}\n\\end{center}\n\nNotes: \\newline\n [1] Standard Errors assume that the covariance matrix of the errors is correctly specified. \\newline\n [2] The condition number is large, 1.98e+03. This might indicate that there are \\newline\n strong multicollinearity or other numerical problems."
          },
          "metadata": {},
          "execution_count": 26
        }
      ]
    },
    {
      "cell_type": "code",
      "source": [],
      "metadata": {
        "id": "VJ6B27Gkhr3Y"
      },
      "execution_count": null,
      "outputs": []
    },
    {
      "cell_type": "code",
      "source": [
        "# Define the new data point\n",
        "new_data = {\n",
        "    'const': 1,\n",
        "    'odd': 4.5,\n",
        "    'over': -110,\n",
        "    'under': -120\n",
        "}\n",
        "\n",
        "# Convert the new data point to a DataFrame\n",
        "new_df = pd.DataFrame([new_data])\n",
        "\n",
        "# Predict the total strikeout using the model\n",
        "predicted_strikeout = model.predict(new_df)\n",
        "predicted_strikeout\n"
      ],
      "metadata": {
        "colab": {
          "base_uri": "https://localhost:8080/"
        },
        "outputId": "03363a95-4e3f-47ee-f6bf-dedcc8d7a633",
        "id": "1bVbPFHbhsMk"
      },
      "execution_count": 28,
      "outputs": [
        {
          "output_type": "execute_result",
          "data": {
            "text/plain": [
              "0    9.596682\n",
              "dtype: float64"
            ]
          },
          "metadata": {},
          "execution_count": 28
        }
      ]
    },
    {
      "cell_type": "code",
      "source": [
        "# Define the new data point\n",
        "new_data = {\n",
        "    'ODD': 4.5,\n",
        "    'OVER': -110,\n",
        "    'UNDER': -120\n",
        "}\n",
        "\n",
        "# Convert the new data point to a DataFrame\n",
        "new_df = pd.DataFrame([new_data])\n",
        "\n",
        "# Add a constant to the independent variables\n",
        "# The constant term needs to be added to the new_df DataFrame for prediction,\n",
        "# ensuring consistency with the model's training data.\n",
        "new_df = sm.add_constant(new_df)\n",
        "\n",
        "# Predict the total strikeout using the model\n",
        "predicted_strikeout = model.predict(new_df)\n",
        "predicted_strikeout"
      ],
      "metadata": {
        "colab": {
          "base_uri": "https://localhost:8080/",
          "height": 333
        },
        "id": "wIpmdOhMhi0R",
        "outputId": "e2555097-8b84-40ed-c23d-7b8496f649dc"
      },
      "execution_count": 27,
      "outputs": [
        {
          "output_type": "error",
          "ename": "ValueError",
          "evalue": "shapes (1,3) and (4,) not aligned: 3 (dim 1) != 4 (dim 0)",
          "traceback": [
            "\u001b[0;31m---------------------------------------------------------------------------\u001b[0m",
            "\u001b[0;31mValueError\u001b[0m                                Traceback (most recent call last)",
            "\u001b[0;32m<ipython-input-27-77f424c07f2e>\u001b[0m in \u001b[0;36m<cell line: 17>\u001b[0;34m()\u001b[0m\n\u001b[1;32m     15\u001b[0m \u001b[0;34m\u001b[0m\u001b[0m\n\u001b[1;32m     16\u001b[0m \u001b[0;31m# Predict the total strikeout using the model\u001b[0m\u001b[0;34m\u001b[0m\u001b[0;34m\u001b[0m\u001b[0m\n\u001b[0;32m---> 17\u001b[0;31m \u001b[0mpredicted_strikeout\u001b[0m \u001b[0;34m=\u001b[0m \u001b[0mmodel\u001b[0m\u001b[0;34m.\u001b[0m\u001b[0mpredict\u001b[0m\u001b[0;34m(\u001b[0m\u001b[0mnew_df\u001b[0m\u001b[0;34m)\u001b[0m\u001b[0;34m\u001b[0m\u001b[0;34m\u001b[0m\u001b[0m\n\u001b[0m\u001b[1;32m     18\u001b[0m \u001b[0mpredicted_strikeout\u001b[0m\u001b[0;34m\u001b[0m\u001b[0;34m\u001b[0m\u001b[0m\n",
            "\u001b[0;32m/usr/local/lib/python3.10/dist-packages/statsmodels/base/model.py\u001b[0m in \u001b[0;36mpredict\u001b[0;34m(self, exog, transform, *args, **kwargs)\u001b[0m\n\u001b[1;32m   1172\u001b[0m                                                         transform=transform)\n\u001b[1;32m   1173\u001b[0m \u001b[0;34m\u001b[0m\u001b[0m\n\u001b[0;32m-> 1174\u001b[0;31m         predict_results = self.model.predict(self.params, exog, *args,\n\u001b[0m\u001b[1;32m   1175\u001b[0m                                              **kwargs)\n\u001b[1;32m   1176\u001b[0m \u001b[0;34m\u001b[0m\u001b[0m\n",
            "\u001b[0;32m/usr/local/lib/python3.10/dist-packages/statsmodels/regression/linear_model.py\u001b[0m in \u001b[0;36mpredict\u001b[0;34m(self, params, exog)\u001b[0m\n\u001b[1;32m    410\u001b[0m             \u001b[0mexog\u001b[0m \u001b[0;34m=\u001b[0m \u001b[0mself\u001b[0m\u001b[0;34m.\u001b[0m\u001b[0mexog\u001b[0m\u001b[0;34m\u001b[0m\u001b[0;34m\u001b[0m\u001b[0m\n\u001b[1;32m    411\u001b[0m \u001b[0;34m\u001b[0m\u001b[0m\n\u001b[0;32m--> 412\u001b[0;31m         \u001b[0;32mreturn\u001b[0m \u001b[0mnp\u001b[0m\u001b[0;34m.\u001b[0m\u001b[0mdot\u001b[0m\u001b[0;34m(\u001b[0m\u001b[0mexog\u001b[0m\u001b[0;34m,\u001b[0m \u001b[0mparams\u001b[0m\u001b[0;34m)\u001b[0m\u001b[0;34m\u001b[0m\u001b[0;34m\u001b[0m\u001b[0m\n\u001b[0m\u001b[1;32m    413\u001b[0m \u001b[0;34m\u001b[0m\u001b[0m\n\u001b[1;32m    414\u001b[0m     \u001b[0;32mdef\u001b[0m \u001b[0mget_distribution\u001b[0m\u001b[0;34m(\u001b[0m\u001b[0mself\u001b[0m\u001b[0;34m,\u001b[0m \u001b[0mparams\u001b[0m\u001b[0;34m,\u001b[0m \u001b[0mscale\u001b[0m\u001b[0;34m,\u001b[0m \u001b[0mexog\u001b[0m\u001b[0;34m=\u001b[0m\u001b[0;32mNone\u001b[0m\u001b[0;34m,\u001b[0m \u001b[0mdist_class\u001b[0m\u001b[0;34m=\u001b[0m\u001b[0;32mNone\u001b[0m\u001b[0;34m)\u001b[0m\u001b[0;34m:\u001b[0m\u001b[0;34m\u001b[0m\u001b[0;34m\u001b[0m\u001b[0m\n",
            "\u001b[0;31mValueError\u001b[0m: shapes (1,3) and (4,) not aligned: 3 (dim 1) != 4 (dim 0)"
          ]
        }
      ]
    },
    {
      "cell_type": "code",
      "source": [
        "# Define the new data point\n",
        "new_data = {\n",
        "    'ODD': 4.5,\n",
        "    'OVER': -110,\n",
        "    'UNDER': -120\n",
        "}\n",
        "\n",
        "# Convert the new data point to a DataFrame\n",
        "new_df = pd.DataFrame([new_data])\n",
        "\n",
        "# Add a constant to the independent variables\n",
        "# The constant term needs to be added to the new_df DataFrame for prediction,\n",
        "# ensuring consistency with the model's training data.\n",
        "new_df = sm.add_constant(new_df)\n",
        "\n",
        "# Predict the total strikeout using the model\n",
        "predicted_strikeout = model.predict(new_df)\n",
        "predicted_strikeout"
      ],
      "metadata": {
        "colab": {
          "base_uri": "https://localhost:8080/",
          "height": 333
        },
        "id": "Km5oOR9shbGA",
        "outputId": "20feff3d-b479-4c88-b9a7-4e191d0b4079"
      },
      "execution_count": 25,
      "outputs": [
        {
          "output_type": "error",
          "ename": "ValueError",
          "evalue": "shapes (1,3) and (4,) not aligned: 3 (dim 1) != 4 (dim 0)",
          "traceback": [
            "\u001b[0;31m---------------------------------------------------------------------------\u001b[0m",
            "\u001b[0;31mValueError\u001b[0m                                Traceback (most recent call last)",
            "\u001b[0;32m<ipython-input-25-77f424c07f2e>\u001b[0m in \u001b[0;36m<cell line: 17>\u001b[0;34m()\u001b[0m\n\u001b[1;32m     15\u001b[0m \u001b[0;34m\u001b[0m\u001b[0m\n\u001b[1;32m     16\u001b[0m \u001b[0;31m# Predict the total strikeout using the model\u001b[0m\u001b[0;34m\u001b[0m\u001b[0;34m\u001b[0m\u001b[0m\n\u001b[0;32m---> 17\u001b[0;31m \u001b[0mpredicted_strikeout\u001b[0m \u001b[0;34m=\u001b[0m \u001b[0mmodel\u001b[0m\u001b[0;34m.\u001b[0m\u001b[0mpredict\u001b[0m\u001b[0;34m(\u001b[0m\u001b[0mnew_df\u001b[0m\u001b[0;34m)\u001b[0m\u001b[0;34m\u001b[0m\u001b[0;34m\u001b[0m\u001b[0m\n\u001b[0m\u001b[1;32m     18\u001b[0m \u001b[0mpredicted_strikeout\u001b[0m\u001b[0;34m\u001b[0m\u001b[0;34m\u001b[0m\u001b[0m\n",
            "\u001b[0;32m/usr/local/lib/python3.10/dist-packages/statsmodels/base/model.py\u001b[0m in \u001b[0;36mpredict\u001b[0;34m(self, exog, transform, *args, **kwargs)\u001b[0m\n\u001b[1;32m   1172\u001b[0m                                                         transform=transform)\n\u001b[1;32m   1173\u001b[0m \u001b[0;34m\u001b[0m\u001b[0m\n\u001b[0;32m-> 1174\u001b[0;31m         predict_results = self.model.predict(self.params, exog, *args,\n\u001b[0m\u001b[1;32m   1175\u001b[0m                                              **kwargs)\n\u001b[1;32m   1176\u001b[0m \u001b[0;34m\u001b[0m\u001b[0m\n",
            "\u001b[0;32m/usr/local/lib/python3.10/dist-packages/statsmodels/regression/linear_model.py\u001b[0m in \u001b[0;36mpredict\u001b[0;34m(self, params, exog)\u001b[0m\n\u001b[1;32m    410\u001b[0m             \u001b[0mexog\u001b[0m \u001b[0;34m=\u001b[0m \u001b[0mself\u001b[0m\u001b[0;34m.\u001b[0m\u001b[0mexog\u001b[0m\u001b[0;34m\u001b[0m\u001b[0;34m\u001b[0m\u001b[0m\n\u001b[1;32m    411\u001b[0m \u001b[0;34m\u001b[0m\u001b[0m\n\u001b[0;32m--> 412\u001b[0;31m         \u001b[0;32mreturn\u001b[0m \u001b[0mnp\u001b[0m\u001b[0;34m.\u001b[0m\u001b[0mdot\u001b[0m\u001b[0;34m(\u001b[0m\u001b[0mexog\u001b[0m\u001b[0;34m,\u001b[0m \u001b[0mparams\u001b[0m\u001b[0;34m)\u001b[0m\u001b[0;34m\u001b[0m\u001b[0;34m\u001b[0m\u001b[0m\n\u001b[0m\u001b[1;32m    413\u001b[0m \u001b[0;34m\u001b[0m\u001b[0m\n\u001b[1;32m    414\u001b[0m     \u001b[0;32mdef\u001b[0m \u001b[0mget_distribution\u001b[0m\u001b[0;34m(\u001b[0m\u001b[0mself\u001b[0m\u001b[0;34m,\u001b[0m \u001b[0mparams\u001b[0m\u001b[0;34m,\u001b[0m \u001b[0mscale\u001b[0m\u001b[0;34m,\u001b[0m \u001b[0mexog\u001b[0m\u001b[0;34m=\u001b[0m\u001b[0;32mNone\u001b[0m\u001b[0;34m,\u001b[0m \u001b[0mdist_class\u001b[0m\u001b[0;34m=\u001b[0m\u001b[0;32mNone\u001b[0m\u001b[0;34m)\u001b[0m\u001b[0;34m:\u001b[0m\u001b[0;34m\u001b[0m\u001b[0;34m\u001b[0m\u001b[0m\n",
            "\u001b[0;31mValueError\u001b[0m: shapes (1,3) and (4,) not aligned: 3 (dim 1) != 4 (dim 0)"
          ]
        }
      ]
    },
    {
      "cell_type": "code",
      "source": [],
      "metadata": {
        "id": "ao5uYoZAhK1H"
      },
      "execution_count": null,
      "outputs": []
    },
    {
      "cell_type": "code",
      "source": [
        "# Define the new data point\n",
        "new_data = {\n",
        "    'ODD': 4.5,\n",
        "    'OVER': -110,\n",
        "    'UNDER': -120\n",
        "}\n",
        "\n",
        "# Convert the new data point to a DataFrame\n",
        "new_df = pd.DataFrame([new_data])\n",
        "\n",
        "# Add a constant to the independent variables\n",
        "new_df = sm.add_constant(new_df)\n",
        "\n",
        "# Predict the total strikeout using the model\n",
        "predicted_strikeout = model.predict(new_df)\n",
        "predicted_strikeout"
      ],
      "metadata": {
        "colab": {
          "base_uri": "https://localhost:8080/",
          "height": 333
        },
        "outputId": "7c0cd18c-709a-418c-a55c-a601f74e4c6f",
        "id": "xi-Mjl7ShLBU"
      },
      "execution_count": 24,
      "outputs": [
        {
          "output_type": "error",
          "ename": "ValueError",
          "evalue": "shapes (1,3) and (4,) not aligned: 3 (dim 1) != 4 (dim 0)",
          "traceback": [
            "\u001b[0;31m---------------------------------------------------------------------------\u001b[0m",
            "\u001b[0;31mValueError\u001b[0m                                Traceback (most recent call last)",
            "\u001b[0;32m<ipython-input-24-69de70a04597>\u001b[0m in \u001b[0;36m<cell line: 15>\u001b[0;34m()\u001b[0m\n\u001b[1;32m     13\u001b[0m \u001b[0;34m\u001b[0m\u001b[0m\n\u001b[1;32m     14\u001b[0m \u001b[0;31m# Predict the total strikeout using the model\u001b[0m\u001b[0;34m\u001b[0m\u001b[0;34m\u001b[0m\u001b[0m\n\u001b[0;32m---> 15\u001b[0;31m \u001b[0mpredicted_strikeout\u001b[0m \u001b[0;34m=\u001b[0m \u001b[0mmodel\u001b[0m\u001b[0;34m.\u001b[0m\u001b[0mpredict\u001b[0m\u001b[0;34m(\u001b[0m\u001b[0mnew_df\u001b[0m\u001b[0;34m)\u001b[0m\u001b[0;34m\u001b[0m\u001b[0;34m\u001b[0m\u001b[0m\n\u001b[0m\u001b[1;32m     16\u001b[0m \u001b[0mpredicted_strikeout\u001b[0m\u001b[0;34m\u001b[0m\u001b[0;34m\u001b[0m\u001b[0m\n",
            "\u001b[0;32m/usr/local/lib/python3.10/dist-packages/statsmodels/base/model.py\u001b[0m in \u001b[0;36mpredict\u001b[0;34m(self, exog, transform, *args, **kwargs)\u001b[0m\n\u001b[1;32m   1172\u001b[0m                                                         transform=transform)\n\u001b[1;32m   1173\u001b[0m \u001b[0;34m\u001b[0m\u001b[0m\n\u001b[0;32m-> 1174\u001b[0;31m         predict_results = self.model.predict(self.params, exog, *args,\n\u001b[0m\u001b[1;32m   1175\u001b[0m                                              **kwargs)\n\u001b[1;32m   1176\u001b[0m \u001b[0;34m\u001b[0m\u001b[0m\n",
            "\u001b[0;32m/usr/local/lib/python3.10/dist-packages/statsmodels/regression/linear_model.py\u001b[0m in \u001b[0;36mpredict\u001b[0;34m(self, params, exog)\u001b[0m\n\u001b[1;32m    410\u001b[0m             \u001b[0mexog\u001b[0m \u001b[0;34m=\u001b[0m \u001b[0mself\u001b[0m\u001b[0;34m.\u001b[0m\u001b[0mexog\u001b[0m\u001b[0;34m\u001b[0m\u001b[0;34m\u001b[0m\u001b[0m\n\u001b[1;32m    411\u001b[0m \u001b[0;34m\u001b[0m\u001b[0m\n\u001b[0;32m--> 412\u001b[0;31m         \u001b[0;32mreturn\u001b[0m \u001b[0mnp\u001b[0m\u001b[0;34m.\u001b[0m\u001b[0mdot\u001b[0m\u001b[0;34m(\u001b[0m\u001b[0mexog\u001b[0m\u001b[0;34m,\u001b[0m \u001b[0mparams\u001b[0m\u001b[0;34m)\u001b[0m\u001b[0;34m\u001b[0m\u001b[0;34m\u001b[0m\u001b[0m\n\u001b[0m\u001b[1;32m    413\u001b[0m \u001b[0;34m\u001b[0m\u001b[0m\n\u001b[1;32m    414\u001b[0m     \u001b[0;32mdef\u001b[0m \u001b[0mget_distribution\u001b[0m\u001b[0;34m(\u001b[0m\u001b[0mself\u001b[0m\u001b[0;34m,\u001b[0m \u001b[0mparams\u001b[0m\u001b[0;34m,\u001b[0m \u001b[0mscale\u001b[0m\u001b[0;34m,\u001b[0m \u001b[0mexog\u001b[0m\u001b[0;34m=\u001b[0m\u001b[0;32mNone\u001b[0m\u001b[0;34m,\u001b[0m \u001b[0mdist_class\u001b[0m\u001b[0;34m=\u001b[0m\u001b[0;32mNone\u001b[0m\u001b[0;34m)\u001b[0m\u001b[0;34m:\u001b[0m\u001b[0;34m\u001b[0m\u001b[0;34m\u001b[0m\u001b[0m\n",
            "\u001b[0;31mValueError\u001b[0m: shapes (1,3) and (4,) not aligned: 3 (dim 1) != 4 (dim 0)"
          ]
        }
      ]
    }
  ]
}