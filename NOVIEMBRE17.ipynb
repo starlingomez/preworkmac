{
  "nbformat": 4,
  "nbformat_minor": 0,
  "metadata": {
    "colab": {
      "provenance": [],
      "authorship_tag": "ABX9TyMTKT0pFCkFZNZ17nqdyObf",
      "include_colab_link": true
    },
    "kernelspec": {
      "name": "python3",
      "display_name": "Python 3"
    },
    "language_info": {
      "name": "python"
    }
  },
  "cells": [
    {
      "cell_type": "markdown",
      "metadata": {
        "id": "view-in-github",
        "colab_type": "text"
      },
      "source": [
        "<a href=\"https://colab.research.google.com/github/starlingomez/preworkmac/blob/master/NOVIEMBRE17.ipynb\" target=\"_parent\"><img src=\"https://colab.research.google.com/assets/colab-badge.svg\" alt=\"Open In Colab\"/></a>"
      ]
    },
    {
      "cell_type": "code",
      "execution_count": null,
      "metadata": {
        "id": "EtVBXsLuzSbt"
      },
      "outputs": [],
      "source": []
    },
    {
      "cell_type": "markdown",
      "source": [
        "#BAM ADEBAYO"
      ],
      "metadata": {
        "id": "_AdZ-4rg0idG"
      }
    },
    {
      "cell_type": "code",
      "source": [],
      "metadata": {
        "id": "5AMCkdGw0ltM"
      },
      "execution_count": null,
      "outputs": []
    },
    {
      "cell_type": "code",
      "source": [
        "import numpy as np\n",
        "import pandas as pd\n",
        "from xgboost import XGBRegressor\n",
        "from sklearn.model_selection import cross_val_score, KFold\n",
        "import warnings\n",
        "\n",
        "# Suppress warnings for cleaner output\n",
        "warnings.filterwarnings('ignore')\n",
        "\n",
        "# Define the dataset\n",
        "data = {\n",
        "    'LINE': [10.5, 9.5, 9.5, 9.5, 10.5, 9.5, 10.5, 9.5, 9.5, 10.5],\n",
        "    'OVER': [-105, -105, -110, -135, 110, -110, 100, -135, -135, 114],\n",
        "    'UNDER': [-125, -125, -120, 105, -142, -120, -130, 105, 105, -145],\n",
        "    'TOTAL_REB': [11, 12, 7, 9, 12, 8, 14, 3, 10, 11]\n",
        "}\n",
        "\n",
        "# Create a DataFrame\n",
        "df = pd.DataFrame(data)\n",
        "\n",
        "# Features and target\n",
        "X = df[['LINE', 'OVER', 'UNDER']].values\n",
        "y = df['TOTAL_REB'].values\n",
        "\n",
        "# Define new data for prediction\n",
        "new_data = np.array([[10.5, -130, 100]])\n",
        "\n",
        "# Define the XGBoost model\n",
        "model = XGBRegressor(random_state=42)\n",
        "\n",
        "# Define cross-validation strategy\n",
        "kf = KFold(n_splits=5, shuffle=True, random_state=42)\n",
        "\n",
        "# Calculate cross-validated R^2 scores\n",
        "scores = cross_val_score(model, X, y, cv=kf, scoring='r2')\n",
        "\n",
        "# Print the mean score\n",
        "print(f\"XGBoost CV R^2 Score: {scores.mean():.4f}\")\n",
        "\n",
        "# Train the model on the entire dataset\n",
        "model.fit(X, y)\n",
        "\n",
        "# Make a prediction on the new data\n",
        "predicted_reb = model.predict(new_data)[0]\n",
        "\n",
        "print(f\"\\nPredicted Total Rebounds for new data {new_data.tolist()[0]}: {predicted_reb:.2f}\")\n"
      ],
      "metadata": {
        "colab": {
          "base_uri": "https://localhost:8080/"
        },
        "id": "S0-OPCBt08h4",
        "outputId": "83fa9afb-614f-415c-9618-2f110413c733"
      },
      "execution_count": null,
      "outputs": [
        {
          "output_type": "stream",
          "name": "stdout",
          "text": [
            "XGBoost CV R^2 Score: -9.5884\n",
            "\n",
            "Predicted Total Rebounds for new data [10.5, -130.0, 100.0]: 7.33\n"
          ]
        }
      ]
    },
    {
      "cell_type": "markdown",
      "source": [
        "#MYLES TURNER"
      ],
      "metadata": {
        "id": "nRPwefKl2UEG"
      }
    },
    {
      "cell_type": "code",
      "source": [],
      "metadata": {
        "id": "FIks1vc82YVB"
      },
      "execution_count": null,
      "outputs": []
    },
    {
      "cell_type": "code",
      "source": [
        "import numpy as np\n",
        "import pandas as pd\n",
        "from xgboost import XGBRegressor\n",
        "from sklearn.model_selection import cross_val_score, KFold\n",
        "import warnings\n",
        "\n",
        "# Suppress warnings for cleaner output\n",
        "warnings.filterwarnings('ignore')\n",
        "\n",
        "# Define the dataset\n",
        "data = {\n",
        "    \"LINE\": [8.5, 8.5, 8.5, 8.5, 7.5, 7.5, 6.5, 7.5, 7.5, 7.5],\n",
        "    \"OVER\": [110, 105, 115, -142, -120, 105, -125, 105, -135, 100],\n",
        "    \"UNDER\": [-142, -135, -148, 110, -110, -135, -105, -135, 105, -130],\n",
        "    \"TOTAL_REB\": [5, 2, 6, 10, 10, 11, 4, 5, 4, 7]\n",
        "}\n",
        "\n",
        "# Create a DataFrame\n",
        "df = pd.DataFrame(data)\n",
        "\n",
        "# Features and target\n",
        "X = df[['LINE', 'OVER', 'UNDER']].values\n",
        "y = df['TOTAL_REB'].values\n",
        "\n",
        "# Define new data for prediction\n",
        "new_data = np.array([[7.5, -135, 105]])\n",
        "\n",
        "# Define the XGBoost model\n",
        "model = XGBRegressor(random_state=42)\n",
        "\n",
        "# Define cross-validation strategy\n",
        "kf = KFold(n_splits=5, shuffle=True, random_state=42)\n",
        "\n",
        "# Calculate cross-validated R^2 scores\n",
        "scores = cross_val_score(model, X, y, cv=kf, scoring='r2')\n",
        "\n",
        "# Print the mean score\n",
        "print(f\"XGBoost CV R^2 Score: {scores.mean():.4f}\")\n",
        "\n",
        "# Train the model on the entire dataset\n",
        "model.fit(X, y)\n",
        "\n",
        "# Make a prediction on the new data\n",
        "predicted_reb = model.predict(new_data)[0]\n",
        "\n",
        "print(f\"\\nPredicted Total Rebounds for new data {new_data.tolist()[0]}: {predicted_reb:.2f}\")\n"
      ],
      "metadata": {
        "colab": {
          "base_uri": "https://localhost:8080/"
        },
        "outputId": "42488d73-df24-4966-f932-471a846ac1a7",
        "id": "CB33qmd82Yks"
      },
      "execution_count": null,
      "outputs": [
        {
          "output_type": "stream",
          "name": "stdout",
          "text": [
            "XGBoost CV R^2 Score: -24.2007\n",
            "\n",
            "Predicted Total Rebounds for new data [7.5, -135.0, 105.0]: 4.00\n"
          ]
        }
      ]
    },
    {
      "cell_type": "markdown",
      "source": [
        "#JARRET ALLEN"
      ],
      "metadata": {
        "id": "DnQyaY2h2nUr"
      }
    },
    {
      "cell_type": "code",
      "source": [],
      "metadata": {
        "id": "Sxw7Brm43Kz9"
      },
      "execution_count": null,
      "outputs": []
    },
    {
      "cell_type": "code",
      "source": [
        "import numpy as np\n",
        "import pandas as pd\n",
        "from xgboost import XGBRegressor\n",
        "from sklearn.model_selection import cross_val_score, KFold\n",
        "import warnings\n",
        "\n",
        "# Suppress warnings for cleaner output\n",
        "warnings.filterwarnings('ignore')\n",
        "\n",
        "# Define the dataset\n",
        "data = {\n",
        "    \"LINE\": [12.5, 10.5, 11.5, 11.5, 11.5, 11.5, 11.5, 10.5, 10.5, 9.5],\n",
        "    \"OVER\": [100, -130, 110, -110, -110, -110, -130, -110, 100, -130],\n",
        "    \"UNDER\": [-130, 100, -142, -120, -120, -120, 100, -120, -130, 100],\n",
        "    \"TOTAL_REB\": [10, 12, 5, 3, 12, 14, 15, 12, 11, 17],\n",
        "}\n",
        "\n",
        "# Create a DataFrame\n",
        "df = pd.DataFrame(data)\n",
        "\n",
        "# Features and target\n",
        "X = df[['LINE', 'OVER', 'UNDER']].values\n",
        "y = df['TOTAL_REB'].values\n",
        "\n",
        "# Define new data for prediction\n",
        "new_data = np.array([[11.5, -120, -110]])\n",
        "\n",
        "# Define the XGBoost model\n",
        "model = XGBRegressor(random_state=42)\n",
        "\n",
        "# Define cross-validation strategy\n",
        "kf = KFold(n_splits=5, shuffle=True, random_state=42)\n",
        "\n",
        "# Calculate cross-validated R^2 scores\n",
        "scores = cross_val_score(model, X, y, cv=kf, scoring='r2')\n",
        "\n",
        "# Print the mean score\n",
        "print(f\"XGBoost CV R^2 Score: {scores.mean():.4f}\")\n",
        "\n",
        "# Train the model on the entire dataset\n",
        "model.fit(X, y)\n",
        "\n",
        "# Make a prediction on the new data\n",
        "predicted_reb = model.predict(new_data)[0]\n",
        "\n",
        "print(f\"\\nPredicted Total Rebounds for new data {new_data.tolist()[0]}: {predicted_reb:.2f}\")\n"
      ],
      "metadata": {
        "colab": {
          "base_uri": "https://localhost:8080/"
        },
        "outputId": "f8537ecf-420c-451f-aa0a-73e50358d429",
        "id": "Iajs2wZi3Mby"
      },
      "execution_count": null,
      "outputs": [
        {
          "output_type": "stream",
          "name": "stdout",
          "text": [
            "XGBoost CV R^2 Score: -5.3630\n",
            "\n",
            "Predicted Total Rebounds for new data [11.5, -120.0, -110.0]: 15.00\n"
          ]
        }
      ]
    },
    {
      "cell_type": "markdown",
      "source": [
        "#JALEN DUREN"
      ],
      "metadata": {
        "id": "uR3nKDmU4hSQ"
      }
    },
    {
      "cell_type": "code",
      "source": [],
      "metadata": {
        "id": "yuMVz8dv4i_G"
      },
      "execution_count": null,
      "outputs": []
    },
    {
      "cell_type": "code",
      "source": [
        "import numpy as np\n",
        "import pandas as pd\n",
        "from xgboost import XGBRegressor\n",
        "from sklearn.model_selection import cross_val_score, KFold\n",
        "import warnings\n",
        "\n",
        "# Suppress warnings for cleaner output\n",
        "warnings.filterwarnings('ignore')\n",
        "\n",
        "# Define the dataset\n",
        "data = {\n",
        "    \"LINE\": [11.5, 10.5, 10.5, 11.5, 10.5, 10.5, 10.5, 11.5, 10.5, 11.5],\n",
        "    \"OVER\": [-115, 100, 105, -125, -130, 105, -105, -115, -125, 105],\n",
        "    \"UNDER\": [-115, -130, -135, -105, 100, -135, -125, -115, -105, -135],\n",
        "    \"TOTAL_REB\": [8, 9, 11, 3, 14, 17, 7, 6, 11, 9]\n",
        "}\n",
        "\n",
        "# Create a DataFrame\n",
        "df = pd.DataFrame(data)\n",
        "\n",
        "# Features and target\n",
        "X = df[['LINE', 'OVER', 'UNDER']].values\n",
        "y = df['TOTAL_REB'].values\n",
        "\n",
        "# Define new data for prediction\n",
        "new_data = np.array([[11.5, -110, -120]])\n",
        "\n",
        "# Define the XGBoost model\n",
        "model = XGBRegressor(random_state=42)\n",
        "\n",
        "# Define cross-validation strategy\n",
        "kf = KFold(n_splits=5, shuffle=True, random_state=42)\n",
        "\n",
        "# Calculate cross-validated R^2 scores\n",
        "scores = cross_val_score(model, X, y, cv=kf, scoring='r2')\n",
        "\n",
        "# Print the mean score\n",
        "print(f\"XGBoost CV R^2 Score: {scores.mean():.4f}\")\n",
        "\n",
        "# Train the model on the entire dataset\n",
        "model.fit(X, y)\n",
        "\n",
        "# Make a prediction on the new data\n",
        "predicted_reb = model.predict(new_data)[0]\n",
        "\n",
        "print(f\"\\nPredicted Total Rebounds for new data {new_data.tolist()[0]}: {predicted_reb:.2f}\")\n"
      ],
      "metadata": {
        "colab": {
          "base_uri": "https://localhost:8080/"
        },
        "outputId": "9ebe2099-648b-4373-c429-57cf936fab25",
        "id": "N0US959U4jQq"
      },
      "execution_count": null,
      "outputs": [
        {
          "output_type": "stream",
          "name": "stdout",
          "text": [
            "XGBoost CV R^2 Score: -2.8519\n",
            "\n",
            "Predicted Total Rebounds for new data [11.5, -110.0, -120.0]: 7.00\n"
          ]
        }
      ]
    },
    {
      "cell_type": "markdown",
      "source": [],
      "metadata": {
        "id": "tPptND1IKTAS"
      }
    },
    {
      "cell_type": "markdown",
      "source": [
        "#JALEN JONHSON"
      ],
      "metadata": {
        "id": "boBZ8Dh96arQ"
      }
    },
    {
      "cell_type": "code",
      "source": [],
      "metadata": {
        "id": "iWlbHrQD6coh"
      },
      "execution_count": null,
      "outputs": []
    },
    {
      "cell_type": "code",
      "source": [
        "import numpy as np\n",
        "import pandas as pd\n",
        "from xgboost import XGBRegressor\n",
        "from sklearn.model_selection import cross_val_score, KFold\n",
        "import warnings\n",
        "\n",
        "# Suppress warnings for cleaner output\n",
        "warnings.filterwarnings('ignore')\n",
        "\n",
        "# Define the dataset\n",
        "data = {\n",
        "    \"LINE\": [9.5, 8.5, 9.5, 9.5, 8.5, 8.5, 9.5, 9.5, 9.5, 9.5],\n",
        "    \"OVER\": [-125, -110, -110, -110, 100, -125, 105, -105, -130, -115],\n",
        "    \"UNDER\": [-105, -120, -120, -120, -130, -105, -135, -125, 100, -115],\n",
        "    \"TOTAL_REB\": [13, 13, 6, 9, 15, 11, 9, 5, 17, 12]\n",
        "}\n",
        "\n",
        "# Create a DataFrame\n",
        "df = pd.DataFrame(data)\n",
        "\n",
        "# Features and target\n",
        "X = df[['LINE', 'OVER', 'UNDER']].values\n",
        "y = df['TOTAL_REB'].values\n",
        "\n",
        "# Define new data for prediction\n",
        "new_data = np.array([[9.5, 110, -142]])\n",
        "\n",
        "# Define the XGBoost model\n",
        "model = XGBRegressor(random_state=42)\n",
        "\n",
        "# Define cross-validation strategy\n",
        "kf = KFold(n_splits=5, shuffle=True, random_state=42)\n",
        "\n",
        "# Calculate cross-validated R^2 scores\n",
        "scores = cross_val_score(model, X, y, cv=kf, scoring='r2')\n",
        "\n",
        "# Print the mean score\n",
        "print(f\"XGBoost CV R^2 Score: {scores.mean():.4f}\")\n",
        "\n",
        "# Train the model on the entire dataset\n",
        "model.fit(X, y)\n",
        "\n",
        "# Make a prediction on the new data\n",
        "predicted_reb = model.predict(new_data)[0]\n",
        "\n",
        "print(f\"\\nPredicted Total Rebounds for new data {new_data.tolist()[0]}: {predicted_reb:.2f}\")\n"
      ],
      "metadata": {
        "colab": {
          "base_uri": "https://localhost:8080/"
        },
        "outputId": "2ed161c5-fdfe-4b00-9c50-ab5e693b4c13",
        "id": "S6SeypKh6eHI"
      },
      "execution_count": null,
      "outputs": [
        {
          "output_type": "stream",
          "name": "stdout",
          "text": [
            "XGBoost CV R^2 Score: -16.7123\n",
            "\n",
            "Predicted Total Rebounds for new data [9.5, 110.0, -142.0]: 9.00\n"
          ]
        }
      ]
    },
    {
      "cell_type": "markdown",
      "source": [
        "#CLINT CAPELA"
      ],
      "metadata": {
        "id": "hu7hvS3f70Dx"
      }
    },
    {
      "cell_type": "code",
      "source": [],
      "metadata": {
        "id": "_29hVDod72y9"
      },
      "execution_count": null,
      "outputs": []
    },
    {
      "cell_type": "code",
      "source": [
        "import numpy as np\n",
        "import pandas as pd\n",
        "from xgboost import XGBRegressor\n",
        "from sklearn.model_selection import cross_val_score, KFold\n",
        "import warnings\n",
        "\n",
        "# Suppress warnings for cleaner output\n",
        "warnings.filterwarnings('ignore')\n",
        "\n",
        "# Define the dataset\n",
        "data = {\n",
        "    \"LINE\": [8.5, 7.5, 7.5, 7.5, 7.5, 7.5, 9.5, 8.5, 9.5, 10.5],\n",
        "    \"OVER\": [-110, -130, -142, -142, -130, -120, -135, 110, 100, -110],\n",
        "    \"UNDER\": [-120, 100, 110, 110, 100, -110, 105, -140, -130, -120],\n",
        "    \"TOTAL_REB\": [13, 9, 9, 12, 6, 5, 4, 10, 5, 4],\n",
        "}\n",
        "\n",
        "# Create a DataFrame\n",
        "df = pd.DataFrame(data)\n",
        "\n",
        "# Features and target\n",
        "X = df[['LINE', 'OVER', 'UNDER']].values\n",
        "y = df['TOTAL_REB'].values\n",
        "\n",
        "# Define new data for prediction\n",
        "new_data = np.array([[8.5, -120, -110]])\n",
        "\n",
        "# Define the XGBoost model\n",
        "model = XGBRegressor(random_state=42)\n",
        "\n",
        "# Define cross-validation strategy\n",
        "kf = KFold(n_splits=5, shuffle=True, random_state=42)\n",
        "\n",
        "# Calculate cross-validated R^2 scores\n",
        "scores = cross_val_score(model, X, y, cv=kf, scoring='r2')\n",
        "\n",
        "# Print the mean score\n",
        "print(f\"XGBoost CV R^2 Score: {scores.mean():.4f}\")\n",
        "\n",
        "# Train the model on the entire dataset\n",
        "model.fit(X, y)\n",
        "\n",
        "# Make a prediction on the new data\n",
        "predicted_reb = model.predict(new_data)[0]\n",
        "\n",
        "print(f\"\\nPredicted Total Rebounds for new data {new_data.tolist()[0]}: {predicted_reb:.2f}\")\n"
      ],
      "metadata": {
        "colab": {
          "base_uri": "https://localhost:8080/"
        },
        "outputId": "7833dc05-f494-49c9-8bc1-3141edac3d5b",
        "id": "08P_T1Jv73F8"
      },
      "execution_count": null,
      "outputs": [
        {
          "output_type": "stream",
          "name": "stdout",
          "text": [
            "XGBoost CV R^2 Score: -7.6052\n",
            "\n",
            "Predicted Total Rebounds for new data [8.5, -120.0, -110.0]: 12.69\n"
          ]
        }
      ]
    },
    {
      "cell_type": "markdown",
      "source": [
        "#NIKOLA JOKIC"
      ],
      "metadata": {
        "id": "NKTVeiDq9dET"
      }
    },
    {
      "cell_type": "code",
      "source": [],
      "metadata": {
        "id": "-jQywdeW9fW5"
      },
      "execution_count": null,
      "outputs": []
    },
    {
      "cell_type": "code",
      "source": [
        "import numpy as np\n",
        "import pandas as pd\n",
        "from xgboost import XGBRegressor\n",
        "from sklearn.model_selection import cross_val_score, KFold\n",
        "import warnings\n",
        "\n",
        "# Suppress warnings for cleaner output\n",
        "warnings.filterwarnings('ignore')\n",
        "\n",
        "# Define the dataset\n",
        "data = {\n",
        "    \"LINE\": [12.5, 13.5, 12.5, 11.5, 12.5, 11.5, 12.5, 11.5, 12.5, 12.5],\n",
        "    \"OVER\": [-130, -110, -105, -115, 105, 100, -105, -130, -120, -115],\n",
        "    \"UNDER\": [100, -120, -125, -115, -135, -130, -125, 100, -110, -115],\n",
        "    \"TOTAL_REB\": [18, 11, 20, 14, 16, 9, 18, 10, 9, 12]\n",
        "}\n",
        "\n",
        "\n",
        "# Create a DataFrame\n",
        "df = pd.DataFrame(data)\n",
        "\n",
        "# Features and target\n",
        "X = df[['LINE', 'OVER', 'UNDER']].values\n",
        "y = df['TOTAL_REB'].values\n",
        "\n",
        "# Define new data for prediction\n",
        "new_data = np.array([[12.5, 110, -142]])\n",
        "\n",
        "# Define the XGBoost model\n",
        "model = XGBRegressor(random_state=42)\n",
        "\n",
        "# Define cross-validation strategy\n",
        "kf = KFold(n_splits=5, shuffle=True, random_state=42)\n",
        "\n",
        "# Calculate cross-validated R^2 scores\n",
        "scores = cross_val_score(model, X, y, cv=kf, scoring='r2')\n",
        "\n",
        "# Print the mean score\n",
        "print(f\"XGBoost CV R^2 Score: {scores.mean():.4f}\")\n",
        "\n",
        "# Train the model on the entire dataset\n",
        "model.fit(X, y)\n",
        "\n",
        "# Make a prediction on the new data\n",
        "predicted_reb = model.predict(new_data)[0]\n",
        "\n",
        "print(f\"\\nPredicted Total Rebounds for new data {new_data.tolist()[0]}: {predicted_reb:.2f}\")\n"
      ],
      "metadata": {
        "colab": {
          "base_uri": "https://localhost:8080/"
        },
        "outputId": "3b21f2ff-56a3-4a51-df3d-86ad75bda63c",
        "id": "IG_JYYlZ9hDh"
      },
      "execution_count": null,
      "outputs": [
        {
          "output_type": "stream",
          "name": "stdout",
          "text": [
            "XGBoost CV R^2 Score: -9.5336\n",
            "\n",
            "Predicted Total Rebounds for new data [12.5, 110.0, -142.0]: 16.00\n"
          ]
        }
      ]
    },
    {
      "cell_type": "markdown",
      "source": [
        "#SANTI ALDAMA"
      ],
      "metadata": {
        "id": "3K-WLxcR_8pe"
      }
    },
    {
      "cell_type": "code",
      "source": [],
      "metadata": {
        "id": "7FubBRLjAAAO"
      },
      "execution_count": null,
      "outputs": []
    },
    {
      "cell_type": "code",
      "source": [
        "import numpy as np\n",
        "import pandas as pd\n",
        "from xgboost import XGBRegressor\n",
        "from sklearn.model_selection import cross_val_score, KFold\n",
        "import warnings\n",
        "\n",
        "# Suppress warnings for cleaner output\n",
        "warnings.filterwarnings('ignore')\n",
        "\n",
        "# Define the dataset\n",
        "data = {\n",
        "    \"LINE\": [6.5, 6.5, 6.5, 7.5, 7.5, 7.5, 7.5, 6.5, 5.5, 6.5],\n",
        "    \"OVER\": [-135, -142, -154, -130, 110, -125, -115, -135, -135, -110],\n",
        "    \"UNDER\": [105, 110, 120, 100, -142, -105, -115, 105, 105, -120],\n",
        "    \"TOTAL_REB\": [3, 7, 6, 5, 12, 6, 13, 9, 3, 13],\n",
        "}\n",
        "\n",
        "\n",
        "# Create a DataFrame\n",
        "df = pd.DataFrame(data)\n",
        "\n",
        "# Features and target\n",
        "X = df[['LINE', 'OVER', 'UNDER']].values\n",
        "y = df['TOTAL_REB'].values\n",
        "\n",
        "# Define new data for prediction\n",
        "new_data = np.array([[5.5, -120, -110]])\n",
        "\n",
        "# Define the XGBoost model\n",
        "model = XGBRegressor(random_state=42)\n",
        "\n",
        "# Define cross-validation strategy\n",
        "kf = KFold(n_splits=5, shuffle=True, random_state=42)\n",
        "\n",
        "# Calculate cross-validated R^2 scores\n",
        "scores = cross_val_score(model, X, y, cv=kf, scoring='r2')\n",
        "\n",
        "# Print the mean score\n",
        "print(f\"XGBoost CV R^2 Score: {scores.mean():.4f}\")\n",
        "\n",
        "# Train the model on the entire dataset\n",
        "model.fit(X, y)\n",
        "\n",
        "# Make a prediction on the new data\n",
        "predicted_reb = model.predict(new_data)[0]\n",
        "\n",
        "print(f\"\\nPredicted Total Rebounds for new data {new_data.tolist()[0]}: {predicted_reb:.2f}\")\n"
      ],
      "metadata": {
        "colab": {
          "base_uri": "https://localhost:8080/"
        },
        "outputId": "6bbb18e1-8db4-4818-e7fb-bfaff27f1397",
        "id": "QjINRuVVABnI"
      },
      "execution_count": null,
      "outputs": [
        {
          "output_type": "stream",
          "name": "stdout",
          "text": [
            "XGBoost CV R^2 Score: -3.2489\n",
            "\n",
            "Predicted Total Rebounds for new data [5.5, -120.0, -110.0]: 3.00\n"
          ]
        }
      ]
    },
    {
      "cell_type": "markdown",
      "source": [
        "#KARL TOWN"
      ],
      "metadata": {
        "id": "zhodvc2xBBZm"
      }
    },
    {
      "cell_type": "code",
      "source": [],
      "metadata": {
        "id": "I0VyO532BDGN"
      },
      "execution_count": null,
      "outputs": []
    },
    {
      "cell_type": "code",
      "source": [
        "import numpy as np\n",
        "import pandas as pd\n",
        "from xgboost import XGBRegressor\n",
        "from sklearn.model_selection import cross_val_score, KFold\n",
        "import warnings\n",
        "\n",
        "# Suppress warnings for cleaner output\n",
        "warnings.filterwarnings('ignore')\n",
        "\n",
        "# Define the dataset\n",
        "data = {\n",
        "    \"LINE\": [11.5, 10.5, 12.5, 11.5, 11.5, 10.5, 10.5, 10.5, 10.5, 10.5],\n",
        "    \"OVER\": [-110, -142, -105, -120, -105, -130, 100, 105, -115, -110],\n",
        "    \"UNDER\": [-120, 110, -125, -110, -125, 100, -130, -135, -115, -120],\n",
        "    \"TOTAL_REB\": [10, 13, 9, 11, 16, 19, 11, 13, 10, 15]\n",
        "}\n",
        "\n",
        "\n",
        "\n",
        "# Create a DataFrame\n",
        "df = pd.DataFrame(data)\n",
        "\n",
        "# Features and target\n",
        "X = df[['LINE', 'OVER', 'UNDER']].values\n",
        "y = df['TOTAL_REB'].values\n",
        "\n",
        "# Define new data for prediction\n",
        "new_data = np.array([[11.5, -115, -115]])\n",
        "\n",
        "# Define the XGBoost model\n",
        "model = XGBRegressor(random_state=42)\n",
        "\n",
        "# Define cross-validation strategy\n",
        "kf = KFold(n_splits=5, shuffle=True, random_state=42)\n",
        "\n",
        "# Calculate cross-validated R^2 scores\n",
        "scores = cross_val_score(model, X, y, cv=kf, scoring='r2')\n",
        "\n",
        "# Print the mean score\n",
        "print(f\"XGBoost CV R^2 Score: {scores.mean():.4f}\")\n",
        "\n",
        "# Train the model on the entire dataset\n",
        "model.fit(X, y)\n",
        "\n",
        "# Make a prediction on the new data\n",
        "predicted_reb = model.predict(new_data)[0]\n",
        "\n",
        "print(f\"\\nPredicted Total Rebounds for new data {new_data.tolist()[0]}: {predicted_reb:.2f}\")\n"
      ],
      "metadata": {
        "colab": {
          "base_uri": "https://localhost:8080/"
        },
        "outputId": "e5ec83b9-87e5-46b6-8fc2-405f2f4f8e45",
        "id": "IxXq0kJwBDXG"
      },
      "execution_count": null,
      "outputs": [
        {
          "output_type": "stream",
          "name": "stdout",
          "text": [
            "XGBoost CV R^2 Score: -27.4072\n",
            "\n",
            "Predicted Total Rebounds for new data [11.5, -115.0, -115.0]: 11.00\n"
          ]
        }
      ]
    },
    {
      "cell_type": "markdown",
      "source": [
        "#JOSH HART"
      ],
      "metadata": {
        "id": "j0pQl-zrCTJa"
      }
    },
    {
      "cell_type": "code",
      "source": [],
      "metadata": {
        "id": "ZbaXrhDvCVES"
      },
      "execution_count": null,
      "outputs": []
    },
    {
      "cell_type": "code",
      "source": [
        "import numpy as np\n",
        "import pandas as pd\n",
        "from xgboost import XGBRegressor\n",
        "from sklearn.model_selection import cross_val_score, KFold\n",
        "import warnings\n",
        "\n",
        "# Suppress warnings for cleaner output\n",
        "warnings.filterwarnings('ignore')\n",
        "\n",
        "# Define the dataset\n",
        "data = {\n",
        "    \"LINE\": [10.5, 9.5, 9.5, 8.5, 9.5, 9.5, 10.5, 9.5, 9.5, 8.5],\n",
        "    \"OVER\": [-135, -105, -110, -162, 100, -125, 110, -115, 110, -115],\n",
        "    \"UNDER\": [105, -125, -120, 126, -130, -105, -142, -115, -140, -115],\n",
        "    \"TOTAL_REB\": [9, 8, 12, 10, 9, 8, 4, 9, 14, 13]\n",
        "}\n",
        "\n",
        "\n",
        "\n",
        "\n",
        "# Create a DataFrame\n",
        "df = pd.DataFrame(data)\n",
        "\n",
        "# Features and target\n",
        "X = df[['LINE', 'OVER', 'UNDER']].values\n",
        "y = df['TOTAL_REB'].values\n",
        "\n",
        "# Define new data for prediction\n",
        "new_data = np.array([[9.5, -120, -110]])\n",
        "\n",
        "# Define the XGBoost model\n",
        "model = XGBRegressor(random_state=42)\n",
        "\n",
        "# Define cross-validation strategy\n",
        "kf = KFold(n_splits=5, shuffle=True, random_state=42)\n",
        "\n",
        "# Calculate cross-validated R^2 scores\n",
        "scores = cross_val_score(model, X, y, cv=kf, scoring='r2')\n",
        "\n",
        "# Print the mean score\n",
        "print(f\"XGBoost CV R^2 Score: {scores.mean():.4f}\")\n",
        "\n",
        "# Train the model on the entire dataset\n",
        "model.fit(X, y)\n",
        "\n",
        "# Make a prediction on the new data\n",
        "predicted_reb = model.predict(new_data)[0]\n",
        "\n",
        "print(f\"\\nPredicted Total Rebounds for new data {new_data.tolist()[0]}: {predicted_reb:.2f}\")\n"
      ],
      "metadata": {
        "colab": {
          "base_uri": "https://localhost:8080/"
        },
        "outputId": "5b9a023c-c788-48ca-c3b6-971c70030cd7",
        "id": "Mdv8ySVXCVTH"
      },
      "execution_count": null,
      "outputs": [
        {
          "output_type": "stream",
          "name": "stdout",
          "text": [
            "XGBoost CV R^2 Score: -14.1597\n",
            "\n",
            "Predicted Total Rebounds for new data [9.5, -120.0, -110.0]: 8.00\n"
          ]
        }
      ]
    },
    {
      "cell_type": "markdown",
      "source": [
        "#BENN SIMMONS"
      ],
      "metadata": {
        "id": "n4e1wIwNEn5u"
      }
    },
    {
      "cell_type": "code",
      "source": [],
      "metadata": {
        "id": "r03Y2upLEp72"
      },
      "execution_count": null,
      "outputs": []
    },
    {
      "cell_type": "code",
      "source": [
        "import numpy as np\n",
        "import pandas as pd\n",
        "from xgboost import XGBRegressor\n",
        "from sklearn.model_selection import cross_val_score, KFold\n",
        "import warnings\n",
        "\n",
        "# Suppress warnings for cleaner output\n",
        "warnings.filterwarnings('ignore')\n",
        "\n",
        "# Define the dataset\n",
        "data = {\n",
        "    \"LINE\": [6.5, 5.5, 5.5, 6.5, 6.5, 6.5, 6.5, 6.5, 7.5],\n",
        "    \"OVER\": [-135, -120, -144, -115, 110, -120, -110, 100, -136],\n",
        "    \"UNDER\": [105, -110, 118, -115, -140, -110, -120, -130, 106],\n",
        "    \"TOTAL_REB\": [7, 5, 6, 6, 8, 5, 6, 6, 5]\n",
        "}\n",
        "\n",
        "\n",
        "\n",
        "\n",
        "\n",
        "# Create a DataFrame\n",
        "df = pd.DataFrame(data)\n",
        "\n",
        "# Features and target\n",
        "X = df[['LINE', 'OVER', 'UNDER']].values\n",
        "y = df['TOTAL_REB'].values\n",
        "\n",
        "# Define new data for prediction\n",
        "new_data = np.array([[6.5, -110, -120]])\n",
        "\n",
        "# Define the XGBoost model\n",
        "model = XGBRegressor(random_state=42)\n",
        "\n",
        "# Define cross-validation strategy\n",
        "kf = KFold(n_splits=5, shuffle=True, random_state=42)\n",
        "\n",
        "# Calculate cross-validated R^2 scores\n",
        "scores = cross_val_score(model, X, y, cv=kf, scoring='r2')\n",
        "\n",
        "# Print the mean score\n",
        "print(f\"XGBoost CV R^2 Score: {scores.mean():.4f}\")\n",
        "\n",
        "# Train the model on the entire dataset\n",
        "model.fit(X, y)\n",
        "\n",
        "# Make a prediction on the new data\n",
        "predicted_reb = model.predict(new_data)[0]\n",
        "\n",
        "print(f\"\\nPredicted Total Rebounds for new data {new_data.tolist()[0]}: {predicted_reb:.2f}\")\n"
      ],
      "metadata": {
        "colab": {
          "base_uri": "https://localhost:8080/"
        },
        "outputId": "7acc8c14-82cd-4f7e-bd8c-55a66c668c5c",
        "id": "eVbUOpNMEqKr"
      },
      "execution_count": null,
      "outputs": [
        {
          "output_type": "stream",
          "name": "stdout",
          "text": [
            "XGBoost CV R^2 Score: nan\n",
            "\n",
            "Predicted Total Rebounds for new data [6.5, -110.0, -120.0]: 6.00\n"
          ]
        }
      ]
    },
    {
      "cell_type": "markdown",
      "source": [
        "#OG ANENOBY"
      ],
      "metadata": {
        "id": "f4TSE9NsFXdb"
      }
    },
    {
      "cell_type": "code",
      "source": [],
      "metadata": {
        "id": "Q53ZPYyqFZlk"
      },
      "execution_count": null,
      "outputs": []
    },
    {
      "cell_type": "code",
      "source": [
        "import numpy as np\n",
        "import pandas as pd\n",
        "from xgboost import XGBRegressor\n",
        "from sklearn.model_selection import cross_val_score, KFold\n",
        "import warnings\n",
        "\n",
        "# Suppress warnings for cleaner output\n",
        "warnings.filterwarnings('ignore')\n",
        "\n",
        "# Define the dataset\n",
        "data = {\n",
        "    'LINE': [5.5, 4.5, 4.5, 4.5, 4.5, 4.5, 4.5, 4.5, 4.5, 4.5],\n",
        "    'OVER': [-110, -154, -115, -142, -162, 100, -110, 100, -115, -120],\n",
        "    'UNDER': [-120, 120, -115, 110, 126, -130, -120, -130, -115, -110],\n",
        "    'TOTAL_REB': [8, 9, 6, 4, 6, 6, 6, 4, 3, 2]\n",
        "}\n",
        "\n",
        "\n",
        "\n",
        "\n",
        "\n",
        "\n",
        "# Create a DataFrame\n",
        "df = pd.DataFrame(data)\n",
        "\n",
        "# Features and target\n",
        "X = df[['LINE', 'OVER', 'UNDER']].values\n",
        "y = df['TOTAL_REB'].values\n",
        "\n",
        "# Define new data for prediction\n",
        "new_data = np.array([[5.5, -115, -115]])\n",
        "\n",
        "# Define the XGBoost model\n",
        "model = XGBRegressor(random_state=42)\n",
        "\n",
        "# Define cross-validation strategy\n",
        "kf = KFold(n_splits=5, shuffle=True, random_state=42)\n",
        "\n",
        "# Calculate cross-validated R^2 scores\n",
        "scores = cross_val_score(model, X, y, cv=kf, scoring='r2')\n",
        "\n",
        "# Print the mean score\n",
        "print(f\"XGBoost CV R^2 Score: {scores.mean():.4f}\")\n",
        "\n",
        "# Train the model on the entire dataset\n",
        "model.fit(X, y)\n",
        "\n",
        "# Make a prediction on the new data\n",
        "predicted_reb = model.predict(new_data)[0]\n",
        "\n",
        "print(f\"\\nPredicted Total Rebounds for new data {new_data.tolist()[0]}: {predicted_reb:.2f}\")\n"
      ],
      "metadata": {
        "colab": {
          "base_uri": "https://localhost:8080/"
        },
        "outputId": "65e0f96c-6bf1-4b91-f1a8-95951fc074c3",
        "id": "fmP4i8tDFhQZ"
      },
      "execution_count": null,
      "outputs": [
        {
          "output_type": "stream",
          "name": "stdout",
          "text": [
            "XGBoost CV R^2 Score: -4.2232\n",
            "\n",
            "Predicted Total Rebounds for new data [5.5, -115.0, -115.0]: 4.76\n"
          ]
        }
      ]
    },
    {
      "cell_type": "markdown",
      "source": [
        "#ALPEREN SENGUN"
      ],
      "metadata": {
        "id": "RpzuTKhaGfBE"
      }
    },
    {
      "cell_type": "code",
      "source": [],
      "metadata": {
        "id": "_GWozTrjGgv9"
      },
      "execution_count": null,
      "outputs": []
    },
    {
      "cell_type": "code",
      "source": [
        "import numpy as np\n",
        "import pandas as pd\n",
        "from xgboost import XGBRegressor\n",
        "from sklearn.model_selection import cross_val_score, KFold\n",
        "import warnings\n",
        "\n",
        "# Suppress warnings for cleaner output\n",
        "warnings.filterwarnings('ignore')\n",
        "\n",
        "# Define the dataset\n",
        "data = {\n",
        "    \"LINE\": [10.5, 9.5, 10.5, 9.5, 10.5, 10.5, 9.5, 10.5, 9.5, 9.5],\n",
        "    \"OVER\": [-105, -142, -105, -142, 115, -105, 115, -130, -105, 114],\n",
        "    \"UNDER\": [-125, 110, -125, 110, -148, -125, -148, 100, -125, -145],\n",
        "    \"TOTAL_REB\": [10, 11, 17, 10, 9, 5, 14, 10, 12, 12],\n",
        "}\n",
        "\n",
        "\n",
        "# Create a DataFrame\n",
        "df = pd.DataFrame(data)\n",
        "\n",
        "# Features and target\n",
        "X = df[['LINE', 'OVER', 'UNDER']].values\n",
        "y = df['TOTAL_REB'].values\n",
        "\n",
        "# Define new data for prediction\n",
        "new_data = np.array([[10.5, 100, -130]])\n",
        "\n",
        "# Define the XGBoost model\n",
        "model = XGBRegressor(random_state=42)\n",
        "\n",
        "# Define cross-validation strategy\n",
        "kf = KFold(n_splits=5, shuffle=True, random_state=42)\n",
        "\n",
        "# Calculate cross-validated R^2 scores\n",
        "scores = cross_val_score(model, X, y, cv=kf, scoring='r2')\n",
        "\n",
        "# Print the mean score\n",
        "print(f\"XGBoost CV R^2 Score: {scores.mean():.4f}\")\n",
        "\n",
        "# Train the model on the entire dataset\n",
        "model.fit(X, y)\n",
        "\n",
        "# Make a prediction on the new data\n",
        "predicted_reb = model.predict(new_data)[0]\n",
        "\n",
        "print(f\"\\nPredicted Total Rebounds for new data {new_data.tolist()[0]}: {predicted_reb:.2f}\")\n"
      ],
      "metadata": {
        "colab": {
          "base_uri": "https://localhost:8080/"
        },
        "outputId": "bc870875-eabb-4fb6-86a1-45f54ae4f5e6",
        "id": "v0e90SP2GivV"
      },
      "execution_count": null,
      "outputs": [
        {
          "output_type": "stream",
          "name": "stdout",
          "text": [
            "XGBoost CV R^2 Score: -4.5388\n",
            "\n",
            "Predicted Total Rebounds for new data [10.5, 100.0, -130.0]: 10.67\n"
          ]
        }
      ]
    },
    {
      "cell_type": "markdown",
      "source": [
        "#NIKOLA VUCEVIC"
      ],
      "metadata": {
        "id": "RDOz0sZbHSVX"
      }
    },
    {
      "cell_type": "code",
      "source": [],
      "metadata": {
        "id": "jKktIdyaHVYa"
      },
      "execution_count": null,
      "outputs": []
    },
    {
      "cell_type": "code",
      "source": [
        "import numpy as np\n",
        "import pandas as pd\n",
        "from xgboost import XGBRegressor\n",
        "from sklearn.model_selection import cross_val_score, KFold\n",
        "import warnings\n",
        "\n",
        "# Suppress warnings for cleaner output\n",
        "warnings.filterwarnings('ignore')\n",
        "\n",
        "# Define the dataset\n",
        "data = {\n",
        "    \"LINE\": [9.5, 9.5, 10.5, 10.5, 9.5, 10.5, 10.5, 10.5, 9.5, 10.5],\n",
        "    \"OVER\": [-130, 100, 105, 110, -125, -125, -135, -120, -120, -130],\n",
        "    \"UNDER\": [100, -130, -135, -142, -105, -105, 105, -110, -110, 100],\n",
        "    \"TOTAL_REB\": [8, 11, 8, 12, 5, 10, 10, 11, 14, 7],\n",
        "}\n",
        "\n",
        "\n",
        "# Create a DataFrame\n",
        "df = pd.DataFrame(data)\n",
        "\n",
        "# Features and target\n",
        "X = df[['LINE', 'OVER', 'UNDER']].values\n",
        "y = df['TOTAL_REB'].values\n",
        "\n",
        "# Define new data for prediction\n",
        "new_data = np.array([[10.5, 100, -135]])\n",
        "\n",
        "# Define the XGBoost model\n",
        "model = XGBRegressor(random_state=42)\n",
        "\n",
        "# Define cross-validation strategy\n",
        "kf = KFold(n_splits=5, shuffle=True, random_state=42)\n",
        "\n",
        "# Calculate cross-validated R^2 scores\n",
        "scores = cross_val_score(model, X, y, cv=kf, scoring='r2')\n",
        "\n",
        "# Print the mean score\n",
        "print(f\"XGBoost CV R^2 Score: {scores.mean():.4f}\")\n",
        "\n",
        "# Train the model on the entire dataset\n",
        "model.fit(X, y)\n",
        "\n",
        "# Make a prediction on the new data\n",
        "predicted_reb = model.predict(new_data)[0]\n",
        "\n",
        "print(f\"\\nPredicted Total Rebounds for new data {new_data.tolist()[0]}: {predicted_reb:.2f}\")\n"
      ],
      "metadata": {
        "colab": {
          "base_uri": "https://localhost:8080/"
        },
        "outputId": "8db76162-6ead-4c27-fccc-c7cc7f696c99",
        "id": "r6PJQkRCHVkt"
      },
      "execution_count": null,
      "outputs": [
        {
          "output_type": "stream",
          "name": "stdout",
          "text": [
            "XGBoost CV R^2 Score: -11.4691\n",
            "\n",
            "Predicted Total Rebounds for new data [10.5, 100.0, -135.0]: 8.78\n"
          ]
        }
      ]
    },
    {
      "cell_type": "markdown",
      "source": [
        "#JABARIN SMITH"
      ],
      "metadata": {
        "id": "ppd5Y1EcIGsy"
      }
    },
    {
      "cell_type": "code",
      "source": [],
      "metadata": {
        "id": "TEy0KY7uIIg6"
      },
      "execution_count": null,
      "outputs": []
    },
    {
      "cell_type": "code",
      "source": [
        "import numpy as np\n",
        "import pandas as pd\n",
        "from xgboost import XGBRegressor\n",
        "from sklearn.model_selection import cross_val_score, KFold\n",
        "import warnings\n",
        "\n",
        "# Suppress warnings for cleaner output\n",
        "warnings.filterwarnings('ignore')\n",
        "\n",
        "# Define the dataset\n",
        "data = {\n",
        "    'LINE': [5.5, 5.5, 6.5, 6.5, 6.5, 7.5, 6.5, 7.5, 6.5, 7.5],\n",
        "    'OVER': [100, -120, 110, -105, -110, 110, -110, -115, -145, -105],\n",
        "    'UNDER': [-130, -110, -142, -125, -120, -142, -120, -115, 114, -125],\n",
        "    'TOTAL_REB': [11, 4, 9, 7, 1, 4, 6, 7, 6, 8]\n",
        "}\n",
        "\n",
        "\n",
        "\n",
        "# Create a DataFrame\n",
        "df = pd.DataFrame(data)\n",
        "\n",
        "# Features and target\n",
        "X = df[['LINE', 'OVER', 'UNDER']].values\n",
        "y = df['TOTAL_REB'].values\n",
        "\n",
        "# Define new data for prediction\n",
        "new_data = np.array([[7.5, 100, -135]])\n",
        "\n",
        "# Define the XGBoost model\n",
        "model = XGBRegressor(random_state=42)\n",
        "\n",
        "# Define cross-validation strategy\n",
        "kf = KFold(n_splits=5, shuffle=True, random_state=42)\n",
        "\n",
        "# Calculate cross-validated R^2 scores\n",
        "scores = cross_val_score(model, X, y, cv=kf, scoring='r2')\n",
        "\n",
        "# Print the mean score\n",
        "print(f\"XGBoost CV R^2 Score: {scores.mean():.4f}\")\n",
        "\n",
        "# Train the model on the entire dataset\n",
        "model.fit(X, y)\n",
        "\n",
        "# Make a prediction on the new data\n",
        "predicted_reb = model.predict(new_data)[0]\n",
        "\n",
        "print(f\"\\nPredicted Total Rebounds for new data {new_data.tolist()[0]}: {predicted_reb:.2f}\")\n"
      ],
      "metadata": {
        "colab": {
          "base_uri": "https://localhost:8080/"
        },
        "outputId": "7723e466-acf4-4ac8-9371-16fba596b7b3",
        "id": "XfohnnfiIJ4O"
      },
      "execution_count": null,
      "outputs": [
        {
          "output_type": "stream",
          "name": "stdout",
          "text": [
            "XGBoost CV R^2 Score: -18.4534\n",
            "\n",
            "Predicted Total Rebounds for new data [7.5, 100.0, -135.0]: 6.20\n"
          ]
        }
      ]
    }
  ]
}