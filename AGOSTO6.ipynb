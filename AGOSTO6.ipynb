{
  "nbformat": 4,
  "nbformat_minor": 0,
  "metadata": {
    "colab": {
      "provenance": [],
      "authorship_tag": "ABX9TyNwOhMF2CAKjesKf92VDQWw",
      "include_colab_link": true
    },
    "kernelspec": {
      "name": "python3",
      "display_name": "Python 3"
    },
    "language_info": {
      "name": "python"
    }
  },
  "cells": [
    {
      "cell_type": "markdown",
      "metadata": {
        "id": "view-in-github",
        "colab_type": "text"
      },
      "source": [
        "<a href=\"https://colab.research.google.com/github/starlingomez/preworkmac/blob/master/AGOSTO6.ipynb\" target=\"_parent\"><img src=\"https://colab.research.google.com/assets/colab-badge.svg\" alt=\"Open In Colab\"/></a>"
      ]
    },
    {
      "cell_type": "code",
      "execution_count": null,
      "metadata": {
        "id": "P2DqMPp4E2Or"
      },
      "outputs": [],
      "source": []
    },
    {
      "cell_type": "markdown",
      "source": [
        "#DYLAN CEASE"
      ],
      "metadata": {
        "id": "I25uEEqHGIYa"
      }
    },
    {
      "cell_type": "code",
      "source": [],
      "metadata": {
        "id": "bDqtS-eHGLKq"
      },
      "execution_count": null,
      "outputs": []
    },
    {
      "cell_type": "code",
      "source": [
        "import pandas as pd\n",
        "import statsmodels.api as sm\n",
        "\n",
        "# Provided dataset\n",
        "data = {\n",
        "    \"ODD\": [8.5, 7.5, 7.5, 6.5, 6.5, 6.5, 7.5, 5.5, 6.5, 8.5],\n",
        "    \"OVER\": [118, -100, 120, -112, -136, -122, -105, -135, -125, 112],\n",
        "    \"UNDER\": [-150, -128, -152, -112, 106, -104, -120, 105, -105, -144],\n",
        "    \"STRIKEOUT\": [8, 5, 10, 9, 5, 8, 11, 10, 9, 6]\n",
        "}\n",
        "\n",
        "df = pd.DataFrame(data)\n",
        "\n",
        "# Define the independent variables (X) and the dependent variable (y)\n",
        "X = df[['ODD', 'OVER', 'UNDER']]\n",
        "y = df['STRIKEOUT']\n",
        "\n",
        "# Add a constant to the model (intercept)\n",
        "X = sm.add_constant(X)\n",
        "\n",
        "# Fit the Poisson regression model\n",
        "poisson_model = sm.GLM(y, X, family=sm.families.Poisson()).fit()\n",
        "\n",
        "# Summary of the model\n",
        "poisson_summary = poisson_model.summary()\n",
        "\n",
        "poisson_summary\n"
      ],
      "metadata": {
        "colab": {
          "base_uri": "https://localhost:8080/",
          "height": 332
        },
        "outputId": "6bd0db5b-6036-4f10-c104-958175cf281e",
        "id": "3Y9zObirCQxP"
      },
      "execution_count": 7,
      "outputs": [
        {
          "output_type": "execute_result",
          "data": {
            "text/plain": [
              "<class 'statsmodels.iolib.summary.Summary'>\n",
              "\"\"\"\n",
              "                 Generalized Linear Model Regression Results                  \n",
              "==============================================================================\n",
              "Dep. Variable:              STRIKEOUT   No. Observations:                   10\n",
              "Model:                            GLM   Df Residuals:                        6\n",
              "Model Family:                 Poisson   Df Model:                            3\n",
              "Link Function:                    Log   Scale:                          1.0000\n",
              "Method:                          IRLS   Log-Likelihood:                -21.367\n",
              "Date:                Tue, 06 Aug 2024   Deviance:                       3.5668\n",
              "Time:                        14:34:58   Pearson chi2:                     3.78\n",
              "No. Iterations:                     4   Pseudo R-squ. (CS):             0.1597\n",
              "Covariance Type:            nonrobust                                         \n",
              "==============================================================================\n",
              "                 coef    std err          z      P>|z|      [0.025      0.975]\n",
              "------------------------------------------------------------------------------\n",
              "const          4.1847      1.703      2.458      0.014       0.848       7.522\n",
              "ODD           -0.3069      0.243     -1.264      0.206      -0.783       0.169\n",
              "OVER           0.0012      0.002      0.725      0.468      -0.002       0.005\n",
              "UNDER         -0.0017      0.002     -0.979      0.327      -0.005       0.002\n",
              "==============================================================================\n",
              "\"\"\""
            ],
            "text/html": [
              "<table class=\"simpletable\">\n",
              "<caption>Generalized Linear Model Regression Results</caption>\n",
              "<tr>\n",
              "  <th>Dep. Variable:</th>       <td>STRIKEOUT</td>    <th>  No. Observations:  </th>  <td>    10</td> \n",
              "</tr>\n",
              "<tr>\n",
              "  <th>Model:</th>                  <td>GLM</td>       <th>  Df Residuals:      </th>  <td>     6</td> \n",
              "</tr>\n",
              "<tr>\n",
              "  <th>Model Family:</th>         <td>Poisson</td>     <th>  Df Model:          </th>  <td>     3</td> \n",
              "</tr>\n",
              "<tr>\n",
              "  <th>Link Function:</th>          <td>Log</td>       <th>  Scale:             </th> <td>  1.0000</td>\n",
              "</tr>\n",
              "<tr>\n",
              "  <th>Method:</th>                <td>IRLS</td>       <th>  Log-Likelihood:    </th> <td> -21.367</td>\n",
              "</tr>\n",
              "<tr>\n",
              "  <th>Date:</th>            <td>Tue, 06 Aug 2024</td> <th>  Deviance:          </th> <td>  3.5668</td>\n",
              "</tr>\n",
              "<tr>\n",
              "  <th>Time:</th>                <td>14:34:58</td>     <th>  Pearson chi2:      </th>  <td>  3.78</td> \n",
              "</tr>\n",
              "<tr>\n",
              "  <th>No. Iterations:</th>          <td>4</td>        <th>  Pseudo R-squ. (CS):</th>  <td>0.1597</td> \n",
              "</tr>\n",
              "<tr>\n",
              "  <th>Covariance Type:</th>     <td>nonrobust</td>    <th>                     </th>     <td> </td>   \n",
              "</tr>\n",
              "</table>\n",
              "<table class=\"simpletable\">\n",
              "<tr>\n",
              "    <td></td>       <th>coef</th>     <th>std err</th>      <th>z</th>      <th>P>|z|</th>  <th>[0.025</th>    <th>0.975]</th>  \n",
              "</tr>\n",
              "<tr>\n",
              "  <th>const</th> <td>    4.1847</td> <td>    1.703</td> <td>    2.458</td> <td> 0.014</td> <td>    0.848</td> <td>    7.522</td>\n",
              "</tr>\n",
              "<tr>\n",
              "  <th>ODD</th>   <td>   -0.3069</td> <td>    0.243</td> <td>   -1.264</td> <td> 0.206</td> <td>   -0.783</td> <td>    0.169</td>\n",
              "</tr>\n",
              "<tr>\n",
              "  <th>OVER</th>  <td>    0.0012</td> <td>    0.002</td> <td>    0.725</td> <td> 0.468</td> <td>   -0.002</td> <td>    0.005</td>\n",
              "</tr>\n",
              "<tr>\n",
              "  <th>UNDER</th> <td>   -0.0017</td> <td>    0.002</td> <td>   -0.979</td> <td> 0.327</td> <td>   -0.005</td> <td>    0.002</td>\n",
              "</tr>\n",
              "</table>"
            ],
            "text/latex": "\\begin{center}\n\\begin{tabular}{lclc}\n\\toprule\n\\textbf{Dep. Variable:}   &    STRIKEOUT     & \\textbf{  No. Observations:  } &       10    \\\\\n\\textbf{Model:}           &       GLM        & \\textbf{  Df Residuals:      } &        6    \\\\\n\\textbf{Model Family:}    &     Poisson      & \\textbf{  Df Model:          } &        3    \\\\\n\\textbf{Link Function:}   &       Log        & \\textbf{  Scale:             } &    1.0000   \\\\\n\\textbf{Method:}          &       IRLS       & \\textbf{  Log-Likelihood:    } &   -21.367   \\\\\n\\textbf{Date:}            & Tue, 06 Aug 2024 & \\textbf{  Deviance:          } &    3.5668   \\\\\n\\textbf{Time:}            &     14:34:58     & \\textbf{  Pearson chi2:      } &     3.78    \\\\\n\\textbf{No. Iterations:}  &        4         & \\textbf{  Pseudo R-squ. (CS):} &   0.1597    \\\\\n\\textbf{Covariance Type:} &    nonrobust     & \\textbf{                     } &             \\\\\n\\bottomrule\n\\end{tabular}\n\\begin{tabular}{lcccccc}\n               & \\textbf{coef} & \\textbf{std err} & \\textbf{z} & \\textbf{P$> |$z$|$} & \\textbf{[0.025} & \\textbf{0.975]}  \\\\\n\\midrule\n\\textbf{const} &       4.1847  &        1.703     &     2.458  &         0.014        &        0.848    &        7.522     \\\\\n\\textbf{ODD}   &      -0.3069  &        0.243     &    -1.264  &         0.206        &       -0.783    &        0.169     \\\\\n\\textbf{OVER}  &       0.0012  &        0.002     &     0.725  &         0.468        &       -0.002    &        0.005     \\\\\n\\textbf{UNDER} &      -0.0017  &        0.002     &    -0.979  &         0.327        &       -0.005    &        0.002     \\\\\n\\bottomrule\n\\end{tabular}\n%\\caption{Generalized Linear Model Regression Results}\n\\end{center}"
          },
          "metadata": {},
          "execution_count": 7
        }
      ]
    },
    {
      "cell_type": "code",
      "source": [],
      "metadata": {
        "id": "HcMZXnOFGRnJ"
      },
      "execution_count": null,
      "outputs": []
    },
    {
      "cell_type": "code",
      "source": [
        "# New game data\n",
        "new_game = pd.DataFrame({\n",
        "    'const': [1],  # Adding the constant term manually\n",
        "    'ODD': [7.5],\n",
        "    'OVER': [-113],\n",
        "    'UNDER': [-113]\n",
        "})\n",
        "\n",
        "# Predict the number of strikeouts\n",
        "predicted_strikeouts = poisson_model.predict(new_game)\n",
        "print(f\"Predicted Strikeouts: {predicted_strikeouts[0]}\")"
      ],
      "metadata": {
        "colab": {
          "base_uri": "https://localhost:8080/"
        },
        "outputId": "6428f468-7943-4534-8123-e6a80ca2d8a0",
        "id": "f151rMXfCsDg"
      },
      "execution_count": 8,
      "outputs": [
        {
          "output_type": "stream",
          "name": "stdout",
          "text": [
            "Predicted Strikeouts: 6.914633413451578\n"
          ]
        }
      ]
    },
    {
      "cell_type": "markdown",
      "source": [
        "#NICK LODOLO"
      ],
      "metadata": {
        "id": "PKM2xx7AILzn"
      }
    },
    {
      "cell_type": "code",
      "source": [],
      "metadata": {
        "id": "CSsZ0115IOHP"
      },
      "execution_count": null,
      "outputs": []
    },
    {
      "cell_type": "code",
      "source": [
        "import pandas as pd\n",
        "import statsmodels.api as sm\n",
        "\n",
        "# Provided dataset\n",
        "data = {\n",
        "    'ODD': [6.5, 6.5, 5.5, 6.5, 7.5, 6.5, 6.5, 5.5, 6.5, 5.5],\n",
        "    'OVER': [114, -128, -146, -111, 104, -118, 110, -105, 110, -158],\n",
        "    'UNDER': [-146, 102, 114, -115, -134, -108, -145, -125, -145, 124],\n",
        "    'STRIKEOUT': [3, 7, 6, 8, 3, 4, 4, 8, 5, 6]\n",
        "}\n",
        "\n",
        "df = pd.DataFrame(data)\n",
        "\n",
        "# Define the independent variables (X) and the dependent variable (y)\n",
        "X = df[['ODD', 'OVER', 'UNDER']]\n",
        "y = df['STRIKEOUT']\n",
        "\n",
        "# Add a constant to the model (intercept)\n",
        "X = sm.add_constant(X)\n",
        "\n",
        "# Fit the Poisson regression model\n",
        "poisson_model = sm.GLM(y, X, family=sm.families.Poisson()).fit()\n",
        "\n",
        "# Summary of the model\n",
        "poisson_summary = poisson_model.summary()\n",
        "\n",
        "poisson_summary\n"
      ],
      "metadata": {
        "colab": {
          "base_uri": "https://localhost:8080/",
          "height": 332
        },
        "outputId": "866a6bfd-78bd-44a4-d101-ce09197b1503",
        "id": "dyrIYUB-IQDn"
      },
      "execution_count": 11,
      "outputs": [
        {
          "output_type": "execute_result",
          "data": {
            "text/plain": [
              "<class 'statsmodels.iolib.summary.Summary'>\n",
              "\"\"\"\n",
              "                 Generalized Linear Model Regression Results                  \n",
              "==============================================================================\n",
              "Dep. Variable:              STRIKEOUT   No. Observations:                   10\n",
              "Model:                            GLM   Df Residuals:                        6\n",
              "Model Family:                 Poisson   Df Model:                            3\n",
              "Link Function:                    Log   Scale:                          1.0000\n",
              "Method:                          IRLS   Log-Likelihood:                -18.774\n",
              "Date:                Tue, 06 Aug 2024   Deviance:                       2.5536\n",
              "Time:                        14:48:41   Pearson chi2:                     2.47\n",
              "No. Iterations:                     4   Pseudo R-squ. (CS):             0.2996\n",
              "Covariance Type:            nonrobust                                         \n",
              "==============================================================================\n",
              "                 coef    std err          z      P>|z|      [0.025      0.975]\n",
              "------------------------------------------------------------------------------\n",
              "const          2.3726      1.899      1.249      0.212      -1.350       6.095\n",
              "ODD           -0.1336      0.300     -0.446      0.656      -0.721       0.454\n",
              "OVER          -0.0023      0.002     -1.244      0.213      -0.006       0.001\n",
              "UNDER         -0.0008      0.002     -0.506      0.613      -0.004       0.002\n",
              "==============================================================================\n",
              "\"\"\""
            ],
            "text/html": [
              "<table class=\"simpletable\">\n",
              "<caption>Generalized Linear Model Regression Results</caption>\n",
              "<tr>\n",
              "  <th>Dep. Variable:</th>       <td>STRIKEOUT</td>    <th>  No. Observations:  </th>  <td>    10</td> \n",
              "</tr>\n",
              "<tr>\n",
              "  <th>Model:</th>                  <td>GLM</td>       <th>  Df Residuals:      </th>  <td>     6</td> \n",
              "</tr>\n",
              "<tr>\n",
              "  <th>Model Family:</th>         <td>Poisson</td>     <th>  Df Model:          </th>  <td>     3</td> \n",
              "</tr>\n",
              "<tr>\n",
              "  <th>Link Function:</th>          <td>Log</td>       <th>  Scale:             </th> <td>  1.0000</td>\n",
              "</tr>\n",
              "<tr>\n",
              "  <th>Method:</th>                <td>IRLS</td>       <th>  Log-Likelihood:    </th> <td> -18.774</td>\n",
              "</tr>\n",
              "<tr>\n",
              "  <th>Date:</th>            <td>Tue, 06 Aug 2024</td> <th>  Deviance:          </th> <td>  2.5536</td>\n",
              "</tr>\n",
              "<tr>\n",
              "  <th>Time:</th>                <td>14:48:41</td>     <th>  Pearson chi2:      </th>  <td>  2.47</td> \n",
              "</tr>\n",
              "<tr>\n",
              "  <th>No. Iterations:</th>          <td>4</td>        <th>  Pseudo R-squ. (CS):</th>  <td>0.2996</td> \n",
              "</tr>\n",
              "<tr>\n",
              "  <th>Covariance Type:</th>     <td>nonrobust</td>    <th>                     </th>     <td> </td>   \n",
              "</tr>\n",
              "</table>\n",
              "<table class=\"simpletable\">\n",
              "<tr>\n",
              "    <td></td>       <th>coef</th>     <th>std err</th>      <th>z</th>      <th>P>|z|</th>  <th>[0.025</th>    <th>0.975]</th>  \n",
              "</tr>\n",
              "<tr>\n",
              "  <th>const</th> <td>    2.3726</td> <td>    1.899</td> <td>    1.249</td> <td> 0.212</td> <td>   -1.350</td> <td>    6.095</td>\n",
              "</tr>\n",
              "<tr>\n",
              "  <th>ODD</th>   <td>   -0.1336</td> <td>    0.300</td> <td>   -0.446</td> <td> 0.656</td> <td>   -0.721</td> <td>    0.454</td>\n",
              "</tr>\n",
              "<tr>\n",
              "  <th>OVER</th>  <td>   -0.0023</td> <td>    0.002</td> <td>   -1.244</td> <td> 0.213</td> <td>   -0.006</td> <td>    0.001</td>\n",
              "</tr>\n",
              "<tr>\n",
              "  <th>UNDER</th> <td>   -0.0008</td> <td>    0.002</td> <td>   -0.506</td> <td> 0.613</td> <td>   -0.004</td> <td>    0.002</td>\n",
              "</tr>\n",
              "</table>"
            ],
            "text/latex": "\\begin{center}\n\\begin{tabular}{lclc}\n\\toprule\n\\textbf{Dep. Variable:}   &    STRIKEOUT     & \\textbf{  No. Observations:  } &       10    \\\\\n\\textbf{Model:}           &       GLM        & \\textbf{  Df Residuals:      } &        6    \\\\\n\\textbf{Model Family:}    &     Poisson      & \\textbf{  Df Model:          } &        3    \\\\\n\\textbf{Link Function:}   &       Log        & \\textbf{  Scale:             } &    1.0000   \\\\\n\\textbf{Method:}          &       IRLS       & \\textbf{  Log-Likelihood:    } &   -18.774   \\\\\n\\textbf{Date:}            & Tue, 06 Aug 2024 & \\textbf{  Deviance:          } &    2.5536   \\\\\n\\textbf{Time:}            &     14:48:41     & \\textbf{  Pearson chi2:      } &     2.47    \\\\\n\\textbf{No. Iterations:}  &        4         & \\textbf{  Pseudo R-squ. (CS):} &   0.2996    \\\\\n\\textbf{Covariance Type:} &    nonrobust     & \\textbf{                     } &             \\\\\n\\bottomrule\n\\end{tabular}\n\\begin{tabular}{lcccccc}\n               & \\textbf{coef} & \\textbf{std err} & \\textbf{z} & \\textbf{P$> |$z$|$} & \\textbf{[0.025} & \\textbf{0.975]}  \\\\\n\\midrule\n\\textbf{const} &       2.3726  &        1.899     &     1.249  &         0.212        &       -1.350    &        6.095     \\\\\n\\textbf{ODD}   &      -0.1336  &        0.300     &    -0.446  &         0.656        &       -0.721    &        0.454     \\\\\n\\textbf{OVER}  &      -0.0023  &        0.002     &    -1.244  &         0.213        &       -0.006    &        0.001     \\\\\n\\textbf{UNDER} &      -0.0008  &        0.002     &    -0.506  &         0.613        &       -0.004    &        0.002     \\\\\n\\bottomrule\n\\end{tabular}\n%\\caption{Generalized Linear Model Regression Results}\n\\end{center}"
          },
          "metadata": {},
          "execution_count": 11
        }
      ]
    },
    {
      "cell_type": "code",
      "source": [],
      "metadata": {
        "id": "fGJcdPtrIiYF"
      },
      "execution_count": null,
      "outputs": []
    },
    {
      "cell_type": "code",
      "source": [
        "# New game data\n",
        "new_game = pd.DataFrame({\n",
        "    'const': [1],  # Adding the constant term manually\n",
        "    'ODD': [5.5],\n",
        "    'OVER': [-130],\n",
        "    'UNDER': [102]\n",
        "})\n",
        "\n",
        "# Predict the number of strikeouts\n",
        "predicted_strikeouts = poisson_model.predict(new_game)\n",
        "print(f\"Predicted Strikeouts: {predicted_strikeouts[0]}\")"
      ],
      "metadata": {
        "colab": {
          "base_uri": "https://localhost:8080/"
        },
        "outputId": "1efaf9df-6ff5-4703-f4e1-a13ab5d3a6b5",
        "id": "WyBtxdaLIlDV"
      },
      "execution_count": 10,
      "outputs": [
        {
          "output_type": "stream",
          "name": "stdout",
          "text": [
            "Predicted Strikeouts: 6.3810076968418254\n"
          ]
        }
      ]
    },
    {
      "cell_type": "markdown",
      "source": [
        "#MACKENZIE GORE"
      ],
      "metadata": {
        "id": "t77V2OieKkBo"
      }
    },
    {
      "cell_type": "code",
      "source": [],
      "metadata": {
        "id": "66VMhBu9LJaB"
      },
      "execution_count": null,
      "outputs": []
    },
    {
      "cell_type": "code",
      "source": [
        "import pandas as pd\n",
        "import statsmodels.api as sm\n",
        "\n",
        "# Provided dataset\n",
        "data = {\n",
        "    'ODD': [6.5, 6.5, 5.5, 5.5, 5.5, 6.5, 5.5, 6.5, 5.5, 4.5],\n",
        "    'OVER': [126, 124, -148, -130, -134, 124, -160, -135, 135, -162],\n",
        "    'UNDER': [-160, -158, 116, 102, 106, -158, 124, 105, -175, 126],\n",
        "    'STRIKEOUT': [7, 10, 7, 1, 8, 5, 4, 2, 3, 1]\n",
        "}\n",
        "\n",
        "df = pd.DataFrame(data)\n",
        "\n",
        "# Define the independent variables (X) and the dependent variable (y)\n",
        "X = df[['ODD', 'OVER', 'UNDER']]\n",
        "y = df['STRIKEOUT']\n",
        "\n",
        "# Add a constant to the model (intercept)\n",
        "X = sm.add_constant(X)\n",
        "\n",
        "# Fit the Poisson regression model\n",
        "poisson_model = sm.GLM(y, X, family=sm.families.Poisson()).fit()\n",
        "\n",
        "# Summary of the model\n",
        "poisson_summary = poisson_model.summary()\n",
        "\n",
        "poisson_summary\n"
      ],
      "metadata": {
        "colab": {
          "base_uri": "https://localhost:8080/",
          "height": 332
        },
        "outputId": "f5507bc9-2644-41ac-b6fb-d2944f52ab33",
        "id": "02av9rvJLJmp"
      },
      "execution_count": 12,
      "outputs": [
        {
          "output_type": "execute_result",
          "data": {
            "text/plain": [
              "<class 'statsmodels.iolib.summary.Summary'>\n",
              "\"\"\"\n",
              "                 Generalized Linear Model Regression Results                  \n",
              "==============================================================================\n",
              "Dep. Variable:              STRIKEOUT   No. Observations:                   10\n",
              "Model:                            GLM   Df Residuals:                        6\n",
              "Model Family:                 Poisson   Df Model:                            3\n",
              "Link Function:                    Log   Scale:                          1.0000\n",
              "Method:                          IRLS   Log-Likelihood:                -23.364\n",
              "Date:                Tue, 06 Aug 2024   Deviance:                       14.665\n",
              "Time:                        14:51:58   Pearson chi2:                     13.7\n",
              "No. Iterations:                     4   Pseudo R-squ. (CS):             0.3998\n",
              "Covariance Type:            nonrobust                                         \n",
              "==============================================================================\n",
              "                 coef    std err          z      P>|z|      [0.025      0.975]\n",
              "------------------------------------------------------------------------------\n",
              "const          2.6354      3.959      0.666      0.506      -5.124      10.395\n",
              "ODD            0.1520      0.385      0.394      0.693      -0.603       0.907\n",
              "OVER           0.0602      0.066      0.912      0.362      -0.069       0.190\n",
              "UNDER          0.0580      0.064      0.901      0.368      -0.068       0.184\n",
              "==============================================================================\n",
              "\"\"\""
            ],
            "text/html": [
              "<table class=\"simpletable\">\n",
              "<caption>Generalized Linear Model Regression Results</caption>\n",
              "<tr>\n",
              "  <th>Dep. Variable:</th>       <td>STRIKEOUT</td>    <th>  No. Observations:  </th>  <td>    10</td> \n",
              "</tr>\n",
              "<tr>\n",
              "  <th>Model:</th>                  <td>GLM</td>       <th>  Df Residuals:      </th>  <td>     6</td> \n",
              "</tr>\n",
              "<tr>\n",
              "  <th>Model Family:</th>         <td>Poisson</td>     <th>  Df Model:          </th>  <td>     3</td> \n",
              "</tr>\n",
              "<tr>\n",
              "  <th>Link Function:</th>          <td>Log</td>       <th>  Scale:             </th> <td>  1.0000</td>\n",
              "</tr>\n",
              "<tr>\n",
              "  <th>Method:</th>                <td>IRLS</td>       <th>  Log-Likelihood:    </th> <td> -23.364</td>\n",
              "</tr>\n",
              "<tr>\n",
              "  <th>Date:</th>            <td>Tue, 06 Aug 2024</td> <th>  Deviance:          </th> <td>  14.665</td>\n",
              "</tr>\n",
              "<tr>\n",
              "  <th>Time:</th>                <td>14:51:58</td>     <th>  Pearson chi2:      </th>  <td>  13.7</td> \n",
              "</tr>\n",
              "<tr>\n",
              "  <th>No. Iterations:</th>          <td>4</td>        <th>  Pseudo R-squ. (CS):</th>  <td>0.3998</td> \n",
              "</tr>\n",
              "<tr>\n",
              "  <th>Covariance Type:</th>     <td>nonrobust</td>    <th>                     </th>     <td> </td>   \n",
              "</tr>\n",
              "</table>\n",
              "<table class=\"simpletable\">\n",
              "<tr>\n",
              "    <td></td>       <th>coef</th>     <th>std err</th>      <th>z</th>      <th>P>|z|</th>  <th>[0.025</th>    <th>0.975]</th>  \n",
              "</tr>\n",
              "<tr>\n",
              "  <th>const</th> <td>    2.6354</td> <td>    3.959</td> <td>    0.666</td> <td> 0.506</td> <td>   -5.124</td> <td>   10.395</td>\n",
              "</tr>\n",
              "<tr>\n",
              "  <th>ODD</th>   <td>    0.1520</td> <td>    0.385</td> <td>    0.394</td> <td> 0.693</td> <td>   -0.603</td> <td>    0.907</td>\n",
              "</tr>\n",
              "<tr>\n",
              "  <th>OVER</th>  <td>    0.0602</td> <td>    0.066</td> <td>    0.912</td> <td> 0.362</td> <td>   -0.069</td> <td>    0.190</td>\n",
              "</tr>\n",
              "<tr>\n",
              "  <th>UNDER</th> <td>    0.0580</td> <td>    0.064</td> <td>    0.901</td> <td> 0.368</td> <td>   -0.068</td> <td>    0.184</td>\n",
              "</tr>\n",
              "</table>"
            ],
            "text/latex": "\\begin{center}\n\\begin{tabular}{lclc}\n\\toprule\n\\textbf{Dep. Variable:}   &    STRIKEOUT     & \\textbf{  No. Observations:  } &       10    \\\\\n\\textbf{Model:}           &       GLM        & \\textbf{  Df Residuals:      } &        6    \\\\\n\\textbf{Model Family:}    &     Poisson      & \\textbf{  Df Model:          } &        3    \\\\\n\\textbf{Link Function:}   &       Log        & \\textbf{  Scale:             } &    1.0000   \\\\\n\\textbf{Method:}          &       IRLS       & \\textbf{  Log-Likelihood:    } &   -23.364   \\\\\n\\textbf{Date:}            & Tue, 06 Aug 2024 & \\textbf{  Deviance:          } &    14.665   \\\\\n\\textbf{Time:}            &     14:51:58     & \\textbf{  Pearson chi2:      } &     13.7    \\\\\n\\textbf{No. Iterations:}  &        4         & \\textbf{  Pseudo R-squ. (CS):} &   0.3998    \\\\\n\\textbf{Covariance Type:} &    nonrobust     & \\textbf{                     } &             \\\\\n\\bottomrule\n\\end{tabular}\n\\begin{tabular}{lcccccc}\n               & \\textbf{coef} & \\textbf{std err} & \\textbf{z} & \\textbf{P$> |$z$|$} & \\textbf{[0.025} & \\textbf{0.975]}  \\\\\n\\midrule\n\\textbf{const} &       2.6354  &        3.959     &     0.666  &         0.506        &       -5.124    &       10.395     \\\\\n\\textbf{ODD}   &       0.1520  &        0.385     &     0.394  &         0.693        &       -0.603    &        0.907     \\\\\n\\textbf{OVER}  &       0.0602  &        0.066     &     0.912  &         0.362        &       -0.069    &        0.190     \\\\\n\\textbf{UNDER} &       0.0580  &        0.064     &     0.901  &         0.368        &       -0.068    &        0.184     \\\\\n\\bottomrule\n\\end{tabular}\n%\\caption{Generalized Linear Model Regression Results}\n\\end{center}"
          },
          "metadata": {},
          "execution_count": 12
        }
      ]
    },
    {
      "cell_type": "code",
      "source": [],
      "metadata": {
        "id": "k40ZOtjmLRmO"
      },
      "execution_count": null,
      "outputs": []
    },
    {
      "cell_type": "code",
      "source": [
        "# New game data\n",
        "new_game = pd.DataFrame({\n",
        "    'const': [1],  # Adding the constant term manually\n",
        "    'ODD': [6.5],\n",
        "    'OVER': [-108],\n",
        "    'UNDER': [-118]\n",
        "})\n",
        "\n",
        "# Predict the number of strikeouts\n",
        "predicted_strikeouts = poisson_model.predict(new_game)\n",
        "print(f\"Predicted Strikeouts: {predicted_strikeouts[0]}\")"
      ],
      "metadata": {
        "colab": {
          "base_uri": "https://localhost:8080/"
        },
        "outputId": "403df179-cb75-4bf2-9ee3-e571bca537ef",
        "id": "RL53XtCbLR1A"
      },
      "execution_count": 14,
      "outputs": [
        {
          "output_type": "stream",
          "name": "stdout",
          "text": [
            "Predicted Strikeouts: 5.97241517503051e-05\n"
          ]
        }
      ]
    },
    {
      "cell_type": "markdown",
      "source": [
        "#LUIS GIL"
      ],
      "metadata": {
        "id": "TSkgcXhJM9OY"
      }
    },
    {
      "cell_type": "code",
      "source": [],
      "metadata": {
        "id": "Kd7jtgxJM-_9"
      },
      "execution_count": null,
      "outputs": []
    },
    {
      "cell_type": "code",
      "source": [
        "import pandas as pd\n",
        "import statsmodels.api as sm\n",
        "\n",
        "# Provided dataset\n",
        "data = {\n",
        "    'ODD': [6.5, 6.5, 6.5, 6.5, 5.5, 6.5, 6.5, 5.5, 6.5, 6.5],\n",
        "    'OVER': [-150, 114, -111, 108, -148, -140, 114, -110, 115, 112],\n",
        "    'UNDER': [118, -146, -115, -138, 116, 110, -144, -120, -150, -142],\n",
        "    'STRIKEOUT': [6, 5, 6, 1, 2, 3, 9, 7, 6, 8]\n",
        "}\n",
        "\n",
        "df = pd.DataFrame(data)\n",
        "\n",
        "# Define the independent variables (X) and the dependent variable (y)\n",
        "X = df[['ODD', 'OVER', 'UNDER']]\n",
        "y = df['STRIKEOUT']\n",
        "\n",
        "# Add a constant to the model (intercept)\n",
        "X = sm.add_constant(X)\n",
        "\n",
        "# Fit the Poisson regression model\n",
        "poisson_model = sm.GLM(y, X, family=sm.families.Poisson()).fit()\n",
        "\n",
        "# Summary of the model\n",
        "poisson_summary = poisson_model.summary()\n",
        "\n",
        "poisson_summary\n"
      ],
      "metadata": {
        "colab": {
          "base_uri": "https://localhost:8080/",
          "height": 332
        },
        "outputId": "3f60c603-bcd3-4d72-f56b-05b03e8b62d8",
        "id": "aillLqweNAwV"
      },
      "execution_count": 16,
      "outputs": [
        {
          "output_type": "execute_result",
          "data": {
            "text/plain": [
              "<class 'statsmodels.iolib.summary.Summary'>\n",
              "\"\"\"\n",
              "                 Generalized Linear Model Regression Results                  \n",
              "==============================================================================\n",
              "Dep. Variable:              STRIKEOUT   No. Observations:                   10\n",
              "Model:                            GLM   Df Residuals:                        6\n",
              "Model Family:                 Poisson   Df Model:                            3\n",
              "Link Function:                    Log   Scale:                          1.0000\n",
              "Method:                          IRLS   Log-Likelihood:                -22.180\n",
              "Date:                Tue, 06 Aug 2024   Deviance:                       10.502\n",
              "Time:                        15:00:48   Pearson chi2:                     8.86\n",
              "No. Iterations:                     4   Pseudo R-squ. (CS):             0.2402\n",
              "Covariance Type:            nonrobust                                         \n",
              "==============================================================================\n",
              "                 coef    std err          z      P>|z|      [0.025      0.975]\n",
              "------------------------------------------------------------------------------\n",
              "const          0.1057      2.761      0.038      0.969      -5.307       5.518\n",
              "ODD            0.2138      0.429      0.498      0.619      -0.628       1.056\n",
              "OVER          -0.0013      0.002     -0.689      0.491      -0.005       0.002\n",
              "UNDER         -0.0029      0.002     -1.432      0.152      -0.007       0.001\n",
              "==============================================================================\n",
              "\"\"\""
            ],
            "text/html": [
              "<table class=\"simpletable\">\n",
              "<caption>Generalized Linear Model Regression Results</caption>\n",
              "<tr>\n",
              "  <th>Dep. Variable:</th>       <td>STRIKEOUT</td>    <th>  No. Observations:  </th>  <td>    10</td> \n",
              "</tr>\n",
              "<tr>\n",
              "  <th>Model:</th>                  <td>GLM</td>       <th>  Df Residuals:      </th>  <td>     6</td> \n",
              "</tr>\n",
              "<tr>\n",
              "  <th>Model Family:</th>         <td>Poisson</td>     <th>  Df Model:          </th>  <td>     3</td> \n",
              "</tr>\n",
              "<tr>\n",
              "  <th>Link Function:</th>          <td>Log</td>       <th>  Scale:             </th> <td>  1.0000</td>\n",
              "</tr>\n",
              "<tr>\n",
              "  <th>Method:</th>                <td>IRLS</td>       <th>  Log-Likelihood:    </th> <td> -22.180</td>\n",
              "</tr>\n",
              "<tr>\n",
              "  <th>Date:</th>            <td>Tue, 06 Aug 2024</td> <th>  Deviance:          </th> <td>  10.502</td>\n",
              "</tr>\n",
              "<tr>\n",
              "  <th>Time:</th>                <td>15:00:48</td>     <th>  Pearson chi2:      </th>  <td>  8.86</td> \n",
              "</tr>\n",
              "<tr>\n",
              "  <th>No. Iterations:</th>          <td>4</td>        <th>  Pseudo R-squ. (CS):</th>  <td>0.2402</td> \n",
              "</tr>\n",
              "<tr>\n",
              "  <th>Covariance Type:</th>     <td>nonrobust</td>    <th>                     </th>     <td> </td>   \n",
              "</tr>\n",
              "</table>\n",
              "<table class=\"simpletable\">\n",
              "<tr>\n",
              "    <td></td>       <th>coef</th>     <th>std err</th>      <th>z</th>      <th>P>|z|</th>  <th>[0.025</th>    <th>0.975]</th>  \n",
              "</tr>\n",
              "<tr>\n",
              "  <th>const</th> <td>    0.1057</td> <td>    2.761</td> <td>    0.038</td> <td> 0.969</td> <td>   -5.307</td> <td>    5.518</td>\n",
              "</tr>\n",
              "<tr>\n",
              "  <th>ODD</th>   <td>    0.2138</td> <td>    0.429</td> <td>    0.498</td> <td> 0.619</td> <td>   -0.628</td> <td>    1.056</td>\n",
              "</tr>\n",
              "<tr>\n",
              "  <th>OVER</th>  <td>   -0.0013</td> <td>    0.002</td> <td>   -0.689</td> <td> 0.491</td> <td>   -0.005</td> <td>    0.002</td>\n",
              "</tr>\n",
              "<tr>\n",
              "  <th>UNDER</th> <td>   -0.0029</td> <td>    0.002</td> <td>   -1.432</td> <td> 0.152</td> <td>   -0.007</td> <td>    0.001</td>\n",
              "</tr>\n",
              "</table>"
            ],
            "text/latex": "\\begin{center}\n\\begin{tabular}{lclc}\n\\toprule\n\\textbf{Dep. Variable:}   &    STRIKEOUT     & \\textbf{  No. Observations:  } &       10    \\\\\n\\textbf{Model:}           &       GLM        & \\textbf{  Df Residuals:      } &        6    \\\\\n\\textbf{Model Family:}    &     Poisson      & \\textbf{  Df Model:          } &        3    \\\\\n\\textbf{Link Function:}   &       Log        & \\textbf{  Scale:             } &    1.0000   \\\\\n\\textbf{Method:}          &       IRLS       & \\textbf{  Log-Likelihood:    } &   -22.180   \\\\\n\\textbf{Date:}            & Tue, 06 Aug 2024 & \\textbf{  Deviance:          } &    10.502   \\\\\n\\textbf{Time:}            &     15:00:48     & \\textbf{  Pearson chi2:      } &     8.86    \\\\\n\\textbf{No. Iterations:}  &        4         & \\textbf{  Pseudo R-squ. (CS):} &   0.2402    \\\\\n\\textbf{Covariance Type:} &    nonrobust     & \\textbf{                     } &             \\\\\n\\bottomrule\n\\end{tabular}\n\\begin{tabular}{lcccccc}\n               & \\textbf{coef} & \\textbf{std err} & \\textbf{z} & \\textbf{P$> |$z$|$} & \\textbf{[0.025} & \\textbf{0.975]}  \\\\\n\\midrule\n\\textbf{const} &       0.1057  &        2.761     &     0.038  &         0.969        &       -5.307    &        5.518     \\\\\n\\textbf{ODD}   &       0.2138  &        0.429     &     0.498  &         0.619        &       -0.628    &        1.056     \\\\\n\\textbf{OVER}  &      -0.0013  &        0.002     &    -0.689  &         0.491        &       -0.005    &        0.002     \\\\\n\\textbf{UNDER} &      -0.0029  &        0.002     &    -1.432  &         0.152        &       -0.007    &        0.001     \\\\\n\\bottomrule\n\\end{tabular}\n%\\caption{Generalized Linear Model Regression Results}\n\\end{center}"
          },
          "metadata": {},
          "execution_count": 16
        }
      ]
    },
    {
      "cell_type": "code",
      "source": [],
      "metadata": {
        "id": "XGqGYPCFNDdF"
      },
      "execution_count": null,
      "outputs": []
    },
    {
      "cell_type": "code",
      "source": [
        "# New game data\n",
        "new_game = pd.DataFrame({\n",
        "    'const': [1],  # Adding the constant term manually\n",
        "    'ODD': [6.5],\n",
        "    'OVER': [-122],\n",
        "    'UNDER': [-106]\n",
        "})\n",
        "\n",
        "# Predict the number of strikeouts\n",
        "predicted_strikeouts = poisson_model.predict(new_game)\n",
        "print(f\"Predicted Strikeouts: {predicted_strikeouts[0]}\")"
      ],
      "metadata": {
        "colab": {
          "base_uri": "https://localhost:8080/"
        },
        "outputId": "c2b424f0-4b6c-49d6-a5c7-4a18efc2d530",
        "id": "jvOGS3G4NDpW"
      },
      "execution_count": 17,
      "outputs": [
        {
          "output_type": "stream",
          "name": "stdout",
          "text": [
            "Predicted Strikeouts: 7.084859570726044\n"
          ]
        }
      ]
    },
    {
      "cell_type": "markdown",
      "source": [
        "#GRAYSON RODRIGUEZ"
      ],
      "metadata": {
        "id": "h8u0filtOSB7"
      }
    },
    {
      "cell_type": "code",
      "source": [],
      "metadata": {
        "id": "vBsoxalLOWC9"
      },
      "execution_count": null,
      "outputs": []
    },
    {
      "cell_type": "code",
      "source": [
        "import pandas as pd\n",
        "import statsmodels.api as sm\n",
        "\n",
        "# Provided dataset\n",
        "data = {\n",
        "    \"ODD\": [6.5, 6.5, 5.5, 5.5, 7.5, 6.5, 6.5, 5.5, 4.5, 5.5],\n",
        "    \"OVER\": [-102, 116, -113, -102, 126, -136, 140, -160, -135, -112],\n",
        "    \"UNDER\": [-125, -148, -113, -124, -162, 106, -185, 120, 105, -112],\n",
        "    \"STRIKEOUT\": [6, 6, 8, 4, 8, 8, 7, 8, 2, 8]\n",
        "}\n",
        "\n",
        "df = pd.DataFrame(data)\n",
        "\n",
        "# Define the independent variables (X) and the dependent variable (y)\n",
        "X = df[['ODD', 'OVER', 'UNDER']]\n",
        "y = df['STRIKEOUT']\n",
        "\n",
        "# Add a constant to the model (intercept)\n",
        "X = sm.add_constant(X)\n",
        "\n",
        "# Fit the Poisson regression model\n",
        "poisson_model = sm.GLM(y, X, family=sm.families.Poisson()).fit()\n",
        "\n",
        "# Summary of the model\n",
        "poisson_summary = poisson_model.summary()\n",
        "\n",
        "poisson_summary\n"
      ],
      "metadata": {
        "colab": {
          "base_uri": "https://localhost:8080/",
          "height": 332
        },
        "outputId": "3fbfd813-0173-429c-ddba-f651cb96e763",
        "id": "N3Hkpmp8OXuS"
      },
      "execution_count": 18,
      "outputs": [
        {
          "output_type": "execute_result",
          "data": {
            "text/plain": [
              "<class 'statsmodels.iolib.summary.Summary'>\n",
              "\"\"\"\n",
              "                 Generalized Linear Model Regression Results                  \n",
              "==============================================================================\n",
              "Dep. Variable:              STRIKEOUT   No. Observations:                   10\n",
              "Model:                            GLM   Df Residuals:                        6\n",
              "Model Family:                 Poisson   Df Model:                            3\n",
              "Link Function:                    Log   Scale:                          1.0000\n",
              "Method:                          IRLS   Log-Likelihood:                -20.746\n",
              "Date:                Tue, 06 Aug 2024   Deviance:                       4.7989\n",
              "Time:                        15:06:19   Pearson chi2:                     4.56\n",
              "No. Iterations:                     4   Pseudo R-squ. (CS):             0.2079\n",
              "Covariance Type:            nonrobust                                         \n",
              "==============================================================================\n",
              "                 coef    std err          z      P>|z|      [0.025      0.975]\n",
              "------------------------------------------------------------------------------\n",
              "const         -0.1199      1.380     -0.087      0.931      -2.824       2.584\n",
              "ODD            0.3155      0.215      1.468      0.142      -0.106       0.737\n",
              "OVER          -0.0013      0.002     -0.734      0.463      -0.005       0.002\n",
              "UNDER         -0.0003      0.001     -0.197      0.844      -0.003       0.003\n",
              "==============================================================================\n",
              "\"\"\""
            ],
            "text/html": [
              "<table class=\"simpletable\">\n",
              "<caption>Generalized Linear Model Regression Results</caption>\n",
              "<tr>\n",
              "  <th>Dep. Variable:</th>       <td>STRIKEOUT</td>    <th>  No. Observations:  </th>  <td>    10</td> \n",
              "</tr>\n",
              "<tr>\n",
              "  <th>Model:</th>                  <td>GLM</td>       <th>  Df Residuals:      </th>  <td>     6</td> \n",
              "</tr>\n",
              "<tr>\n",
              "  <th>Model Family:</th>         <td>Poisson</td>     <th>  Df Model:          </th>  <td>     3</td> \n",
              "</tr>\n",
              "<tr>\n",
              "  <th>Link Function:</th>          <td>Log</td>       <th>  Scale:             </th> <td>  1.0000</td>\n",
              "</tr>\n",
              "<tr>\n",
              "  <th>Method:</th>                <td>IRLS</td>       <th>  Log-Likelihood:    </th> <td> -20.746</td>\n",
              "</tr>\n",
              "<tr>\n",
              "  <th>Date:</th>            <td>Tue, 06 Aug 2024</td> <th>  Deviance:          </th> <td>  4.7989</td>\n",
              "</tr>\n",
              "<tr>\n",
              "  <th>Time:</th>                <td>15:06:19</td>     <th>  Pearson chi2:      </th>  <td>  4.56</td> \n",
              "</tr>\n",
              "<tr>\n",
              "  <th>No. Iterations:</th>          <td>4</td>        <th>  Pseudo R-squ. (CS):</th>  <td>0.2079</td> \n",
              "</tr>\n",
              "<tr>\n",
              "  <th>Covariance Type:</th>     <td>nonrobust</td>    <th>                     </th>     <td> </td>   \n",
              "</tr>\n",
              "</table>\n",
              "<table class=\"simpletable\">\n",
              "<tr>\n",
              "    <td></td>       <th>coef</th>     <th>std err</th>      <th>z</th>      <th>P>|z|</th>  <th>[0.025</th>    <th>0.975]</th>  \n",
              "</tr>\n",
              "<tr>\n",
              "  <th>const</th> <td>   -0.1199</td> <td>    1.380</td> <td>   -0.087</td> <td> 0.931</td> <td>   -2.824</td> <td>    2.584</td>\n",
              "</tr>\n",
              "<tr>\n",
              "  <th>ODD</th>   <td>    0.3155</td> <td>    0.215</td> <td>    1.468</td> <td> 0.142</td> <td>   -0.106</td> <td>    0.737</td>\n",
              "</tr>\n",
              "<tr>\n",
              "  <th>OVER</th>  <td>   -0.0013</td> <td>    0.002</td> <td>   -0.734</td> <td> 0.463</td> <td>   -0.005</td> <td>    0.002</td>\n",
              "</tr>\n",
              "<tr>\n",
              "  <th>UNDER</th> <td>   -0.0003</td> <td>    0.001</td> <td>   -0.197</td> <td> 0.844</td> <td>   -0.003</td> <td>    0.003</td>\n",
              "</tr>\n",
              "</table>"
            ],
            "text/latex": "\\begin{center}\n\\begin{tabular}{lclc}\n\\toprule\n\\textbf{Dep. Variable:}   &    STRIKEOUT     & \\textbf{  No. Observations:  } &       10    \\\\\n\\textbf{Model:}           &       GLM        & \\textbf{  Df Residuals:      } &        6    \\\\\n\\textbf{Model Family:}    &     Poisson      & \\textbf{  Df Model:          } &        3    \\\\\n\\textbf{Link Function:}   &       Log        & \\textbf{  Scale:             } &    1.0000   \\\\\n\\textbf{Method:}          &       IRLS       & \\textbf{  Log-Likelihood:    } &   -20.746   \\\\\n\\textbf{Date:}            & Tue, 06 Aug 2024 & \\textbf{  Deviance:          } &    4.7989   \\\\\n\\textbf{Time:}            &     15:06:19     & \\textbf{  Pearson chi2:      } &     4.56    \\\\\n\\textbf{No. Iterations:}  &        4         & \\textbf{  Pseudo R-squ. (CS):} &   0.2079    \\\\\n\\textbf{Covariance Type:} &    nonrobust     & \\textbf{                     } &             \\\\\n\\bottomrule\n\\end{tabular}\n\\begin{tabular}{lcccccc}\n               & \\textbf{coef} & \\textbf{std err} & \\textbf{z} & \\textbf{P$> |$z$|$} & \\textbf{[0.025} & \\textbf{0.975]}  \\\\\n\\midrule\n\\textbf{const} &      -0.1199  &        1.380     &    -0.087  &         0.931        &       -2.824    &        2.584     \\\\\n\\textbf{ODD}   &       0.3155  &        0.215     &     1.468  &         0.142        &       -0.106    &        0.737     \\\\\n\\textbf{OVER}  &      -0.0013  &        0.002     &    -0.734  &         0.463        &       -0.005    &        0.002     \\\\\n\\textbf{UNDER} &      -0.0003  &        0.001     &    -0.197  &         0.844        &       -0.003    &        0.003     \\\\\n\\bottomrule\n\\end{tabular}\n%\\caption{Generalized Linear Model Regression Results}\n\\end{center}"
          },
          "metadata": {},
          "execution_count": 18
        }
      ]
    },
    {
      "cell_type": "code",
      "source": [
        "# New game data\n",
        "new_game = pd.DataFrame({\n",
        "    'const': [1],  # Adding the constant term manually\n",
        "    'ODD': [5.5],\n",
        "    'OVER': [-122],\n",
        "    'UNDER': [-104]\n",
        "})\n",
        "\n",
        "# Predict the number of strikeouts\n",
        "predicted_strikeouts = poisson_model.predict(new_game)\n",
        "print(f\"Predicted Strikeouts: {predicted_strikeouts[0]}\")"
      ],
      "metadata": {
        "colab": {
          "base_uri": "https://localhost:8080/"
        },
        "outputId": "5cac75bd-fe29-471b-b5d8-81bd3a7a2c51",
        "id": "T6-caFwtObzc"
      },
      "execution_count": 19,
      "outputs": [
        {
          "output_type": "stream",
          "name": "stdout",
          "text": [
            "Predicted Strikeouts: 6.069636417159898\n"
          ]
        }
      ]
    },
    {
      "cell_type": "markdown",
      "source": [
        "#COLIN REA"
      ],
      "metadata": {
        "id": "nwe2ogGQP4dB"
      }
    },
    {
      "cell_type": "code",
      "source": [],
      "metadata": {
        "id": "AL6iPL8FP6JX"
      },
      "execution_count": null,
      "outputs": []
    },
    {
      "cell_type": "code",
      "source": [
        "import pandas as pd\n",
        "import statsmodels.api as sm\n",
        "\n",
        "# Provided dataset\n",
        "data = {\n",
        "    \"ODD\": [3.5, 4.5, 3.5, 4.5, 3.5, 4.5, 4.5, 4.5, 4.5, 4.5],\n",
        "    \"OVER\": [-122, -110, -110, -125, -104, -102, 118, -164, 110, -128],\n",
        "    \"UNDER\": [-104, -116, -116, -102, -122, -126, -150, 128, -140, -100],\n",
        "    \"STRIKEOUT\": [5, 5, 4, 6, 0, 8, 4, 3, 8, 6]\n",
        "}\n",
        "\n",
        "df = pd.DataFrame(data)\n",
        "\n",
        "# Define the independent variables (X) and the dependent variable (y)\n",
        "X = df[['ODD', 'OVER', 'UNDER']]\n",
        "y = df['STRIKEOUT']\n",
        "\n",
        "# Add a constant to the model (intercept)\n",
        "X = sm.add_constant(X)\n",
        "\n",
        "# Fit the Poisson regression model\n",
        "poisson_model = sm.GLM(y, X, family=sm.families.Poisson()).fit()\n",
        "\n",
        "# Summary of the model\n",
        "poisson_summary = poisson_model.summary()\n",
        "\n",
        "poisson_summary\n"
      ],
      "metadata": {
        "colab": {
          "base_uri": "https://localhost:8080/",
          "height": 332
        },
        "outputId": "d01dbe7d-ddbe-4e34-8945-e44b35019a9b",
        "id": "bLJA6-mCP6WP"
      },
      "execution_count": 20,
      "outputs": [
        {
          "output_type": "execute_result",
          "data": {
            "text/plain": [
              "<class 'statsmodels.iolib.summary.Summary'>\n",
              "\"\"\"\n",
              "                 Generalized Linear Model Regression Results                  \n",
              "==============================================================================\n",
              "Dep. Variable:              STRIKEOUT   No. Observations:                   10\n",
              "Model:                            GLM   Df Residuals:                        6\n",
              "Model Family:                 Poisson   Df Model:                            3\n",
              "Link Function:                    Log   Scale:                          1.0000\n",
              "Method:                          IRLS   Log-Likelihood:                -20.693\n",
              "Date:                Tue, 06 Aug 2024   Deviance:                       9.7102\n",
              "Time:                        15:13:33   Pearson chi2:                     6.94\n",
              "No. Iterations:                     4   Pseudo R-squ. (CS):             0.3965\n",
              "Covariance Type:            nonrobust                                         \n",
              "==============================================================================\n",
              "                 coef    std err          z      P>|z|      [0.025      0.975]\n",
              "------------------------------------------------------------------------------\n",
              "const         -1.9037      1.803     -1.056      0.291      -5.437       1.630\n",
              "ODD            0.7394      0.388      1.905      0.057      -0.021       1.500\n",
              "OVER          -0.0007      0.002     -0.396      0.692      -0.004       0.003\n",
              "UNDER         -0.0030      0.003     -1.130      0.258      -0.008       0.002\n",
              "==============================================================================\n",
              "\"\"\""
            ],
            "text/html": [
              "<table class=\"simpletable\">\n",
              "<caption>Generalized Linear Model Regression Results</caption>\n",
              "<tr>\n",
              "  <th>Dep. Variable:</th>       <td>STRIKEOUT</td>    <th>  No. Observations:  </th>  <td>    10</td> \n",
              "</tr>\n",
              "<tr>\n",
              "  <th>Model:</th>                  <td>GLM</td>       <th>  Df Residuals:      </th>  <td>     6</td> \n",
              "</tr>\n",
              "<tr>\n",
              "  <th>Model Family:</th>         <td>Poisson</td>     <th>  Df Model:          </th>  <td>     3</td> \n",
              "</tr>\n",
              "<tr>\n",
              "  <th>Link Function:</th>          <td>Log</td>       <th>  Scale:             </th> <td>  1.0000</td>\n",
              "</tr>\n",
              "<tr>\n",
              "  <th>Method:</th>                <td>IRLS</td>       <th>  Log-Likelihood:    </th> <td> -20.693</td>\n",
              "</tr>\n",
              "<tr>\n",
              "  <th>Date:</th>            <td>Tue, 06 Aug 2024</td> <th>  Deviance:          </th> <td>  9.7102</td>\n",
              "</tr>\n",
              "<tr>\n",
              "  <th>Time:</th>                <td>15:13:33</td>     <th>  Pearson chi2:      </th>  <td>  6.94</td> \n",
              "</tr>\n",
              "<tr>\n",
              "  <th>No. Iterations:</th>          <td>4</td>        <th>  Pseudo R-squ. (CS):</th>  <td>0.3965</td> \n",
              "</tr>\n",
              "<tr>\n",
              "  <th>Covariance Type:</th>     <td>nonrobust</td>    <th>                     </th>     <td> </td>   \n",
              "</tr>\n",
              "</table>\n",
              "<table class=\"simpletable\">\n",
              "<tr>\n",
              "    <td></td>       <th>coef</th>     <th>std err</th>      <th>z</th>      <th>P>|z|</th>  <th>[0.025</th>    <th>0.975]</th>  \n",
              "</tr>\n",
              "<tr>\n",
              "  <th>const</th> <td>   -1.9037</td> <td>    1.803</td> <td>   -1.056</td> <td> 0.291</td> <td>   -5.437</td> <td>    1.630</td>\n",
              "</tr>\n",
              "<tr>\n",
              "  <th>ODD</th>   <td>    0.7394</td> <td>    0.388</td> <td>    1.905</td> <td> 0.057</td> <td>   -0.021</td> <td>    1.500</td>\n",
              "</tr>\n",
              "<tr>\n",
              "  <th>OVER</th>  <td>   -0.0007</td> <td>    0.002</td> <td>   -0.396</td> <td> 0.692</td> <td>   -0.004</td> <td>    0.003</td>\n",
              "</tr>\n",
              "<tr>\n",
              "  <th>UNDER</th> <td>   -0.0030</td> <td>    0.003</td> <td>   -1.130</td> <td> 0.258</td> <td>   -0.008</td> <td>    0.002</td>\n",
              "</tr>\n",
              "</table>"
            ],
            "text/latex": "\\begin{center}\n\\begin{tabular}{lclc}\n\\toprule\n\\textbf{Dep. Variable:}   &    STRIKEOUT     & \\textbf{  No. Observations:  } &       10    \\\\\n\\textbf{Model:}           &       GLM        & \\textbf{  Df Residuals:      } &        6    \\\\\n\\textbf{Model Family:}    &     Poisson      & \\textbf{  Df Model:          } &        3    \\\\\n\\textbf{Link Function:}   &       Log        & \\textbf{  Scale:             } &    1.0000   \\\\\n\\textbf{Method:}          &       IRLS       & \\textbf{  Log-Likelihood:    } &   -20.693   \\\\\n\\textbf{Date:}            & Tue, 06 Aug 2024 & \\textbf{  Deviance:          } &    9.7102   \\\\\n\\textbf{Time:}            &     15:13:33     & \\textbf{  Pearson chi2:      } &     6.94    \\\\\n\\textbf{No. Iterations:}  &        4         & \\textbf{  Pseudo R-squ. (CS):} &   0.3965    \\\\\n\\textbf{Covariance Type:} &    nonrobust     & \\textbf{                     } &             \\\\\n\\bottomrule\n\\end{tabular}\n\\begin{tabular}{lcccccc}\n               & \\textbf{coef} & \\textbf{std err} & \\textbf{z} & \\textbf{P$> |$z$|$} & \\textbf{[0.025} & \\textbf{0.975]}  \\\\\n\\midrule\n\\textbf{const} &      -1.9037  &        1.803     &    -1.056  &         0.291        &       -5.437    &        1.630     \\\\\n\\textbf{ODD}   &       0.7394  &        0.388     &     1.905  &         0.057        &       -0.021    &        1.500     \\\\\n\\textbf{OVER}  &      -0.0007  &        0.002     &    -0.396  &         0.692        &       -0.004    &        0.003     \\\\\n\\textbf{UNDER} &      -0.0030  &        0.003     &    -1.130  &         0.258        &       -0.008    &        0.002     \\\\\n\\bottomrule\n\\end{tabular}\n%\\caption{Generalized Linear Model Regression Results}\n\\end{center}"
          },
          "metadata": {},
          "execution_count": 20
        }
      ]
    },
    {
      "cell_type": "code",
      "source": [],
      "metadata": {
        "id": "AlsWXEQkP8_p"
      },
      "execution_count": null,
      "outputs": []
    },
    {
      "cell_type": "code",
      "source": [
        "# New game data\n",
        "new_game = pd.DataFrame({\n",
        "    'const': [1],  # Adding the constant term manually\n",
        "    'ODD': [4.5],\n",
        "    'OVER': [116],\n",
        "    'UNDER': [-148]\n",
        "})\n",
        "\n",
        "# Predict the number of strikeouts\n",
        "predicted_strikeouts = poisson_model.predict(new_game)\n",
        "print(f\"Predicted Strikeouts: {predicted_strikeouts[0]}\")"
      ],
      "metadata": {
        "colab": {
          "base_uri": "https://localhost:8080/"
        },
        "outputId": "22f010a7-2271-46c1-b4ff-780b899e1c2b",
        "id": "w_CiY7kfP9Mb"
      },
      "execution_count": 21,
      "outputs": [
        {
          "output_type": "stream",
          "name": "stdout",
          "text": [
            "Predicted Strikeouts: 5.966447582616319\n"
          ]
        }
      ]
    },
    {
      "cell_type": "markdown",
      "source": [
        "#SONNY GRAY"
      ],
      "metadata": {
        "id": "MTKC0hXYRrr9"
      }
    },
    {
      "cell_type": "code",
      "source": [
        "\n"
      ],
      "metadata": {
        "id": "mOTEC7DeRuAW"
      },
      "execution_count": null,
      "outputs": []
    },
    {
      "cell_type": "code",
      "source": [
        "import pandas as pd\n",
        "import statsmodels.api as sm\n",
        "\n",
        "# Provided dataset\n",
        "data = {\n",
        "    'ODD': [6.5, 6.5, 6.5, 6.5, 6.5, 5.5, 6.5, 6.5, 5.5, 5.5],\n",
        "    'OVER': [-156, -122, -104, 122, -122, -102, 110, 115, -155, -162],\n",
        "    'UNDER': [122, -106, -122, -156, -104, -125, -140, -150, 120, 126],\n",
        "    'STRIKEOUT': [5, 9, 4, 8, 6, 6, 6, 10, 7, 9]\n",
        "}\n",
        "\n",
        "df = pd.DataFrame(data)\n",
        "\n",
        "# Define the independent variables (X) and the dependent variable (y)\n",
        "X = df[['ODD', 'OVER', 'UNDER']]\n",
        "y = df['STRIKEOUT']\n",
        "\n",
        "# Add a constant to the model (intercept)\n",
        "X = sm.add_constant(X)\n",
        "\n",
        "# Fit the Poisson regression model\n",
        "poisson_model = sm.GLM(y, X, family=sm.families.Poisson()).fit()\n",
        "\n",
        "# Summary of the model\n",
        "poisson_summary = poisson_model.summary()\n",
        "\n",
        "poisson_summary\n"
      ],
      "metadata": {
        "colab": {
          "base_uri": "https://localhost:8080/",
          "height": 332
        },
        "outputId": "c9ec3119-e669-441e-a85e-3105642bebc8",
        "id": "KqUJIy8BRyGB"
      },
      "execution_count": 22,
      "outputs": [
        {
          "output_type": "execute_result",
          "data": {
            "text/plain": [
              "<class 'statsmodels.iolib.summary.Summary'>\n",
              "\"\"\"\n",
              "                 Generalized Linear Model Regression Results                  \n",
              "==============================================================================\n",
              "Dep. Variable:              STRIKEOUT   No. Observations:                   10\n",
              "Model:                            GLM   Df Residuals:                        6\n",
              "Model Family:                 Poisson   Df Model:                            3\n",
              "Link Function:                    Log   Scale:                          1.0000\n",
              "Method:                          IRLS   Log-Likelihood:                -20.853\n",
              "Date:                Tue, 06 Aug 2024   Deviance:                       3.9783\n",
              "Time:                        15:20:57   Pearson chi2:                     4.09\n",
              "No. Iterations:                     4   Pseudo R-squ. (CS):            0.09044\n",
              "Covariance Type:            nonrobust                                         \n",
              "==============================================================================\n",
              "                 coef    std err          z      P>|z|      [0.025      0.975]\n",
              "------------------------------------------------------------------------------\n",
              "const          3.0759      1.965      1.566      0.117      -0.775       6.927\n",
              "ODD           -0.1676      0.318     -0.527      0.598      -0.791       0.456\n",
              "OVER           0.0013      0.001      0.901      0.368      -0.002       0.004\n",
              "UNDER          0.0004      0.001      0.297      0.767      -0.002       0.003\n",
              "==============================================================================\n",
              "\"\"\""
            ],
            "text/html": [
              "<table class=\"simpletable\">\n",
              "<caption>Generalized Linear Model Regression Results</caption>\n",
              "<tr>\n",
              "  <th>Dep. Variable:</th>       <td>STRIKEOUT</td>    <th>  No. Observations:  </th>  <td>    10</td> \n",
              "</tr>\n",
              "<tr>\n",
              "  <th>Model:</th>                  <td>GLM</td>       <th>  Df Residuals:      </th>  <td>     6</td> \n",
              "</tr>\n",
              "<tr>\n",
              "  <th>Model Family:</th>         <td>Poisson</td>     <th>  Df Model:          </th>  <td>     3</td> \n",
              "</tr>\n",
              "<tr>\n",
              "  <th>Link Function:</th>          <td>Log</td>       <th>  Scale:             </th> <td>  1.0000</td>\n",
              "</tr>\n",
              "<tr>\n",
              "  <th>Method:</th>                <td>IRLS</td>       <th>  Log-Likelihood:    </th> <td> -20.853</td>\n",
              "</tr>\n",
              "<tr>\n",
              "  <th>Date:</th>            <td>Tue, 06 Aug 2024</td> <th>  Deviance:          </th> <td>  3.9783</td>\n",
              "</tr>\n",
              "<tr>\n",
              "  <th>Time:</th>                <td>15:20:57</td>     <th>  Pearson chi2:      </th>  <td>  4.09</td> \n",
              "</tr>\n",
              "<tr>\n",
              "  <th>No. Iterations:</th>          <td>4</td>        <th>  Pseudo R-squ. (CS):</th>  <td>0.09044</td>\n",
              "</tr>\n",
              "<tr>\n",
              "  <th>Covariance Type:</th>     <td>nonrobust</td>    <th>                     </th>     <td> </td>   \n",
              "</tr>\n",
              "</table>\n",
              "<table class=\"simpletable\">\n",
              "<tr>\n",
              "    <td></td>       <th>coef</th>     <th>std err</th>      <th>z</th>      <th>P>|z|</th>  <th>[0.025</th>    <th>0.975]</th>  \n",
              "</tr>\n",
              "<tr>\n",
              "  <th>const</th> <td>    3.0759</td> <td>    1.965</td> <td>    1.566</td> <td> 0.117</td> <td>   -0.775</td> <td>    6.927</td>\n",
              "</tr>\n",
              "<tr>\n",
              "  <th>ODD</th>   <td>   -0.1676</td> <td>    0.318</td> <td>   -0.527</td> <td> 0.598</td> <td>   -0.791</td> <td>    0.456</td>\n",
              "</tr>\n",
              "<tr>\n",
              "  <th>OVER</th>  <td>    0.0013</td> <td>    0.001</td> <td>    0.901</td> <td> 0.368</td> <td>   -0.002</td> <td>    0.004</td>\n",
              "</tr>\n",
              "<tr>\n",
              "  <th>UNDER</th> <td>    0.0004</td> <td>    0.001</td> <td>    0.297</td> <td> 0.767</td> <td>   -0.002</td> <td>    0.003</td>\n",
              "</tr>\n",
              "</table>"
            ],
            "text/latex": "\\begin{center}\n\\begin{tabular}{lclc}\n\\toprule\n\\textbf{Dep. Variable:}   &    STRIKEOUT     & \\textbf{  No. Observations:  } &       10    \\\\\n\\textbf{Model:}           &       GLM        & \\textbf{  Df Residuals:      } &        6    \\\\\n\\textbf{Model Family:}    &     Poisson      & \\textbf{  Df Model:          } &        3    \\\\\n\\textbf{Link Function:}   &       Log        & \\textbf{  Scale:             } &    1.0000   \\\\\n\\textbf{Method:}          &       IRLS       & \\textbf{  Log-Likelihood:    } &   -20.853   \\\\\n\\textbf{Date:}            & Tue, 06 Aug 2024 & \\textbf{  Deviance:          } &    3.9783   \\\\\n\\textbf{Time:}            &     15:20:57     & \\textbf{  Pearson chi2:      } &     4.09    \\\\\n\\textbf{No. Iterations:}  &        4         & \\textbf{  Pseudo R-squ. (CS):} &  0.09044    \\\\\n\\textbf{Covariance Type:} &    nonrobust     & \\textbf{                     } &             \\\\\n\\bottomrule\n\\end{tabular}\n\\begin{tabular}{lcccccc}\n               & \\textbf{coef} & \\textbf{std err} & \\textbf{z} & \\textbf{P$> |$z$|$} & \\textbf{[0.025} & \\textbf{0.975]}  \\\\\n\\midrule\n\\textbf{const} &       3.0759  &        1.965     &     1.566  &         0.117        &       -0.775    &        6.927     \\\\\n\\textbf{ODD}   &      -0.1676  &        0.318     &    -0.527  &         0.598        &       -0.791    &        0.456     \\\\\n\\textbf{OVER}  &       0.0013  &        0.001     &     0.901  &         0.368        &       -0.002    &        0.004     \\\\\n\\textbf{UNDER} &       0.0004  &        0.001     &     0.297  &         0.767        &       -0.002    &        0.003     \\\\\n\\bottomrule\n\\end{tabular}\n%\\caption{Generalized Linear Model Regression Results}\n\\end{center}"
          },
          "metadata": {},
          "execution_count": 22
        }
      ]
    },
    {
      "cell_type": "code",
      "source": [],
      "metadata": {
        "id": "7dIhgwApR42o"
      },
      "execution_count": null,
      "outputs": []
    },
    {
      "cell_type": "code",
      "source": [
        "# New game data\n",
        "new_game = pd.DataFrame({\n",
        "    'const': [1],  # Adding the constant term manually\n",
        "    'ODD': [6.5],\n",
        "    'OVER': [-145],\n",
        "    'UNDER': [116]\n",
        "})\n",
        "\n",
        "# Predict the number of strikeouts\n",
        "predicted_strikeouts = poisson_model.predict(new_game)\n",
        "print(f\"Predicted Strikeouts: {predicted_strikeouts[0]}\")"
      ],
      "metadata": {
        "colab": {
          "base_uri": "https://localhost:8080/"
        },
        "outputId": "35757dfe-74a2-4a31-82f6-f5ce533a065f",
        "id": "fHjxL68NR5AI"
      },
      "execution_count": 23,
      "outputs": [
        {
          "output_type": "stream",
          "name": "stdout",
          "text": [
            "Predicted Strikeouts: 6.368389479898516\n"
          ]
        }
      ]
    },
    {
      "cell_type": "markdown",
      "source": [
        "#FRAMBER VALDEZ"
      ],
      "metadata": {
        "id": "y5I0HisdVkLo"
      }
    },
    {
      "cell_type": "code",
      "source": [],
      "metadata": {
        "id": "3W49X2WDVpT-"
      },
      "execution_count": null,
      "outputs": []
    },
    {
      "cell_type": "code",
      "source": [
        "import pandas as pd\n",
        "import statsmodels.api as sm\n",
        "\n",
        "# Provided dataset\n",
        "data = {\n",
        "    'ODD': [5.5, 5.5, 5.5, 5.5, 5.5, 4.5, 5.5, 5.5, 5.5, 6.5],\n",
        "    'OVER': [102, 104, -111, 120, 126, -115, -118, -145, 105, -128],\n",
        "    'UNDER': [-130, -132, -115, -152, -162, -111, -108, 110, -140, -100],\n",
        "    'STRIKEOUT': [8, 1, 5, 7, 5, 4, 10, 6, 10, 10]\n",
        "}\n",
        "\n",
        "df = pd.DataFrame(data)\n",
        "\n",
        "# Define the independent variables (X) and the dependent variable (y)\n",
        "X = df[['ODD', 'OVER', 'UNDER']]\n",
        "y = df['STRIKEOUT']\n",
        "\n",
        "# Add a constant to the model (intercept)\n",
        "X = sm.add_constant(X)\n",
        "\n",
        "# Fit the Poisson regression model\n",
        "poisson_model = sm.GLM(y, X, family=sm.families.Poisson()).fit()\n",
        "\n",
        "# Summary of the model\n",
        "poisson_summary = poisson_model.summary()\n",
        "\n",
        "poisson_summary\n"
      ],
      "metadata": {
        "colab": {
          "base_uri": "https://localhost:8080/",
          "height": 332
        },
        "outputId": "5215ea30-6967-4e8f-ba74-b98a2c73f0a0",
        "id": "DFu2PNHjVrzX"
      },
      "execution_count": 25,
      "outputs": [
        {
          "output_type": "execute_result",
          "data": {
            "text/plain": [
              "<class 'statsmodels.iolib.summary.Summary'>\n",
              "\"\"\"\n",
              "                 Generalized Linear Model Regression Results                  \n",
              "==============================================================================\n",
              "Dep. Variable:              STRIKEOUT   No. Observations:                   10\n",
              "Model:                            GLM   Df Residuals:                        6\n",
              "Model Family:                 Poisson   Df Model:                            3\n",
              "Link Function:                    Log   Scale:                          1.0000\n",
              "Method:                          IRLS   Log-Likelihood:                -23.753\n",
              "Date:                Tue, 06 Aug 2024   Deviance:                       11.405\n",
              "Time:                        15:39:18   Pearson chi2:                     9.55\n",
              "No. Iterations:                     4   Pseudo R-squ. (CS):             0.2555\n",
              "Covariance Type:            nonrobust                                         \n",
              "==============================================================================\n",
              "                 coef    std err          z      P>|z|      [0.025      0.975]\n",
              "------------------------------------------------------------------------------\n",
              "const         -0.5177      1.498     -0.346      0.730      -3.453       2.418\n",
              "ODD            0.4185      0.269      1.558      0.119      -0.108       0.945\n",
              "OVER          -0.0006      0.001     -0.486      0.627      -0.003       0.002\n",
              "UNDER         -0.0008      0.002     -0.353      0.724      -0.005       0.003\n",
              "==============================================================================\n",
              "\"\"\""
            ],
            "text/html": [
              "<table class=\"simpletable\">\n",
              "<caption>Generalized Linear Model Regression Results</caption>\n",
              "<tr>\n",
              "  <th>Dep. Variable:</th>       <td>STRIKEOUT</td>    <th>  No. Observations:  </th>  <td>    10</td> \n",
              "</tr>\n",
              "<tr>\n",
              "  <th>Model:</th>                  <td>GLM</td>       <th>  Df Residuals:      </th>  <td>     6</td> \n",
              "</tr>\n",
              "<tr>\n",
              "  <th>Model Family:</th>         <td>Poisson</td>     <th>  Df Model:          </th>  <td>     3</td> \n",
              "</tr>\n",
              "<tr>\n",
              "  <th>Link Function:</th>          <td>Log</td>       <th>  Scale:             </th> <td>  1.0000</td>\n",
              "</tr>\n",
              "<tr>\n",
              "  <th>Method:</th>                <td>IRLS</td>       <th>  Log-Likelihood:    </th> <td> -23.753</td>\n",
              "</tr>\n",
              "<tr>\n",
              "  <th>Date:</th>            <td>Tue, 06 Aug 2024</td> <th>  Deviance:          </th> <td>  11.405</td>\n",
              "</tr>\n",
              "<tr>\n",
              "  <th>Time:</th>                <td>15:39:18</td>     <th>  Pearson chi2:      </th>  <td>  9.55</td> \n",
              "</tr>\n",
              "<tr>\n",
              "  <th>No. Iterations:</th>          <td>4</td>        <th>  Pseudo R-squ. (CS):</th>  <td>0.2555</td> \n",
              "</tr>\n",
              "<tr>\n",
              "  <th>Covariance Type:</th>     <td>nonrobust</td>    <th>                     </th>     <td> </td>   \n",
              "</tr>\n",
              "</table>\n",
              "<table class=\"simpletable\">\n",
              "<tr>\n",
              "    <td></td>       <th>coef</th>     <th>std err</th>      <th>z</th>      <th>P>|z|</th>  <th>[0.025</th>    <th>0.975]</th>  \n",
              "</tr>\n",
              "<tr>\n",
              "  <th>const</th> <td>   -0.5177</td> <td>    1.498</td> <td>   -0.346</td> <td> 0.730</td> <td>   -3.453</td> <td>    2.418</td>\n",
              "</tr>\n",
              "<tr>\n",
              "  <th>ODD</th>   <td>    0.4185</td> <td>    0.269</td> <td>    1.558</td> <td> 0.119</td> <td>   -0.108</td> <td>    0.945</td>\n",
              "</tr>\n",
              "<tr>\n",
              "  <th>OVER</th>  <td>   -0.0006</td> <td>    0.001</td> <td>   -0.486</td> <td> 0.627</td> <td>   -0.003</td> <td>    0.002</td>\n",
              "</tr>\n",
              "<tr>\n",
              "  <th>UNDER</th> <td>   -0.0008</td> <td>    0.002</td> <td>   -0.353</td> <td> 0.724</td> <td>   -0.005</td> <td>    0.003</td>\n",
              "</tr>\n",
              "</table>"
            ],
            "text/latex": "\\begin{center}\n\\begin{tabular}{lclc}\n\\toprule\n\\textbf{Dep. Variable:}   &    STRIKEOUT     & \\textbf{  No. Observations:  } &       10    \\\\\n\\textbf{Model:}           &       GLM        & \\textbf{  Df Residuals:      } &        6    \\\\\n\\textbf{Model Family:}    &     Poisson      & \\textbf{  Df Model:          } &        3    \\\\\n\\textbf{Link Function:}   &       Log        & \\textbf{  Scale:             } &    1.0000   \\\\\n\\textbf{Method:}          &       IRLS       & \\textbf{  Log-Likelihood:    } &   -23.753   \\\\\n\\textbf{Date:}            & Tue, 06 Aug 2024 & \\textbf{  Deviance:          } &    11.405   \\\\\n\\textbf{Time:}            &     15:39:18     & \\textbf{  Pearson chi2:      } &     9.55    \\\\\n\\textbf{No. Iterations:}  &        4         & \\textbf{  Pseudo R-squ. (CS):} &   0.2555    \\\\\n\\textbf{Covariance Type:} &    nonrobust     & \\textbf{                     } &             \\\\\n\\bottomrule\n\\end{tabular}\n\\begin{tabular}{lcccccc}\n               & \\textbf{coef} & \\textbf{std err} & \\textbf{z} & \\textbf{P$> |$z$|$} & \\textbf{[0.025} & \\textbf{0.975]}  \\\\\n\\midrule\n\\textbf{const} &      -0.5177  &        1.498     &    -0.346  &         0.730        &       -3.453    &        2.418     \\\\\n\\textbf{ODD}   &       0.4185  &        0.269     &     1.558  &         0.119        &       -0.108    &        0.945     \\\\\n\\textbf{OVER}  &      -0.0006  &        0.001     &    -0.486  &         0.627        &       -0.003    &        0.002     \\\\\n\\textbf{UNDER} &      -0.0008  &        0.002     &    -0.353  &         0.724        &       -0.005    &        0.003     \\\\\n\\bottomrule\n\\end{tabular}\n%\\caption{Generalized Linear Model Regression Results}\n\\end{center}"
          },
          "metadata": {},
          "execution_count": 25
        }
      ]
    },
    {
      "cell_type": "code",
      "source": [],
      "metadata": {
        "id": "Cct7cnQJVvhW"
      },
      "execution_count": null,
      "outputs": []
    },
    {
      "cell_type": "code",
      "source": [
        "# New game data\n",
        "new_game = pd.DataFrame({\n",
        "    'const': [1],  # Adding the constant term manually\n",
        "    'ODD': [5.5],\n",
        "    'OVER': [-106],\n",
        "    'UNDER': [-120]\n",
        "})\n",
        "\n",
        "# Predict the number of strikeouts\n",
        "predicted_strikeouts = poisson_model.predict(new_game)\n",
        "print(f\"Predicted Strikeouts: {predicted_strikeouts[0]}\")"
      ],
      "metadata": {
        "colab": {
          "base_uri": "https://localhost:8080/"
        },
        "outputId": "52945c62-d355-41aa-82eb-1bfaabcacb31",
        "id": "mj1Bze5HVvtH"
      },
      "execution_count": 26,
      "outputs": [
        {
          "output_type": "stream",
          "name": "stdout",
          "text": [
            "Predicted Strikeouts: 6.972056226362406\n"
          ]
        }
      ]
    },
    {
      "cell_type": "markdown",
      "source": [
        "#PABLO LOPEZ"
      ],
      "metadata": {
        "id": "WrWi53cPbDOq"
      }
    },
    {
      "cell_type": "code",
      "source": [
        "import pandas as pd\n",
        "import statsmodels.api as sm\n",
        "\n",
        "# Provided dataset\n",
        "data = {\n",
        "    'ODD': [6.5, 7.5, 6.5, 6.5, 7.5, 6.5, 7.5, 6.5, 6.5, 6.5],\n",
        "    'OVER': [122, -102, -112, -120, 102, 104, 122, 125, -105, 112],\n",
        "    'UNDER': [-156, -126, -112, -106, -130, -132, -156, -160, -125, -142],\n",
        "    'STRIKEOUT': [4, 5, 3, 14, 9, 6, 5, 7, 7, 7]\n",
        "}\n",
        "\n",
        "df = pd.DataFrame(data)\n",
        "\n",
        "# Define the independent variables (X) and the dependent variable (y)\n",
        "X = df[['ODD', 'OVER', 'UNDER']]\n",
        "y = df['STRIKEOUT']\n",
        "\n",
        "# Add a constant to the model (intercept)\n",
        "X = sm.add_constant(X)\n",
        "\n",
        "# Fit the Poisson regression model\n",
        "poisson_model = sm.GLM(y, X, family=sm.families.Poisson()).fit()\n",
        "\n",
        "# Summary of the model\n",
        "poisson_summary = poisson_model.summary()\n",
        "\n",
        "poisson_summary\n"
      ],
      "metadata": {
        "colab": {
          "base_uri": "https://localhost:8080/",
          "height": 332
        },
        "outputId": "0cd24ffe-84d6-436b-d754-633a57f14ad7",
        "id": "o-IirRJUbCVI"
      },
      "execution_count": 2,
      "outputs": [
        {
          "output_type": "execute_result",
          "data": {
            "text/plain": [
              "<class 'statsmodels.iolib.summary.Summary'>\n",
              "\"\"\"\n",
              "                 Generalized Linear Model Regression Results                  \n",
              "==============================================================================\n",
              "Dep. Variable:              STRIKEOUT   No. Observations:                   10\n",
              "Model:                            GLM   Df Residuals:                        6\n",
              "Model Family:                 Poisson   Df Model:                            3\n",
              "Link Function:                    Log   Scale:                          1.0000\n",
              "Method:                          IRLS   Log-Likelihood:                -22.786\n",
              "Date:                Wed, 07 Aug 2024   Deviance:                       8.7311\n",
              "Time:                        01:41:57   Pearson chi2:                     8.23\n",
              "No. Iterations:                     4   Pseudo R-squ. (CS):             0.2540\n",
              "Covariance Type:            nonrobust                                         \n",
              "==============================================================================\n",
              "                 coef    std err          z      P>|z|      [0.025      0.975]\n",
              "------------------------------------------------------------------------------\n",
              "const          4.7575      2.443      1.947      0.052      -0.031       9.546\n",
              "ODD           -0.0393      0.275     -0.143      0.886      -0.578       0.499\n",
              "OVER           0.0019      0.002      0.943      0.346      -0.002       0.006\n",
              "UNDER          0.0198      0.013      1.551      0.121      -0.005       0.045\n",
              "==============================================================================\n",
              "\"\"\""
            ],
            "text/html": [
              "<table class=\"simpletable\">\n",
              "<caption>Generalized Linear Model Regression Results</caption>\n",
              "<tr>\n",
              "  <th>Dep. Variable:</th>       <td>STRIKEOUT</td>    <th>  No. Observations:  </th>  <td>    10</td> \n",
              "</tr>\n",
              "<tr>\n",
              "  <th>Model:</th>                  <td>GLM</td>       <th>  Df Residuals:      </th>  <td>     6</td> \n",
              "</tr>\n",
              "<tr>\n",
              "  <th>Model Family:</th>         <td>Poisson</td>     <th>  Df Model:          </th>  <td>     3</td> \n",
              "</tr>\n",
              "<tr>\n",
              "  <th>Link Function:</th>          <td>Log</td>       <th>  Scale:             </th> <td>  1.0000</td>\n",
              "</tr>\n",
              "<tr>\n",
              "  <th>Method:</th>                <td>IRLS</td>       <th>  Log-Likelihood:    </th> <td> -22.786</td>\n",
              "</tr>\n",
              "<tr>\n",
              "  <th>Date:</th>            <td>Wed, 07 Aug 2024</td> <th>  Deviance:          </th> <td>  8.7311</td>\n",
              "</tr>\n",
              "<tr>\n",
              "  <th>Time:</th>                <td>01:41:57</td>     <th>  Pearson chi2:      </th>  <td>  8.23</td> \n",
              "</tr>\n",
              "<tr>\n",
              "  <th>No. Iterations:</th>          <td>4</td>        <th>  Pseudo R-squ. (CS):</th>  <td>0.2540</td> \n",
              "</tr>\n",
              "<tr>\n",
              "  <th>Covariance Type:</th>     <td>nonrobust</td>    <th>                     </th>     <td> </td>   \n",
              "</tr>\n",
              "</table>\n",
              "<table class=\"simpletable\">\n",
              "<tr>\n",
              "    <td></td>       <th>coef</th>     <th>std err</th>      <th>z</th>      <th>P>|z|</th>  <th>[0.025</th>    <th>0.975]</th>  \n",
              "</tr>\n",
              "<tr>\n",
              "  <th>const</th> <td>    4.7575</td> <td>    2.443</td> <td>    1.947</td> <td> 0.052</td> <td>   -0.031</td> <td>    9.546</td>\n",
              "</tr>\n",
              "<tr>\n",
              "  <th>ODD</th>   <td>   -0.0393</td> <td>    0.275</td> <td>   -0.143</td> <td> 0.886</td> <td>   -0.578</td> <td>    0.499</td>\n",
              "</tr>\n",
              "<tr>\n",
              "  <th>OVER</th>  <td>    0.0019</td> <td>    0.002</td> <td>    0.943</td> <td> 0.346</td> <td>   -0.002</td> <td>    0.006</td>\n",
              "</tr>\n",
              "<tr>\n",
              "  <th>UNDER</th> <td>    0.0198</td> <td>    0.013</td> <td>    1.551</td> <td> 0.121</td> <td>   -0.005</td> <td>    0.045</td>\n",
              "</tr>\n",
              "</table>"
            ],
            "text/latex": "\\begin{center}\n\\begin{tabular}{lclc}\n\\toprule\n\\textbf{Dep. Variable:}   &    STRIKEOUT     & \\textbf{  No. Observations:  } &       10    \\\\\n\\textbf{Model:}           &       GLM        & \\textbf{  Df Residuals:      } &        6    \\\\\n\\textbf{Model Family:}    &     Poisson      & \\textbf{  Df Model:          } &        3    \\\\\n\\textbf{Link Function:}   &       Log        & \\textbf{  Scale:             } &    1.0000   \\\\\n\\textbf{Method:}          &       IRLS       & \\textbf{  Log-Likelihood:    } &   -22.786   \\\\\n\\textbf{Date:}            & Wed, 07 Aug 2024 & \\textbf{  Deviance:          } &    8.7311   \\\\\n\\textbf{Time:}            &     01:41:57     & \\textbf{  Pearson chi2:      } &     8.23    \\\\\n\\textbf{No. Iterations:}  &        4         & \\textbf{  Pseudo R-squ. (CS):} &   0.2540    \\\\\n\\textbf{Covariance Type:} &    nonrobust     & \\textbf{                     } &             \\\\\n\\bottomrule\n\\end{tabular}\n\\begin{tabular}{lcccccc}\n               & \\textbf{coef} & \\textbf{std err} & \\textbf{z} & \\textbf{P$> |$z$|$} & \\textbf{[0.025} & \\textbf{0.975]}  \\\\\n\\midrule\n\\textbf{const} &       4.7575  &        2.443     &     1.947  &         0.052        &       -0.031    &        9.546     \\\\\n\\textbf{ODD}   &      -0.0393  &        0.275     &    -0.143  &         0.886        &       -0.578    &        0.499     \\\\\n\\textbf{OVER}  &       0.0019  &        0.002     &     0.943  &         0.346        &       -0.002    &        0.006     \\\\\n\\textbf{UNDER} &       0.0198  &        0.013     &     1.551  &         0.121        &       -0.005    &        0.045     \\\\\n\\bottomrule\n\\end{tabular}\n%\\caption{Generalized Linear Model Regression Results}\n\\end{center}"
          },
          "metadata": {},
          "execution_count": 2
        }
      ]
    },
    {
      "cell_type": "code",
      "source": [
        "# New game data\n",
        "new_game = pd.DataFrame({\n",
        "    'const': [1],  # Adding the constant term manually\n",
        "    'ODD': [6.5],\n",
        "    'OVER': [-120],\n",
        "    'UNDER': [-106]\n",
        "})\n",
        "\n",
        "# Predict the number of strikeouts\n",
        "predicted_strikeouts = poisson_model.predict(new_game)\n",
        "print(f\"Predicted Strikeouts: {predicted_strikeouts[0]}\")"
      ],
      "metadata": {
        "colab": {
          "base_uri": "https://localhost:8080/"
        },
        "outputId": "4fb17769-157b-431f-c587-88992078d8bd",
        "id": "02K78u85bHSl"
      },
      "execution_count": 3,
      "outputs": [
        {
          "output_type": "stream",
          "name": "stdout",
          "text": [
            "Predicted Strikeouts: 8.876519067285473\n"
          ]
        }
      ]
    },
    {
      "cell_type": "markdown",
      "source": [
        "#LUIS SEVERINO"
      ],
      "metadata": {
        "id": "bq_ZIRnAcX-v"
      }
    },
    {
      "cell_type": "code",
      "source": [],
      "metadata": {
        "id": "BOoSjQv8caiz"
      },
      "execution_count": null,
      "outputs": []
    },
    {
      "cell_type": "code",
      "source": [
        "import pandas as pd\n",
        "import statsmodels.api as sm\n",
        "\n",
        "# Provided dataset\n",
        "data = {\n",
        "    \"ODD\": [4.5, 5.5, 4.5, 4.5, 4.5, 4.5, 4.5, 4.5, 5.5, 5.5],\n",
        "    \"OVER\": [112, 104, 114, -170, -104, -128, 124, 100, 110, 128],\n",
        "    \"UNDER\": [-142, -130, -146, 132, -122, -100, -158, -135, -145, -164],\n",
        "    \"STRIKEOUT\": [4, 2, 1, 10, 3, 3, 4, 7, 6, 2]\n",
        "}\n",
        "\n",
        "df = pd.DataFrame(data)\n",
        "\n",
        "# Define the independent variables (X) and the dependent variable (y)\n",
        "X = df[['ODD', 'OVER', 'UNDER']]\n",
        "y = df['STRIKEOUT']\n",
        "\n",
        "# Add a constant to the model (intercept)\n",
        "X = sm.add_constant(X)\n",
        "\n",
        "# Fit the Poisson regression model\n",
        "poisson_model = sm.GLM(y, X, family=sm.families.Poisson()).fit()\n",
        "\n",
        "# Summary of the model\n",
        "poisson_summary = poisson_model.summary()\n",
        "\n",
        "poisson_summary\n"
      ],
      "metadata": {
        "colab": {
          "base_uri": "https://localhost:8080/",
          "height": 332
        },
        "outputId": "9b81ae9f-2d03-4c29-e17a-2ab891a4e47c",
        "id": "WyVveH82caxv"
      },
      "execution_count": 30,
      "outputs": [
        {
          "output_type": "execute_result",
          "data": {
            "text/plain": [
              "<class 'statsmodels.iolib.summary.Summary'>\n",
              "\"\"\"\n",
              "                 Generalized Linear Model Regression Results                  \n",
              "==============================================================================\n",
              "Dep. Variable:              STRIKEOUT   No. Observations:                   10\n",
              "Model:                            GLM   Df Residuals:                        6\n",
              "Model Family:                 Poisson   Df Model:                            3\n",
              "Link Function:                    Log   Scale:                          1.0000\n",
              "Method:                          IRLS   Log-Likelihood:                -19.632\n",
              "Date:                Tue, 06 Aug 2024   Deviance:                       7.8992\n",
              "Time:                        16:08:05   Pearson chi2:                     7.56\n",
              "No. Iterations:                     4   Pseudo R-squ. (CS):             0.5161\n",
              "Covariance Type:            nonrobust                                         \n",
              "==============================================================================\n",
              "                 coef    std err          z      P>|z|      [0.025      0.975]\n",
              "------------------------------------------------------------------------------\n",
              "const          2.6930      1.934      1.392      0.164      -1.098       6.484\n",
              "ODD           -0.1689      0.405     -0.417      0.676      -0.962       0.624\n",
              "OVER           0.0019      0.002      0.809      0.419      -0.003       0.007\n",
              "UNDER          0.0053      0.003      2.115      0.034       0.000       0.010\n",
              "==============================================================================\n",
              "\"\"\""
            ],
            "text/html": [
              "<table class=\"simpletable\">\n",
              "<caption>Generalized Linear Model Regression Results</caption>\n",
              "<tr>\n",
              "  <th>Dep. Variable:</th>       <td>STRIKEOUT</td>    <th>  No. Observations:  </th>  <td>    10</td> \n",
              "</tr>\n",
              "<tr>\n",
              "  <th>Model:</th>                  <td>GLM</td>       <th>  Df Residuals:      </th>  <td>     6</td> \n",
              "</tr>\n",
              "<tr>\n",
              "  <th>Model Family:</th>         <td>Poisson</td>     <th>  Df Model:          </th>  <td>     3</td> \n",
              "</tr>\n",
              "<tr>\n",
              "  <th>Link Function:</th>          <td>Log</td>       <th>  Scale:             </th> <td>  1.0000</td>\n",
              "</tr>\n",
              "<tr>\n",
              "  <th>Method:</th>                <td>IRLS</td>       <th>  Log-Likelihood:    </th> <td> -19.632</td>\n",
              "</tr>\n",
              "<tr>\n",
              "  <th>Date:</th>            <td>Tue, 06 Aug 2024</td> <th>  Deviance:          </th> <td>  7.8992</td>\n",
              "</tr>\n",
              "<tr>\n",
              "  <th>Time:</th>                <td>16:08:05</td>     <th>  Pearson chi2:      </th>  <td>  7.56</td> \n",
              "</tr>\n",
              "<tr>\n",
              "  <th>No. Iterations:</th>          <td>4</td>        <th>  Pseudo R-squ. (CS):</th>  <td>0.5161</td> \n",
              "</tr>\n",
              "<tr>\n",
              "  <th>Covariance Type:</th>     <td>nonrobust</td>    <th>                     </th>     <td> </td>   \n",
              "</tr>\n",
              "</table>\n",
              "<table class=\"simpletable\">\n",
              "<tr>\n",
              "    <td></td>       <th>coef</th>     <th>std err</th>      <th>z</th>      <th>P>|z|</th>  <th>[0.025</th>    <th>0.975]</th>  \n",
              "</tr>\n",
              "<tr>\n",
              "  <th>const</th> <td>    2.6930</td> <td>    1.934</td> <td>    1.392</td> <td> 0.164</td> <td>   -1.098</td> <td>    6.484</td>\n",
              "</tr>\n",
              "<tr>\n",
              "  <th>ODD</th>   <td>   -0.1689</td> <td>    0.405</td> <td>   -0.417</td> <td> 0.676</td> <td>   -0.962</td> <td>    0.624</td>\n",
              "</tr>\n",
              "<tr>\n",
              "  <th>OVER</th>  <td>    0.0019</td> <td>    0.002</td> <td>    0.809</td> <td> 0.419</td> <td>   -0.003</td> <td>    0.007</td>\n",
              "</tr>\n",
              "<tr>\n",
              "  <th>UNDER</th> <td>    0.0053</td> <td>    0.003</td> <td>    2.115</td> <td> 0.034</td> <td>    0.000</td> <td>    0.010</td>\n",
              "</tr>\n",
              "</table>"
            ],
            "text/latex": "\\begin{center}\n\\begin{tabular}{lclc}\n\\toprule\n\\textbf{Dep. Variable:}   &    STRIKEOUT     & \\textbf{  No. Observations:  } &       10    \\\\\n\\textbf{Model:}           &       GLM        & \\textbf{  Df Residuals:      } &        6    \\\\\n\\textbf{Model Family:}    &     Poisson      & \\textbf{  Df Model:          } &        3    \\\\\n\\textbf{Link Function:}   &       Log        & \\textbf{  Scale:             } &    1.0000   \\\\\n\\textbf{Method:}          &       IRLS       & \\textbf{  Log-Likelihood:    } &   -19.632   \\\\\n\\textbf{Date:}            & Tue, 06 Aug 2024 & \\textbf{  Deviance:          } &    7.8992   \\\\\n\\textbf{Time:}            &     16:08:05     & \\textbf{  Pearson chi2:      } &     7.56    \\\\\n\\textbf{No. Iterations:}  &        4         & \\textbf{  Pseudo R-squ. (CS):} &   0.5161    \\\\\n\\textbf{Covariance Type:} &    nonrobust     & \\textbf{                     } &             \\\\\n\\bottomrule\n\\end{tabular}\n\\begin{tabular}{lcccccc}\n               & \\textbf{coef} & \\textbf{std err} & \\textbf{z} & \\textbf{P$> |$z$|$} & \\textbf{[0.025} & \\textbf{0.975]}  \\\\\n\\midrule\n\\textbf{const} &       2.6930  &        1.934     &     1.392  &         0.164        &       -1.098    &        6.484     \\\\\n\\textbf{ODD}   &      -0.1689  &        0.405     &    -0.417  &         0.676        &       -0.962    &        0.624     \\\\\n\\textbf{OVER}  &       0.0019  &        0.002     &     0.809  &         0.419        &       -0.003    &        0.007     \\\\\n\\textbf{UNDER} &       0.0053  &        0.003     &     2.115  &         0.034        &        0.000    &        0.010     \\\\\n\\bottomrule\n\\end{tabular}\n%\\caption{Generalized Linear Model Regression Results}\n\\end{center}"
          },
          "metadata": {},
          "execution_count": 30
        }
      ]
    },
    {
      "cell_type": "code",
      "source": [],
      "metadata": {
        "id": "3XNAD0v6cg0W"
      },
      "execution_count": null,
      "outputs": []
    },
    {
      "cell_type": "code",
      "source": [
        "# New game data\n",
        "new_game = pd.DataFrame({\n",
        "    'const': [1],  # Adding the constant term manually\n",
        "    'ODD': [4.5],\n",
        "    'OVER': [-115],\n",
        "    'UNDER': [-113]\n",
        "})\n",
        "\n",
        "# Predict the number of strikeouts\n",
        "predicted_strikeouts = poisson_model.predict(new_game)\n",
        "print(f\"Predicted Strikeouts: {predicted_strikeouts[0]}\")"
      ],
      "metadata": {
        "colab": {
          "base_uri": "https://localhost:8080/"
        },
        "outputId": "78728e97-4f63-43c0-87fc-f4a161716b95",
        "id": "uI2EOIF6chAt"
      },
      "execution_count": 31,
      "outputs": [
        {
          "output_type": "stream",
          "name": "stdout",
          "text": [
            "Predicted Strikeouts: 3.0266912108859976\n"
          ]
        }
      ]
    },
    {
      "cell_type": "markdown",
      "source": [
        "#LUIS CASTILLA"
      ],
      "metadata": {
        "id": "LXRJQBbBddOI"
      }
    },
    {
      "cell_type": "code",
      "source": [],
      "metadata": {
        "id": "GY48ouJedfOA"
      },
      "execution_count": null,
      "outputs": []
    },
    {
      "cell_type": "code",
      "source": [
        "import pandas as pd\n",
        "import statsmodels.api as sm\n",
        "\n",
        "# Provided dataset\n",
        "data = {\n",
        "    'ODD': [5.5, 6.5, 4.5, 6.5, 5.5, 5.5, 5.5, 5.5, 5.5, 5.5],\n",
        "    'OVER': [114, -100, 122, 102, -150, -106, -130, -120, -165, -102],\n",
        "    'UNDER': [-146, -128, -156, -130, 118, -122, 102, -110, 130, -125],\n",
        "    'STRIKEOUT': [4, 7, 4, 4, 3, 8, 5, 3, 7, 4]\n",
        "}\n",
        "\n",
        "df = pd.DataFrame(data)\n",
        "\n",
        "# Define the independent variables (X) and the dependent variable (y)\n",
        "X = df[['ODD', 'OVER', 'UNDER']]\n",
        "y = df['STRIKEOUT']\n",
        "\n",
        "# Add a constant to the model (intercept)\n",
        "X = sm.add_constant(X)\n",
        "\n",
        "# Fit the Poisson regression model\n",
        "poisson_model = sm.GLM(y, X, family=sm.families.Poisson()).fit()\n",
        "\n",
        "# Summary of the model\n",
        "poisson_summary = poisson_model.summary()\n",
        "\n",
        "poisson_summary\n"
      ],
      "metadata": {
        "colab": {
          "base_uri": "https://localhost:8080/",
          "height": 332
        },
        "outputId": "da167700-92eb-4548-a00e-83ac28e25cc0",
        "id": "Kv_25248dfkl"
      },
      "execution_count": 33,
      "outputs": [
        {
          "output_type": "execute_result",
          "data": {
            "text/plain": [
              "<class 'statsmodels.iolib.summary.Summary'>\n",
              "\"\"\"\n",
              "                 Generalized Linear Model Regression Results                  \n",
              "==============================================================================\n",
              "Dep. Variable:              STRIKEOUT   No. Observations:                   10\n",
              "Model:                            GLM   Df Residuals:                        6\n",
              "Model Family:                 Poisson   Df Model:                            3\n",
              "Link Function:                    Log   Scale:                          1.0000\n",
              "Method:                          IRLS   Log-Likelihood:                -19.375\n",
              "Date:                Tue, 06 Aug 2024   Deviance:                       4.6687\n",
              "Time:                        16:12:58   Pearson chi2:                     4.57\n",
              "No. Iterations:                     4   Pseudo R-squ. (CS):            0.09353\n",
              "Covariance Type:            nonrobust                                         \n",
              "==============================================================================\n",
              "                 coef    std err          z      P>|z|      [0.025      0.975]\n",
              "------------------------------------------------------------------------------\n",
              "const          0.8024      1.580      0.508      0.612      -2.294       3.899\n",
              "ODD            0.1201      0.284      0.423      0.672      -0.436       0.676\n",
              "OVER          -0.0014      0.002     -0.785      0.433      -0.005       0.002\n",
              "UNDER         -0.0005      0.002     -0.335      0.737      -0.004       0.003\n",
              "==============================================================================\n",
              "\"\"\""
            ],
            "text/html": [
              "<table class=\"simpletable\">\n",
              "<caption>Generalized Linear Model Regression Results</caption>\n",
              "<tr>\n",
              "  <th>Dep. Variable:</th>       <td>STRIKEOUT</td>    <th>  No. Observations:  </th>  <td>    10</td> \n",
              "</tr>\n",
              "<tr>\n",
              "  <th>Model:</th>                  <td>GLM</td>       <th>  Df Residuals:      </th>  <td>     6</td> \n",
              "</tr>\n",
              "<tr>\n",
              "  <th>Model Family:</th>         <td>Poisson</td>     <th>  Df Model:          </th>  <td>     3</td> \n",
              "</tr>\n",
              "<tr>\n",
              "  <th>Link Function:</th>          <td>Log</td>       <th>  Scale:             </th> <td>  1.0000</td>\n",
              "</tr>\n",
              "<tr>\n",
              "  <th>Method:</th>                <td>IRLS</td>       <th>  Log-Likelihood:    </th> <td> -19.375</td>\n",
              "</tr>\n",
              "<tr>\n",
              "  <th>Date:</th>            <td>Tue, 06 Aug 2024</td> <th>  Deviance:          </th> <td>  4.6687</td>\n",
              "</tr>\n",
              "<tr>\n",
              "  <th>Time:</th>                <td>16:12:58</td>     <th>  Pearson chi2:      </th>  <td>  4.57</td> \n",
              "</tr>\n",
              "<tr>\n",
              "  <th>No. Iterations:</th>          <td>4</td>        <th>  Pseudo R-squ. (CS):</th>  <td>0.09353</td>\n",
              "</tr>\n",
              "<tr>\n",
              "  <th>Covariance Type:</th>     <td>nonrobust</td>    <th>                     </th>     <td> </td>   \n",
              "</tr>\n",
              "</table>\n",
              "<table class=\"simpletable\">\n",
              "<tr>\n",
              "    <td></td>       <th>coef</th>     <th>std err</th>      <th>z</th>      <th>P>|z|</th>  <th>[0.025</th>    <th>0.975]</th>  \n",
              "</tr>\n",
              "<tr>\n",
              "  <th>const</th> <td>    0.8024</td> <td>    1.580</td> <td>    0.508</td> <td> 0.612</td> <td>   -2.294</td> <td>    3.899</td>\n",
              "</tr>\n",
              "<tr>\n",
              "  <th>ODD</th>   <td>    0.1201</td> <td>    0.284</td> <td>    0.423</td> <td> 0.672</td> <td>   -0.436</td> <td>    0.676</td>\n",
              "</tr>\n",
              "<tr>\n",
              "  <th>OVER</th>  <td>   -0.0014</td> <td>    0.002</td> <td>   -0.785</td> <td> 0.433</td> <td>   -0.005</td> <td>    0.002</td>\n",
              "</tr>\n",
              "<tr>\n",
              "  <th>UNDER</th> <td>   -0.0005</td> <td>    0.002</td> <td>   -0.335</td> <td> 0.737</td> <td>   -0.004</td> <td>    0.003</td>\n",
              "</tr>\n",
              "</table>"
            ],
            "text/latex": "\\begin{center}\n\\begin{tabular}{lclc}\n\\toprule\n\\textbf{Dep. Variable:}   &    STRIKEOUT     & \\textbf{  No. Observations:  } &       10    \\\\\n\\textbf{Model:}           &       GLM        & \\textbf{  Df Residuals:      } &        6    \\\\\n\\textbf{Model Family:}    &     Poisson      & \\textbf{  Df Model:          } &        3    \\\\\n\\textbf{Link Function:}   &       Log        & \\textbf{  Scale:             } &    1.0000   \\\\\n\\textbf{Method:}          &       IRLS       & \\textbf{  Log-Likelihood:    } &   -19.375   \\\\\n\\textbf{Date:}            & Tue, 06 Aug 2024 & \\textbf{  Deviance:          } &    4.6687   \\\\\n\\textbf{Time:}            &     16:12:58     & \\textbf{  Pearson chi2:      } &     4.57    \\\\\n\\textbf{No. Iterations:}  &        4         & \\textbf{  Pseudo R-squ. (CS):} &  0.09353    \\\\\n\\textbf{Covariance Type:} &    nonrobust     & \\textbf{                     } &             \\\\\n\\bottomrule\n\\end{tabular}\n\\begin{tabular}{lcccccc}\n               & \\textbf{coef} & \\textbf{std err} & \\textbf{z} & \\textbf{P$> |$z$|$} & \\textbf{[0.025} & \\textbf{0.975]}  \\\\\n\\midrule\n\\textbf{const} &       0.8024  &        1.580     &     0.508  &         0.612        &       -2.294    &        3.899     \\\\\n\\textbf{ODD}   &       0.1201  &        0.284     &     0.423  &         0.672        &       -0.436    &        0.676     \\\\\n\\textbf{OVER}  &      -0.0014  &        0.002     &    -0.785  &         0.433        &       -0.005    &        0.002     \\\\\n\\textbf{UNDER} &      -0.0005  &        0.002     &    -0.335  &         0.737        &       -0.004    &        0.003     \\\\\n\\bottomrule\n\\end{tabular}\n%\\caption{Generalized Linear Model Regression Results}\n\\end{center}"
          },
          "metadata": {},
          "execution_count": 33
        }
      ]
    },
    {
      "cell_type": "code",
      "source": [],
      "metadata": {
        "id": "Xt6csbqsdl9y"
      },
      "execution_count": null,
      "outputs": []
    },
    {
      "cell_type": "code",
      "source": [
        "# New game data\n",
        "new_game = pd.DataFrame({\n",
        "    'const': [1],  # Adding the constant term manually\n",
        "    'ODD': [6.5],\n",
        "    'OVER': [-122],\n",
        "    'UNDER': [-104]\n",
        "})\n",
        "\n",
        "# Predict the number of strikeouts\n",
        "predicted_strikeouts = poisson_model.predict(new_game)\n",
        "print(f\"Predicted Strikeouts: {predicted_strikeouts[0]}\")"
      ],
      "metadata": {
        "colab": {
          "base_uri": "https://localhost:8080/"
        },
        "outputId": "e3d72957-2dd1-4f70-9c39-6255342912aa",
        "id": "0h4QPYgMdmKq"
      },
      "execution_count": 34,
      "outputs": [
        {
          "output_type": "stream",
          "name": "stdout",
          "text": [
            "Predicted Strikeouts: 6.086340566644807\n"
          ]
        }
      ]
    },
    {
      "cell_type": "markdown",
      "source": [
        "#ROSS STRIPLING"
      ],
      "metadata": {
        "id": "Qkn4HFRleiA6"
      }
    },
    {
      "cell_type": "code",
      "source": [],
      "metadata": {
        "id": "vCRPKm_hekNQ"
      },
      "execution_count": null,
      "outputs": []
    },
    {
      "cell_type": "code",
      "source": [
        "import pandas as pd\n",
        "import statsmodels.api as sm\n",
        "\n",
        "# Provided dataset\n",
        "data = {\n",
        "    'ODD': [3.5, 3.5, 3.5, 4.5, 3.5, 3.5, 2.5, 3.5, 2.5, 3.5],\n",
        "    'OVER': [-164, -128, -136, -104, -112, 122, -146, 122, -105, -132],\n",
        "    'UNDER': [128, -100, 108, -122, -112, -156, 114, -156, -120, 104],\n",
        "    'STRIKEOUT': [4, 4, 3, 2, 2, 1, 2, 3, 3, 0]\n",
        "}\n",
        "\n",
        "df = pd.DataFrame(data)\n",
        "\n",
        "# Define the independent variables (X) and the dependent variable (y)\n",
        "X = df[['ODD', 'OVER', 'UNDER']]\n",
        "y = df['STRIKEOUT']\n",
        "\n",
        "# Add a constant to the model (intercept)\n",
        "X = sm.add_constant(X)\n",
        "\n",
        "# Fit the Poisson regression model\n",
        "poisson_model = sm.GLM(y, X, family=sm.families.Poisson()).fit()\n",
        "\n",
        "# Summary of the model\n",
        "poisson_summary = poisson_model.summary()\n",
        "\n",
        "poisson_summary\n"
      ],
      "metadata": {
        "colab": {
          "base_uri": "https://localhost:8080/",
          "height": 332
        },
        "outputId": "37c8b10f-9ebf-41ec-8724-38a2020f53d9",
        "id": "fQJjG54teloA"
      },
      "execution_count": 36,
      "outputs": [
        {
          "output_type": "execute_result",
          "data": {
            "text/plain": [
              "<class 'statsmodels.iolib.summary.Summary'>\n",
              "\"\"\"\n",
              "                 Generalized Linear Model Regression Results                  \n",
              "==============================================================================\n",
              "Dep. Variable:              STRIKEOUT   No. Observations:                   10\n",
              "Model:                            GLM   Df Residuals:                        6\n",
              "Model Family:                 Poisson   Df Model:                            3\n",
              "Link Function:                    Log   Scale:                          1.0000\n",
              "Method:                          IRLS   Log-Likelihood:                -16.510\n",
              "Date:                Tue, 06 Aug 2024   Deviance:                       7.6727\n",
              "Time:                        16:17:51   Pearson chi2:                     5.77\n",
              "No. Iterations:                     4   Pseudo R-squ. (CS):            0.05619\n",
              "Covariance Type:            nonrobust                                         \n",
              "==============================================================================\n",
              "                 coef    std err          z      P>|z|      [0.025      0.975]\n",
              "------------------------------------------------------------------------------\n",
              "const          0.9987      1.288      0.775      0.438      -1.526       3.523\n",
              "ODD           -0.0953      0.370     -0.258      0.797      -0.820       0.630\n",
              "OVER          -0.0019      0.003     -0.699      0.485      -0.007       0.003\n",
              "UNDER         -0.0012      0.002     -0.541      0.588      -0.006       0.003\n",
              "==============================================================================\n",
              "\"\"\""
            ],
            "text/html": [
              "<table class=\"simpletable\">\n",
              "<caption>Generalized Linear Model Regression Results</caption>\n",
              "<tr>\n",
              "  <th>Dep. Variable:</th>       <td>STRIKEOUT</td>    <th>  No. Observations:  </th>  <td>    10</td> \n",
              "</tr>\n",
              "<tr>\n",
              "  <th>Model:</th>                  <td>GLM</td>       <th>  Df Residuals:      </th>  <td>     6</td> \n",
              "</tr>\n",
              "<tr>\n",
              "  <th>Model Family:</th>         <td>Poisson</td>     <th>  Df Model:          </th>  <td>     3</td> \n",
              "</tr>\n",
              "<tr>\n",
              "  <th>Link Function:</th>          <td>Log</td>       <th>  Scale:             </th> <td>  1.0000</td>\n",
              "</tr>\n",
              "<tr>\n",
              "  <th>Method:</th>                <td>IRLS</td>       <th>  Log-Likelihood:    </th> <td> -16.510</td>\n",
              "</tr>\n",
              "<tr>\n",
              "  <th>Date:</th>            <td>Tue, 06 Aug 2024</td> <th>  Deviance:          </th> <td>  7.6727</td>\n",
              "</tr>\n",
              "<tr>\n",
              "  <th>Time:</th>                <td>16:17:51</td>     <th>  Pearson chi2:      </th>  <td>  5.77</td> \n",
              "</tr>\n",
              "<tr>\n",
              "  <th>No. Iterations:</th>          <td>4</td>        <th>  Pseudo R-squ. (CS):</th>  <td>0.05619</td>\n",
              "</tr>\n",
              "<tr>\n",
              "  <th>Covariance Type:</th>     <td>nonrobust</td>    <th>                     </th>     <td> </td>   \n",
              "</tr>\n",
              "</table>\n",
              "<table class=\"simpletable\">\n",
              "<tr>\n",
              "    <td></td>       <th>coef</th>     <th>std err</th>      <th>z</th>      <th>P>|z|</th>  <th>[0.025</th>    <th>0.975]</th>  \n",
              "</tr>\n",
              "<tr>\n",
              "  <th>const</th> <td>    0.9987</td> <td>    1.288</td> <td>    0.775</td> <td> 0.438</td> <td>   -1.526</td> <td>    3.523</td>\n",
              "</tr>\n",
              "<tr>\n",
              "  <th>ODD</th>   <td>   -0.0953</td> <td>    0.370</td> <td>   -0.258</td> <td> 0.797</td> <td>   -0.820</td> <td>    0.630</td>\n",
              "</tr>\n",
              "<tr>\n",
              "  <th>OVER</th>  <td>   -0.0019</td> <td>    0.003</td> <td>   -0.699</td> <td> 0.485</td> <td>   -0.007</td> <td>    0.003</td>\n",
              "</tr>\n",
              "<tr>\n",
              "  <th>UNDER</th> <td>   -0.0012</td> <td>    0.002</td> <td>   -0.541</td> <td> 0.588</td> <td>   -0.006</td> <td>    0.003</td>\n",
              "</tr>\n",
              "</table>"
            ],
            "text/latex": "\\begin{center}\n\\begin{tabular}{lclc}\n\\toprule\n\\textbf{Dep. Variable:}   &    STRIKEOUT     & \\textbf{  No. Observations:  } &       10    \\\\\n\\textbf{Model:}           &       GLM        & \\textbf{  Df Residuals:      } &        6    \\\\\n\\textbf{Model Family:}    &     Poisson      & \\textbf{  Df Model:          } &        3    \\\\\n\\textbf{Link Function:}   &       Log        & \\textbf{  Scale:             } &    1.0000   \\\\\n\\textbf{Method:}          &       IRLS       & \\textbf{  Log-Likelihood:    } &   -16.510   \\\\\n\\textbf{Date:}            & Tue, 06 Aug 2024 & \\textbf{  Deviance:          } &    7.6727   \\\\\n\\textbf{Time:}            &     16:17:51     & \\textbf{  Pearson chi2:      } &     5.77    \\\\\n\\textbf{No. Iterations:}  &        4         & \\textbf{  Pseudo R-squ. (CS):} &  0.05619    \\\\\n\\textbf{Covariance Type:} &    nonrobust     & \\textbf{                     } &             \\\\\n\\bottomrule\n\\end{tabular}\n\\begin{tabular}{lcccccc}\n               & \\textbf{coef} & \\textbf{std err} & \\textbf{z} & \\textbf{P$> |$z$|$} & \\textbf{[0.025} & \\textbf{0.975]}  \\\\\n\\midrule\n\\textbf{const} &       0.9987  &        1.288     &     0.775  &         0.438        &       -1.526    &        3.523     \\\\\n\\textbf{ODD}   &      -0.0953  &        0.370     &    -0.258  &         0.797        &       -0.820    &        0.630     \\\\\n\\textbf{OVER}  &      -0.0019  &        0.003     &    -0.699  &         0.485        &       -0.007    &        0.003     \\\\\n\\textbf{UNDER} &      -0.0012  &        0.002     &    -0.541  &         0.588        &       -0.006    &        0.003     \\\\\n\\bottomrule\n\\end{tabular}\n%\\caption{Generalized Linear Model Regression Results}\n\\end{center}"
          },
          "metadata": {},
          "execution_count": 36
        }
      ]
    },
    {
      "cell_type": "code",
      "source": [
        "# New game data\n",
        "new_game = pd.DataFrame({\n",
        "    'const': [1],  # Adding the constant term manually\n",
        "    'ODD': [3.5],\n",
        "    'OVER': [-106],\n",
        "    'UNDER': [-122]\n",
        "})\n",
        "\n",
        "# Predict the number of strikeouts\n",
        "predicted_strikeouts = poisson_model.predict(new_game)\n",
        "print(f\"Predicted Strikeouts: {predicted_strikeouts[0]}\")"
      ],
      "metadata": {
        "colab": {
          "base_uri": "https://localhost:8080/"
        },
        "outputId": "bb86e6eb-cc7b-419b-9f08-c42af51161ed",
        "id": "06IR3aKYewx8"
      },
      "execution_count": 37,
      "outputs": [
        {
          "output_type": "stream",
          "name": "stdout",
          "text": [
            "Predicted Strikeouts: 2.7603577921285045\n"
          ]
        }
      ]
    },
    {
      "cell_type": "code",
      "source": [],
      "metadata": {
        "id": "HblmJT5DfyiA"
      },
      "execution_count": null,
      "outputs": []
    }
  ]
}