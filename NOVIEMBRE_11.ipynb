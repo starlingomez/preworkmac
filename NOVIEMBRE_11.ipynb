{
  "nbformat": 4,
  "nbformat_minor": 0,
  "metadata": {
    "colab": {
      "provenance": [],
      "authorship_tag": "ABX9TyNmkcsaEHwVnq3EhmFgsEqU",
      "include_colab_link": true
    },
    "kernelspec": {
      "name": "python3",
      "display_name": "Python 3"
    },
    "language_info": {
      "name": "python"
    }
  },
  "cells": [
    {
      "cell_type": "markdown",
      "metadata": {
        "id": "view-in-github",
        "colab_type": "text"
      },
      "source": [
        "<a href=\"https://colab.research.google.com/github/starlingomez/preworkmac/blob/master/NOVIEMBRE_11.ipynb\" target=\"_parent\"><img src=\"https://colab.research.google.com/assets/colab-badge.svg\" alt=\"Open In Colab\"/></a>"
      ]
    },
    {
      "cell_type": "code",
      "execution_count": null,
      "metadata": {
        "id": "STeuEYl0oEs0"
      },
      "outputs": [],
      "source": []
    },
    {
      "cell_type": "markdown",
      "source": [
        "#GIANNIS"
      ],
      "metadata": {
        "id": "LZe-wlNNoHE4"
      }
    },
    {
      "cell_type": "code",
      "execution_count": null,
      "metadata": {
        "colab": {
          "base_uri": "https://localhost:8080/"
        },
        "id": "VU0_HSxqls0M",
        "outputId": "62f219ef-4803-49b9-ea20-1e827693ac6b"
      },
      "outputs": [
        {
          "output_type": "stream",
          "name": "stdout",
          "text": [
            "Linear Regression CV R^2 Score: -28.1540\n",
            "Ridge Regression CV R^2 Score: -24.0946\n",
            "Lasso Regression CV R^2 Score: -26.0404\n",
            "\n",
            "Best Model: Ridge Regression\n",
            "\n",
            "Predicted Total Rebounds for new data [11.5, -110.0, -120.0]: 13.33\n"
          ]
        }
      ],
      "source": [
        "import numpy as np\n",
        "import pandas as pd\n",
        "from sklearn.linear_model import LinearRegression, Ridge, Lasso\n",
        "from sklearn.model_selection import cross_val_score, KFold\n",
        "from sklearn.preprocessing import StandardScaler\n",
        "from sklearn.pipeline import Pipeline\n",
        "import warnings\n",
        "\n",
        "# Suppress warnings for cleaner output\n",
        "warnings.filterwarnings('ignore')\n",
        "\n",
        "# Define the dataset\n",
        "data = {\n",
        "    'LINE': [11.5, 11.5, 11.5, 11.5, 11.5, 11.5, 11.5, 11.5, 10.5, 13.5],\n",
        "    'OVER': [-110, -130, -125, 100, 100, 100, -125, -130, -122, 110],\n",
        "    'UNDER': [-120, 100, -105, -130, -130, -130, -105, 106, -100, -134],\n",
        "    'total_reb': [16, 16, 11, 10, 12, 11, 14, 8, 15, 7]\n",
        "}\n",
        "\n",
        "# Create a DataFrame\n",
        "df = pd.DataFrame(data)\n",
        "\n",
        "# Features and target\n",
        "X = df[['LINE', 'OVER', 'UNDER']].values\n",
        "y = df['total_reb'].values\n",
        "\n",
        "# Define new data for prediction\n",
        "new_data = np.array([[11.5, -110, -120]])\n",
        "\n",
        "# Define models to evaluate\n",
        "models = {\n",
        "    'Linear Regression': LinearRegression(),\n",
        "    'Ridge Regression': Ridge(alpha=1.0),\n",
        "    'Lasso Regression': Lasso(alpha=0.1)\n",
        "}\n",
        "\n",
        "# Prepare to store model performance\n",
        "model_scores = {}\n",
        "\n",
        "# Define cross-validation strategy\n",
        "kf = KFold(n_splits=5, shuffle=True, random_state=42)\n",
        "\n",
        "# Evaluate each model using cross-validation\n",
        "for name, model in models.items():\n",
        "    # Create a pipeline with scaling and the model\n",
        "    pipeline = Pipeline([\n",
        "        ('scaler', StandardScaler()),\n",
        "        ('regressor', model)\n",
        "    ])\n",
        "\n",
        "    # Calculate cross-validated R^2 scores\n",
        "    scores = cross_val_score(pipeline, X, y, cv=kf, scoring='r2')\n",
        "\n",
        "    # Store the mean score\n",
        "    model_scores[name] = scores.mean()\n",
        "    print(f\"{name} CV R^2 Score: {scores.mean():.4f}\")\n",
        "\n",
        "# Select the best model\n",
        "best_model_name = max(model_scores, key=model_scores.get)\n",
        "best_model = models[best_model_name]\n",
        "\n",
        "print(f\"\\nBest Model: {best_model_name}\")\n",
        "\n",
        "# Create a pipeline with scaling and the best model\n",
        "final_pipeline = Pipeline([\n",
        "    ('scaler', StandardScaler()),\n",
        "    ('regressor', best_model)\n",
        "])\n",
        "\n",
        "# Train the best model on the entire dataset\n",
        "final_pipeline.fit(X, y)\n",
        "\n",
        "# Make a prediction on the new data\n",
        "predicted_reb = final_pipeline.predict(new_data)[0]\n",
        "\n",
        "print(f\"\\nPredicted Total Rebounds for new data {new_data.tolist()[0]}: {predicted_reb:.2f}\")\n",
        "\n"
      ]
    },
    {
      "cell_type": "markdown",
      "source": [
        "#VICTOR WEMBY"
      ],
      "metadata": {
        "id": "xORBo7x7roM2"
      }
    },
    {
      "cell_type": "code",
      "source": [],
      "metadata": {
        "id": "n79QAurcrqQ2"
      },
      "execution_count": null,
      "outputs": []
    },
    {
      "cell_type": "code",
      "execution_count": null,
      "metadata": {
        "colab": {
          "base_uri": "https://localhost:8080/"
        },
        "outputId": "e3f631ef-f742-4ce6-b1b9-00730c89e1a3",
        "id": "R3o96M7Urrm_"
      },
      "outputs": [
        {
          "output_type": "stream",
          "name": "stdout",
          "text": [
            "Linear Regression CV R^2 Score: -3.3482\n",
            "Ridge Regression CV R^2 Score: -0.2659\n",
            "Lasso Regression CV R^2 Score: -0.4102\n",
            "\n",
            "Best Model: Ridge Regression\n",
            "\n",
            "Predicted Total Rebounds for new data [10.5, -142.0, 110.0]: 7.11\n"
          ]
        }
      ],
      "source": [
        "import numpy as np\n",
        "import pandas as pd\n",
        "from sklearn.linear_model import LinearRegression, Ridge, Lasso\n",
        "from sklearn.model_selection import cross_val_score, KFold\n",
        "from sklearn.preprocessing import StandardScaler\n",
        "from sklearn.pipeline import Pipeline\n",
        "import warnings\n",
        "\n",
        "# Suppress warnings for cleaner output\n",
        "warnings.filterwarnings('ignore')\n",
        "\n",
        "# Define the dataset\n",
        "data = {\n",
        "    'LINE': [11.5, 11.5, 10.5, 10.5, 11.5, 11.5, 11.5, 11.5, 11.5, 10.5],\n",
        "    'OVER': [100, -135, 100, -130, 105, -135, 100, 100, -110, 102],\n",
        "    'UNDER': [-130, 105, -130, 100, -135, 105, -130, -130, -120, -124],\n",
        "    'TOTAL_REB': [8, 6, 13, 6, 9, 8, 20, 7, 9, 12]\n",
        "}\n",
        "\n",
        "# Create a DataFrame\n",
        "df = pd.DataFrame(data)\n",
        "\n",
        "# Features and target\n",
        "X = df[['LINE', 'OVER', 'UNDER']].values\n",
        "y = df['TOTAL_REB'].values\n",
        "\n",
        "# Define new data for prediction\n",
        "new_data = np.array([[10.5, -142, 110]])\n",
        "\n",
        "# Define models to evaluate\n",
        "models = {\n",
        "    'Linear Regression': LinearRegression(),\n",
        "    'Ridge Regression': Ridge(alpha=1.0),\n",
        "    'Lasso Regression': Lasso(alpha=0.1)\n",
        "}\n",
        "\n",
        "# Prepare to store model performance\n",
        "model_scores = {}\n",
        "\n",
        "# Define cross-validation strategy\n",
        "kf = KFold(n_splits=5, shuffle=True, random_state=42)\n",
        "\n",
        "# Evaluate each model using cross-validation\n",
        "for name, model in models.items():\n",
        "    # Create a pipeline with scaling and the model\n",
        "    pipeline = Pipeline([\n",
        "        ('scaler', StandardScaler()),\n",
        "        ('regressor', model)\n",
        "    ])\n",
        "\n",
        "    # Calculate cross-validated R^2 scores\n",
        "    scores = cross_val_score(pipeline, X, y, cv=kf, scoring='r2')\n",
        "\n",
        "    # Store the mean score\n",
        "    model_scores[name] = scores.mean()\n",
        "    print(f\"{name} CV R^2 Score: {scores.mean():.4f}\")\n",
        "\n",
        "# Select the best model\n",
        "best_model_name = max(model_scores, key=model_scores.get)\n",
        "best_model = models[best_model_name]\n",
        "\n",
        "print(f\"\\nBest Model: {best_model_name}\")\n",
        "\n",
        "# Create a pipeline with scaling and the best model\n",
        "final_pipeline = Pipeline([\n",
        "    ('scaler', StandardScaler()),\n",
        "    ('regressor', best_model)\n",
        "])\n",
        "\n",
        "# Train the best model on the entire dataset\n",
        "final_pipeline.fit(X, y)\n",
        "\n",
        "# Make a prediction on the new data\n",
        "predicted_reb = final_pipeline.predict(new_data)[0]\n",
        "\n",
        "print(f\"\\nPredicted Total Rebounds for new data {new_data.tolist()[0]}: {predicted_reb:.2f}\")\n",
        "\n"
      ]
    },
    {
      "cell_type": "markdown",
      "source": [
        "#JAKOB POELTL"
      ],
      "metadata": {
        "id": "QNjfLxPovDIU"
      }
    },
    {
      "cell_type": "code",
      "source": [],
      "metadata": {
        "id": "EtIsejNuvGAX"
      },
      "execution_count": null,
      "outputs": []
    },
    {
      "cell_type": "code",
      "execution_count": null,
      "metadata": {
        "colab": {
          "base_uri": "https://localhost:8080/"
        },
        "outputId": "de858ae7-d59e-47a4-ce25-4507ac6e232e",
        "id": "_-IfV5fdvHkd"
      },
      "outputs": [
        {
          "output_type": "stream",
          "name": "stdout",
          "text": [
            "Linear Regression CV R^2 Score: nan\n",
            "Ridge Regression CV R^2 Score: nan\n",
            "Lasso Regression CV R^2 Score: nan\n",
            "\n",
            "Best Model: Linear Regression\n",
            "\n",
            "Predicted Total Rebounds for new data [10.5, 105.0, -132.0]: 8.74\n"
          ]
        }
      ],
      "source": [
        "import numpy as np\n",
        "import pandas as pd\n",
        "from sklearn.linear_model import LinearRegression, Ridge, Lasso\n",
        "from sklearn.model_selection import cross_val_score, KFold\n",
        "from sklearn.preprocessing import StandardScaler\n",
        "from sklearn.pipeline import Pipeline\n",
        "import warnings\n",
        "\n",
        "# Suppress warnings for cleaner output\n",
        "warnings.filterwarnings('ignore')\n",
        "\n",
        "# Define the dataset\n",
        "data = {\n",
        "    'LINE': [11.5, 10.5, 11.5, 9.5, 10.5, 7.5, 8.5, 9.5, 8.5],\n",
        "    'OVER': [105, -125, -110, -145, -115, -145, 110, -110, -105],\n",
        "    'UNDER': [-135, -105, -120, 114, -115, 114, -140, -120, -125],\n",
        "    'TOTAL_REB': [8, 11, 9, 12, 16, 19, 10, 9, 9]\n",
        "}\n",
        "\n",
        "# Create a DataFrame\n",
        "df = pd.DataFrame(data)\n",
        "\n",
        "# Features and target\n",
        "X = df[['LINE', 'OVER', 'UNDER']].values\n",
        "y = df['TOTAL_REB'].values\n",
        "\n",
        "# Define new data for prediction\n",
        "new_data = np.array([[10.5, 105, -132]])\n",
        "\n",
        "# Define models to evaluate\n",
        "models = {\n",
        "    'Linear Regression': LinearRegression(),\n",
        "    'Ridge Regression': Ridge(alpha=1.0),\n",
        "    'Lasso Regression': Lasso(alpha=0.1)\n",
        "}\n",
        "\n",
        "# Prepare to store model performance\n",
        "model_scores = {}\n",
        "\n",
        "# Define cross-validation strategy\n",
        "kf = KFold(n_splits=5, shuffle=True, random_state=42)\n",
        "\n",
        "# Evaluate each model using cross-validation\n",
        "for name, model in models.items():\n",
        "    # Create a pipeline with scaling and the model\n",
        "    pipeline = Pipeline([\n",
        "        ('scaler', StandardScaler()),\n",
        "        ('regressor', model)\n",
        "    ])\n",
        "\n",
        "    # Calculate cross-validated R^2 scores\n",
        "    scores = cross_val_score(pipeline, X, y, cv=kf, scoring='r2')\n",
        "\n",
        "    # Store the mean score\n",
        "    model_scores[name] = scores.mean()\n",
        "    print(f\"{name} CV R^2 Score: {scores.mean():.4f}\")\n",
        "\n",
        "# Select the best model\n",
        "best_model_name = max(model_scores, key=model_scores.get)\n",
        "best_model = models[best_model_name]\n",
        "\n",
        "print(f\"\\nBest Model: {best_model_name}\")\n",
        "\n",
        "# Create a pipeline with scaling and the best model\n",
        "final_pipeline = Pipeline([\n",
        "    ('scaler', StandardScaler()),\n",
        "    ('regressor', best_model)\n",
        "])\n",
        "\n",
        "# Train the best model on the entire dataset\n",
        "final_pipeline.fit(X, y)\n",
        "\n",
        "# Make a prediction on the new data\n",
        "predicted_reb = final_pipeline.predict(new_data)[0]\n",
        "\n",
        "print(f\"\\nPredicted Total Rebounds for new data {new_data.tolist()[0]}: {predicted_reb:.2f}\")\n",
        "\n"
      ]
    },
    {
      "cell_type": "markdown",
      "source": [
        "#NIKOLA VUCEVIC"
      ],
      "metadata": {
        "id": "MRIi8Ivbwxrr"
      }
    },
    {
      "cell_type": "code",
      "source": [],
      "metadata": {
        "id": "uMJRpgDcw2G6"
      },
      "execution_count": null,
      "outputs": []
    },
    {
      "cell_type": "code",
      "execution_count": null,
      "metadata": {
        "colab": {
          "base_uri": "https://localhost:8080/"
        },
        "outputId": "a4a9d272-a588-4ab5-86fd-a6680b725c6c",
        "id": "24F6-SM1w2Vl"
      },
      "outputs": [
        {
          "output_type": "stream",
          "name": "stdout",
          "text": [
            "Linear Regression CV R^2 Score: -12.5659\n",
            "Ridge Regression CV R^2 Score: -11.2983\n",
            "Lasso Regression CV R^2 Score: -11.1710\n",
            "\n",
            "Best Model: Lasso Regression\n",
            "\n",
            "Predicted Total Rebounds for new data [10.5, 105.0, -132.0]: 17.74\n"
          ]
        }
      ],
      "source": [
        "import numpy as np\n",
        "import pandas as pd\n",
        "from sklearn.linear_model import LinearRegression, Ridge, Lasso\n",
        "from sklearn.model_selection import cross_val_score, KFold\n",
        "from sklearn.preprocessing import StandardScaler\n",
        "from sklearn.pipeline import Pipeline\n",
        "import warnings\n",
        "\n",
        "# Suppress warnings for cleaner output\n",
        "warnings.filterwarnings('ignore')\n",
        "\n",
        "# Define the dataset\n",
        "data = {\n",
        "    'LINE': [9.5, 10.5, 10.5, 10.5, 9.5, 10.5, 10.5, 10.5, 10.5, 10.5],\n",
        "    'OVER': [-125, -125, -135, -120, -120, -130, -125, -105, -115, -128],\n",
        "    'UNDER': [-105, -105, 105, -110, -110, 100, -105, -125, -115, 104],\n",
        "    'TOTAL_REB': [5, 10, 10, 11, 14, 7, 13, 10, 11, 14]\n",
        "}\n",
        "\n",
        "# Create a DataFrame\n",
        "df = pd.DataFrame(data)\n",
        "\n",
        "# Features and target\n",
        "X = df[['LINE', 'OVER', 'UNDER']].values\n",
        "y = df['TOTAL_REB'].values\n",
        "\n",
        "# Define new data for prediction\n",
        "new_data = np.array([[10.5, 105, -132]])\n",
        "\n",
        "# Define models to evaluate\n",
        "models = {\n",
        "    'Linear Regression': LinearRegression(),\n",
        "    'Ridge Regression': Ridge(alpha=1.0),\n",
        "    'Lasso Regression': Lasso(alpha=0.1)\n",
        "}\n",
        "\n",
        "# Prepare to store model performance\n",
        "model_scores = {}\n",
        "\n",
        "# Define cross-validation strategy\n",
        "kf = KFold(n_splits=5, shuffle=True, random_state=42)\n",
        "\n",
        "# Evaluate each model using cross-validation\n",
        "for name, model in models.items():\n",
        "    # Create a pipeline with scaling and the model\n",
        "    pipeline = Pipeline([\n",
        "        ('scaler', StandardScaler()),\n",
        "        ('regressor', model)\n",
        "    ])\n",
        "\n",
        "    # Calculate cross-validated R^2 scores\n",
        "    scores = cross_val_score(pipeline, X, y, cv=kf, scoring='r2')\n",
        "\n",
        "    # Store the mean score\n",
        "    model_scores[name] = scores.mean()\n",
        "    print(f\"{name} CV R^2 Score: {scores.mean():.4f}\")\n",
        "\n",
        "# Select the best model\n",
        "best_model_name = max(model_scores, key=model_scores.get)\n",
        "best_model = models[best_model_name]\n",
        "\n",
        "print(f\"\\nBest Model: {best_model_name}\")\n",
        "\n",
        "# Create a pipeline with scaling and the best model\n",
        "final_pipeline = Pipeline([\n",
        "    ('scaler', StandardScaler()),\n",
        "    ('regressor', best_model)\n",
        "])\n",
        "\n",
        "# Train the best model on the entire dataset\n",
        "final_pipeline.fit(X, y)\n",
        "\n",
        "# Make a prediction on the new data\n",
        "predicted_reb = final_pipeline.predict(new_data)[0]\n",
        "\n",
        "print(f\"\\nPredicted Total Rebounds for new data {new_data.tolist()[0]}: {predicted_reb:.2f}\")\n",
        "\n"
      ]
    },
    {
      "cell_type": "markdown",
      "source": [
        "#JAMES HARDEN\n"
      ],
      "metadata": {
        "id": "0t-I5vfy_8KY"
      }
    },
    {
      "cell_type": "code",
      "source": [],
      "metadata": {
        "id": "M41Uq_Oi_-HC"
      },
      "execution_count": null,
      "outputs": []
    },
    {
      "cell_type": "code",
      "execution_count": null,
      "metadata": {
        "colab": {
          "base_uri": "https://localhost:8080/"
        },
        "outputId": "252b912c-29b0-48a5-9163-26bee1eb0473",
        "id": "eIcto3K-__lU"
      },
      "outputs": [
        {
          "output_type": "stream",
          "name": "stdout",
          "text": [
            "Linear Regression CV R^2 Score: -32.1306\n",
            "Ridge Regression CV R^2 Score: -25.7256\n",
            "Lasso Regression CV R^2 Score: -26.9462\n",
            "\n",
            "Best Model: Ridge Regression\n",
            "\n",
            "Predicted Total Rebounds for new data [6.5, 120.0, -154.0]: 8.83\n"
          ]
        }
      ],
      "source": [
        "import numpy as np\n",
        "import pandas as pd\n",
        "from sklearn.linear_model import LinearRegression, Ridge, Lasso\n",
        "from sklearn.model_selection import cross_val_score, KFold\n",
        "from sklearn.preprocessing import StandardScaler\n",
        "from sklearn.pipeline import Pipeline\n",
        "import warnings\n",
        "\n",
        "# Suppress warnings for cleaner output\n",
        "warnings.filterwarnings('ignore')\n",
        "\n",
        "# Define the dataset\n",
        "data = {\n",
        "    'LINE': [5.5, 6.5, 6.5, 6.5, 5.5, 5.5, 5.5, 5.5, 5.5, 4.5],\n",
        "    'OVER': [-135, -105, 115, 100, -135, -130, -115, 114, -110, -134],\n",
        "    'UNDER': [105, -125, -148, -130, 105, 100, -115, -145, -120, 110],\n",
        "    'TOTAL_REB': [4, 4, 8, 13, 10, 5, 7, 6, 12, 7]\n",
        "}\n",
        "\n",
        "# Create a DataFrame\n",
        "df = pd.DataFrame(data)\n",
        "\n",
        "# Features and target\n",
        "X = df[['LINE', 'OVER', 'UNDER']].values\n",
        "y = df['TOTAL_REB'].values\n",
        "\n",
        "# Define new data for prediction\n",
        "new_data = np.array([[6.5, 120, -154]])\n",
        "\n",
        "# Define models to evaluate\n",
        "models = {\n",
        "    'Linear Regression': LinearRegression(),\n",
        "    'Ridge Regression': Ridge(alpha=1.0),\n",
        "    'Lasso Regression': Lasso(alpha=0.1)\n",
        "}\n",
        "\n",
        "# Prepare to store model performance\n",
        "model_scores = {}\n",
        "\n",
        "# Define cross-validation strategy\n",
        "kf = KFold(n_splits=5, shuffle=True, random_state=42)\n",
        "\n",
        "# Evaluate each model using cross-validation\n",
        "for name, model in models.items():\n",
        "    # Create a pipeline with scaling and the model\n",
        "    pipeline = Pipeline([\n",
        "        ('scaler', StandardScaler()),\n",
        "        ('regressor', model)\n",
        "    ])\n",
        "\n",
        "    # Calculate cross-validated R^2 scores\n",
        "    scores = cross_val_score(pipeline, X, y, cv=kf, scoring='r2')\n",
        "\n",
        "    # Store the mean score\n",
        "    model_scores[name] = scores.mean()\n",
        "    print(f\"{name} CV R^2 Score: {scores.mean():.4f}\")\n",
        "\n",
        "# Select the best model\n",
        "best_model_name = max(model_scores, key=model_scores.get)\n",
        "best_model = models[best_model_name]\n",
        "\n",
        "print(f\"\\nBest Model: {best_model_name}\")\n",
        "\n",
        "# Create a pipeline with scaling and the best model\n",
        "final_pipeline = Pipeline([\n",
        "    ('scaler', StandardScaler()),\n",
        "    ('regressor', best_model)\n",
        "])\n",
        "\n",
        "# Train the best model on the entire dataset\n",
        "final_pipeline.fit(X, y)\n",
        "\n",
        "# Make a prediction on the new data\n",
        "predicted_reb = final_pipeline.predict(new_data)[0]\n",
        "\n",
        "print(f\"\\nPredicted Total Rebounds for new data {new_data.tolist()[0]}: {predicted_reb:.2f}\")\n",
        "\n"
      ]
    },
    {
      "cell_type": "markdown",
      "source": [
        "#EVAN MOBLEY"
      ],
      "metadata": {
        "id": "VU14TQjrBxFm"
      }
    },
    {
      "cell_type": "code",
      "source": [],
      "metadata": {
        "id": "kYAt0aUGBwYj"
      },
      "execution_count": null,
      "outputs": []
    },
    {
      "cell_type": "code",
      "execution_count": null,
      "metadata": {
        "colab": {
          "base_uri": "https://localhost:8080/"
        },
        "outputId": "3d1a020c-349c-4e7f-d745-7a349c7289f4",
        "id": "QAlgNqxnBzU7"
      },
      "outputs": [
        {
          "output_type": "stream",
          "name": "stdout",
          "text": [
            "Linear Regression CV R^2 Score: -1.4735\n",
            "Ridge Regression CV R^2 Score: -10.7710\n",
            "Lasso Regression CV R^2 Score: -11.0830\n",
            "\n",
            "Best Model: Linear Regression\n",
            "\n",
            "Predicted Total Rebounds for new data [8.5, 105.0, -130.0]: -196.70\n"
          ]
        }
      ],
      "source": [
        "import numpy as np\n",
        "import pandas as pd\n",
        "from sklearn.linear_model import LinearRegression, Ridge, Lasso\n",
        "from sklearn.model_selection import cross_val_score, KFold\n",
        "from sklearn.preprocessing import StandardScaler\n",
        "from sklearn.pipeline import Pipeline\n",
        "import warnings\n",
        "\n",
        "# Suppress warnings for cleaner output\n",
        "warnings.filterwarnings('ignore')\n",
        "\n",
        "# Define the dataset\n",
        "data = {\n",
        "    'LINE': [9.5, 8.5, 9.5, 8.5, 8.5, 8.5, 9.5, 9.5, 9.5, 9.5],\n",
        "    'OVER': [105, -115, 105, -142, -120, -140, 100, 100, 100, 100],\n",
        "    'UNDER': [-135, -115, -135, 110, -110, 110, -130, -130, -130, -130],\n",
        "    'TOTAL_REB': [4, 9, 5, 7, 12, 5, 8, 13, 6, 9]\n",
        "}\n",
        "\n",
        "# Create a DataFrame\n",
        "df = pd.DataFrame(data)\n",
        "\n",
        "# Features and target\n",
        "X = df[['LINE', 'OVER', 'UNDER']].values\n",
        "y = df['TOTAL_REB'].values\n",
        "\n",
        "# Define new data for prediction\n",
        "new_data = np.array([[8.5, 105, -130]])\n",
        "\n",
        "# Define models to evaluate\n",
        "models = {\n",
        "    'Linear Regression': LinearRegression(),\n",
        "    'Ridge Regression': Ridge(alpha=1.0),\n",
        "    'Lasso Regression': Lasso(alpha=0.1)\n",
        "}\n",
        "\n",
        "# Prepare to store model performance\n",
        "model_scores = {}\n",
        "\n",
        "# Define cross-validation strategy\n",
        "kf = KFold(n_splits=5, shuffle=True, random_state=42)\n",
        "\n",
        "# Evaluate each model using cross-validation\n",
        "for name, model in models.items():\n",
        "    # Create a pipeline with scaling and the model\n",
        "    pipeline = Pipeline([\n",
        "        ('scaler', StandardScaler()),\n",
        "        ('regressor', model)\n",
        "    ])\n",
        "\n",
        "    # Calculate cross-validated R^2 scores\n",
        "    scores = cross_val_score(pipeline, X, y, cv=kf, scoring='r2')\n",
        "\n",
        "    # Store the mean score\n",
        "    model_scores[name] = scores.mean()\n",
        "    print(f\"{name} CV R^2 Score: {scores.mean():.4f}\")\n",
        "\n",
        "# Select the best model\n",
        "best_model_name = max(model_scores, key=model_scores.get)\n",
        "best_model = models[best_model_name]\n",
        "\n",
        "print(f\"\\nBest Model: {best_model_name}\")\n",
        "\n",
        "# Create a pipeline with scaling and the best model\n",
        "final_pipeline = Pipeline([\n",
        "    ('scaler', StandardScaler()),\n",
        "    ('regressor', best_model)\n",
        "])\n",
        "\n",
        "# Train the best model on the entire dataset\n",
        "final_pipeline.fit(X, y)\n",
        "\n",
        "# Make a prediction on the new data\n",
        "predicted_reb = final_pipeline.predict(new_data)[0]\n",
        "\n",
        "print(f\"\\nPredicted Total Rebounds for new data {new_data.tolist()[0]}: {predicted_reb:.2f}\")\n",
        "\n"
      ]
    },
    {
      "cell_type": "markdown",
      "source": [
        "#JARRET ALLEN"
      ],
      "metadata": {
        "id": "ZtZg0K6fDbLw"
      }
    },
    {
      "cell_type": "code",
      "source": [],
      "metadata": {
        "id": "tTdo3YvdDc9h"
      },
      "execution_count": null,
      "outputs": []
    },
    {
      "cell_type": "code",
      "execution_count": null,
      "metadata": {
        "colab": {
          "base_uri": "https://localhost:8080/"
        },
        "outputId": "5952747d-9be0-4355-feab-97d148577fa3",
        "id": "E3O5SnCCDh5x"
      },
      "outputs": [
        {
          "output_type": "stream",
          "name": "stdout",
          "text": [
            "Linear Regression CV R^2 Score: -4.2754\n",
            "Ridge Regression CV R^2 Score: -3.2568\n",
            "Lasso Regression CV R^2 Score: -3.6639\n",
            "\n",
            "Best Model: Ridge Regression\n",
            "\n",
            "Predicted Total Rebounds for new data [11.5, -105.0, -125.0]: 10.55\n"
          ]
        }
      ],
      "source": [
        "import numpy as np\n",
        "import pandas as pd\n",
        "from sklearn.linear_model import LinearRegression, Ridge, Lasso\n",
        "from sklearn.model_selection import cross_val_score, KFold\n",
        "from sklearn.preprocessing import StandardScaler\n",
        "from sklearn.pipeline import Pipeline\n",
        "import warnings\n",
        "\n",
        "# Suppress warnings for cleaner output\n",
        "warnings.filterwarnings('ignore')\n",
        "\n",
        "# Define the dataset\n",
        "data = {\n",
        "    'LINE': [11.5, 11.5, 11.5, 10.5, 10.5, 9.5, 9.5, 10.5, 10.5, 10.5],\n",
        "    'OVER': [-110, -110, -130, -110, 100, -130, -120, -120, 110, -110],\n",
        "    'UNDER': [-120, -120, 100, -120, -130, 100, -110, -110, -140, -120],\n",
        "    'TOTAL_REB': [12, 14, 15, 12, 11, 17, 15, 5, 11, 7]\n",
        "}\n",
        "\n",
        "# Create a DataFrame\n",
        "df = pd.DataFrame(data)\n",
        "\n",
        "# Features and target\n",
        "X = df[['LINE', 'OVER', 'UNDER']].values\n",
        "y = df['TOTAL_REB'].values\n",
        "\n",
        "# Define new data for prediction\n",
        "new_data = np.array([[11.5, -105, -125]])\n",
        "\n",
        "# Define models to evaluate\n",
        "models = {\n",
        "    'Linear Regression': LinearRegression(),\n",
        "    'Ridge Regression': Ridge(alpha=1.0),\n",
        "    'Lasso Regression': Lasso(alpha=0.1)\n",
        "}\n",
        "\n",
        "# Prepare to store model performance\n",
        "model_scores = {}\n",
        "\n",
        "# Define cross-validation strategy\n",
        "kf = KFold(n_splits=5, shuffle=True, random_state=42)\n",
        "\n",
        "# Evaluate each model using cross-validation\n",
        "for name, model in models.items():\n",
        "    # Create a pipeline with scaling and the model\n",
        "    pipeline = Pipeline([\n",
        "        ('scaler', StandardScaler()),\n",
        "        ('regressor', model)\n",
        "    ])\n",
        "\n",
        "    # Calculate cross-validated R^2 scores\n",
        "    scores = cross_val_score(pipeline, X, y, cv=kf, scoring='r2')\n",
        "\n",
        "    # Store the mean score\n",
        "    model_scores[name] = scores.mean()\n",
        "    print(f\"{name} CV R^2 Score: {scores.mean():.4f}\")\n",
        "\n",
        "# Select the best model\n",
        "best_model_name = max(model_scores, key=model_scores.get)\n",
        "best_model = models[best_model_name]\n",
        "\n",
        "print(f\"\\nBest Model: {best_model_name}\")\n",
        "\n",
        "# Create a pipeline with scaling and the best model\n",
        "final_pipeline = Pipeline([\n",
        "    ('scaler', StandardScaler()),\n",
        "    ('regressor', best_model)\n",
        "])\n",
        "\n",
        "# Train the best model on the entire dataset\n",
        "final_pipeline.fit(X, y)\n",
        "\n",
        "# Make a prediction on the new data\n",
        "predicted_reb = final_pipeline.predict(new_data)[0]\n",
        "\n",
        "print(f\"\\nPredicted Total Rebounds for new data {new_data.tolist()[0]}: {predicted_reb:.2f}\")\n",
        "\n"
      ]
    },
    {
      "cell_type": "markdown",
      "source": [
        "#NIC CLAXTON"
      ],
      "metadata": {
        "id": "ro-G9JWbFfsk"
      }
    },
    {
      "cell_type": "code",
      "source": [],
      "metadata": {
        "id": "5trI41drFh10"
      },
      "execution_count": null,
      "outputs": []
    },
    {
      "cell_type": "code",
      "execution_count": null,
      "metadata": {
        "colab": {
          "base_uri": "https://localhost:8080/"
        },
        "outputId": "88e2d142-1969-49f6-ee4b-62e0fd7a0e65",
        "id": "gKU4_QmZFiFK"
      },
      "outputs": [
        {
          "output_type": "stream",
          "name": "stdout",
          "text": [
            "Linear Regression CV R^2 Score: -15.4434\n",
            "Ridge Regression CV R^2 Score: -13.4862\n",
            "Lasso Regression CV R^2 Score: -13.8747\n",
            "\n",
            "Best Model: Ridge Regression\n",
            "\n",
            "Predicted Total Rebounds for new data [8.5, -140.0, 115.0]: 8.71\n"
          ]
        }
      ],
      "source": [
        "import numpy as np\n",
        "import pandas as pd\n",
        "from sklearn.linear_model import LinearRegression, Ridge, Lasso\n",
        "from sklearn.model_selection import cross_val_score, KFold\n",
        "from sklearn.preprocessing import StandardScaler\n",
        "from sklearn.pipeline import Pipeline\n",
        "import warnings\n",
        "\n",
        "# Suppress warnings for cleaner output\n",
        "warnings.filterwarnings('ignore')\n",
        "\n",
        "# Define the dataset\n",
        "data = {\n",
        "    'LINE': [8.5, 8.5, 8.5, 8.5, 8.5, 8.5, 6.5, 8.5, 9.5, 8.5],\n",
        "    'OVER': [-140, -135, -100, -140, -120, -105, -145, -145, -112, -128],\n",
        "    'UNDER': [114, 105, -122, 110, -110, -125, 114, 114, -108, 104],\n",
        "    'TOTAL_REB': [10, 8, 1, 9, 12, 11, 5, 5, 8, 12]\n",
        "}\n",
        "\n",
        "# Create a DataFrame\n",
        "df = pd.DataFrame(data)\n",
        "\n",
        "# Features and target\n",
        "X = df[['LINE', 'OVER', 'UNDER']].values\n",
        "y = df['TOTAL_REB'].values\n",
        "\n",
        "# Define new data for prediction\n",
        "new_data = np.array([[8.5, -140, 115]])\n",
        "\n",
        "# Define models to evaluate\n",
        "models = {\n",
        "    'Linear Regression': LinearRegression(),\n",
        "    'Ridge Regression': Ridge(alpha=1.0),\n",
        "    'Lasso Regression': Lasso(alpha=0.1)\n",
        "}\n",
        "\n",
        "# Prepare to store model performance\n",
        "model_scores = {}\n",
        "\n",
        "# Define cross-validation strategy\n",
        "kf = KFold(n_splits=5, shuffle=True, random_state=42)\n",
        "\n",
        "# Evaluate each model using cross-validation\n",
        "for name, model in models.items():\n",
        "    # Create a pipeline with scaling and the model\n",
        "    pipeline = Pipeline([\n",
        "        ('scaler', StandardScaler()),\n",
        "        ('regressor', model)\n",
        "    ])\n",
        "\n",
        "    # Calculate cross-validated R^2 scores\n",
        "    scores = cross_val_score(pipeline, X, y, cv=kf, scoring='r2')\n",
        "\n",
        "    # Store the mean score\n",
        "    model_scores[name] = scores.mean()\n",
        "    print(f\"{name} CV R^2 Score: {scores.mean():.4f}\")\n",
        "\n",
        "# Select the best model\n",
        "best_model_name = max(model_scores, key=model_scores.get)\n",
        "best_model = models[best_model_name]\n",
        "\n",
        "print(f\"\\nBest Model: {best_model_name}\")\n",
        "\n",
        "# Create a pipeline with scaling and the best model\n",
        "final_pipeline = Pipeline([\n",
        "    ('scaler', StandardScaler()),\n",
        "    ('regressor', best_model)\n",
        "])\n",
        "\n",
        "# Train the best model on the entire dataset\n",
        "final_pipeline.fit(X, y)\n",
        "\n",
        "# Make a prediction on the new data\n",
        "predicted_reb = final_pipeline.predict(new_data)[0]\n",
        "\n",
        "print(f\"\\nPredicted Total Rebounds for new data {new_data.tolist()[0]}: {predicted_reb:.2f}\")\n",
        "\n"
      ]
    }
  ]
}